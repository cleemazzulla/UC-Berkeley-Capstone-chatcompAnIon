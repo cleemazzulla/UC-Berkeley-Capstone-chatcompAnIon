{
 "cells": [
  {
   "cell_type": "markdown",
   "metadata": {
    "id": "q13kDnOpv9zZ"
   },
   "source": [
    "# 1 Setting up Pyspark"
   ]
  },
  {
   "cell_type": "code",
   "execution_count": 1,
   "metadata": {
    "executionInfo": {
     "elapsed": 50840,
     "status": "ok",
     "timestamp": 1708716309734,
     "user": {
      "displayName": "Sunny Shin",
      "userId": "07563865141827084443"
     },
     "user_tz": 480
    },
    "id": "rqgMTz4U4KRK"
   },
   "outputs": [],
   "source": [
    "# Install Java\n",
    "# !apt-get install openjdk-8-jdk-headless -qq > /dev/null\n",
    "\n",
    "# Download Spark\n",
    "# !wget -q https://downloads.apache.org/spark/spark-3.5.1/spark-3.5.1-bin-hadoop3.tgz\n",
    "\n",
    "# Unzip the file\n",
    "# !tar xf spark-3.5.1-bin-hadoop3.tgz\n",
    "\n",
    "# Setup environment for Spark\n",
    "import os\n",
    "os.environ[\"JAVA_HOME\"] = \"/usr/lib/jvm/java-8-openjdk-amd64\"\n",
    "os.environ[\"SPARK_HOME\"] = '/home/ubuntu/spark-3.5.1-bin-hadoop3'\n",
    "\n",
    "# Import findspark and load it\n",
    "# !pip install -q findspark\n",
    "import findspark\n",
    "findspark.init()\n",
    "\n",
    "# Install spark-nlp\n",
    "# !pip install spark-nlp\n",
    "# import sparknlp\n",
    "# from sparknlp.base import *\n",
    "# from sparknlp.annotator import *\n",
    "# from sparknlp.common import *\n",
    "\n",
    "# Create Spark session\n",
    "from pyspark.sql import SparkSession\n",
    "# spark = SparkSession.builder\\\n",
    "#         .master(\"local\")\\\n",
    "#         .appName(\"Colab\")\\\n",
    "#         .config('spark.ui.port', '4050')\\\n",
    "#         .getOrCreate()\n",
    "\n",
    "# Start Spark Session with Spark NLP\n",
    "# spark = sparknlp.start()"
   ]
  },
  {
   "cell_type": "code",
   "execution_count": 2,
   "metadata": {
    "colab": {
     "base_uri": "https://localhost:8080/",
     "height": 373
    },
    "executionInfo": {
     "elapsed": 231,
     "status": "ok",
     "timestamp": 1708584028839,
     "user": {
      "displayName": "Sunny Shin",
      "userId": "07563865141827084443"
     },
     "user_tz": 480
    },
    "id": "EAHj-cKh-Tu3",
    "outputId": "ac72b9c8-1080-4a71-db58-9b95399a708b"
   },
   "outputs": [],
   "source": [
    "# spark"
   ]
  },
  {
   "cell_type": "markdown",
   "metadata": {
    "id": "rpU399gyzMIh"
   },
   "source": [
    "# 2 Import libraries"
   ]
  },
  {
   "cell_type": "code",
   "execution_count": 2,
   "metadata": {
    "executionInfo": {
     "elapsed": 3673,
     "status": "ok",
     "timestamp": 1708716317799,
     "user": {
      "displayName": "Sunny Shin",
      "userId": "07563865141827084443"
     },
     "user_tz": 480
    },
    "id": "twk0MhsWzQAt"
   },
   "outputs": [],
   "source": [
    "import json\n",
    "import pickle\n",
    "import urllib.request\n",
    "from pyspark.sql.functions import *\n",
    "from pyspark.sql.window import Window\n",
    "from pyspark.sql.types import *\n",
    "import seaborn as sns\n",
    "import altair as alt\n",
    "import pandas as pd\n",
    "\n",
    "import xml.etree.ElementTree as ET\n",
    "from xml.etree.ElementTree import ElementTree\n",
    "import datetime\n",
    "from pyspark.sql.functions import lit\n",
    "from pyspark.sql.functions import regexp_replace\n",
    "\n",
    "from pyspark.sql.window import Window\n",
    "from pyspark.sql.functions import first\n",
    "from pyspark.sql.functions import udf, countDistinct\n",
    "from pyspark.sql import functions as F\n",
    "from pyspark.sql.types import IntegerType\n",
    "\n",
    "from pyspark.sql.functions import concat, col, collect_list, concat_ws, first, split, size\n",
    "from pyspark.sql.types import StringType\n",
    "from pyspark.sql.functions import concat, col, collect_list, concat_ws, first\n",
    "\n",
    "import boto3\n",
    "import io"
   ]
  },
  {
   "cell_type": "markdown",
   "metadata": {
    "id": "VM49qt5rwRD5"
   },
   "source": [
    "# 3 Load data"
   ]
  },
  {
   "cell_type": "markdown",
   "metadata": {
    "id": "TJ8ZrUEv7z4k"
   },
   "source": [
    "###import files and create 4 datasets\n",
    "1) PAN12_training_with_timestamp\n",
    "\n",
    "2) PAN12_training_with_conversations\n",
    "\n",
    "3) PAN12_test_with_timestamp\n",
    "\n",
    "4) PAN12_test_with_conversations\n"
   ]
  },
  {
   "cell_type": "code",
   "execution_count": 4,
   "metadata": {},
   "outputs": [
    {
     "name": "stdout",
     "output_type": "stream",
     "text": [
      ":: loading settings :: url = jar:file:/home/ubuntu/spark-3.5.1-bin-hadoop3/jars/ivy-2.5.1.jar!/org/apache/ivy/core/settings/ivysettings.xml\n"
     ]
    },
    {
     "name": "stderr",
     "output_type": "stream",
     "text": [
      "Ivy Default Cache set to: /home/ubuntu/.ivy2/cache\n",
      "The jars for the packages stored in: /home/ubuntu/.ivy2/jars\n",
      "com.databricks#spark-xml_2.12 added as a dependency\n",
      ":: resolving dependencies :: org.apache.spark#spark-submit-parent-cbff675f-387f-4bc9-b6bd-9f39453749e3;1.0\n",
      "\tconfs: [default]\n",
      "\tfound com.databricks#spark-xml_2.12;0.17.0 in central\n",
      "\tfound commons-io#commons-io;2.11.0 in central\n",
      "\tfound org.glassfish.jaxb#txw2;3.0.2 in central\n",
      "\tfound org.apache.ws.xmlschema#xmlschema-core;2.3.0 in central\n",
      "\tfound org.scala-lang.modules#scala-collection-compat_2.12;2.9.0 in central\n",
      ":: resolution report :: resolve 331ms :: artifacts dl 22ms\n",
      "\t:: modules in use:\n",
      "\tcom.databricks#spark-xml_2.12;0.17.0 from central in [default]\n",
      "\tcommons-io#commons-io;2.11.0 from central in [default]\n",
      "\torg.apache.ws.xmlschema#xmlschema-core;2.3.0 from central in [default]\n",
      "\torg.glassfish.jaxb#txw2;3.0.2 from central in [default]\n",
      "\torg.scala-lang.modules#scala-collection-compat_2.12;2.9.0 from central in [default]\n",
      "\t---------------------------------------------------------------------\n",
      "\t|                  |            modules            ||   artifacts   |\n",
      "\t|       conf       | number| search|dwnlded|evicted|| number|dwnlded|\n",
      "\t---------------------------------------------------------------------\n",
      "\t|      default     |   5   |   0   |   0   |   0   ||   5   |   0   |\n",
      "\t---------------------------------------------------------------------\n",
      ":: retrieving :: org.apache.spark#spark-submit-parent-cbff675f-387f-4bc9-b6bd-9f39453749e3\n",
      "\tconfs: [default]\n",
      "\t0 artifacts copied, 5 already retrieved (0kB/9ms)\n",
      "24/03/23 19:08:11 WARN NativeCodeLoader: Unable to load native-hadoop library for your platform... using builtin-java classes where applicable\n",
      "Setting default log level to \"WARN\".\n",
      "To adjust logging level use sc.setLogLevel(newLevel). For SparkR, use setLogLevel(newLevel).\n"
     ]
    }
   ],
   "source": [
    "# Initialize SparkSession\n",
    "spark = SparkSession.builder \\\n",
    "                    .master(\"local[*]\") \\\n",
    "                    .config(\"spark.jars.packages\", \"com.databricks:spark-xml_2.12:0.17.0\") \\\n",
    "                    .appName(\"MyApp\") \\\n",
    "                    .getOrCreate()"
   ]
  },
  {
   "cell_type": "code",
   "execution_count": 12,
   "metadata": {},
   "outputs": [
    {
     "name": "stderr",
     "output_type": "stream",
     "text": [
      "                                                                                \r"
     ]
    },
    {
     "name": "stdout",
     "output_type": "stream",
     "text": [
      "+--------------------+--------------------+-----+---------+-----+-----------+--------------------+\n",
      "|     conversation_id|              author| time|     text|label|     source|         merged_text|\n",
      "+--------------------+--------------------+-----+---------+-----+-----------+--------------------+\n",
      "|e621da5de598c9321...|97964e7a9e8eb9cf7...|03:20|    Hola.|    0|PAN12-train|97964e7a9e8eb9cf7...|\n",
      "|e621da5de598c9321...|0158d0d6781fc4d49...|03:20|      hi.|    0|PAN12-train|0158d0d6781fc4d49...|\n",
      "|e621da5de598c9321...|0158d0d6781fc4d49...|03:20|whats up?|    0|PAN12-train|0158d0d6781fc4d49...|\n",
      "+--------------------+--------------------+-----+---------+-----+-----------+--------------------+\n",
      "only showing top 3 rows\n",
      "\n",
      "+--------------------+--------------------+-----+--------------------+-----+----------+--------------------+\n",
      "|     conversation_id|              author| time|                text|label|    source|         merged_text|\n",
      "+--------------------+--------------------+-----+--------------------+-----+----------+--------------------+\n",
      "|affc2df0951b733d1...|0a39f78bcb297ab0e...|15:24|bugmail: [Bug 697...|    0|PAN12-test|0a39f78bcb297ab0e...|\n",
      "|affc2df0951b733d1...|60659cfda992013e6...|15:32|Henri, can I ask ...|    0|PAN12-test|60659cfda992013e6...|\n",
      "|affc2df0951b733d1...|b8810fee2f4a71f84...|15:34|60659cfda992013e6...|    0|PAN12-test|b8810fee2f4a71f84...|\n",
      "+--------------------+--------------------+-----+--------------------+-----+----------+--------------------+\n",
      "only showing top 3 rows\n",
      "\n"
     ]
    }
   ],
   "source": [
    "# Initialize SparkSession\n",
    "spark = SparkSession.builder \\\n",
    "                    .master(\"local[*]\") \\\n",
    "                    .config(\"spark.jars.packages\", \"com.databricks:spark-xml_2.12:0.17.0\") \\\n",
    "                    .appName(\"MyApp\") \\\n",
    "                    .getOrCreate()\n",
    "\n",
    "# Define the S3 bucket and key for both XML and text file\n",
    "bucket_name = 'capstone210'\n",
    "train_xml_key = 'data/pan12/train_xml.xml'\n",
    "test_xml_key = 'data/pan12/test_xml.xml'\n",
    "train_predator_ids_key = 'data/pan12/train_text.txt'\n",
    "test_predator_ids_key = 'data/pan12/test_text.txt'\n",
    "\n",
    "# Read XML file for train & test data\n",
    "train_xml_df = spark.read.format(\"xml\").option(\"rowTag\", \"conversation\").load(f's3a://{bucket_name}/{train_xml_key}')\n",
    "test_xml_df = spark.read.format(\"xml\").option(\"rowTag\", \"conversation\").load(f's3a://{bucket_name}/{test_xml_key}')\n",
    "\n",
    "# Extract data from XML DataFrame\n",
    "train_xml_data = train_xml_df.selectExpr(\"_id as conversation_id\", \"explode(message) as message\") \\\n",
    "                           .selectExpr(\"conversation_id\", \"message.author as author\", \"message.time as time\", \"message.text as text\")\n",
    "test_xml_data = test_xml_df.selectExpr(\"_id as conversation_id\", \"explode(message) as message\") \\\n",
    "                           .selectExpr(\"conversation_id\", \"message.author as author\", \"message.time as time\", \"message.text as text\")\n",
    "\n",
    "# Read predator IDs from text file\n",
    "train_predator_ids_df = spark.read.text(f's3a://{bucket_name}/{train_predator_ids_key}')\n",
    "test_predator_ids_df = spark.read.text(f's3a://{bucket_name}/{test_predator_ids_key}')\n",
    "\n",
    "# Extract predator IDs from DataFrame\n",
    "train_predator_ids = [row.value.strip() for row in train_predator_ids_df.collect()]\n",
    "test_predator_ids = [row.value.strip() for row in test_predator_ids_df.collect()]\n",
    "\n",
    "# Broadcast the list of predator IDs to all Spark executors for efficient lookup\n",
    "broadcast_train_predator_ids = spark.sparkContext.broadcast(train_predator_ids)\n",
    "broadcast_test_predator_ids = spark.sparkContext.broadcast(test_predator_ids)\n",
    "\n",
    "# Add label column based on whether the author is a predator or not\n",
    "pan12_train_df = train_xml_data.withColumn('label', when(col('author').isin(broadcast_train_predator_ids.value), 1).otherwise(0)) \\\n",
    "                             .withColumn('source', lit('PAN12-train')) \\\n",
    "                             .withColumn('merged_text', concat_ws(\": \", col('author'), col('text')))\n",
    "\n",
    "pan12_test_df = test_xml_data.withColumn('label', when(col('author').isin(broadcast_test_predator_ids.value), 1).otherwise(0)) \\\n",
    "                             .withColumn('source', lit('PAN12-test')) \\\n",
    "                             .withColumn('merged_text', concat_ws(\": \", col('author'), col('text')))\n",
    "\n",
    "# Show DataFrame\n",
    "pan12_train_df.show(3)\n",
    "pan12_test_df.show(3)"
   ]
  },
  {
   "cell_type": "code",
   "execution_count": 13,
   "metadata": {
    "executionInfo": {
     "elapsed": 4,
     "status": "ok",
     "timestamp": 1708716360189,
     "user": {
      "displayName": "Sunny Shin",
      "userId": "07563865141827084443"
     },
     "user_tz": 480
    },
    "id": "gJr0srbJeIPT"
   },
   "outputs": [],
   "source": [
    "# Define the UDF to count unique author IDs\n",
    "def count_unique_authors(authors):\n",
    "    return len(set(authors))"
   ]
  },
  {
   "cell_type": "code",
   "execution_count": 14,
   "metadata": {
    "executionInfo": {
     "elapsed": 2091,
     "status": "ok",
     "timestamp": 1708716362277,
     "user": {
      "displayName": "Sunny Shin",
      "userId": "07563865141827084443"
     },
     "user_tz": 480
    },
    "id": "W0FUYOfHeM3Q"
   },
   "outputs": [],
   "source": [
    "# Merge list of texts\n",
    "def merge_list_text(conversation_history_list):\n",
    "  return ' '.join(conversation_history_list)\n",
    "\n",
    "UDF_merge_list_text = udf(lambda x: merge_list_text(x), StringType())"
   ]
  },
  {
   "cell_type": "code",
   "execution_count": 15,
   "metadata": {},
   "outputs": [
    {
     "name": "stderr",
     "output_type": "stream",
     "text": [
      "[Stage 25:==============================================>           (4 + 1) / 5]\r"
     ]
    },
    {
     "name": "stdout",
     "output_type": "stream",
     "text": [
      "+-----+-----+\n",
      "|label|total|\n",
      "+-----+-----+\n",
      "|    1| 2016|\n",
      "|    0|66004|\n",
      "+-----+-----+\n",
      "\n"
     ]
    },
    {
     "name": "stderr",
     "output_type": "stream",
     "text": [
      "                                                                                \r"
     ]
    }
   ],
   "source": [
    "pan12_train_df.groupBy('label')\\\n",
    "                .agg(countDistinct('conversation_id').alias('total'))\\\n",
    "                .show()"
   ]
  },
  {
   "cell_type": "code",
   "execution_count": 16,
   "metadata": {},
   "outputs": [
    {
     "name": "stderr",
     "output_type": "stream",
     "text": [
      "[Stage 31:===================================================>    (11 + 1) / 12]\r"
     ]
    },
    {
     "name": "stdout",
     "output_type": "stream",
     "text": [
      "+-----+------+\n",
      "|label| total|\n",
      "+-----+------+\n",
      "|    1|  3737|\n",
      "|    0|153278|\n",
      "+-----+------+\n",
      "\n"
     ]
    },
    {
     "name": "stderr",
     "output_type": "stream",
     "text": [
      "                                                                                \r"
     ]
    }
   ],
   "source": [
    "pan12_test_df.groupBy('label')\\\n",
    "                .agg(countDistinct('conversation_id').alias('total'))\\\n",
    "                .show()"
   ]
  },
  {
   "cell_type": "markdown",
   "metadata": {
    "id": "w7_7q39onSNs"
   },
   "source": [
    "# 4 Data Cleaning"
   ]
  },
  {
   "cell_type": "markdown",
   "metadata": {},
   "source": [
    "#### 4.1 Removing lines without any text"
   ]
  },
  {
   "cell_type": "code",
   "execution_count": 17,
   "metadata": {},
   "outputs": [
    {
     "name": "stderr",
     "output_type": "stream",
     "text": [
      "[Stage 37:==============================================>           (4 + 1) / 5]\r"
     ]
    },
    {
     "name": "stdout",
     "output_type": "stream",
     "text": [
      "+-----+-----+\n",
      "|label|total|\n",
      "+-----+-----+\n",
      "|    1| 2015|\n",
      "|    0|65992|\n",
      "+-----+-----+\n",
      "\n"
     ]
    },
    {
     "name": "stderr",
     "output_type": "stream",
     "text": [
      "                                                                                \r"
     ]
    }
   ],
   "source": [
    "# Remove empty lines\n",
    "pan12_train_df = pan12_train_df[pan12_train_df['text'] != '']\n",
    "\n",
    "pan12_train_df.groupBy('label')\\\n",
    "                .agg(countDistinct('conversation_id').alias('total'))\\\n",
    "                .show()"
   ]
  },
  {
   "cell_type": "code",
   "execution_count": 14,
   "metadata": {},
   "outputs": [
    {
     "name": "stdout",
     "output_type": "stream",
     "text": [
      "+--------------------+--------------------+-----+---------+-----+----------+--------------------+\n",
      "|     conversation_id|              author| time|     text|label|    source|         merged_text|\n",
      "+--------------------+--------------------+-----+---------+-----+----------+--------------------+\n",
      "|e621da5de598c9321...|97964e7a9e8eb9cf7...|03:20|    Hola.|    0|PAN12-test|97964e7a9e8eb9cf7...|\n",
      "|e621da5de598c9321...|0158d0d6781fc4d49...|03:20|      hi.|    0|PAN12-test|0158d0d6781fc4d49...|\n",
      "|e621da5de598c9321...|0158d0d6781fc4d49...|03:20|whats up?|    0|PAN12-test|0158d0d6781fc4d49...|\n",
      "+--------------------+--------------------+-----+---------+-----+----------+--------------------+\n",
      "only showing top 3 rows\n",
      "\n"
     ]
    }
   ],
   "source": [
    "pan12_train_df.show(3)"
   ]
  },
  {
   "cell_type": "code",
   "execution_count": 18,
   "metadata": {},
   "outputs": [
    {
     "name": "stderr",
     "output_type": "stream",
     "text": [
      "[Stage 43:===================================================>    (11 + 1) / 12]\r"
     ]
    },
    {
     "name": "stdout",
     "output_type": "stream",
     "text": [
      "+-----+------+\n",
      "|label| total|\n",
      "+-----+------+\n",
      "|    1|  3723|\n",
      "|    0|153262|\n",
      "+-----+------+\n",
      "\n"
     ]
    },
    {
     "name": "stderr",
     "output_type": "stream",
     "text": [
      "                                                                                \r"
     ]
    }
   ],
   "source": [
    "# removing lines that have no text\n",
    "\n",
    "# Remove empty lines\n",
    "pan12_test_df = pan12_test_df[pan12_test_df['text'] != '']\n",
    "\n",
    "pan12_test_df.groupBy('label')\\\n",
    "                .agg(countDistinct('conversation_id').alias('total'))\\\n",
    "                .show()"
   ]
  },
  {
   "cell_type": "markdown",
   "metadata": {},
   "source": [
    "#### 4.2 Add in conversation start time"
   ]
  },
  {
   "cell_type": "code",
   "execution_count": 19,
   "metadata": {},
   "outputs": [
    {
     "name": "stderr",
     "output_type": "stream",
     "text": [
      "[Stage 49:==============================================>           (4 + 1) / 5]\r"
     ]
    },
    {
     "name": "stdout",
     "output_type": "stream",
     "text": [
      "+--------------------------------+--------------------------------+-----+----------------------------------------------------------------------------------------------+-----+-----------+--------------------------------------------------------------------------------------------------------------------------------+-----------------------+\n",
      "|conversation_id                 |author                          |time |text                                                                                          |label|source     |merged_text                                                                                                                     |conversation_start_time|\n",
      "+--------------------------------+--------------------------------+-----+----------------------------------------------------------------------------------------------+-----+-----------+--------------------------------------------------------------------------------------------------------------------------------+-----------------------+\n",
      "|0000604306a283600b730276a2039471|a9b326df4e6da61c5b6f5e1058be83a2|13:04|b8810fee2f4a71f849f3f7409546d1d9 - do you have any set of test cases for non-conformant HTML5?|0    |PAN12-train|a9b326df4e6da61c5b6f5e1058be83a2: b8810fee2f4a71f849f3f7409546d1d9 - do you have any set of test cases for non-conformant HTML5?|13:04                  |\n",
      "|0000604306a283600b730276a2039471|b8810fee2f4a71f849f3f7409546d1d9|13:12|a9b326df4e6da61c5b6f5e1058be83a2: there are some in the syntax module                         |0    |PAN12-train|b8810fee2f4a71f849f3f7409546d1d9: a9b326df4e6da61c5b6f5e1058be83a2: there are some in the syntax module                         |13:04                  |\n",
      "+--------------------------------+--------------------------------+-----+----------------------------------------------------------------------------------------------+-----+-----------+--------------------------------------------------------------------------------------------------------------------------------+-----------------------+\n",
      "only showing top 2 rows\n",
      "\n"
     ]
    },
    {
     "name": "stderr",
     "output_type": "stream",
     "text": [
      "                                                                                \r"
     ]
    }
   ],
   "source": [
    "# Define a window partitioned by 'conversation_id' and ordered by 'time'\n",
    "window_spec = Window.partitionBy('conversation_id').orderBy('time')\n",
    "\n",
    "# Add a new column with the start time of the conversation\n",
    "df_train_with_start_time = pan12_train_df.withColumn('conversation_start_time', first('time').over(window_spec))\n",
    "df_test_with_start_time = pan12_test_df.withColumn('conversation_start_time', first('time').over(window_spec))\n",
    "\n",
    "# show train data as sample\n",
    "df_train_with_start_time.show(2, truncate=False)"
   ]
  },
  {
   "cell_type": "markdown",
   "metadata": {},
   "source": [
    "#### 4.3 Add in number of people per conversation"
   ]
  },
  {
   "cell_type": "code",
   "execution_count": 20,
   "metadata": {},
   "outputs": [],
   "source": [
    "# train\n",
    "# Count unique authors for each conversation\n",
    "unique_authors_per_conversation_train = df_train_with_start_time.select(\"conversation_id\", \"author\") \\\n",
    "                                             .groupBy(\"conversation_id\") \\\n",
    "                                             .agg(countDistinct(\"author\").alias(\"n_people_in_conversation\"))\n",
    "\n",
    "# Join the unique author count with the original DataFrame\n",
    "pan12_train_with_conversations = df_train_with_start_time.join(unique_authors_per_conversation_train, \"conversation_id\", \"left\")"
   ]
  },
  {
   "cell_type": "code",
   "execution_count": 21,
   "metadata": {},
   "outputs": [
    {
     "name": "stderr",
     "output_type": "stream",
     "text": [
      "                                                                                \r"
     ]
    },
    {
     "name": "stdout",
     "output_type": "stream",
     "text": [
      "+--------------------+--------------------+-----+--------------------+-----+-----------+--------------------+-----------------------+------------------------+\n",
      "|     conversation_id|              author| time|                text|label|     source|         merged_text|conversation_start_time|n_people_in_conversation|\n",
      "+--------------------+--------------------+-----+--------------------+-----+-----------+--------------------+-----------------------+------------------------+\n",
      "|0000604306a283600...|a9b326df4e6da61c5...|13:04|b8810fee2f4a71f84...|    0|PAN12-train|a9b326df4e6da61c5...|                  13:04|                       4|\n",
      "|0000604306a283600...|b8810fee2f4a71f84...|13:12|a9b326df4e6da61c5...|    0|PAN12-train|b8810fee2f4a71f84...|                  13:04|                       4|\n",
      "+--------------------+--------------------+-----+--------------------+-----+-----------+--------------------+-----------------------+------------------------+\n",
      "only showing top 2 rows\n",
      "\n"
     ]
    }
   ],
   "source": [
    "pan12_train_with_conversations.show(2)"
   ]
  },
  {
   "cell_type": "code",
   "execution_count": 22,
   "metadata": {},
   "outputs": [
    {
     "name": "stderr",
     "output_type": "stream",
     "text": [
      "[Stage 61:==============================================>           (4 + 1) / 5]\r"
     ]
    },
    {
     "name": "stdout",
     "output_type": "stream",
     "text": [
      "+-----+-----+\n",
      "|label|total|\n",
      "+-----+-----+\n",
      "|    1| 2015|\n",
      "|    0|65992|\n",
      "+-----+-----+\n",
      "\n"
     ]
    },
    {
     "name": "stderr",
     "output_type": "stream",
     "text": [
      "                                                                                \r"
     ]
    }
   ],
   "source": [
    "df_train_with_start_time.groupBy('label')\\\n",
    "                .agg(countDistinct('conversation_id').alias('total'))\\\n",
    "                .show()"
   ]
  },
  {
   "cell_type": "code",
   "execution_count": 23,
   "metadata": {},
   "outputs": [],
   "source": [
    "# test\n",
    "# Count unique authors for each conversation\n",
    "unique_authors_per_conversation_test = df_test_with_start_time.select(\"conversation_id\", \"author\") \\\n",
    "                                             .groupBy(\"conversation_id\") \\\n",
    "                                             .agg(countDistinct(\"author\").alias(\"n_people_in_conversation\"))\n",
    "\n",
    "# Join the unique author count with the original DataFrame\n",
    "pan12_test_with_conversations = df_test_with_start_time.join(unique_authors_per_conversation_test, \"conversation_id\", \"left\")"
   ]
  },
  {
   "cell_type": "markdown",
   "metadata": {},
   "source": [
    "#### 4.4 Add in type of conversation"
   ]
  },
  {
   "cell_type": "code",
   "execution_count": 24,
   "metadata": {},
   "outputs": [
    {
     "name": "stderr",
     "output_type": "stream",
     "text": [
      "                                                                                \r"
     ]
    },
    {
     "name": "stdout",
     "output_type": "stream",
     "text": [
      "+--------------------+--------------------+-----+--------------------+-----+-----------+--------------------+-----------------------+------------------------+-----------------+\n",
      "|     conversation_id|              author| time|                text|label|     source|         merged_text|conversation_start_time|n_people_in_conversation|type_conversation|\n",
      "+--------------------+--------------------+-----+--------------------+-----+-----------+--------------------+-----------------------+------------------------+-----------------+\n",
      "|0000604306a283600...|a9b326df4e6da61c5...|13:04|b8810fee2f4a71f84...|    0|PAN12-train|a9b326df4e6da61c5...|                  13:04|                       4|            Group|\n",
      "|0000604306a283600...|b8810fee2f4a71f84...|13:12|a9b326df4e6da61c5...|    0|PAN12-train|b8810fee2f4a71f84...|                  13:04|                       4|            Group|\n",
      "+--------------------+--------------------+-----+--------------------+-----+-----------+--------------------+-----------------------+------------------------+-----------------+\n",
      "only showing top 2 rows\n",
      "\n"
     ]
    }
   ],
   "source": [
    "# train\n",
    "df_train_with_start_time = pan12_train_with_conversations.withColumn('type_conversation', when(col('n_people_in_conversation') == 1, 'Monologue')\\\n",
    "                                                                                                                .when(col('n_people_in_conversation') == 2, 'Pair')\\\n",
    "                                                                                                                .when(col('n_people_in_conversation') > 2, 'Group'))\n",
    "df_train_with_start_time.show(2)"
   ]
  },
  {
   "cell_type": "code",
   "execution_count": 25,
   "metadata": {},
   "outputs": [],
   "source": [
    "# test\n",
    "df_test_with_start_time = pan12_test_with_conversations.withColumn('type_conversation', when(col('n_people_in_conversation') == 1, 'Monologue')\\\n",
    "                                                                                                                .when(col('n_people_in_conversation') == 2, 'Pair')\\\n",
    "                                                                                                                .when(col('n_people_in_conversation') > 2, 'Group'))"
   ]
  },
  {
   "cell_type": "markdown",
   "metadata": {},
   "source": [
    "#### 4.5 Creating concatenated conversation column"
   ]
  },
  {
   "cell_type": "code",
   "execution_count": 26,
   "metadata": {},
   "outputs": [
    {
     "name": "stderr",
     "output_type": "stream",
     "text": [
      "[Stage 84:>                                                         (0 + 1) / 1]\r"
     ]
    },
    {
     "name": "stdout",
     "output_type": "stream",
     "text": [
      "+--------------------+-----+--------------------+--------------------+-----------+-----------------------+------------------------+-----------------+-------+\n",
      "|     conversation_id|label|      merged_text_id|         merged_text|     source|conversation_start_time|n_people_in_conversation|type_conversation|n_texts|\n",
      "+--------------------+-----+--------------------+--------------------+-----------+-----------------------+------------------------+-----------------+-------+\n",
      "|0000604306a283600...|    0|a9b326df4e6da61c5...|b8810fee2f4a71f84...|PAN12-train|                  13:04|                       4|            Group|    651|\n",
      "|0001347c00d419eb5...|    0|e2bd430b29412d926...|say asl and i&apo...|PAN12-train|                  13:34|                       2|             Pair|     17|\n",
      "+--------------------+-----+--------------------+--------------------+-----------+-----------------------+------------------------+-----------------+-------+\n",
      "only showing top 2 rows\n",
      "\n"
     ]
    },
    {
     "name": "stderr",
     "output_type": "stream",
     "text": [
      "                                                                                \r"
     ]
    }
   ],
   "source": [
    "pan12_train_with_conversations = df_train_with_start_time.groupby('conversation_id','label').agg(concat_ws(\" \", collect_list('merged_text')).alias('merged_text_id'),\n",
    "                                                                                  concat_ws(' ', collect_list('text')).alias('merged_text'),\n",
    "                                                                                  first('source').alias('source'),\n",
    "                                                                                  first('conversation_start_time').cast('string').alias('conversation_start_time'),\n",
    "                                                                                  first('n_people_in_conversation').cast('int').alias('n_people_in_conversation'),\n",
    "                                                                                  first('type_conversation').alias('type_conversation'))\\\n",
    "                                                                                  .withColumn('n_texts', size(split(col('merged_text'), ' ')))\\\n",
    "                                                                                  .drop('conversation_history')\n",
    "pan12_train_with_conversations.show(2)"
   ]
  },
  {
   "cell_type": "code",
   "execution_count": 27,
   "metadata": {},
   "outputs": [],
   "source": [
    "pan12_test_with_conversations = df_test_with_start_time.groupby('conversation_id', 'label').agg(concat_ws(\" \", collect_list('merged_text')).alias('merged_text_id'),\n",
    "                                                                                  concat_ws(' ', collect_list('text')).alias('merged_text'),\n",
    "                                                                                  first('source').alias('source'),\n",
    "                                                                                  first('conversation_start_time').cast('string').alias('conversation_start_time'),\n",
    "                                                                                  first('n_people_in_conversation').cast('int').alias('n_people_in_conversation'),\n",
    "                                                                                  first('type_conversation').alias('type_conversation'))\\\n",
    "                                                                                  .withColumn('n_texts', size(split(col('merged_text'), ' ')))\\\n",
    "                                                                                  .drop('conversation_history')"
   ]
  },
  {
   "cell_type": "code",
   "execution_count": 28,
   "metadata": {},
   "outputs": [
    {
     "name": "stderr",
     "output_type": "stream",
     "text": [
      "[Stage 85:==============================================>           (4 + 1) / 5]\r"
     ]
    },
    {
     "name": "stdout",
     "output_type": "stream",
     "text": [
      "+-----+-----+\n",
      "|label|total|\n",
      "+-----+-----+\n",
      "|    1| 2015|\n",
      "|    0|65992|\n",
      "+-----+-----+\n",
      "\n"
     ]
    },
    {
     "name": "stderr",
     "output_type": "stream",
     "text": [
      "                                                                                \r"
     ]
    }
   ],
   "source": [
    "pan12_train_with_conversations.groupBy('label')\\\n",
    "                .agg(countDistinct('conversation_id').alias('total'))\\\n",
    "                .show()\n",
    "\n",
    "# pan12_test.groupBy('label')\\\n",
    "#                 .agg(countDistinct('conversation_id').alias('total'))\\\n",
    "#                 .show()"
   ]
  },
  {
   "cell_type": "markdown",
   "metadata": {},
   "source": [
    "#### 4.6 Rearrange the columns"
   ]
  },
  {
   "cell_type": "code",
   "execution_count": 29,
   "metadata": {},
   "outputs": [],
   "source": [
    "# specifying the column order\n",
    "columns = ['conversation_id',\n",
    "'source',\n",
    "'label',\n",
    "'conversation_start_time',\n",
    "'n_people_in_conversation',\n",
    "'type_conversation',\n",
    "'merged_text',\n",
    "'merged_text_id',\n",
    "'n_texts']\n",
    "\n",
    "pan12_train = pan12_train_with_conversations.select(columns)\n",
    "pan12_test = pan12_test_with_conversations.select(columns)"
   ]
  },
  {
   "cell_type": "code",
   "execution_count": 30,
   "metadata": {},
   "outputs": [
    {
     "name": "stdout",
     "output_type": "stream",
     "text": [
      "root\n",
      " |-- conversation_id: string (nullable = true)\n",
      " |-- source: string (nullable = true)\n",
      " |-- label: integer (nullable = false)\n",
      " |-- conversation_start_time: string (nullable = true)\n",
      " |-- n_people_in_conversation: integer (nullable = true)\n",
      " |-- type_conversation: string (nullable = true)\n",
      " |-- merged_text: string (nullable = false)\n",
      " |-- merged_text_id: string (nullable = false)\n",
      " |-- n_texts: integer (nullable = false)\n",
      "\n"
     ]
    }
   ],
   "source": [
    "pan12_train.printSchema()"
   ]
  },
  {
   "cell_type": "code",
   "execution_count": 31,
   "metadata": {},
   "outputs": [
    {
     "name": "stdout",
     "output_type": "stream",
     "text": [
      "root\n",
      " |-- conversation_id: string (nullable = true)\n",
      " |-- source: string (nullable = true)\n",
      " |-- label: integer (nullable = false)\n",
      " |-- conversation_start_time: string (nullable = true)\n",
      " |-- n_people_in_conversation: integer (nullable = true)\n",
      " |-- type_conversation: string (nullable = true)\n",
      " |-- merged_text: string (nullable = false)\n",
      " |-- merged_text_id: string (nullable = false)\n",
      " |-- n_texts: integer (nullable = false)\n",
      "\n"
     ]
    }
   ],
   "source": [
    "pan12_test.printSchema()"
   ]
  },
  {
   "cell_type": "markdown",
   "metadata": {},
   "source": [
    "#### 4.7 Check the dataframes"
   ]
  },
  {
   "cell_type": "code",
   "execution_count": 32,
   "metadata": {},
   "outputs": [
    {
     "name": "stderr",
     "output_type": "stream",
     "text": [
      "                                                                                \r"
     ]
    },
    {
     "name": "stdout",
     "output_type": "stream",
     "text": [
      "+-----+-----+\n",
      "|label|total|\n",
      "+-----+-----+\n",
      "|    1| 2015|\n",
      "|    0|65992|\n",
      "+-----+-----+\n",
      "\n"
     ]
    },
    {
     "name": "stderr",
     "output_type": "stream",
     "text": [
      "[Stage 97:===================================================>    (11 + 1) / 12]\r"
     ]
    },
    {
     "name": "stdout",
     "output_type": "stream",
     "text": [
      "+-----+------+\n",
      "|label| total|\n",
      "+-----+------+\n",
      "|    1|  3723|\n",
      "|    0|153262|\n",
      "+-----+------+\n",
      "\n"
     ]
    },
    {
     "name": "stderr",
     "output_type": "stream",
     "text": [
      "                                                                                \r"
     ]
    }
   ],
   "source": [
    "pan12_train.groupBy('label')\\\n",
    "                .agg(countDistinct('conversation_id').alias('total'))\\\n",
    "                .show()\n",
    "\n",
    "pan12_test.groupBy('label')\\\n",
    "                .agg(countDistinct('conversation_id').alias('total'))\\\n",
    "                .show()"
   ]
  },
  {
   "cell_type": "markdown",
   "metadata": {},
   "source": [
    "#### 4.8 Bring in the PJZC data"
   ]
  },
  {
   "cell_type": "code",
   "execution_count": 33,
   "metadata": {},
   "outputs": [],
   "source": [
    "old_train_data_path = 's3a://capstone210/data/train/'\n",
    "\n",
    "old_train = spark.read.parquet(old_train_data_path)"
   ]
  },
  {
   "cell_type": "code",
   "execution_count": 34,
   "metadata": {},
   "outputs": [
    {
     "name": "stderr",
     "output_type": "stream",
     "text": [
      "[Stage 104:============================>                            (1 + 1) / 2]\r"
     ]
    },
    {
     "name": "stdout",
     "output_type": "stream",
     "text": [
      "+-----------+-----+-----+\n",
      "|source     |label|count|\n",
      "+-----------+-----+-----+\n",
      "|PAN12-train|0    |65340|\n",
      "|PAN12-train|1    |1587 |\n",
      "|Chit chats |0    |7248 |\n",
      "|PJ chats   |1    |1104 |\n",
      "|ZIG chats  |0    |12718|\n",
      "+-----------+-----+-----+\n",
      "\n"
     ]
    },
    {
     "name": "stderr",
     "output_type": "stream",
     "text": [
      "                                                                                \r"
     ]
    }
   ],
   "source": [
    "old_train.groupBy('source', 'label')\\\n",
    "  .agg(count('conversation_id').alias('count'))\\\n",
    "  .show(truncate = False)"
   ]
  },
  {
   "cell_type": "code",
   "execution_count": 35,
   "metadata": {},
   "outputs": [
    {
     "name": "stderr",
     "output_type": "stream",
     "text": [
      "[Stage 107:============================>                            (1 + 1) / 2]\r"
     ]
    },
    {
     "name": "stdout",
     "output_type": "stream",
     "text": [
      "+--------+-----+-----+\n",
      "|source  |label|count|\n",
      "+--------+-----+-----+\n",
      "|PJ chats|1    |1104 |\n",
      "+--------+-----+-----+\n",
      "\n"
     ]
    },
    {
     "name": "stderr",
     "output_type": "stream",
     "text": [
      "                                                                                \r"
     ]
    }
   ],
   "source": [
    "# Filter data where a column is between two specific values\n",
    "old_train_filtered = old_train.filter((old_train['source'] == 'PJ chats') & (old_train['label'] == 1))\n",
    "\n",
    "old_train_filtered.groupBy('source', 'label')\\\n",
    "  .agg(count('conversation_id').alias('count'))\\\n",
    "  .show(truncate = False)"
   ]
  },
  {
   "cell_type": "code",
   "execution_count": 36,
   "metadata": {},
   "outputs": [
    {
     "name": "stderr",
     "output_type": "stream",
     "text": [
      "[Stage 111:>                                                        (0 + 1) / 1]\r"
     ]
    },
    {
     "name": "stdout",
     "output_type": "stream",
     "text": [
      "+---------------+--------+-----+-----------------------+------------------------+-----------------+--------------------+--------------------+-------+\n",
      "|conversation_id|  source|label|conversation_start_time|n_people_in_conversation|type_conversation|         merged_text|      merged_text_id|n_texts|\n",
      "+---------------+--------+-----+-----------------------+------------------------+-----------------+--------------------+--------------------+-------+\n",
      "|              0|PJ chats|    1|                  14:40|                       2|             Pair|Hey Its Mads Hey ...|decoy: Hey Its Ma...|    120|\n",
      "|              1|PJ chats|    1|                  06:38|                       2|             Pair|Hey lol Hey mads ...|decoy: Hey lol Bi...|     95|\n",
      "|              2|PJ chats|    1|                  07:53|                       2|             Pair|Sorry my mom is u...|decoy: Sorry my m...|     14|\n",
      "+---------------+--------+-----+-----------------------+------------------------+-----------------+--------------------+--------------------+-------+\n",
      "only showing top 3 rows\n",
      "\n"
     ]
    },
    {
     "name": "stderr",
     "output_type": "stream",
     "text": [
      "                                                                                \r"
     ]
    }
   ],
   "source": [
    "old_train_filtered.show(3)"
   ]
  },
  {
   "cell_type": "markdown",
   "metadata": {},
   "source": [
    "#### merge the PJZC and PAN12 training"
   ]
  },
  {
   "cell_type": "code",
   "execution_count": 38,
   "metadata": {},
   "outputs": [
    {
     "name": "stderr",
     "output_type": "stream",
     "text": [
      "[Stage 121:>                                                        (0 + 1) / 1]\r"
     ]
    },
    {
     "name": "stdout",
     "output_type": "stream",
     "text": [
      "+--------------------+-----------+-----+-----------------------+------------------------+-----------------+--------------------+--------------------+-------+\n",
      "|     conversation_id|     source|label|conversation_start_time|n_people_in_conversation|type_conversation|         merged_text|      merged_text_id|n_texts|\n",
      "+--------------------+-----------+-----+-----------------------+------------------------+-----------------+--------------------+--------------------+-------+\n",
      "|0000604306a283600...|PAN12-train|    0|                  13:04|                       4|            Group|b8810fee2f4a71f84...|a9b326df4e6da61c5...|    651|\n",
      "|0001347c00d419eb5...|PAN12-train|    0|                  13:34|                       2|             Pair|say asl and i&apo...|e2bd430b29412d926...|     17|\n",
      "|000197b21283dc478...|PAN12-train|    0|                  06:27|                       2|             Pair|joint ? in my han...|487862cd4ec27d841...|     79|\n",
      "+--------------------+-----------+-----+-----------------------+------------------------+-----------------+--------------------+--------------------+-------+\n",
      "only showing top 3 rows\n",
      "\n"
     ]
    },
    {
     "name": "stderr",
     "output_type": "stream",
     "text": [
      "                                                                                \r"
     ]
    }
   ],
   "source": [
    "# perform union on two dataframes\n",
    "merged_train = pan12_train.union(old_train_filtered)\n",
    "\n",
    "# Show the merged DataFrame\n",
    "merged_train.show(3)"
   ]
  },
  {
   "cell_type": "code",
   "execution_count": 39,
   "metadata": {},
   "outputs": [
    {
     "name": "stderr",
     "output_type": "stream",
     "text": [
      "                                                                                \r"
     ]
    },
    {
     "name": "stdout",
     "output_type": "stream",
     "text": [
      "+-----------+-----+-----+\n",
      "|     source|label|count|\n",
      "+-----------+-----+-----+\n",
      "|PAN12-train|    0|65992|\n",
      "|PAN12-train|    1| 2015|\n",
      "|   PJ chats|    1| 1104|\n",
      "+-----------+-----+-----+\n",
      "\n"
     ]
    },
    {
     "name": "stderr",
     "output_type": "stream",
     "text": [
      "[Stage 128:==================================================>    (11 + 1) / 12]\r"
     ]
    },
    {
     "name": "stdout",
     "output_type": "stream",
     "text": [
      "+----------+-----+------+\n",
      "|    source|label| count|\n",
      "+----------+-----+------+\n",
      "|PAN12-test|    1|  3723|\n",
      "|PAN12-test|    0|153262|\n",
      "+----------+-----+------+\n",
      "\n"
     ]
    },
    {
     "name": "stderr",
     "output_type": "stream",
     "text": [
      "                                                                                \r"
     ]
    }
   ],
   "source": [
    "merged_train.groupBy('source', 'label')\\\n",
    "  .agg(count('conversation_id').alias('count'))\\\n",
    "  .show()\n",
    "\n",
    "pan12_test.groupBy('source', 'label')\\\n",
    "  .agg(count('conversation_id').alias('count'))\\\n",
    "  .show()"
   ]
  },
  {
   "cell_type": "markdown",
   "metadata": {},
   "source": [
    "#### 4.9 Save the files"
   ]
  },
  {
   "cell_type": "code",
   "execution_count": 40,
   "metadata": {},
   "outputs": [
    {
     "name": "stderr",
     "output_type": "stream",
     "text": [
      "                                                                                \r"
     ]
    }
   ],
   "source": [
    "# save the files to S3 bucket \n",
    "train_output_path = 's3a://capstone210/data/final/train/'\n",
    "test_output_path = 's3a://capstone210/data/final/test/'\n",
    "\n",
    "merged_train.write.mode('overwrite').parquet(train_output_path)\n",
    "pan12_test.write.mode('overwrite').parquet(test_output_path)"
   ]
  },
  {
   "cell_type": "markdown",
   "metadata": {},
   "source": [
    "#### 4.9 Confirm the saved files by source and label"
   ]
  },
  {
   "cell_type": "code",
   "execution_count": 41,
   "metadata": {},
   "outputs": [],
   "source": [
    "# read the data from S3 bucket\n",
    "train_data_path = 's3a://capstone210/data/final/train/'\n",
    "test_data_path = 's3a://capstone210/data/final/test/'\n",
    "\n",
    "train = spark.read.parquet(train_data_path)\n",
    "test = spark.read.parquet(test_data_path)"
   ]
  },
  {
   "cell_type": "code",
   "execution_count": 42,
   "metadata": {},
   "outputs": [
    {
     "name": "stderr",
     "output_type": "stream",
     "text": [
      "                                                                                \r"
     ]
    },
    {
     "name": "stdout",
     "output_type": "stream",
     "text": [
      "+-----------+-----+-----+\n",
      "|source     |label|count|\n",
      "+-----------+-----+-----+\n",
      "|PAN12-train|0    |65992|\n",
      "|PAN12-train|1    |2015 |\n",
      "|PJ chats   |1    |1104 |\n",
      "+-----------+-----+-----+\n",
      "\n"
     ]
    },
    {
     "name": "stderr",
     "output_type": "stream",
     "text": [
      "[Stage 156:============================>                            (1 + 1) / 2]\r"
     ]
    },
    {
     "name": "stdout",
     "output_type": "stream",
     "text": [
      "+----------+-----+------+\n",
      "|source    |label|count |\n",
      "+----------+-----+------+\n",
      "|PAN12-test|1    |3723  |\n",
      "|PAN12-test|0    |153262|\n",
      "+----------+-----+------+\n",
      "\n"
     ]
    },
    {
     "name": "stderr",
     "output_type": "stream",
     "text": [
      "                                                                                \r"
     ]
    }
   ],
   "source": [
    "train.groupBy('source', 'label')\\\n",
    "  .agg(count('conversation_id').alias('count'))\\\n",
    "  .show(truncate = False)\n",
    "\n",
    "test.groupBy('source', 'label')\\\n",
    "  .agg(count('conversation_id').alias('count'))\\\n",
    "  .show(truncate = False)"
   ]
  },
  {
   "cell_type": "markdown",
   "metadata": {
    "id": "Bwseenz0EcXm",
    "jp-MarkdownHeadingCollapsed": true
   },
   "source": [
    "# *Functions Archived (Ignore - storage only)*"
   ]
  },
  {
   "cell_type": "code",
   "execution_count": null,
   "metadata": {
    "id": "3uLoPZONEgLA"
   },
   "outputs": [],
   "source": [
    "# Merge Texts without author id\n",
    "def merge_text(messages_column):\n",
    "  text_list = [i[\"text\"] for i in messages_column]\n",
    "  return ' '.join(text_list)\n",
    "\n",
    "UDF_merge_text = udf(lambda x: merge_text(x), StringType())"
   ]
  },
  {
   "cell_type": "code",
   "execution_count": null,
   "metadata": {
    "id": "kDGKbgjiFs1w"
   },
   "outputs": [],
   "source": [
    "# # People in conversation\n",
    "def n_people_in_conversation(messages_column):\n",
    "  unique_author = set([i['author'] for i in messages_column])\n",
    "  return len(unique_author)\n",
    "\n",
    "UDF_n_people_in_conversation = udf(lambda x: n_people_in_conversation(x), IntegerType())"
   ]
  },
  {
   "cell_type": "code",
   "execution_count": null,
   "metadata": {
    "id": "ghH5UDcwE0-D"
   },
   "outputs": [],
   "source": [
    "# Merge texts with author id\n",
    "def merge_text_id(messages_column):\n",
    "  text_list = [f'{i[\"author\"]}: {i[\"text\"]}' for i in messages_column]\n",
    "  return ' '.join(text_list)\n",
    "\n",
    "UDF_merge_text_id = udf(lambda x: merge_text_id(x), StringType())"
   ]
  },
  {
   "cell_type": "code",
   "execution_count": null,
   "metadata": {
    "id": "PSCA47JQE2jz"
   },
   "outputs": [],
   "source": [
    "# number of texts in conversation\n",
    "def n_texts_in_conversation(messages_column):\n",
    "  unique_author = len(messages_column)\n",
    "  return unique_author\n",
    "\n",
    "UDF_n_texts_in_conversation = udf(lambda x: n_texts_in_conversation(x), IntegerType())"
   ]
  },
  {
   "cell_type": "code",
   "execution_count": null,
   "metadata": {
    "colab": {
     "base_uri": "https://localhost:8080/"
    },
    "executionInfo": {
     "elapsed": 4542,
     "status": "ok",
     "timestamp": 1708056164435,
     "user": {
      "displayName": "Sunny Shin",
      "userId": "07563865141827084443"
     },
     "user_tz": 480
    },
    "id": "0BmNpsGxFFjc",
    "outputId": "214105c3-86b6-4c55-af43-bba6308ebd63"
   },
   "outputs": [
    {
     "name": "stdout",
     "output_type": "stream",
     "text": [
      "+--------------------------------+--------------------------------+-----+---------+\n",
      "|conversation_id                 |author                          |time |text     |\n",
      "+--------------------------------+--------------------------------+-----+---------+\n",
      "|e621da5de598c9321a1d505ea95e6a2d|97964e7a9e8eb9cf78f2e4d7b2ff34c7|03:20|Hola.    |\n",
      "|e621da5de598c9321a1d505ea95e6a2d|0158d0d6781fc4d493f243d4caa49747|03:20|hi.      |\n",
      "|e621da5de598c9321a1d505ea95e6a2d|0158d0d6781fc4d493f243d4caa49747|03:20|whats up?|\n",
      "+--------------------------------+--------------------------------+-----+---------+\n",
      "only showing top 3 rows\n",
      "\n"
     ]
    }
   ],
   "source": [
    "pan12_training_df.show(3, truncate=False)"
   ]
  },
  {
   "cell_type": "code",
   "execution_count": null,
   "metadata": {
    "colab": {
     "base_uri": "https://localhost:8080/"
    },
    "executionInfo": {
     "elapsed": 6805,
     "status": "ok",
     "timestamp": 1708056241967,
     "user": {
      "displayName": "Sunny Shin",
      "userId": "07563865141827084443"
     },
     "user_tz": 480
    },
    "id": "wlvSgM9yFWJ4",
    "outputId": "34a0f77b-e3ef-4ace-bfcb-ad86ad889887"
   },
   "outputs": [
    {
     "name": "stdout",
     "output_type": "stream",
     "text": [
      "+--------------------------------+--------------------------------+-----+-----------------------------------------------------------------------------------------------------------------------+-----------------------+\n",
      "|conversation_id                 |author                          |time |text                                                                                                                   |conversation_start_time|\n",
      "+--------------------------------+--------------------------------+-----+-----------------------------------------------------------------------------------------------------------------------+-----------------------+\n",
      "|0000604306a283600b730276a2039471|a9b326df4e6da61c5b6f5e1058be83a2|13:04|b8810fee2f4a71f849f3f7409546d1d9 - do you have any set of test cases for non-conformant HTML5?                         |13:04                  |\n",
      "|0000604306a283600b730276a2039471|b8810fee2f4a71f849f3f7409546d1d9|13:12|a9b326df4e6da61c5b6f5e1058be83a2: there are some in the syntax module                                                  |13:04                  |\n",
      "|0000604306a283600b730276a2039471|b8810fee2f4a71f849f3f7409546d1d9|13:12|a9b326df4e6da61c5b6f5e1058be83a2: I've also used Anne's WF 2.0 tests, but using those in the test harness in now broken|13:04                  |\n",
      "+--------------------------------+--------------------------------+-----+-----------------------------------------------------------------------------------------------------------------------+-----------------------+\n",
      "only showing top 3 rows\n",
      "\n"
     ]
    }
   ],
   "source": [
    "## Add conversation start time\n",
    "from pyspark.sql.window import Window\n",
    "from pyspark.sql.functions import first\n",
    "\n",
    "# Define a window partitioned by 'conversation_id' and ordered by 'time'\n",
    "window_spec = Window.partitionBy('conversation_id').orderBy('time')\n",
    "\n",
    "# Add a new column with the start time of the conversation\n",
    "pan12_training_df = pan12_training_df.withColumn('conversation_start_time', first('time').over(window_spec))\n",
    "\n",
    "pan12_training_df.show(3, truncate=False)"
   ]
  },
  {
   "cell_type": "code",
   "execution_count": null,
   "metadata": {
    "colab": {
     "base_uri": "https://localhost:8080/",
     "height": 408
    },
    "executionInfo": {
     "elapsed": 5174,
     "status": "error",
     "timestamp": 1708056629208,
     "user": {
      "displayName": "Sunny Shin",
      "userId": "07563865141827084443"
     },
     "user_tz": 480
    },
    "id": "Di4njBCzGrSJ",
    "outputId": "114784fa-d89b-4f78-df83-923c881feb13"
   },
   "outputs": [
    {
     "ename": "PythonException",
     "evalue": "\n  An exception was thrown from the Python worker. Please see the stack trace below.\nTraceback (most recent call last):\n  File \"<ipython-input-22-633844c0c109>\", line 6, in <lambda>\n  File \"<ipython-input-22-633844c0c109>\", line 3, in n_people_in_conversation\n  File \"<ipython-input-22-633844c0c109>\", line 3, in <listcomp>\nTypeError: string indices must be integers\n",
     "output_type": "error",
     "traceback": [
      "\u001b[0;31m---------------------------------------------------------------------------\u001b[0m",
      "\u001b[0;31mPythonException\u001b[0m                           Traceback (most recent call last)",
      "\u001b[0;32m<ipython-input-23-2bc8c990f694>\u001b[0m in \u001b[0;36m<cell line: 2>\u001b[0;34m()\u001b[0m\n\u001b[1;32m      1\u001b[0m \u001b[0mpan12_training_df_2\u001b[0m \u001b[0;34m=\u001b[0m \u001b[0mpan12_training_df\u001b[0m\u001b[0;34m.\u001b[0m\u001b[0mwithColumn\u001b[0m\u001b[0;34m(\u001b[0m\u001b[0;34m\"n_people_in_conversation\"\u001b[0m\u001b[0;34m,\u001b[0m \u001b[0mUDF_n_people_in_conversation\u001b[0m\u001b[0;34m(\u001b[0m\u001b[0;34m\"text\"\u001b[0m\u001b[0;34m)\u001b[0m\u001b[0;34m)\u001b[0m\u001b[0;34m\u001b[0m\u001b[0;34m\u001b[0m\u001b[0m\n\u001b[0;32m----> 2\u001b[0;31m \u001b[0mpan12_training_df_2\u001b[0m\u001b[0;34m.\u001b[0m\u001b[0mshow\u001b[0m\u001b[0;34m(\u001b[0m\u001b[0mtruncate\u001b[0m\u001b[0;34m=\u001b[0m\u001b[0;32mFalse\u001b[0m\u001b[0;34m)\u001b[0m\u001b[0;34m\u001b[0m\u001b[0;34m\u001b[0m\u001b[0m\n\u001b[0m",
      "\u001b[0;32m/content/spark-3.5.0-bin-hadoop3/python/pyspark/sql/dataframe.py\u001b[0m in \u001b[0;36mshow\u001b[0;34m(self, n, truncate, vertical)\u001b[0m\n\u001b[1;32m    970\u001b[0m                 )\n\u001b[1;32m    971\u001b[0m \u001b[0;34m\u001b[0m\u001b[0m\n\u001b[0;32m--> 972\u001b[0;31m             \u001b[0mprint\u001b[0m\u001b[0;34m(\u001b[0m\u001b[0mself\u001b[0m\u001b[0;34m.\u001b[0m\u001b[0m_jdf\u001b[0m\u001b[0;34m.\u001b[0m\u001b[0mshowString\u001b[0m\u001b[0;34m(\u001b[0m\u001b[0mn\u001b[0m\u001b[0;34m,\u001b[0m \u001b[0mint_truncate\u001b[0m\u001b[0;34m,\u001b[0m \u001b[0mvertical\u001b[0m\u001b[0;34m)\u001b[0m\u001b[0;34m)\u001b[0m\u001b[0;34m\u001b[0m\u001b[0;34m\u001b[0m\u001b[0m\n\u001b[0m\u001b[1;32m    973\u001b[0m \u001b[0;34m\u001b[0m\u001b[0m\n\u001b[1;32m    974\u001b[0m     \u001b[0;32mdef\u001b[0m \u001b[0m__repr__\u001b[0m\u001b[0;34m(\u001b[0m\u001b[0mself\u001b[0m\u001b[0;34m)\u001b[0m \u001b[0;34m->\u001b[0m \u001b[0mstr\u001b[0m\u001b[0;34m:\u001b[0m\u001b[0;34m\u001b[0m\u001b[0;34m\u001b[0m\u001b[0m\n",
      "\u001b[0;32m/content/spark-3.5.0-bin-hadoop3/python/lib/py4j-0.10.9.7-src.zip/py4j/java_gateway.py\u001b[0m in \u001b[0;36m__call__\u001b[0;34m(self, *args)\u001b[0m\n\u001b[1;32m   1320\u001b[0m \u001b[0;34m\u001b[0m\u001b[0m\n\u001b[1;32m   1321\u001b[0m         \u001b[0manswer\u001b[0m \u001b[0;34m=\u001b[0m \u001b[0mself\u001b[0m\u001b[0;34m.\u001b[0m\u001b[0mgateway_client\u001b[0m\u001b[0;34m.\u001b[0m\u001b[0msend_command\u001b[0m\u001b[0;34m(\u001b[0m\u001b[0mcommand\u001b[0m\u001b[0;34m)\u001b[0m\u001b[0;34m\u001b[0m\u001b[0;34m\u001b[0m\u001b[0m\n\u001b[0;32m-> 1322\u001b[0;31m         return_value = get_return_value(\n\u001b[0m\u001b[1;32m   1323\u001b[0m             answer, self.gateway_client, self.target_id, self.name)\n\u001b[1;32m   1324\u001b[0m \u001b[0;34m\u001b[0m\u001b[0m\n",
      "\u001b[0;32m/content/spark-3.5.0-bin-hadoop3/python/pyspark/errors/exceptions/captured.py\u001b[0m in \u001b[0;36mdeco\u001b[0;34m(*a, **kw)\u001b[0m\n\u001b[1;32m    183\u001b[0m                 \u001b[0;31m# Hide where the exception came from that shows a non-Pythonic\u001b[0m\u001b[0;34m\u001b[0m\u001b[0;34m\u001b[0m\u001b[0m\n\u001b[1;32m    184\u001b[0m                 \u001b[0;31m# JVM exception message.\u001b[0m\u001b[0;34m\u001b[0m\u001b[0;34m\u001b[0m\u001b[0m\n\u001b[0;32m--> 185\u001b[0;31m                 \u001b[0;32mraise\u001b[0m \u001b[0mconverted\u001b[0m \u001b[0;32mfrom\u001b[0m \u001b[0;32mNone\u001b[0m\u001b[0;34m\u001b[0m\u001b[0;34m\u001b[0m\u001b[0m\n\u001b[0m\u001b[1;32m    186\u001b[0m             \u001b[0;32melse\u001b[0m\u001b[0;34m:\u001b[0m\u001b[0;34m\u001b[0m\u001b[0;34m\u001b[0m\u001b[0m\n\u001b[1;32m    187\u001b[0m                 \u001b[0;32mraise\u001b[0m\u001b[0;34m\u001b[0m\u001b[0;34m\u001b[0m\u001b[0m\n",
      "\u001b[0;31mPythonException\u001b[0m: \n  An exception was thrown from the Python worker. Please see the stack trace below.\nTraceback (most recent call last):\n  File \"<ipython-input-22-633844c0c109>\", line 6, in <lambda>\n  File \"<ipython-input-22-633844c0c109>\", line 3, in n_people_in_conversation\n  File \"<ipython-input-22-633844c0c109>\", line 3, in <listcomp>\nTypeError: string indices must be integers\n"
     ]
    }
   ],
   "source": [
    "pan12_training_df_2 = pan12_training_df.withColumn(\"n_people_in_conversation\", UDF_n_people_in_conversation(\"text\"))\n",
    "pan12_training_df_2.show(truncate=False)"
   ]
  },
  {
   "cell_type": "code",
   "execution_count": null,
   "metadata": {
    "id": "jXWzJs9lE9mm"
   },
   "outputs": [],
   "source": [
    "pan12_training_df_2 = pan12_training_df.withColumn(\"n_people_in_conversation\", UDF_n_people_in_conversation(\"text\"))\\\n",
    "                                  .withColumn(\"type_conversation\", when(col('n_people_in_conversation') == 1, 'Monologue')\\\n",
    "                                                                  .when(col('n_people_in_conversation') == 2, 'Pair')\\\n",
    "                                                                  .when(col('n_people_in_conversation') >= 2, 'Group'))\\\n",
    "                                  .withColumn(\"merged_text\", UDF_merge_text(\"text\"))\\\n",
    "                                  .withColumn(\"merged_text_id\", UDF_merge_text_id(\"text\"))\\\n",
    "                                  .withColumn(\"n_texts\", UDF_n_texts_in_conversation(\"text\"))\\\n",
    "                                  .drop(\"text\")"
   ]
  },
  {
   "cell_type": "code",
   "execution_count": null,
   "metadata": {
    "colab": {
     "base_uri": "https://localhost:8080/",
     "height": 391
    },
    "executionInfo": {
     "elapsed": 6394,
     "status": "error",
     "timestamp": 1708056414278,
     "user": {
      "displayName": "Sunny Shin",
      "userId": "07563865141827084443"
     },
     "user_tz": 480
    },
    "id": "Ehz-8l5GGCxF",
    "outputId": "3bb8b89a-d878-44b1-bfa7-c52971fc73f8"
   },
   "outputs": [
    {
     "ename": "PythonException",
     "evalue": "\n  An exception was thrown from the Python worker. Please see the stack trace below.\nTraceback (most recent call last):\n  File \"<ipython-input-15-6018879285ad>\", line 6, in <lambda>\n  File \"<ipython-input-15-6018879285ad>\", line 3, in n_people_in_conversation\n  File \"<ipython-input-15-6018879285ad>\", line 3, in <listcomp>\nTypeError: string indices must be integers\n",
     "output_type": "error",
     "traceback": [
      "\u001b[0;31m---------------------------------------------------------------------------\u001b[0m",
      "\u001b[0;31mPythonException\u001b[0m                           Traceback (most recent call last)",
      "\u001b[0;32m<ipython-input-19-a015e778040b>\u001b[0m in \u001b[0;36m<cell line: 1>\u001b[0;34m()\u001b[0m\n\u001b[0;32m----> 1\u001b[0;31m \u001b[0mpan12_training_df_2\u001b[0m\u001b[0;34m.\u001b[0m\u001b[0mshow\u001b[0m\u001b[0;34m(\u001b[0m\u001b[0;36m3\u001b[0m\u001b[0;34m,\u001b[0m \u001b[0mtruncate\u001b[0m\u001b[0;34m=\u001b[0m\u001b[0;32mFalse\u001b[0m\u001b[0;34m)\u001b[0m\u001b[0;34m\u001b[0m\u001b[0;34m\u001b[0m\u001b[0m\n\u001b[0m",
      "\u001b[0;32m/content/spark-3.5.0-bin-hadoop3/python/pyspark/sql/dataframe.py\u001b[0m in \u001b[0;36mshow\u001b[0;34m(self, n, truncate, vertical)\u001b[0m\n\u001b[1;32m    970\u001b[0m                 )\n\u001b[1;32m    971\u001b[0m \u001b[0;34m\u001b[0m\u001b[0m\n\u001b[0;32m--> 972\u001b[0;31m             \u001b[0mprint\u001b[0m\u001b[0;34m(\u001b[0m\u001b[0mself\u001b[0m\u001b[0;34m.\u001b[0m\u001b[0m_jdf\u001b[0m\u001b[0;34m.\u001b[0m\u001b[0mshowString\u001b[0m\u001b[0;34m(\u001b[0m\u001b[0mn\u001b[0m\u001b[0;34m,\u001b[0m \u001b[0mint_truncate\u001b[0m\u001b[0;34m,\u001b[0m \u001b[0mvertical\u001b[0m\u001b[0;34m)\u001b[0m\u001b[0;34m)\u001b[0m\u001b[0;34m\u001b[0m\u001b[0;34m\u001b[0m\u001b[0m\n\u001b[0m\u001b[1;32m    973\u001b[0m \u001b[0;34m\u001b[0m\u001b[0m\n\u001b[1;32m    974\u001b[0m     \u001b[0;32mdef\u001b[0m \u001b[0m__repr__\u001b[0m\u001b[0;34m(\u001b[0m\u001b[0mself\u001b[0m\u001b[0;34m)\u001b[0m \u001b[0;34m->\u001b[0m \u001b[0mstr\u001b[0m\u001b[0;34m:\u001b[0m\u001b[0;34m\u001b[0m\u001b[0;34m\u001b[0m\u001b[0m\n",
      "\u001b[0;32m/content/spark-3.5.0-bin-hadoop3/python/lib/py4j-0.10.9.7-src.zip/py4j/java_gateway.py\u001b[0m in \u001b[0;36m__call__\u001b[0;34m(self, *args)\u001b[0m\n\u001b[1;32m   1320\u001b[0m \u001b[0;34m\u001b[0m\u001b[0m\n\u001b[1;32m   1321\u001b[0m         \u001b[0manswer\u001b[0m \u001b[0;34m=\u001b[0m \u001b[0mself\u001b[0m\u001b[0;34m.\u001b[0m\u001b[0mgateway_client\u001b[0m\u001b[0;34m.\u001b[0m\u001b[0msend_command\u001b[0m\u001b[0;34m(\u001b[0m\u001b[0mcommand\u001b[0m\u001b[0;34m)\u001b[0m\u001b[0;34m\u001b[0m\u001b[0;34m\u001b[0m\u001b[0m\n\u001b[0;32m-> 1322\u001b[0;31m         return_value = get_return_value(\n\u001b[0m\u001b[1;32m   1323\u001b[0m             answer, self.gateway_client, self.target_id, self.name)\n\u001b[1;32m   1324\u001b[0m \u001b[0;34m\u001b[0m\u001b[0m\n",
      "\u001b[0;32m/content/spark-3.5.0-bin-hadoop3/python/pyspark/errors/exceptions/captured.py\u001b[0m in \u001b[0;36mdeco\u001b[0;34m(*a, **kw)\u001b[0m\n\u001b[1;32m    183\u001b[0m                 \u001b[0;31m# Hide where the exception came from that shows a non-Pythonic\u001b[0m\u001b[0;34m\u001b[0m\u001b[0;34m\u001b[0m\u001b[0m\n\u001b[1;32m    184\u001b[0m                 \u001b[0;31m# JVM exception message.\u001b[0m\u001b[0;34m\u001b[0m\u001b[0;34m\u001b[0m\u001b[0m\n\u001b[0;32m--> 185\u001b[0;31m                 \u001b[0;32mraise\u001b[0m \u001b[0mconverted\u001b[0m \u001b[0;32mfrom\u001b[0m \u001b[0;32mNone\u001b[0m\u001b[0;34m\u001b[0m\u001b[0;34m\u001b[0m\u001b[0m\n\u001b[0m\u001b[1;32m    186\u001b[0m             \u001b[0;32melse\u001b[0m\u001b[0;34m:\u001b[0m\u001b[0;34m\u001b[0m\u001b[0;34m\u001b[0m\u001b[0m\n\u001b[1;32m    187\u001b[0m                 \u001b[0;32mraise\u001b[0m\u001b[0;34m\u001b[0m\u001b[0;34m\u001b[0m\u001b[0m\n",
      "\u001b[0;31mPythonException\u001b[0m: \n  An exception was thrown from the Python worker. Please see the stack trace below.\nTraceback (most recent call last):\n  File \"<ipython-input-15-6018879285ad>\", line 6, in <lambda>\n  File \"<ipython-input-15-6018879285ad>\", line 3, in n_people_in_conversation\n  File \"<ipython-input-15-6018879285ad>\", line 3, in <listcomp>\nTypeError: string indices must be integers\n"
     ]
    }
   ],
   "source": [
    "pan12_training_df_2.show(3, truncate=False)"
   ]
  },
  {
   "cell_type": "markdown",
   "metadata": {
    "id": "H_zCkhMQ6SQR"
   },
   "source": [
    "###3.3 Pickle files"
   ]
  },
  {
   "cell_type": "code",
   "execution_count": null,
   "metadata": {
    "id": "lwruhP7HIgIY"
   },
   "outputs": [],
   "source": [
    "def loading_pkl(name):\n",
    "    with open(name, 'rb') as f:\n",
    "        file = pickle.load(f)\n",
    "    return file"
   ]
  },
  {
   "cell_type": "code",
   "execution_count": null,
   "metadata": {
    "id": "zBPf8cuk877T"
   },
   "outputs": [],
   "source": [
    "PJ_pickle = f'drive/MyDrive/210 Capstone/Data/PJ.pkl'\n",
    "ZIG_pickle = f'drive/MyDrive/210 Capstone/Data/ZIG.pkl'\n",
    "CHIT_pickle = f'drive/MyDrive/210 Capstone/Data/CHIT.pkl'"
   ]
  },
  {
   "cell_type": "code",
   "execution_count": null,
   "metadata": {
    "colab": {
     "base_uri": "https://localhost:8080/"
    },
    "executionInfo": {
     "elapsed": 172,
     "status": "ok",
     "timestamp": 1706668542992,
     "user": {
      "displayName": "Leon Rafael Gutierrez",
      "userId": "04281760578940356494"
     },
     "user_tz": 480
    },
    "id": "AYgyGp6t91dR",
    "outputId": "95277625-5e72-44c3-fdf7-8c9c92ad755b"
   },
   "outputs": [
    {
     "data": {
      "text/plain": [
       "('Billy Joe',\n",
       " [[['decoy', '14:40', 'Hey Its Mads'],\n",
       "   ['Billy Joe', '14:40', 'Hey babes'],\n",
       "   ['Billy Joe', '14:41', 'Almost done with work. So glad'],\n",
       "   ['decoy', '14:41', \"Hey:) that's good right?\"],\n",
       "   ['Billy Joe', '14:42', 'Yea'],\n",
       "   ['decoy', '14:43', \"So what's new lol\"],\n",
       "   ['Billy Joe', '14:43', 'Nothing'],\n",
       "   ['Billy Joe', '14:43', 'did u touch it in the shower. Lol'],\n",
       "   ['decoy', '14:44', 'No had to hurry up lol'],\n",
       "   ['decoy', '14:44', 'Hold on a min'],\n",
       "   ['decoy', '14:47', 'Sorry my mom keeps bossing me around lol'],\n",
       "   ['Billy Joe', '14:47', 'That sucks'],\n",
       "   ['decoy', '14:48', \"Yeah it's annoying. Do u get along with your mom\"],\n",
       "   ['Billy Joe', '14:48', \"Kinda..she's nosy\"],\n",
       "   ['decoy', '14:48', 'Still lol'],\n",
       "   ['Billy Joe', '14:49', 'Yea'],\n",
       "   ['decoy', '14:50', 'Is it just u and her?'],\n",
       "   ['Billy Joe', '14:50', 'Whatcha doing now'],\n",
       "   ['Billy Joe', '14:51', 'Yea'],\n",
       "   ['decoy', '14:51', 'Same here :)'],\n",
       "   ['Billy Joe', '14:51', 'I know the feeling'],\n",
       "   ['decoy',\n",
       "    '14:52',\n",
       "    \"I am getting ready to run out to get my shoes for class. I prob won't be back until after class\"],\n",
       "   ['decoy',\n",
       "    '14:52',\n",
       "    'My mom is on my back right now could I call u when I get back'],\n",
       "   ['decoy', '14:52', 'It would be like around 8 or so'],\n",
       "   ['Billy Joe', '14:53', 'Damn'],\n",
       "   ['Billy Joe',\n",
       "    '14:53',\n",
       "    'So did u put on some Hot thongs when u Got out of the shower'],\n",
       "   ['decoy',\n",
       "    '14:53',\n",
       "    'I think if she is in her room I could sneak a quick call'],\n",
       "   ['Billy Joe', '14:53', 'Cell service sucks at my house'],\n",
       "   ['decoy', '14:53', 'Maybe'],\n",
       "   ['decoy', '14:54', 'It does ?'],\n",
       "   ['Billy Joe', '14:54', 'I live near the state forest'],\n",
       "   ['decoy', '14:54', 'So is daytime always better?'],\n",
       "   ['Billy Joe', '14:54', \"It's horrible\"],\n",
       "   ['Billy Joe', '14:54', 'Yes'],\n",
       "   ['decoy', '14:54', 'Do u see wild animals lol'],\n",
       "   ['Billy Joe', '14:54', 'Hope U can get out tomorrow'],\n",
       "   ['Billy Joe', '14:55', 'Yes..wild animal s'],\n",
       "   ['decoy',\n",
       "    '14:56',\n",
       "    \"I need to make sure my mom isn't home at all and I want to just take a few days to talk more so I feel safer is that ok?\"],\n",
       "   ['Billy Joe', '14:56', 'Ok'],\n",
       "   ['decoy',\n",
       "    '14:56',\n",
       "    \"I also want to hear your voice so I know u aren't like a grandpa or something lol\"],\n",
       "   ['decoy', '14:57', 'R u mad?'],\n",
       "   ['Billy Joe', '14:57', 'Grandfather?'],\n",
       "   ['Billy Joe', '14:57', \"I'm not old\"],\n",
       "   ['Billy Joe', '14:58', 'Wish U could call me now for like a min'],\n",
       "   ['decoy',\n",
       "    '14:58',\n",
       "    'I meant like some creepy 60 yr old pretending to be a young hot guy lol'],\n",
       "   ['Billy Joe', '14:58', 'Send me a couple Pics of u ok'],\n",
       "   ['decoy',\n",
       "    '14:58',\n",
       "    'Then he will use something to sedate me and throw me in the trunk'],\n",
       "   ['decoy', '14:58', 'I wish I could'],\n",
       "   ['Billy Joe', '14:59', 'Omg. Never..I hve to walk to the park anyway'],\n",
       "   ['decoy', '14:59', 'What???'],\n",
       "   ['Billy Joe',\n",
       "    '15:00',\n",
       "    \"Can't take deliver trucks in there. I hve to like park near mc dounalds\"],\n",
       "   ['decoy', '15:00', 'How big is your truck?'],\n",
       "   ['Billy Joe', '15:00', 'I will be on foot..that should make u feel safeer'],\n",
       "   ['decoy', '15:01', 'Lol how fast can u run'],\n",
       "   ['Billy Joe',\n",
       "    '15:01',\n",
       "    \"It's big. Can't bring trucks this size in the park.\"],\n",
       "   ['Billy Joe', '15:01', 'I can run..y ?'],\n",
       "   ['decoy', '15:02', 'Incase u r crazy and I need to run lol'],\n",
       "   ['Billy Joe',\n",
       "    '15:02',\n",
       "    'That is y I wanted to see if u were allowed to walk to mc dounalds'],\n",
       "   ['decoy', '15:02', 'So there is no way to call u tonight??'],\n",
       "   ['Billy Joe', '15:03', \"I'm not crazy silly\"],\n",
       "   ['Billy Joe', '15:03', \"Phone don't get out at my house. I swear.\"],\n",
       "   ['decoy', '15:03', \"If my mom isn't home I can walk where ever I want lol\"],\n",
       "   ['decoy', '15:04', 'Ok what time u working tomorrow?'],\n",
       "   ['Billy Joe',\n",
       "    '15:04',\n",
       "    \"I know it sucks. I'm Soooo sorry. In July phone come is putting a cell tower there tho\"],\n",
       "   ['Billy Joe', '15:04', '6Am'],\n",
       "   ['decoy', '15:05', 'Oh Jeez'],\n",
       "   ['decoy', '15:05', 'U want me to try to call tomorrow than'],\n",
       "   ['Billy Joe', '15:05', 'Yeaaa'],\n",
       "   ['Billy Joe', '15:05', 'Yes'],\n",
       "   ['Billy Joe', '15:06', 'Damn I wanna see u..lol'],\n",
       "   ['decoy', '15:06', \"Ok. Lol. Can I text u later when my mom isn't around\"],\n",
       "   ['decoy', '15:06', 'We can soon'],\n",
       "   ['decoy', '15:07', 'U want me to send u a pic'],\n",
       "   ['Billy Joe',\n",
       "    '15:07',\n",
       "    \"Well . Since I won't see u today me i will be home by 5\"],\n",
       "   ['decoy',\n",
       "    '15:07',\n",
       "    \"I have to from computer cause can't do from phone right now\"],\n",
       "   ['Billy Joe', '15:07', 'yes....pic'],\n",
       "   ['Billy Joe', '15:07', 'Hummmm .ok'],\n",
       "   ['decoy', '15:08', '??'],\n",
       "   ['Billy Joe', '15:08', \"That u can't Fr. Phone\"],\n",
       "   ['Billy Joe', '15:08', 'Sucks'],\n",
       "   ['Billy Joe', '15:09', 'Lol'],\n",
       "   ['decoy', '15:09', 'Well normally I can lol'],\n",
       "   ['decoy', '15:09', 'I have a smart phone'],\n",
       "   ['Billy Joe', '15:09', \"Y can't u\"],\n",
       "   ['Billy Joe', '15:10', \"What's wrong wit phone\"],\n",
       "   ['decoy', '15:10', 'Phone works fine'],\n",
       "   ['decoy', '15:11', 'My mom got pissed about something I did'],\n",
       "   ['decoy',\n",
       "    '15:12',\n",
       "    'And took away the cam somehow. I am supposed to get it back by this weekend'],\n",
       "   ['Billy Joe', '15:12', 'But she stopped the pic text on ur cell'],\n",
       "   ['Billy Joe', '15:13', 'Ohhhh ok'],\n",
       "   ['Billy Joe', '15:13', 'Mmmmm...thong Pics..bent over in the mirror...'],\n",
       "   ['Billy Joe', '15:13', 'Or splits..lol'],\n",
       "   ['decoy',\n",
       "    '15:13',\n",
       "    'I think I know how to make it work but worried she will find out and take the whole phone away'],\n",
       "   ['Billy Joe', '15:14', \"She won't...ur sneaky\"],\n",
       "   ['Billy Joe', '15:15', 'Lol'],\n",
       "   ['decoy',\n",
       "    '15:15',\n",
       "    \"Idk lol. Ok I am in car and I don't wanna text u with her here. So u can't even get texts later how about YIM\"],\n",
       "   ['Billy Joe', '15:16', 'No net'],\n",
       "   ['Billy Joe', '15:16', 'Soooooo sorry'],\n",
       "   ['decoy',\n",
       "    '15:17',\n",
       "    \"It's fine:) umm how about I text u in the morning then\"],\n",
       "   ['Billy Joe', '15:17', 'Looking forward to it.'],\n",
       "   ['Billy Joe', '15:17', 'Will miss U..lol'],\n",
       "   ['decoy', '15:17', \"Ok:) it won't be 6 am lol a little later\"],\n",
       "   ['Billy Joe', '15:18', 'Ok'],\n",
       "   ['decoy',\n",
       "    '15:18',\n",
       "    'Miss u too and I will try to figure out my moms schedule this week'],\n",
       "   ['Billy Joe', '15:18', 'Mwaaaa'],\n",
       "   ['Billy Joe', '15:18', 'I hope u figure it out'],\n",
       "   ['decoy', '15:19', ':D )'],\n",
       "   ['decoy', '15:19', 'I will'],\n",
       "   ['Billy Joe', '15:19', 'Delete all..'],\n",
       "   ['decoy', '15:20', 'Already done:):)'],\n",
       "   ['Billy Joe',\n",
       "    '15:21',\n",
       "    \"Admit it tho. U Want that licked softly don't u. Since we been talking about it. It sounds good Rite.\"],\n",
       "   ['decoy', '15:21', 'Yes It does lol'],\n",
       "   ['Billy Joe', '15:22', \"That's my girl\"],\n",
       "   ['decoy', '15:22', 'That sounds cool'],\n",
       "   ['Billy Joe', '15:22', 'Yes...my girl'],\n",
       "   ['decoy', '15:23', 'I like it:)'],\n",
       "   ['Billy Joe', '15:23', 'Awwwww'],\n",
       "   ['decoy', '15:23', '<3'],\n",
       "   ['Billy Joe',\n",
       "    '15:25',\n",
       "    'Take sum Pics tonight alone in ur room. Upload them to ur computer so u can send them to me tomorrow ok..will u'],\n",
       "   ['Billy Joe', '15:26', 'Wanna see how far U can split...lol']],\n",
       "  [['decoy', '06:38', 'Hey lol'],\n",
       "   ['Billy Joe', '06:38', 'Hey mads'],\n",
       "   ['Billy Joe', '06:38', 'Wrote U on mm'],\n",
       "   ['decoy', '06:39', 'Hi'],\n",
       "   ['Billy Joe', '06:39', 'Whatcha up 2'],\n",
       "   ['decoy',\n",
       "    '06:39',\n",
       "    \"I know I was on there too and sent u a message but it's too annoying to type in there lol\"],\n",
       "   ['decoy', '06:40', 'So I switched'],\n",
       "   ['decoy', '06:40', 'R u mad at me'],\n",
       "   ['Billy Joe', '06:41', 'No'],\n",
       "   ['decoy', '06:41', 'Just woke up lol'],\n",
       "   ['Billy Joe', '06:41', 'Annoying?'],\n",
       "   ['decoy', '06:42', 'Texting thru Meetme is annoying lol'],\n",
       "   ['Billy Joe', '06:42', \"What's the difference writing in there\"],\n",
       "   ['decoy', '06:43', 'It takes longer idk Im so weird haha'],\n",
       "   ['Billy Joe', '06:43', \"It's ok\"],\n",
       "   ['decoy', '06:44', \"So I can't call u around 6?\"],\n",
       "   ['Billy Joe', '06:44', 'Can u send Pics Fr your com'],\n",
       "   ['decoy', '06:44', 'Yeah'],\n",
       "   ['Billy Joe',\n",
       "    '06:46',\n",
       "    'I wake up 4 am every day at work by 5:45 am. Home by 5:30 at night.'],\n",
       "   ['Billy Joe', '06:46', 'Mom gets dinner ready by then'],\n",
       "   ['decoy', '06:46', 'Oh ok'],\n",
       "   ['decoy',\n",
       "    '06:47',\n",
       "    'Well I can just keep trying lol to find a time to call during the day'],\n",
       "   ['Billy Joe', '06:48', 'Sounds good'],\n",
       "   ['decoy',\n",
       "    '06:49',\n",
       "    \"I have to kinda wait and see cause if I ask her too many ?s about where she is going she knows I'm up to no good lol\"],\n",
       "   ['Billy Joe', '06:49', 'U said u can send Pics from Ur computer. Will u'],\n",
       "   ['decoy', '06:49', \"U sure u aren't mad at me?\"],\n",
       "   ['Billy Joe', '06:49', 'No..not mad'],\n",
       "   ['decoy', '06:49', 'Yes I will'],\n",
       "   ['decoy', '06:50', 'I feel kinda bad In really sorry'],\n",
       "   ['Billy Joe', '06:50', 'When baby'],\n",
       "   ['Billy Joe', '06:50', 'Bad?'],\n",
       "   ['Billy Joe', '06:50', 'Y'],\n",
       "   ['decoy', '06:50', 'I do want to see u and I am trying'],\n",
       "   ['Billy Joe', '06:50', 'I kno'],\n",
       "   ['decoy', '06:51', 'So u still like me'],\n",
       "   ['Billy Joe',\n",
       "    '06:51',\n",
       "    \"Just Wanna Make sure Ur not Gonna turn me in..wish I knew a way u could prove U won't\"],\n",
       "   ['decoy', '06:53', \"I won't thou\"],\n",
       "   ['Billy Joe',\n",
       "    '06:53',\n",
       "    \"I do know a way I could trust U. Can u Take Pics. Upload to ur computer then send them to me. What ever Pics U Take and add to ur computer. U can eras so mom don't see them. Lol\"],\n",
       "   ['decoy', '06:53', 'My mom would go crazy on me'],\n",
       "   ['decoy', '06:54', \"I won't even tell my BF\"],\n",
       "   ['Billy Joe', '06:54', 'Yeah and u would ruiened my life....forever'],\n",
       "   ['Billy Joe', '06:54', 'Your best friend.. or boy friend?'],\n",
       "   ['decoy', '06:55', 'Best friend lol'],\n",
       "   ['decoy',\n",
       "    '06:55',\n",
       "    \"I don't have my cam right now all I have are some pics on the computer\"],\n",
       "   ['Billy Joe', '06:56', 'No..no one..plz'],\n",
       "   ['decoy',\n",
       "    '06:56',\n",
       "    \"I can call u so u can hear my voice but it can't be when mom is here\"],\n",
       "   ['decoy', '06:57', \"I won't tell anyone\"],\n",
       "   ['Billy Joe',\n",
       "    '06:58',\n",
       "    'Well. I was thinking. If I got a pic of u in your thongs doing a wide split Laying down. I would kno then u were serious about us. And I could trust U. That would be some serious proff Rite.'],\n",
       "   ['decoy',\n",
       "    '06:58',\n",
       "    \"Idk what to say u seem super cool and I don't wanna ruin anything for anyone\"],\n",
       "   ['Billy Joe', '06:59', 'I am kool.'],\n",
       "   ['Billy Joe', '06:59', 'Just keep me safe..plzzz'],\n",
       "   ['decoy',\n",
       "    '06:59',\n",
       "    \"I really like u for real but I can't send a pic like that even if I had my cam\"],\n",
       "   ['decoy', '07:00', 'Keep me safe lol'],\n",
       "   ['Billy Joe',\n",
       "    '07:00',\n",
       "    'U hve to admit..that would be good proof tho Rite..the pic.'],\n",
       "   ['Billy Joe', '07:00', 'I will keep U safe.....safe and sound....lol'],\n",
       "   ['decoy',\n",
       "    '07:01',\n",
       "    \"There was a girl I know who did that with pics and they ended up on twitter and Twitter wouldn't even take them down\"],\n",
       "   ['Billy Joe',\n",
       "    '07:02',\n",
       "    'Omg...baby.. i swear on us..own my own life...I would Delete them off my phone'],\n",
       "   ['Billy Joe',\n",
       "    '07:03',\n",
       "    \"My mom sometimes borrows my phone on the weekend when I don't work. She don't have one...I erase everything...I swear it.\"],\n",
       "   ['decoy',\n",
       "    '07:03',\n",
       "    'Sending a pic like that feels way too scary for me like u I wanna feel safe'],\n",
       "   ['Billy Joe', '07:04', 'Ok....short shorts'],\n",
       "   ['Billy Joe', '07:04', \"Real short..but Sexy..that's clean ain't it.\"],\n",
       "   ['decoy', '07:04', 'Idk lol'],\n",
       "   ['Billy Joe', '07:05', 'Plzzzzz'],\n",
       "   ['decoy', '07:05', 'I have no way to take new pics right now'],\n",
       "   ['Billy Joe', '07:06', 'Okay.. send those other Pics of u can u'],\n",
       "   ['decoy',\n",
       "    '07:06',\n",
       "    'I can send u a couple from the computer and hopefully I will have my cam back this weekend'],\n",
       "   ['Billy Joe',\n",
       "    '07:07',\n",
       "    'I can Take Sexy Pics on cam without nudity..I swear it will help me feel at ease..'],\n",
       "   ['decoy', '07:07', 'I will for sure in a little while'],\n",
       "   ['decoy', '07:08', 'Let me see what I can do'],\n",
       "   ['Billy Joe',\n",
       "    '07:08',\n",
       "    \"Well the one I asked for in thong..U wouldn't even hve to hve Ur face in it..\"],\n",
       "   ['decoy', '07:08', \"I don't have a cam besides my phone anyway\"],\n",
       "   ['Billy Joe', '07:08', 'Just a nice Amazing split..lol'],\n",
       "   ['decoy',\n",
       "    '07:09',\n",
       "    \"Maybe u r just trying to get dirty pics and u really don't like me\"],\n",
       "   ['decoy', '07:09', 'Guys do that all the time'],\n",
       "   ['Billy Joe', '07:09', 'I swear.. I like u'],\n",
       "   ['decoy', '07:09', 'Kk'],\n",
       "   ['Billy Joe', '07:09', \"I won't play U..I thought about u all night.\"],\n",
       "   ['decoy', '07:10', 'I will send u some reg ones in a little'],\n",
       "   ['decoy', '07:10', 'U did? Really'],\n",
       "   ['Billy Joe',\n",
       "    '07:10',\n",
       "    'If I had my way..I would be willing to wait for us to be together when Ur older'],\n",
       "   ['Billy Joe', '07:10', 'I would wait....4.U.'],\n",
       "   ['decoy', '07:10', 'Really'],\n",
       "   ['Billy Joe', '07:11', 'Yesssssssss'],\n",
       "   ['decoy', '07:11', 'So like what would that mean'],\n",
       "   ['Billy Joe',\n",
       "    '07:11',\n",
       "    'I kept thinking about laying next to you And holding you from behind'],\n",
       "   ['Billy Joe', '07:12', 'I swear i thought about you all night'],\n",
       "   ['decoy', '07:12', ':)'],\n",
       "   ['Billy Joe',\n",
       "    '07:12',\n",
       "    'I like you more than you know i just wanna trust you'],\n",
       "   ['decoy', '07:12', 'I believe u I did too'],\n",
       "   ['Billy Joe', '07:12', 'What would what mean'],\n",
       "   ['Billy Joe', '07:13', 'we are so f***** if we get caught'],\n",
       "   ['decoy',\n",
       "    '07:13',\n",
       "    \"I'll brb I need to get up and walk the dog bfore my mom comes in here\"],\n",
       "   ['Billy Joe', '07:13', 'you can call me while walking the dog'],\n",
       "   ['Billy Joe', '07:13', 'Put your phone in your pocket'],\n",
       "   ['Billy Joe', '07:14', 'Take it outside and call me']],\n",
       "  [['decoy',\n",
       "    '07:53',\n",
       "    'Sorry my mom is up and rushing me i have to start school at 8 and have to get online I am gonna try to send some pics quick and text u when I get a break'],\n",
       "   ['decoy',\n",
       "    '08:00',\n",
       "    \"I don't think I can send pics from gmail to your phone gonna keep trying do u have an email address\"],\n",
       "   ['Billy Joe', '08:00', 'Hold on k'],\n",
       "   ['Billy Joe',\n",
       "    '08:06',\n",
       "    \"I don't hve one. But I know my sisters old gmail it still works. She is never ever on it. She only uses all now. She left her gmail account in my cell when she borrowed it one day. Pass word is Still there, I just checked.\"],\n",
       "   ['decoy', '08:08', 'Send me a quick mess at dancingmaddie757@gmail.com'],\n",
       "   ['Billy Joe',\n",
       "    '08:08',\n",
       "    'U need to put me in ur cell contact list under a girl. Play it safe.'],\n",
       "   ['decoy', '08:09', 'Ok lol what should I call u lol'],\n",
       "   ['Billy Joe', '08:11', 'U think of a name..something you will remember'],\n",
       "   ['Billy Joe',\n",
       "    '08:12',\n",
       "    'I just sent you a message To gmail . It says, hey maddie'],\n",
       "   ['Billy Joe', '08:13', \"From. *edited sister's account*\"],\n",
       "   ['Billy Joe',\n",
       "    '08:14',\n",
       "    \"Its my sisters she never uses it. I don't even think she remembers the password..lol i still have the password in my phone..ha ha\"],\n",
       "   ['decoy', '08:19', 'Ok gimme a min'],\n",
       "   ['Billy Joe', '08:19', 'K..'],\n",
       "   ['Billy Joe',\n",
       "    '08:20',\n",
       "    'Omg I wish U had Ur cam..it would be Soooo fun..lol']],\n",
       "  [['decoy', '09:11', 'just sent u a few pics'],\n",
       "   ['Billy Joe', '09:12', 'K....my girl....'],\n",
       "   ['Billy Joe', '09:14', 'Beautiful'],\n",
       "   ['Billy Joe', '09:15', 'Love the one in the tan pants / blood shirt..wow'],\n",
       "   ['decoy', '09:24', 'Lol thanks'],\n",
       "   ['decoy', '09:24', 'I have more but some have other people in them lol'],\n",
       "   ['Billy Joe', '09:26', \"It's ok..I love pictures\"],\n",
       "   ['decoy', '09:26', 'Ok so should I send a couple more'],\n",
       "   ['Billy Joe', '09:28', 'Yeah'],\n",
       "   ['decoy', '09:31', 'Kk will do in between school lol'],\n",
       "   ['Billy Joe', '09:32', 'What the Pics U just mention'],\n",
       "   ['Billy Joe', '09:33', 'How come yesterday U could chat all day..:('],\n",
       "   ['decoy', '09:34', 'Got break yesterday since still part of Easter break'],\n",
       "   ['Billy Joe', '09:34', 'I c'],\n",
       "   ['decoy', '09:34', 'I have some more pics on my computer I can send'],\n",
       "   ['Billy Joe', '09:35', 'Plz do..lol'],\n",
       "   ['decoy',\n",
       "    '09:35',\n",
       "    \"It's not the same schedule every day I do some on my own and some have like a class u sign into\"],\n",
       "   ['decoy', '09:35', \"It's some program my mom pays for\"],\n",
       "   ['Billy Joe', '09:36', 'Ohhhh ok'],\n",
       "   ['decoy', '09:36', 'I hate when I have to sign in'],\n",
       "   ['decoy', '09:36', \"But they can't see if u r paying attention lol\"],\n",
       "   ['decoy', '09:37', \"It's still better than reg school\"],\n",
       "   ['Billy Joe',\n",
       "    '09:37',\n",
       "    'So r U a little more excited about spreading for me while I Lick U softly and gentel..'],\n",
       "   ['decoy', '09:37', 'Maybe lol'],\n",
       "   ['decoy', '09:37', 'It sounds kinda nice'],\n",
       "   ['decoy', '09:38', \"Just don't do it hard\"],\n",
       "   ['Billy Joe',\n",
       "    '09:38',\n",
       "    'Tell the truth..I know u thought about it in bed last night..lok'],\n",
       "   ['Billy Joe', '09:38', \"I won't...very soft\"],\n",
       "   ['decoy', '09:38', 'I did a lot'],\n",
       "   ['Billy Joe', '09:39', 'Mmmmmm. Nice'],\n",
       "   ['Billy Joe', '09:39', \"So u played a little...U did didn't U.\"],\n",
       "   ['decoy', '09:39', \"I'm worried it might hurt\"],\n",
       "   ['Billy Joe', '09:39', 'Thinking of it'],\n",
       "   ['Billy Joe', '09:40', \"It doesn't hurt\"],\n",
       "   ['decoy', '09:40', 'I did try to lol'],\n",
       "   ['decoy', '09:40', 'U sure lol'],\n",
       "   ['Billy Joe', '09:40', 'Feels beautiful'],\n",
       "   ['Billy Joe', '09:40', 'Yes U will love it'],\n",
       "   ['decoy', '09:40', 'I do wanna have an O lol'],\n",
       "   ['Billy Joe', '09:41', 'Ohhhh U will baby'],\n",
       "   ['Billy Joe', '09:41', 'U will cream'],\n",
       "   ['decoy', '09:41', 'OMG this talk is very distracting lol'],\n",
       "   ['decoy', '09:41', \"What's that mean\"],\n",
       "   ['Billy Joe',\n",
       "    '09:42',\n",
       "    \"I'll start licking with Ur thongs on. Get those panties all wet.\"],\n",
       "   ['Billy Joe',\n",
       "    '09:45',\n",
       "    'Would be easier when we meet up to not wear jeans. Running pants or something. Easier in the park..'],\n",
       "   ['decoy', '09:45', 'Maybe a skirt?'],\n",
       "   ['Billy Joe', '09:46', 'Omg..yes'],\n",
       "   ['decoy', '09:46', 'Ok hopefully it will be warm enough lol'],\n",
       "   ['decoy', '09:47', 'U sure nobody will see us in park lol'],\n",
       "   ['Billy Joe',\n",
       "    '09:47',\n",
       "    \"I was going to suggest a skirt But i didn't want your mom to get suspicious If you went walking in a, skirt\"],\n",
       "   ['Billy Joe', '09:47', \"No..there's lots of trails in the park\"],\n",
       "   ['decoy',\n",
       "    '09:48',\n",
       "    \"Ok. I don't think she would think it was weird but I want to go on a day when she isn't here\"],\n",
       "   ['Billy Joe',\n",
       "    '09:48',\n",
       "    \"I'll eatYour pussy out in the woods..U will be Sooooo turned on\"],\n",
       "   ['decoy',\n",
       "    '09:48',\n",
       "    \"She works at home and in an office and sometimes I don't know when she is where\"],\n",
       "   ['decoy',\n",
       "    '09:49',\n",
       "    \"If I am up to something I can't ask too much or she will get suspicious and keep better track of me lol\"],\n",
       "   ['decoy', '09:49', 'That sounds kinda fun'],\n",
       "   ['Billy Joe',\n",
       "    '09:49',\n",
       "    'Does she ever let you walk to mcdonalds for an ice cream'],\n",
       "   ['decoy',\n",
       "    '09:50',\n",
       "    \"She lets me walk most places if I take my phone and it isn't dark\"],\n",
       "   ['decoy',\n",
       "    '09:50',\n",
       "    'But if I wanna be sneaky I do it when she goes to her office lol'],\n",
       "   ['decoy', '09:51', 'I get paranoid'],\n",
       "   ['Billy Joe', '09:51', \"Well then it's easy\"],\n",
       "   ['Billy Joe',\n",
       "    '09:51',\n",
       "    'How far of a walk is it to mc dounalds from Ur house'],\n",
       "   ['decoy', '09:51', 'What is I sent more pics'],\n",
       "   ['Billy Joe',\n",
       "    '09:52',\n",
       "    \"You won't have to be paranoid with me...i swear it's safe\"],\n",
       "   ['decoy',\n",
       "    '09:52',\n",
       "    \"It's further than park but I can do it. Would be really easy if I biked but I don't ride bikes lol\"],\n",
       "   ['Billy Joe',\n",
       "    '09:52',\n",
       "    \"If she let's U walk most places.. we should be able to meet up easily maddie\"],\n",
       "   ['decoy', '09:52', 'I am more paranoid about my mom than u'],\n",
       "   ['decoy', '09:53', 'I hate getting in trouble'],\n",
       "   ['Billy Joe',\n",
       "    '09:53',\n",
       "    \"Ur just scared and nervous..U don't hve to be baby\"],\n",
       "   ['decoy',\n",
       "    '09:53',\n",
       "    'Yes I know I can meet u I just want her to be gone when I do'],\n",
       "   ['decoy',\n",
       "    '09:53',\n",
       "    'I get worried that she will take away my dance or make me go live with my dad or something']],\n",
       "  [['decoy', '12:26', 'Yes just me'],\n",
       "   ['Billy Joe', '12:27', 'Who set it up tho'],\n",
       "   ['decoy', '12:27', 'I keep a yahoo one too'],\n",
       "   ['decoy', '12:29', 'I will delete anything you want to send me'],\n",
       "   ['decoy', '12:29', 'I did Y'],\n",
       "   ['Billy Joe',\n",
       "    '12:34',\n",
       "    \"Didn't want Ur parents looking into who was sending U mail Silly\"],\n",
       "   ['decoy', '12:34', 'R u working tomorrow?'],\n",
       "   ['Billy Joe', '12:34', 'We both agreed we have to be smart'],\n",
       "   ['Billy Joe', '12:34', 'Yea y?'],\n",
       "   ['Billy Joe', '12:36', 'Yeah why what are you thinking'],\n",
       "   ['decoy',\n",
       "    '12:36',\n",
       "    'I am looking at my moms schedule and she has something written on there that makes it look like she has to go in her office tomorrow. I am trying to fig it out without it seeming weird at all'],\n",
       "   ['decoy', '12:36', 'I am working on it lol'],\n",
       "   ['Billy Joe', '12:37', 'K'],\n",
       "   ['Billy Joe', '12:38', \"Yea, But u don't kno what time she will go\"],\n",
       "   ['Billy Joe', '12:38', \"Hard For me to plan if u don't know what time\"],\n",
       "   ['decoy', '12:39', 'I am trying to fig out now doing my best'],\n",
       "   ['Billy Joe',\n",
       "    '12:40',\n",
       "    \"Ain't it easier to tell her you're going to go for a walk..if we're careful she won't see us together\"],\n",
       "   ['Billy Joe', '12:40', 'I will be off around 330 today'],\n",
       "   ['Billy Joe', '12:41', \"Can't you just go for a walk it's a nice day out\"],\n",
       "   ['decoy',\n",
       "    '12:44',\n",
       "    \"Please I just need to be careful. If u can just wait a day or two I KNOW I can get there. She is here I am doing schoolwork and have dance again to tonight. I don't want to show up and have to leave after 10 min lol please\"],\n",
       "   ['Billy Joe',\n",
       "    '12:44',\n",
       "    'trying to think of something To make it easier on you. Okay are there any woods around your house..like a walking trail?'],\n",
       "   ['Billy Joe', '12:44', 'Okay'],\n",
       "   ['Billy Joe', '12:45', \"It's ok..I understand\"],\n",
       "   ['decoy',\n",
       "    '12:46',\n",
       "    \"I think the park is prob better I don't want to be near my house omg\"],\n",
       "   ['Billy Joe', '12:46', 'Ik'],\n",
       "   ['Billy Joe', '12:46', 'Ok..lol'],\n",
       "   ['Billy Joe',\n",
       "    '12:47',\n",
       "    'Did you see the new pictures i sent you to the gmail...ha ha'],\n",
       "   ['decoy',\n",
       "    '12:47',\n",
       "    'Just please know I want to come so bad and I will find a way. Just like u I have a nosy mom and I know how to get her off of back and what makes her worse'],\n",
       "   ['decoy', '12:48', 'I will look at pics. Lol what are they'],\n",
       "   ['Billy Joe', '12:49', 'Example pics of how i would like you to do'],\n",
       "   ['Billy Joe', '12:49', 'or something close to it'],\n",
       "   ['Billy Joe',\n",
       "    '12:50',\n",
       "    'i swear to god if you did pics like that i would know you were serious'],\n",
       "   ['decoy', '12:50', 'Ok maybe in person u have a cam?'],\n",
       "   ['decoy',\n",
       "    '12:51',\n",
       "    'I might be willing to let u take a pic of me like that but I am no way sending that on a text'],\n",
       "   ['decoy', '12:51', 'U never even sent me a pic of yourself'],\n",
       "   ['Billy Joe', '12:51', 'Yea...I would love to take Pics of u'],\n",
       "   ['Billy Joe', '12:52', 'I will'],\n",
       "   ['decoy', '12:52', 'U would? How would u keep them away from your mother?'],\n",
       "   ['Billy Joe',\n",
       "    '12:52',\n",
       "    'Always make sure you delete all of your gmail i sent'],\n",
       "   ['decoy', '12:53', 'Duh yeah!'],\n",
       "   ['Billy Joe',\n",
       "    '12:54',\n",
       "    'Any pics i take of u i will only keep for a couple of days and delete them'],\n",
       "   ['decoy', '12:57', 'U sure u will delete them'],\n",
       "   ['Billy Joe', '12:59', 'Honest'],\n",
       "   ['decoy', '13:00', 'Ok. Will u send me a pic of you'],\n",
       "   ['Billy Joe',\n",
       "    '13:00',\n",
       "    'Sent Pics..gmail..not sure if you got them right away'],\n",
       "   ['Billy Joe', '13:00', 'Check'],\n",
       "   ['decoy', '13:02', 'Ok'],\n",
       "   ['Billy Joe',\n",
       "    '13:03',\n",
       "    \"Maybe i'm not your type. Lol i guess you'll just have to look and see\"],\n",
       "   ['decoy', '13:04', 'Nice really cute I like them a lot'],\n",
       "   ['Billy Joe', '13:05', 'awwww..really'],\n",
       "   ['Billy Joe', '13:05', 'Honestly'],\n",
       "   ['decoy', '13:05', 'Yes I am totally serious I love the pics'],\n",
       "   ['Billy Joe', '13:06', 'Ur sweet'],\n",
       "   ['Billy Joe', '13:07', 'wanna see how beautiful my cock is...do u..lol'],\n",
       "   ['decoy',\n",
       "    '13:08',\n",
       "    'Maybe u wanna send it? I have never seen a real one bfore lol'],\n",
       "   ['Billy Joe', '13:09', 'Not sure if it would turn you on or not'],\n",
       "   ['Billy Joe', '13:09', 'What do you mean maybe i wanna send it'],\n",
       "   ['decoy', '13:09', 'Lol I have always wanted to see one haha'],\n",
       "   ['decoy', '13:10', 'Do u wanna send it lol'],\n",
       "   ['Billy Joe', '13:10', \"you can't be serious you've never seen one\"],\n",
       "   ['decoy',\n",
       "    '13:11',\n",
       "    \"Pics only never in person or anyone's I know that I like\"],\n",
       "   ['Billy Joe',\n",
       "    '13:11',\n",
       "    'So you have seen a real one just not one you have like'],\n",
       "   ['decoy', '13:12', 'I never have seen one of someone I liked make sense'],\n",
       "   ['decoy',\n",
       "    '13:12',\n",
       "    'No lol like I have seen my little cousins run around naked and one time I googled it lol'],\n",
       "   ['Billy Joe',\n",
       "    '13:12',\n",
       "    \"I just pulled it out while driving...lol..it's crazy but i sent it..please delete it i don't want anyone to see it\"],\n",
       "   ['decoy', '13:13', 'OMG lol that sounds dangerous hahah'],\n",
       "   ['decoy', '13:13', 'Hold on'],\n",
       "   ['Billy Joe',\n",
       "    '13:13',\n",
       "    'So you have googled cocks..nice. mY naughty little girl'],\n",
       "   ['decoy', '13:14', 'OMG that is gigantic!!!!'],\n",
       "   ['Billy Joe', '13:14', \"Yeah i'm pretty big\"],\n",
       "   ['Billy Joe', '13:14', 'Do you like it'],\n",
       "   ['decoy', '13:15', \"Yeah I do but kinda nervous since it's so big lol\"],\n",
       "   ['decoy', '13:15', 'That is so big OMG'],\n",
       "   ['Billy Joe', '13:16', 'I wanna rub it on your tight little virgin pussy'],\n",
       "   ['Billy Joe', '13:16', \"Don't worri..I won't try to put it in.. I promise\"],\n",
       "   ['Billy Joe',\n",
       "    '13:17',\n",
       "    \"Well that sucks you're even more nervous now than you were before..lol.. maybe i shouldn't have sent that picture\"],\n",
       "   ['decoy', '13:17', 'Ok that would really hurt'],\n",
       "   ['decoy', '13:17', \"No it's all good I swear\"],\n",
       "   ['decoy', '13:18', 'I am excited and nervous lol'],\n",
       "   ['decoy', '13:18', \"It's a really nice penis\"],\n",
       "   ['Billy Joe',\n",
       "    '13:18',\n",
       "    'Gonna teach U how to Lick it..go down on it sum..jerk it til it explodes.'],\n",
       "   ['Billy Joe', '13:18', 'Thank u'],\n",
       "   ['decoy', '13:19', 'Wow ok:)'],\n",
       "   ['Billy Joe', '13:19', 'Do you think you would like to watch it orgasm'],\n",
       "   ['decoy', '13:19', 'Yea never seen that either but heard about it lol'],\n",
       "   ['Billy Joe',\n",
       "    '13:20',\n",
       "    \"i'm going to turn you into such a naughty little girl\"],\n",
       "   ['decoy', '13:20', 'What does that mean lol'],\n",
       "   ['Billy Joe', '13:21', 'U will love fooling around..U will see'],\n",
       "   ['decoy', '13:22', 'I think I might'],\n",
       "   ['Billy Joe', '13:23', 'U will baby'],\n",
       "   ['Billy Joe',\n",
       "    '13:24',\n",
       "    'Wanna see what position i would love to lick your pussy In..'],\n",
       "   ['decoy', '13:24', 'yes'],\n",
       "   ['Billy Joe', '13:25', 'K..hold on'],\n",
       "   ['Billy Joe', '13:27', \"It's there. Check\"],\n",
       "   ['Billy Joe', '13:27', 'S*** it says its still sending'],\n",
       "   ['decoy', '13:28', 'I got it lol'],\n",
       "   ['Billy Joe', '13:28', 'I sent two tho'],\n",
       "   ['decoy', '13:29', 'Ok lemme check'],\n",
       "   ['decoy', '13:30', 'I got it. That may be weird to do in the woods lol'],\n",
       "   ['Billy Joe',\n",
       "    '13:30',\n",
       "    'You think you would want to try that..bent over while i lick it'],\n",
       "   ['Billy Joe', '13:31', 'No way..it would be so much fun in the woods'],\n",
       "   ['Billy Joe', '13:32', 'So do you have firm hard little titties'],\n",
       "   ['decoy',\n",
       "    '13:32',\n",
       "    'U think lol I would be willing to try it as long as u r careful with me.'],\n",
       "   ['Billy Joe', '13:33', 'i promise to be careful i swear'],\n",
       "   ['decoy',\n",
       "    '13:33',\n",
       "    'I need to get off here and finish school stuff bfore my mom starts investigating. I will try to get back back on bfore dance but if not will get on early tomorrow :):)'],\n",
       "   ['Billy Joe',\n",
       "    '13:33',\n",
       "    'i wish there was something i could do to make you trust me..'],\n",
       "   ['decoy', '13:33', 'They are small but ok think lol'],\n",
       "   ['Billy Joe', '13:34', 'Delete all your gmail and text messages'],\n",
       "   ['Billy Joe', '13:34', 'I like them small'],\n",
       "   ['Billy Joe', '13:35', 'Tomorrow....uuhhhhhh :):('],\n",
       "   ['decoy', '13:38', 'Good:) I will I promise !!! <3'],\n",
       "   ['Billy Joe', '13:39', 'What tomorrow'],\n",
       "   ['decoy',\n",
       "    '13:40',\n",
       "    'I will delete texts and pics promise and will try to see if I can come tomorrow ok'],\n",
       "   ['Billy Joe', '13:41', 'around what time..after 4 Rite?'],\n",
       "   ['decoy', '13:43', \"Idk I am checking ok what's best\"],\n",
       "   ['Billy Joe', '13:44', 'Problem After 4'],\n",
       "   ['decoy', '13:44', 'I will do my best kk and let u know'],\n",
       "   ['Billy Joe',\n",
       "    '13:44',\n",
       "    'But if i had a couple hours notice..i could probably skip out on the later part of the day'],\n",
       "   ['decoy', '13:45', 'Ok will try 4 bfore'],\n",
       "   ['Billy Joe', '13:45', \"If u don't have dance tomorrow..anytime after 4\"],\n",
       "   ['decoy', '13:48', 'Kk']],\n",
       "  [['decoy', '16:06', 'Hey u still around'],\n",
       "   ['Billy Joe', '16:06', 'Y'],\n",
       "   ['decoy',\n",
       "    '16:07',\n",
       "    'I am getting ready to leave for dance but my mom will be out tomorrow after noon'],\n",
       "   ['Billy Joe',\n",
       "    '16:07',\n",
       "    \"Hey someone called my cell but I didn't answer..number was from laurenceburg Indiana..Omg Ur dad don't live there Dose he...just that no one calls my cell that I don't kno.\"],\n",
       "   ['Billy Joe', '16:08', 'What after 12'],\n",
       "   ['decoy', '16:08', 'Noooo my Dad lives in PA lol'],\n",
       "   ['Billy Joe', '16:09', 'So Ur saying Ur mom leaves around 12?'],\n",
       "   ['decoy',\n",
       "    '16:09',\n",
       "    'My mom has to go to her office around 12:30 for the afternoon so I can come to the park if u can and still wanna'],\n",
       "   ['decoy', '16:10', 'I am freaking out lol'],\n",
       "   ['Billy Joe',\n",
       "    '16:10',\n",
       "    'If Ur serious..I can call my boss. And take off early..'],\n",
       "   ['decoy',\n",
       "    '16:11',\n",
       "    'U really would? I can for real. Once she leaves I can just walk over to the park'],\n",
       "   ['Billy Joe',\n",
       "    '16:11',\n",
       "    \"But u will probably change Ur mind tomorrow. Or tell me Ur mom didn't leave..and I call the boss for nothing..r U sure baby\"],\n",
       "   ['decoy',\n",
       "    '16:12',\n",
       "    'Yes I am I swear I have been trying to fig this out for 2 days'],\n",
       "   ['Billy Joe',\n",
       "    '16:12',\n",
       "    \"Unwilling be there if Ur not lieing or back out on me..if you don't go...I won't trust U to me meet Ever again..U swear?\"],\n",
       "   ['decoy',\n",
       "    '16:12',\n",
       "    'As long as I am back around the time she gets home it will be totally fine'],\n",
       "   ['Billy Joe',\n",
       "    '16:13',\n",
       "    'Cause I would have to call now so I can get off earlier tomorrow'],\n",
       "   ['decoy', '16:13', 'I swear I will go'],\n",
       "   ['decoy', '16:13', 'I will I promise'],\n",
       "   ['Billy Joe', '16:13', 'What time Dose she Come back'],\n",
       "   ['decoy', '16:13', 'Like around 5:30'],\n",
       "   ['Billy Joe', '16:14', 'Plz keep Ur promiss and I swear U can trust me..'],\n",
       "   ['Billy Joe', '16:14', 'Omg..we hve a few hours'],\n",
       "   ['decoy', '16:14', 'I will just please promise me that u r really nice'],\n",
       "   ['Billy Joe', '16:14', 'What u gonna wear baby'],\n",
       "   ['Billy Joe', '16:14', \"I'm very Nice..promise\"],\n",
       "   ['decoy', '16:14', 'U seem nice I want to trust that you are'],\n",
       "   ['decoy', '16:15', 'What should I wear'],\n",
       "   ['Billy Joe', '16:15', 'Thonng...'],\n",
       "   ['Billy Joe', '16:15', 'Do u have a silk one'],\n",
       "   ['decoy', '16:15', 'Ok what color'],\n",
       "   ['decoy', '16:15', 'I think so lol'],\n",
       "   ['Billy Joe', '16:15', 'U pick....'],\n",
       "   ['Billy Joe', '16:16', 'Or lace'],\n",
       "   ['decoy', '16:16', 'Ok:)'],\n",
       "   ['Billy Joe', '16:16', \"Pink is Hot..or white..it's up to u\"],\n",
       "   ['decoy',\n",
       "    '16:17',\n",
       "    'Ok I will I am excited and nervous and so many things lol'],\n",
       "   ['Billy Joe',\n",
       "    '16:17',\n",
       "    \"I don't kno if u wear a skirt if anyone at the park would be suspeciace\"],\n",
       "   ['decoy', '16:17', 'So what time u thinking u can come'],\n",
       "   ['Billy Joe', '16:17', \"It's normal to be nervous.\"],\n",
       "   ['Billy Joe', '16:18', \"I'm gonna start walking up that way around noon.\"],\n",
       "   ['decoy',\n",
       "    '16:18',\n",
       "    'People wear skirts all the time lol maybe I can wear leggings under'],\n",
       "   ['Billy Joe', '16:18', 'Omg..good idea...leggins and skirt over'],\n",
       "   ['Billy Joe', '16:18', 'No bra ok....none'],\n",
       "   ['Billy Joe', '16:19', 'Want my hands on Ur titties....yeaaaaa'],\n",
       "   ['decoy',\n",
       "    '16:19',\n",
       "    'Ok I gotta go to dance but I promise and swear I will be there'],\n",
       "   ['decoy',\n",
       "    '16:19',\n",
       "    \"Ok where will u be in the park and can u wear a certain color shirt so I don't get confused\"],\n",
       "   ['decoy', '16:19', 'Ok no bra lol'],\n",
       "   ['Billy Joe', '16:20', 'Text me tomorrow around noon ok'],\n",
       "   ['Billy Joe', '16:21', 'Shave fresh tonight...lol'],\n",
       "   ['decoy', '16:21', 'Lol ok. Ok shave like u said?'],\n",
       "   ['Billy Joe', '16:21', 'Just a little stripe...can u?'],\n",
       "   ['Billy Joe',\n",
       "    '16:22',\n",
       "    \"Omg..I hope I can trust U. And u haven't told anyone..I'm nervous too\"],\n",
       "   ['decoy',\n",
       "    '16:22',\n",
       "    'U want me to text u as I am leaving to walk there? Yes I think I can so a stripe lol'],\n",
       "   ['decoy', '16:22', 'Do a stripe lol'],\n",
       "   ['decoy', '16:22', 'Nobody R u crazy lol'],\n",
       "   ['decoy', '16:22', 'How will I find u'],\n",
       "   ['Billy Joe',\n",
       "    '16:23',\n",
       "    \"We can meet up as soon as I kno Ur there..don't kno yet. Will check it out tomorrow ok..\"],\n",
       "   ['decoy',\n",
       "    '16:24',\n",
       "    \"Ok I don't wanna text near my mom cause I might look funny I promise will all my heart I will be there. I will wear a black tee shirt so u can see me and know it's me kk\"],\n",
       "   ['decoy',\n",
       "    '16:24',\n",
       "    'So u want me to text u from the park or before I leave'],\n",
       "   ['Billy Joe', '16:25', 'Before U leave the house ok.'],\n",
       "   ['decoy',\n",
       "    '16:25',\n",
       "    'I will text u tomorrow I am so excited to meet u please please be nice to me I am so new at this :)'],\n",
       "   ['Billy Joe',\n",
       "    '16:26',\n",
       "    'U kno the park better than me. Maybe we can meet at the pond area'],\n",
       "   ['Billy Joe', '16:27', 'I will i swear...treat U like the flower U r'],\n",
       "   ['Billy Joe', '16:28', 'What color skirt..Jean..short or longer'],\n",
       "   ['decoy',\n",
       "    '16:28',\n",
       "    'Yes I think there is like a little house there too ok gotta go yeah excited!'],\n",
       "   ['Billy Joe', '16:29', 'Yea..cabin house..bye']],\n",
       "  [['decoy', '10:01', 'y I would get in sooo much trouble'],\n",
       "   ['decoy', '10:02', 'r u trying to bail on me :((('],\n",
       "   ['Billy Joe', '10:07', 'No'],\n",
       "   ['Billy Joe', '10:07', 'I wanna go badly..trust me'],\n",
       "   ['decoy', '10:09', 'Good :)))'],\n",
       "   ['Billy Joe',\n",
       "    '10:09',\n",
       "    \"Just don't wanna get hauled off in a striped car with numbers on it cause U set me up. I get there and get the surprise of my life .\"],\n",
       "   ['decoy', '10:10', 'me either OMG I would be in soo much trouble'],\n",
       "   ['Billy Joe',\n",
       "    '10:10',\n",
       "    \"With u not being legal and u doing that. It's a possibility I've thought of..\"],\n",
       "   ['Billy Joe', '10:11', 'U would not be in trouble .'],\n",
       "   ['Billy Joe', '10:11', \"They would see you as a hero Because i'm older .\"],\n",
       "   ['decoy', '10:12', 'my mom would ground me for life for even talkin'],\n",
       "   ['Billy Joe',\n",
       "    '10:12',\n",
       "    \"You don't even have to do anything wrong..just getting me there to meet you Isn't doing anything wrong on your part\"],\n",
       "   ['Billy Joe',\n",
       "    '10:13',\n",
       "    'But yes all i have thought about is being with you'],\n",
       "   ['Billy Joe', '10:13', 'Starting to feel something for you'],\n",
       "   ['decoy', '10:13', \"My mom wouldn't care...\"],\n",
       "   ['Billy Joe', '10:13', 'But I wanna trust you so bad'],\n",
       "   ['decoy', '10:14', 'I have feelings for u 2 :)))'],\n",
       "   ['Billy Joe',\n",
       "    '10:15',\n",
       "    \"How do i know you haven't told your mom, and you're both trying to get me there..you have to admit anything is possible\"],\n",
       "   ['Billy Joe',\n",
       "    '10:15',\n",
       "    'You do know its normal for me to think about this right..all of the possibilities and what could go wrong'],\n",
       "   ['decoy', '10:15', 'I am trusting u not to kill me :)'],\n",
       "   ['Billy Joe', '10:16', 'Omg..Yea Rite'],\n",
       "   ['decoy', '10:16', 'I understand jus don know what I can do...'],\n",
       "   ['Billy Joe',\n",
       "    '10:16',\n",
       "    'You have my phone number and your mom has my phone records. My sisters boyfriends gmail account'],\n",
       "   ['Billy Joe',\n",
       "    '10:17',\n",
       "    \"We're still going to meet today i just hope everything will be ok\"],\n",
       "   ['Billy Joe',\n",
       "    '10:17',\n",
       "    'All i wanna do is hold you At first until were both comfortable ok'],\n",
       "   ['Billy Joe', '10:18', 'Take it slow'],\n",
       "   ['Billy Joe', '10:18', \"I'm just as scared and excited as you are\"],\n",
       "   ['decoy', '10:18', 'Sounds good to me :)))'],\n",
       "   ['Billy Joe', '10:19', 'Less than 3 hours away Now....'],\n",
       "   ['Billy Joe', '10:19', 'I promise to make your day nice'],\n",
       "   ['Billy Joe', '10:19', \"Just don't ruin my life please..\"],\n",
       "   ['decoy', '10:20', \"Can't hardly wait :))))))\"],\n",
       "   ['decoy', '10:20', \"I won't I swear\"],\n",
       "   ['Billy Joe', '10:21', 'ok'],\n",
       "   ['Billy Joe',\n",
       "    '10:21',\n",
       "    \"What time do you think you're going to start walking there\"],\n",
       "   ['decoy', '10:22', \"Omg I can't even concentrate on school now...\"],\n",
       "   ['decoy', '10:23', 'When u tell me...'],\n",
       "   ['decoy', '10:24', 'After mom leaves of course :)'],\n",
       "   ['Billy Joe',\n",
       "    '10:24',\n",
       "    'If u Get there before me..Rite before the pond and that little house..there are picnic tables under like a coverd building. If no one is sitting there. U could go there..'],\n",
       "   ['decoy', '10:25', 'ok'],\n",
       "   ['Billy Joe',\n",
       "    '10:25',\n",
       "    'Ok.. tell me when u start heading there ok and Tx when she leaves plz'],\n",
       "   ['decoy',\n",
       "    '10:25',\n",
       "    'I will text u when she leaves she is getting on my case'],\n",
       "   ['Billy Joe', '10:25', 'Hope she really is going to work...lol'],\n",
       "   ['decoy', '10:26', 'Kk :)'],\n",
       "   ['Billy Joe', '10:26', \"K....Omg. she don't kno Ur texting Rite...\"],\n",
       "   ['Billy Joe', '10:27', 'Ok get sum work done'],\n",
       "   ['decoy',\n",
       "    '10:27',\n",
       "    \"She doesn't know who just that I keep getting on my phone\"],\n",
       "   ['Billy Joe', '10:29', 'Erase Plzzzzz everything'],\n",
       "   ['decoy', '10:29', 'I do... always']],\n",
       "  [['Billy Joe', '12:24', '?'],\n",
       "   ['decoy', '12:26', 'She is getting ready to leave'],\n",
       "   ['Billy Joe', '12:26', 'Ok'],\n",
       "   ['decoy', '12:32', 'She just pulled out'],\n",
       "   ['Billy Joe', '12:34', 'Ok..did u change clothes'],\n",
       "   ['decoy', '12:36', 'well not yet... she just left'],\n",
       "   ['Billy Joe', '12:36', 'Ok..change..lol...when I leaving'],\n",
       "   ['decoy', '12:37', 'changing.. when should I go'],\n",
       "   ['Billy Joe', '12:38', 'As soon as u change ok'],\n",
       "   ['Billy Joe', '12:38', 'Meet U there'],\n",
       "   ['decoy',\n",
       "    '12:39',\n",
       "    \"ok... will u be there soon I don't wanna sit by myself forever..\"],\n",
       "   ['Billy Joe', '12:39', \"I'm almost there Baby\"],\n",
       "   ['Billy Joe', '12:40', \"It's a beautiful day\"],\n",
       "   ['Billy Joe', '12:40', 'Little windy..but pretty'],\n",
       "   ['decoy', '12:40', \"oh ok I'll hurry\"],\n",
       "   ['Billy Joe',\n",
       "    '12:41',\n",
       "    'Yea. Hurry. What kind of skirt so I kno what to look for. Short or long..Jean?'],\n",
       "   ['decoy', '12:42', 'I got my jean skirt and black leggings'],\n",
       "   ['Billy Joe', '12:42', 'No bra...lol'],\n",
       "   ['Billy Joe',\n",
       "    '12:42',\n",
       "    'Ok....what entrance U going in. At the big curvy top of hill?'],\n",
       "   ['decoy', '12:43', \"I guess it's medium... lol\"],\n",
       "   ['decoy', '12:44', \"it's faster for me to walk thru the back\"],\n",
       "   ['Billy Joe', '12:44', 'Ok'],\n",
       "   ['decoy', '12:44', 'What r u wearing so I know...'],\n",
       "   ['Billy Joe',\n",
       "    '12:45',\n",
       "    'Ok..go threw the back..is the back closer to the pond'],\n",
       "   ['Billy Joe', '12:46', 'Jean black hoddi'],\n",
       "   ['decoy', '12:46', 'yes'],\n",
       "   ['Billy Joe', '12:46', 'Ok. Tell me when u made it there'],\n",
       "   ['Billy Joe', '12:47', 'No worries...I promise'],\n",
       "   ['decoy', '12:51', 'I am leaving now'],\n",
       "   ['Billy Joe', '12:52', 'Ok.'],\n",
       "   ['Billy Joe', '12:52', 'Let me know when Ur here ok.'],\n",
       "   ['decoy', '12:52', 'still go to the picnic table by the cabin?'],\n",
       "   ['Billy Joe', '12:53', 'No'],\n",
       "   ['decoy', '12:53', 'where then'],\n",
       "   ['Billy Joe', '12:53', 'Go by play area..'],\n",
       "   ['decoy', '12:54', 'ok which one'],\n",
       "   ['Billy Joe',\n",
       "    '12:54',\n",
       "    'Lots of people working here..could be hard...just keep coming tho'],\n",
       "   ['decoy', '12:55', 'Ok'],\n",
       "   ['decoy', '12:56', 'On my way :)'],\n",
       "   ['Billy Joe',\n",
       "    '12:57',\n",
       "    'When u get here. We can meet up and walk together for a while and just talk ok.'],\n",
       "   ['decoy', '12:57', 'Kk :)'],\n",
       "   ['Billy Joe',\n",
       "    '12:58',\n",
       "    'I found a good spot....trust me..but we gotta walk together first..play it careful'],\n",
       "   ['decoy', '12:59', 'K about halfway there']]])"
      ]
     },
     "execution_count": 63,
     "metadata": {},
     "output_type": "execute_result"
    }
   ],
   "source": [
    "conversations = loading_pkl(PJ_pickle)\n",
    "conversations[0]"
   ]
  },
  {
   "cell_type": "code",
   "execution_count": null,
   "metadata": {
    "colab": {
     "base_uri": "https://localhost:8080/"
    },
    "executionInfo": {
     "elapsed": 153,
     "status": "ok",
     "timestamp": 1706676387427,
     "user": {
      "displayName": "Leon Rafael Gutierrez",
      "userId": "04281760578940356494"
     },
     "user_tz": 480
    },
    "id": "4tiIl7AA1toX",
    "outputId": "8a1da8f8-5472-4099-8fd3-218172b8b738"
   },
   "outputs": [
    {
     "data": {
      "text/plain": [
       "24"
      ]
     },
     "execution_count": 80,
     "metadata": {},
     "output_type": "execute_result"
    }
   ],
   "source": [
    "len(conversations)"
   ]
  },
  {
   "cell_type": "code",
   "execution_count": null,
   "metadata": {
    "id": "mtFmsWzG-KDe"
   },
   "outputs": [],
   "source": [
    "for groomer_id,sub_conversations in conversations[:]:\n",
    "  for sub_c in sub_conversations:\n",
    "    messages_l = []\n",
    "    full_text = sub_conversations\n",
    "    for message in sub_c:\n",
    "        author = message[0]\n",
    "        time = message[1]\n",
    "        text = message[2]\n",
    "\n",
    "        messages_l.append(\n",
    "        {\n",
    "          \"gromer_id\":groomer_id,\n",
    "          \"author\":author,\n",
    "          \"time\": time,\n",
    "          \"text\": text,\n",
    "                        })"
   ]
  },
  {
   "cell_type": "code",
   "execution_count": null,
   "metadata": {
    "colab": {
     "base_uri": "https://localhost:8080/"
    },
    "executionInfo": {
     "elapsed": 260,
     "status": "ok",
     "timestamp": 1706676828504,
     "user": {
      "displayName": "Leon Rafael Gutierrez",
      "userId": "04281760578940356494"
     },
     "user_tz": 480
    },
    "id": "lFTbpqTy-U1B",
    "outputId": "4244bef7-279e-402a-a29d-fdbb825a078d"
   },
   "outputs": [
    {
     "data": {
      "text/plain": [
       "{'gromer_id': 'tory beltz',\n",
       " 'author': 'tory beltz',\n",
       " 'time': '16:05',\n",
       " 'text': \"I haven't changed my mind yet I'm excited and really super nervous\"}"
      ]
     },
     "execution_count": 83,
     "metadata": {},
     "output_type": "execute_result"
    }
   ],
   "source": [
    "messages_l[0]"
   ]
  },
  {
   "cell_type": "code",
   "execution_count": null,
   "metadata": {
    "id": "gKkvv_V9ec3J"
   },
   "outputs": [],
   "source": [
    "groomers = []\n",
    "for groomer_id,sub_conversations in conversations:\n",
    "  groomers.append(groomer_id)"
   ]
  },
  {
   "cell_type": "code",
   "execution_count": null,
   "metadata": {
    "colab": {
     "base_uri": "https://localhost:8080/"
    },
    "executionInfo": {
     "elapsed": 138,
     "status": "ok",
     "timestamp": 1706676996570,
     "user": {
      "displayName": "Leon Rafael Gutierrez",
      "userId": "04281760578940356494"
     },
     "user_tz": 480
    },
    "id": "HKZzPOLX4CjF",
    "outputId": "782fe7a1-9dbe-4b87-ddea-291461442d96"
   },
   "outputs": [
    {
     "data": {
      "text/plain": [
       "['Billy Joe',\n",
       " 'Carlos Cabrera',\n",
       " 'DB',\n",
       " 'F C',\n",
       " 'J H',\n",
       " 'Josh Mcclendon',\n",
       " 'Roger Cassidy',\n",
       " 'Ryan Thompson',\n",
       " 'allenriley2011',\n",
       " 'bossofct',\n",
       " 'chrisnr1998',\n",
       " 'christopher_brown1991',\n",
       " 'georgiamike1968',\n",
       " 'innocentz6197@sbcglobal.net',\n",
       " 'jackjohnsons7',\n",
       " 'jakelewis315',\n",
       " 'jinxman555',\n",
       " 'jlucero155_l',\n",
       " 'john_adamowski',\n",
       " 'kashkhan773',\n",
       " 'koolkrod16',\n",
       " 'obercock1985',\n",
       " 'paulcarder86',\n",
       " 'tory beltz']"
      ]
     },
     "execution_count": 85,
     "metadata": {},
     "output_type": "execute_result"
    }
   ],
   "source": [
    "groomers"
   ]
  },
  {
   "cell_type": "code",
   "execution_count": null,
   "metadata": {
    "id": "g1NsaTXr_4Bk"
   },
   "outputs": [],
   "source": []
  },
  {
   "cell_type": "markdown",
   "metadata": {
    "id": "kXqD4nVVEyTb"
   },
   "source": [
    "### 3.1 train.csv --> SGD file"
   ]
  },
  {
   "cell_type": "code",
   "execution_count": null,
   "metadata": {
    "id": "GCYiawcmWYhc"
   },
   "outputs": [],
   "source": [
    "train = f'drive/MyDrive/210 Capstone/data/raw data/train.csv'"
   ]
  },
  {
   "cell_type": "code",
   "execution_count": null,
   "metadata": {
    "id": "lgr3hXmVBN_l"
   },
   "outputs": [],
   "source": [
    "train_df = spark.read.option('encoding', 'utf-8').csv(train, multiLine=True)"
   ]
  },
  {
   "cell_type": "code",
   "execution_count": null,
   "metadata": {
    "id": "jWY6dOpOpKsu"
   },
   "outputs": [],
   "source": [
    "train_df_final = train_df.withColumnRenamed('_c0', 'text')\\\n",
    "        .withColumnRenamed('_c1', 'conversation_start_time')\\\n",
    "        .withColumnRenamed('_c2', 'label')"
   ]
  },
  {
   "cell_type": "code",
   "execution_count": null,
   "metadata": {
    "colab": {
     "base_uri": "https://localhost:8080/"
    },
    "executionInfo": {
     "elapsed": 316,
     "status": "ok",
     "timestamp": 1707007269518,
     "user": {
      "displayName": "Leon Rafael Gutierrez",
      "userId": "04281760578940356494"
     },
     "user_tz": 480
    },
    "id": "vu4OK9DXBO3X",
    "outputId": "cf6f66da-fbd7-4cf0-8b17-08420567c645"
   },
   "outputs": [
    {
     "name": "stdout",
     "output_type": "stream",
     "text": [
      "+--------------------+-----------------------+-----+\n",
      "|                text|conversation_start_time|label|\n",
      "+--------------------+-----------------------+-----+\n",
      "|Hola. hi. whats u...|                  03:20|    0|\n",
      "|  asuu lonte koe hi |                  14:36|    0|\n",
      "|    hi asl m or f m |                  02:55|    0|\n",
      "|happy is ayuppie ...|                  12:37|    0|\n",
      "|ask me 5 question...|                  02:45|    0|\n",
      "|hi asl Hi hellloooo |                  15:54|    0|\n",
      "|sets mode: +oo ta...|                  14:49|    0|\n",
      "|Definitely very f...|                  21:28|    0|\n",
      "|aloha... hi asl? ...|                  15:42|    0|\n",
      "|         ArtB: ping |                  18:17|    0|\n",
      "|sex female yes an...|                  18:41|    0|\n",
      "|heey (: how&apos;...|                  23:36|    0|\n",
      "|hi hihi m or f?? ...|                  08:16|    0|\n",
      "|changes: begin co...|                  23:37|    0|\n",
      "|hi for t = 1 : T-...|                  12:00|    0|\n",
      "|we're not at the ...|                  04:43|    0|\n",
      "|hi 18m philippine...|                  08:12|    0|\n",
      "|telecon today? ap...|                  19:13|    0|\n",
      "|hi Aujourd&apos;h...|                  18:11|    0|\n",
      "|Im a 17 F Lesbian...|                  22:51|    0|\n",
      "+--------------------+-----------------------+-----+\n",
      "only showing top 20 rows\n",
      "\n"
     ]
    }
   ],
   "source": [
    "train_df_final.show()"
   ]
  },
  {
   "cell_type": "code",
   "execution_count": null,
   "metadata": {
    "colab": {
     "base_uri": "https://localhost:8080/"
    },
    "executionInfo": {
     "elapsed": 1344,
     "status": "ok",
     "timestamp": 1707007273893,
     "user": {
      "displayName": "Leon Rafael Gutierrez",
      "userId": "04281760578940356494"
     },
     "user_tz": 480
    },
    "id": "V9uah5cHjAQt",
    "outputId": "bd6ca428-2ed2-4da4-f3f3-f098ad4991eb"
   },
   "outputs": [
    {
     "data": {
      "text/plain": [
       "66927"
      ]
     },
     "execution_count": 33,
     "metadata": {},
     "output_type": "execute_result"
    }
   ],
   "source": [
    "train_df_final.count()"
   ]
  },
  {
   "cell_type": "code",
   "execution_count": null,
   "metadata": {
    "colab": {
     "base_uri": "https://localhost:8080/"
    },
    "executionInfo": {
     "elapsed": 981,
     "status": "ok",
     "timestamp": 1706943801634,
     "user": {
      "displayName": "Leon Rafael Gutierrez",
      "userId": "04281760578940356494"
     },
     "user_tz": 480
    },
    "id": "yLh5pdHQjwFO",
    "outputId": "b6c1db6b-6b0e-4c89-c56e-61cf56bf4814"
   },
   "outputs": [
    {
     "name": "stdout",
     "output_type": "stream",
     "text": [
      "+------------------------------------------------------------------------------------------------------------------------------------------------------------------------------------------------------+-----+\n",
      "|label                                                                                                                                                                                                 |count|\n",
      "+------------------------------------------------------------------------------------------------------------------------------------------------------------------------------------------------------+-----+\n",
      "| btw that is on topic because its running  OpenSolaris build 39 nice mornin' jmcp. cool welcome back                                                                                                  |1    |\n",
      "| there are some name mangling rules based on underscores to make variables private                                                                                                                    |1    |\n",
      "| i just saw that the most consistent track there is minix... big no wonder                                                                                                                            |1    |\n",
      "| i fell asleep hm i want to place a texture on my object unwrapping is complicated                                                                                                                    |1    |\n",
      "| and when i type e.g. f(ctrl-p) it always makes comments whats wrong? ok                                                                                                                              |1    |\n",
      "| and look at least as cool from the inside. Peanut: I've been lucky enough to only see that happen to things that weren't mine :)  and since I was a kid at the time                                  |1    |\n",
      "|07:24                                                                                                                                                                                                 |1    |\n",
      "| never wondered :D brand matters on psu's never has for me well you're wrong I'll believe that when I see it \"                                                                                        |1    |\n",
      "| ASK it. Don't just paste and expect us to figure out what you need. one could get the feeling that he is using it for some other purposes :) \"                                                       |1    |\n",
      "| yes true                                                                                                                                                                                             |1    |\n",
      "| do you know ? I want to add that same location to my vhost documentroot hmm /var/log/apache2/error.log is empty too? yeah btorch: i'm not an expert like jasonb                                      |1    |\n",
      "| and what is the right channel ? oops                                                                                                                                                                 |1    |\n",
      "| you know i didnt even see that                                                                                                                                                                       |1    |\n",
      "| its very easy on suse i am on suse 10.1 mikedep333                                                                                                                                                   |1    |\n",
      "| forget about blender radiosity                                                                                                                                                                       |1    |\n",
      "| it ought not affect the CSS I think piratehead: read this sometime later: <a href=\"\"http://hotdesign.com/seybold/everything.html\"\">http://hotdesign.com/seybold/everything.html</a> I see html and js|1    |\n",
      "| but the error remains whats the code at the places of header inclusion? wait a sec... I'm currently trying something out \"                                                                           |1    |\n",
      "| css clear: <a href=\"\"http://w3.org/TR/CSS21/visuren.html#propdef-clear\"\">http://w3.org/TR/CSS21/visuren.html#propdef-clear</a> I don't understand that quite well                                    |1    |\n",
      "| it's our independence day                                                                                                                                                                            |1    |\n",
      "| i want the index.html to automatically list the files im not sure the index.html will but a url with trailing / should                                                                               |1    |\n",
      "+------------------------------------------------------------------------------------------------------------------------------------------------------------------------------------------------------+-----+\n",
      "only showing top 20 rows\n",
      "\n"
     ]
    }
   ],
   "source": [
    "train_df_final.groupBy('label')\\\n",
    "              .agg(count('*').alias('count'))\\\n",
    "              .show(truncate = False)"
   ]
  },
  {
   "cell_type": "code",
   "execution_count": null,
   "metadata": {
    "colab": {
     "base_uri": "https://localhost:8080/"
    },
    "executionInfo": {
     "elapsed": 200,
     "status": "ok",
     "timestamp": 1707007293970,
     "user": {
      "displayName": "Leon Rafael Gutierrez",
      "userId": "04281760578940356494"
     },
     "user_tz": 480
    },
    "id": "UeCNRgMvt0f4",
    "outputId": "90b1271f-b46a-41f5-b4cd-ed1b66fd30ec"
   },
   "outputs": [
    {
     "name": "stdout",
     "output_type": "stream",
     "text": [
      "+-----------------------------------------------------------------------------------------------------------------------------------------------------------------------------------------------------------------------------------------------------------------------------------------------------------------------------------------------------------------------------------------------------------------------------------------------------------------------------------------------------------------------------------------------------------------------------------------------------------------------------------------------------------------------------------------------------------------------------------------------------------------------------------------------------------------------------------------------------------------------------------------------------------------------------------------------------------------------------------------------------------------------------------------------------------------------------------------------------------------------------------------------------------------------------------------------------------------------------------------------------------------------------------------------------------------------------------------------------------------------------------------------------------------------------------------------------------------------------------------------------------------------------------------------------------------------------------------------------------------------------------------------------------------------------------------------------------------------------------------------------------------------------------------------------------------------------------------------------------------------------------------------------------------------------------------------------------------------------------------------------------------------------------------------------------------------------------------------------------------------------------------------------------------------------------------------------------------------------------------------------------------------------------------------------------------------------------------------------------------------------------------------------------------------------------------------------------------------------------------------------------------------------------------------------------------------------------------------------------------------------------------------------------------------------------------------------------------------------------------------------------------------------------------------------------------------------------------------------------------------------------------------------------------------------------------------------------------------------------------------------------------------------------------------------------------------------------------------------------------------------------------------------------------------------------------------------------------------------------------------------------------------------------------------------------------------------------------------------------------------------------------------------------------------------------------------------------------------------------------------------------------------------------------------------------------------------------------------------------------------------------------------------------------------------------------------------------------------------------------------------------------------------------------------------------------------------------------------------------------------------------------------------------------------------------------------------------------------------------------------------------------------------------------------------------------------------------------------------------------------------------------------------------------------------------------------------------------------------------------------------------------------------------------------------------------------------------------------------------------------------------------------------------------------------------------------------------------------------------------------------------------------------------------------------------------------------------------------------------------------------------------------------------------------------------------------------------------------------------------------------------------------------------------------------------------------------------------------------------------------------------------------------------------------------------------------------------------------------------------------------------------------------------------------------------------------------------------------------------------------------------------------------------------------------------------------------------------------------------------------------------------------------------------------------------------------------------------------------------------------------------------------------------------------------------------------------------------------------------------------------------------------------+-----------------------+-----+\n",
      "|text                                                                                                                                                                                                                                                                                                                                                                                                                                                                                                                                                                                                                                                                                                                                                                                                                                                                                                                                                                                                                                                                                                                                                                                                                                                                                                                                                                                                                                                                                                                                                                                                                                                                                                                                                                                                                                                                                                                                                                                                                                                                                                                                                                                                                                                                                                                                                                                                                                                                                                                                                                                                                                                                                                                                                                                                                                                                                                                                                                                                                                                                                                                                                                                                                                                                                                                                                                                                                                                                                                                                                                                                                                                                                                                                                                                                                                                                                                                                                                                                                                                                                                                                                                                                                                                                                                                                                                                                                                                                                                                                                                                                                                                                                                                                                                                                                                                                                                                                                                                                                                                                                                                                                                                                                                                                                                                                                                                                                                                                                                                         |conversation_start_time|label|\n",
      "+-----------------------------------------------------------------------------------------------------------------------------------------------------------------------------------------------------------------------------------------------------------------------------------------------------------------------------------------------------------------------------------------------------------------------------------------------------------------------------------------------------------------------------------------------------------------------------------------------------------------------------------------------------------------------------------------------------------------------------------------------------------------------------------------------------------------------------------------------------------------------------------------------------------------------------------------------------------------------------------------------------------------------------------------------------------------------------------------------------------------------------------------------------------------------------------------------------------------------------------------------------------------------------------------------------------------------------------------------------------------------------------------------------------------------------------------------------------------------------------------------------------------------------------------------------------------------------------------------------------------------------------------------------------------------------------------------------------------------------------------------------------------------------------------------------------------------------------------------------------------------------------------------------------------------------------------------------------------------------------------------------------------------------------------------------------------------------------------------------------------------------------------------------------------------------------------------------------------------------------------------------------------------------------------------------------------------------------------------------------------------------------------------------------------------------------------------------------------------------------------------------------------------------------------------------------------------------------------------------------------------------------------------------------------------------------------------------------------------------------------------------------------------------------------------------------------------------------------------------------------------------------------------------------------------------------------------------------------------------------------------------------------------------------------------------------------------------------------------------------------------------------------------------------------------------------------------------------------------------------------------------------------------------------------------------------------------------------------------------------------------------------------------------------------------------------------------------------------------------------------------------------------------------------------------------------------------------------------------------------------------------------------------------------------------------------------------------------------------------------------------------------------------------------------------------------------------------------------------------------------------------------------------------------------------------------------------------------------------------------------------------------------------------------------------------------------------------------------------------------------------------------------------------------------------------------------------------------------------------------------------------------------------------------------------------------------------------------------------------------------------------------------------------------------------------------------------------------------------------------------------------------------------------------------------------------------------------------------------------------------------------------------------------------------------------------------------------------------------------------------------------------------------------------------------------------------------------------------------------------------------------------------------------------------------------------------------------------------------------------------------------------------------------------------------------------------------------------------------------------------------------------------------------------------------------------------------------------------------------------------------------------------------------------------------------------------------------------------------------------------------------------------------------------------------------------------------------------------------------------------------------------------------------+-----------------------+-----+\n",
      "|hey!! hi! how are you feeling? a little better what are u doing? i was just listening to some music i have to go to bed soon i have school tomorrow yea i thought u did i just woke and checked to see if u came on and ur here!! :-* :-* so what did u do today? did chores sounds like fun lol not lol what did you do? washed some cloths and started feeling bad nd layed down and fell alseep for 6 hours lol wow lol long nap yea just a little did you think about me today? yes sweetie i think about u everyday !! :D is ur mom alseep? no she is in her room but not asleep oh ic lol im yawning you are probably wide awake lol yea a little lol :D cory...? i wanna see u do u think that is bad? no i dont think it is bad why? because i do not for sex or anything like that i just wanna see u i feel if i dont then i might lose u or something i know that sounds stupid you wont lose me :D mom and her bf go out of town every month for a few days maybe the next time they go out of town ok if you really want to i do really bad! do u? yea u sure? yea im sure are you? lol i have never been sure about anything else before in my life! :D i didnt scare u last night with the things i said did i ? its just when i drink i get really friendly if u know what i mean lol no you didnt scare me you really want me like that? yea i do but i dont want i to do anything u dont wanna do u* yea how do u feel about it? i think it would be nice but it is up to you lol why is everything up to me? i want u to wanna do what ever u want to ! lol well all i know is that im falling for u really fast! you are? yea i am falling really really fast! wow why u say wow? no on ever said anything like that to me before :D well im kinda glad no one has so i can be the first to tell u this things because i mean everything i say to u!!! you are so sweet so are u i love everything about u and i dont want u to ever forget that! ok >:D< :-* :-:- well i dont want u to go but i think u need to goto bed ??? wait! looking for something what? a video oh ok :) cant find what i am looking for  what are u looking for?  amy lees idea ofa love song :D i like both of those songs!!!! cool okay i am going to bed now >:D< :-:-:-:-* think about me tommroww? yes! ok! talk to you later night :-* good night sweetie!!                                                                                                                                                                                                                                                                                                                                                                                                                                                                                                                                                                                                                                                                                                                                                                                                                                                                                                                                                                                                                                                                                                                                                                                                                                                                                                                                                                                                                                                                                                                                                                                                                                                                                                                                                                                                                                                                                                                                                                                                                                                                                                                                                                                                                                                                                                                                                                                                                                                                                                                                                                                                                                                                                                                                                                                                                                                                                                                                                                                                                                                                                                                                                              |23:56                  |1    |\n",
      "|hi i guess your not on be back at 10 I'm here are u there? ok see u at 10 you there am now are u?                                                                                                                                                                                                                                                                                                                                                                                                                                                                                                                                                                                                                                                                                                                                                                                                                                                                                                                                                                                                                                                                                                                                                                                                                                                                                                                                                                                                                                                                                                                                                                                                                                                                                                                                                                                                                                                                                                                                                                                                                                                                                                                                                                                                                                                                                                                                                                                                                                                                                                                                                                                                                                                                                                                                                                                                                                                                                                                                                                                                                                                                                                                                                                                                                                                                                                                                                                                                                                                                                                                                                                                                                                                                                                                                                                                                                                                                                                                                                                                                                                                                                                                                                                                                                                                                                                                                                                                                                                                                                                                                                                                                                                                                                                                                                                                                                                                                                                                                                                                                                                                                                                                                                                                                                                                                                                                                                                                                                            |19:12                  |1    |\n",
      "|hello hey hey asl where r u from in nj?? 732 same here cnj monmouth co cool so what brings u into this room i'm bored off my ass llol dont u have work to do um no asl im old 49 here old enough to be your daddy 13/f/nj um, my dad's older lol ok lol so what's up not much sucks to be us why is that cos we're bored off our asses that is true so anyway yes how can i help u i dunno u have any pic yeah in my profile any others nope my camera broken give me a call okay 8482180381 let me get my calling card ok btw,i'm michelle kevin r u there u have a good day i just found my card hold on. i'm getting the phone lol ok  i'm calling lol omg u're cute lol so what town do u live in i live on the shore u? u not gona tell me i guess it depends on why? lol just courios ur cam locked up lol the daughter i never had where r u? now middletown and u nothing to say no i got hit by bots lol i hate those things all fake and shit i added u ok i'm like thirty miles from u cool what r u doing in a 1/2 hr nothing soda buger huh? care to meet sure could be cool what do u want to do ? yes i think so u tell me i have no idea where u r but a 1/2 hr away well i'm not from here so i don't know what's to do call me back hold on a sec um i called my dad to have him add minutes to my card it's the one he gave me so i could call him and my friends back home that way my mom won't bitch lol so it will take a minute ok so what do u want to do? ur cam is sorta locking up my computer, can i close it?  sure sorry didnt' mean to buzz u i hate that lol np so do u know what town yeah lol u gona tell me i do know where i live yeah r u gonna tell me what we're gonna do? lol nothing nothing at all talk came into my mind won't that be boring? like we can do that on here lol u have something else on your mind call so what do u think well i just don't want to be bored. lol u wont be bored>:) how do u know? i mean u won't even say what we're going to do lol trust me ya buy u a soda 4 starts call me and ill tell u and where is it u live i'm still waiting for my dad to call me back letting me know he added minutes do u want me to call u no ok cos then u're number will show up on my caller id and that' sin my mom's room and that could be ugly lol ok np i mean i don't think i want to tell her i was hanging out with hot guys while she was gone she might never ever leave again so where is it that u live r u gonna stay for a while? if u like that could be cool did u just do that? what happen or did i do it on accident yes oh whoops lol do u know where brick is? yes u decline dunno is it the same as this? yes when do u have to go back home? by 7 really? why? have to pick up by wife thats not really even time to have dinner. :9 :( we can meet 4 the sake of meeting i guess we could just hang out here and who knows who knows what? we can do it again if it clicks call me do what? call me meet again 4 a longer time and 4 who knows well i'd sorta like to know lol so i knwo what to wear lol mmmmmmmmmmm>:) i think u're just messing with me skirt no no then what do u want to do? play with u hold u kiss u feel u kiss me where? all over call me lets meet times a wasting i like the idea of the kisses :) well meet me :-? u there calling ok what happen i dunno i'll call back ok can we meet on the beach? i mean the corner makes me feel sorta weird my house is right across the street from teh beach i need and address well duh so i can map quest it but r u gonna come to the beach? then we can just go back to my house ccos noone's there ok fair enough and we're too new for anyone to know us lol so r we still gonna kiss and stuff? theen give me your address u bet good cos u're cute but wont' cuddling and kissing get kinda of boring? have u ever had a guy go down on u no my bf never did lol eat your pussy he never did why? would u like that could be cool what do u want? have u ever given head yes cool so r u game well i don't want to play games lol what do u want? your address lol do u like that? r u off from school now yeah do i like what i cut today kevin daily: have u ever given head yesssssssssssssss is that what u want? yessssssssssssssssss will u still do the other thing my bf wouldn't ? and what was that u asked if a guy has ever gone down on me yes yes yes make u cum a number of times so waiting 4 u my address, but u're meeting me at the beach right/ removed mantoloking zip code my house is right on the beach 08738 r u off tomorrow not supposed to be i'll go take a shower so i'm ready when u get here we can make a day of it listern i can only stay a 1/2 hr well come to night i know it's cool i'm good with that :) i'll take care of u how do i get it touch what do u mean? when i leave wher do i meet u want to make it tomorrow no come tonight and tomorrow lol love your style so if u leave right now u can stay for like 45 minutes so go lol it will take a good 1/2 hr and then i have to turn around okay so meet me on the beach kay? lets make it 4 tomorrow i stll have to look it up well hurry so u can come i'm going to jump in the shower so i'm nice and clean have u left yet? no well hurry that way u can get back in time lol ok going what kidn of car? so i know it's u? where am i meet u at the beach blue blazer there's a boardwalk right at the end of the street. ok leaving look 4 me okay |15:19                  |1    |\n",
      "|hi hi liz what ya doin nothing much...how have u been doin ok u anything good no it's ok what's wrong finish ur homework yea good mom workin yea what day she works differnt ones she a nurse oh ok does she knows computer she might check on ya;) lol no hehehe she dont get on here why ur room yea nice bedroom u got its ok may I sleep there..few hrs:d mebee hihi j/k so..study hard ok I might help ya math i m ok what r u good at math I guess ok maybe have ur BF help ya out ;) i dont have bf oh ok... the EX one huh the one finger ya yea he is ex how long was that                                                                                                                                                                                                                                                                                                                                                                                                                                                                                                                                                                                                                                                                                                                                                                                                                                                                                                                                                                                                                                                                                                                                                                                                                                                                                                                                                                                                                                                                                                                                                                                                                                                                                                                                                                                                                                                                                                                                                                                                                                                                                                                                                                                                                                                                                                                                                                                                                                                                                                                                                                                                                                                                                                                                                                                                                                                                                                                                                                                                                                                                                                                                                                                                                                                                                                                                                                                                                                                                                                                                                                                                                                                                                                                                                                                                                                                                                                                                                                                                                                                                                                                                                                                                                                                                                                                                                                                                                                                                                                                                                                                                                                                                                                                                                                                                                                                                                                                                          |20:33                  |1    |\n",
      "|Hello hi Whatcha doin? just chattin with brad n darla n now u! Oh yeah hows brad and darla??? Lol lol they dont wanna go 2 school either!! Thxs ;;) what 4? Oh i c lol Idk Yeah school is kinda boring. how come weekends go so fast They just do when u get older time slows down lol school days r so slowwwwww Yeah Well i going to eat i chat with u later. k >:D<                                                                                                                                                                                                                                                                                                                                                                                                                                                                                                                                                                                                                                                                                                                                                                                                                                                                                                                                                                                                                                                                                                                                                                                                                                                                                                                                                                                                                                                                                                                                                                                                                                                                                                                                                                                                                                                                                                                                                                                                                                                                                                                                                                                                                                                                                                                                                                                                                                                                                                                                                                                                                                                                                                                                                                                                                                                                                                                                                                                                                                                                                                                                                                                                                                                                                                                                                                                                                                                                                                                                                                                                                                                                                                                                                                                                                                                                                                                                                                                                                                                                                                                                                                                                                                                                                                                                                                                                                                                                                                                                                                                                                                                                                                                                                                                                                                                                                                                                                                                                                                                                                                                                                       |21:56                  |1    |\n",
      "|hi                                                                                                                                                                                                                                                                                                                                                                                                                                                                                                                                                                                                                                                                                                                                                                                                                                                                                                                                                                                                                                                                                                                                                                                                                                                                                                                                                                                                                                                                                                                                                                                                                                                                                                                                                                                                                                                                                                                                                                                                                                                                                                                                                                                                                                                                                                                                                                                                                                                                                                                                                                                                                                                                                                                                                                                                                                                                                                                                                                                                                                                                                                                                                                                                                                                                                                                                                                                                                                                                                                                                                                                                                                                                                                                                                                                                                                                                                                                                                                                                                                                                                                                                                                                                                                                                                                                                                                                                                                                                                                                                                                                                                                                                                                                                                                                                                                                                                                                                                                                                                                                                                                                                                                                                                                                                                                                                                                                                                                                                                                                           |15:14                  |1    |\n",
      "|hello?                                                                                                                                                                                                                                                                                                                                                                                                                                                                                                                                                                                                                                                                                                                                                                                                                                                                                                                                                                                                                                                                                                                                                                                                                                                                                                                                                                                                                                                                                                                                                                                                                                                                                                                                                                                                                                                                                                                                                                                                                                                                                                                                                                                                                                                                                                                                                                                                                                                                                                                                                                                                                                                                                                                                                                                                                                                                                                                                                                                                                                                                                                                                                                                                                                                                                                                                                                                                                                                                                                                                                                                                                                                                                                                                                                                                                                                                                                                                                                                                                                                                                                                                                                                                                                                                                                                                                                                                                                                                                                                                                                                                                                                                                                                                                                                                                                                                                                                                                                                                                                                                                                                                                                                                                                                                                                                                                                                                                                                                                                                       |19:39                  |1    |\n",
      "|i came to tonapah and you were't on left at 6 a/m had to get back in carson by 12 talk to you later                                                                                                                                                                                                                                                                                                                                                                                                                                                                                                                                                                                                                                                                                                                                                                                                                                                                                                                                                                                                                                                                                                                                                                                                                                                                                                                                                                                                                                                                                                                                                                                                                                                                                                                                                                                                                                                                                                                                                                                                                                                                                                                                                                                                                                                                                                                                                                                                                                                                                                                                                                                                                                                                                                                                                                                                                                                                                                                                                                                                                                                                                                                                                                                                                                                                                                                                                                                                                                                                                                                                                                                                                                                                                                                                                                                                                                                                                                                                                                                                                                                                                                                                                                                                                                                                                                                                                                                                                                                                                                                                                                                                                                                                                                                                                                                                                                                                                                                                                                                                                                                                                                                                                                                                                                                                                                                                                                                                                          |06:58                  |1    |\n",
      "|i had to work late tonight :( hopefully ur on tommorw!                                                                                                                                                                                                                                                                                                                                                                                                                                                                                                                                                                                                                                                                                                                                                                                                                                                                                                                                                                                                                                                                                                                                                                                                                                                                                                                                                                                                                                                                                                                                                                                                                                                                                                                                                                                                                                                                                                                                                                                                                                                                                                                                                                                                                                                                                                                                                                                                                                                                                                                                                                                                                                                                                                                                                                                                                                                                                                                                                                                                                                                                                                                                                                                                                                                                                                                                                                                                                                                                                                                                                                                                                                                                                                                                                                                                                                                                                                                                                                                                                                                                                                                                                                                                                                                                                                                                                                                                                                                                                                                                                                                                                                                                                                                                                                                                                                                                                                                                                                                                                                                                                                                                                                                                                                                                                                                                                                                                                                                                       |00:51                  |1    |\n",
      "|hi girl....sorry i missed u....just checking to see if u were here have a good day baby shoot i miss u again :( ill wait around 4 a while in case u come back                                                                                                                                                                                                                                                                                                                                                                                                                                                                                                                                                                                                                                                                                                                                                                                                                                                                                                                                                                                                                                                                                                                                                                                                                                                                                                                                                                                                                                                                                                                                                                                                                                                                                                                                                                                                                                                                                                                                                                                                                                                                                                                                                                                                                                                                                                                                                                                                                                                                                                                                                                                                                                                                                                                                                                                                                                                                                                                                                                                                                                                                                                                                                                                                                                                                                                                                                                                                                                                                                                                                                                                                                                                                                                                                                                                                                                                                                                                                                                                                                                                                                                                                                                                                                                                                                                                                                                                                                                                                                                                                                                                                                                                                                                                                                                                                                                                                                                                                                                                                                                                                                                                                                                                                                                                                                                                                                                |12:20                  |1    |\n",
      "|sorry i missed you good looking, i just got online to check email then went to work out                                                                                                                                                                                                                                                                                                                                                                                                                                                                                                                                                                                                                                                                                                                                                                                                                                                                                                                                                                                                                                                                                                                                                                                                                                                                                                                                                                                                                                                                                                                                                                                                                                                                                                                                                                                                                                                                                                                                                                                                                                                                                                                                                                                                                                                                                                                                                                                                                                                                                                                                                                                                                                                                                                                                                                                                                                                                                                                                                                                                                                                                                                                                                                                                                                                                                                                                                                                                                                                                                                                                                                                                                                                                                                                                                                                                                                                                                                                                                                                                                                                                                                                                                                                                                                                                                                                                                                                                                                                                                                                                                                                                                                                                                                                                                                                                                                                                                                                                                                                                                                                                                                                                                                                                                                                                                                                                                                                                                                      |00:15                  |1    |\n",
      "|back u there? hi hi kiss heh? are u there hi hi wish u were here me to winking are u there  jackenit_6in hi are u there I'm back puter crashed u there? guess u are gone I gotta go take a bath will look for u after won't be gone long kiss                                                                                                                                                                                                                                                                                                                                                                                                                                                                                                                                                                                                                                                                                                                                                                                                                                                                                                                                                                                                                                                                                                                                                                                                                                                                                                                                                                                                                                                                                                                                                                                                                                                                                                                                                                                                                                                                                                                                                                                                                                                                                                                                                                                                                                                                                                                                                                                                                                                                                                                                                                                                                                                                                                                                                                                                                                                                                                                                                                                                                                                                                                                                                                                                                                                                                                                                                                                                                                                                                                                                                                                                                                                                                                                                                                                                                                                                                                                                                                                                                                                                                                                                                                                                                                                                                                                                                                                                                                                                                                                                                                                                                                                                                                                                                                                                                                                                                                                                                                                                                                                                                                                                                                                                                                                                                |01:26                  |1    |\n",
      "|hey there,i'm glad u came on..did u get my off line message? i did whats going on? u lost my addy? that makes no sense :( i did map quest and got directions,but now i cant find them.i just need the addy again so i can map quest again is all oh okay  i did'nt put it in my wallet hon,i did'nt think lol thats okay u got it now :) yes i do so how are you today tell me what time u gonna come now? im okay just a lil sleepy right now u gonna nap befor i get there lol i just gotta wake up lol i'll be leaving here around 1230,i have my clothes drying..but i am commin sweety cool how long it take to drive here does it say? i hav'nt redone it yet but your down toward columbus right? its 15 min north of it ok well it takes an hour to maby an hour and 15 minutes to get to columbus. cool so its not that long thats awesome so if i leave at 1230 i should be there around 145 or 2 give or take..and allow for traffic which should'nt be bad at all sweet thats when u told me yesterday yep,i had planned to leave sooner but got a late start on things this morning and am just a little behind but i would miss being with you at all lol well u said 2 so i plannedon it so u havent broke a promise yet :) lol and i'll try not to at anytime i beleve u so will you just come out and get in the truck when i get there or do you wanna meet up the road a little? nah just come to my house i aint wanna be standin around outside ok we gotta big driveway it should fit ok i'll do that i'm sure it'll fit fine cool lol i hope so :p lol u got what i was sayin..i knew u were smart lol lol im not dumb :) i knew that already lol good good yeah it will be good,every part of it lol....i do like ur quick witts and thought process.... thanks ur welcome i hope ur not nervous and or disapointed with me,i dont think u will be i have told you the truth about me...but i am kinda nervous ,only because i want this to be as good as it can be and you be glad we went for it lol dont be silly itll be fine and fun u dont need to worry about that ill like u no matter what cause i like u already cool,well i wont worrie at all then cool we'll have a ball and a pleasurable time togather yep :) did it mapquest okay? dont lose this one lol lol i wont brb,gonna check on my clothes cool well there gettin there should'nt be long cool :) did'nt u say ur mom's goin off to her friend's today?or is it tomorrow? she left already she gone tomorrow too today and tomorrow here's the directions from mapquest..i-85 south/ga411.exit 21 toward columbus.then take exit 19 onto hwy 315 it becomes fortson..estimated time say's 1 hr 22 min cool :) does hwy 315 sound right yep thats all right cool just make sure to go right where 315 goes left it forks ok and 315 turns into fortson right to you yep were the house witht he cement bunny next to the mailbox lol u have my cell number so u can call if u like to make sure i dont go wrong lol cement bunny huh lol i will if i see a big semi go blowin past lol cant miss that yeah my mom likes bunnies yep :) thats cool its all good yep are you fully awake now hhahaha lol yah im not sleepy now good then your clothes done? let me go check on clothes and get a couple things out of the way so i can get on down to you...i can'nt wait to get there and be with you,just because after our talk's i think actualy being with each other will be so much fun... very good :) i'll be back in a few minutes to let u know i'm leaving okay                                                                                                                                                                                                                                                                                                                                                                                                                                                                                                                                                                                                                                                                                                                                                                                                                                                                                                                                                                                                                                                                                                                                                                                                                                                                                                                                                                                                                                                                                                                                                                                                                                                                                                                                                                                                                                                                                                                                                     |10:49                  |1    |\n",
      "|did u get my email? not have'nt read it yet like i was not here i forgot to sign off its ok ur not talkn i will in the middle of somethng important will chat when done ok whats important talking to my unit omg like fbi what like the fbi ur talkin 2 them? no military o like does the fbi work with u? no k i feel tard k huh? i know your tired so em i no like i feel like retard like i think the fbi works with u no they dont CIA? no border patrol whats that? wait.like home land security oh like get the teroists yep we do drills at school me to k like i gotta do dishes ok will be on ru comin up? i want to we will talk ok so that says no i get it no i did'nt say that i'am in the middle of test k i fucked up its ok let me finish i get it ok                                                                                                                                                                                                                                                                                                                                                                                                                                                                                                                                                                                                                                                                                                                                                                                                                                                                                                                                                                                                                                                                                                                                                                                                                                                                                                                                                                                                                                                                                                                                                                                                                                                                                                                                                                                                                                                                                                                                                                                                                                                                                                                                                                                                                                                                                                                                                                                                                                                                                                                                                                                                                                                                                                                                                                                                                                                                                                                                                                                                                                                                                                                                                                                                                                                                                                                                                                                                                                                                                                                                                                                                                                                                                                                                                                                                                                                                                                                                                                                                                                                                                                                                                                                                                                                                                                                                                                                                                                                                                                                                                                                                                                                                                                                                                       |19:56                  |1    |\n",
      "|hello beautiful! :-* hi short week )))) yay us jst got home from work !!!!>:P it's 815 yes I know (( late day for me,, I dont normally get home like this (( hmph didja miss me? ok,, sweetness ,, going to watch the basketball game w/ some friends of mine!! okay :( yes,, I missed you,, havent had much chance to chat ( keep a day on the weekend open for me,, and I'll come see you! after thanksgiving :-* we'll see if your as hot in pic as real life ! really? ;) that would be sooooo cool think you could get out? probably we'll see,,,would be cool tho :-* kay :) have fun with the game ok, sweetness,, gotta go~!~ ttyl !~~ >:D<:-*>:D<. dont miss me to much either ) kay hehe bye sweetness!                                                                                                                                                                                                                                                                                                                                                                                                                                                                                                                                                                                                                                                                                                                                                                                                                                                                                                                                                                                                                                                                                                                                                                                                                                                                                                                                                                                                                                                                                                                                                                                                                                                                                                                                                                                                                                                                                                                                                                                                                                                                                                                                                                                                                                                                                                                                                                                                                                                                                                                                                                                                                                                                                                                                                                                                                                                                                                                                                                                                                                                                                                                                                                                                                                                                                                                                                                                                                                                                                                                                                                                                                                                                                                                                                                                                                                                                                                                                                                                                                                                                                                                                                                                                                                                                                                                                                                                                                                                                                                                                                                                                                                                                                                                                                                                                            |19:10                  |1    |\n",
      "|hey cutie remember me?  hi ya good so when are we going to hang out and watch those movies. mebe next weekend? cool. do you think we can hang out tomorrow? no sorry oh ok. so next weekend for sure? don't say sorry. I understand lol sure awesome. what is so specific for next week? hold on be back back so what makes next week the week that you can hang out? u there?                                                                                                                                                                                                                                                                                                                                                                                                                                                                                                                                                                                                                                                                                                                                                                                                                                                                                                                                                                                                                                                                                                                                                                                                                                                                                                                                                                                                                                                                                                                                                                                                                                                                                                                                                                                                                                                                                                                                                                                                                                                                                                                                                                                                                                                                                                                                                                                                                                                                                                                                                                                                                                                                                                                                                                                                                                                                                                                                                                                                                                                                                                                                                                                                                                                                                                                                                                                                                                                                                                                                                                                                                                                                                                                                                                                                                                                                                                                                                                                                                                                                                                                                                                                                                                                                                                                                                                                                                                                                                                                                                                                                                                                                                                                                                                                                                                                                                                                                                                                                                                                                                                                                               |22:57                  |1    |\n",
      "|lol hey! i just woke up lol hey lol i ordered the pizza YAY! im starvin lol well it might be a while befor i get there but im pickin it up soon then headin down okies lol cool,cant wait to see ya lol me too i made brownis last nite lol yay! thats so cool :D thanx lol yw yeah i got home after 12 last nite wow u have fun? yah i did but not as much fun as im gonna have today n tonite lol awe lol got the large supreme with pineapple for ya oh yay! lol i LUV it lol cool lol i know its ur favrite,they didnt have garlic butter tho oh lol that sux its k tho ok good,im all set,ill leave in a few to pick up the pizza then jump on the parkway n head down okies :D be carful greggy :D i will colie dont worry :) it should take like hour n 1/2 so im givin myself lotsa time but i got good directions oh cool ok lol i cant wait see u i know me too ! lol anything else u want me to bring mmmm bring some snapple ok what flavor idk lol dont care they still got peach? yeah they do,i dont know if they have big bottles or just small ones ok how many you want like 2 for me lol ok lol u got it lol cool anything else just you :D ok u know u got that lol n i got condoms too oh ok lol cool mom woud kill me :P lol i know dont worry probly kill me too lol no thatd b dad ;) ok well im gonna go pick up the snapple n pizza and head down okies cya soon! im gonna go take shower ok cya soon too oh in case i gotta call u whats ur # lol hold on lemme go p ok ok back lol i had go re;;u bad relly i call u when i get outta shower caus it will show on caller id :( n dads got that code thing i dont wanna get in troubl ok i gotcha if i dont pick up just leave msg,ill see the # on id okies :) ok cya soon hon cya!                                                                                                                                                                                                                                                                                                                                                                                                                                                                                                                                                                                                                                                                                                                                                                                                                                                                                                                                                                                                                                                                                                                                                                                                                                                                                                                                                                                                                                                                                                                                                                                                                                                                                                                                                                                                                                                                                                                                                                                                                                                                                                                                                                                                                                                                                                                                                                                                                                                                                                                                                                                                                                                                                                                                                                                                                                                                                                                                                                                                                                                                                                                                                                                                                                                                                                                                                                                                                                                                                                                                                                                                                                                                                                                                                              |11:48                  |1    |\n",
      "|hiya                                                                                                                                                                                                                                                                                                                                                                                                                                                                                                                                                                                                                                                                                                                                                                                                                                                                                                                                                                                                                                                                                                                                                                                                                                                                                                                                                                                                                                                                                                                                                                                                                                                                                                                                                                                                                                                                                                                                                                                                                                                                                                                                                                                                                                                                                                                                                                                                                                                                                                                                                                                                                                                                                                                                                                                                                                                                                                                                                                                                                                                                                                                                                                                                                                                                                                                                                                                                                                                                                                                                                                                                                                                                                                                                                                                                                                                                                                                                                                                                                                                                                                                                                                                                                                                                                                                                                                                                                                                                                                                                                                                                                                                                                                                                                                                                                                                                                                                                                                                                                                                                                                                                                                                                                                                                                                                                                                                                                                                                                                                         |06:16                  |1    |\n",
      "|im back u still there                                                                                                                                                                                                                                                                                                                                                                                                                                                                                                                                                                                                                                                                                                                                                                                                                                                                                                                                                                                                                                                                                                                                                                                                                                                                                                                                                                                                                                                                                                                                                                                                                                                                                                                                                                                                                                                                                                                                                                                                                                                                                                                                                                                                                                                                                                                                                                                                                                                                                                                                                                                                                                                                                                                                                                                                                                                                                                                                                                                                                                                                                                                                                                                                                                                                                                                                                                                                                                                                                                                                                                                                                                                                                                                                                                                                                                                                                                                                                                                                                                                                                                                                                                                                                                                                                                                                                                                                                                                                                                                                                                                                                                                                                                                                                                                                                                                                                                                                                                                                                                                                                                                                                                                                                                                                                                                                                                                                                                                                                                        |22:33                  |1    |\n",
      "|:-w :-w:-w:-w:-w:-w:-w:-w:-w :-w:-w:-w:-w:-w:-w:-w:-w :-w:-w:-w:-w:-w:-w:-w:-w:-w:-w:-w:-w:-w:-w:-w:-w :-w:-w:-w:-w:-w:-w:-w                                                                                                                                                                                                                                                                                                                                                                                                                                                                                                                                                                                                                                                                                                                                                                                                                                                                                                                                                                                                                                                                                                                                                                                                                                                                                                                                                                                                                                                                                                                                                                                                                                                                                                                                                                                                                                                                                                                                                                                                                                                                                                                                                                                                                                                                                                                                                                                                                                                                                                                                                                                                                                                                                                                                                                                                                                                                                                                                                                                                                                                                                                                                                                                                                                                                                                                                                                                                                                                                                                                                                                                                                                                                                                                                                                                                                                                                                                                                                                                                                                                                                                                                                                                                                                                                                                                                                                                                                                                                                                                                                                                                                                                                                                                                                                                                                                                                                                                                                                                                                                                                                                                                                                                                                                                                                                                                                                                                 |14:36                  |1    |\n",
      "+-----------------------------------------------------------------------------------------------------------------------------------------------------------------------------------------------------------------------------------------------------------------------------------------------------------------------------------------------------------------------------------------------------------------------------------------------------------------------------------------------------------------------------------------------------------------------------------------------------------------------------------------------------------------------------------------------------------------------------------------------------------------------------------------------------------------------------------------------------------------------------------------------------------------------------------------------------------------------------------------------------------------------------------------------------------------------------------------------------------------------------------------------------------------------------------------------------------------------------------------------------------------------------------------------------------------------------------------------------------------------------------------------------------------------------------------------------------------------------------------------------------------------------------------------------------------------------------------------------------------------------------------------------------------------------------------------------------------------------------------------------------------------------------------------------------------------------------------------------------------------------------------------------------------------------------------------------------------------------------------------------------------------------------------------------------------------------------------------------------------------------------------------------------------------------------------------------------------------------------------------------------------------------------------------------------------------------------------------------------------------------------------------------------------------------------------------------------------------------------------------------------------------------------------------------------------------------------------------------------------------------------------------------------------------------------------------------------------------------------------------------------------------------------------------------------------------------------------------------------------------------------------------------------------------------------------------------------------------------------------------------------------------------------------------------------------------------------------------------------------------------------------------------------------------------------------------------------------------------------------------------------------------------------------------------------------------------------------------------------------------------------------------------------------------------------------------------------------------------------------------------------------------------------------------------------------------------------------------------------------------------------------------------------------------------------------------------------------------------------------------------------------------------------------------------------------------------------------------------------------------------------------------------------------------------------------------------------------------------------------------------------------------------------------------------------------------------------------------------------------------------------------------------------------------------------------------------------------------------------------------------------------------------------------------------------------------------------------------------------------------------------------------------------------------------------------------------------------------------------------------------------------------------------------------------------------------------------------------------------------------------------------------------------------------------------------------------------------------------------------------------------------------------------------------------------------------------------------------------------------------------------------------------------------------------------------------------------------------------------------------------------------------------------------------------------------------------------------------------------------------------------------------------------------------------------------------------------------------------------------------------------------------------------------------------------------------------------------------------------------------------------------------------------------------------------------------------------------------------------------------------------------------------+-----------------------+-----+\n",
      "only showing top 20 rows\n",
      "\n"
     ]
    }
   ],
   "source": [
    "train_df_final.filter(col('label').isin([1])).show(truncate = False)"
   ]
  },
  {
   "cell_type": "code",
   "execution_count": null,
   "metadata": {
    "id": "YdTBPGrDOL0n"
   },
   "outputs": [],
   "source": [
    "df  = pd.read_csv(train,encoding='utf-8',header=None)"
   ]
  },
  {
   "cell_type": "code",
   "execution_count": null,
   "metadata": {
    "colab": {
     "base_uri": "https://localhost:8080/"
    },
    "executionInfo": {
     "elapsed": 333,
     "status": "ok",
     "timestamp": 1706943533909,
     "user": {
      "displayName": "Leon Rafael Gutierrez",
      "userId": "04281760578940356494"
     },
     "user_tz": 480
    },
    "id": "eLwBr9J9Otp0",
    "outputId": "c85abe84-4f0e-4dce-e50e-e04af1049c47"
   },
   "outputs": [
    {
     "data": {
      "text/plain": [
       "66927"
      ]
     },
     "execution_count": 148,
     "metadata": {},
     "output_type": "execute_result"
    }
   ],
   "source": [
    "len(df.filter(~df[2].isin([0,1])))"
   ]
  },
  {
   "cell_type": "code",
   "execution_count": null,
   "metadata": {
    "colab": {
     "base_uri": "https://localhost:8080/"
    },
    "executionInfo": {
     "elapsed": 1464,
     "status": "ok",
     "timestamp": 1706931716430,
     "user": {
      "displayName": "Leon Rafael Gutierrez",
      "userId": "04281760578940356494"
     },
     "user_tz": 480
    },
    "id": "KybmsP-Swey5",
    "outputId": "668c1af1-9a28-4e40-f81d-ff5eb5defc1b"
   },
   "outputs": [
    {
     "data": {
      "text/plain": [
       "1990"
      ]
     },
     "execution_count": 95,
     "metadata": {},
     "output_type": "execute_result"
    }
   ],
   "source": [
    "train_df.filter(col(\"_c2\") == 1).count()"
   ]
  },
  {
   "cell_type": "markdown",
   "metadata": {
    "id": "p5-Ir3kiE8Pb"
   },
   "source": [
    "### 3.2 PJZC.json file"
   ]
  },
  {
   "cell_type": "code",
   "execution_count": null,
   "metadata": {
    "id": "DpMPdtTHBTUY"
   },
   "outputs": [],
   "source": [
    "PJZC_json = f'drive/MyDrive/210 Capstone/data/raw data/PJZC.txt'"
   ]
  },
  {
   "cell_type": "code",
   "execution_count": null,
   "metadata": {
    "id": "EqLS34Q0INvN"
   },
   "outputs": [],
   "source": [
    "PJZC_json_df = spark.read.json(PJZC_json)"
   ]
  },
  {
   "cell_type": "code",
   "execution_count": null,
   "metadata": {
    "colab": {
     "base_uri": "https://localhost:8080/",
     "height": 1000
    },
    "executionInfo": {
     "elapsed": 5421,
     "status": "error",
     "timestamp": 1707345590839,
     "user": {
      "displayName": "Sunny Shin",
      "userId": "07563865141827084443"
     },
     "user_tz": 480
    },
    "id": "T9hhhYavPJUs",
    "outputId": "69639101-0516-4b35-d9bc-9f8ea74b6ace"
   },
   "outputs": [
    {
     "name": "stderr",
     "output_type": "stream",
     "text": [
      "----------------------------------------ERROR:root:Exception while sending command.\n",
      "Traceback (most recent call last):\n",
      "  File \"/content/spark-3.5.0-bin-hadoop3/python/pyspark/errors/exceptions/captured.py\", line 179, in deco\n",
      "    return f(*a, **kw)\n",
      "  File \"/content/spark-3.5.0-bin-hadoop3/python/lib/py4j-0.10.9.7-src.zip/py4j/protocol.py\", line 326, in get_return_value\n",
      "    raise Py4JJavaError(\n",
      "py4j.protocol.Py4JJavaError: <unprintable Py4JJavaError object>\n",
      "\n",
      "During handling of the above exception, another exception occurred:\n",
      "\n",
      "Traceback (most recent call last):\n",
      "  File \"/content/spark-3.5.0-bin-hadoop3/python/lib/py4j-0.10.9.7-src.zip/py4j/clientserver.py\", line 516, in send_command\n",
      "    raise Py4JNetworkError(\"Answer from Java side is empty\")\n",
      "py4j.protocol.Py4JNetworkError: Answer from Java side is empty\n",
      "\n",
      "During handling of the above exception, another exception occurred:\n",
      "\n",
      "Traceback (most recent call last):\n",
      "  File \"/content/spark-3.5.0-bin-hadoop3/python/lib/py4j-0.10.9.7-src.zip/py4j/java_gateway.py\", line 1038, in send_command\n",
      "    response = connection.send_command(command)\n",
      "  File \"/content/spark-3.5.0-bin-hadoop3/python/lib/py4j-0.10.9.7-src.zip/py4j/clientserver.py\", line 539, in send_command\n",
      "    raise Py4JNetworkError(\n",
      "py4j.protocol.Py4JNetworkError: Error while sending or receiving\n",
      "\n",
      "Exception occurred during processing of request from ('127.0.0.1', 41942)\n",
      "Traceback (most recent call last):\n",
      "  File \"/usr/lib/python3.10/socketserver.py\", line 316, in _handle_request_noblock\n",
      "    self.process_request(request, client_address)\n",
      "  File \"/usr/lib/python3.10/socketserver.py\", line 347, in process_request\n",
      "    self.finish_request(request, client_address)\n",
      "  File \"/usr/lib/python3.10/socketserver.py\", line 360, in finish_request\n",
      "    self.RequestHandlerClass(request, client_address, self)\n",
      "  File \"/usr/lib/python3.10/socketserver.py\", line 747, in __init__\n",
      "    self.handle()\n",
      "  File \"/content/spark-3.5.0-bin-hadoop3/python/pyspark/accumulators.py\", line 295, in handle\n",
      "    poll(accum_updates)\n",
      "  File \"/content/spark-3.5.0-bin-hadoop3/python/pyspark/accumulators.py\", line 267, in poll\n",
      "    if self.rfile in r and func():\n",
      "  File \"/content/spark-3.5.0-bin-hadoop3/python/pyspark/accumulators.py\", line 271, in accum_updates\n",
      "    num_updates = read_int(self.rfile)\n",
      "  File \"/content/spark-3.5.0-bin-hadoop3/python/pyspark/serializers.py\", line 596, in read_int\n",
      "    raise EOFError\n",
      "EOFError\n",
      "----------------------------------------\n"
     ]
    },
    {
     "ename": "Py4JError",
     "evalue": "py4j.reflection.TypeUtil does not exist in the JVM",
     "output_type": "error",
     "traceback": [
      "\u001b[0;31m---------------------------------------------------------------------------\u001b[0m",
      "\u001b[0;31mPy4JJavaError\u001b[0m                             Traceback (most recent call last)",
      "\u001b[0;32m/content/spark-3.5.0-bin-hadoop3/python/pyspark/errors/exceptions/captured.py\u001b[0m in \u001b[0;36mdeco\u001b[0;34m(*a, **kw)\u001b[0m\n\u001b[1;32m    178\u001b[0m         \u001b[0;32mtry\u001b[0m\u001b[0;34m:\u001b[0m\u001b[0;34m\u001b[0m\u001b[0;34m\u001b[0m\u001b[0m\n\u001b[0;32m--> 179\u001b[0;31m             \u001b[0;32mreturn\u001b[0m \u001b[0mf\u001b[0m\u001b[0;34m(\u001b[0m\u001b[0;34m*\u001b[0m\u001b[0ma\u001b[0m\u001b[0;34m,\u001b[0m \u001b[0;34m**\u001b[0m\u001b[0mkw\u001b[0m\u001b[0;34m)\u001b[0m\u001b[0;34m\u001b[0m\u001b[0;34m\u001b[0m\u001b[0m\n\u001b[0m\u001b[1;32m    180\u001b[0m         \u001b[0;32mexcept\u001b[0m \u001b[0mPy4JJavaError\u001b[0m \u001b[0;32mas\u001b[0m \u001b[0me\u001b[0m\u001b[0;34m:\u001b[0m\u001b[0;34m\u001b[0m\u001b[0;34m\u001b[0m\u001b[0m\n",
      "\u001b[0;32m/content/spark-3.5.0-bin-hadoop3/python/lib/py4j-0.10.9.7-src.zip/py4j/protocol.py\u001b[0m in \u001b[0;36mget_return_value\u001b[0;34m(answer, gateway_client, target_id, name)\u001b[0m\n\u001b[1;32m    325\u001b[0m             \u001b[0;32mif\u001b[0m \u001b[0manswer\u001b[0m\u001b[0;34m[\u001b[0m\u001b[0;36m1\u001b[0m\u001b[0;34m]\u001b[0m \u001b[0;34m==\u001b[0m \u001b[0mREFERENCE_TYPE\u001b[0m\u001b[0;34m:\u001b[0m\u001b[0;34m\u001b[0m\u001b[0;34m\u001b[0m\u001b[0m\n\u001b[0;32m--> 326\u001b[0;31m                 raise Py4JJavaError(\n\u001b[0m\u001b[1;32m    327\u001b[0m                     \u001b[0;34m\"An error occurred while calling {0}{1}{2}.\\n\"\u001b[0m\u001b[0;34m.\u001b[0m\u001b[0;34m\u001b[0m\u001b[0;34m\u001b[0m\u001b[0m\n",
      "\u001b[0;31m<class 'str'>\u001b[0m: (<class 'ConnectionRefusedError'>, ConnectionRefusedError(111, 'Connection refused'))",
      "\nDuring handling of the above exception, another exception occurred:\n",
      "\u001b[0;31mPy4JError\u001b[0m                                 Traceback (most recent call last)",
      "\u001b[0;32m<ipython-input-25-edf129bca4da>\u001b[0m in \u001b[0;36m<cell line: 1>\u001b[0;34m()\u001b[0m\n\u001b[0;32m----> 1\u001b[0;31m \u001b[0mPJZC_json_df\u001b[0m\u001b[0;34m.\u001b[0m\u001b[0mshow\u001b[0m\u001b[0;34m(\u001b[0m\u001b[0;34m)\u001b[0m\u001b[0;34m\u001b[0m\u001b[0;34m\u001b[0m\u001b[0m\n\u001b[0m",
      "\u001b[0;32m/content/spark-3.5.0-bin-hadoop3/python/pyspark/sql/dataframe.py\u001b[0m in \u001b[0;36mshow\u001b[0;34m(self, n, truncate, vertical)\u001b[0m\n\u001b[1;32m    957\u001b[0m \u001b[0;34m\u001b[0m\u001b[0m\n\u001b[1;32m    958\u001b[0m         \u001b[0;32mif\u001b[0m \u001b[0misinstance\u001b[0m\u001b[0;34m(\u001b[0m\u001b[0mtruncate\u001b[0m\u001b[0;34m,\u001b[0m \u001b[0mbool\u001b[0m\u001b[0;34m)\u001b[0m \u001b[0;32mand\u001b[0m \u001b[0mtruncate\u001b[0m\u001b[0;34m:\u001b[0m\u001b[0;34m\u001b[0m\u001b[0;34m\u001b[0m\u001b[0m\n\u001b[0;32m--> 959\u001b[0;31m             \u001b[0mprint\u001b[0m\u001b[0;34m(\u001b[0m\u001b[0mself\u001b[0m\u001b[0;34m.\u001b[0m\u001b[0m_jdf\u001b[0m\u001b[0;34m.\u001b[0m\u001b[0mshowString\u001b[0m\u001b[0;34m(\u001b[0m\u001b[0mn\u001b[0m\u001b[0;34m,\u001b[0m \u001b[0;36m20\u001b[0m\u001b[0;34m,\u001b[0m \u001b[0mvertical\u001b[0m\u001b[0;34m)\u001b[0m\u001b[0;34m)\u001b[0m\u001b[0;34m\u001b[0m\u001b[0;34m\u001b[0m\u001b[0m\n\u001b[0m\u001b[1;32m    960\u001b[0m         \u001b[0;32melse\u001b[0m\u001b[0;34m:\u001b[0m\u001b[0;34m\u001b[0m\u001b[0;34m\u001b[0m\u001b[0m\n\u001b[1;32m    961\u001b[0m             \u001b[0;32mtry\u001b[0m\u001b[0;34m:\u001b[0m\u001b[0;34m\u001b[0m\u001b[0;34m\u001b[0m\u001b[0m\n",
      "\u001b[0;32m/content/spark-3.5.0-bin-hadoop3/python/lib/py4j-0.10.9.7-src.zip/py4j/java_gateway.py\u001b[0m in \u001b[0;36m__call__\u001b[0;34m(self, *args)\u001b[0m\n\u001b[1;32m   1320\u001b[0m \u001b[0;34m\u001b[0m\u001b[0m\n\u001b[1;32m   1321\u001b[0m         \u001b[0manswer\u001b[0m \u001b[0;34m=\u001b[0m \u001b[0mself\u001b[0m\u001b[0;34m.\u001b[0m\u001b[0mgateway_client\u001b[0m\u001b[0;34m.\u001b[0m\u001b[0msend_command\u001b[0m\u001b[0;34m(\u001b[0m\u001b[0mcommand\u001b[0m\u001b[0;34m)\u001b[0m\u001b[0;34m\u001b[0m\u001b[0;34m\u001b[0m\u001b[0m\n\u001b[0;32m-> 1322\u001b[0;31m         return_value = get_return_value(\n\u001b[0m\u001b[1;32m   1323\u001b[0m             answer, self.gateway_client, self.target_id, self.name)\n\u001b[1;32m   1324\u001b[0m \u001b[0;34m\u001b[0m\u001b[0m\n",
      "\u001b[0;32m/content/spark-3.5.0-bin-hadoop3/python/pyspark/errors/exceptions/captured.py\u001b[0m in \u001b[0;36mdeco\u001b[0;34m(*a, **kw)\u001b[0m\n\u001b[1;32m    179\u001b[0m             \u001b[0;32mreturn\u001b[0m \u001b[0mf\u001b[0m\u001b[0;34m(\u001b[0m\u001b[0;34m*\u001b[0m\u001b[0ma\u001b[0m\u001b[0;34m,\u001b[0m \u001b[0;34m**\u001b[0m\u001b[0mkw\u001b[0m\u001b[0;34m)\u001b[0m\u001b[0;34m\u001b[0m\u001b[0;34m\u001b[0m\u001b[0m\n\u001b[1;32m    180\u001b[0m         \u001b[0;32mexcept\u001b[0m \u001b[0mPy4JJavaError\u001b[0m \u001b[0;32mas\u001b[0m \u001b[0me\u001b[0m\u001b[0;34m:\u001b[0m\u001b[0;34m\u001b[0m\u001b[0;34m\u001b[0m\u001b[0m\n\u001b[0;32m--> 181\u001b[0;31m             \u001b[0mconverted\u001b[0m \u001b[0;34m=\u001b[0m \u001b[0mconvert_exception\u001b[0m\u001b[0;34m(\u001b[0m\u001b[0me\u001b[0m\u001b[0;34m.\u001b[0m\u001b[0mjava_exception\u001b[0m\u001b[0;34m)\u001b[0m\u001b[0;34m\u001b[0m\u001b[0;34m\u001b[0m\u001b[0m\n\u001b[0m\u001b[1;32m    182\u001b[0m             \u001b[0;32mif\u001b[0m \u001b[0;32mnot\u001b[0m \u001b[0misinstance\u001b[0m\u001b[0;34m(\u001b[0m\u001b[0mconverted\u001b[0m\u001b[0;34m,\u001b[0m \u001b[0mUnknownException\u001b[0m\u001b[0;34m)\u001b[0m\u001b[0;34m:\u001b[0m\u001b[0;34m\u001b[0m\u001b[0;34m\u001b[0m\u001b[0m\n\u001b[1;32m    183\u001b[0m                 \u001b[0;31m# Hide where the exception came from that shows a non-Pythonic\u001b[0m\u001b[0;34m\u001b[0m\u001b[0;34m\u001b[0m\u001b[0m\n",
      "\u001b[0;32m/content/spark-3.5.0-bin-hadoop3/python/pyspark/errors/exceptions/captured.py\u001b[0m in \u001b[0;36mconvert_exception\u001b[0;34m(e)\u001b[0m\n\u001b[1;32m    171\u001b[0m         \u001b[0;32mreturn\u001b[0m \u001b[0mPythonException\u001b[0m\u001b[0;34m(\u001b[0m\u001b[0mmsg\u001b[0m\u001b[0;34m,\u001b[0m \u001b[0mstacktrace\u001b[0m\u001b[0;34m)\u001b[0m\u001b[0;34m\u001b[0m\u001b[0;34m\u001b[0m\u001b[0m\n\u001b[1;32m    172\u001b[0m \u001b[0;34m\u001b[0m\u001b[0m\n\u001b[0;32m--> 173\u001b[0;31m     \u001b[0;32mreturn\u001b[0m \u001b[0mUnknownException\u001b[0m\u001b[0;34m(\u001b[0m\u001b[0mdesc\u001b[0m\u001b[0;34m=\u001b[0m\u001b[0me\u001b[0m\u001b[0;34m.\u001b[0m\u001b[0mtoString\u001b[0m\u001b[0;34m(\u001b[0m\u001b[0;34m)\u001b[0m\u001b[0;34m,\u001b[0m \u001b[0mstackTrace\u001b[0m\u001b[0;34m=\u001b[0m\u001b[0mstacktrace\u001b[0m\u001b[0;34m,\u001b[0m \u001b[0mcause\u001b[0m\u001b[0;34m=\u001b[0m\u001b[0mc\u001b[0m\u001b[0;34m)\u001b[0m\u001b[0;34m\u001b[0m\u001b[0;34m\u001b[0m\u001b[0m\n\u001b[0m\u001b[1;32m    174\u001b[0m \u001b[0;34m\u001b[0m\u001b[0m\n\u001b[1;32m    175\u001b[0m \u001b[0;34m\u001b[0m\u001b[0m\n",
      "\u001b[0;32m/content/spark-3.5.0-bin-hadoop3/python/pyspark/errors/exceptions/captured.py\u001b[0m in \u001b[0;36m__init__\u001b[0;34m(self, desc, stackTrace, cause, origin)\u001b[0m\n\u001b[1;32m     63\u001b[0m             \u001b[0;32melse\u001b[0m \u001b[0;34m(\u001b[0m\u001b[0mSparkContext\u001b[0m\u001b[0;34m.\u001b[0m\u001b[0m_jvm\u001b[0m\u001b[0;34m.\u001b[0m\u001b[0morg\u001b[0m\u001b[0;34m.\u001b[0m\u001b[0mapache\u001b[0m\u001b[0;34m.\u001b[0m\u001b[0mspark\u001b[0m\u001b[0;34m.\u001b[0m\u001b[0mutil\u001b[0m\u001b[0;34m.\u001b[0m\u001b[0mUtils\u001b[0m\u001b[0;34m.\u001b[0m\u001b[0mexceptionString\u001b[0m\u001b[0;34m(\u001b[0m\u001b[0morigin\u001b[0m\u001b[0;34m)\u001b[0m\u001b[0;34m)\u001b[0m\u001b[0;34m\u001b[0m\u001b[0;34m\u001b[0m\u001b[0m\n\u001b[1;32m     64\u001b[0m         )\n\u001b[0;32m---> 65\u001b[0;31m         \u001b[0mself\u001b[0m\u001b[0;34m.\u001b[0m\u001b[0mcause\u001b[0m \u001b[0;34m=\u001b[0m \u001b[0mconvert_exception\u001b[0m\u001b[0;34m(\u001b[0m\u001b[0mcause\u001b[0m\u001b[0;34m)\u001b[0m \u001b[0;32mif\u001b[0m \u001b[0mcause\u001b[0m \u001b[0;32mis\u001b[0m \u001b[0;32mnot\u001b[0m \u001b[0;32mNone\u001b[0m \u001b[0;32melse\u001b[0m \u001b[0;32mNone\u001b[0m\u001b[0;34m\u001b[0m\u001b[0;34m\u001b[0m\u001b[0m\n\u001b[0m\u001b[1;32m     66\u001b[0m         \u001b[0;32mif\u001b[0m \u001b[0mself\u001b[0m\u001b[0;34m.\u001b[0m\u001b[0mcause\u001b[0m \u001b[0;32mis\u001b[0m \u001b[0;32mNone\u001b[0m \u001b[0;32mand\u001b[0m \u001b[0morigin\u001b[0m \u001b[0;32mis\u001b[0m \u001b[0;32mnot\u001b[0m \u001b[0;32mNone\u001b[0m \u001b[0;32mand\u001b[0m \u001b[0morigin\u001b[0m\u001b[0;34m.\u001b[0m\u001b[0mgetCause\u001b[0m\u001b[0;34m(\u001b[0m\u001b[0;34m)\u001b[0m \u001b[0;32mis\u001b[0m \u001b[0;32mnot\u001b[0m \u001b[0;32mNone\u001b[0m\u001b[0;34m:\u001b[0m\u001b[0;34m\u001b[0m\u001b[0;34m\u001b[0m\u001b[0m\n\u001b[1;32m     67\u001b[0m             \u001b[0mself\u001b[0m\u001b[0;34m.\u001b[0m\u001b[0mcause\u001b[0m \u001b[0;34m=\u001b[0m \u001b[0mconvert_exception\u001b[0m\u001b[0;34m(\u001b[0m\u001b[0morigin\u001b[0m\u001b[0;34m.\u001b[0m\u001b[0mgetCause\u001b[0m\u001b[0;34m(\u001b[0m\u001b[0;34m)\u001b[0m\u001b[0;34m)\u001b[0m\u001b[0;34m\u001b[0m\u001b[0;34m\u001b[0m\u001b[0m\n",
      "\u001b[0;32m/content/spark-3.5.0-bin-hadoop3/python/pyspark/errors/exceptions/captured.py\u001b[0m in \u001b[0;36mconvert_exception\u001b[0;34m(e)\u001b[0m\n\u001b[1;32m    151\u001b[0m     \u001b[0;32melif\u001b[0m \u001b[0mis_instance_of\u001b[0m\u001b[0;34m(\u001b[0m\u001b[0mgw\u001b[0m\u001b[0;34m,\u001b[0m \u001b[0me\u001b[0m\u001b[0;34m,\u001b[0m \u001b[0;34m\"org.apache.spark.SparkRuntimeException\"\u001b[0m\u001b[0;34m)\u001b[0m\u001b[0;34m:\u001b[0m\u001b[0;34m\u001b[0m\u001b[0;34m\u001b[0m\u001b[0m\n\u001b[1;32m    152\u001b[0m         \u001b[0;32mreturn\u001b[0m \u001b[0mSparkRuntimeException\u001b[0m\u001b[0;34m(\u001b[0m\u001b[0morigin\u001b[0m\u001b[0;34m=\u001b[0m\u001b[0me\u001b[0m\u001b[0;34m)\u001b[0m\u001b[0;34m\u001b[0m\u001b[0;34m\u001b[0m\u001b[0m\n\u001b[0;32m--> 153\u001b[0;31m     \u001b[0;32melif\u001b[0m \u001b[0mis_instance_of\u001b[0m\u001b[0;34m(\u001b[0m\u001b[0mgw\u001b[0m\u001b[0;34m,\u001b[0m \u001b[0me\u001b[0m\u001b[0;34m,\u001b[0m \u001b[0;34m\"org.apache.spark.SparkUpgradeException\"\u001b[0m\u001b[0;34m)\u001b[0m\u001b[0;34m:\u001b[0m\u001b[0;34m\u001b[0m\u001b[0;34m\u001b[0m\u001b[0m\n\u001b[0m\u001b[1;32m    154\u001b[0m         \u001b[0;32mreturn\u001b[0m \u001b[0mSparkUpgradeException\u001b[0m\u001b[0;34m(\u001b[0m\u001b[0morigin\u001b[0m\u001b[0;34m=\u001b[0m\u001b[0me\u001b[0m\u001b[0;34m)\u001b[0m\u001b[0;34m\u001b[0m\u001b[0;34m\u001b[0m\u001b[0m\n\u001b[1;32m    155\u001b[0m \u001b[0;34m\u001b[0m\u001b[0m\n",
      "\u001b[0;32m/content/spark-3.5.0-bin-hadoop3/python/lib/py4j-0.10.9.7-src.zip/py4j/java_gateway.py\u001b[0m in \u001b[0;36mis_instance_of\u001b[0;34m(gateway, java_object, java_class)\u001b[0m\n\u001b[1;32m    462\u001b[0m             \"java_class must be a string, a JavaClass, or a JavaObject\")\n\u001b[1;32m    463\u001b[0m \u001b[0;34m\u001b[0m\u001b[0m\n\u001b[0;32m--> 464\u001b[0;31m     return gateway.jvm.py4j.reflection.TypeUtil.isInstanceOf(\n\u001b[0m\u001b[1;32m    465\u001b[0m         param, java_object)\n\u001b[1;32m    466\u001b[0m \u001b[0;34m\u001b[0m\u001b[0m\n",
      "\u001b[0;32m/content/spark-3.5.0-bin-hadoop3/python/lib/py4j-0.10.9.7-src.zip/py4j/java_gateway.py\u001b[0m in \u001b[0;36m__getattr__\u001b[0;34m(self, name)\u001b[0m\n\u001b[1;32m   1662\u001b[0m                 answer[proto.CLASS_FQN_START:], self._gateway_client)\n\u001b[1;32m   1663\u001b[0m         \u001b[0;32melse\u001b[0m\u001b[0;34m:\u001b[0m\u001b[0;34m\u001b[0m\u001b[0;34m\u001b[0m\u001b[0m\n\u001b[0;32m-> 1664\u001b[0;31m             \u001b[0;32mraise\u001b[0m \u001b[0mPy4JError\u001b[0m\u001b[0;34m(\u001b[0m\u001b[0;34m\"{0} does not exist in the JVM\"\u001b[0m\u001b[0;34m.\u001b[0m\u001b[0mformat\u001b[0m\u001b[0;34m(\u001b[0m\u001b[0mnew_fqn\u001b[0m\u001b[0;34m)\u001b[0m\u001b[0;34m)\u001b[0m\u001b[0;34m\u001b[0m\u001b[0;34m\u001b[0m\u001b[0m\n\u001b[0m\u001b[1;32m   1665\u001b[0m \u001b[0;34m\u001b[0m\u001b[0m\n\u001b[1;32m   1666\u001b[0m \u001b[0;34m\u001b[0m\u001b[0m\n",
      "\u001b[0;31mPy4JError\u001b[0m: py4j.reflection.TypeUtil does not exist in the JVM"
     ]
    }
   ],
   "source": [
    "PJZC_json_df.show()"
   ]
  },
  {
   "cell_type": "code",
   "execution_count": null,
   "metadata": {
    "colab": {
     "base_uri": "https://localhost:8080/",
     "height": 321
    },
    "executionInfo": {
     "elapsed": 188,
     "status": "error",
     "timestamp": 1707345603566,
     "user": {
      "displayName": "Sunny Shin",
      "userId": "07563865141827084443"
     },
     "user_tz": 480
    },
    "id": "bgNcf-QyOB35",
    "outputId": "e861771f-585f-48b0-d03d-6f0a787759a1"
   },
   "outputs": [
    {
     "ename": "ConnectionRefusedError",
     "evalue": "[Errno 111] Connection refused",
     "output_type": "error",
     "traceback": [
      "\u001b[0;31m---------------------------------------------------------------------------\u001b[0m",
      "\u001b[0;31mConnectionRefusedError\u001b[0m                    Traceback (most recent call last)",
      "\u001b[0;32m<ipython-input-26-281adc6e514e>\u001b[0m in \u001b[0;36m<cell line: 1>\u001b[0;34m()\u001b[0m\n\u001b[0;32m----> 1\u001b[0;31m \u001b[0mPJZC_json_df_exploded\u001b[0m \u001b[0;34m=\u001b[0m \u001b[0mPJZC_json_df\u001b[0m\u001b[0;34m.\u001b[0m\u001b[0mselect\u001b[0m\u001b[0;34m(\u001b[0m\u001b[0mexplode\u001b[0m\u001b[0;34m(\u001b[0m\u001b[0mcol\u001b[0m\u001b[0;34m(\u001b[0m\u001b[0;34m\"conversation\"\u001b[0m\u001b[0;34m)\u001b[0m\u001b[0;34m)\u001b[0m\u001b[0;34m)\u001b[0m\u001b[0;34m\u001b[0m\u001b[0;34m\u001b[0m\u001b[0m\n\u001b[0m",
      "\u001b[0;32m/content/spark-3.5.0-bin-hadoop3/python/pyspark/sql/utils.py\u001b[0m in \u001b[0;36mwrapped\u001b[0;34m(*args, **kwargs)\u001b[0m\n\u001b[1;32m    172\u001b[0m             \u001b[0;32mreturn\u001b[0m \u001b[0mgetattr\u001b[0m\u001b[0;34m(\u001b[0m\u001b[0mfunctions\u001b[0m\u001b[0;34m,\u001b[0m \u001b[0mf\u001b[0m\u001b[0;34m.\u001b[0m\u001b[0m__name__\u001b[0m\u001b[0;34m)\u001b[0m\u001b[0;34m(\u001b[0m\u001b[0;34m*\u001b[0m\u001b[0margs\u001b[0m\u001b[0;34m,\u001b[0m \u001b[0;34m**\u001b[0m\u001b[0mkwargs\u001b[0m\u001b[0;34m)\u001b[0m\u001b[0;34m\u001b[0m\u001b[0;34m\u001b[0m\u001b[0m\n\u001b[1;32m    173\u001b[0m         \u001b[0;32melse\u001b[0m\u001b[0;34m:\u001b[0m\u001b[0;34m\u001b[0m\u001b[0;34m\u001b[0m\u001b[0m\n\u001b[0;32m--> 174\u001b[0;31m             \u001b[0;32mreturn\u001b[0m \u001b[0mf\u001b[0m\u001b[0;34m(\u001b[0m\u001b[0;34m*\u001b[0m\u001b[0margs\u001b[0m\u001b[0;34m,\u001b[0m \u001b[0;34m**\u001b[0m\u001b[0mkwargs\u001b[0m\u001b[0;34m)\u001b[0m\u001b[0;34m\u001b[0m\u001b[0;34m\u001b[0m\u001b[0m\n\u001b[0m\u001b[1;32m    175\u001b[0m \u001b[0;34m\u001b[0m\u001b[0m\n\u001b[1;32m    176\u001b[0m     \u001b[0;32mreturn\u001b[0m \u001b[0mcast\u001b[0m\u001b[0;34m(\u001b[0m\u001b[0mFuncT\u001b[0m\u001b[0;34m,\u001b[0m \u001b[0mwrapped\u001b[0m\u001b[0;34m)\u001b[0m\u001b[0;34m\u001b[0m\u001b[0;34m\u001b[0m\u001b[0m\n",
      "\u001b[0;32m/content/spark-3.5.0-bin-hadoop3/python/pyspark/sql/functions.py\u001b[0m in \u001b[0;36mcol\u001b[0;34m(col)\u001b[0m\n\u001b[1;32m    221\u001b[0m     \u001b[0mColumn\u001b[0m\u001b[0;34m<\u001b[0m\u001b[0;34m'x'\u001b[0m\u001b[0;34m>\u001b[0m\u001b[0;34m\u001b[0m\u001b[0;34m\u001b[0m\u001b[0m\n\u001b[1;32m    222\u001b[0m     \"\"\"\n\u001b[0;32m--> 223\u001b[0;31m     \u001b[0;32mreturn\u001b[0m \u001b[0m_invoke_function\u001b[0m\u001b[0;34m(\u001b[0m\u001b[0;34m\"col\"\u001b[0m\u001b[0;34m,\u001b[0m \u001b[0mcol\u001b[0m\u001b[0;34m)\u001b[0m\u001b[0;34m\u001b[0m\u001b[0;34m\u001b[0m\u001b[0m\n\u001b[0m\u001b[1;32m    224\u001b[0m \u001b[0;34m\u001b[0m\u001b[0m\n\u001b[1;32m    225\u001b[0m \u001b[0;34m\u001b[0m\u001b[0m\n",
      "\u001b[0;32m/content/spark-3.5.0-bin-hadoop3/python/pyspark/sql/functions.py\u001b[0m in \u001b[0;36m_invoke_function\u001b[0;34m(name, *args)\u001b[0m\n\u001b[1;32m     94\u001b[0m     \"\"\"\n\u001b[1;32m     95\u001b[0m     \u001b[0;32massert\u001b[0m \u001b[0mSparkContext\u001b[0m\u001b[0;34m.\u001b[0m\u001b[0m_active_spark_context\u001b[0m \u001b[0;32mis\u001b[0m \u001b[0;32mnot\u001b[0m \u001b[0;32mNone\u001b[0m\u001b[0;34m\u001b[0m\u001b[0;34m\u001b[0m\u001b[0m\n\u001b[0;32m---> 96\u001b[0;31m     \u001b[0mjf\u001b[0m \u001b[0;34m=\u001b[0m \u001b[0m_get_jvm_function\u001b[0m\u001b[0;34m(\u001b[0m\u001b[0mname\u001b[0m\u001b[0;34m,\u001b[0m \u001b[0mSparkContext\u001b[0m\u001b[0;34m.\u001b[0m\u001b[0m_active_spark_context\u001b[0m\u001b[0;34m)\u001b[0m\u001b[0;34m\u001b[0m\u001b[0;34m\u001b[0m\u001b[0m\n\u001b[0m\u001b[1;32m     97\u001b[0m     \u001b[0;32mreturn\u001b[0m \u001b[0mColumn\u001b[0m\u001b[0;34m(\u001b[0m\u001b[0mjf\u001b[0m\u001b[0;34m(\u001b[0m\u001b[0;34m*\u001b[0m\u001b[0margs\u001b[0m\u001b[0;34m)\u001b[0m\u001b[0;34m)\u001b[0m\u001b[0;34m\u001b[0m\u001b[0;34m\u001b[0m\u001b[0m\n\u001b[1;32m     98\u001b[0m \u001b[0;34m\u001b[0m\u001b[0m\n",
      "\u001b[0;32m/content/spark-3.5.0-bin-hadoop3/python/pyspark/sql/functions.py\u001b[0m in \u001b[0;36m_get_jvm_function\u001b[0;34m(name, sc)\u001b[0m\n\u001b[1;32m     85\u001b[0m     \"\"\"\n\u001b[1;32m     86\u001b[0m     \u001b[0;32massert\u001b[0m \u001b[0msc\u001b[0m\u001b[0;34m.\u001b[0m\u001b[0m_jvm\u001b[0m \u001b[0;32mis\u001b[0m \u001b[0;32mnot\u001b[0m \u001b[0;32mNone\u001b[0m\u001b[0;34m\u001b[0m\u001b[0;34m\u001b[0m\u001b[0m\n\u001b[0;32m---> 87\u001b[0;31m     \u001b[0;32mreturn\u001b[0m \u001b[0mgetattr\u001b[0m\u001b[0;34m(\u001b[0m\u001b[0msc\u001b[0m\u001b[0;34m.\u001b[0m\u001b[0m_jvm\u001b[0m\u001b[0;34m.\u001b[0m\u001b[0mfunctions\u001b[0m\u001b[0;34m,\u001b[0m \u001b[0mname\u001b[0m\u001b[0;34m)\u001b[0m\u001b[0;34m\u001b[0m\u001b[0;34m\u001b[0m\u001b[0m\n\u001b[0m\u001b[1;32m     88\u001b[0m \u001b[0;34m\u001b[0m\u001b[0m\n\u001b[1;32m     89\u001b[0m \u001b[0;34m\u001b[0m\u001b[0m\n",
      "\u001b[0;32m/content/spark-3.5.0-bin-hadoop3/python/lib/py4j-0.10.9.7-src.zip/py4j/java_gateway.py\u001b[0m in \u001b[0;36m__getattr__\u001b[0;34m(self, name)\u001b[0m\n\u001b[1;32m   1710\u001b[0m             \u001b[0;32mreturn\u001b[0m \u001b[0mUserHelpAutoCompletion\u001b[0m\u001b[0;34m(\u001b[0m\u001b[0;34m)\u001b[0m\u001b[0;34m\u001b[0m\u001b[0;34m\u001b[0m\u001b[0m\n\u001b[1;32m   1711\u001b[0m \u001b[0;34m\u001b[0m\u001b[0m\n\u001b[0;32m-> 1712\u001b[0;31m         answer = self._gateway_client.send_command(\n\u001b[0m\u001b[1;32m   1713\u001b[0m             \u001b[0mproto\u001b[0m\u001b[0;34m.\u001b[0m\u001b[0mREFLECTION_COMMAND_NAME\u001b[0m \u001b[0;34m+\u001b[0m\u001b[0;34m\u001b[0m\u001b[0;34m\u001b[0m\u001b[0m\n\u001b[1;32m   1714\u001b[0m             \u001b[0mproto\u001b[0m\u001b[0;34m.\u001b[0m\u001b[0mREFL_GET_UNKNOWN_SUB_COMMAND_NAME\u001b[0m \u001b[0;34m+\u001b[0m \u001b[0mname\u001b[0m \u001b[0;34m+\u001b[0m \u001b[0;34m\"\\n\"\u001b[0m \u001b[0;34m+\u001b[0m \u001b[0mself\u001b[0m\u001b[0;34m.\u001b[0m\u001b[0m_id\u001b[0m \u001b[0;34m+\u001b[0m\u001b[0;34m\u001b[0m\u001b[0;34m\u001b[0m\u001b[0m\n",
      "\u001b[0;32m/content/spark-3.5.0-bin-hadoop3/python/lib/py4j-0.10.9.7-src.zip/py4j/java_gateway.py\u001b[0m in \u001b[0;36msend_command\u001b[0;34m(self, command, retry, binary)\u001b[0m\n\u001b[1;32m   1034\u001b[0m          \u001b[0;32mif\u001b[0m\u001b[0;31m \u001b[0m\u001b[0;31m`\u001b[0m\u001b[0mbinary\u001b[0m\u001b[0;31m`\u001b[0m \u001b[0;32mis\u001b[0m\u001b[0;31m \u001b[0m\u001b[0;31m`\u001b[0m\u001b[0;32mTrue\u001b[0m\u001b[0;31m`\u001b[0m\u001b[0;34m.\u001b[0m\u001b[0;34m\u001b[0m\u001b[0;34m\u001b[0m\u001b[0m\n\u001b[1;32m   1035\u001b[0m         \"\"\"\n\u001b[0;32m-> 1036\u001b[0;31m         \u001b[0mconnection\u001b[0m \u001b[0;34m=\u001b[0m \u001b[0mself\u001b[0m\u001b[0;34m.\u001b[0m\u001b[0m_get_connection\u001b[0m\u001b[0;34m(\u001b[0m\u001b[0;34m)\u001b[0m\u001b[0;34m\u001b[0m\u001b[0;34m\u001b[0m\u001b[0m\n\u001b[0m\u001b[1;32m   1037\u001b[0m         \u001b[0;32mtry\u001b[0m\u001b[0;34m:\u001b[0m\u001b[0;34m\u001b[0m\u001b[0;34m\u001b[0m\u001b[0m\n\u001b[1;32m   1038\u001b[0m             \u001b[0mresponse\u001b[0m \u001b[0;34m=\u001b[0m \u001b[0mconnection\u001b[0m\u001b[0;34m.\u001b[0m\u001b[0msend_command\u001b[0m\u001b[0;34m(\u001b[0m\u001b[0mcommand\u001b[0m\u001b[0;34m)\u001b[0m\u001b[0;34m\u001b[0m\u001b[0;34m\u001b[0m\u001b[0m\n",
      "\u001b[0;32m/content/spark-3.5.0-bin-hadoop3/python/lib/py4j-0.10.9.7-src.zip/py4j/clientserver.py\u001b[0m in \u001b[0;36m_get_connection\u001b[0;34m(self)\u001b[0m\n\u001b[1;32m    282\u001b[0m \u001b[0;34m\u001b[0m\u001b[0m\n\u001b[1;32m    283\u001b[0m         \u001b[0;32mif\u001b[0m \u001b[0mconnection\u001b[0m \u001b[0;32mis\u001b[0m \u001b[0;32mNone\u001b[0m \u001b[0;32mor\u001b[0m \u001b[0mconnection\u001b[0m\u001b[0;34m.\u001b[0m\u001b[0msocket\u001b[0m \u001b[0;32mis\u001b[0m \u001b[0;32mNone\u001b[0m\u001b[0;34m:\u001b[0m\u001b[0;34m\u001b[0m\u001b[0;34m\u001b[0m\u001b[0m\n\u001b[0;32m--> 284\u001b[0;31m             \u001b[0mconnection\u001b[0m \u001b[0;34m=\u001b[0m \u001b[0mself\u001b[0m\u001b[0;34m.\u001b[0m\u001b[0m_create_new_connection\u001b[0m\u001b[0;34m(\u001b[0m\u001b[0;34m)\u001b[0m\u001b[0;34m\u001b[0m\u001b[0;34m\u001b[0m\u001b[0m\n\u001b[0m\u001b[1;32m    285\u001b[0m         \u001b[0;32mreturn\u001b[0m \u001b[0mconnection\u001b[0m\u001b[0;34m\u001b[0m\u001b[0;34m\u001b[0m\u001b[0m\n\u001b[1;32m    286\u001b[0m \u001b[0;34m\u001b[0m\u001b[0m\n",
      "\u001b[0;32m/content/spark-3.5.0-bin-hadoop3/python/lib/py4j-0.10.9.7-src.zip/py4j/clientserver.py\u001b[0m in \u001b[0;36m_create_new_connection\u001b[0;34m(self)\u001b[0m\n\u001b[1;32m    289\u001b[0m             \u001b[0mself\u001b[0m\u001b[0;34m.\u001b[0m\u001b[0mjava_parameters\u001b[0m\u001b[0;34m,\u001b[0m \u001b[0mself\u001b[0m\u001b[0;34m.\u001b[0m\u001b[0mpython_parameters\u001b[0m\u001b[0;34m,\u001b[0m\u001b[0;34m\u001b[0m\u001b[0;34m\u001b[0m\u001b[0m\n\u001b[1;32m    290\u001b[0m             self.gateway_property, self)\n\u001b[0;32m--> 291\u001b[0;31m         \u001b[0mconnection\u001b[0m\u001b[0;34m.\u001b[0m\u001b[0mconnect_to_java_server\u001b[0m\u001b[0;34m(\u001b[0m\u001b[0;34m)\u001b[0m\u001b[0;34m\u001b[0m\u001b[0;34m\u001b[0m\u001b[0m\n\u001b[0m\u001b[1;32m    292\u001b[0m         \u001b[0mself\u001b[0m\u001b[0;34m.\u001b[0m\u001b[0mset_thread_connection\u001b[0m\u001b[0;34m(\u001b[0m\u001b[0mconnection\u001b[0m\u001b[0;34m)\u001b[0m\u001b[0;34m\u001b[0m\u001b[0;34m\u001b[0m\u001b[0m\n\u001b[1;32m    293\u001b[0m         \u001b[0;32mreturn\u001b[0m \u001b[0mconnection\u001b[0m\u001b[0;34m\u001b[0m\u001b[0;34m\u001b[0m\u001b[0m\n",
      "\u001b[0;32m/content/spark-3.5.0-bin-hadoop3/python/lib/py4j-0.10.9.7-src.zip/py4j/clientserver.py\u001b[0m in \u001b[0;36mconnect_to_java_server\u001b[0;34m(self)\u001b[0m\n\u001b[1;32m    436\u001b[0m                 self.socket = self.ssl_context.wrap_socket(\n\u001b[1;32m    437\u001b[0m                     self.socket, server_hostname=self.java_address)\n\u001b[0;32m--> 438\u001b[0;31m             \u001b[0mself\u001b[0m\u001b[0;34m.\u001b[0m\u001b[0msocket\u001b[0m\u001b[0;34m.\u001b[0m\u001b[0mconnect\u001b[0m\u001b[0;34m(\u001b[0m\u001b[0;34m(\u001b[0m\u001b[0mself\u001b[0m\u001b[0;34m.\u001b[0m\u001b[0mjava_address\u001b[0m\u001b[0;34m,\u001b[0m \u001b[0mself\u001b[0m\u001b[0;34m.\u001b[0m\u001b[0mjava_port\u001b[0m\u001b[0;34m)\u001b[0m\u001b[0;34m)\u001b[0m\u001b[0;34m\u001b[0m\u001b[0;34m\u001b[0m\u001b[0m\n\u001b[0m\u001b[1;32m    439\u001b[0m             \u001b[0mself\u001b[0m\u001b[0;34m.\u001b[0m\u001b[0mstream\u001b[0m \u001b[0;34m=\u001b[0m \u001b[0mself\u001b[0m\u001b[0;34m.\u001b[0m\u001b[0msocket\u001b[0m\u001b[0;34m.\u001b[0m\u001b[0mmakefile\u001b[0m\u001b[0;34m(\u001b[0m\u001b[0;34m\"rb\"\u001b[0m\u001b[0;34m)\u001b[0m\u001b[0;34m\u001b[0m\u001b[0;34m\u001b[0m\u001b[0m\n\u001b[1;32m    440\u001b[0m             \u001b[0mself\u001b[0m\u001b[0;34m.\u001b[0m\u001b[0mis_connected\u001b[0m \u001b[0;34m=\u001b[0m \u001b[0;32mTrue\u001b[0m\u001b[0;34m\u001b[0m\u001b[0;34m\u001b[0m\u001b[0m\n",
      "\u001b[0;31mConnectionRefusedError\u001b[0m: [Errno 111] Connection refused"
     ]
    }
   ],
   "source": [
    "PJZC_json_df_exploded = PJZC_json_df.select(explode(col(\"conversation\")))"
   ]
  },
  {
   "cell_type": "code",
   "execution_count": null,
   "metadata": {
    "id": "NHel8DiFCkLg"
   },
   "outputs": [],
   "source": [
    "PJZC_final = PJZC_json_df_exploded.select(col('col').getItem('id').alias('id'),\n",
    "                             col('col').getItem('source').alias('source'),\n",
    "                             col('col').getItem('label').alias('label'),\n",
    "                             col('col').getItem('messages').alias('messages'))"
   ]
  },
  {
   "cell_type": "code",
   "execution_count": null,
   "metadata": {
    "id": "U35S2Lk6EUMe"
   },
   "outputs": [],
   "source": [
    "PJZC_final.count()"
   ]
  },
  {
   "cell_type": "code",
   "execution_count": null,
   "metadata": {
    "id": "ZUuCOJljgX8U"
   },
   "outputs": [],
   "source": [
    "PJZC_final.show(truncate = False)"
   ]
  },
  {
   "cell_type": "code",
   "execution_count": null,
   "metadata": {
    "id": "uxPxDdsYVrvw"
   },
   "outputs": [],
   "source": [
    "# # chats per source\n",
    "PJZC_final.groupBy('source')\\\n",
    "          .agg(countDistinct(col('id')).alias('count'))\\\n",
    "          .show(truncate = False)"
   ]
  },
  {
   "cell_type": "code",
   "execution_count": null,
   "metadata": {
    "id": "-ITYJc2NPVwW"
   },
   "outputs": [],
   "source": [
    "# # Time when conversation starts\n",
    "UDF_time = udf(lambda x: x[0]['time'], StringType())"
   ]
  },
  {
   "cell_type": "code",
   "execution_count": null,
   "metadata": {
    "id": "W386YnBAY6nN"
   },
   "outputs": [],
   "source": [
    "# # People in conversation\n",
    "def n_people_in_conversation(messages_column):\n",
    "  unique_author = set([i['author'] for i in messages_column])\n",
    "  return len(unique_author)\n",
    "\n",
    "UDF_n_people_in_conversation = udf(lambda x: n_people_in_conversation(x), IntegerType())"
   ]
  },
  {
   "cell_type": "code",
   "execution_count": null,
   "metadata": {
    "id": "mzs5P5HdZEXd"
   },
   "outputs": [],
   "source": [
    "# Merge texts\n",
    "def merge_text(messages_column):\n",
    "  text_list = [i['text'] for i in messages_column]\n",
    "  return ' '.join(text_list)\n",
    "\n",
    "UDF_merge_text = udf(lambda x: merge_text(x), StringType())"
   ]
  },
  {
   "cell_type": "code",
   "execution_count": null,
   "metadata": {
    "id": "VQN93I_oY18u"
   },
   "outputs": [],
   "source": [
    "PJZC_final_df = PJZC_final.withColumn(\"conversation_start_time\", UDF_time(\"messages\"))\\\n",
    "                                  .withColumn(\"n_people_in_conversation\", UDF_n_people_in_conversation(\"messages\"))\\\n",
    "                                  .withColumn(\"type_conversation\", when(col('n_people_in_conversation') == 1, 'Monologue')\\\n",
    "                                                                  .when(col('n_people_in_conversation') == 2, 'Pair')\\\n",
    "                                                                  .when(col('n_people_in_conversation') >= 2, 'Group'))\\\n",
    "                                  .withColumn(\"merge_text\", UDF_merge_text(\"messages\"))\n"
   ]
  },
  {
   "cell_type": "code",
   "execution_count": null,
   "metadata": {
    "id": "RsFGgzmkZVti"
   },
   "outputs": [],
   "source": [
    "PJZC_final_df.show()"
   ]
  },
  {
   "cell_type": "code",
   "execution_count": null,
   "metadata": {
    "id": "KVoqp3h6JjF_"
   },
   "outputs": [],
   "source": [
    "# Records with no text\n",
    "PJZC_final_df.filter(col('merge_text').isNull()).show(truncate = False)"
   ]
  },
  {
   "cell_type": "code",
   "execution_count": null,
   "metadata": {
    "id": "4tswpK6XBHE_"
   },
   "outputs": [],
   "source": [
    "# # Conversations by conversation type\n",
    "PJZC_final_df.groupBy('label', 'type_conversation')\\\n",
    "          .agg(countDistinct(col('id')).alias('n_conversations'))\\\n",
    "          .orderBy(col('label'), col('type_conversation'))\\\n",
    "          .show(truncate = False)\\\n"
   ]
  },
  {
   "cell_type": "code",
   "execution_count": null,
   "metadata": {
    "id": "iDuOhRA3Nolr"
   },
   "outputs": [],
   "source": [
    "# Expand messages into individual texts\n",
    "PJZC_texts_final = PJZC_final_df.select('id', 'source', 'conversation_start_time', 'label', explode(col('messages')))\\\n",
    "          .select('id', 'source', 'label', 'conversation_start_time', col('col').getItem('author').alias('author'), col('col').getItem('text').alias('text'), col('col').getItem('time').alias('time'))"
   ]
  },
  {
   "cell_type": "code",
   "execution_count": null,
   "metadata": {
    "id": "f4xowq2IalQ3"
   },
   "outputs": [],
   "source": [
    "PJZC_texts_final.show(truncate = False)"
   ]
  },
  {
   "cell_type": "code",
   "execution_count": null,
   "metadata": {
    "id": "9e-_X-4dbpzF"
   },
   "outputs": [],
   "source": [
    "# # Texts\n",
    "PJZC_texts_final.count()"
   ]
  },
  {
   "cell_type": "code",
   "execution_count": null,
   "metadata": {
    "id": "HfxmUVYEcLVs"
   },
   "outputs": [],
   "source": [
    "# # Groomers\n",
    "PJZC_texts_final.filter((col('source') == 'PJ chats') & (col('author') != 'decoy'))\\\n",
    "                .select('author')\\\n",
    "                .distinct()\\\n",
    "                .show(truncate = False)"
   ]
  },
  {
   "cell_type": "code",
   "execution_count": null,
   "metadata": {
    "id": "222gXxx0dYTZ"
   },
   "outputs": [],
   "source": [
    "# # Groomers\n",
    "PJZC_texts_final.filter((col('source') == 'PJ chats') & (col('author') != 'decoy'))\\\n",
    "                .select('author')\\\n",
    "                .distinct()\\\n",
    "                .count()"
   ]
  },
  {
   "cell_type": "code",
   "execution_count": null,
   "metadata": {
    "id": "zDKmPb8puTWd"
   },
   "outputs": [],
   "source": [
    "# Save file\n",
    "# define the output JSON file path\n",
    "json_file_path = f'drive/MyDrive/210 Capstone/data/PJZC.json'\n",
    "\n",
    "# write the DataFrame as a JSON file with parameters\n",
    "PJZC_final.write \\\n",
    "    .mode('overwrite')\\\n",
    "    .json(json_file_path)"
   ]
  },
  {
   "cell_type": "code",
   "execution_count": null,
   "metadata": {
    "colab": {
     "base_uri": "https://localhost:8080/"
    },
    "executionInfo": {
     "elapsed": 5371,
     "status": "ok",
     "timestamp": 1707346411768,
     "user": {
      "displayName": "Sunny Shin",
      "userId": "07563865141827084443"
     },
     "user_tz": 480
    },
    "id": "MNijEp0Ksodt",
    "outputId": "cd9db069-3184-4e74-9c82-f4d3d52da519"
   },
   "outputs": [
    {
     "name": "stdout",
     "output_type": "stream",
     "text": [
      "+--------------------------------+--------------------------------+-----+------------------------------------------------------------------------------------+-----+-----------+\n",
      "|conversation_id                 |author                          |time |text                                                                                |label|source     |\n",
      "+--------------------------------+--------------------------------+-----+------------------------------------------------------------------------------------+-----+-----------+\n",
      "|e621da5de598c9321a1d505ea95e6a2d|97964e7a9e8eb9cf78f2e4d7b2ff34c7|03:20|Hola.                                                                               |0    |PAN12-train|\n",
      "|e621da5de598c9321a1d505ea95e6a2d|0158d0d6781fc4d493f243d4caa49747|03:20|hi.                                                                                 |0    |PAN12-train|\n",
      "|e621da5de598c9321a1d505ea95e6a2d|0158d0d6781fc4d493f243d4caa49747|03:20|whats up?                                                                           |0    |PAN12-train|\n",
      "|e621da5de598c9321a1d505ea95e6a2d|97964e7a9e8eb9cf78f2e4d7b2ff34c7|03:20|not a ton.                                                                          |0    |PAN12-train|\n",
      "|e621da5de598c9321a1d505ea95e6a2d|97964e7a9e8eb9cf78f2e4d7b2ff34c7|03:20|you?                                                                                |0    |PAN12-train|\n",
      "|e621da5de598c9321a1d505ea95e6a2d|0158d0d6781fc4d493f243d4caa49747|03:20|same.  being lazy.  M or f?                                                         |0    |PAN12-train|\n",
      "|e621da5de598c9321a1d505ea95e6a2d|97964e7a9e8eb9cf78f2e4d7b2ff34c7|03:20|F.                                                                                  |0    |PAN12-train|\n",
      "|e621da5de598c9321a1d505ea95e6a2d|97964e7a9e8eb9cf78f2e4d7b2ff34c7|03:21|Ditto, I&apos;ve done absolutely nothing with my day besides watching stuff on Hulu.|0    |PAN12-train|\n",
      "|e621da5de598c9321a1d505ea95e6a2d|0158d0d6781fc4d493f243d4caa49747|03:21|M here.  Just got home from weekend trip.  Tired.                                   |0    |PAN12-train|\n",
      "|e621da5de598c9321a1d505ea95e6a2d|97964e7a9e8eb9cf78f2e4d7b2ff34c7|03:21|Oh, cool. Family thing?                                                             |0    |PAN12-train|\n",
      "|e621da5de598c9321a1d505ea95e6a2d|0158d0d6781fc4d493f243d4caa49747|03:22|yeah.                                                                               |0    |PAN12-train|\n",
      "|e621da5de598c9321a1d505ea95e6a2d|0158d0d6781fc4d493f243d4caa49747|03:22|a &amp; l?                                                                          |0    |PAN12-train|\n",
      "|e621da5de598c9321a1d505ea95e6a2d|97964e7a9e8eb9cf78f2e4d7b2ff34c7|03:22|Gotta love those.                                                                   |0    |PAN12-train|\n",
      "|e621da5de598c9321a1d505ea95e6a2d|97964e7a9e8eb9cf78f2e4d7b2ff34c7|03:22|17, Hawaii.                                                                         |0    |PAN12-train|\n",
      "|e621da5de598c9321a1d505ea95e6a2d|97964e7a9e8eb9cf78f2e4d7b2ff34c7|03:23|and yourself?                                                                       |0    |PAN12-train|\n",
      "|e621da5de598c9321a1d505ea95e6a2d|0158d0d6781fc4d493f243d4caa49747|03:23|Uh oh.  older. 30                                                                   |0    |PAN12-train|\n",
      "|e621da5de598c9321a1d505ea95e6a2d|0158d0d6781fc4d493f243d4caa49747|03:23|Been to Hawaii.                                                                     |0    |PAN12-train|\n",
      "|e621da5de598c9321a1d505ea95e6a2d|97964e7a9e8eb9cf78f2e4d7b2ff34c7|03:23|whoops xD                                                                           |0    |PAN12-train|\n",
      "|e621da5de598c9321a1d505ea95e6a2d|97964e7a9e8eb9cf78f2e4d7b2ff34c7|03:23|It&apos;s nice, isn&apos;t it?                                                      |0    |PAN12-train|\n",
      "|e621da5de598c9321a1d505ea95e6a2d|0158d0d6781fc4d493f243d4caa49747|03:24|Yeah.  Always enjoy visiting.                                                       |0    |PAN12-train|\n",
      "+--------------------------------+--------------------------------+-----+------------------------------------------------------------------------------------+-----+-----------+\n",
      "only showing top 20 rows\n",
      "\n"
     ]
    }
   ],
   "source": [
    "# load both PAN12 training and test json files to one dataframe\n",
    "pan12_df = pan12_training_df_final.union(pan12_test_df_final)\n",
    "\n",
    "pan12_df.show(truncate=False)"
   ]
  },
  {
   "cell_type": "code",
   "execution_count": null,
   "metadata": {
    "colab": {
     "base_uri": "https://localhost:8080/"
    },
    "executionInfo": {
     "elapsed": 4439,
     "status": "ok",
     "timestamp": 1707346386562,
     "user": {
      "displayName": "Sunny Shin",
      "userId": "07563865141827084443"
     },
     "user_tz": 480
    },
    "id": "W-eBLgiouBsl",
    "outputId": "abcacfc6-f36d-4ea3-8730-97d188784f8e"
   },
   "outputs": [
    {
     "name": "stdout",
     "output_type": "stream",
     "text": [
      "+---------+-----------------------+---+-----+--------+------------------------------------------------+-----+\n",
      "|author   |conversation_start_time|id |label|source  |text                                            |time |\n",
      "+---------+-----------------------+---+-----+--------+------------------------------------------------+-----+\n",
      "|decoy    |14:40                  |0  |1    |PJ chats|Hey Its Mads                                    |14:40|\n",
      "|Billy Joe|14:40                  |0  |1    |PJ chats|Hey babes                                       |14:40|\n",
      "|Billy Joe|14:40                  |0  |1    |PJ chats|Almost done with work. So glad                  |14:41|\n",
      "|decoy    |14:40                  |0  |1    |PJ chats|Hey:) that's good right?                        |14:41|\n",
      "|Billy Joe|14:40                  |0  |1    |PJ chats|Yea                                             |14:42|\n",
      "|decoy    |14:40                  |0  |1    |PJ chats|So what's new lol                               |14:43|\n",
      "|Billy Joe|14:40                  |0  |1    |PJ chats|Nothing                                         |14:43|\n",
      "|Billy Joe|14:40                  |0  |1    |PJ chats|did u touch it in the shower. Lol               |14:43|\n",
      "|decoy    |14:40                  |0  |1    |PJ chats|No had to hurry up lol                          |14:44|\n",
      "|decoy    |14:40                  |0  |1    |PJ chats|Hold on a min                                   |14:44|\n",
      "|decoy    |14:40                  |0  |1    |PJ chats|Sorry my mom keeps bossing me around lol        |14:47|\n",
      "|Billy Joe|14:40                  |0  |1    |PJ chats|That sucks                                      |14:47|\n",
      "|decoy    |14:40                  |0  |1    |PJ chats|Yeah it's annoying. Do u get along with your mom|14:48|\n",
      "|Billy Joe|14:40                  |0  |1    |PJ chats|Kinda..she's nosy                               |14:48|\n",
      "|decoy    |14:40                  |0  |1    |PJ chats|Still lol                                       |14:48|\n",
      "|Billy Joe|14:40                  |0  |1    |PJ chats|Yea                                             |14:49|\n",
      "|decoy    |14:40                  |0  |1    |PJ chats|Is it just u and her?                           |14:50|\n",
      "|Billy Joe|14:40                  |0  |1    |PJ chats|Whatcha doing now                               |14:50|\n",
      "|Billy Joe|14:40                  |0  |1    |PJ chats|Yea                                             |14:51|\n",
      "|decoy    |14:40                  |0  |1    |PJ chats|Same here :)                                    |14:51|\n",
      "+---------+-----------------------+---+-----+--------+------------------------------------------------+-----+\n",
      "only showing top 20 rows\n",
      "\n"
     ]
    }
   ],
   "source": [
    "# load the PJZC json file to a dataframe\n",
    "pjzc_file_path = f'drive/MyDrive/210 Capstone/data/PJZC.json'\n",
    "pjzc_df = spark.read.json(pjzc_file_path)\n",
    "\n",
    "pjzc_df.show(truncate=False)"
   ]
  },
  {
   "cell_type": "code",
   "execution_count": null,
   "metadata": {
    "colab": {
     "base_uri": "https://localhost:8080/",
     "height": 512
    },
    "executionInfo": {
     "elapsed": 296865,
     "status": "error",
     "timestamp": 1707347809713,
     "user": {
      "displayName": "Sunny Shin",
      "userId": "07563865141827084443"
     },
     "user_tz": 480
    },
    "id": "BkwUjj-QuE6s",
    "outputId": "dc1df57a-94e6-4482-c5ed-afed43eb8efe"
   },
   "outputs": [
    {
     "name": "stderr",
     "output_type": "stream",
     "text": [
      "ERROR:root:KeyboardInterrupt while sending command.\n",
      "Traceback (most recent call last):\n",
      "  File \"/content/spark-3.5.0-bin-hadoop3/python/lib/py4j-0.10.9.7-src.zip/py4j/java_gateway.py\", line 1038, in send_command\n",
      "    response = connection.send_command(command)\n",
      "  File \"/content/spark-3.5.0-bin-hadoop3/python/lib/py4j-0.10.9.7-src.zip/py4j/clientserver.py\", line 511, in send_command\n",
      "    answer = smart_decode(self.stream.readline()[:-1])\n",
      "  File \"/usr/lib/python3.10/socket.py\", line 705, in readinto\n",
      "    return self._sock.recv_into(b)\n",
      "KeyboardInterrupt\n"
     ]
    },
    {
     "ename": "KeyboardInterrupt",
     "evalue": "",
     "output_type": "error",
     "traceback": [
      "\u001b[0;31m---------------------------------------------------------------------------\u001b[0m",
      "\u001b[0;31mKeyboardInterrupt\u001b[0m                         Traceback (most recent call last)",
      "\u001b[0;32m<ipython-input-14-1cff24974f56>\u001b[0m in \u001b[0;36m<cell line: 13>\u001b[0;34m()\u001b[0m\n\u001b[1;32m     11\u001b[0m \u001b[0;34m\u001b[0m\u001b[0m\n\u001b[1;32m     12\u001b[0m \u001b[0;31m# Show the DataFrame\u001b[0m\u001b[0;34m\u001b[0m\u001b[0;34m\u001b[0m\u001b[0m\n\u001b[0;32m---> 13\u001b[0;31m \u001b[0mdf_with_start_time\u001b[0m\u001b[0;34m.\u001b[0m\u001b[0mshow\u001b[0m\u001b[0;34m(\u001b[0m\u001b[0mtruncate\u001b[0m\u001b[0;34m=\u001b[0m\u001b[0;32mFalse\u001b[0m\u001b[0;34m)\u001b[0m\u001b[0;34m\u001b[0m\u001b[0;34m\u001b[0m\u001b[0m\n\u001b[0m",
      "\u001b[0;32m/content/spark-3.5.0-bin-hadoop3/python/pyspark/sql/dataframe.py\u001b[0m in \u001b[0;36mshow\u001b[0;34m(self, n, truncate, vertical)\u001b[0m\n\u001b[1;32m    970\u001b[0m                 )\n\u001b[1;32m    971\u001b[0m \u001b[0;34m\u001b[0m\u001b[0m\n\u001b[0;32m--> 972\u001b[0;31m             \u001b[0mprint\u001b[0m\u001b[0;34m(\u001b[0m\u001b[0mself\u001b[0m\u001b[0;34m.\u001b[0m\u001b[0m_jdf\u001b[0m\u001b[0;34m.\u001b[0m\u001b[0mshowString\u001b[0m\u001b[0;34m(\u001b[0m\u001b[0mn\u001b[0m\u001b[0;34m,\u001b[0m \u001b[0mint_truncate\u001b[0m\u001b[0;34m,\u001b[0m \u001b[0mvertical\u001b[0m\u001b[0;34m)\u001b[0m\u001b[0;34m)\u001b[0m\u001b[0;34m\u001b[0m\u001b[0;34m\u001b[0m\u001b[0m\n\u001b[0m\u001b[1;32m    973\u001b[0m \u001b[0;34m\u001b[0m\u001b[0m\n\u001b[1;32m    974\u001b[0m     \u001b[0;32mdef\u001b[0m \u001b[0m__repr__\u001b[0m\u001b[0;34m(\u001b[0m\u001b[0mself\u001b[0m\u001b[0;34m)\u001b[0m \u001b[0;34m->\u001b[0m \u001b[0mstr\u001b[0m\u001b[0;34m:\u001b[0m\u001b[0;34m\u001b[0m\u001b[0;34m\u001b[0m\u001b[0m\n",
      "\u001b[0;32m/content/spark-3.5.0-bin-hadoop3/python/lib/py4j-0.10.9.7-src.zip/py4j/java_gateway.py\u001b[0m in \u001b[0;36m__call__\u001b[0;34m(self, *args)\u001b[0m\n\u001b[1;32m   1319\u001b[0m             \u001b[0mproto\u001b[0m\u001b[0;34m.\u001b[0m\u001b[0mEND_COMMAND_PART\u001b[0m\u001b[0;34m\u001b[0m\u001b[0;34m\u001b[0m\u001b[0m\n\u001b[1;32m   1320\u001b[0m \u001b[0;34m\u001b[0m\u001b[0m\n\u001b[0;32m-> 1321\u001b[0;31m         \u001b[0manswer\u001b[0m \u001b[0;34m=\u001b[0m \u001b[0mself\u001b[0m\u001b[0;34m.\u001b[0m\u001b[0mgateway_client\u001b[0m\u001b[0;34m.\u001b[0m\u001b[0msend_command\u001b[0m\u001b[0;34m(\u001b[0m\u001b[0mcommand\u001b[0m\u001b[0;34m)\u001b[0m\u001b[0;34m\u001b[0m\u001b[0;34m\u001b[0m\u001b[0m\n\u001b[0m\u001b[1;32m   1322\u001b[0m         return_value = get_return_value(\n\u001b[1;32m   1323\u001b[0m             answer, self.gateway_client, self.target_id, self.name)\n",
      "\u001b[0;32m/content/spark-3.5.0-bin-hadoop3/python/lib/py4j-0.10.9.7-src.zip/py4j/java_gateway.py\u001b[0m in \u001b[0;36msend_command\u001b[0;34m(self, command, retry, binary)\u001b[0m\n\u001b[1;32m   1036\u001b[0m         \u001b[0mconnection\u001b[0m \u001b[0;34m=\u001b[0m \u001b[0mself\u001b[0m\u001b[0;34m.\u001b[0m\u001b[0m_get_connection\u001b[0m\u001b[0;34m(\u001b[0m\u001b[0;34m)\u001b[0m\u001b[0;34m\u001b[0m\u001b[0;34m\u001b[0m\u001b[0m\n\u001b[1;32m   1037\u001b[0m         \u001b[0;32mtry\u001b[0m\u001b[0;34m:\u001b[0m\u001b[0;34m\u001b[0m\u001b[0;34m\u001b[0m\u001b[0m\n\u001b[0;32m-> 1038\u001b[0;31m             \u001b[0mresponse\u001b[0m \u001b[0;34m=\u001b[0m \u001b[0mconnection\u001b[0m\u001b[0;34m.\u001b[0m\u001b[0msend_command\u001b[0m\u001b[0;34m(\u001b[0m\u001b[0mcommand\u001b[0m\u001b[0;34m)\u001b[0m\u001b[0;34m\u001b[0m\u001b[0;34m\u001b[0m\u001b[0m\n\u001b[0m\u001b[1;32m   1039\u001b[0m             \u001b[0;32mif\u001b[0m \u001b[0mbinary\u001b[0m\u001b[0;34m:\u001b[0m\u001b[0;34m\u001b[0m\u001b[0;34m\u001b[0m\u001b[0m\n\u001b[1;32m   1040\u001b[0m                 \u001b[0;32mreturn\u001b[0m \u001b[0mresponse\u001b[0m\u001b[0;34m,\u001b[0m \u001b[0mself\u001b[0m\u001b[0;34m.\u001b[0m\u001b[0m_create_connection_guard\u001b[0m\u001b[0;34m(\u001b[0m\u001b[0mconnection\u001b[0m\u001b[0;34m)\u001b[0m\u001b[0;34m\u001b[0m\u001b[0;34m\u001b[0m\u001b[0m\n",
      "\u001b[0;32m/content/spark-3.5.0-bin-hadoop3/python/lib/py4j-0.10.9.7-src.zip/py4j/clientserver.py\u001b[0m in \u001b[0;36msend_command\u001b[0;34m(self, command)\u001b[0m\n\u001b[1;32m    509\u001b[0m         \u001b[0;32mtry\u001b[0m\u001b[0;34m:\u001b[0m\u001b[0;34m\u001b[0m\u001b[0;34m\u001b[0m\u001b[0m\n\u001b[1;32m    510\u001b[0m             \u001b[0;32mwhile\u001b[0m \u001b[0;32mTrue\u001b[0m\u001b[0;34m:\u001b[0m\u001b[0;34m\u001b[0m\u001b[0;34m\u001b[0m\u001b[0m\n\u001b[0;32m--> 511\u001b[0;31m                 \u001b[0manswer\u001b[0m \u001b[0;34m=\u001b[0m \u001b[0msmart_decode\u001b[0m\u001b[0;34m(\u001b[0m\u001b[0mself\u001b[0m\u001b[0;34m.\u001b[0m\u001b[0mstream\u001b[0m\u001b[0;34m.\u001b[0m\u001b[0mreadline\u001b[0m\u001b[0;34m(\u001b[0m\u001b[0;34m)\u001b[0m\u001b[0;34m[\u001b[0m\u001b[0;34m:\u001b[0m\u001b[0;34m-\u001b[0m\u001b[0;36m1\u001b[0m\u001b[0;34m]\u001b[0m\u001b[0;34m)\u001b[0m\u001b[0;34m\u001b[0m\u001b[0;34m\u001b[0m\u001b[0m\n\u001b[0m\u001b[1;32m    512\u001b[0m                 \u001b[0mlogger\u001b[0m\u001b[0;34m.\u001b[0m\u001b[0mdebug\u001b[0m\u001b[0;34m(\u001b[0m\u001b[0;34m\"Answer received: {0}\"\u001b[0m\u001b[0;34m.\u001b[0m\u001b[0mformat\u001b[0m\u001b[0;34m(\u001b[0m\u001b[0manswer\u001b[0m\u001b[0;34m)\u001b[0m\u001b[0;34m)\u001b[0m\u001b[0;34m\u001b[0m\u001b[0;34m\u001b[0m\u001b[0m\n\u001b[1;32m    513\u001b[0m                 \u001b[0;31m# Happens when a the other end is dead. There might be an empty\u001b[0m\u001b[0;34m\u001b[0m\u001b[0;34m\u001b[0m\u001b[0m\n",
      "\u001b[0;32m/usr/lib/python3.10/socket.py\u001b[0m in \u001b[0;36mreadinto\u001b[0;34m(self, b)\u001b[0m\n\u001b[1;32m    703\u001b[0m         \u001b[0;32mwhile\u001b[0m \u001b[0;32mTrue\u001b[0m\u001b[0;34m:\u001b[0m\u001b[0;34m\u001b[0m\u001b[0;34m\u001b[0m\u001b[0m\n\u001b[1;32m    704\u001b[0m             \u001b[0;32mtry\u001b[0m\u001b[0;34m:\u001b[0m\u001b[0;34m\u001b[0m\u001b[0;34m\u001b[0m\u001b[0m\n\u001b[0;32m--> 705\u001b[0;31m                 \u001b[0;32mreturn\u001b[0m \u001b[0mself\u001b[0m\u001b[0;34m.\u001b[0m\u001b[0m_sock\u001b[0m\u001b[0;34m.\u001b[0m\u001b[0mrecv_into\u001b[0m\u001b[0;34m(\u001b[0m\u001b[0mb\u001b[0m\u001b[0;34m)\u001b[0m\u001b[0;34m\u001b[0m\u001b[0;34m\u001b[0m\u001b[0m\n\u001b[0m\u001b[1;32m    706\u001b[0m             \u001b[0;32mexcept\u001b[0m \u001b[0mtimeout\u001b[0m\u001b[0;34m:\u001b[0m\u001b[0;34m\u001b[0m\u001b[0;34m\u001b[0m\u001b[0m\n\u001b[1;32m    707\u001b[0m                 \u001b[0mself\u001b[0m\u001b[0;34m.\u001b[0m\u001b[0m_timeout_occurred\u001b[0m \u001b[0;34m=\u001b[0m \u001b[0;32mTrue\u001b[0m\u001b[0;34m\u001b[0m\u001b[0;34m\u001b[0m\u001b[0m\n",
      "\u001b[0;31mKeyboardInterrupt\u001b[0m: "
     ]
    }
   ],
   "source": [
    "from pyspark.sql.window import Window\n",
    "from pyspark.sql.functions import when, first\n",
    "\n",
    "# need processing of the pjzc file to match the two dataframes\n",
    "# Define a window partitioned by conversation_id\n",
    "window_spec = Window.partitionBy(\"conversation_id\").orderBy(\"time\")\n",
    "\n",
    "# Add a new column to show the conversation start time\n",
    "df_with_start_time = pan12_df.withColumn(\"conversation_start_time\",\n",
    "                                   when(pan12_df[\"time\"] == first(pan12_df[\"time\"]).over(window_spec), pan12_df[\"time\"]).otherwise(None))\n",
    "\n",
    "# Show the DataFrame\n",
    "df_with_start_time.show(truncate=False)"
   ]
  },
  {
   "cell_type": "code",
   "execution_count": null,
   "metadata": {
    "colab": {
     "base_uri": "https://localhost:8080/",
     "height": 477
    },
    "executionInfo": {
     "elapsed": 346473,
     "status": "error",
     "timestamp": 1707348428593,
     "user": {
      "displayName": "Sunny Shin",
      "userId": "07563865141827084443"
     },
     "user_tz": 480
    },
    "id": "6XIO3cNO3Ck9",
    "outputId": "0415b511-6bc9-4909-8e22-77dddffc7f21"
   },
   "outputs": [
    {
     "name": "stderr",
     "output_type": "stream",
     "text": [
      "ERROR:root:KeyboardInterrupt while sending command.\n",
      "Traceback (most recent call last):\n",
      "  File \"/content/spark-3.5.0-bin-hadoop3/python/lib/py4j-0.10.9.7-src.zip/py4j/java_gateway.py\", line 1038, in send_command\n",
      "    response = connection.send_command(command)\n",
      "  File \"/content/spark-3.5.0-bin-hadoop3/python/lib/py4j-0.10.9.7-src.zip/py4j/clientserver.py\", line 511, in send_command\n",
      "    answer = smart_decode(self.stream.readline()[:-1])\n",
      "  File \"/usr/lib/python3.10/socket.py\", line 705, in readinto\n",
      "    return self._sock.recv_into(b)\n",
      "KeyboardInterrupt\n"
     ]
    },
    {
     "ename": "KeyboardInterrupt",
     "evalue": "",
     "output_type": "error",
     "traceback": [
      "\u001b[0;31m---------------------------------------------------------------------------\u001b[0m",
      "\u001b[0;31mKeyboardInterrupt\u001b[0m                         Traceback (most recent call last)",
      "\u001b[0;32m<ipython-input-16-2ff7c43933a0>\u001b[0m in \u001b[0;36m<cell line: 1>\u001b[0;34m()\u001b[0m\n\u001b[0;32m----> 1\u001b[0;31m \u001b[0mdf_with_start_time\u001b[0m\u001b[0;34m.\u001b[0m\u001b[0mshow\u001b[0m\u001b[0;34m(\u001b[0m\u001b[0;36m5\u001b[0m\u001b[0;34m)\u001b[0m\u001b[0;34m\u001b[0m\u001b[0;34m\u001b[0m\u001b[0m\n\u001b[0m",
      "\u001b[0;32m/content/spark-3.5.0-bin-hadoop3/python/pyspark/sql/dataframe.py\u001b[0m in \u001b[0;36mshow\u001b[0;34m(self, n, truncate, vertical)\u001b[0m\n\u001b[1;32m    957\u001b[0m \u001b[0;34m\u001b[0m\u001b[0m\n\u001b[1;32m    958\u001b[0m         \u001b[0;32mif\u001b[0m \u001b[0misinstance\u001b[0m\u001b[0;34m(\u001b[0m\u001b[0mtruncate\u001b[0m\u001b[0;34m,\u001b[0m \u001b[0mbool\u001b[0m\u001b[0;34m)\u001b[0m \u001b[0;32mand\u001b[0m \u001b[0mtruncate\u001b[0m\u001b[0;34m:\u001b[0m\u001b[0;34m\u001b[0m\u001b[0;34m\u001b[0m\u001b[0m\n\u001b[0;32m--> 959\u001b[0;31m             \u001b[0mprint\u001b[0m\u001b[0;34m(\u001b[0m\u001b[0mself\u001b[0m\u001b[0;34m.\u001b[0m\u001b[0m_jdf\u001b[0m\u001b[0;34m.\u001b[0m\u001b[0mshowString\u001b[0m\u001b[0;34m(\u001b[0m\u001b[0mn\u001b[0m\u001b[0;34m,\u001b[0m \u001b[0;36m20\u001b[0m\u001b[0;34m,\u001b[0m \u001b[0mvertical\u001b[0m\u001b[0;34m)\u001b[0m\u001b[0;34m)\u001b[0m\u001b[0;34m\u001b[0m\u001b[0;34m\u001b[0m\u001b[0m\n\u001b[0m\u001b[1;32m    960\u001b[0m         \u001b[0;32melse\u001b[0m\u001b[0;34m:\u001b[0m\u001b[0;34m\u001b[0m\u001b[0;34m\u001b[0m\u001b[0m\n\u001b[1;32m    961\u001b[0m             \u001b[0;32mtry\u001b[0m\u001b[0;34m:\u001b[0m\u001b[0;34m\u001b[0m\u001b[0;34m\u001b[0m\u001b[0m\n",
      "\u001b[0;32m/content/spark-3.5.0-bin-hadoop3/python/lib/py4j-0.10.9.7-src.zip/py4j/java_gateway.py\u001b[0m in \u001b[0;36m__call__\u001b[0;34m(self, *args)\u001b[0m\n\u001b[1;32m   1319\u001b[0m             \u001b[0mproto\u001b[0m\u001b[0;34m.\u001b[0m\u001b[0mEND_COMMAND_PART\u001b[0m\u001b[0;34m\u001b[0m\u001b[0;34m\u001b[0m\u001b[0m\n\u001b[1;32m   1320\u001b[0m \u001b[0;34m\u001b[0m\u001b[0m\n\u001b[0;32m-> 1321\u001b[0;31m         \u001b[0manswer\u001b[0m \u001b[0;34m=\u001b[0m \u001b[0mself\u001b[0m\u001b[0;34m.\u001b[0m\u001b[0mgateway_client\u001b[0m\u001b[0;34m.\u001b[0m\u001b[0msend_command\u001b[0m\u001b[0;34m(\u001b[0m\u001b[0mcommand\u001b[0m\u001b[0;34m)\u001b[0m\u001b[0;34m\u001b[0m\u001b[0;34m\u001b[0m\u001b[0m\n\u001b[0m\u001b[1;32m   1322\u001b[0m         return_value = get_return_value(\n\u001b[1;32m   1323\u001b[0m             answer, self.gateway_client, self.target_id, self.name)\n",
      "\u001b[0;32m/content/spark-3.5.0-bin-hadoop3/python/lib/py4j-0.10.9.7-src.zip/py4j/java_gateway.py\u001b[0m in \u001b[0;36msend_command\u001b[0;34m(self, command, retry, binary)\u001b[0m\n\u001b[1;32m   1036\u001b[0m         \u001b[0mconnection\u001b[0m \u001b[0;34m=\u001b[0m \u001b[0mself\u001b[0m\u001b[0;34m.\u001b[0m\u001b[0m_get_connection\u001b[0m\u001b[0;34m(\u001b[0m\u001b[0;34m)\u001b[0m\u001b[0;34m\u001b[0m\u001b[0;34m\u001b[0m\u001b[0m\n\u001b[1;32m   1037\u001b[0m         \u001b[0;32mtry\u001b[0m\u001b[0;34m:\u001b[0m\u001b[0;34m\u001b[0m\u001b[0;34m\u001b[0m\u001b[0m\n\u001b[0;32m-> 1038\u001b[0;31m             \u001b[0mresponse\u001b[0m \u001b[0;34m=\u001b[0m \u001b[0mconnection\u001b[0m\u001b[0;34m.\u001b[0m\u001b[0msend_command\u001b[0m\u001b[0;34m(\u001b[0m\u001b[0mcommand\u001b[0m\u001b[0;34m)\u001b[0m\u001b[0;34m\u001b[0m\u001b[0;34m\u001b[0m\u001b[0m\n\u001b[0m\u001b[1;32m   1039\u001b[0m             \u001b[0;32mif\u001b[0m \u001b[0mbinary\u001b[0m\u001b[0;34m:\u001b[0m\u001b[0;34m\u001b[0m\u001b[0;34m\u001b[0m\u001b[0m\n\u001b[1;32m   1040\u001b[0m                 \u001b[0;32mreturn\u001b[0m \u001b[0mresponse\u001b[0m\u001b[0;34m,\u001b[0m \u001b[0mself\u001b[0m\u001b[0;34m.\u001b[0m\u001b[0m_create_connection_guard\u001b[0m\u001b[0;34m(\u001b[0m\u001b[0mconnection\u001b[0m\u001b[0;34m)\u001b[0m\u001b[0;34m\u001b[0m\u001b[0;34m\u001b[0m\u001b[0m\n",
      "\u001b[0;32m/content/spark-3.5.0-bin-hadoop3/python/lib/py4j-0.10.9.7-src.zip/py4j/clientserver.py\u001b[0m in \u001b[0;36msend_command\u001b[0;34m(self, command)\u001b[0m\n\u001b[1;32m    509\u001b[0m         \u001b[0;32mtry\u001b[0m\u001b[0;34m:\u001b[0m\u001b[0;34m\u001b[0m\u001b[0;34m\u001b[0m\u001b[0m\n\u001b[1;32m    510\u001b[0m             \u001b[0;32mwhile\u001b[0m \u001b[0;32mTrue\u001b[0m\u001b[0;34m:\u001b[0m\u001b[0;34m\u001b[0m\u001b[0;34m\u001b[0m\u001b[0m\n\u001b[0;32m--> 511\u001b[0;31m                 \u001b[0manswer\u001b[0m \u001b[0;34m=\u001b[0m \u001b[0msmart_decode\u001b[0m\u001b[0;34m(\u001b[0m\u001b[0mself\u001b[0m\u001b[0;34m.\u001b[0m\u001b[0mstream\u001b[0m\u001b[0;34m.\u001b[0m\u001b[0mreadline\u001b[0m\u001b[0;34m(\u001b[0m\u001b[0;34m)\u001b[0m\u001b[0;34m[\u001b[0m\u001b[0;34m:\u001b[0m\u001b[0;34m-\u001b[0m\u001b[0;36m1\u001b[0m\u001b[0;34m]\u001b[0m\u001b[0;34m)\u001b[0m\u001b[0;34m\u001b[0m\u001b[0;34m\u001b[0m\u001b[0m\n\u001b[0m\u001b[1;32m    512\u001b[0m                 \u001b[0mlogger\u001b[0m\u001b[0;34m.\u001b[0m\u001b[0mdebug\u001b[0m\u001b[0;34m(\u001b[0m\u001b[0;34m\"Answer received: {0}\"\u001b[0m\u001b[0;34m.\u001b[0m\u001b[0mformat\u001b[0m\u001b[0;34m(\u001b[0m\u001b[0manswer\u001b[0m\u001b[0;34m)\u001b[0m\u001b[0;34m)\u001b[0m\u001b[0;34m\u001b[0m\u001b[0;34m\u001b[0m\u001b[0m\n\u001b[1;32m    513\u001b[0m                 \u001b[0;31m# Happens when a the other end is dead. There might be an empty\u001b[0m\u001b[0;34m\u001b[0m\u001b[0;34m\u001b[0m\u001b[0m\n",
      "\u001b[0;32m/usr/lib/python3.10/socket.py\u001b[0m in \u001b[0;36mreadinto\u001b[0;34m(self, b)\u001b[0m\n\u001b[1;32m    703\u001b[0m         \u001b[0;32mwhile\u001b[0m \u001b[0;32mTrue\u001b[0m\u001b[0;34m:\u001b[0m\u001b[0;34m\u001b[0m\u001b[0;34m\u001b[0m\u001b[0m\n\u001b[1;32m    704\u001b[0m             \u001b[0;32mtry\u001b[0m\u001b[0;34m:\u001b[0m\u001b[0;34m\u001b[0m\u001b[0;34m\u001b[0m\u001b[0m\n\u001b[0;32m--> 705\u001b[0;31m                 \u001b[0;32mreturn\u001b[0m \u001b[0mself\u001b[0m\u001b[0;34m.\u001b[0m\u001b[0m_sock\u001b[0m\u001b[0;34m.\u001b[0m\u001b[0mrecv_into\u001b[0m\u001b[0;34m(\u001b[0m\u001b[0mb\u001b[0m\u001b[0;34m)\u001b[0m\u001b[0;34m\u001b[0m\u001b[0;34m\u001b[0m\u001b[0m\n\u001b[0m\u001b[1;32m    706\u001b[0m             \u001b[0;32mexcept\u001b[0m \u001b[0mtimeout\u001b[0m\u001b[0;34m:\u001b[0m\u001b[0;34m\u001b[0m\u001b[0;34m\u001b[0m\u001b[0m\n\u001b[1;32m    707\u001b[0m                 \u001b[0mself\u001b[0m\u001b[0;34m.\u001b[0m\u001b[0m_timeout_occurred\u001b[0m \u001b[0;34m=\u001b[0m \u001b[0;32mTrue\u001b[0m\u001b[0;34m\u001b[0m\u001b[0;34m\u001b[0m\u001b[0m\n",
      "\u001b[0;31mKeyboardInterrupt\u001b[0m: "
     ]
    }
   ],
   "source": [
    "df_with_start_time.show(5)"
   ]
  },
  {
   "cell_type": "code",
   "execution_count": null,
   "metadata": {
    "id": "YcE2JxMx5aqM"
   },
   "outputs": [],
   "source": [
    "merged_df = df_with_start_time.union(pjzc_df)\n",
    "merged_df.show()"
   ]
  },
  {
   "cell_type": "code",
   "execution_count": null,
   "metadata": {
    "id": "oxN3UEFBuDqx"
   },
   "outputs": [],
   "source": [
    "# append the pan12_df and pjzc_df\n",
    "merged_df = pan12_df.union(pjzc_df)\n",
    "\n",
    "# Show the merged dataframe\n",
    "merged_df.show(truncate=False)"
   ]
  },
  {
   "cell_type": "code",
   "execution_count": null,
   "metadata": {
    "id": "awwi4mf3tXsG"
   },
   "outputs": [],
   "source": [
    "# save file\n",
    "# define the output json file path\n",
    "json_file_path = f'drive/MyDrive/210 Capstone/data/merged_dataset/'\n",
    "\n",
    "# Write the merged DataFrame to a new JSON file\n",
    "merged_df.write.json(json_file_path)\n",
    "\n",
    "# Stop Spark session\n",
    "spark.stop()"
   ]
  },
  {
   "cell_type": "markdown",
   "metadata": {
    "id": "sMhqYHEasbUp"
   },
   "source": [
    "## 4. Merge PAN12 and PJZC json files"
   ]
  },
  {
   "cell_type": "markdown",
   "metadata": {
    "id": "HU_mwilMAu9m"
   },
   "source": [
    "###Creating another df table with merged texts (training and test)\n"
   ]
  },
  {
   "cell_type": "code",
   "execution_count": null,
   "metadata": {
    "id": "5ve2U07-JCTE"
   },
   "outputs": [],
   "source": [
    "# concatenating training and test datasets\n",
    "pan12_final_merged_text = pan12_training_final_merged_text.union(pan12_test_final_merged_text)"
   ]
  },
  {
   "cell_type": "code",
   "execution_count": null,
   "metadata": {
    "id": "qNqC60ElJjmU"
   },
   "outputs": [],
   "source": [
    "# spliting the dataframes into two dataframes\n",
    "weights = [.3, .3, .2, .2]\n",
    "splits = pan12_final_merged_text.randomSplit(weights, seed=None)\n",
    "splits[0].show(10)"
   ]
  },
  {
   "cell_type": "code",
   "execution_count": null,
   "metadata": {
    "id": "YtJsuLMJBlTr"
   },
   "outputs": [],
   "source": [
    "# Define the path where the pan12_test_data can be saved\n",
    "output_path = f'drive/MyDrive/210 Capstone/data/PAN12_processed/merged/merged_text'\n",
    "\n",
    "# Save the DataFrame to a parquet file\n",
    "splits[0].write.mode('append').parquet(output_path)\n",
    "splits[1].write.mode('append').parquet(output_path)\n",
    "splits[2].write.mode('append').parquet(output_path)\n",
    "splits[3].write.mode('append').parquet(output_path)"
   ]
  },
  {
   "cell_type": "markdown",
   "metadata": {
    "id": "G1ICzyXD2Uv_"
   },
   "source": [
    "#### attempt #3 - successfully split the json into multiple files\n"
   ]
  },
  {
   "cell_type": "code",
   "execution_count": null,
   "metadata": {
    "id": "6Zo3EayK07AT"
   },
   "outputs": [],
   "source": [
    "def split_xml_to_json(input_xml_path, output_json_path, num_files):\n",
    "\n",
    "    # Parse XML file\n",
    "    xml_tree = ET.parse(input_xml_path)\n",
    "    root = xml_tree.getroot()\n",
    "\n",
    "    # Calculate the size of each chunk\n",
    "    total_conversations = len(root)\n",
    "    chunk_size = total_conversations // num_files\n",
    "    remainder = total_conversations % num_files\n",
    "\n",
    "    # Split the XML data into chunks\n",
    "    chunks = [root[i*chunk_size:(i+1)*chunk_size] for i in range(num_files)]\n",
    "    if remainder:\n",
    "        chunks[-1].extend(root[-remainder:])  # Add the remaining items to the last chunk\n",
    "\n",
    "    # Convert each chunk to JSON and save to separate files\n",
    "    for i, chunk in enumerate(chunks):\n",
    "        json_data = []\n",
    "        for conversation in chunk:\n",
    "            conv_data = {\n",
    "                'id': conversation.get('id'),\n",
    "                'messages': [\n",
    "                    {'author': message.find('author').text, 'text': message.find('text').text}\n",
    "                    for message in conversation\n",
    "                ]\n",
    "            }\n",
    "            json_data.append(conv_data)\n",
    "\n",
    "        output_file = os.path.join(output_json_path, f\"file_{i+1}.json\")\n",
    "        with open(output_file, 'w') as f:\n",
    "            json.dump(json_data, f)\n",
    "\n",
    "        print(f\"Chunk {i+1} saved to {output_file}\")\n",
    "\n",
    "# Define paths\n",
    "train_data_path = f\"drive/MyDrive/210 Capstone/data/PAN12/pan12-sexual-predator-identification-training-corpus-2012-05-01/\"\n",
    "test_data_path = f\"drive/MyDrive/210 Capstone/data/PAN12/pan12-sexual-predator-identification-test-corpus-2012-05-21/\"\n",
    "output_train_path = f\"drive/MyDrive/210 Capstone/data/PAN12/training/\"\n",
    "output_test_path = f\"drive/MyDrive/210 Capstone/data/PAN12/test/\"\n",
    "\n",
    "# Split training file into 3 JSON files\n",
    "split_xml_to_json(train_data_path + 'pan12-sexual-predator-identification-training-corpus-2012-05-01.xml',\n",
    "                  output_train_path, 3)\n",
    "\n",
    "# Split test file into 5 JSON files\n",
    "split_xml_to_json(test_data_path + 'pan12-sexual-predator-identification-test-corpus-2012-05-17.xml',\n",
    "                  output_test_path, 5)"
   ]
  },
  {
   "cell_type": "markdown",
   "metadata": {
    "id": "wNVunf1s2qh0"
   },
   "source": [
    "#### running one training file as a sample to see what the df table looks like"
   ]
  },
  {
   "cell_type": "code",
   "execution_count": null,
   "metadata": {
    "id": "W5QoqGQDfAjj"
   },
   "outputs": [],
   "source": [
    "pan12_training = f'drive/MyDrive/210 Capstone/data/PAN12/training/file_1.json'"
   ]
  },
  {
   "cell_type": "code",
   "execution_count": null,
   "metadata": {
    "id": "ZDhGj80QrlKS"
   },
   "outputs": [],
   "source": [
    "pan12_training_json = spark.read.json(pan12_training)"
   ]
  },
  {
   "cell_type": "code",
   "execution_count": null,
   "metadata": {
    "colab": {
     "base_uri": "https://localhost:8080/"
    },
    "executionInfo": {
     "elapsed": 1372,
     "status": "ok",
     "timestamp": 1707282500187,
     "user": {
      "displayName": "Sunny Shin",
      "userId": "07563865141827084443"
     },
     "user_tz": 480
    },
    "id": "zuemq96rtH7O",
    "outputId": "2a9fa459-3122-4f39-8b68-0234df5a71d7"
   },
   "outputs": [
    {
     "name": "stdout",
     "output_type": "stream",
     "text": [
      "+--------------------------------+---------------------------------------------------------------------------------------------------------------------------------------------------------------------------------------------------------------------------------------------------------------------------------------------------------------------------------------------------------------------------------------------------------------------------------------------------------------------------------------------------------------------------------------------------------------------------------------------------------------------------------------------------------------------------------------------------------------------------------------------------------------------------------------------------------------------------------------------------------------------------------------------------------------------------------------------------------------------------------------------------------------------------------------------------------------------------------------------------------------------------------------------------------------------------------------------------------------------------------------------------------------------------------------------------------------------------------------------------------------------------------------------------------------------------------------------------------------------------------------------------------------------------------------------------------------------------------------------------------------------------------------------------------------------------------------------------------------------------------------------------------------------------------------------------------------------------------------------------------------------------------------------------------------------------------------------------------------------------------------------------------------------------------------------------------------------------------------------------------------------------------------------------------------------------------------------------------------------------------------------------------------------------------------------------------------------------------------------------------------------------------------------------------------------------------------------------------------------------------------------------------------------------------------------------------------------------------------------------------------------------------------------------------------------------------------------------------------------------------------------------------------------------------------------------------------------------------------------------------------------------------------------------------------------------------------------------------------------------------------------------------------------------------------------------------------------------------------------------------------------------------------------------------------------------------------------------------------------------------------------------------------------------------------------------------------------------------------------------------------------------------------------------------------------------------------------------------------------------------------------------------------------------------------------------------------------------------------------------------------------------------------------------------------------------------------------------------------------------------------------------------------------------------------------------------------------------------------------------------------------------------------------------------------------------------------------------------------------------------------------------------------------------------------------------------------------------------------------------------------------------------------------------------------------------------------------------------------------------------------------------------------------------------------------------------------------------------------------------------------------------------------------------------------------------------------------------------------------------------------------------------------------------------------------------------------------------------------------------------------------------------------------------------------------------------------------------------------------------------------------------------------------------------------------------------------------------------------------------------------------------------------------------------------------------------------------------------------------------------------------------------------------------------------------------------------------------------------------------------------------------------------------------------------------------------------------------------------------------------------------------------------------------------------------------------------------------------------------------------------------------------------------------------------------------------------------------------------------------------------------------------------------------------------------------------------------------------------------------------------------------------------------------------------------------------------------------------------------------------------------------------------------------------------------------------------------------------------------------------------------------------------------------------------------------------------------------------------------------------------------------------------------------------------------------------------------------------------------------------------------------------------------------------------------------------------------------------------------------------------------------------------------------------------------------------------------------------------------------------------------------------------------------------------------------------------------------------------------------------------------------------------------------------------------------------------------------------------------------------------------------------------------------------------------------------------------------------------------------------------------------------------------------------------------------------------------------------------------------------------------------------------------------------------------------------------------------------------------------------------------------------------------------------------------------------------------------------------------------------------------------------------------------------------------------------------------------------------------------------------------------------------------------------------------------------------------------------------------------------------------------------------------------------------------------------------------------------------------------------------------------------------------------------------------------------------------------------------------------------------------------------------------------------------------------------------------------------------------------------------------------------------------------------------------------------------------------------------------------------------------------------------------------------------------------------------------------------------------------------------------------------------------+\n",
      "|id                              |messages                                                                                                                                                                                                                                                                                                                                                                                                                                                                                                                                                                                                                                                                                                                                                                                                                                                                                                                                                                                                                                                                                                                                                                                                                                                                                                                                                                                                                                                                                                                                                                                                                                                                                                                                                                                                                                                                                                                                                                                                                                                                                                                                                                                                                                                                                                                                                                                                                                                                                                                                                                                                                                                                                                                                                                                                                                                                                                                                                                                                                                                                                                                                                                                                                                                                                                                                                                                                                                                                                                                                                                                                                                                                                                                                                                                                                                                                                                                                                                                                                                                                                                                                                                                                                                                                                                                                                                                                                                                                                                                                                                                                                                                                                                                                                                                                                                                                                                                                                                                                                                                                                                                                                                                                                                                                                                                                                                                                                                                                                                                                                                                                                                                                                                                                                                                                                                                                                                                                                                                                                                                                                                                                                                                                                                                                                                                                                                                                                                                                                                                                                                                                                                                                                                                                                                                                                                                                                                                                                                                                                                                                                                                                                                                                                                                                                                                                                                                                                                                                                                                                                                                                                                                                                                                                                                                                                                                                                                                                                                                                             |\n",
      "+--------------------------------+---------------------------------------------------------------------------------------------------------------------------------------------------------------------------------------------------------------------------------------------------------------------------------------------------------------------------------------------------------------------------------------------------------------------------------------------------------------------------------------------------------------------------------------------------------------------------------------------------------------------------------------------------------------------------------------------------------------------------------------------------------------------------------------------------------------------------------------------------------------------------------------------------------------------------------------------------------------------------------------------------------------------------------------------------------------------------------------------------------------------------------------------------------------------------------------------------------------------------------------------------------------------------------------------------------------------------------------------------------------------------------------------------------------------------------------------------------------------------------------------------------------------------------------------------------------------------------------------------------------------------------------------------------------------------------------------------------------------------------------------------------------------------------------------------------------------------------------------------------------------------------------------------------------------------------------------------------------------------------------------------------------------------------------------------------------------------------------------------------------------------------------------------------------------------------------------------------------------------------------------------------------------------------------------------------------------------------------------------------------------------------------------------------------------------------------------------------------------------------------------------------------------------------------------------------------------------------------------------------------------------------------------------------------------------------------------------------------------------------------------------------------------------------------------------------------------------------------------------------------------------------------------------------------------------------------------------------------------------------------------------------------------------------------------------------------------------------------------------------------------------------------------------------------------------------------------------------------------------------------------------------------------------------------------------------------------------------------------------------------------------------------------------------------------------------------------------------------------------------------------------------------------------------------------------------------------------------------------------------------------------------------------------------------------------------------------------------------------------------------------------------------------------------------------------------------------------------------------------------------------------------------------------------------------------------------------------------------------------------------------------------------------------------------------------------------------------------------------------------------------------------------------------------------------------------------------------------------------------------------------------------------------------------------------------------------------------------------------------------------------------------------------------------------------------------------------------------------------------------------------------------------------------------------------------------------------------------------------------------------------------------------------------------------------------------------------------------------------------------------------------------------------------------------------------------------------------------------------------------------------------------------------------------------------------------------------------------------------------------------------------------------------------------------------------------------------------------------------------------------------------------------------------------------------------------------------------------------------------------------------------------------------------------------------------------------------------------------------------------------------------------------------------------------------------------------------------------------------------------------------------------------------------------------------------------------------------------------------------------------------------------------------------------------------------------------------------------------------------------------------------------------------------------------------------------------------------------------------------------------------------------------------------------------------------------------------------------------------------------------------------------------------------------------------------------------------------------------------------------------------------------------------------------------------------------------------------------------------------------------------------------------------------------------------------------------------------------------------------------------------------------------------------------------------------------------------------------------------------------------------------------------------------------------------------------------------------------------------------------------------------------------------------------------------------------------------------------------------------------------------------------------------------------------------------------------------------------------------------------------------------------------------------------------------------------------------------------------------------------------------------------------------------------------------------------------------------------------------------------------------------------------------------------------------------------------------------------------------------------------------------------------------------------------------------------------------------------------------------------------------------------------------------------------------------------------------------------------------------------------------------------------------------------------------------------------------------------------------------------------------------------------------------------------------------------------------------------------------------------------------------------------------------------------------------------------------------------------------------------------------------------------------------------------------------------------------------------------------------------------------------------------------+\n",
      "|e621da5de598c9321a1d505ea95e6a2d|[{97964e7a9e8eb9cf78f2e4d7b2ff34c7, Hola.}, {0158d0d6781fc4d493f243d4caa49747, hi.}, {0158d0d6781fc4d493f243d4caa49747, whats up?}, {97964e7a9e8eb9cf78f2e4d7b2ff34c7, not a ton.}, {97964e7a9e8eb9cf78f2e4d7b2ff34c7, you?}, {0158d0d6781fc4d493f243d4caa49747, same.  being lazy.  M or f?}, {97964e7a9e8eb9cf78f2e4d7b2ff34c7, F.}, {97964e7a9e8eb9cf78f2e4d7b2ff34c7, Ditto, I&apos;ve done absolutely nothing with my day besides watching stuff on Hulu.}, {0158d0d6781fc4d493f243d4caa49747, M here.  Just got home from weekend trip.  Tired.}, {97964e7a9e8eb9cf78f2e4d7b2ff34c7, Oh, cool. Family thing?}, {0158d0d6781fc4d493f243d4caa49747, yeah.}, {0158d0d6781fc4d493f243d4caa49747, a &amp; l?}, {97964e7a9e8eb9cf78f2e4d7b2ff34c7, Gotta love those.}, {97964e7a9e8eb9cf78f2e4d7b2ff34c7, 17, Hawaii.}, {97964e7a9e8eb9cf78f2e4d7b2ff34c7, and yourself?}, {0158d0d6781fc4d493f243d4caa49747, Uh oh.  older. 30}, {0158d0d6781fc4d493f243d4caa49747, Been to Hawaii.}, {97964e7a9e8eb9cf78f2e4d7b2ff34c7, whoops xD}, {97964e7a9e8eb9cf78f2e4d7b2ff34c7, It&apos;s nice, isn&apos;t it?}, {0158d0d6781fc4d493f243d4caa49747, Yeah.  Always enjoy visiting.}, {0158d0d6781fc4d493f243d4caa49747, Which Island you on Oahu?}, {97964e7a9e8eb9cf78f2e4d7b2ff34c7, married?}, {97964e7a9e8eb9cf78f2e4d7b2ff34c7, i&apos;m assuming since you went on a &apos;family&apos; trip :p}, {0158d0d6781fc4d493f243d4caa49747, yeah. Just found this site a few days ago.}, {97964e7a9e8eb9cf78f2e4d7b2ff34c7, Yeah, Oahu.}, {0158d0d6781fc4d493f243d4caa49747, Curious to the whole &quot;random thing&quot;}, {97964e7a9e8eb9cf78f2e4d7b2ff34c7, Pretty crazy the individuals you meet, isn&apos;t it?}, {0158d0d6781fc4d493f243d4caa49747, It&apos;s been eye opening for sure.}, {97964e7a9e8eb9cf78f2e4d7b2ff34c7, Yeah, I hear you.}, {0158d0d6781fc4d493f243d4caa49747, I&apos;m pretty open to meet/talk to anyone.}, {0158d0d6781fc4d493f243d4caa49747, But pretty clear what most are looking for on this site, it seems.}, {97964e7a9e8eb9cf78f2e4d7b2ff34c7, Half the people that strike up a conversation only seem to be interested in more. . risque topics.}, {97964e7a9e8eb9cf78f2e4d7b2ff34c7, What more do you expect though, ya know?}, {0158d0d6781fc4d493f243d4caa49747, Yep.  It&apos;s the internet.}, {0158d0d6781fc4d493f243d4caa49747, You seem to take it pretty well.}, {97964e7a9e8eb9cf78f2e4d7b2ff34c7, Pardon?}, {0158d0d6781fc4d493f243d4caa49747, I just mean you seem to handle the obvious shennagans on here pretty well.}, {0158d0d6781fc4d493f243d4caa49747, harder for ladies on here for sure.}, {97964e7a9e8eb9cf78f2e4d7b2ff34c7, Ah, yeah.}, {97964e7a9e8eb9cf78f2e4d7b2ff34c7, That&apos;s what the wonderful &quot;disconnect&quot; button is for.}, {0158d0d6781fc4d493f243d4caa49747, LMAO, yes it is :)}, {0158d0d6781fc4d493f243d4caa49747, So..I said I was new to this, right?}, {97964e7a9e8eb9cf78f2e4d7b2ff34c7, You mentioned it, yeah.}, {0158d0d6781fc4d493f243d4caa49747, I thought I&apos;d turn on cam.  After 10 mins, turned it off.}, {0158d0d6781fc4d493f243d4caa49747, Went back to text.}, {97964e7a9e8eb9cf78f2e4d7b2ff34c7, Yeah, I haven&apos;t bothered touching that button. Sounds too risky to me.}, {0158d0d6781fc4d493f243d4caa49747, It&apos;s a mix of stuff, but one big difference.}, {0158d0d6781fc4d493f243d4caa49747, Cam = not such good conversation.}, {97964e7a9e8eb9cf78f2e4d7b2ff34c7, It&apos;s the reason more individuals text than call these days. More response time, better things to say, suspense, etc.}, {0158d0d6781fc4d493f243d4caa49747, Makes sense.}, {0158d0d6781fc4d493f243d4caa49747, So, you been using this site very long?}, {0158d0d6781fc4d493f243d4caa49747, what interests you w/ it?}, {97964e7a9e8eb9cf78f2e4d7b2ff34c7, You see quite a few characters.}, {97964e7a9e8eb9cf78f2e4d7b2ff34c7, Gives me a laugh.}, {0158d0d6781fc4d493f243d4caa49747, Bet it does.}, {97964e7a9e8eb9cf78f2e4d7b2ff34c7, I think it&apos;s quite funny, trying to figure out people.}, {0158d0d6781fc4d493f243d4caa49747, Well, even though I&apos;m glad to chat w/ ya &amp; you&apos;re quite...probably better I let you connect w/ someone a bit younger, eh?}, {97964e7a9e8eb9cf78f2e4d7b2ff34c7, I s&apos;pose.}, {97964e7a9e8eb9cf78f2e4d7b2ff34c7, It was a pleasure meeting you.}, {97964e7a9e8eb9cf78f2e4d7b2ff34c7, Happy chatting!}, {0158d0d6781fc4d493f243d4caa49747, You too!  Be safe!}, {0158d0d6781fc4d493f243d4caa49747, bye}]                                                                                                                                                                                                                                                                                                                                                                                                                                                                                                                                                                                                                                                                                                                                                                                                                                                                                                                                                                                                                                                                                                                                                                                                                                                                                                                                                                                                                                                                                                                                                                                                                                                                                                                                                                                                                                                                                                                                                                                                                                                                                                                                                                                                                                                                                                                                                                                                                                                                                                                                                                                                                                                                                                                                                                                                                                                                                                                                                                                                                                                                                                                                                                                                                                                                                                                                                                                                                                                             |\n",
      "|1f1298186cac7c8e97ec901f30aa47f4|[{ba209a914b0d43e49df90df597464589, asuu}, {ba209a914b0d43e49df90df597464589, lonte koe}, {ba209a914b0d43e49df90df597464589, hi}]                                                                                                                                                                                                                                                                                                                                                                                                                                                                                                                                                                                                                                                                                                                                                                                                                                                                                                                                                                                                                                                                                                                                                                                                                                                                                                                                                                                                                                                                                                                                                                                                                                                                                                                                                                                                                                                                                                                                                                                                                                                                                                                                                                                                                                                                                                                                                                                                                                                                                                                                                                                                                                                                                                                                                                                                                                                                                                                                                                                                                                                                                                                                                                                                                                                                                                                                                                                                                                                                                                                                                                                                                                                                                                                                                                                                                                                                                                                                                                                                                                                                                                                                                                                                                                                                                                                                                                                                                                                                                                                                                                                                                                                                                                                                                                                                                                                                                                                                                                                                                                                                                                                                                                                                                                                                                                                                                                                                                                                                                                                                                                                                                                                                                                                                                                                                                                                                                                                                                                                                                                                                                                                                                                                                                                                                                                                                                                                                                                                                                                                                                                                                                                                                                                                                                                                                                                                                                                                                                                                                                                                                                                                                                                                                                                                                                                                                                                                                                                                                                                                                                                                                                                                                                                                                                                                                                                                                                    |\n",
      "|1d0d6eb4815de5e2b27d0c396abf9dc7|[{634f0ee018e70d40d1db4a4bf3a2d35d, hi}, {898d2f30e39b4fc143ebdf8c0b5c6a92, asl}, {634f0ee018e70d40d1db4a4bf3a2d35d, m or f}, {898d2f30e39b4fc143ebdf8c0b5c6a92, m}]                                                                                                                                                                                                                                                                                                                                                                                                                                                                                                                                                                                                                                                                                                                                                                                                                                                                                                                                                                                                                                                                                                                                                                                                                                                                                                                                                                                                                                                                                                                                                                                                                                                                                                                                                                                                                                                                                                                                                                                                                                                                                                                                                                                                                                                                                                                                                                                                                                                                                                                                                                                                                                                                                                                                                                                                                                                                                                                                                                                                                                                                                                                                                                                                                                                                                                                                                                                                                                                                                                                                                                                                                                                                                                                                                                                                                                                                                                                                                                                                                                                                                                                                                                                                                                                                                                                                                                                                                                                                                                                                                                                                                                                                                                                                                                                                                                                                                                                                                                                                                                                                                                                                                                                                                                                                                                                                                                                                                                                                                                                                                                                                                                                                                                                                                                                                                                                                                                                                                                                                                                                                                                                                                                                                                                                                                                                                                                                                                                                                                                                                                                                                                                                                                                                                                                                                                                                                                                                                                                                                                                                                                                                                                                                                                                                                                                                                                                                                                                                                                                                                                                                                                                                                                                                                                                                                                                                 |\n",
      "|a7d90f72e1260762785b92a0c54fc4bb|[{b16999ca0ab7b07895dd8bf16c626934, happy is ayuppie word.}, {b16999ca0ab7b07895dd8bf16c626934, a yuppie *}, {73b7ab51c5ca816e43b133a422664dd4, yuppie}, {b16999ca0ab7b07895dd8bf16c626934, hehe..}, {b16999ca0ab7b07895dd8bf16c626934, u know that song?}, {73b7ab51c5ca816e43b133a422664dd4, :P}, {b16999ca0ab7b07895dd8bf16c626934, it&apos;s good.}, {b16999ca0ab7b07895dd8bf16c626934, :D}, {73b7ab51c5ca816e43b133a422664dd4, Nopes}, {73b7ab51c5ca816e43b133a422664dd4, but are you a b or a g?}, {b16999ca0ab7b07895dd8bf16c626934, g}, {73b7ab51c5ca816e43b133a422664dd4, Awesome!}, {b16999ca0ab7b07895dd8bf16c626934, u?}, {73b7ab51c5ca816e43b133a422664dd4, Oh, even more awesome!}, {73b7ab51c5ca816e43b133a422664dd4, Then let me use my fav line.}, {73b7ab51c5ca816e43b133a422664dd4, May this humble slave have the honour of chatting with Her Royal Highness? :P}, {b16999ca0ab7b07895dd8bf16c626934, what?}, {b16999ca0ab7b07895dd8bf16c626934, are you pertaining to me?}, {b16999ca0ab7b07895dd8bf16c626934, a slave?}, {b16999ca0ab7b07895dd8bf16c626934, me?}, {b16999ca0ab7b07895dd8bf16c626934, hehe..}, {b16999ca0ab7b07895dd8bf16c626934, haha. i can chat with you but i&apos;m not a slave.}, {b16999ca0ab7b07895dd8bf16c626934, :P}, {b16999ca0ab7b07895dd8bf16c626934, okay..}, {b16999ca0ab7b07895dd8bf16c626934, :D}, {b16999ca0ab7b07895dd8bf16c626934, errr...}, {b16999ca0ab7b07895dd8bf16c626934, XD..}, {b16999ca0ab7b07895dd8bf16c626934, hello???}, {b16999ca0ab7b07895dd8bf16c626934, are u there?}, {b16999ca0ab7b07895dd8bf16c626934, May this humble slave have the honour of chatting with HisRoyal Highness? :P}]                                                                                                                                                                                                                                                                                                                                                                                                                                                                                                                                                                                                                                                                                                                                                                                                                                                                                                                                                                                                                                                                                                                                                                                                                                                                                                                                                                                                                                                                                                                                                                                                                                                                                                                                                                                                                                                                                                                                                                                                                                                                                                                                                                                                                                                                                                                                                                                                                                                                                                                                                                                                                                                                                                                                                                                                                                                                                                                                                                                                                                                                                                                                                                                                                                                                                                                                                                                                                                                                                                                                                                                                                                                                                                                                                                                                                                                                                                                                                                                                                                                                                                                                                                                                                                                                                                                                                                                                                                                                                                                                                                                                                                                                                                                                                                                                                                                                                                                                                                                                                                                                                                                                                                                                                                                                                                                                                                                                                                                                                                                                                                                                                                                                                                                                                                                                                                                                                                                                                                                                                                                                                                                                                                                                                                                                                                                                                    |\n",
      "|380743a89b0163cef563c61c988ca1fd|[{7cc27ec76df624c767d83b4a5d43fb17, ask me 5 questions and i will answer them truthfully}, {c18a32dc7dc8b612f47c3d21f6ccf5f0, you first.}, {7cc27ec76df624c767d83b4a5d43fb17, you want me to ask you questions first?}]                                                                                                                                                                                                                                                                                                                                                                                                                                                                                                                                                                                                                                                                                                                                                                                                                                                                                                                                                                                                                                                                                                                                                                                                                                                                                                                                                                                                                                                                                                                                                                                                                                                                                                                                                                                                                                                                                                                                                                                                                                                                                                                                                                                                                                                                                                                                                                                                                                                                                                                                                                                                                                                                                                                                                                                                                                                                                                                                                                                                                                                                                                                                                                                                                                                                                                                                                                                                                                                                                                                                                                                                                                                                                                                                                                                                                                                                                                                                                                                                                                                                                                                                                                                                                                                                                                                                                                                                                                                                                                                                                                                                                                                                                                                                                                                                                                                                                                                                                                                                                                                                                                                                                                                                                                                                                                                                                                                                                                                                                                                                                                                                                                                                                                                                                                                                                                                                                                                                                                                                                                                                                                                                                                                                                                                                                                                                                                                                                                                                                                                                                                                                                                                                                                                                                                                                                                                                                                                                                                                                                                                                                                                                                                                                                                                                                                                                                                                                                                                                                                                                                                                                                                                                                                                                                                                              |\n",
      "|fbf93ab0370b314128ab9d62ec6b56a2|[{c15a6ffa5b1ffa0b5f8cd76f7be03a21, hi}, {c15a6ffa5b1ffa0b5f8cd76f7be03a21, asl}, {bc299f78a143138bfe071c89dbbd21e0, Hi}, {c15a6ffa5b1ffa0b5f8cd76f7be03a21, hellloooo}]                                                                                                                                                                                                                                                                                                                                                                                                                                                                                                                                                                                                                                                                                                                                                                                                                                                                                                                                                                                                                                                                                                                                                                                                                                                                                                                                                                                                                                                                                                                                                                                                                                                                                                                                                                                                                                                                                                                                                                                                                                                                                                                                                                                                                                                                                                                                                                                                                                                                                                                                                                                                                                                                                                                                                                                                                                                                                                                                                                                                                                                                                                                                                                                                                                                                                                                                                                                                                                                                                                                                                                                                                                                                                                                                                                                                                                                                                                                                                                                                                                                                                                                                                                                                                                                                                                                                                                                                                                                                                                                                                                                                                                                                                                                                                                                                                                                                                                                                                                                                                                                                                                                                                                                                                                                                                                                                                                                                                                                                                                                                                                                                                                                                                                                                                                                                                                                                                                                                                                                                                                                                                                                                                                                                                                                                                                                                                                                                                                                                                                                                                                                                                                                                                                                                                                                                                                                                                                                                                                                                                                                                                                                                                                                                                                                                                                                                                                                                                                                                                                                                                                                                                                                                                                                                                                                                                                             |\n",
      "|5fb22905eb7784e0f54167f83343e5e6|[{6f322d574618816aa2d6d1ceb4fd2551, sets mode: +oo tantek ChanServ}, {6f322d574618816aa2d6d1ceb4fd2551, sets mode: +o ChanServ}]                                                                                                                                                                                                                                                                                                                                                                                                                                                                                                                                                                                                                                                                                                                                                                                                                                                                                                                                                                                                                                                                                                                                                                                                                                                                                                                                                                                                                                                                                                                                                                                                                                                                                                                                                                                                                                                                                                                                                                                                                                                                                                                                                                                                                                                                                                                                                                                                                                                                                                                                                                                                                                                                                                                                                                                                                                                                                                                                                                                                                                                                                                                                                                                                                                                                                                                                                                                                                                                                                                                                                                                                                                                                                                                                                                                                                                                                                                                                                                                                                                                                                                                                                                                                                                                                                                                                                                                                                                                                                                                                                                                                                                                                                                                                                                                                                                                                                                                                                                                                                                                                                                                                                                                                                                                                                                                                                                                                                                                                                                                                                                                                                                                                                                                                                                                                                                                                                                                                                                                                                                                                                                                                                                                                                                                                                                                                                                                                                                                                                                                                                                                                                                                                                                                                                                                                                                                                                                                                                                                                                                                                                                                                                                                                                                                                                                                                                                                                                                                                                                                                                                                                                                                                                                                                                                                                                                                                                     |\n",
      "|7d547f474b0668393e076c358e8a138e|[{a99df90046c6675165d815175b900be1, Definitely very fancy... I've used Flowplayer in the past, but this definitely looks like the direction to go.}]                                                                                                                                                                                                                                                                                                                                                                                                                                                                                                                                                                                                                                                                                                                                                                                                                                                                                                                                                                                                                                                                                                                                                                                                                                                                                                                                                                                                                                                                                                                                                                                                                                                                                                                                                                                                                                                                                                                                                                                                                                                                                                                                                                                                                                                                                                                                                                                                                                                                                                                                                                                                                                                                                                                                                                                                                                                                                                                                                                                                                                                                                                                                                                                                                                                                                                                                                                                                                                                                                                                                                                                                                                                                                                                                                                                                                                                                                                                                                                                                                                                                                                                                                                                                                                                                                                                                                                                                                                                                                                                                                                                                                                                                                                                                                                                                                                                                                                                                                                                                                                                                                                                                                                                                                                                                                                                                                                                                                                                                                                                                                                                                                                                                                                                                                                                                                                                                                                                                                                                                                                                                                                                                                                                                                                                                                                                                                                                                                                                                                                                                                                                                                                                                                                                                                                                                                                                                                                                                                                                                                                                                                                                                                                                                                                                                                                                                                                                                                                                                                                                                                                                                                                                                                                                                                                                                                                                                 |\n",
      "|61453e33a14f8eea4b059d3b040bd614|[{b9196305a3abd10773f2be6b0ebc0632, aloha...}, {cac2b7239d674bc871720db11b452c06, hi}, {cac2b7239d674bc871720db11b452c06, asl?}, {b9196305a3abd10773f2be6b0ebc0632, bali}, {b9196305a3abd10773f2be6b0ebc0632, u ??}]                                                                                                                                                                                                                                                                                                                                                                                                                                                                                                                                                                                                                                                                                                                                                                                                                                                                                                                                                                                                                                                                                                                                                                                                                                                                                                                                                                                                                                                                                                                                                                                                                                                                                                                                                                                                                                                                                                                                                                                                                                                                                                                                                                                                                                                                                                                                                                                                                                                                                                                                                                                                                                                                                                                                                                                                                                                                                                                                                                                                                                                                                                                                                                                                                                                                                                                                                                                                                                                                                                                                                                                                                                                                                                                                                                                                                                                                                                                                                                                                                                                                                                                                                                                                                                                                                                                                                                                                                                                                                                                                                                                                                                                                                                                                                                                                                                                                                                                                                                                                                                                                                                                                                                                                                                                                                                                                                                                                                                                                                                                                                                                                                                                                                                                                                                                                                                                                                                                                                                                                                                                                                                                                                                                                                                                                                                                                                                                                                                                                                                                                                                                                                                                                                                                                                                                                                                                                                                                                                                                                                                                                                                                                                                                                                                                                                                                                                                                                                                                                                                                                                                                                                                                                                                                                                                                                 |\n",
      "|ec428ce86dddb80e5ef83c4221ce5cbb|[{bb21c722adad611b63dfb48ec99e8350, ArtB: ping}]                                                                                                                                                                                                                                                                                                                                                                                                                                                                                                                                                                                                                                                                                                                                                                                                                                                                                                                                                                                                                                                                                                                                                                                                                                                                                                                                                                                                                                                                                                                                                                                                                                                                                                                                                                                                                                                                                                                                                                                                                                                                                                                                                                                                                                                                                                                                                                                                                                                                                                                                                                                                                                                                                                                                                                                                                                                                                                                                                                                                                                                                                                                                                                                                                                                                                                                                                                                                                                                                                                                                                                                                                                                                                                                                                                                                                                                                                                                                                                                                                                                                                                                                                                                                                                                                                                                                                                                                                                                                                                                                                                                                                                                                                                                                                                                                                                                                                                                                                                                                                                                                                                                                                                                                                                                                                                                                                                                                                                                                                                                                                                                                                                                                                                                                                                                                                                                                                                                                                                                                                                                                                                                                                                                                                                                                                                                                                                                                                                                                                                                                                                                                                                                                                                                                                                                                                                                                                                                                                                                                                                                                                                                                                                                                                                                                                                                                                                                                                                                                                                                                                                                                                                                                                                                                                                                                                                                                                                                                                                     |\n",
      "|32eb5f5fe648023c049fddceb7a8fbaa|[{e9ab2f1536e4589e9c4a5f0cbae4907e, sex}, {23b96a5831fa63e3946e66166a466e37, female}, {e9ab2f1536e4589e9c4a5f0cbae4907e, yes}, {e9ab2f1536e4589e9c4a5f0cbae4907e, and i&apos;m wet}]                                                                                                                                                                                                                                                                                                                                                                                                                                                                                                                                                                                                                                                                                                                                                                                                                                                                                                                                                                                                                                                                                                                                                                                                                                                                                                                                                                                                                                                                                                                                                                                                                                                                                                                                                                                                                                                                                                                                                                                                                                                                                                                                                                                                                                                                                                                                                                                                                                                                                                                                                                                                                                                                                                                                                                                                                                                                                                                                                                                                                                                                                                                                                                                                                                                                                                                                                                                                                                                                                                                                                                                                                                                                                                                                                                                                                                                                                                                                                                                                                                                                                                                                                                                                                                                                                                                                                                                                                                                                                                                                                                                                                                                                                                                                                                                                                                                                                                                                                                                                                                                                                                                                                                                                                                                                                                                                                                                                                                                                                                                                                                                                                                                                                                                                                                                                                                                                                                                                                                                                                                                                                                                                                                                                                                                                                                                                                                                                                                                                                                                                                                                                                                                                                                                                                                                                                                                                                                                                                                                                                                                                                                                                                                                                                                                                                                                                                                                                                                                                                                                                                                                                                                                                                                                                                                                                                                 |\n",
      "|403b36d74e6fe0f2446e677b65671a00|[{9fae013bd55dd4a2322fe24f8384df9e, heey (:}, {9fae013bd55dd4a2322fe24f8384df9e, how&apos;re you?}, {6d62614379fbe3c60317c4170f17fa9c, well hi}, {6d62614379fbe3c60317c4170f17fa9c, alright}, {6d62614379fbe3c60317c4170f17fa9c, asl?}]                                                                                                                                                                                                                                                                                                                                                                                                                                                                                                                                                                                                                                                                                                                                                                                                                                                                                                                                                                                                                                                                                                                                                                                                                                                                                                                                                                                                                                                                                                                                                                                                                                                                                                                                                                                                                                                                                                                                                                                                                                                                                                                                                                                                                                                                                                                                                                                                                                                                                                                                                                                                                                                                                                                                                                                                                                                                                                                                                                                                                                                                                                                                                                                                                                                                                                                                                                                                                                                                                                                                                                                                                                                                                                                                                                                                                                                                                                                                                                                                                                                                                                                                                                                                                                                                                                                                                                                                                                                                                                                                                                                                                                                                                                                                                                                                                                                                                                                                                                                                                                                                                                                                                                                                                                                                                                                                                                                                                                                                                                                                                                                                                                                                                                                                                                                                                                                                                                                                                                                                                                                                                                                                                                                                                                                                                                                                                                                                                                                                                                                                                                                                                                                                                                                                                                                                                                                                                                                                                                                                                                                                                                                                                                                                                                                                                                                                                                                                                                                                                                                                                                                                                                                                                                                                                                              |\n",
      "|2c8125f8376aa2515c19222ba4213c28|[{5de63183b8f03f9cbab57103a55d0c7e, hi}, {087c9429602cefcd8101ff1a8e209169, hihi}, {087c9429602cefcd8101ff1a8e209169, m or f??}, {5de63183b8f03f9cbab57103a55d0c7e, akjfkjasdkjfajkdfjkakdjflkajdlkfjaldkjflkjdflkjadljfkalkjdfaljkdfaljkd;lfjakldjf}, {5de63183b8f03f9cbab57103a55d0c7e, alkjdflkjadlfjalkjdfalkjdf;lajddflkajdflkjad;lfjkalkjfajkfajkdfakljdflajkdflkajdflkajflkjadflkjadfljadflkjadlfjkadflkjalkjfajdf;lajdflkjalfkjakjdfajflajf;jkafd;jalfkdja;lkjdfaljkf;aljfaljf;ajdl}, {5de63183b8f03f9cbab57103a55d0c7e, im a female a hot female}, {5de63183b8f03f9cbab57103a55d0c7e, nothing to do}, {087c9429602cefcd8101ff1a8e209169, male}, {5de63183b8f03f9cbab57103a55d0c7e, i need someone}, {5de63183b8f03f9cbab57103a55d0c7e, someone who can take away my lonlyness}, {087c9429602cefcd8101ff1a8e209169, ok}, {5de63183b8f03f9cbab57103a55d0c7e, i hope that can be you}, {087c9429602cefcd8101ff1a8e209169, I&apos;m here}, {5de63183b8f03f9cbab57103a55d0c7e, so how can you take away my problem}, {5de63183b8f03f9cbab57103a55d0c7e, ?}, {5de63183b8f03f9cbab57103a55d0c7e, wait i need to get off my panty to get masturbating}, {087c9429602cefcd8101ff1a8e209169, and you know that I just do what you have}, {5de63183b8f03f9cbab57103a55d0c7e, oh really}, {5de63183b8f03f9cbab57103a55d0c7e, i mean right now}, {087c9429602cefcd8101ff1a8e209169, yes}, {087c9429602cefcd8101ff1a8e209169, let&apos;s connect the webcam msn??}, {5de63183b8f03f9cbab57103a55d0c7e, i hope we can do mutual masturbating}, {5de63183b8f03f9cbab57103a55d0c7e, my webcam is broken}, {5de63183b8f03f9cbab57103a55d0c7e, and thats why im bored}, {5de63183b8f03f9cbab57103a55d0c7e, how about you lick my vagina}, {5de63183b8f03f9cbab57103a55d0c7e, hold my tits}, {5de63183b8f03f9cbab57103a55d0c7e, squeeze them}, {5de63183b8f03f9cbab57103a55d0c7e, ah}, {087c9429602cefcd8101ff1a8e209169, yes}, {5de63183b8f03f9cbab57103a55d0c7e, i like that feeling}, {087c9429602cefcd8101ff1a8e209169, send me a picture of you naked wheel}, {087c9429602cefcd8101ff1a8e209169, yes}, {5de63183b8f03f9cbab57103a55d0c7e, wait can you be my pet}, {5de63183b8f03f9cbab57103a55d0c7e, like you do everything i want example imagine me naked lick my vagina}, {087c9429602cefcd8101ff1a8e209169, yes}, {5de63183b8f03f9cbab57103a55d0c7e, lick me everywhere}, {087c9429602cefcd8101ff1a8e209169, yes}, {087c9429602cefcd8101ff1a8e209169, your vagina and very Saburo}, {087c9429602cefcd8101ff1a8e209169, yes}, {087c9429602cefcd8101ff1a8e209169, give me your msn speak better for it}, {087c9429602cefcd8101ff1a8e209169, yes vagina masturbating to my face ....... ....... will go}, {087c9429602cefcd8101ff1a8e209169, hihi}]                                                                                                                                                                                                                                                                                                                                                                                                                                                                                                                                                                                                                                                                                                                                                                                                                                                                                                                                                                                                                                                                                                                                                                                                                                                                                                                                                                                                                                                                                                                                                                                                                                                                                                                                                                                                                                                                                                                                                                                                                                                                                                                                                                                                                                                                                                                                                                                                                                                                                                                                                                                                                                                                                                                                                                                                                                                                                                                                                                                                                                                                                                                                                                                                                                                                                                                                                                                                                                                                                                                                                                                                                                                                                                                                                                                                                                                                                                                                                                                                                                                                                                                                                                                                                                                                                                                                                                                                                                                                                                                                                                                                                                                                                                                                                                                                                                                                                                                                                                                                                                                                                                                                                                                                                                                                      |\n",
      "|9e5746e0563bae8228beed1eaafda18c|[{0a39f78bcb297ab0ebe8a29c28bfed89, changes: begin collecting references (whatwg r3243) &lt;http://lists.w3.org/Archives/Public/public-html-diffs/2009Jun/0101.html&gt;}]                                                                                                                                                                                                                                                                                                                                                                                                                                                                                                                                                                                                                                                                                                                                                                                                                                                                                                                                                                                                                                                                                                                                                                                                                                                                                                                                                                                                                                                                                                                                                                                                                                                                                                                                                                                                                                                                                                                                                                                                                                                                                                                                                                                                                                                                                                                                                                                                                                                                                                                                                                                                                                                                                                                                                                                                                                                                                                                                                                                                                                                                                                                                                                                                                                                                                                                                                                                                                                                                                                                                                                                                                                                                                                                                                                                                                                                                                                                                                                                                                                                                                                                                                                                                                                                                                                                                                                                                                                                                                                                                                                                                                                                                                                                                                                                                                                                                                                                                                                                                                                                                                                                                                                                                                                                                                                                                                                                                                                                                                                                                                                                                                                                                                                                                                                                                                                                                                                                                                                                                                                                                                                                                                                                                                                                                                                                                                                                                                                                                                                                                                                                                                                                                                                                                                                                                                                                                                                                                                                                                                                                                                                                                                                                                                                                                                                                                                                                                                                                                                                                                                                                                                                                                                                                                                                                                                                            |\n",
      "|6f617cbb873dc7750028bed3a8aa794d|[{e5595c2a95b10f512e1924e9ee1664fe, hi}, {4e39e6dd0c3040d983c2ceb7f4a812fb, for t = 1 : T-1\\n    w(t) = (wi-wf)*(T-t)/T + wf ;\\n    for i = 1:N\\n        v_a0(i,t+1) = w(t)*v_a0(t) + p1*r1*(x(lbest)-x(i)) + p2*r2*(x(gbest)-x(i)) ;\\n        p_a0(i,t+1) = p_a0(i,t) + v_a0(i,t+1);\\n        v_a1(i,t+1) = w(t)*v_a1(t) + p1*r1*(x(lbest)-x(i)) + p2*r2*(x(gbest)-x(i)) ;\\n        p_a1(i,t+1) = p_a1(i,t) + v_a1(i,t+1);\\n        v_a2(i,t+1) = w(t)*v_a2(t) + p1*r1*(x(lbest)-x(i)) + p2*r2*(x(gbest)-x(i)) ;\\n        p_a2(i,t+1) = p_a2(i,t) + v_a2(i,t+1);\\n        v_a3(i,t+1) = w(t)*v_a3(t) + p1*r1*(x(lbest)-x(i)) + p2*r2*(x(gbest)-x(i)) ;\\n        p_a3(i,t+1) = p_a3(i,t) + v_a3(i,t+1);\\n        v_a4(i,t+1) = w(t)*v_a4(t) + p1*r1*(x(lbest)-x(i)) + p2*r2*(x(gbest)-x(i)) ;\\n        p_a4(i,t+1) = p_a4(i,t) + v_a4(i,t+1);\\n        v_a5(i,t+1) = w(t)*v_a5(t) + p1*r1*(x(lbest)-x(i)) + p2*r2*(x(gbest)-x(i)) ;\\n        p_a5(i,t+1) = p_a5(i,t) + v_a5(i,t+1);\\n        v_a6(i,t+1) = w(t)*v_a6(t) + p1*r1*(x(lbest)-x(i)) + p2*r2*(x(gbest)-x(i)) ;\\n        p_a6(i,t+1) = p_a6(i,t) + v_a6(i,t+1);\\n        v_a7(i,t+1) = w(t)*v_a7(t) + p1*r1*(x(lbest)-x(i)) + p2*r2*(x(gbest)-x(i)) ;\\n        p_a7(i,t+1) = p_a7(i,t) + v_a7(i,t+1);\\n        v_a8(i,t+1) = w(t)*v_a8(t) + p1*r1*(x(lbest)-x(i)) + p2*r2*(x(gbest)-x(i)) ;\\n        p_a8(i,t+1) = p_a8(i,t) + v_a8(i,t+1);\\n        v_a9(i,t+1) = w(t)*v_a9(t) + p1*r1*(x(lbest)-x(i)) + p2*r2*(x(gbest)-x(i)) ;\\n        p_a9(i,t+1) = p_a9(i,t) + v_a9(i,t+1);\\n        v_a10(i,t+1) = w(t)*v_a10(t) + p1*r1*(x(lbest)-x(i)) + p2*r2*(x(gbest)-x(i)) ;\\n        p_a10(i,t+1) = p_a10(i,t) + v_a10(i,t+1);\\n        f(i,t) = a0(i) + a1(i)*(x(i)) + a2(i)*((x(i))^2) + a3(i)*((x(i))^3) + a4(i)*((x(i))^4) + a5(i)*((x(i))^5)+ a6(i)*((x(i))^6)+ a7(i)*((x(i))^7)+ a8(i)*((x(i))^8)+ a9(i)*((x(i))^9)+ a10(i)*((x(i))^10);\\n        e(i,t) = sqrt(sum((f(i,t)-y(i))^2));\\nif e(i,t) == min(e(:,t))\\n    gbest = i;\\nend\\n    end\\nif f(i,t+1) &gt; f(i,t) \\n    lbest = i;\\nend\\nend}, {e5595c2a95b10f512e1924e9ee1664fe, i know c}, {e5595c2a95b10f512e1924e9ee1664fe, m/f?}]                                                                                                                                                                                                                                                                                                                                                                                                                                                                                                                                                                                                                                                                                                                                                                                                                                                                                                                                                                                                                                                                                                                                                                                                                                                                                                                                                                                                                                                                                                                                                                                                                                                                                                                                                                                                                                                                                                                                                                                                                                                                                                                                                                                                                                                                                                                                                                                                                                                                                                                                                                                                                                                                                                                                                                                                                                                                                                                                                                                                                                                                                                                                                                                                                                                                                                                                                                                                                                                                                                                                                                                                                                                                                                                                                                                                                                                                                                                                                                                                                                                                                                                                                                                                                                                                                                                                                                                                                                                                                                                                                                                                                                                                                                                                                                                                                                                                                                                                                                                                                                                                                                                                                                                                                                                                                                                                                                                                                                                                                                                                                                                                                                                                                                                                                                                                                                                           |\n",
      "|2c1892c998f3e223d57c28da3b856169|[{edb259c0e0038f38bb200bc20c8cbf7e, we're not at the mall}, {edb259c0e0038f38bb200bc20c8cbf7e, hmm}, {edb259c0e0038f38bb200bc20c8cbf7e, you're gone}]                                                                                                                                                                                                                                                                                                                                                                                                                                                                                                                                                                                                                                                                                                                                                                                                                                                                                                                                                                                                                                                                                                                                                                                                                                                                                                                                                                                                                                                                                                                                                                                                                                                                                                                                                                                                                                                                                                                                                                                                                                                                                                                                                                                                                                                                                                                                                                                                                                                                                                                                                                                                                                                                                                                                                                                                                                                                                                                                                                                                                                                                                                                                                                                                                                                                                                                                                                                                                                                                                                                                                                                                                                                                                                                                                                                                                                                                                                                                                                                                                                                                                                                                                                                                                                                                                                                                                                                                                                                                                                                                                                                                                                                                                                                                                                                                                                                                                                                                                                                                                                                                                                                                                                                                                                                                                                                                                                                                                                                                                                                                                                                                                                                                                                                                                                                                                                                                                                                                                                                                                                                                                                                                                                                                                                                                                                                                                                                                                                                                                                                                                                                                                                                                                                                                                                                                                                                                                                                                                                                                                                                                                                                                                                                                                                                                                                                                                                                                                                                                                                                                                                                                                                                                                                                                                                                                                                                                |\n",
      "|7de43ad0a0a236d48a580c411eb7feae|[{950c4b682879aaacf6b62fe9769c156d, hi 18m philippines}, {065c7fcf262915361b34b4d85ce2d892, Horny}, {065c7fcf262915361b34b4d85ce2d892, ?}]                                                                                                                                                                                                                                                                                                                                                                                                                                                                                                                                                                                                                                                                                                                                                                                                                                                                                                                                                                                                                                                                                                                                                                                                                                                                                                                                                                                                                                                                                                                                                                                                                                                                                                                                                                                                                                                                                                                                                                                                                                                                                                                                                                                                                                                                                                                                                                                                                                                                                                                                                                                                                                                                                                                                                                                                                                                                                                                                                                                                                                                                                                                                                                                                                                                                                                                                                                                                                                                                                                                                                                                                                                                                                                                                                                                                                                                                                                                                                                                                                                                                                                                                                                                                                                                                                                                                                                                                                                                                                                                                                                                                                                                                                                                                                                                                                                                                                                                                                                                                                                                                                                                                                                                                                                                                                                                                                                                                                                                                                                                                                                                                                                                                                                                                                                                                                                                                                                                                                                                                                                                                                                                                                                                                                                                                                                                                                                                                                                                                                                                                                                                                                                                                                                                                                                                                                                                                                                                                                                                                                                                                                                                                                                                                                                                                                                                                                                                                                                                                                                                                                                                                                                                                                                                                                                                                                                                                           |\n",
      "|7b8bd13557382d5aa86cf3e3b90acaa5|[{5059ecaa4fb3ab1183f267bf1613010e, telecon today?}, {0c8dce20967cf80665e60051b8ab2d3c, apparently not}, {0c8dce20967cf80665e60051b8ab2d3c, there is no agenda at least}, {0c8dce20967cf80665e60051b8ab2d3c, is there something we should talk about}, {0c8dce20967cf80665e60051b8ab2d3c, it is possible that I or masayuki will propose a change to wheel events}, {0c8dce20967cf80665e60051b8ab2d3c, perhaps just a minor change}, {227a9a17d1db3f8e5c71a150345fb2a6, 5059ecaa4fb3ab1183f267bf1613010e, 0c8dce20967cf80665e60051b8ab2d3c, we can have a call if you like}, {0c8dce20967cf80665e60051b8ab2d3c, delta values should probably be doubles}, {227a9a17d1db3f8e5c71a150345fb2a6, no!!!!!!}, {227a9a17d1db3f8e5c71a150345fb2a6, well, ok}, {0c8dce20967cf80665e60051b8ab2d3c, but I'm not sure}, {227a9a17d1db3f8e5c71a150345fb2a6, if it's okay with MS}, {5059ecaa4fb3ab1183f267bf1613010e, yep}, {0c8dce20967cf80665e60051b8ab2d3c, I need to discuss with masayuki first}, {5059ecaa4fb3ab1183f267bf1613010e, sorry, thought you meant is it ok to have a conference :-)}, {0c8dce20967cf80665e60051b8ab2d3c, 5059ecaa4fb3ab1183f267bf1613010e: anything particular to discuss about?}, {5059ecaa4fb3ab1183f267bf1613010e, the real last call! :-) .... and any node list updates?}, {0c8dce20967cf80665e60051b8ab2d3c, I didn't meet jresig when I was in US...}, {0c8dce20967cf80665e60051b8ab2d3c, so far only sicking's proposal can handle perhaps the most needed mutation event, DOMCharacterDataModified}, {0c8dce20967cf80665e60051b8ab2d3c, it is possible that we'll implement it right after FF4, with moz prefix}, {0c8dce20967cf80665e60051b8ab2d3c, so that people can try it out}, {5059ecaa4fb3ab1183f267bf1613010e, yes, that's a limitation of resig's current proposal}, {227a9a17d1db3f8e5c71a150345fb2a6, are we going t have a call?}, {5059ecaa4fb3ab1183f267bf1613010e, sure, it'll probably be short}, {227a9a17d1db3f8e5c71a150345fb2a6, ok}, {227a9a17d1db3f8e5c71a150345fb2a6, 22813b6f9b851d152e2f2d99116de592, start telcon}, {22813b6f9b851d152e2f2d99116de592, is preparing a teleconference}, {4e63bbbffbcaf12608512401eaf11240, logging to http://www.w3.org/2011/01/26-webapps-irc}, {22813b6f9b851d152e2f2d99116de592, 4e63bbbffbcaf12608512401eaf11240, make logs public}, {4e63bbbffbcaf12608512401eaf11240, I have made the request, 22813b6f9b851d152e2f2d99116de592}, {22813b6f9b851d152e2f2d99116de592, 17f9b78129866dff3cbd228a8d985fbf, this will be DOM3}, {17f9b78129866dff3cbd228a8d985fbf, ok, 22813b6f9b851d152e2f2d99116de592; I see IA_WebApps(DOM3)2:00PM scheduled to start in 40 minutes}, {22813b6f9b851d152e2f2d99116de592, Meeting: Web Applications Working Group Teleconference}, {22813b6f9b851d152e2f2d99116de592, Date: 26 January 2011}, {227a9a17d1db3f8e5c71a150345fb2a6, 17f9b78129866dff3cbd228a8d985fbf, room for 3?}, {17f9b78129866dff3cbd228a8d985fbf, ok, 227a9a17d1db3f8e5c71a150345fb2a6; conference Team_(webapps)18:20Z scheduled with code 26631 (CONF1) for 60 minutes until 1920Z}, {0c8dce20967cf80665e60051b8ab2d3c, 5059ecaa4fb3ab1183f267bf1613010e: FYI, the reason for the possible change in wheel events is because Win7 supports &quot;high resolution&quot; scrolling}, {227a9a17d1db3f8e5c71a150345fb2a6, 17f9b78129866dff3cbd228a8d985fbf: call, 227a9a17d1db3f8e5c71a150345fb2a6}, {0c8dce20967cf80665e60051b8ab2d3c, and what Windows gives to UA, doesn't exactly map to pixels}, {0c8dce20967cf80665e60051b8ab2d3c, ...I've been told}, {227a9a17d1db3f8e5c71a150345fb2a6, zakim, call 227a9a17d1db3f8e5c71a150345fb2a6}, {17f9b78129866dff3cbd228a8d985fbf, ok, 227a9a17d1db3f8e5c71a150345fb2a6; the call is being made}, {17f9b78129866dff3cbd228a8d985fbf, Team_(webapps)18:20Z has now started}, {17f9b78129866dff3cbd228a8d985fbf, +Shepazu}, {17f9b78129866dff3cbd228a8d985fbf, +[Microsoft]}, {17f9b78129866dff3cbd228a8d985fbf, +[IPcaller]}, {0c8dce20967cf80665e60051b8ab2d3c, 17f9b78129866dff3cbd228a8d985fbf, [IPcaller] is Olli_Pettay}, {17f9b78129866dff3cbd228a8d985fbf, +Olli_Pettay; got it}, {227a9a17d1db3f8e5c71a150345fb2a6, http://dvcs.w3.org/hg/webevents/raw-file/tip/touchevents.html}, {227a9a17d1db3f8e5c71a150345fb2a6, scribenick: 5059ecaa4fb3ab1183f267bf1613010e}, {5059ecaa4fb3ab1183f267bf1613010e, 0c8dce20967cf80665e60051b8ab2d3c:  the wheel delta should be double or float}, {5059ecaa4fb3ab1183f267bf1613010e, travis: for fractional pages/lines}, {5059ecaa4fb3ab1183f267bf1613010e, travis: float would be better, doubles are a bit big}, {5059ecaa4fb3ab1183f267bf1613010e, 5059ecaa4fb3ab1183f267bf1613010e: agreed}, {5059ecaa4fb3ab1183f267bf1613010e, 0c8dce20967cf80665e60051b8ab2d3c:  float is fine}, {5059ecaa4fb3ab1183f267bf1613010e, RESOLUTION: change deltaX, deltaY, deltaZ to float for WheelEvent}, {5059ecaa4fb3ab1183f267bf1613010e, 227a9a17d1db3f8e5c71a150345fb2a6:  ok, done}, {5059ecaa4fb3ab1183f267bf1613010e, 0c8dce20967cf80665e60051b8ab2d3c:  for mutation events replacement, jresig's proposal doesn't handle the most important event DOMCharacterDataModified}, {5059ecaa4fb3ab1183f267bf1613010e, topic: mutation events replacement}, {5059ecaa4fb3ab1183f267bf1613010e, 0c8dce20967cf80665e60051b8ab2d3c:  for mutation events replacement, jresig's proposal doesn't handle the most important event DOMCharacterDataModified}, {227a9a17d1db3f8e5c71a150345fb2a6, s/zakim, call 227a9a17d1db3f8e5c71a150345fb2a6/Topic: wheel events/}, {5059ecaa4fb3ab1183f267bf1613010e, jross: agreed, it's a shortfall of his proposal....but I think his proposal could be improved to support it}, {227a9a17d1db3f8e5c71a150345fb2a6, http://www.w3.org/2008/webapps/wiki/Selector-based_Mutation_Events}, {227a9a17d1db3f8e5c71a150345fb2a6, http://www.w3.org/2008/webapps/wiki/MutationReplacement}, {5059ecaa4fb3ab1183f267bf1613010e, 5059ecaa4fb3ab1183f267bf1613010e: doesn't have resig's proposal on there}, {5059ecaa4fb3ab1183f267bf1613010e, 227a9a17d1db3f8e5c71a150345fb2a6: we should add that}, {0c8dce20967cf80665e60051b8ab2d3c, https://github.com/jeresig/nodelist}, {5059ecaa4fb3ab1183f267bf1613010e, 0c8dce20967cf80665e60051b8ab2d3c:  we should all read these proposals and talk about this next week}, {5059ecaa4fb3ab1183f267bf1613010e, 227a9a17d1db3f8e5c71a150345fb2a6: this is not really dom 3 events, so we should move forward with a replacement but perhaps in a different conf}, {5059ecaa4fb3ab1183f267bf1613010e, 5059ecaa4fb3ab1183f267bf1613010e: i'll send out mail to get the conversation started}, {5059ecaa4fb3ab1183f267bf1613010e, topics: dom 3 events issues}, {5059ecaa4fb3ab1183f267bf1613010e, topic: dom 3 events issues}, {227a9a17d1db3f8e5c71a150345fb2a6, ISSUE-121?}, {22813b6f9b851d152e2f2d99116de592, getting information on ISSUE-121}, {22813b6f9b851d152e2f2d99116de592, ISSUE-121 -- Consider generalizing the 'textInput' event to cover all user-initiated changes -- open}, {22813b6f9b851d152e2f2d99116de592, http://www.w3.org/2008/webapps/track/issues/121}, {227a9a17d1db3f8e5c71a150345fb2a6, http://www.w3.org/2008/webapps/track/products/2}, {5059ecaa4fb3ab1183f267bf1613010e, 5059ecaa4fb3ab1183f267bf1613010e: i'll mail out the updates we should make to the issues}, {227a9a17d1db3f8e5c71a150345fb2a6, ISSUE-122?}, {22813b6f9b851d152e2f2d99116de592, getting information on ISSUE-122}, {22813b6f9b851d152e2f2d99116de592, ISSUE-122 -- Consider adding 'mousewheel' again -- open}, {22813b6f9b851d152e2f2d99116de592, http://www.w3.org/2008/webapps/track/issues/122}, {5059ecaa4fb3ab1183f267bf1613010e, 227a9a17d1db3f8e5c71a150345fb2a6: does anyone want to add mousewheel again?}, {5059ecaa4fb3ab1183f267bf1613010e, 5059ecaa4fb3ab1183f267bf1613010e: no}, {5059ecaa4fb3ab1183f267bf1613010e, 0c8dce20967cf80665e60051b8ab2d3c: no}, {5059ecaa4fb3ab1183f267bf1613010e, RESOLUTION:  we will not add mousewheel back}]|\n",
      "|3c517e43554b6431f932acc138eed57e|[{505166bca797ceaa203e245667d56b34, hi}, {505166bca797ceaa203e245667d56b34, Aujourd&apos;hui  je demande l&apos;autorisation de mes parents.}, {4b66cb4831680c47cc6b66060baff894, hey}]                                                                                                                                                                                                                                                                                                                                                                                                                                                                                                                                                                                                                                                                                                                                                                                                                                                                                                                                                                                                                                                                                                                                                                                                                                                                                                                                                                                                                                                                                                                                                                                                                                                                                                                                                                                                                                                                                                                                                                                                                                                                                                                                                                                                                                                                                                                                                                                                                                                                                                                                                                                                                                                                                                                                                                                                                                                                                                                                                                                                                                                                                                                                                                                                                                                                                                                                                                                                                                                                                                                                                                                                                                                                                                                                                                                                                                                                                                                                                                                                                                                                                                                                                                                                                                                                                                                                                                                                                                                                                                                                                                                                                                                                                                                                                                                                                                                                                                                                                                                                                                                                                                                                                                                                                                                                                                                                                                                                                                                                                                                                                                                                                                                                                                                                                                                                                                                                                                                                                                                                                                                                                                                                                                                                                                                                                                                                                                                                                                                                                                                                                                                                                                                                                                                                                                                                                                                                                                                                                                                                                                                                                                                                                                                                                                                                                                                                                                                                                                                                                                                                                                                                                                                                                                                                                                                                                              |\n",
      "|bbf1d909f2a37738a9549ff301144475|[{446ce72233c0f1fcc8eebe77011a0a00, Im a 17 F Lesbian. Im looking for girls only}, {62d868fd2a3d58cbf6f5587c8182e8fa, joe?}, {62d868fd2a3d58cbf6f5587c8182e8fa, is your name anna?}, {446ce72233c0f1fcc8eebe77011a0a00, yea, why?}, {62d868fd2a3d58cbf6f5587c8182e8fa, ZOMFG}, {62d868fd2a3d58cbf6f5587c8182e8fa, I CAN&apos;T BELIEVE THIS!}, {62d868fd2a3d58cbf6f5587c8182e8fa, THIS CAN NOT BE TRUE}, {62d868fd2a3d58cbf6f5587c8182e8fa, look}, {446ce72233c0f1fcc8eebe77011a0a00, why?}, {62d868fd2a3d58cbf6f5587c8182e8fa, anna}, {62d868fd2a3d58cbf6f5587c8182e8fa, me , sydney and joe are looking for you}, {62d868fd2a3d58cbf6f5587c8182e8fa, joe loves you and is desperate to find you}, {62d868fd2a3d58cbf6f5587c8182e8fa, i know you&apos;re looking for sydney}, {62d868fd2a3d58cbf6f5587c8182e8fa, but you hafta find joe}, {446ce72233c0f1fcc8eebe77011a0a00, but joe is kinda mean}, {62d868fd2a3d58cbf6f5587c8182e8fa, cuz sydney os trying to fid him in order to help him find you}, {62d868fd2a3d58cbf6f5587c8182e8fa, i know, he is regreting all that he did}, {446ce72233c0f1fcc8eebe77011a0a00, will he change?}, {62d868fd2a3d58cbf6f5587c8182e8fa, he is another person now}, {62d868fd2a3d58cbf6f5587c8182e8fa, he is desperate}, {62d868fd2a3d58cbf6f5587c8182e8fa, he alredy did}, {62d868fd2a3d58cbf6f5587c8182e8fa, you}, {446ce72233c0f1fcc8eebe77011a0a00, what he did was pretty bad}, {62d868fd2a3d58cbf6f5587c8182e8fa, have}, {62d868fd2a3d58cbf6f5587c8182e8fa, to}, {62d868fd2a3d58cbf6f5587c8182e8fa, him}, {62d868fd2a3d58cbf6f5587c8182e8fa, find}, {62d868fd2a3d58cbf6f5587c8182e8fa, i know...}, {62d868fd2a3d58cbf6f5587c8182e8fa, he is regreting it from the deepest part of his heart}, {62d868fd2a3d58cbf6f5587c8182e8fa, he almost killed himself because of you}, {446ce72233c0f1fcc8eebe77011a0a00, But can he change, I cant see him doing that}, {446ce72233c0f1fcc8eebe77011a0a00, really???}, {62d868fd2a3d58cbf6f5587c8182e8fa, but eddie (he&apos;s in vocation now) stoped him}, {62d868fd2a3d58cbf6f5587c8182e8fa, YEAH!]}, {62d868fd2a3d58cbf6f5587c8182e8fa, he loves you}, {446ce72233c0f1fcc8eebe77011a0a00, jeez youcan always count on eddie}, {446ce72233c0f1fcc8eebe77011a0a00, well tell him to tell me}, {62d868fd2a3d58cbf6f5587c8182e8fa, tell who to tell you what?}, {446ce72233c0f1fcc8eebe77011a0a00, who do you think?}, {446ce72233c0f1fcc8eebe77011a0a00, JOE}, {62d868fd2a3d58cbf6f5587c8182e8fa, joe?}, {62d868fd2a3d58cbf6f5587c8182e8fa, lol}, {62d868fd2a3d58cbf6f5587c8182e8fa, BUT HE IS TRYING TO DO IT!}, {62d868fd2a3d58cbf6f5587c8182e8fa, HE&apos;S LOOKING FOR YOU!}, {446ce72233c0f1fcc8eebe77011a0a00, If we can talk face to face Ill be able to see hes really changed}, {62d868fd2a3d58cbf6f5587c8182e8fa, okay}, {62d868fd2a3d58cbf6f5587c8182e8fa, but he javes to find you first D:}, {62d868fd2a3d58cbf6f5587c8182e8fa, in order to talk face to face with you}, {446ce72233c0f1fcc8eebe77011a0a00, yea}, {446ce72233c0f1fcc8eebe77011a0a00, but im not saying yes}, {446ce72233c0f1fcc8eebe77011a0a00, its hard to regain trust}, {62d868fd2a3d58cbf6f5587c8182e8fa, ....does that mean you don&apos;t want to see him?}, {446ce72233c0f1fcc8eebe77011a0a00, IDK}, {62d868fd2a3d58cbf6f5587c8182e8fa, believe me, he changed}, {62d868fd2a3d58cbf6f5587c8182e8fa, IM AXL, YOU KNOW THAT IF I SAY SOMETHING , I MEAN IT!}, {62d868fd2a3d58cbf6f5587c8182e8fa, he}, {62d868fd2a3d58cbf6f5587c8182e8fa, changed...}, {446ce72233c0f1fcc8eebe77011a0a00, Well we need to rebuild trust, so he needs to talk to me}, {62d868fd2a3d58cbf6f5587c8182e8fa, IN ORDER TO TALK TO YOU HE NEEDS TO FIND YOU!}, {446ce72233c0f1fcc8eebe77011a0a00, listen I got to go, this is all too much for me right now}, {62d868fd2a3d58cbf6f5587c8182e8fa, NO}, {62d868fd2a3d58cbf6f5587c8182e8fa, WAIT}]                                                                                                                                                                                                                                                                                                                                                                                                                                                                                                                                                                                                                                                                                                                                                                                                                                                                                                                                                                                                                                                                                                                                                                                                                                                                                                                                                                                                                                                                                                                                                                                                                                                                                                                                                                                                                                                                                                                                                                                                                                                                                                                                                                                                                                                                                                                                                                                                                                                                                                                                                                                                                                                                                                                                                                                                                                                                                                                                                                                                                                                                                                                                                                                                                                                                                                                                                                                                                                                                                                                                                                                                                                                                                                                                                                                                                                                                                                                                                                                                                                                                                                                           |\n",
      "+--------------------------------+---------------------------------------------------------------------------------------------------------------------------------------------------------------------------------------------------------------------------------------------------------------------------------------------------------------------------------------------------------------------------------------------------------------------------------------------------------------------------------------------------------------------------------------------------------------------------------------------------------------------------------------------------------------------------------------------------------------------------------------------------------------------------------------------------------------------------------------------------------------------------------------------------------------------------------------------------------------------------------------------------------------------------------------------------------------------------------------------------------------------------------------------------------------------------------------------------------------------------------------------------------------------------------------------------------------------------------------------------------------------------------------------------------------------------------------------------------------------------------------------------------------------------------------------------------------------------------------------------------------------------------------------------------------------------------------------------------------------------------------------------------------------------------------------------------------------------------------------------------------------------------------------------------------------------------------------------------------------------------------------------------------------------------------------------------------------------------------------------------------------------------------------------------------------------------------------------------------------------------------------------------------------------------------------------------------------------------------------------------------------------------------------------------------------------------------------------------------------------------------------------------------------------------------------------------------------------------------------------------------------------------------------------------------------------------------------------------------------------------------------------------------------------------------------------------------------------------------------------------------------------------------------------------------------------------------------------------------------------------------------------------------------------------------------------------------------------------------------------------------------------------------------------------------------------------------------------------------------------------------------------------------------------------------------------------------------------------------------------------------------------------------------------------------------------------------------------------------------------------------------------------------------------------------------------------------------------------------------------------------------------------------------------------------------------------------------------------------------------------------------------------------------------------------------------------------------------------------------------------------------------------------------------------------------------------------------------------------------------------------------------------------------------------------------------------------------------------------------------------------------------------------------------------------------------------------------------------------------------------------------------------------------------------------------------------------------------------------------------------------------------------------------------------------------------------------------------------------------------------------------------------------------------------------------------------------------------------------------------------------------------------------------------------------------------------------------------------------------------------------------------------------------------------------------------------------------------------------------------------------------------------------------------------------------------------------------------------------------------------------------------------------------------------------------------------------------------------------------------------------------------------------------------------------------------------------------------------------------------------------------------------------------------------------------------------------------------------------------------------------------------------------------------------------------------------------------------------------------------------------------------------------------------------------------------------------------------------------------------------------------------------------------------------------------------------------------------------------------------------------------------------------------------------------------------------------------------------------------------------------------------------------------------------------------------------------------------------------------------------------------------------------------------------------------------------------------------------------------------------------------------------------------------------------------------------------------------------------------------------------------------------------------------------------------------------------------------------------------------------------------------------------------------------------------------------------------------------------------------------------------------------------------------------------------------------------------------------------------------------------------------------------------------------------------------------------------------------------------------------------------------------------------------------------------------------------------------------------------------------------------------------------------------------------------------------------------------------------------------------------------------------------------------------------------------------------------------------------------------------------------------------------------------------------------------------------------------------------------------------------------------------------------------------------------------------------------------------------------------------------------------------------------------------------------------------------------------------------------------------------------------------------------------------------------------------------------------------------------------------------------------------------------------------------------------------------------------------------------------------------------------------------------------------------------------------------------------------------------------------------------------------------------------------------------------------------------------------------------------------------------------------------------+\n",
      "only showing top 20 rows\n",
      "\n"
     ]
    }
   ],
   "source": [
    "pan12_training_json.show(truncate=False)"
   ]
  },
  {
   "cell_type": "code",
   "execution_count": null,
   "metadata": {
    "colab": {
     "base_uri": "https://localhost:8080/",
     "height": 373
    },
    "executionInfo": {
     "elapsed": 514,
     "status": "error",
     "timestamp": 1707282471964,
     "user": {
      "displayName": "Sunny Shin",
      "userId": "07563865141827084443"
     },
     "user_tz": 480
    },
    "id": "xSwQe6sus9rO",
    "outputId": "9e64f934-74e9-4bc2-84bf-c0724df71a6e"
   },
   "outputs": [
    {
     "ename": "AnalysisException",
     "evalue": "[DATATYPE_MISMATCH.UNEXPECTED_INPUT_TYPE] Cannot resolve \"explode(id)\" due to data type mismatch: Parameter 1 requires the (\"ARRAY\" or \"MAP\") type, however \"id\" has the type \"STRING\".;\n'Project [explode(id#8) AS ()]\n+- Relation [id#8,messages#9] json\n",
     "output_type": "error",
     "traceback": [
      "\u001b[0;31m---------------------------------------------------------------------------\u001b[0m",
      "\u001b[0;31mAnalysisException\u001b[0m                         Traceback (most recent call last)",
      "\u001b[0;32m<ipython-input-9-d27351c27cec>\u001b[0m in \u001b[0;36m<cell line: 1>\u001b[0;34m()\u001b[0m\n\u001b[0;32m----> 1\u001b[0;31m \u001b[0mpan12_training_df_exploded\u001b[0m \u001b[0;34m=\u001b[0m \u001b[0mpan12_training_json\u001b[0m\u001b[0;34m.\u001b[0m\u001b[0mselect\u001b[0m\u001b[0;34m(\u001b[0m\u001b[0mexplode\u001b[0m\u001b[0;34m(\u001b[0m\u001b[0mcol\u001b[0m\u001b[0;34m(\u001b[0m\u001b[0;34m\"id\"\u001b[0m\u001b[0;34m)\u001b[0m\u001b[0;34m)\u001b[0m\u001b[0;34m)\u001b[0m\u001b[0;34m\u001b[0m\u001b[0;34m\u001b[0m\u001b[0m\n\u001b[0m",
      "\u001b[0;32m/content/spark-3.5.0-bin-hadoop3/python/pyspark/sql/dataframe.py\u001b[0m in \u001b[0;36mselect\u001b[0;34m(self, *cols)\u001b[0m\n\u001b[1;32m   3221\u001b[0m         \u001b[0;34m+\u001b[0m\u001b[0;34m-\u001b[0m\u001b[0;34m-\u001b[0m\u001b[0;34m-\u001b[0m\u001b[0;34m-\u001b[0m\u001b[0;34m-\u001b[0m\u001b[0;34m+\u001b[0m\u001b[0;34m-\u001b[0m\u001b[0;34m-\u001b[0m\u001b[0;34m-\u001b[0m\u001b[0;34m+\u001b[0m\u001b[0;34m\u001b[0m\u001b[0;34m\u001b[0m\u001b[0m\n\u001b[1;32m   3222\u001b[0m         \"\"\"\n\u001b[0;32m-> 3223\u001b[0;31m         \u001b[0mjdf\u001b[0m \u001b[0;34m=\u001b[0m \u001b[0mself\u001b[0m\u001b[0;34m.\u001b[0m\u001b[0m_jdf\u001b[0m\u001b[0;34m.\u001b[0m\u001b[0mselect\u001b[0m\u001b[0;34m(\u001b[0m\u001b[0mself\u001b[0m\u001b[0;34m.\u001b[0m\u001b[0m_jcols\u001b[0m\u001b[0;34m(\u001b[0m\u001b[0;34m*\u001b[0m\u001b[0mcols\u001b[0m\u001b[0;34m)\u001b[0m\u001b[0;34m)\u001b[0m\u001b[0;34m\u001b[0m\u001b[0;34m\u001b[0m\u001b[0m\n\u001b[0m\u001b[1;32m   3224\u001b[0m         \u001b[0;32mreturn\u001b[0m \u001b[0mDataFrame\u001b[0m\u001b[0;34m(\u001b[0m\u001b[0mjdf\u001b[0m\u001b[0;34m,\u001b[0m \u001b[0mself\u001b[0m\u001b[0;34m.\u001b[0m\u001b[0msparkSession\u001b[0m\u001b[0;34m)\u001b[0m\u001b[0;34m\u001b[0m\u001b[0;34m\u001b[0m\u001b[0m\n\u001b[1;32m   3225\u001b[0m \u001b[0;34m\u001b[0m\u001b[0m\n",
      "\u001b[0;32m/content/spark-3.5.0-bin-hadoop3/python/lib/py4j-0.10.9.7-src.zip/py4j/java_gateway.py\u001b[0m in \u001b[0;36m__call__\u001b[0;34m(self, *args)\u001b[0m\n\u001b[1;32m   1320\u001b[0m \u001b[0;34m\u001b[0m\u001b[0m\n\u001b[1;32m   1321\u001b[0m         \u001b[0manswer\u001b[0m \u001b[0;34m=\u001b[0m \u001b[0mself\u001b[0m\u001b[0;34m.\u001b[0m\u001b[0mgateway_client\u001b[0m\u001b[0;34m.\u001b[0m\u001b[0msend_command\u001b[0m\u001b[0;34m(\u001b[0m\u001b[0mcommand\u001b[0m\u001b[0;34m)\u001b[0m\u001b[0;34m\u001b[0m\u001b[0;34m\u001b[0m\u001b[0m\n\u001b[0;32m-> 1322\u001b[0;31m         return_value = get_return_value(\n\u001b[0m\u001b[1;32m   1323\u001b[0m             answer, self.gateway_client, self.target_id, self.name)\n\u001b[1;32m   1324\u001b[0m \u001b[0;34m\u001b[0m\u001b[0m\n",
      "\u001b[0;32m/content/spark-3.5.0-bin-hadoop3/python/pyspark/errors/exceptions/captured.py\u001b[0m in \u001b[0;36mdeco\u001b[0;34m(*a, **kw)\u001b[0m\n\u001b[1;32m    183\u001b[0m                 \u001b[0;31m# Hide where the exception came from that shows a non-Pythonic\u001b[0m\u001b[0;34m\u001b[0m\u001b[0;34m\u001b[0m\u001b[0m\n\u001b[1;32m    184\u001b[0m                 \u001b[0;31m# JVM exception message.\u001b[0m\u001b[0;34m\u001b[0m\u001b[0;34m\u001b[0m\u001b[0m\n\u001b[0;32m--> 185\u001b[0;31m                 \u001b[0;32mraise\u001b[0m \u001b[0mconverted\u001b[0m \u001b[0;32mfrom\u001b[0m \u001b[0;32mNone\u001b[0m\u001b[0;34m\u001b[0m\u001b[0;34m\u001b[0m\u001b[0m\n\u001b[0m\u001b[1;32m    186\u001b[0m             \u001b[0;32melse\u001b[0m\u001b[0;34m:\u001b[0m\u001b[0;34m\u001b[0m\u001b[0;34m\u001b[0m\u001b[0m\n\u001b[1;32m    187\u001b[0m                 \u001b[0;32mraise\u001b[0m\u001b[0;34m\u001b[0m\u001b[0;34m\u001b[0m\u001b[0m\n",
      "\u001b[0;31mAnalysisException\u001b[0m: [DATATYPE_MISMATCH.UNEXPECTED_INPUT_TYPE] Cannot resolve \"explode(id)\" due to data type mismatch: Parameter 1 requires the (\"ARRAY\" or \"MAP\") type, however \"id\" has the type \"STRING\".;\n'Project [explode(id#8) AS ()]\n+- Relation [id#8,messages#9] json\n"
     ]
    }
   ],
   "source": [
    "pan12_training_df_exploded = pan12_training_json.select(explode(col(\"id\")))"
   ]
  },
  {
   "cell_type": "code",
   "execution_count": null,
   "metadata": {
    "colab": {
     "base_uri": "https://localhost:8080/"
    },
    "executionInfo": {
     "elapsed": 1501,
     "status": "ok",
     "timestamp": 1707263708737,
     "user": {
      "displayName": "Sunny Shin",
      "userId": "07563865141827084443"
     },
     "user_tz": 480
    },
    "id": "oGPr8x51uN8-",
    "outputId": "2288ab9d-3093-4b66-97f8-33a29b3ab2af"
   },
   "outputs": [
    {
     "name": "stdout",
     "output_type": "stream",
     "text": [
      "+--------------------+\n",
      "|                 col|\n",
      "+--------------------+\n",
      "|{97964e7a9e8eb9cf...|\n",
      "|{0158d0d6781fc4d4...|\n",
      "|{0158d0d6781fc4d4...|\n",
      "|{97964e7a9e8eb9cf...|\n",
      "|{97964e7a9e8eb9cf...|\n",
      "|{0158d0d6781fc4d4...|\n",
      "|{97964e7a9e8eb9cf...|\n",
      "|{97964e7a9e8eb9cf...|\n",
      "|{0158d0d6781fc4d4...|\n",
      "|{97964e7a9e8eb9cf...|\n",
      "|{0158d0d6781fc4d4...|\n",
      "|{0158d0d6781fc4d4...|\n",
      "|{97964e7a9e8eb9cf...|\n",
      "|{97964e7a9e8eb9cf...|\n",
      "|{97964e7a9e8eb9cf...|\n",
      "|{0158d0d6781fc4d4...|\n",
      "|{0158d0d6781fc4d4...|\n",
      "|{97964e7a9e8eb9cf...|\n",
      "|{97964e7a9e8eb9cf...|\n",
      "|{0158d0d6781fc4d4...|\n",
      "+--------------------+\n",
      "only showing top 20 rows\n",
      "\n"
     ]
    }
   ],
   "source": [
    "pan12_training_df_exploded.show()"
   ]
  },
  {
   "cell_type": "code",
   "execution_count": null,
   "metadata": {
    "id": "qqAmILhutQMI"
   },
   "outputs": [],
   "source": [
    "pan12_training_df_final = pan12_training_df_exploded.select(col('col').getItem('author').alias('author'),\n",
    "                                                            col('col').getItem('text').alias('text'))"
   ]
  },
  {
   "cell_type": "code",
   "execution_count": null,
   "metadata": {
    "colab": {
     "base_uri": "https://localhost:8080/"
    },
    "executionInfo": {
     "elapsed": 1291,
     "status": "ok",
     "timestamp": 1707263727737,
     "user": {
      "displayName": "Sunny Shin",
      "userId": "07563865141827084443"
     },
     "user_tz": 480
    },
    "id": "SmPJ1az1ub6E",
    "outputId": "4a955410-7b1e-4f53-b2b0-5d8f8fcc6af8"
   },
   "outputs": [
    {
     "data": {
      "text/plain": [
       "309297"
      ]
     },
     "execution_count": 32,
     "metadata": {},
     "output_type": "execute_result"
    }
   ],
   "source": [
    "pan12_training_df_final.count()"
   ]
  },
  {
   "cell_type": "code",
   "execution_count": null,
   "metadata": {
    "colab": {
     "base_uri": "https://localhost:8080/"
    },
    "executionInfo": {
     "elapsed": 2318,
     "status": "ok",
     "timestamp": 1707263733531,
     "user": {
      "displayName": "Sunny Shin",
      "userId": "07563865141827084443"
     },
     "user_tz": 480
    },
    "id": "q3J8d3bzueRH",
    "outputId": "7e78372a-4054-4b48-d2a4-0ef0704d32c7"
   },
   "outputs": [
    {
     "name": "stdout",
     "output_type": "stream",
     "text": [
      "+--------------------------------+------------------------------------------------------------------------------------+\n",
      "|author                          |text                                                                                |\n",
      "+--------------------------------+------------------------------------------------------------------------------------+\n",
      "|97964e7a9e8eb9cf78f2e4d7b2ff34c7|Hola.                                                                               |\n",
      "|0158d0d6781fc4d493f243d4caa49747|hi.                                                                                 |\n",
      "|0158d0d6781fc4d493f243d4caa49747|whats up?                                                                           |\n",
      "|97964e7a9e8eb9cf78f2e4d7b2ff34c7|not a ton.                                                                          |\n",
      "|97964e7a9e8eb9cf78f2e4d7b2ff34c7|you?                                                                                |\n",
      "|0158d0d6781fc4d493f243d4caa49747|same.  being lazy.  M or f?                                                         |\n",
      "|97964e7a9e8eb9cf78f2e4d7b2ff34c7|F.                                                                                  |\n",
      "|97964e7a9e8eb9cf78f2e4d7b2ff34c7|Ditto, I&apos;ve done absolutely nothing with my day besides watching stuff on Hulu.|\n",
      "|0158d0d6781fc4d493f243d4caa49747|M here.  Just got home from weekend trip.  Tired.                                   |\n",
      "|97964e7a9e8eb9cf78f2e4d7b2ff34c7|Oh, cool. Family thing?                                                             |\n",
      "|0158d0d6781fc4d493f243d4caa49747|yeah.                                                                               |\n",
      "|0158d0d6781fc4d493f243d4caa49747|a &amp; l?                                                                          |\n",
      "|97964e7a9e8eb9cf78f2e4d7b2ff34c7|Gotta love those.                                                                   |\n",
      "|97964e7a9e8eb9cf78f2e4d7b2ff34c7|17, Hawaii.                                                                         |\n",
      "|97964e7a9e8eb9cf78f2e4d7b2ff34c7|and yourself?                                                                       |\n",
      "|0158d0d6781fc4d493f243d4caa49747|Uh oh.  older. 30                                                                   |\n",
      "|0158d0d6781fc4d493f243d4caa49747|Been to Hawaii.                                                                     |\n",
      "|97964e7a9e8eb9cf78f2e4d7b2ff34c7|whoops xD                                                                           |\n",
      "|97964e7a9e8eb9cf78f2e4d7b2ff34c7|It&apos;s nice, isn&apos;t it?                                                      |\n",
      "|0158d0d6781fc4d493f243d4caa49747|Yeah.  Always enjoy visiting.                                                       |\n",
      "+--------------------------------+------------------------------------------------------------------------------------+\n",
      "only showing top 20 rows\n",
      "\n"
     ]
    }
   ],
   "source": [
    "pan12_training_df_final.show(truncate=False)"
   ]
  },
  {
   "cell_type": "markdown",
   "metadata": {
    "id": "rVPvRkzZ4F6K"
   },
   "source": [
    "Once the training and test files are split into multiple chunks (3 training and 5 test), bring them all into spark dataframe tables"
   ]
  },
  {
   "cell_type": "code",
   "execution_count": null,
   "metadata": {
    "colab": {
     "base_uri": "https://localhost:8080/"
    },
    "executionInfo": {
     "elapsed": 16833,
     "status": "ok",
     "timestamp": 1707264295715,
     "user": {
      "displayName": "Sunny Shin",
      "userId": "07563865141827084443"
     },
     "user_tz": 480
    },
    "id": "cGSerPmMo2bN",
    "outputId": "42d659fd-5848-40e5-a3b1-ba7a8704ebb1"
   },
   "outputs": [
    {
     "name": "stdout",
     "output_type": "stream",
     "text": [
      "File: drive/MyDrive/210 Capstone/data/PAN12/training/file_1.json, Count: 309297\n",
      "File: drive/MyDrive/210 Capstone/data/PAN12/training/file_2.json, Count: 298668\n",
      "File: drive/MyDrive/210 Capstone/data/PAN12/training/file_3.json, Count: 295642\n",
      "File: drive/MyDrive/210 Capstone/data/PAN12/test/file_1.json, Count: 410832\n",
      "File: drive/MyDrive/210 Capstone/data/PAN12/test/file_2.json, Count: 411308\n",
      "File: drive/MyDrive/210 Capstone/data/PAN12/test/file_3.json, Count: 409207\n",
      "File: drive/MyDrive/210 Capstone/data/PAN12/test/file_4.json, Count: 412878\n",
      "File: drive/MyDrive/210 Capstone/data/PAN12/test/file_5.json, Count: 414556\n"
     ]
    }
   ],
   "source": [
    "def process_json_file(json_file_path):\n",
    "    \"\"\"\n",
    "    Reads a JSON file, explodes the 'messages' array, and selects the 'author' and 'text' fields.\n",
    "\n",
    "    Args:\n",
    "    - json_file_path: Path to the JSON file\n",
    "\n",
    "    Returns:\n",
    "    - DataFrame containing 'author' and 'text' fields\n",
    "    \"\"\"\n",
    "    # Initialize SparkSession\n",
    "    spark = SparkSession.builder \\\n",
    "        .appName(\"Process JSON File\") \\\n",
    "        .getOrCreate()\n",
    "\n",
    "    # Read JSON file\n",
    "    json_df = spark.read.json(json_file_path)\n",
    "\n",
    "    # Explode 'messages' array\n",
    "    exploded_df = json_df.select(explode(col(\"messages\")))\n",
    "\n",
    "    # Select 'author' and 'text' fields\n",
    "    final_df = exploded_df.select(col('col').getItem('author').alias('author'),\n",
    "                                  col('col').getItem('text').alias('text'))\n",
    "\n",
    "    return final_df\n",
    "\n",
    "# Example usage:\n",
    "pan12_training_files = ['drive/MyDrive/210 Capstone/data/PAN12/training/file_1.json',\n",
    "                        'drive/MyDrive/210 Capstone/data/PAN12/training/file_2.json',\n",
    "                        'drive/MyDrive/210 Capstone/data/PAN12/training/file_3.json']\n",
    "\n",
    "# Process each training file\n",
    "for file_path in pan12_training_files:\n",
    "    df = process_json_file(file_path)\n",
    "    print(f\"File: {file_path}, Count: {df.count()}\")\n",
    "\n",
    "# Repeat the same process for test files\n",
    "pan12_test_files = ['drive/MyDrive/210 Capstone/data/PAN12/test/file_1.json',\n",
    "                    'drive/MyDrive/210 Capstone/data/PAN12/test/file_2.json',\n",
    "                    'drive/MyDrive/210 Capstone/data/PAN12/test/file_3.json',\n",
    "                    'drive/MyDrive/210 Capstone/data/PAN12/test/file_4.json',\n",
    "                    'drive/MyDrive/210 Capstone/data/PAN12/test/file_5.json']\n",
    "\n",
    "# Process each test file\n",
    "for file_path in pan12_test_files:\n",
    "    df = process_json_file(file_path)\n",
    "    print(f\"File: {file_path}, Count: {df.count()}\")"
   ]
  },
  {
   "cell_type": "code",
   "execution_count": null,
   "metadata": {
    "id": "pHqNTVwJ7tGi"
   },
   "outputs": [],
   "source": [
    "def process_json_file(json_file_path):\n",
    "    \"\"\"\n",
    "    Reads a JSON file, explodes the 'messages' array, and selects the 'author' and 'text' fields.\n",
    "\n",
    "    Args:\n",
    "    - json_file_path: Path to the JSON file\n",
    "\n",
    "    Returns:\n",
    "    - DataFrame containing 'author' and 'text' fields\n",
    "    \"\"\"\n",
    "\n",
    "    # Read JSON file\n",
    "    json_df = spark.read.json(json_file_path)\n",
    "\n",
    "    # Explode 'messages' array\n",
    "    exploded_df = json_df.select(explode(col(\"messages\")))\n",
    "\n",
    "    # Select 'author' and 'text' fields\n",
    "    final_df = exploded_df.select(col('col').getItem('author').alias('author'),\n",
    "                                  col('col').getItem('text').alias('text'))\n",
    "    return final_df"
   ]
  },
  {
   "cell_type": "code",
   "execution_count": null,
   "metadata": {
    "colab": {
     "base_uri": "https://localhost:8080/"
    },
    "executionInfo": {
     "elapsed": 48300,
     "status": "ok",
     "timestamp": 1707269899238,
     "user": {
      "displayName": "Leon Rafael Gutierrez",
      "userId": "04281760578940356494"
     },
     "user_tz": 480
    },
    "id": "uga6bjBg9tem",
    "outputId": "f5b890bf-5fa9-4de0-84ba-6119e77ed3bf"
   },
   "outputs": [
    {
     "name": "stdout",
     "output_type": "stream",
     "text": [
      "+------------------------------------------------------------------------------------------------------------------------+\n",
      "|col                                                                                                                     |\n",
      "+------------------------------------------------------------------------------------------------------------------------+\n",
      "|{97964e7a9e8eb9cf78f2e4d7b2ff34c7, Hola.}                                                                               |\n",
      "|{0158d0d6781fc4d493f243d4caa49747, hi.}                                                                                 |\n",
      "|{0158d0d6781fc4d493f243d4caa49747, whats up?}                                                                           |\n",
      "|{97964e7a9e8eb9cf78f2e4d7b2ff34c7, not a ton.}                                                                          |\n",
      "|{97964e7a9e8eb9cf78f2e4d7b2ff34c7, you?}                                                                                |\n",
      "|{0158d0d6781fc4d493f243d4caa49747, same.  being lazy.  M or f?}                                                         |\n",
      "|{97964e7a9e8eb9cf78f2e4d7b2ff34c7, F.}                                                                                  |\n",
      "|{97964e7a9e8eb9cf78f2e4d7b2ff34c7, Ditto, I&apos;ve done absolutely nothing with my day besides watching stuff on Hulu.}|\n",
      "|{0158d0d6781fc4d493f243d4caa49747, M here.  Just got home from weekend trip.  Tired.}                                   |\n",
      "|{97964e7a9e8eb9cf78f2e4d7b2ff34c7, Oh, cool. Family thing?}                                                             |\n",
      "|{0158d0d6781fc4d493f243d4caa49747, yeah.}                                                                               |\n",
      "|{0158d0d6781fc4d493f243d4caa49747, a &amp; l?}                                                                          |\n",
      "|{97964e7a9e8eb9cf78f2e4d7b2ff34c7, Gotta love those.}                                                                   |\n",
      "|{97964e7a9e8eb9cf78f2e4d7b2ff34c7, 17, Hawaii.}                                                                         |\n",
      "|{97964e7a9e8eb9cf78f2e4d7b2ff34c7, and yourself?}                                                                       |\n",
      "|{0158d0d6781fc4d493f243d4caa49747, Uh oh.  older. 30}                                                                   |\n",
      "|{0158d0d6781fc4d493f243d4caa49747, Been to Hawaii.}                                                                     |\n",
      "|{97964e7a9e8eb9cf78f2e4d7b2ff34c7, whoops xD}                                                                           |\n",
      "|{97964e7a9e8eb9cf78f2e4d7b2ff34c7, It&apos;s nice, isn&apos;t it?}                                                      |\n",
      "|{0158d0d6781fc4d493f243d4caa49747, Yeah.  Always enjoy visiting.}                                                       |\n",
      "+------------------------------------------------------------------------------------------------------------------------+\n",
      "only showing top 20 rows\n",
      "\n",
      "+--------------------------------+------------------------------------------------------------------------------------+\n",
      "|author                          |text                                                                                |\n",
      "+--------------------------------+------------------------------------------------------------------------------------+\n",
      "|97964e7a9e8eb9cf78f2e4d7b2ff34c7|Hola.                                                                               |\n",
      "|0158d0d6781fc4d493f243d4caa49747|hi.                                                                                 |\n",
      "|0158d0d6781fc4d493f243d4caa49747|whats up?                                                                           |\n",
      "|97964e7a9e8eb9cf78f2e4d7b2ff34c7|not a ton.                                                                          |\n",
      "|97964e7a9e8eb9cf78f2e4d7b2ff34c7|you?                                                                                |\n",
      "|0158d0d6781fc4d493f243d4caa49747|same.  being lazy.  M or f?                                                         |\n",
      "|97964e7a9e8eb9cf78f2e4d7b2ff34c7|F.                                                                                  |\n",
      "|97964e7a9e8eb9cf78f2e4d7b2ff34c7|Ditto, I&apos;ve done absolutely nothing with my day besides watching stuff on Hulu.|\n",
      "|0158d0d6781fc4d493f243d4caa49747|M here.  Just got home from weekend trip.  Tired.                                   |\n",
      "|97964e7a9e8eb9cf78f2e4d7b2ff34c7|Oh, cool. Family thing?                                                             |\n",
      "|0158d0d6781fc4d493f243d4caa49747|yeah.                                                                               |\n",
      "|0158d0d6781fc4d493f243d4caa49747|a &amp; l?                                                                          |\n",
      "|97964e7a9e8eb9cf78f2e4d7b2ff34c7|Gotta love those.                                                                   |\n",
      "|97964e7a9e8eb9cf78f2e4d7b2ff34c7|17, Hawaii.                                                                         |\n",
      "|97964e7a9e8eb9cf78f2e4d7b2ff34c7|and yourself?                                                                       |\n",
      "|0158d0d6781fc4d493f243d4caa49747|Uh oh.  older. 30                                                                   |\n",
      "|0158d0d6781fc4d493f243d4caa49747|Been to Hawaii.                                                                     |\n",
      "|97964e7a9e8eb9cf78f2e4d7b2ff34c7|whoops xD                                                                           |\n",
      "|97964e7a9e8eb9cf78f2e4d7b2ff34c7|It&apos;s nice, isn&apos;t it?                                                      |\n",
      "|0158d0d6781fc4d493f243d4caa49747|Yeah.  Always enjoy visiting.                                                       |\n",
      "+--------------------------------+------------------------------------------------------------------------------------+\n",
      "only showing top 20 rows\n",
      "\n",
      "File: drive/MyDrive/210 Capstone/data/PAN12/training/file_1.json, Count: 309297\n",
      "+-------------------------------------------------------------+\n",
      "|col                                                          |\n",
      "+-------------------------------------------------------------+\n",
      "|{4518b24550b6a355a96aa5f13c10d95b, !}                        |\n",
      "|{923510cb43972858347216bc262a51fd, Hi}                       |\n",
      "|{923510cb43972858347216bc262a51fd, !}                        |\n",
      "|{4518b24550b6a355a96aa5f13c10d95b, hi}                       |\n",
      "|{4518b24550b6a355a96aa5f13c10d95b, &lt;_&lt;}                |\n",
      "|{518484f354998ce2143069a93aca6419, u there?}                 |\n",
      "|{518484f354998ce2143069a93aca6419, guess not}                |\n",
      "|{518484f354998ce2143069a93aca6419, bye}                      |\n",
      "|{518484f354998ce2143069a93aca6419, kiss}                     |\n",
      "|{6446301030d6b45a038ef9bdb90f47d8, hi}                       |\n",
      "|{0a381e847ba2e0545e474605a4a49481, heey}                     |\n",
      "|{0a381e847ba2e0545e474605a4a49481, from?}                    |\n",
      "|{6446301030d6b45a038ef9bdb90f47d8, brazil}                   |\n",
      "|{6446301030d6b45a038ef9bdb90f47d8, do you like lady gaga?}   |\n",
      "|{0a381e847ba2e0545e474605a4a49481, too}                      |\n",
      "|{0a381e847ba2e0545e474605a4a49481, kkkkk}                    |\n",
      "|{6446301030d6b45a038ef9bdb90f47d8, brazil????????????????///}|\n",
      "|{0a381e847ba2e0545e474605a4a49481, sim sim}                  |\n",
      "|{6446301030d6b45a038ef9bdb90f47d8, hahahaha}                 |\n",
      "|{6446301030d6b45a038ef9bdb90f47d8, o segundo seguido}        |\n",
      "+-------------------------------------------------------------+\n",
      "only showing top 20 rows\n",
      "\n",
      "+--------------------------------+-------------------------+\n",
      "|author                          |text                     |\n",
      "+--------------------------------+-------------------------+\n",
      "|4518b24550b6a355a96aa5f13c10d95b|!                        |\n",
      "|923510cb43972858347216bc262a51fd|Hi                       |\n",
      "|923510cb43972858347216bc262a51fd|!                        |\n",
      "|4518b24550b6a355a96aa5f13c10d95b|hi                       |\n",
      "|4518b24550b6a355a96aa5f13c10d95b|&lt;_&lt;                |\n",
      "|518484f354998ce2143069a93aca6419|u there?                 |\n",
      "|518484f354998ce2143069a93aca6419|guess not                |\n",
      "|518484f354998ce2143069a93aca6419|bye                      |\n",
      "|518484f354998ce2143069a93aca6419|kiss                     |\n",
      "|6446301030d6b45a038ef9bdb90f47d8|hi                       |\n",
      "|0a381e847ba2e0545e474605a4a49481|heey                     |\n",
      "|0a381e847ba2e0545e474605a4a49481|from?                    |\n",
      "|6446301030d6b45a038ef9bdb90f47d8|brazil                   |\n",
      "|6446301030d6b45a038ef9bdb90f47d8|do you like lady gaga?   |\n",
      "|0a381e847ba2e0545e474605a4a49481|too                      |\n",
      "|0a381e847ba2e0545e474605a4a49481|kkkkk                    |\n",
      "|6446301030d6b45a038ef9bdb90f47d8|brazil????????????????///|\n",
      "|0a381e847ba2e0545e474605a4a49481|sim sim                  |\n",
      "|6446301030d6b45a038ef9bdb90f47d8|hahahaha                 |\n",
      "|6446301030d6b45a038ef9bdb90f47d8|o segundo seguido        |\n",
      "+--------------------------------+-------------------------+\n",
      "only showing top 20 rows\n",
      "\n",
      "File: drive/MyDrive/210 Capstone/data/PAN12/training/file_2.json, Count: 298668\n",
      "+---------------------------------------------------------------------------------+\n",
      "|col                                                                              |\n",
      "+---------------------------------------------------------------------------------+\n",
      "|{4773cdd8dd9d67e2afa3cb91cce30f78, online sex!}                                  |\n",
      "|{0bdfeb9c03b923860e2171b3a3c9937b, FOREVER YOUNG!}                               |\n",
      "|{4773cdd8dd9d67e2afa3cb91cce30f78, sex}                                          |\n",
      "|{4773cdd8dd9d67e2afa3cb91cce30f78, harder}                                       |\n",
      "|{0bdfeb9c03b923860e2171b3a3c9937b, I wanna be}                                   |\n",
      "|{570e385975a970669d0981e56773b277, bz: replied on the binary-stream bug}         |\n",
      "|{760f3b27696226a371a0ebefe2598a24, hey, horny 19m here}                          |\n",
      "|{5e0982a664800caa5d3cc435cb0b3a5b, PENIS RAVE!! C&apos;MON! YOU&apos;RE INVITED!}|\n",
      "|{5e0982a664800caa5d3cc435cb0b3a5b, 19???}                                        |\n",
      "|{5e0982a664800caa5d3cc435cb0b3a5b, YOU&apos;RE SOOOOOO INVITED!}                 |\n",
      "|{f45692cc8719eadd3c5f7e75cf99c83f, hy}                                           |\n",
      "|{f45692cc8719eadd3c5f7e75cf99c83f, asl}                                          |\n",
      "|{d7c94d99b2f78d9f6cd55b503b88082c, Hii}                                          |\n",
      "|{d7c94d99b2f78d9f6cd55b503b88082c, 18 f usa}                                     |\n",
      "|{f45692cc8719eadd3c5f7e75cf99c83f, oh i am from indonesia}                       |\n",
      "|{000b88fecb311f61f0c71d0757330481, 19m wants pics}                               |\n",
      "|{36306ae73d49e09eddc460dd57c18984, r u a horny lesbian?}                         |\n",
      "|{000b88fecb311f61f0c71d0757330481, i am not}                                     |\n",
      "|{c441c019cce5c1c2fec913e7f366c7a2, What&apos;s it like to be gay?}               |\n",
      "|{c441c019cce5c1c2fec913e7f366c7a2, What&apos;s it like to be gay?}               |\n",
      "+---------------------------------------------------------------------------------+\n",
      "only showing top 20 rows\n",
      "\n",
      "+--------------------------------+---------------------------------------------+\n",
      "|author                          |text                                         |\n",
      "+--------------------------------+---------------------------------------------+\n",
      "|4773cdd8dd9d67e2afa3cb91cce30f78|online sex!                                  |\n",
      "|0bdfeb9c03b923860e2171b3a3c9937b|FOREVER YOUNG!                               |\n",
      "|4773cdd8dd9d67e2afa3cb91cce30f78|sex                                          |\n",
      "|4773cdd8dd9d67e2afa3cb91cce30f78|harder                                       |\n",
      "|0bdfeb9c03b923860e2171b3a3c9937b|I wanna be                                   |\n",
      "|570e385975a970669d0981e56773b277|bz: replied on the binary-stream bug         |\n",
      "|760f3b27696226a371a0ebefe2598a24|hey, horny 19m here                          |\n",
      "|5e0982a664800caa5d3cc435cb0b3a5b|PENIS RAVE!! C&apos;MON! YOU&apos;RE INVITED!|\n",
      "|5e0982a664800caa5d3cc435cb0b3a5b|19???                                        |\n",
      "|5e0982a664800caa5d3cc435cb0b3a5b|YOU&apos;RE SOOOOOO INVITED!                 |\n",
      "|f45692cc8719eadd3c5f7e75cf99c83f|hy                                           |\n",
      "|f45692cc8719eadd3c5f7e75cf99c83f|asl                                          |\n",
      "|d7c94d99b2f78d9f6cd55b503b88082c|Hii                                          |\n",
      "|d7c94d99b2f78d9f6cd55b503b88082c|18 f usa                                     |\n",
      "|f45692cc8719eadd3c5f7e75cf99c83f|oh i am from indonesia                       |\n",
      "|000b88fecb311f61f0c71d0757330481|19m wants pics                               |\n",
      "|36306ae73d49e09eddc460dd57c18984|r u a horny lesbian?                         |\n",
      "|000b88fecb311f61f0c71d0757330481|i am not                                     |\n",
      "|c441c019cce5c1c2fec913e7f366c7a2|What&apos;s it like to be gay?               |\n",
      "|c441c019cce5c1c2fec913e7f366c7a2|What&apos;s it like to be gay?               |\n",
      "+--------------------------------+---------------------------------------------+\n",
      "only showing top 20 rows\n",
      "\n",
      "File: drive/MyDrive/210 Capstone/data/PAN12/training/file_3.json, Count: 295642\n",
      "+------------------------------------------------------------------------------------------------------------------------------------------------------------------------------------------------+\n",
      "|col                                                                                                                                                                                             |\n",
      "+------------------------------------------------------------------------------------------------------------------------------------------------------------------------------------------------+\n",
      "|{0a39f78bcb297ab0ebe8a29c28bfed89, bugmail: [Bug 6978] New: Mark eof-terminated script elements as malformed &lt;http://lists.w3.org/Archives/Public/public-html-bugzilla/2009May/0049.html&gt;}|\n",
      "|{60659cfda992013e610f285c46692d28, Henri, can I ask you a Firefox build question (Windows)?}                                                                                                    |\n",
      "|{b8810fee2f4a71f849f3f7409546d1d9, 60659cfda992013e610f285c46692d28: sure, but I probably don't know the answer}                                                                                |\n",
      "|{60659cfda992013e610f285c46692d28, It appears the build runs through, it creates a firefox.exe in dist/bin}                                                                                     |\n",
      "|{60659cfda992013e610f285c46692d28, when I start it, I get my standard install of FF (3.0.10) instead...}                                                                                        |\n",
      "|{60659cfda992013e610f285c46692d28, Same if I make a package, unzip it, and start from there...}                                                                                                 |\n",
      "|{b8810fee2f4a71f849f3f7409546d1d9, 60659cfda992013e610f285c46692d28: do you already have the usual Firefox open?}                                                                               |\n",
      "|{60659cfda992013e610f285c46692d28, Likely}                                                                                                                                                      |\n",
      "|{60659cfda992013e610f285c46692d28, So do I need to close all instances?}                                                                                                                        |\n",
      "|{60659cfda992013e610f285c46692d28, ...other...}                                                                                                                                                 |\n",
      "|{b8810fee2f4a71f849f3f7409546d1d9, 60659cfda992013e610f285c46692d28: at least with the Linux version, you need to}                                                                              |\n",
      "|{b8810fee2f4a71f849f3f7409546d1d9, (unless you run a different profile, which may be advisable anyway)}                                                                                         |\n",
      "|{60659cfda992013e610f285c46692d28, Good point.}                                                                                                                                                 |\n",
      "|{60659cfda992013e610f285c46692d28, Will be gone for a moment due to Chatzilla.}                                                                                                                 |\n",
      "|{60659cfda992013e610f285c46692d28, Henri, that was the problem.}                                                                                                                                |\n",
      "|{b8810fee2f4a71f849f3f7409546d1d9, ok. good that I can guess some windows things from linux behavior}                                                                                           |\n",
      "|{edb259c0e0038f38bb200bc20c8cbf7e, ah yeah, Firefox is annoying with that}                                                                                                                      |\n",
      "|{edb259c0e0038f38bb200bc20c8cbf7e, 60659cfda992013e610f285c46692d28, I was merely citing it because your message made it seem as if you thought there was WG agreement}                         |\n",
      "|{edb259c0e0038f38bb200bc20c8cbf7e, And I thought there was some treshold criteria for the tracker, but maybe things changed}                                                                    |\n",
      "|{60659cfda992013e610f285c46692d28, We don't need WG agreement to add something to the tracker.}                                                                                                 |\n",
      "+------------------------------------------------------------------------------------------------------------------------------------------------------------------------------------------------+\n",
      "only showing top 20 rows\n",
      "\n",
      "File: drive/MyDrive/210 Capstone/data/PAN12/test/file_1.json, Count: 410832\n",
      "+-------------------------------------------------------------------------------------------------------------------------------------------------------------------------------------------------------------------------------------------------+\n",
      "|col                                                                                                                                                                                                                                              |\n",
      "+-------------------------------------------------------------------------------------------------------------------------------------------------------------------------------------------------------------------------------------------------+\n",
      "|{8226c4607a3453a57fe142a46fe43259, -keep a stable connection.}                                                                                                                                                                                   |\n",
      "|{bb0b600e3d90ea18b9378fce174ad6d8, +I am trying to install solaris express 5/06.  It always freezes after the system identification after the line &quot;Begin script install_begin execution completed.&quot;  Any ideas what would cause this?}|\n",
      "|{83d33e760da347315c0063926f0e6248, +not enough information.}                                                                                                                                                                                     |\n",
      "|{bb0b600e3d90ea18b9378fce174ad6d8, +I don't have anymore information...that's all it says}                                                                                                                                                       |\n",
      "|{83d33e760da347315c0063926f0e6248, +hmm.}                                                                                                                                                                                                        |\n",
      "|{83d33e760da347315c0063926f0e6248, +so you don't know if it's Solaris SPARC or x86, or anything at all about what kind of hardware is in the box, or if that hardware is supported.}                                                             |\n",
      "|{83d33e760da347315c0063926f0e6248, +well.}                                                                                                                                                                                                       |\n",
      "|{83d33e760da347315c0063926f0e6248, +I can't help you then.}                                                                                                                                                                                      |\n",
      "|{83d33e760da347315c0063926f0e6248, +you haven't provided enough information.}                                                                                                                                                                    |\n",
      "|{a151f5d5372661fd903498bc13d6098e, +Evening insomnia}                                                                                                                                                                                            |\n",
      "|{83d33e760da347315c0063926f0e6248, +hello}                                                                                                                                                                                                       |\n",
      "|{abe59155aa41ae19e4ea964e9dd4b200, <a href=\"http://www.bagdadsoftware.de&quot;\">http://www.bagdadsoftware.de&quot;</a>)}                                                                                                                         |\n",
      "|{83d33e760da347315c0063926f0e6248, +<a href=\"http://abcnews.go.com/US/LegalCenter/wireStory?id=2073586\">http://abcnews.go.com/US/LegalCenter/wireStory?id=2073586</a>}                                                                           |\n",
      "|{83d33e760da347315c0063926f0e6248, +wow.}                                                                                                                                                                                                        |\n",
      "|{a151f5d5372661fd903498bc13d6098e, +dam}                                                                                                                                                                                                         |\n",
      "|{7a363565cdf521ee535edeb39df62ad1, +di dam}                                                                                                                                                                                                      |\n",
      "|{bb0b600e3d90ea18b9378fce174ad6d8, +the hardware is supported, and its an x86 box.  I thought you meant as to error messages.}                                                                                                                   |\n",
      "|{a151f5d5372661fd903498bc13d6098e, +how much ram do you have?}                                                                                                                                                                                   |\n",
      "|{bb0b600e3d90ea18b9378fce174ad6d8, +Only 256}                                                                                                                                                                                                    |\n",
      "|{bb0b600e3d90ea18b9378fce174ad6d8, +meets the minimum supposidly}                                                                                                                                                                                |\n",
      "+-------------------------------------------------------------------------------------------------------------------------------------------------------------------------------------------------------------------------------------------------+\n",
      "only showing top 20 rows\n",
      "\n",
      "File: drive/MyDrive/210 Capstone/data/PAN12/test/file_2.json, Count: 411308\n",
      "+-----------------------------------------------------------------------------------------------------------------------------------------------------------------------------------------------+\n",
      "|col                                                                                                                                                                                            |\n",
      "+-----------------------------------------------------------------------------------------------------------------------------------------------------------------------------------------------+\n",
      "|{5fc737bb295227f3fddfc56d069349b3, 60659cfda992013e610f285c46692d28, you around?}                                                                                                              |\n",
      "|{5fc737bb295227f3fddfc56d069349b3, 60659cfda992013e610f285c46692d28, wondering if you played much with HTTP authentication}                                                                    |\n",
      "|{5fc737bb295227f3fddfc56d069349b3, 60659cfda992013e610f285c46692d28, and can help me out with how to restrict &quot;authenticated&quot; sessions to a particular URL rather than a whole bunch}|\n",
      "|{60659cfda992013e610f285c46692d28, yep}                                                                                                                                                        |\n",
      "|{60659cfda992013e610f285c46692d28, so this is a config question?}                                                                                                                              |\n",
      "|{60659cfda992013e610f285c46692d28, or protocol?}                                                                                                                                               |\n",
      "|{5fc737bb295227f3fddfc56d069349b3, I tried something like foobar.php?realm={unique} and then on the server I put the realm parameter to {unique} so the URL is unique and the realm is too}    |\n",
      "|{5fc737bb295227f3fddfc56d069349b3, but on the protocol level everything seems shared among the unique URLs}                                                                                    |\n",
      "|{60659cfda992013e610f285c46692d28, so each URI has it's own realm?}                                                                                                                            |\n",
      "|{5fc737bb295227f3fddfc56d069349b3, yes, derived from the URL}                                                                                                                                  |\n",
      "|{60659cfda992013e610f285c46692d28, good so far}                                                                                                                                                |\n",
      "|{5fc737bb295227f3fddfc56d069349b3, what I tried was have the browser not share the session but it appears that no implementation actually does that}                                           |\n",
      "|{60659cfda992013e610f285c46692d28, so the UA re-uses credentials that it got for realm1 for a different realm2?}                                                                               |\n",
      "|{5fc737bb295227f3fddfc56d069349b3, if this is good so far maybe I should reset the UA to make sure it didn't catch a static realm}                                                             |\n",
      "|{60659cfda992013e610f285c46692d28, that keeps happening when trying out things with authentication}                                                                                            |\n",
      "|{60659cfda992013e610f285c46692d28, I think this is supposed to work. You may want to check with Yngwe if it doesn't in O.}                                                                     |\n",
      "|{5fc737bb295227f3fddfc56d069349b3, yes, the UA re-uses credentials}                                                                                                                            |\n",
      "|{5fc737bb295227f3fddfc56d069349b3, would a workaround be using different paths?}                                                                                                               |\n",
      "|{60659cfda992013e610f285c46692d28, do you have a public test resource?}                                                                                                                        |\n",
      "|{5fc737bb295227f3fddfc56d069349b3, maybe something like}                                                                                                                                       |\n",
      "+-----------------------------------------------------------------------------------------------------------------------------------------------------------------------------------------------+\n",
      "only showing top 20 rows\n",
      "\n",
      "File: drive/MyDrive/210 Capstone/data/PAN12/test/file_3.json, Count: 409207\n",
      "+-------------------------------------------------------------------------------------------------------------------------------------------------------------------------------------------------------------------------------+\n",
      "|col                                                                                                                                                                                                                            |\n",
      "+-------------------------------------------------------------------------------------------------------------------------------------------------------------------------------------------------------------------------------+\n",
      "|{9120874bdd7b85ba45d69d7728790069, anyone ever used improved png behaviour ??}                                                                                                                                                 |\n",
      "|{9120874bdd7b85ba45d69d7728790069, i'm not being able to make it work :|}                                                                                                                                                      |\n",
      "|{5945ab6ddb753314a1c7d0fd7a7ec0eb, `pnghack}                                                                                                                                                                                   |\n",
      "|{5945ab6ddb753314a1c7d0fd7a7ec0eb, `png}                                                                                                                                                                                       |\n",
      "|{5945ab6ddb753314a1c7d0fd7a7ec0eb, `ie png}                                                                                                                                                                                    |\n",
      "|{5945ab6ddb753314a1c7d0fd7a7ec0eb, well}                                                                                                                                                                                       |\n",
      "|{5945ab6ddb753314a1c7d0fd7a7ec0eb, !google dean edwards}                                                                                                                                                                       |\n",
      "|{5945ab6ddb753314a1c7d0fd7a7ec0eb, k}                                                                                                                                                                                          |\n",
      "|{69e1ea730bbfa9551287adbbc0e01f14, how can i get the input, and select fields below the flash movie to be even with each other? It looks fine in IE, but in FF the select area is lower then the input to the left of it......}|\n",
      "|{69e1ea730bbfa9551287adbbc0e01f14, <a href=\"http://www.pimpmaspace.com/generators/ledscroller/\">http://www.pimpmaspace.com/generators/ledscroller/</a>}                                                                        |\n",
      "|{9120874bdd7b85ba45d69d7728790069, nnn0 the question is that i've already done it all and still not workin}                                                                                                                    |\n",
      "|{9120874bdd7b85ba45d69d7728790069, added the mime type to apache conf}                                                                                                                                                         |\n",
      "|{9120874bdd7b85ba45d69d7728790069, changed the blank.gif million times}                                                                                                                                                        |\n",
      "|{ab7683bd426e4d1f23dfc19ec446c9c3, IE is evil :(}                                                                                                                                                                              |\n",
      "|{01f60b3e30620d99648888f668e7da88, No it isn't. It just has ambitions that conflict with society.}                                                                                                                             |\n",
      "|{ab7683bd426e4d1f23dfc19ec446c9c3, it is evil to me right now}                                                                                                                                                                 |\n",
      "|{ab7683bd426e4d1f23dfc19ec446c9c3, i want to sleep, not do workarounds for IE :(}                                                                                                                                              |\n",
      "|{5945ab6ddb753314a1c7d0fd7a7ec0eb, gif ?}                                                                                                                                                                                      |\n",
      "|{5945ab6ddb753314a1c7d0fd7a7ec0eb, you have to use png for real transparency}                                                                                                                                                  |\n",
      "|{5945ab6ddb753314a1c7d0fd7a7ec0eb, or i just got in :)}                                                                                                                                                                        |\n",
      "+-------------------------------------------------------------------------------------------------------------------------------------------------------------------------------------------------------------------------------+\n",
      "only showing top 20 rows\n",
      "\n",
      "File: drive/MyDrive/210 Capstone/data/PAN12/test/file_4.json, Count: 412878\n",
      "+------------------------------------------------------------------------------------------------------------+\n",
      "|col                                                                                                         |\n",
      "+------------------------------------------------------------------------------------------------------------+\n",
      "|{1a6d00e86cc127d9b61d95e60b46eb8a, ello}                                                                    |\n",
      "|{7f443d3f20ca78a687f8e087f0fc0d63, whats up gov&apos;na}                                                    |\n",
      "|{1a6d00e86cc127d9b61d95e60b46eb8a, what?}                                                                   |\n",
      "|{1a6d00e86cc127d9b61d95e60b46eb8a, lol}                                                                     |\n",
      "|{1a6d00e86cc127d9b61d95e60b46eb8a, what does impoted mean??}                                                |\n",
      "|{7f443d3f20ca78a687f8e087f0fc0d63, impotent?}                                                               |\n",
      "|{1a6d00e86cc127d9b61d95e60b46eb8a, *imploted}                                                               |\n",
      "|{1a6d00e86cc127d9b61d95e60b46eb8a, God my friend is having a blond moment.\\!}                               |\n",
      "|{1a6d00e86cc127d9b61d95e60b46eb8a, *! She meant *imploded*}                                                 |\n",
      "|{7f443d3f20ca78a687f8e087f0fc0d63, imploted, like when a building is imploted?}                             |\n",
      "|{7f443d3f20ca78a687f8e087f0fc0d63, hello?}                                                                  |\n",
      "|{7f443d3f20ca78a687f8e087f0fc0d63, is that ur meaning?}                                                     |\n",
      "|{1a6d00e86cc127d9b61d95e60b46eb8a, i really have no clue...}                                                |\n",
      "|{1a6d00e86cc127d9b61d95e60b46eb8a, Haha}                                                                    |\n",
      "|{7f443d3f20ca78a687f8e087f0fc0d63, ok well, imploted is when a building is taken down, opposite of exploted}|\n",
      "|{7f443d3f20ca78a687f8e087f0fc0d63, impotent is african-american for something that is important}            |\n",
      "|{1a6d00e86cc127d9b61d95e60b46eb8a, lol}                                                                     |\n",
      "|{1a6d00e86cc127d9b61d95e60b46eb8a, ok i really dont care that much}                                         |\n",
      "|{1a6d00e86cc127d9b61d95e60b46eb8a, :]}                                                                      |\n",
      "|{7f443d3f20ca78a687f8e087f0fc0d63, about blacks? i dont either}                                             |\n",
      "+------------------------------------------------------------------------------------------------------------+\n",
      "only showing top 20 rows\n",
      "\n",
      "File: drive/MyDrive/210 Capstone/data/PAN12/test/file_5.json, Count: 414556\n"
     ]
    }
   ],
   "source": [
    "# Example usage:\n",
    "pan12_training_files = ['drive/MyDrive/210 Capstone/data/PAN12/training/file_1.json',\n",
    "                        'drive/MyDrive/210 Capstone/data/PAN12/training/file_2.json',\n",
    "                        'drive/MyDrive/210 Capstone/data/PAN12/training/file_3.json']\n",
    "\n",
    "# Process each training file\n",
    "for file_path in pan12_training_files:\n",
    "    df = process_json_file(file_path)\n",
    "    df.show(truncate = False)\n",
    "    print(f\"File: {file_path}, Count: {df.count()}\")\n",
    "\n",
    "    # Save file as parquet\n",
    "    df.write.mode(\"append\").parquet('drive/MyDrive/210 Capstone/data/merged_dataset')\n",
    "\n",
    "# Repeat the same process for test files\n",
    "pan12_test_files = ['drive/MyDrive/210 Capstone/data/PAN12/test/file_1.json',\n",
    "                    'drive/MyDrive/210 Capstone/data/PAN12/test/file_2.json',\n",
    "                    'drive/MyDrive/210 Capstone/data/PAN12/test/file_3.json',\n",
    "                    'drive/MyDrive/210 Capstone/data/PAN12/test/file_4.json',\n",
    "                    'drive/MyDrive/210 Capstone/data/PAN12/test/file_5.json']\n",
    "\n",
    "# Process each test file\n",
    "for file_path in pan12_test_files:\n",
    "    df = process_json_file(file_path)\n",
    "    print(f\"File: {file_path}, Count: {df.count()}\")\n",
    "\n",
    "    # Save file as parquet\n",
    "    df.write.mode(\"append\").parquet('drive/MyDrive/210 Capstone/data/merged_dataset')"
   ]
  },
  {
   "cell_type": "code",
   "execution_count": null,
   "metadata": {
    "id": "emrmE3YRI0h2"
   },
   "outputs": [],
   "source": [
    "#"
   ]
  },
  {
   "cell_type": "markdown",
   "metadata": {
    "id": "lYWRZx07nzXE"
   },
   "source": [
    "#### additional cleaning"
   ]
  },
  {
   "cell_type": "code",
   "execution_count": null,
   "metadata": {
    "id": "BnST3YgqHlzM"
   },
   "outputs": [],
   "source": [
    "# ## Add conversation start time\n",
    "# from pyspark.sql.window import Window\n",
    "# from pyspark.sql.functions import first\n",
    "\n",
    "# # Define a window partitioned by 'conversation_id' and ordered by 'time'\n",
    "# window_spec = Window.partitionBy('conversation_id').orderBy('time')\n",
    "\n",
    "# # Add a new column with the start time of the conversation\n",
    "# pan12_training_df = pan12_training_df.withColumn('conversation_start_time', first('time').over(window_spec))\n"
   ]
  },
  {
   "cell_type": "code",
   "execution_count": null,
   "metadata": {
    "id": "eOJHna6wHy1k"
   },
   "outputs": [],
   "source": [
    "# # Load list of author IDs from the text file\n",
    "# with open(train_data_path + 'pan12-sexual-predator-identification-training-corpus-predators-2012-05-01.txt', 'r') as f:\n",
    "#     predator_ids = [line.strip() for line in f]\n",
    "\n",
    "# # Broadcast the list of author IDs to all Spark executors for efficient lookup\n",
    "# broadcast_predator_ids = spark.sparkContext.broadcast(predator_ids)"
   ]
  },
  {
   "cell_type": "code",
   "execution_count": null,
   "metadata": {
    "id": "5J_kXIZwJsyL"
   },
   "outputs": [],
   "source": [
    "# pan12_training_df_2 = pan12_training_df.groupby('conversation_id').agg(countDistinct('author').alias('n_people_in_conversation'),\n",
    "#                                                                        first('conversation_id').alias('conversation_id'),\n",
    "#                                                                        first('author').alias('author'),\n",
    "#                                                                        first('time').alias('time'),\n",
    "#                                                                        first('text').alias('text'),\n",
    "#                                                                        first('conversation_start_time').alias('conversation_start_time'))"
   ]
  },
  {
   "cell_type": "code",
   "execution_count": null,
   "metadata": {
    "id": "60WSrD39KD0s"
   },
   "outputs": [],
   "source": [
    "# pan12_training_df_2.show(3)"
   ]
  },
  {
   "cell_type": "code",
   "execution_count": null,
   "metadata": {
    "id": "Nl1PcMB9DYKG"
   },
   "outputs": [],
   "source": [
    "# # Load list of author IDs from the text file\n",
    "# with open(train_data_path + 'pan12-sexual-predator-identification-training-corpus-predators-2012-05-01.txt', 'r') as f:\n",
    "#     predator_ids = [line.strip() for line in f]\n",
    "\n",
    "# # Broadcast the list of author IDs to all Spark executors for efficient lookup\n",
    "# broadcast_predator_ids = spark.sparkContext.broadcast(predator_ids)\n",
    "\n",
    "# # Define a window specification to partition by conversation_id\n",
    "# window_spec = Window.partitionBy(\"conversation_id\")\n",
    "\n",
    "# # Add a new column 'label' to the DataFrame\n",
    "# pan12_training_df_final_with_time = pan12_training_df.withColumn('label',\n",
    "#                                                       lit(1).alias('label')). \\\n",
    "#                                             withColumn('source', lit('PAN12-train').alias('source')).\\\n",
    "#                                            withColumn('label',\n",
    "#                                                       when(col('author').isin(broadcast_predator_ids.value), 1).otherwise(0)). \\\n",
    "#                                             withColumn('n_texts', UDF_n_texts_in_conversation(\"text\"))\\\n",
    "\n",
    "\n",
    "# Show the DataFrame\n",
    "# pan12_training_df_final_with_time.show(truncate=False)"
   ]
  },
  {
   "cell_type": "code",
   "execution_count": null,
   "metadata": {
    "id": "GK5fMUBh7BU1"
   },
   "outputs": [],
   "source": [
    "# ## Add conversation start time\n",
    "# from pyspark.sql.window import Window\n",
    "# from pyspark.sql.functions import first\n",
    "\n",
    "# # Define a window partitioned by 'conversation_id' and ordered by 'time'\n",
    "# window_spec = Window.partitionBy('conversation_id').orderBy('time')\n",
    "\n",
    "# # Add a new column with the start time of the conversation\n",
    "# df_with_start_time = pan12_training_df_final_with_time.withColumn('conversation_start_time', first('time').over(window_spec))\n",
    "\n",
    "# # Show the DataFrame with the new column\n",
    "# # df_with_start_time.show(truncate=False)"
   ]
  },
  {
   "cell_type": "code",
   "execution_count": null,
   "metadata": {
    "id": "v7EXW_MP0Y9P"
   },
   "outputs": [],
   "source": [
    "# Define the regular expression pattern to match the author ID\n",
    "# author_id_pattern = r'\\b[a-f\\d]{32}\\b'\n",
    "\n",
    "# Remove the author ID from the text column\n",
    "# df_with_start_time = df_with_start_time.withColumn('text_copy', col('text'))\\\n",
    "                                                    # .withColumn('text_copy', col('text'))\n",
    "\n",
    "# Show the DataFrame with cleaned text\n",
    "# df_with_start_time.show(truncate=False)"
   ]
  },
  {
   "cell_type": "code",
   "execution_count": null,
   "metadata": {
    "id": "kV3sKjic7J9y"
   },
   "outputs": [],
   "source": [
    "# ## Add # people in conversation\n",
    "# ## Add in the type of conversation (pair, monologue, group)\n",
    "# # Add a new column 'distinct_authors_count' to the DataFrame\n",
    "# pan12_training_final_with_timestamp = df_with_start_time.groupby('conversation_id').agg(countDistinct('author').alias('n_people_in_conversation'),\n",
    "#                                                                                    first('source').alias('source'),\n",
    "#                                                                                   first('label').alias('label'),\n",
    "#                                                                                    first('conversation_start_time').alias('conversation_start_time'),\n",
    "#                                                                                    first('time').alias('time'),\n",
    "#                                                                                    first('text').alias('merged_text'),\n",
    "#                                                                                    first('author').alias('author')\n",
    "#                                                                                    )\\\n",
    "#                                                                                 .withColumn('type_conversation', when(col('n_people_in_conversation') == 1, 'Monologue')\\\n",
    "#                                                                                                                 .when(col('n_people_in_conversation') == 2, 'Pair')\\\n",
    "#                                                                                                                 .when(col('n_people_in_conversation') > 2, 'Group'))\\\n",
    "#                                                                                 .withColumn('n_people_in_conversation', col('n_people_in_conversation').cast('int'))\\\n",
    "#                                                                                 .drop('n_texts')\n",
    "\n",
    "# Show the DataFrame with the new column\n",
    "# pan12_training_final_with_timestamp.show(truncate=False)"
   ]
  },
  {
   "cell_type": "code",
   "execution_count": null,
   "metadata": {
    "id": "Q2jiYvA7P7SZ"
   },
   "outputs": [],
   "source": [
    "# # specifying the column order\n",
    "# columns = ['conversation_id',\n",
    "# 'source',\n",
    "# 'label',\n",
    "# 'conversation_start_time',\n",
    "# 'n_people_in_conversation',\n",
    "# 'type_conversation',\n",
    "# 'merged_text',\n",
    "# 'author',\n",
    "# 'time']\n",
    "\n",
    "# pan12_training_final_with_timestamp = pan12_training_final_with_timestamp.select(columns)\n",
    "\n",
    "# # show the dataframe with the new column order\n",
    "# pan12_training_final_with_timestamp.show(10, truncate=False)"
   ]
  },
  {
   "cell_type": "code",
   "execution_count": null,
   "metadata": {
    "id": "Oufsz_Z6J8a6"
   },
   "outputs": [],
   "source": [
    "# pan12_training_final_with_timestamp.printSchema"
   ]
  },
  {
   "cell_type": "code",
   "execution_count": null,
   "metadata": {
    "id": "Iv2_mh1c9NK9"
   },
   "outputs": [],
   "source": [
    "# ## count the conversations by conversation type and label\n",
    "# pan12_training_final_with_timestamp.groupBy('label', 'type_conversation')\\\n",
    "#           .agg(countDistinct(col('conversation_id')).alias('n_conversations'))\\\n",
    "#           .orderBy(col('label'), col('type_conversation'))\\\n",
    "#           .show(truncate = False)"
   ]
  },
  {
   "cell_type": "markdown",
   "metadata": {
    "id": "h800RwUs05B-"
   },
   "source": [
    "## file saving"
   ]
  },
  {
   "cell_type": "code",
   "execution_count": null,
   "metadata": {
    "id": "ApBeTNmWBiwb"
   },
   "outputs": [],
   "source": [
    "# spliting the dataframes into four dataframes\n",
    "weights = [.3, .3, .2, .2]\n",
    "splits = pan12_test_final_merged_text.randomSplit(weights, seed=None)\n",
    "# splits[0].show(10)"
   ]
  },
  {
   "cell_type": "code",
   "execution_count": null,
   "metadata": {
    "id": "VcDwhZx9np9c"
   },
   "outputs": [],
   "source": [
    "# Define the path where the pan12_test_data can be saved\n",
    "output_path = f'drive/MyDrive/210 Capstone/data/merged_data_conversations_2/'\n",
    "\n",
    "# Save the DataFrame to a json file\n",
    "splits[0].write.mode('append').parquet(output_path)\n",
    "splits[1].write.mode('append').parquet(output_path)\n",
    "splits[2].write.mode('append').parquet(output_path)\n",
    "splits[3].write.mode('append').parquet(output_path)"
   ]
  },
  {
   "cell_type": "code",
   "execution_count": null,
   "metadata": {
    "colab": {
     "base_uri": "https://localhost:8080/"
    },
    "executionInfo": {
     "elapsed": 36051,
     "status": "ok",
     "timestamp": 1707980932034,
     "user": {
      "displayName": "Sunny Shin",
      "userId": "07563865141827084443"
     },
     "user_tz": 480
    },
    "id": "44U5neKicGp5",
    "outputId": "6ab1fee9-43a9-471d-dd4b-54a03a28f836"
   },
   "outputs": [
    {
     "name": "stdout",
     "output_type": "stream",
     "text": [
      "+----------+------+\n",
      "|source    |count |\n",
      "+----------+------+\n",
      "|PAN12-test|155128|\n",
      "+----------+------+\n",
      "\n"
     ]
    }
   ],
   "source": [
    "# # Define the path to your Parquet files on Google Drive\n",
    "# parquet_folder_path = f'drive/MyDrive/210 Capstone/data/merged_data_conversations_2/'\n",
    "\n",
    "# # Read Parquet files into a PySpark DataFrame\n",
    "# df = spark.read.parquet(parquet_folder_path)\n",
    "\n",
    "# Show the DataFrame\n",
    "# pan12_test_final.groupBy('source')\\\n",
    "#   .agg(count('conversation_id').alias('count'))\\\n",
    "#   .show(truncate = False)"
   ]
  },
  {
   "cell_type": "code",
   "execution_count": null,
   "metadata": {
    "colab": {
     "base_uri": "https://localhost:8080/"
    },
    "executionInfo": {
     "elapsed": 7951,
     "status": "ok",
     "timestamp": 1708062758015,
     "user": {
      "displayName": "Sunny Shin",
      "userId": "07563865141827084443"
     },
     "user_tz": 480
    },
    "id": "fmLEU7JHeOoO",
    "outputId": "9be245c3-93e9-4a01-dabc-ec7f45c900d3"
   },
   "outputs": [
    {
     "name": "stdout",
     "output_type": "stream",
     "text": [
      "+-----------+-----+\n",
      "|source     |count|\n",
      "+-----------+-----+\n",
      "|PAN12-train|66927|\n",
      "+-----------+-----+\n",
      "\n"
     ]
    }
   ],
   "source": [
    "pan12_training_final.groupBy('source')\\\n",
    "  .agg(count('conversation_id').alias('count'))\\\n",
    "  .show(truncate = False)"
   ]
  },
  {
   "cell_type": "code",
   "execution_count": null,
   "metadata": {
    "id": "MCQvdJzQeNyW"
   },
   "outputs": [],
   "source": [
    "pan12_test_final.groupBy('source')\\\n",
    "  .agg(count('conversation_id').alias('count'))\\\n",
    "  .show(truncate = False)"
   ]
  },
  {
   "cell_type": "code",
   "execution_count": null,
   "metadata": {
    "colab": {
     "base_uri": "https://localhost:8080/"
    },
    "executionInfo": {
     "elapsed": 35810,
     "status": "ok",
     "timestamp": 1707981005969,
     "user": {
      "displayName": "Sunny Shin",
      "userId": "07563865141827084443"
     },
     "user_tz": 480
    },
    "id": "ErgxbD8wcGQR",
    "outputId": "01b3a6ff-26e2-42fc-e5c1-5ac13b37c3ba"
   },
   "outputs": [
    {
     "name": "stdout",
     "output_type": "stream",
     "text": [
      "+----------+------+\n",
      "|source    |count |\n",
      "+----------+------+\n",
      "|PAN12-test|155128|\n",
      "+----------+------+\n",
      "\n"
     ]
    }
   ],
   "source": [
    "# pan12_test_final_merged_text.groupBy('source')\\\n",
    "#   .agg(countDistinct('conversation_id').alias('count'))\\\n",
    "#   .show(truncate = False)"
   ]
  },
  {
   "cell_type": "code",
   "execution_count": null,
   "metadata": {
    "id": "W5NEKkHOiaLC"
   },
   "outputs": [],
   "source": [
    "# # save the file to show all the conversation at each chat level\n",
    "# # Define the path where the pan12_training_data can be saved\n",
    "# output_path = f'drive/MyDrive/210 Capstone/data/merged_data_texts/'\n",
    "\n",
    "# # Save the DataFrame to a json file\n",
    "# pan12_training_final_with_timestamp.write.mode('append').parquet(output_path)"
   ]
  },
  {
   "cell_type": "markdown",
   "metadata": {
    "id": "IttqFWZl0t7z"
   },
   "source": [
    "### test"
   ]
  },
  {
   "cell_type": "code",
   "execution_count": null,
   "metadata": {
    "id": "rkvel2SVbDho"
   },
   "outputs": [],
   "source": []
  },
  {
   "cell_type": "code",
   "execution_count": null,
   "metadata": {
    "id": "mf_-DVUzNsm_"
   },
   "outputs": [],
   "source": [
    "\n",
    "\n",
    "\n",
    "# # Define a window specification to partition by conversation_id\n",
    "# window_spec = Window.partitionBy(\"conversation_id\")\n",
    "\n",
    "# # Add a new column 'label' to the DataFrame\n",
    "# pan12_test_df_final_with_time = pan12_test_df.withColumn('label',\n",
    "#                                                       lit(1).alias('label')). \\\n",
    "#                                            withColumn('label',\n",
    "#                                                       when(col('author').isin(broadcast_predator_ids.value), 1).otherwise(0)). \\\n",
    "#                                             withColumn('source', lit('PAN12-test').alias('source'))\\\n",
    "#                                             .withColumn('n_texts', count('text').over(window_spec))\n",
    "\n",
    "\n",
    "\n",
    "\n",
    "# Show the DataFrame\n",
    "# pan12_test_df_final_with_time.show(10)"
   ]
  },
  {
   "cell_type": "code",
   "execution_count": null,
   "metadata": {
    "id": "WfqiUYgLdhwa"
   },
   "outputs": [],
   "source": [
    "# Define a window partitioned by 'conversation_id' and ordered by 'time'\n",
    "window_spec = Window.partitionBy('conversation_id').orderBy('time')\n",
    "\n",
    "# Add a new column with the start time of the conversation\n",
    "df_test_with_start_time = pan12_test_df_2.withColumn('conversation_start_time', first('time').over(window_spec))\n",
    "# df_with_start_time.show(3, truncate=False)"
   ]
  },
  {
   "cell_type": "code",
   "execution_count": null,
   "metadata": {
    "id": "eVx_AIr2dqZp"
   },
   "outputs": [],
   "source": [
    "# Define the UDF to count unique author IDs\n",
    "def count_unique_authors(authors):\n",
    "    return len(set(authors))\n",
    "\n",
    "# Register the UDF\n",
    "count_unique_authors_udf = udf(count_unique_authors, IntegerType())\n",
    "\n",
    "# Group by 'conversation_id' and apply the UDF to count unique authors\n",
    "df_test_with_unique_authors_count = df_test_with_start_time.groupBy('conversation_id') \\\n",
    "                                                 .agg(count_unique_authors_udf(collect_list('author')).alias('n_people_in_conversation'))\n",
    "\n",
    "# Join the result back to the original DataFrame\n",
    "df_test_with_start_time = df_test_with_start_time.join(df_test_with_unique_authors_count, 'conversation_id', 'left')\n",
    "\n",
    "# Show the DataFrame with the new column 'unique_author_count'\n",
    "# df_with_start_time.show()"
   ]
  },
  {
   "cell_type": "code",
   "execution_count": null,
   "metadata": {
    "id": "vMHyuTnhd2Nc"
   },
   "outputs": [],
   "source": [
    "# Define the UDF to concatenate text or merged_text\n",
    "def concatenate_texts(texts):\n",
    "    return ' '.join(texts)\n",
    "\n",
    "# Register the UDF\n",
    "concatenate_texts_udf = udf(concatenate_texts, StringType())\n",
    "\n",
    "# Group by 'conversation_id' and collect all 'text' and 'merged_text'\n",
    "# df_concatenated_texts = df_with_start_time.groupBy('conversation_id').agg(collect_list('text').alias('merged_text'),\n",
    "#                                                                               collect_list('merged_text').alias('merged_text_id'),\n",
    "#                                                                           first('label').alias('label'),\n",
    "#                                                                           first('source').alias('source'),\n",
    "#                                                                           first('conversation_start_time').alias('conversation_start_time'),\n",
    "#                                                                           first('n_people_in_conversation').alias('n_people_in_conversation').cast('int'))\\\n",
    "#                                                                           .withColumn('type_conversation', when(col('n_people_in_conversation') == 1, 'Monologue')\\\n",
    "#                                                                                                                 .when(col('n_people_in_conversation') == 2, 'Pair')\\\n",
    "#                                                                                                                 .when(col('n_people_in_conversation') > 2, 'Group'))\\\n",
    "\n",
    "\n",
    "df_test_concatenated_texts = df_test_with_start_time.groupBy('conversation_id').agg(concat_ws(\" \", collect_list('text')).alias('merged_text'),\n",
    "                                                                          concat_ws(\" \", collect_list('merged_text')).alias('merged_text_id'),\n",
    "                                                                          first('label').alias('label'),\n",
    "                                                                          first('source').alias('source'),\n",
    "                                                                          first('conversation_start_time').alias('conversation_start_time'),\n",
    "                                                                          first('n_people_in_conversation').alias('n_people_in_conversation'))\\\n",
    "                                                                          .withColumn('type_conversation', when(col('n_people_in_conversation') == 1, 'Monologue')\\\n",
    "                                                                                                                .when(col('n_people_in_conversation') == 2, 'Pair')\\\n",
    "                                                                                                                .when(col('n_people_in_conversation') > 2, 'Group'))\\\n",
    "                                                                          .withColumn('n_texts', size(split(col('merged_text'), ' ')))"
   ]
  },
  {
   "cell_type": "code",
   "execution_count": null,
   "metadata": {
    "id": "F9zJyP19G0qK"
   },
   "outputs": [],
   "source": [
    "# # Define a window partitioned by 'conversation_id' and ordered by 'time'\n",
    "# window_spec = Window.partitionBy('conversation_id').orderBy('time')\n",
    "\n",
    "# # Add a new column with the start time of the conversation\n",
    "# df_with_start_time_test = pan12_test_df_final_with_time.withColumn('conversation_start_time', first('time').over(window_spec))\n",
    "\n",
    "# # Show the DataFrame with the new column\n",
    "# # df_with_start_time_test.show(10)"
   ]
  },
  {
   "cell_type": "code",
   "execution_count": null,
   "metadata": {
    "id": "6d8TKYIyp-0d"
   },
   "outputs": [],
   "source": [
    "# Add new columns 'distinct_authors_count' and 'type_conversation' to the DataFrame\n",
    "# pan12_test_final_with_timestamp = df_with_start_time_test.groupby('conversation_id') \\\n",
    "#     .agg(\n",
    "#         countDistinct('author').alias('n_people_in_conversation'),\n",
    "#         first('time').alias('time'),\n",
    "#         first('conversation_start_time').alias('conversation_start_time'),\n",
    "#         first('label').alias('label'),\n",
    "#         first('source').alias('source'),\n",
    "#         first('text').alias('text'),\n",
    "#         first('author').alias('author')\n",
    "#     ) \\\n",
    "#     .withColumn('type_conversation',\n",
    "#                 when(col('n_people_in_conversation') == 1, 'Monologue')\n",
    "#                 .when(col('n_people_in_conversation') == 2, 'Pair')\n",
    "#                 .otherwise('Group'))\\\n",
    "\n",
    "\n",
    "# Show the DataFrame with the new columns\n",
    "# pan12_test_final_with_timestamp.show(10)"
   ]
  },
  {
   "cell_type": "code",
   "execution_count": null,
   "metadata": {
    "id": "IGDu_b5T-Ils"
   },
   "outputs": [],
   "source": [
    "# Define the regular expression pattern to match the author ID\n",
    "# author_id_pattern = r'\\b[a-f\\d]{32}\\b'\n",
    "\n",
    "# # Remove the author ID from the text column\n",
    "# df_with_start_time_test = df_with_start_time_test.withColumn('text_copy', col('text'))\\\n",
    "#                                                     .withColumn('text_copy', regexp_replace('text_copy', author_id_pattern, \"\"))\n",
    "\n",
    "# Show the DataFrame with cleaned text\n",
    "# df_with_start_time_test.show(truncate=False)"
   ]
  },
  {
   "cell_type": "code",
   "execution_count": null,
   "metadata": {
    "id": "1UbAc9mxG9Os"
   },
   "outputs": [],
   "source": [
    "# ## Add # people in conversation\n",
    "# ## Add in the type of conversation (pair, monologue, group)\n",
    "# # Add a new column 'distinct_authors_count' to the DataFrame\n",
    "# pan12_test_final_with_timestamp = df_with_start_time_test.groupby('conversation_id').agg(countDistinct('author').alias('n_people_in_conversation'),\n",
    "#                                                                                    first('time').alias('time'),\n",
    "#                                                                                    first('conversation_start_time').alias('conversation_start_time'),\n",
    "#                                                                                    first('label').alias('label'),\n",
    "#                                                                                    first('source').alias('source'),\n",
    "#                                                                                    first('text').alias('merged_text'),\n",
    "#                                                                                    first('author').alias('author')\n",
    "#                                                                                    )\\\n",
    "#                                                                                 .withColumn('type_conversation', when(col('n_people_in_conversation') == 1, 'Monologue')\\\n",
    "#                                                                                                                 .when(col('n_people_in_conversation') == 2, 'Pair')\\\n",
    "#                                                                                                                 .when(col('n_people_in_conversation') > 2, 'Group'))\\\n",
    "#                                                                                 .withColumn('n_people_in_conversation', col('n_people_in_conversation').cast('int'))\\\n",
    "#                                                                                 .drop('n_texts')\n",
    "# # Show the DataFrame with the new column\n",
    "# pan12_test_final_with_timestamp.show(10)"
   ]
  },
  {
   "cell_type": "code",
   "execution_count": null,
   "metadata": {
    "colab": {
     "base_uri": "https://localhost:8080/"
    },
    "executionInfo": {
     "elapsed": 27452,
     "status": "ok",
     "timestamp": 1707980433078,
     "user": {
      "displayName": "Sunny Shin",
      "userId": "07563865141827084443"
     },
     "user_tz": 480
    },
    "id": "samZJkSOnZSQ",
    "outputId": "1bda731d-c5d5-4768-f068-1b672ce8d9bf"
   },
   "outputs": [
    {
     "name": "stdout",
     "output_type": "stream",
     "text": [
      "+-----+-----------------+---------------+\n",
      "|label|type_conversation|n_conversations|\n",
      "+-----+-----------------+---------------+\n",
      "|0    |Group            |19705          |\n",
      "|0    |Monologue        |27711          |\n",
      "|0    |Pair             |104950         |\n",
      "|1    |Monologue        |1850           |\n",
      "|1    |Pair             |912            |\n",
      "+-----+-----------------+---------------+\n",
      "\n"
     ]
    }
   ],
   "source": [
    "# ## count the conversations by conversation type and label\n",
    "# pan12_test_final_with_timestamp.groupBy('label', 'type_conversation')\\\n",
    "#           .agg(countDistinct(col('conversation_id')).alias('n_conversations'))\\\n",
    "#           .orderBy(col('label'), col('type_conversation'))\\\n",
    "#           .show(truncate = False)"
   ]
  },
  {
   "cell_type": "code",
   "execution_count": null,
   "metadata": {
    "id": "5FYJLsZ5RQ9t"
   },
   "outputs": [],
   "source": [
    "# # specifying the column order\n",
    "# columns = ['conversation_id',\n",
    "# 'source',\n",
    "# 'label',\n",
    "# 'conversation_start_time',\n",
    "# 'n_people_in_conversation',\n",
    "# 'type_conversation',\n",
    "# 'merged_text',\n",
    "# 'author',\n",
    "# 'time']\n",
    "\n",
    "# pan12_test_final_with_timestamp = pan12_test_final_with_timestamp.select(columns)\n",
    "\n",
    "# show the dataframe with the new column order\n",
    "# pan12_test_final_with_timestamp.show(10, truncate=False)"
   ]
  },
  {
   "cell_type": "code",
   "execution_count": null,
   "metadata": {
    "colab": {
     "base_uri": "https://localhost:8080/",
     "height": 186
    },
    "executionInfo": {
     "elapsed": 14,
     "status": "ok",
     "timestamp": 1707941608653,
     "user": {
      "displayName": "Sunny Shin",
      "userId": "07563865141827084443"
     },
     "user_tz": 480
    },
    "id": "gpFC0oVYM33Z",
    "outputId": "5b2017fa-2606-4cf3-a400-18c7cc6e9948"
   },
   "outputs": [
    {
     "data": {
      "text/html": [
       "<div style=\"max-width:800px; border: 1px solid var(--colab-border-color);\"><style>\n",
       "      pre.function-repr-contents {\n",
       "        overflow-x: auto;\n",
       "        padding: 8px 12px;\n",
       "        max-height: 500px;\n",
       "      }\n",
       "\n",
       "      pre.function-repr-contents.function-repr-contents-collapsed {\n",
       "        cursor: pointer;\n",
       "        max-height: 100px;\n",
       "      }\n",
       "    </style>\n",
       "    <pre style=\"white-space: initial; background:\n",
       "         var(--colab-secondary-surface-color); padding: 8px 12px;\n",
       "         border-bottom: 1px solid var(--colab-border-color);\"><b>pyspark.sql.dataframe.DataFrame.printSchema</b><br/>def printSchema(level: Optional[int]=None) -&gt; None</pre><pre class=\"function-repr-contents function-repr-contents-collapsed\" style=\"\"><a class=\"filepath\" style=\"display:none\" href=\"#\">/content/spark-3.5.0-bin-hadoop3/python/pyspark/sql/dataframe.py</a>Prints out the schema in the tree format.\n",
       "Optionally allows to specify how many levels to print if schema is nested.\n",
       "\n",
       ".. versionadded:: 1.3.0\n",
       "\n",
       ".. versionchanged:: 3.4.0\n",
       "    Supports Spark Connect.\n",
       "\n",
       "Parameters\n",
       "----------\n",
       "level : int, optional, default None\n",
       "    How many levels to print for nested schemas.\n",
       "\n",
       "    .. versionchanged:: 3.5.0\n",
       "        Added Level parameter.\n",
       "\n",
       "Examples\n",
       "--------\n",
       "&gt;&gt;&gt; df = spark.createDataFrame(\n",
       "...     [(14, &quot;Tom&quot;), (23, &quot;Alice&quot;), (16, &quot;Bob&quot;)], [&quot;age&quot;, &quot;name&quot;])\n",
       "&gt;&gt;&gt; df.printSchema()\n",
       "root\n",
       " |-- age: long (nullable = true)\n",
       " |-- name: string (nullable = true)\n",
       "\n",
       "&gt;&gt;&gt; df = spark.createDataFrame([(1, (2,2))], [&quot;a&quot;, &quot;b&quot;])\n",
       "&gt;&gt;&gt; df.printSchema(1)\n",
       "root\n",
       " |-- a: long (nullable = true)\n",
       " |-- b: struct (nullable = true)\n",
       "\n",
       "&gt;&gt;&gt; df.printSchema(2)\n",
       "root\n",
       " |-- a: long (nullable = true)\n",
       " |-- b: struct (nullable = true)\n",
       " |    |-- _1: long (nullable = true)\n",
       " |    |-- _2: long (nullable = true)</pre>\n",
       "      <script>\n",
       "      if (google.colab.kernel.accessAllowed && google.colab.files && google.colab.files.view) {\n",
       "        for (const element of document.querySelectorAll('.filepath')) {\n",
       "          element.style.display = 'block'\n",
       "          element.onclick = (event) => {\n",
       "            event.preventDefault();\n",
       "            event.stopPropagation();\n",
       "            google.colab.files.view(element.textContent, 581);\n",
       "          };\n",
       "        }\n",
       "      }\n",
       "      for (const element of document.querySelectorAll('.function-repr-contents')) {\n",
       "        element.onclick = (event) => {\n",
       "          event.preventDefault();\n",
       "          event.stopPropagation();\n",
       "          element.classList.toggle('function-repr-contents-collapsed');\n",
       "        };\n",
       "      }\n",
       "      </script>\n",
       "      </div>"
      ],
      "text/plain": [
       "<bound method DataFrame.printSchema of DataFrame[conversation_id: string, source: string, label: int, conversation_start_time: string, n_people_in_conversation: int, type_conversation: string, merged_text: string, author: string, time: string]>"
      ]
     },
     "execution_count": 24,
     "metadata": {},
     "output_type": "execute_result"
    }
   ],
   "source": [
    "# pan12_test_final_with_timestamp.printSchema"
   ]
  },
  {
   "cell_type": "code",
   "execution_count": null,
   "metadata": {
    "id": "i5X4hofU_kKE"
   },
   "outputs": [],
   "source": [
    "# # spliting the dataframes into two dataframes\n",
    "# weights = [.3, .3, .2, .2]\n",
    "# splits = pan12_test_final_with_timestamp.randomSplit(weights, seed=None)\n",
    "# # splits[0].show(10)"
   ]
  },
  {
   "cell_type": "code",
   "execution_count": null,
   "metadata": {
    "id": "mCQfYBWtmks0"
   },
   "outputs": [],
   "source": [
    "# # Define the path where the pan12_test_data can be saved\n",
    "# output_path = f'drive/MyDrive/210 Capstone/data/merged_data_texts/'\n",
    "\n",
    "# # Save the DataFrame to a json file\n",
    "# splits[0].write.mode('append').parquet(output_path)\n",
    "# splits[1].write.mode('append').parquet(output_path)\n",
    "# splits[2].write.mode('append').parquet(output_path)\n",
    "# splits[3].write.mode('append').parquet(output_path)"
   ]
  },
  {
   "cell_type": "code",
   "execution_count": null,
   "metadata": {
    "id": "3wfCIntWHYCE"
   },
   "outputs": [],
   "source": [
    "# # Add a new column with author name and text concatenated\n",
    "# pan12_test_final_merged_text = df_with_start_time_test.withColumn(\"author_text_concat\", concat(col(\"author\"), lit(\": \"), col(\"text\")))\n",
    "\n",
    "# pan12_test_final_merged_text = pan12_test_final_merged_text.groupby('conversation_id').agg(countDistinct('author').alias('n_people_in_conversation'),\n",
    "#                                                                                   first('time').alias('time'),\n",
    "#                                                                                   first('conversation_start_time').alias('conversation_start_time'),\n",
    "#                                                                                   first('label').alias('label'),\n",
    "#                                                                                   first('source').alias('source'),\n",
    "#                                                                                   first('n_texts').cast('int').alias('n_texts'),\n",
    "#                                                                                   concat_ws(\" \", collect_list('author_text_concat')).alias('merged_text_id'),\n",
    "#                                                                                   concat_ws(\" \", collect_list('text')).alias('merged_text')\n",
    "#                                                                                       )\\\n",
    "#                                                                                       .withColumn('type_conversation', when(col('n_people_in_conversation') == 1, 'Monologue')\\\n",
    "#                                                                                                                 .when(col('n_people_in_conversation') == 2, 'Pair')\\\n",
    "#                                                                                                                 .when(col('n_people_in_conversation') > 2, 'Group'))\\\n",
    "#                                                                                       .withColumn('n_people_in_conversation', col('n_people_in_conversation').cast('int'))\\\n",
    "#                                                                                       .drop('text', 'time')\n",
    "\n",
    "# Show the DataFrame with the new column\n",
    "# pan12_test_final_merged_text.show(10)"
   ]
  },
  {
   "cell_type": "code",
   "execution_count": null,
   "metadata": {
    "id": "JeXmhr73Sx0-"
   },
   "outputs": [],
   "source": [
    "# # specifying the column order\n",
    "# columns = ['conversation_id',\n",
    "# 'source',\n",
    "# 'label',\n",
    "# 'conversation_start_time',\n",
    "# 'n_people_in_conversation',\n",
    "# 'type_conversation',\n",
    "# 'merged_text',\n",
    "# 'merged_text_id',\n",
    "# 'n_texts']\n",
    "\n",
    "# pan12_test_final = df_test_concatenated_texts.select(columns)\n",
    "\n",
    "# show the dataframe with the new column order\n",
    "# pan12_test_final_merged_text.show(10, truncate=False)"
   ]
  },
  {
   "cell_type": "code",
   "execution_count": null,
   "metadata": {
    "id": "i_IKtI7FEgH7"
   },
   "outputs": [],
   "source": [
    "# pan12_test_final_merged_text.show(15, truncate=False)"
   ]
  },
  {
   "cell_type": "code",
   "execution_count": null,
   "metadata": {
    "id": "FwLab5tRNPXW"
   },
   "outputs": [],
   "source": [
    "# pan12_test_final.printSchema()"
   ]
  },
  {
   "cell_type": "code",
   "execution_count": null,
   "metadata": {
    "id": "4IVO5QxueC-m"
   },
   "outputs": [],
   "source": [
    "# pan12_test_final.show(3, truncate=False)"
   ]
  },
  {
   "cell_type": "code",
   "execution_count": null,
   "metadata": {
    "colab": {
     "base_uri": "https://localhost:8080/"
    },
    "executionInfo": {
     "elapsed": 25490,
     "status": "ok",
     "timestamp": 1707980469401,
     "user": {
      "displayName": "Sunny Shin",
      "userId": "07563865141827084443"
     },
     "user_tz": 480
    },
    "id": "DZ_wZYybaZXU",
    "outputId": "4aaae88e-fdba-4ef7-d30a-a37fc0aab9c2"
   },
   "outputs": [
    {
     "name": "stdout",
     "output_type": "stream",
     "text": [
      "+-----+-----------------+---------------+\n",
      "|label|type_conversation|n_conversations|\n",
      "+-----+-----------------+---------------+\n",
      "|0    |Group            |19705          |\n",
      "|0    |Monologue        |27711          |\n",
      "|0    |Pair             |104950         |\n",
      "|1    |Monologue        |1850           |\n",
      "|1    |Pair             |912            |\n",
      "+-----+-----------------+---------------+\n",
      "\n"
     ]
    }
   ],
   "source": [
    "# pan12_test_final_merged_text.groupBy('label', 'type_conversation')\\\n",
    "#           .agg(countDistinct(col('conversation_id')).alias('n_conversations'))\\\n",
    "#           .orderBy(col('label'), col('type_conversation'))\\\n",
    "#           .show(truncate = False)"
   ]
  },
  {
   "cell_type": "markdown",
   "metadata": {
    "id": "JZHdvy6LNd1h",
    "jp-MarkdownHeadingCollapsed": true
   },
   "source": [
    "### *A) PAN12 Training Dataset*"
   ]
  },
  {
   "cell_type": "markdown",
   "metadata": {
    "id": "MxDbAkgOmJNu"
   },
   "source": [
    "#### A_a) Training with Timestamps"
   ]
  },
  {
   "cell_type": "markdown",
   "metadata": {
    "id": "8SJg8bBwoXUb",
    "jp-MarkdownHeadingCollapsed": true
   },
   "source": [
    "##### A_a_1) extracting conversation_id, author, time, text from the raw data"
   ]
  },
  {
   "cell_type": "code",
   "execution_count": 8,
   "metadata": {
    "executionInfo": {
     "elapsed": 39077,
     "status": "ok",
     "timestamp": 1708715683431,
     "user": {
      "displayName": "Sunny Shin",
      "userId": "07563865141827084443"
     },
     "user_tz": 480
    },
    "id": "UZpq2htTarzy"
   },
   "outputs": [],
   "source": [
    "# # Iterate through the XML tree and extract data\n",
    "# training_xml_data = []\n",
    "\n",
    "# for conversation in training_root.findall('conversation'):\n",
    "#   for message in conversation.findall('message'):\n",
    "#     author = message.find('author').text\n",
    "#     time = message.find('time').text\n",
    "#     text = message.find('text').text\n",
    "\n",
    "#     # Append data to list\n",
    "#     training_xml_data.append((conversation.get('id'), author, time, text))\n",
    "\n",
    "# # Create DataFrame from list of tuples\n",
    "# pan12_training_df = spark.createDataFrame(training_xml_data, ['conversation_id', 'author', 'time', 'text'])"
   ]
  },
  {
   "cell_type": "code",
   "execution_count": null,
   "metadata": {
    "colab": {
     "base_uri": "https://localhost:8080/"
    },
    "executionInfo": {
     "elapsed": 14127,
     "status": "ok",
     "timestamp": 1708199763481,
     "user": {
      "displayName": "Sunny Shin",
      "userId": "07563865141827084443"
     },
     "user_tz": 480
    },
    "id": "kgux_OktoyKD",
    "outputId": "730c08ff-de06-4f12-e107-9086b90e68a8"
   },
   "outputs": [
    {
     "name": "stdout",
     "output_type": "stream",
     "text": [
      "+--------------------------------+--------------------------------+-----+---------+\n",
      "|conversation_id                 |author                          |time |text     |\n",
      "+--------------------------------+--------------------------------+-----+---------+\n",
      "|e621da5de598c9321a1d505ea95e6a2d|97964e7a9e8eb9cf78f2e4d7b2ff34c7|03:20|Hola.    |\n",
      "|e621da5de598c9321a1d505ea95e6a2d|0158d0d6781fc4d493f243d4caa49747|03:20|hi.      |\n",
      "|e621da5de598c9321a1d505ea95e6a2d|0158d0d6781fc4d493f243d4caa49747|03:20|whats up?|\n",
      "+--------------------------------+--------------------------------+-----+---------+\n",
      "only showing top 3 rows\n",
      "\n"
     ]
    }
   ],
   "source": [
    "# # Show DataFrame\n",
    "# pan12_training_df.show(3, truncate=False)"
   ]
  },
  {
   "cell_type": "markdown",
   "metadata": {
    "id": "6_ukfFJFohiU",
    "jp-MarkdownHeadingCollapsed": true
   },
   "source": [
    "##### A_a_2) look up the label, add label/source and create merged_text column('author': 'text')"
   ]
  },
  {
   "cell_type": "code",
   "execution_count": 9,
   "metadata": {
    "executionInfo": {
     "elapsed": 1217,
     "status": "ok",
     "timestamp": 1708715684644,
     "user": {
      "displayName": "Sunny Shin",
      "userId": "07563865141827084443"
     },
     "user_tz": 480
    },
    "id": "MmuORtqTNSW1"
   },
   "outputs": [],
   "source": [
    "# # Load list of author IDs from the text file\n",
    "# with open(train_data_path + 'pan12-sexual-predator-identification-training-corpus-predators-2012-05-01.txt', 'r') as f:\n",
    "#     predator_ids = [line.strip() for line in f]\n",
    "\n",
    "# # Broadcast the list of author IDs to all Spark executors for efficient lookup\n",
    "# broadcast_predator_ids = spark.sparkContext.broadcast(predator_ids)\n",
    "\n",
    "# pan12_training_df_2 = pan12_training_df.withColumn('label', lit(1).alias('label'))\\\n",
    "#                                      .withColumn('source', lit('PAN12-train').alias('source'))\\\n",
    "#                                       .withColumn('label', when(col('author').isin(broadcast_predator_ids.value), 1).otherwise(0))\\\n",
    "#                                       .withColumn('merged_text', concat_ws(\": \", col('author'), col('text')))\n"
   ]
  },
  {
   "cell_type": "code",
   "execution_count": 23,
   "metadata": {
    "colab": {
     "base_uri": "https://localhost:8080/"
    },
    "executionInfo": {
     "elapsed": 10904,
     "status": "ok",
     "timestamp": 1708715736756,
     "user": {
      "displayName": "Sunny Shin",
      "userId": "07563865141827084443"
     },
     "user_tz": 480
    },
    "id": "v9t-jxc3Y6ck",
    "outputId": "a2f56f0a-668d-451b-df19-cbbf2d5973bc"
   },
   "outputs": [],
   "source": [
    "# pan12_training_df_2_predator = pan12_training_df_2.filter(pan12_training_df_2['label'] == 1)\n",
    "# pan12_training_df_2_predator.show(10, truncate=False)"
   ]
  },
  {
   "cell_type": "code",
   "execution_count": null,
   "metadata": {
    "colab": {
     "base_uri": "https://localhost:8080/"
    },
    "executionInfo": {
     "elapsed": 5417,
     "status": "ok",
     "timestamp": 1708199797629,
     "user": {
      "displayName": "Sunny Shin",
      "userId": "07563865141827084443"
     },
     "user_tz": 480
    },
    "id": "1WEXmR1IOaYa",
    "outputId": "c2802aae-7944-481d-8d63-9b1f878f2347"
   },
   "outputs": [
    {
     "name": "stdout",
     "output_type": "stream",
     "text": [
      "+--------------------------------+--------------------------------+-----+---------+-----+-----------+-------------------------------------------+\n",
      "|conversation_id                 |author                          |time |text     |label|source     |merged_text                                |\n",
      "+--------------------------------+--------------------------------+-----+---------+-----+-----------+-------------------------------------------+\n",
      "|e621da5de598c9321a1d505ea95e6a2d|97964e7a9e8eb9cf78f2e4d7b2ff34c7|03:20|Hola.    |0    |PAN12-train|97964e7a9e8eb9cf78f2e4d7b2ff34c7: Hola.    |\n",
      "|e621da5de598c9321a1d505ea95e6a2d|0158d0d6781fc4d493f243d4caa49747|03:20|hi.      |0    |PAN12-train|0158d0d6781fc4d493f243d4caa49747: hi.      |\n",
      "|e621da5de598c9321a1d505ea95e6a2d|0158d0d6781fc4d493f243d4caa49747|03:20|whats up?|0    |PAN12-train|0158d0d6781fc4d493f243d4caa49747: whats up?|\n",
      "+--------------------------------+--------------------------------+-----+---------+-----+-----------+-------------------------------------------+\n",
      "only showing top 3 rows\n",
      "\n"
     ]
    }
   ],
   "source": [
    "# pan12_training_df_2.show(3, truncate=False)"
   ]
  },
  {
   "cell_type": "markdown",
   "metadata": {
    "id": "4RYo1nN6o_6X",
    "jp-MarkdownHeadingCollapsed": true
   },
   "source": [
    "##### A_a_3) add in a conversation start time to the table"
   ]
  },
  {
   "cell_type": "code",
   "execution_count": 11,
   "metadata": {
    "executionInfo": {
     "elapsed": 195,
     "status": "ok",
     "timestamp": 1708715804901,
     "user": {
      "displayName": "Sunny Shin",
      "userId": "07563865141827084443"
     },
     "user_tz": 480
    },
    "id": "JCLIH2L6O6r6"
   },
   "outputs": [],
   "source": [
    "# # Define a window partitioned by 'conversation_id' and ordered by 'time'\n",
    "# window_spec = Window.partitionBy('conversation_id').orderBy('time')\n",
    "\n",
    "# # Add a new column with the start time of the conversation\n",
    "# df_with_start_time = pan12_training_df_2.withColumn('conversation_start_time', first('time').over(window_spec))\n"
   ]
  },
  {
   "cell_type": "code",
   "execution_count": 24,
   "metadata": {
    "colab": {
     "base_uri": "https://localhost:8080/"
    },
    "executionInfo": {
     "elapsed": 10506,
     "status": "ok",
     "timestamp": 1708199829575,
     "user": {
      "displayName": "Sunny Shin",
      "userId": "07563865141827084443"
     },
     "user_tz": 480
    },
    "id": "nvVRieF9pIx9",
    "outputId": "b2a0e833-cb48-4de3-fd8b-e1ef7128b299"
   },
   "outputs": [],
   "source": [
    "# df_with_start_time.show(3, truncate=False)"
   ]
  },
  {
   "cell_type": "markdown",
   "metadata": {
    "id": "BiM7FrmJpdUP",
    "jp-MarkdownHeadingCollapsed": true
   },
   "source": [
    "##### A_a_4) add in number of people in the conversation and the type of conversation"
   ]
  },
  {
   "cell_type": "code",
   "execution_count": 25,
   "metadata": {
    "executionInfo": {
     "elapsed": 473,
     "status": "ok",
     "timestamp": 1708715808905,
     "user": {
      "displayName": "Sunny Shin",
      "userId": "07563865141827084443"
     },
     "user_tz": 480
    },
    "id": "_44LvTHmPsjs",
    "jupyter": {
     "source_hidden": true
    }
   },
   "outputs": [],
   "source": [
    "# # Register the UDF\n",
    "# count_unique_authors_udf = udf(count_unique_authors, IntegerType())\n",
    "\n",
    "# # Group by 'conversation_id' and apply the UDF to count unique authors\n",
    "# df_with_unique_authors_count = df_with_start_time.groupBy('conversation_id') \\\n",
    "#                                                  .agg(count_unique_authors_udf(collect_list('author')).alias('n_people_in_conversation'))\\\n",
    "#                                                  .withColumn('type_conversation', when(col('n_people_in_conversation') == 1, 'Monologue')\\\n",
    "#                                                                                                                 .when(col('n_people_in_conversation') == 2, 'Pair')\\\n",
    "#                                                                                                                 .when(col('n_people_in_conversation') > 2, 'Group'))\n",
    "\n",
    "# # Join the result back to the original DataFrame\n",
    "# df_with_start_time = df_with_start_time.join(df_with_unique_authors_count, 'conversation_id', 'left')\n"
   ]
  },
  {
   "cell_type": "code",
   "execution_count": 26,
   "metadata": {
    "colab": {
     "base_uri": "https://localhost:8080/"
    },
    "executionInfo": {
     "elapsed": 24003,
     "status": "ok",
     "timestamp": 1708199981977,
     "user": {
      "displayName": "Sunny Shin",
      "userId": "07563865141827084443"
     },
     "user_tz": 480
    },
    "id": "YoDboQ2SpWfn",
    "outputId": "7a878af4-95db-4ce6-c77b-80aea4b0106a"
   },
   "outputs": [],
   "source": [
    "# Show the DataFrame with the new column 'unique_author_count'\n",
    "# df_with_start_time.show(3, truncate=False)"
   ]
  },
  {
   "cell_type": "markdown",
   "metadata": {
    "id": "95cEqhwYpyX4",
    "jp-MarkdownHeadingCollapsed": true
   },
   "source": [
    "##### A_a_5) add in the conversation_history to show the staggered chats"
   ]
  },
  {
   "cell_type": "code",
   "execution_count": 13,
   "metadata": {
    "executionInfo": {
     "elapsed": 480,
     "status": "ok",
     "timestamp": 1708715820251,
     "user": {
      "displayName": "Sunny Shin",
      "userId": "07563865141827084443"
     },
     "user_tz": 480
    },
    "id": "qG5KxoVUn2Y5"
   },
   "outputs": [],
   "source": [
    "# # Add previous texts\n",
    "# window = Window.partitionBy(\"conversation_id\").orderBy(\"time\").rowsBetween(Window.unboundedPreceding, -1)\n",
    "\n",
    "# df_training_with_time_stamp = df_with_start_time.withColumn(\"conversation_history_list\", collect_list(col(\"merged_text\")).over(window))\\\n",
    "#     .withColumn(\"conversation_history\", UDF_merge_list_text(col(\"conversation_history_list\")))\\\n",
    "#     .drop(\"conversation_history_list\")\\\n",
    "#     .withColumn('n_texts', size(split(col('merged_text'), ' ')))"
   ]
  },
  {
   "cell_type": "code",
   "execution_count": 22,
   "metadata": {
    "colab": {
     "base_uri": "https://localhost:8080/"
    },
    "executionInfo": {
     "elapsed": 29834,
     "status": "ok",
     "timestamp": 1708544393540,
     "user": {
      "displayName": "Sunny Shin",
      "userId": "07563865141827084443"
     },
     "user_tz": 480
    },
    "id": "IaQ1queSqePX",
    "outputId": "6e5ddfa2-9a27-45df-8de2-c0900229b3f6"
   },
   "outputs": [],
   "source": [
    "# df_training_with_time_stamp.show(3, truncate=False)"
   ]
  },
  {
   "cell_type": "markdown",
   "metadata": {
    "id": "vHHmbv-Hrs9z",
    "jp-MarkdownHeadingCollapsed": true
   },
   "source": [
    "##### A_a_6) change the column order and check the datatypes"
   ]
  },
  {
   "cell_type": "code",
   "execution_count": 27,
   "metadata": {
    "id": "v49jWZbyqkd2"
   },
   "outputs": [],
   "source": [
    "# # specifying the column order\n",
    "# columns = ['conversation_id',\n",
    "# 'source',\n",
    "# 'label',\n",
    "# 'conversation_start_time',\n",
    "# 'n_people_in_conversation',\n",
    "# 'type_conversation',\n",
    "# 'merged_text',\n",
    "# 'author',\n",
    "# 'time',\n",
    "# 'conversation_history']\n",
    "\n",
    "# pan12_training_with_timestamp = df_training_with_time_stamp.select(columns)"
   ]
  },
  {
   "cell_type": "code",
   "execution_count": 28,
   "metadata": {
    "colab": {
     "base_uri": "https://localhost:8080/"
    },
    "executionInfo": {
     "elapsed": 17685,
     "status": "ok",
     "timestamp": 1708200415542,
     "user": {
      "displayName": "Sunny Shin",
      "userId": "07563865141827084443"
     },
     "user_tz": 480
    },
    "id": "rOvQQlm-rVjz",
    "outputId": "4c82eac5-7da4-427c-b3d2-51a7594f0847"
   },
   "outputs": [],
   "source": [
    "# show the dataframe with the new column order\n",
    "# pan12_training_with_timestamp.show(3, truncate=False)"
   ]
  },
  {
   "cell_type": "code",
   "execution_count": 29,
   "metadata": {
    "colab": {
     "base_uri": "https://localhost:8080/"
    },
    "executionInfo": {
     "elapsed": 148,
     "status": "ok",
     "timestamp": 1708200420064,
     "user": {
      "displayName": "Sunny Shin",
      "userId": "07563865141827084443"
     },
     "user_tz": 480
    },
    "id": "Ox9MZBbrrbcP",
    "outputId": "46311cf7-7c03-43b9-87e0-e9eb29ed0b82"
   },
   "outputs": [],
   "source": [
    "# pan12_training_with_timestamp.printSchema()"
   ]
  },
  {
   "cell_type": "markdown",
   "metadata": {
    "id": "j1cSQSntrizm",
    "jp-MarkdownHeadingCollapsed": true
   },
   "source": [
    "##### A_a_7) save the file to gDrive"
   ]
  },
  {
   "cell_type": "code",
   "execution_count": null,
   "metadata": {
    "id": "M7FMxBlJrhmz"
   },
   "outputs": [],
   "source": [
    "# # save the file to show all the conversation at each chat level\n",
    "# # Define the path where the pan12_training_data can be saved\n",
    "# output_path = f'drive/MyDrive/210 Capstone/data/merged_data_texts_SS/'\n",
    "\n",
    "# # Save the DataFrame to a json file\n",
    "# pan12_training_with_timestamp.write.mode('append').parquet(output_path)"
   ]
  },
  {
   "cell_type": "code",
   "execution_count": null,
   "metadata": {
    "id": "QRzVcCktRVXa"
   },
   "outputs": [],
   "source": [
    "# # Define the UDF to concatenate text or merged_text\n",
    "# def concatenate_texts(texts):\n",
    "#     return ' '.join(texts)\n",
    "\n",
    "# # Register the UDF\n",
    "# concatenate_texts_udf = udf(concatenate_texts, StringType())\n",
    "\n",
    "# # Group by 'conversation_id' and collect all 'text' and 'merged_text'\n",
    "# # df_concatenated_texts = df_with_start_time.groupBy('conversation_id').agg(collect_list('text').alias('merged_text'),\n",
    "# #                                                                               collect_list('merged_text').alias('merged_text_id'),\n",
    "# #                                                                           first('label').alias('label'),\n",
    "# #                                                                           first('source').alias('source'),\n",
    "# #                                                                           first('conversation_start_time').alias('conversation_start_time'),\n",
    "# #                                                                           first('n_people_in_conversation').alias('n_people_in_conversation').cast('int'))\\\n",
    "# #                                                                           .withColumn('type_conversation', when(col('n_people_in_conversation') == 1, 'Monologue')\\\n",
    "# #                                                                                                                 .when(col('n_people_in_conversation') == 2, 'Pair')\\\n",
    "# #                                                                                                                 .when(col('n_people_in_conversation') > 2, 'Group'))\\\n",
    "\n",
    "\n",
    "# df_concatenated_texts = df_with_start_time.groupBy('conversation_id').agg(concat_ws(\" \", collect_list('text')).alias('merged_text'),\n",
    "#                                                                           concat_ws(\" \", collect_list('merged_text')).alias('merged_text_id'),\n",
    "#                                                                           first('label').alias('label'),\n",
    "#                                                                           first('source').alias('source'),\n",
    "#                                                                           first('conversation_start_time').alias('conversation_start_time'),\n",
    "#                                                                           first('n_people_in_conversation').alias('n_people_in_conversation'))\\\n",
    "#                                                                           .withColumn('type_conversation', when(col('n_people_in_conversation') == 1, 'Monologue')\\\n",
    "#                                                                                                                 .when(col('n_people_in_conversation') == 2, 'Pair')\\\n",
    "#                                                                                                                 .when(col('n_people_in_conversation') > 2, 'Group'))\\\n",
    "#                                                                           .withColumn('n_texts', size(split(col('merged_text'), ' ')))\n",
    "\n",
    "\n",
    "# df_concatenated_texts.show(3, truncate=False)\n",
    "\n",
    "# # Apply the UDF to concatenate all text or merged_text for each conversation_id\n",
    "# df_concatenated_texts = df_concatenated_texts.withColumn('merged_text', concatenate_texts_udf('merged_text')) \\\n",
    "#                                              .withColumn('merged_text_id', concatenate_texts_udf('merged_text_id'))\n",
    "\n",
    "# df_concatenated_texts.show(3, truncate=False)\n",
    "# # Show the DataFrame with concatenated text and merged_text\n",
    "# df_concatenated_texts.show(truncate=False)\n",
    "\n",
    "\n",
    "\n",
    "# Add a new column with author name and text concatenated\n",
    "# pan12_training_final_merged_text = df_with_start_time.withColumn(\"author_text_concat\", concat(col(\"author\"), lit(\": \"), col(\"text\")))\\\n",
    "\n",
    "# pan12_training_final_merged_text = pan12_training_final_merged_text.groupby('conversation_id').agg(countDistinct('author').alias('n_people_in_conversation'),\n",
    "#                                                                                   first('time').alias('time'),\n",
    "#                                                                                   first('conversation_start_time').alias('conversation_start_time'),\n",
    "#                                                                                   first('label').alias('label'),\n",
    "#                                                                                   first('source').alias('source'),\n",
    "#                                                                                   first('n_texts').cast('int').alias('n_texts'),\n",
    "#                                                                                   concat_ws(\" \", collect_list('author_text_concat')).alias('merged_text_id'),\n",
    "#                                                                                   concat_ws(' ', collect_list('text')).alias('merged_text'))\\\n",
    "#                                                                                   .withColumn('type_conversation', when(col('n_people_in_conversation') == 1, 'Monologue')\\\n",
    "#                                                                                                                 .when(col('n_people_in_conversation') == 2, 'Pair')\\\n",
    "#                                                                                                                 .when(col('n_people_in_conversation') > 2, 'Group'))\\\n",
    "#                                                                                   .withColumn('n_people_in_conversation', col('n_people_in_conversation').cast('int'))\\\n",
    "#                                                                                       # .withColumn('merged_text', col('merged_text'))\\\n",
    "#                                                                                       # .drop('time')"
   ]
  },
  {
   "cell_type": "code",
   "execution_count": 30,
   "metadata": {
    "colab": {
     "base_uri": "https://localhost:8080/"
    },
    "executionInfo": {
     "elapsed": 37896,
     "status": "ok",
     "timestamp": 1708148974588,
     "user": {
      "displayName": "Sunny Shin",
      "userId": "07563865141827084443"
     },
     "user_tz": 480
    },
    "id": "C2DBCmFzbL3F",
    "outputId": "355d139f-5884-48d0-e4b3-f0c9debfe630"
   },
   "outputs": [],
   "source": [
    "# # specifying the column order\n",
    "# columns = ['conversation_id',\n",
    "# 'source',\n",
    "# 'label',\n",
    "# 'conversation_start_time',\n",
    "# 'n_people_in_conversation',\n",
    "# 'type_conversation',\n",
    "# 'merged_text',\n",
    "# 'merged_text_id',\n",
    "# 'n_texts']\n",
    "\n",
    "# pan12_training_final = df_concatenated_texts.select(columns)\n",
    "\n",
    "# # show the dataframe with the new column order\n",
    "# pan12_training_final.show(10, truncate=False)"
   ]
  },
  {
   "cell_type": "code",
   "execution_count": 31,
   "metadata": {
    "colab": {
     "base_uri": "https://localhost:8080/"
    },
    "executionInfo": {
     "elapsed": 198,
     "status": "ok",
     "timestamp": 1708062240489,
     "user": {
      "displayName": "Sunny Shin",
      "userId": "07563865141827084443"
     },
     "user_tz": 480
    },
    "id": "IE-SvRsdcC_j",
    "outputId": "7132bd19-b129-4cc0-c42f-b20b399599cc"
   },
   "outputs": [],
   "source": [
    "# pan12_training_final.printSchema()"
   ]
  },
  {
   "cell_type": "code",
   "execution_count": null,
   "metadata": {
    "id": "V4TGQ8zTcR_l"
   },
   "outputs": [],
   "source": [
    "# # save the file to show all the conversation at each chat level\n",
    "# # Define the path where the pan12_training_data can be saved\n",
    "# output_path = f'drive/MyDrive/210 Capstone/data/merged_data_texts/'\n",
    "\n",
    "# # Save the DataFrame to a json file\n",
    "# pan12_training_final.write.mode('append').parquet(output_path)"
   ]
  },
  {
   "cell_type": "markdown",
   "metadata": {
    "id": "fqqW2q-Q8PdP"
   },
   "source": [
    "#### A_b) Training with Conversations"
   ]
  },
  {
   "cell_type": "markdown",
   "metadata": {
    "id": "Fa2Zt5nrr1l7",
    "jp-MarkdownHeadingCollapsed": true
   },
   "source": [
    "##### A_b_1) confirm the dataset to modify"
   ]
  },
  {
   "cell_type": "code",
   "execution_count": 32,
   "metadata": {
    "colab": {
     "base_uri": "https://localhost:8080/"
    },
    "executionInfo": {
     "elapsed": 15810,
     "status": "ok",
     "timestamp": 1708200936530,
     "user": {
      "displayName": "Sunny Shin",
      "userId": "07563865141827084443"
     },
     "user_tz": 480
    },
    "id": "9g4r3GVl-3Ff",
    "outputId": "f2e0ed06-0946-42c3-c46a-a4be3436ef12"
   },
   "outputs": [],
   "source": [
    "# df_training_with_time_stamp.show(3, truncate=False)"
   ]
  },
  {
   "cell_type": "markdown",
   "metadata": {
    "id": "_XCotcZRszvB",
    "jp-MarkdownHeadingCollapsed": true
   },
   "source": [
    "##### A_b_2) add in the merged_text_id column, aggregate by the conversation_id and the number of texts (based on the merged_text column)"
   ]
  },
  {
   "cell_type": "code",
   "execution_count": 33,
   "metadata": {
    "executionInfo": {
     "elapsed": 208,
     "status": "ok",
     "timestamp": 1708715831829,
     "user": {
      "displayName": "Sunny Shin",
      "userId": "07563865141827084443"
     },
     "user_tz": 480
    },
    "id": "sofiywyM8OdP"
   },
   "outputs": [],
   "source": [
    "# # Add a new column with author name and text concatenated\n",
    "# # pan12_training_final_merged_text = df_with_start_time.withColumn(\"author_text_concat\", concat(col(\"author\"), lit(\": \"), col(\"text\")))\\\n",
    "\n",
    "# pan12_training_with_conversations = df_training_with_time_stamp.groupby('conversation_id').agg(concat_ws(\" \", collect_list('merged_text')).alias('merged_text_id'),\n",
    "#                                                                                   concat_ws(' ', collect_list('text')).alias('merged_text'),\n",
    "#                                                                                   first('label').alias('label'),\n",
    "#                                                                                   first('source').alias('source'),\n",
    "#                                                                                   first('conversation_start_time').alias('conversation_start_time'),\n",
    "#                                                                                   first('n_people_in_conversation').alias('n_people_in_conversation'),\n",
    "#                                                                                   first('type_conversation').alias('type_conversation'))\\\n",
    "#                                                                                   .withColumn('n_texts', size(split(col('merged_text'), ' ')))\\\n",
    "#                                                                                   .drop('conversation_history')"
   ]
  },
  {
   "cell_type": "code",
   "execution_count": 34,
   "metadata": {
    "colab": {
     "base_uri": "https://localhost:8080/"
    },
    "executionInfo": {
     "elapsed": 30951,
     "status": "ok",
     "timestamp": 1708715910557,
     "user": {
      "displayName": "Sunny Shin",
      "userId": "07563865141827084443"
     },
     "user_tz": 480
    },
    "id": "rW436YvPZoUi",
    "outputId": "5e5261aa-8c92-4de7-aa92-cc11d0522356"
   },
   "outputs": [],
   "source": [
    "# pan12_training_with_conversations_predator = pan12_training_with_conversations.filter(pan12_training_with_conversations['label'] == 1)\n",
    "# pan12_training_with_conversations_predator.show(10, truncate=False)"
   ]
  },
  {
   "cell_type": "code",
   "execution_count": 35,
   "metadata": {
    "colab": {
     "base_uri": "https://localhost:8080/"
    },
    "executionInfo": {
     "elapsed": 21950,
     "status": "ok",
     "timestamp": 1708202704176,
     "user": {
      "displayName": "Sunny Shin",
      "userId": "07563865141827084443"
     },
     "user_tz": 480
    },
    "id": "tkfsOKnvyUdq",
    "outputId": "ee473277-7d80-4102-bf8b-2b021c5d03e5"
   },
   "outputs": [],
   "source": [
    "# pan12_training_with_conversations.show(2, truncate=False)"
   ]
  },
  {
   "cell_type": "markdown",
   "metadata": {
    "id": "B0wXOc0dsDWv",
    "jp-MarkdownHeadingCollapsed": true
   },
   "source": [
    "##### A_b_3) change the column order and check the datatypes"
   ]
  },
  {
   "cell_type": "code",
   "execution_count": 36,
   "metadata": {
    "id": "5UMOB_AsQrv9"
   },
   "outputs": [],
   "source": [
    "# # specifying the column order\n",
    "# columns = ['conversation_id',\n",
    "# 'source',\n",
    "# 'label',\n",
    "# 'conversation_start_time',\n",
    "# 'n_people_in_conversation',\n",
    "# 'type_conversation',\n",
    "# 'merged_text',\n",
    "# 'merged_text_id',\n",
    "# 'n_texts']\n",
    "\n",
    "# pan12_training_with_conversations = pan12_training_with_conversations.select(columns)"
   ]
  },
  {
   "cell_type": "code",
   "execution_count": 37,
   "metadata": {
    "colab": {
     "base_uri": "https://localhost:8080/"
    },
    "executionInfo": {
     "elapsed": 22853,
     "status": "ok",
     "timestamp": 1708544487242,
     "user": {
      "displayName": "Sunny Shin",
      "userId": "07563865141827084443"
     },
     "user_tz": 480
    },
    "id": "Xy4uvHk4sAk3",
    "outputId": "937796d2-04bf-45e9-9212-686e05c83b19"
   },
   "outputs": [],
   "source": [
    "# show the dataframe with the new column order\n",
    "# pan12_training_with_conversations.show(3, truncate=False)"
   ]
  },
  {
   "cell_type": "code",
   "execution_count": 38,
   "metadata": {
    "colab": {
     "base_uri": "https://localhost:8080/"
    },
    "executionInfo": {
     "elapsed": 210,
     "status": "ok",
     "timestamp": 1708544490985,
     "user": {
      "displayName": "Sunny Shin",
      "userId": "07563865141827084443"
     },
     "user_tz": 480
    },
    "id": "qUFzuenDMP3N",
    "outputId": "1ec4aa70-d90a-4585-e420-98042902c56d"
   },
   "outputs": [],
   "source": [
    "# pan12_training_with_conversations.printSchema()"
   ]
  },
  {
   "cell_type": "markdown",
   "metadata": {
    "id": "wMc8aKjasOq4",
    "jp-MarkdownHeadingCollapsed": true
   },
   "source": [
    "##### A_b_4) save the file to gDrive"
   ]
  },
  {
   "cell_type": "code",
   "execution_count": 40,
   "metadata": {
    "id": "q-LGgiU4GUgj"
   },
   "outputs": [],
   "source": [
    "# # Define the path where the pan12_training_data can be saved\n",
    "# output_path = f'drive/MyDrive/210 Capstone/data/final/merged_data_conversations/'\n",
    "\n",
    "# # Save the DataFrame to a json file\n",
    "# pan12_training_with_conversations.write.mode('append').parquet(output_path)"
   ]
  },
  {
   "cell_type": "markdown",
   "metadata": {
    "id": "OJdMe9tgsVTk"
   },
   "source": [
    "##### A_b_5) confirm the count of data points"
   ]
  },
  {
   "cell_type": "code",
   "execution_count": 39,
   "metadata": {
    "colab": {
     "base_uri": "https://localhost:8080/"
    },
    "executionInfo": {
     "elapsed": 7083,
     "status": "ok",
     "timestamp": 1708202785014,
     "user": {
      "displayName": "Sunny Shin",
      "userId": "07563865141827084443"
     },
     "user_tz": 480
    },
    "id": "nLoj_-5BpqZr",
    "outputId": "044f0738-4042-4976-8ad5-e162b7a2d8a5"
   },
   "outputs": [],
   "source": [
    "# pan12_training_with_conversations.groupBy('source')\\\n",
    "#   .agg(count('conversation_id').alias('count'))\\\n",
    "#   .show(truncate = False)"
   ]
  },
  {
   "cell_type": "markdown",
   "metadata": {
    "id": "Sz4116BENhgu",
    "jp-MarkdownHeadingCollapsed": true
   },
   "source": [
    "### *B) PAN12 Test Dataset*"
   ]
  },
  {
   "cell_type": "markdown",
   "metadata": {
    "id": "_uo4YKDpmx1X"
   },
   "source": [
    "#### B_a) Test with Timestamps"
   ]
  },
  {
   "cell_type": "markdown",
   "metadata": {
    "id": "VoWVgaaX1dZ-",
    "jp-MarkdownHeadingCollapsed": true
   },
   "source": [
    "##### B_a_1) extracting conversation_id, author, time, text from the raw data"
   ]
  },
  {
   "cell_type": "code",
   "execution_count": null,
   "metadata": {
    "executionInfo": {
     "elapsed": 71346,
     "status": "ok",
     "timestamp": 1708716439738,
     "user": {
      "displayName": "Sunny Shin",
      "userId": "07563865141827084443"
     },
     "user_tz": 480
    },
    "id": "Z_HtD1oJ0onB"
   },
   "outputs": [],
   "source": [
    "# # Iterate through the XML tree and extract data\n",
    "# test_xml_data = []\n",
    "\n",
    "# for conversation in test_root.findall('conversation'):\n",
    "#   for message in conversation.findall('message'):\n",
    "#     author = message.find('author').text\n",
    "#     time = message.find('time').text\n",
    "#     text = message.find('text').text\n",
    "\n",
    "#     # Append data to list\n",
    "#     test_xml_data.append((conversation.get('id'), author, time, text))\n",
    "\n",
    "# # Create DataFrame from list of tuples\n",
    "# pan12_test_df = spark.createDataFrame(test_xml_data, ['conversation_id', 'author', 'time', 'text'])"
   ]
  },
  {
   "cell_type": "markdown",
   "metadata": {
    "id": "2En-FtYr1l8N",
    "jp-MarkdownHeadingCollapsed": true
   },
   "source": [
    "##### B_a_2) look up the label, add label/source and create merged_text column('author':'text')"
   ]
  },
  {
   "cell_type": "code",
   "execution_count": 6,
   "metadata": {
    "executionInfo": {
     "elapsed": 1747,
     "status": "ok",
     "timestamp": 1708716489325,
     "user": {
      "displayName": "Sunny Shin",
      "userId": "07563865141827084443"
     },
     "user_tz": 480
    },
    "id": "q36jMvWy1ljI"
   },
   "outputs": [],
   "source": [
    "# # # Load list of author IDs from the text file\n",
    "# # with open('s3a://capstone210/data/pan12/test_text.txt', 'r') as f:\n",
    "# #     predator_ids = [line.strip() for line in f]\n",
    "\n",
    "# # Load list of author IDs from the text file\n",
    "# predator_ids_df = spark.read.text('s3a://capstone210/data/pan12/test_text.txt')\n",
    "\n",
    "# # Extract predator IDs from the DataFrame\n",
    "# predator_ids = [row.value.strip() for row in predator_ids_df.collect()]\n",
    "\n",
    "# # Broadcast the list of author IDs to all Spark executors for efficient lookup\n",
    "# broadcast_predator_ids = spark.sparkContext.broadcast(predator_ids)\n",
    "\n",
    "# pan12_test_df_2 = pan12_test_df.withColumn('label', lit(1).alias('label'))\\\n",
    "#                                      .withColumn('source', lit('PAN12-test').alias('source'))\\\n",
    "#                                       .withColumn('label', when(col('author').isin(broadcast_predator_ids.value), 1).otherwise(0))\\\n",
    "#                                       .withColumn('merged_text', concat_ws(\": \", col('author'), col('text')))"
   ]
  },
  {
   "cell_type": "markdown",
   "metadata": {
    "id": "gl3fya8d2GCN",
    "jp-MarkdownHeadingCollapsed": true
   },
   "source": [
    "##### B_a_3) add in a conversation start time to the table"
   ]
  },
  {
   "cell_type": "code",
   "execution_count": 41,
   "metadata": {
    "executionInfo": {
     "elapsed": 280,
     "status": "ok",
     "timestamp": 1708716491381,
     "user": {
      "displayName": "Sunny Shin",
      "userId": "07563865141827084443"
     },
     "user_tz": 480
    },
    "id": "Nyyldhjk2O4Z"
   },
   "outputs": [],
   "source": [
    "# # Define a window partitioned by 'conversation_id' and ordered by 'time'\n",
    "# window_spec = Window.partitionBy('conversation_id').orderBy('time')\n",
    "\n",
    "# # Add a new column with the start time of the conversation\n",
    "# df_test_with_start_time = pan12_test_df.withColumn('conversation_start_time', first('time').over(window_spec))"
   ]
  },
  {
   "cell_type": "code",
   "execution_count": 9,
   "metadata": {},
   "outputs": [
    {
     "name": "stderr",
     "output_type": "stream",
     "text": [
      "[Stage 6:>                                                          (0 + 1) / 1]\r"
     ]
    },
    {
     "name": "stdout",
     "output_type": "stream",
     "text": [
      "+--------------------+--------------------+-----+----+-----+----------+--------------------+-----------------------+\n",
      "|     conversation_id|              author| time|text|label|    source|         merged_text|conversation_start_time|\n",
      "+--------------------+--------------------+-----+----+-----+----------+--------------------+-----------------------+\n",
      "|000049c4530615e68...|53a66119381d88719...|07:26|  hi|    0|PAN12-test|53a66119381d88719...|                  07:26|\n",
      "|000049c4530615e68...|1c8edb8bfd4b3f9ec...|07:26|  hi|    0|PAN12-test|1c8edb8bfd4b3f9ec...|                  07:26|\n",
      "|000049c4530615e68...|1c8edb8bfd4b3f9ec...|07:26| fr?|    0|PAN12-test|1c8edb8bfd4b3f9ec...|                  07:26|\n",
      "+--------------------+--------------------+-----+----+-----+----------+--------------------+-----------------------+\n",
      "only showing top 3 rows\n",
      "\n"
     ]
    },
    {
     "name": "stderr",
     "output_type": "stream",
     "text": [
      "                                                                                \r"
     ]
    }
   ],
   "source": [
    "# df_test_with_start_time.show(3)"
   ]
  },
  {
   "cell_type": "markdown",
   "metadata": {
    "id": "FNCzRGbb25OY",
    "jp-MarkdownHeadingCollapsed": true
   },
   "source": [
    "##### B_a_4) add in number of people in the conversation and the type of conversation"
   ]
  },
  {
   "cell_type": "code",
   "execution_count": 44,
   "metadata": {},
   "outputs": [],
   "source": [
    "# df_test_with_start_time.groupBy('source')\\\n",
    "#   .agg(count('conversation_id').alias('count'))\\\n",
    "#   .show(truncate = False)"
   ]
  },
  {
   "cell_type": "code",
   "execution_count": 42,
   "metadata": {},
   "outputs": [],
   "source": [
    "# # Count unique authors for each conversation\n",
    "# unique_authors_per_conversation = df_test_with_start_time.select(\"conversation_id\", \"author\") \\\n",
    "#                                              .groupBy(\"conversation_id\") \\\n",
    "#                                              .agg(countDistinct(\"author\").alias(\"n_people_in_conversation\"))\n",
    "\n",
    "# # Join the unique author count with the original DataFrame\n",
    "# pan12_test_with_conversations = df_test_with_start_time.join(unique_authors_per_conversation, \"conversation_id\", \"left\")"
   ]
  },
  {
   "cell_type": "code",
   "execution_count": 45,
   "metadata": {},
   "outputs": [],
   "source": [
    "# pan12_test_with_conversations.show(3)"
   ]
  },
  {
   "cell_type": "code",
   "execution_count": 11,
   "metadata": {
    "executionInfo": {
     "elapsed": 846,
     "status": "ok",
     "timestamp": 1708716494372,
     "user": {
      "displayName": "Sunny Shin",
      "userId": "07563865141827084443"
     },
     "user_tz": 480
    },
    "id": "Ibq6bpQY3CyF"
   },
   "outputs": [],
   "source": [
    "# # Define the UDF as a separate function\n",
    "# @pandas_udf(returnType=IntegerType())\n",
    "# def count_unique_authors(authors):\n",
    "#     return len(set(authors))\n",
    "\n",
    "# # Register the UDF\n",
    "# count_unique_authors_udf = count_unique_authors\n",
    "\n",
    "# # # Register the UDF\n",
    "# # count_unique_authors_udf = udf(lambda authors: len(set(authors)), IntegerType())\n",
    "\n",
    "# # Group by 'conversation_id' and apply the UDF to count unique authors\n",
    "# df_test_with_unique_authors_count = df_test_with_start_time.groupBy('conversation_id') \\\n",
    "#                                                  .agg(count_unique_authors_udf(collect_list('author')).alias('n_people_in_conversation'))\\\n",
    "#                                                  .withColumn('type_conversation', when(col('n_people_in_conversation') == 1, 'Monologue')\\\n",
    "#                                                                                                                 .when(col('n_people_in_conversation') == 2, 'Pair')\\\n",
    "#                                                                                                                 .when(col('n_people_in_conversation') > 2, 'Group'))\n",
    "\n",
    "# # Join the result back to the original DataFrame\n",
    "# df_test_with_start_time = df_test_with_start_time.join(df_test_with_unique_authors_count, 'conversation_id', 'left')\n"
   ]
  },
  {
   "cell_type": "markdown",
   "metadata": {
    "id": "sTqzhiIp4wZA",
    "jp-MarkdownHeadingCollapsed": true
   },
   "source": [
    "##### B_a_5) add in the conversation_history to show the staggered chats"
   ]
  },
  {
   "cell_type": "code",
   "execution_count": 31,
   "metadata": {
    "executionInfo": {
     "elapsed": 537,
     "status": "ok",
     "timestamp": 1708716496483,
     "user": {
      "displayName": "Sunny Shin",
      "userId": "07563865141827084443"
     },
     "user_tz": 480
    },
    "id": "7kP-Vu8w46L9"
   },
   "outputs": [],
   "source": [
    "# # Add previous texts\n",
    "# window = Window.partitionBy(\"conversation_id\").orderBy(\"time\").rowsBetween(Window.unboundedPreceding, -1)\n",
    "\n",
    "# df_test_with_time_stamp = df_test_with_start_time.withColumn(\"conversation_history_list\", collect_list(col(\"merged_text\")).over(window))\\\n",
    "#     .withColumn(\"conversation_history\", UDF_merge_list_text(col(\"conversation_history_list\")))\\\n",
    "#     .drop(\"conversation_history_list\")\\\n",
    "#     .withColumn('n_texts', size(split(col('merged_text'), ' ')))"
   ]
  },
  {
   "cell_type": "markdown",
   "metadata": {
    "id": "8aiOCpEH5RCE",
    "jp-MarkdownHeadingCollapsed": true
   },
   "source": [
    "##### B_a_6) change the column order and check the datatypes"
   ]
  },
  {
   "cell_type": "code",
   "execution_count": null,
   "metadata": {
    "id": "Y0gvqwP-5QKt"
   },
   "outputs": [],
   "source": [
    "# # specifying the column order\n",
    "# columns = ['conversation_id',\n",
    "# 'source',\n",
    "# 'label',\n",
    "# 'conversation_start_time',\n",
    "# 'n_people_in_conversation',\n",
    "# 'type_conversation',\n",
    "# 'merged_text',\n",
    "# 'author',\n",
    "# 'time',\n",
    "# 'conversation_history']\n",
    "\n",
    "# pan12_test_with_timestamp = df_test_with_time_stamp.select(columns)"
   ]
  },
  {
   "cell_type": "code",
   "execution_count": null,
   "metadata": {
    "colab": {
     "base_uri": "https://localhost:8080/"
    },
    "executionInfo": {
     "elapsed": 169,
     "status": "ok",
     "timestamp": 1708383777730,
     "user": {
      "displayName": "Sunny Shin",
      "userId": "07563865141827084443"
     },
     "user_tz": 480
    },
    "id": "0RECvVjV5gWj",
    "outputId": "3f25fc48-ed65-4747-ee61-a67979d9f49c"
   },
   "outputs": [
    {
     "name": "stdout",
     "output_type": "stream",
     "text": [
      "root\n",
      " |-- conversation_id: string (nullable = true)\n",
      " |-- source: string (nullable = false)\n",
      " |-- label: integer (nullable = false)\n",
      " |-- conversation_start_time: string (nullable = true)\n",
      " |-- n_people_in_conversation: integer (nullable = true)\n",
      " |-- type_conversation: string (nullable = true)\n",
      " |-- merged_text: string (nullable = false)\n",
      " |-- author: string (nullable = true)\n",
      " |-- time: string (nullable = true)\n",
      " |-- conversation_history: string (nullable = true)\n",
      "\n"
     ]
    }
   ],
   "source": [
    "# pan12_test_with_timestamp.printSchema()"
   ]
  },
  {
   "cell_type": "code",
   "execution_count": null,
   "metadata": {
    "id": "DG496gRf56iC"
   },
   "outputs": [],
   "source": [
    "# pan12_test_with_timestamp.show(2, truncate=False)"
   ]
  },
  {
   "cell_type": "markdown",
   "metadata": {
    "id": "10RVvrfN5oqz",
    "jp-MarkdownHeadingCollapsed": true
   },
   "source": [
    "##### B_a_7) save the file to gDrive"
   ]
  },
  {
   "cell_type": "code",
   "execution_count": null,
   "metadata": {
    "id": "zQqjHE5x5v5J"
   },
   "outputs": [],
   "source": [
    "# # spliting the dataframes into two dataframes\n",
    "# weights = [.3, .3, .2, .2]\n",
    "# splits = pan12_test_with_timestamp.randomSplit(weights, seed=None)"
   ]
  },
  {
   "cell_type": "code",
   "execution_count": null,
   "metadata": {
    "colab": {
     "base_uri": "https://localhost:8080/",
     "height": 1000
    },
    "executionInfo": {
     "elapsed": 206146,
     "status": "error",
     "timestamp": 1708383988209,
     "user": {
      "displayName": "Sunny Shin",
      "userId": "07563865141827084443"
     },
     "user_tz": 480
    },
    "id": "2c5_NGLE5zGV",
    "outputId": "e43a2ef6-fb44-46db-fe6b-18f8c61f529b"
   },
   "outputs": [
    {
     "name": "stderr",
     "output_type": "stream",
     "text": [
      "----------------------------------------\n",
      "Exception occurred during processing of request from ('127.0.0.1', 37118)\n",
      "ERROR:root:Exception while sending command.\n",
      "Traceback (most recent call last):\n",
      "  File \"/usr/local/lib/python3.10/dist-packages/IPython/core/interactiveshell.py\", line 3553, in run_code\n",
      "    exec(code_obj, self.user_global_ns, self.user_ns)\n",
      "  File \"<ipython-input-18-1303cdcd3a9b>\", line 6, in <cell line: 6>\n",
      "    splits[1].write.mode('append').parquet(output_path)\n",
      "  File \"/content/spark-3.5.0-bin-hadoop3/python/pyspark/sql/readwriter.py\", line 1721, in parquet\n",
      "    self._jwrite.parquet(path)\n",
      "  File \"/content/spark-3.5.0-bin-hadoop3/python/lib/py4j-0.10.9.7-src.zip/py4j/java_gateway.py\", line 1322, in __call__\n",
      "    return_value = get_return_value(\n",
      "  File \"/content/spark-3.5.0-bin-hadoop3/python/pyspark/errors/exceptions/captured.py\", line 179, in deco\n",
      "    return f(*a, **kw)\n",
      "  File \"/content/spark-3.5.0-bin-hadoop3/python/lib/py4j-0.10.9.7-src.zip/py4j/protocol.py\", line 326, in get_return_value\n",
      "    raise Py4JJavaError(\n",
      "py4j.protocol.Py4JJavaError: <unprintable Py4JJavaError object>\n",
      "\n",
      "During handling of the above exception, another exception occurred:\n",
      "\n",
      "Traceback (most recent call last):\n",
      "  File \"/usr/local/lib/python3.10/dist-packages/IPython/core/interactiveshell.py\", line 2099, in showtraceback\n",
      "    stb = value._render_traceback_()\n",
      "AttributeError: 'Py4JJavaError' object has no attribute '_render_traceback_'\n",
      "\n",
      "During handling of the above exception, another exception occurred:\n",
      "\n",
      "Traceback (most recent call last):\n",
      "  File \"/content/spark-3.5.0-bin-hadoop3/python/lib/py4j-0.10.9.7-src.zip/py4j/clientserver.py\", line 516, in send_command\n",
      "    raise Py4JNetworkError(\"Answer from Java side is empty\")\n",
      "py4j.protocol.Py4JNetworkError: Answer from Java side is empty\n",
      "\n",
      "During handling of the above exception, another exception occurred:\n",
      "\n",
      "Traceback (most recent call last):\n",
      "  File \"/content/spark-3.5.0-bin-hadoop3/python/lib/py4j-0.10.9.7-src.zip/py4j/java_gateway.py\", line 1038, in send_command\n",
      "    response = connection.send_command(command)\n",
      "  File \"/content/spark-3.5.0-bin-hadoop3/python/lib/py4j-0.10.9.7-src.zip/py4j/clientserver.py\", line 539, in send_command\n",
      "    raise Py4JNetworkError(\n",
      "py4j.protocol.Py4JNetworkError: Error while sending or receiving\n",
      "Traceback (most recent call last):\n",
      "  File \"/usr/lib/python3.10/socketserver.py\", line 316, in _handle_request_noblock\n",
      "    self.process_request(request, client_address)\n",
      "  File \"/usr/lib/python3.10/socketserver.py\", line 347, in process_request\n",
      "    self.finish_request(request, client_address)\n",
      "  File \"/usr/lib/python3.10/socketserver.py\", line 360, in finish_request\n",
      "    self.RequestHandlerClass(request, client_address, self)\n",
      "  File \"/usr/lib/python3.10/socketserver.py\", line 747, in __init__\n",
      "    self.handle()\n",
      "  File \"/content/spark-3.5.0-bin-hadoop3/python/pyspark/accumulators.py\", line 295, in handle\n",
      "    poll(accum_updates)\n",
      "  File \"/content/spark-3.5.0-bin-hadoop3/python/pyspark/accumulators.py\", line 267, in poll\n",
      "    if self.rfile in r and func():\n",
      "  File \"/content/spark-3.5.0-bin-hadoop3/python/pyspark/accumulators.py\", line 271, in accum_updates\n",
      "    num_updates = read_int(self.rfile)\n",
      "  File \"/content/spark-3.5.0-bin-hadoop3/python/pyspark/serializers.py\", line 596, in read_int\n",
      "    raise EOFError\n",
      "EOFError\n",
      "----------------------------------------\n"
     ]
    },
    {
     "ename": "ConnectionRefusedError",
     "evalue": "[Errno 111] Connection refused",
     "output_type": "error",
     "traceback": [
      "\u001b[0;31m---------------------------------------------------------------------------\u001b[0m",
      "\u001b[0;31mPy4JJavaError\u001b[0m                             Traceback (most recent call last)",
      "    \u001b[0;31m[... skipping hidden 1 frame]\u001b[0m\n",
      "\u001b[0;32m<ipython-input-18-1303cdcd3a9b>\u001b[0m in \u001b[0;36m<cell line: 6>\u001b[0;34m()\u001b[0m\n\u001b[1;32m      5\u001b[0m \u001b[0msplits\u001b[0m\u001b[0;34m[\u001b[0m\u001b[0;36m0\u001b[0m\u001b[0;34m]\u001b[0m\u001b[0;34m.\u001b[0m\u001b[0mwrite\u001b[0m\u001b[0;34m.\u001b[0m\u001b[0mmode\u001b[0m\u001b[0;34m(\u001b[0m\u001b[0;34m'append'\u001b[0m\u001b[0;34m)\u001b[0m\u001b[0;34m.\u001b[0m\u001b[0mparquet\u001b[0m\u001b[0;34m(\u001b[0m\u001b[0moutput_path\u001b[0m\u001b[0;34m)\u001b[0m\u001b[0;34m\u001b[0m\u001b[0;34m\u001b[0m\u001b[0m\n\u001b[0;32m----> 6\u001b[0;31m \u001b[0msplits\u001b[0m\u001b[0;34m[\u001b[0m\u001b[0;36m1\u001b[0m\u001b[0;34m]\u001b[0m\u001b[0;34m.\u001b[0m\u001b[0mwrite\u001b[0m\u001b[0;34m.\u001b[0m\u001b[0mmode\u001b[0m\u001b[0;34m(\u001b[0m\u001b[0;34m'append'\u001b[0m\u001b[0;34m)\u001b[0m\u001b[0;34m.\u001b[0m\u001b[0mparquet\u001b[0m\u001b[0;34m(\u001b[0m\u001b[0moutput_path\u001b[0m\u001b[0;34m)\u001b[0m\u001b[0;34m\u001b[0m\u001b[0;34m\u001b[0m\u001b[0m\n\u001b[0m\u001b[1;32m      7\u001b[0m \u001b[0msplits\u001b[0m\u001b[0;34m[\u001b[0m\u001b[0;36m2\u001b[0m\u001b[0;34m]\u001b[0m\u001b[0;34m.\u001b[0m\u001b[0mwrite\u001b[0m\u001b[0;34m.\u001b[0m\u001b[0mmode\u001b[0m\u001b[0;34m(\u001b[0m\u001b[0;34m'append'\u001b[0m\u001b[0;34m)\u001b[0m\u001b[0;34m.\u001b[0m\u001b[0mparquet\u001b[0m\u001b[0;34m(\u001b[0m\u001b[0moutput_path\u001b[0m\u001b[0;34m)\u001b[0m\u001b[0;34m\u001b[0m\u001b[0;34m\u001b[0m\u001b[0m\n",
      "\u001b[0;32m/content/spark-3.5.0-bin-hadoop3/python/pyspark/sql/readwriter.py\u001b[0m in \u001b[0;36mparquet\u001b[0;34m(self, path, mode, partitionBy, compression)\u001b[0m\n\u001b[1;32m   1720\u001b[0m         \u001b[0mself\u001b[0m\u001b[0;34m.\u001b[0m\u001b[0m_set_opts\u001b[0m\u001b[0;34m(\u001b[0m\u001b[0mcompression\u001b[0m\u001b[0;34m=\u001b[0m\u001b[0mcompression\u001b[0m\u001b[0;34m)\u001b[0m\u001b[0;34m\u001b[0m\u001b[0;34m\u001b[0m\u001b[0m\n\u001b[0;32m-> 1721\u001b[0;31m         \u001b[0mself\u001b[0m\u001b[0;34m.\u001b[0m\u001b[0m_jwrite\u001b[0m\u001b[0;34m.\u001b[0m\u001b[0mparquet\u001b[0m\u001b[0;34m(\u001b[0m\u001b[0mpath\u001b[0m\u001b[0;34m)\u001b[0m\u001b[0;34m\u001b[0m\u001b[0;34m\u001b[0m\u001b[0m\n\u001b[0m\u001b[1;32m   1722\u001b[0m \u001b[0;34m\u001b[0m\u001b[0m\n",
      "\u001b[0;32m/content/spark-3.5.0-bin-hadoop3/python/lib/py4j-0.10.9.7-src.zip/py4j/java_gateway.py\u001b[0m in \u001b[0;36m__call__\u001b[0;34m(self, *args)\u001b[0m\n\u001b[1;32m   1321\u001b[0m         \u001b[0manswer\u001b[0m \u001b[0;34m=\u001b[0m \u001b[0mself\u001b[0m\u001b[0;34m.\u001b[0m\u001b[0mgateway_client\u001b[0m\u001b[0;34m.\u001b[0m\u001b[0msend_command\u001b[0m\u001b[0;34m(\u001b[0m\u001b[0mcommand\u001b[0m\u001b[0;34m)\u001b[0m\u001b[0;34m\u001b[0m\u001b[0;34m\u001b[0m\u001b[0m\n\u001b[0;32m-> 1322\u001b[0;31m         return_value = get_return_value(\n\u001b[0m\u001b[1;32m   1323\u001b[0m             answer, self.gateway_client, self.target_id, self.name)\n",
      "\u001b[0;32m/content/spark-3.5.0-bin-hadoop3/python/pyspark/errors/exceptions/captured.py\u001b[0m in \u001b[0;36mdeco\u001b[0;34m(*a, **kw)\u001b[0m\n\u001b[1;32m    178\u001b[0m         \u001b[0;32mtry\u001b[0m\u001b[0;34m:\u001b[0m\u001b[0;34m\u001b[0m\u001b[0;34m\u001b[0m\u001b[0m\n\u001b[0;32m--> 179\u001b[0;31m             \u001b[0;32mreturn\u001b[0m \u001b[0mf\u001b[0m\u001b[0;34m(\u001b[0m\u001b[0;34m*\u001b[0m\u001b[0ma\u001b[0m\u001b[0;34m,\u001b[0m \u001b[0;34m**\u001b[0m\u001b[0mkw\u001b[0m\u001b[0;34m)\u001b[0m\u001b[0;34m\u001b[0m\u001b[0;34m\u001b[0m\u001b[0m\n\u001b[0m\u001b[1;32m    180\u001b[0m         \u001b[0;32mexcept\u001b[0m \u001b[0mPy4JJavaError\u001b[0m \u001b[0;32mas\u001b[0m \u001b[0me\u001b[0m\u001b[0;34m:\u001b[0m\u001b[0;34m\u001b[0m\u001b[0;34m\u001b[0m\u001b[0m\n",
      "\u001b[0;32m/content/spark-3.5.0-bin-hadoop3/python/lib/py4j-0.10.9.7-src.zip/py4j/protocol.py\u001b[0m in \u001b[0;36mget_return_value\u001b[0;34m(answer, gateway_client, target_id, name)\u001b[0m\n\u001b[1;32m    325\u001b[0m             \u001b[0;32mif\u001b[0m \u001b[0manswer\u001b[0m\u001b[0;34m[\u001b[0m\u001b[0;36m1\u001b[0m\u001b[0;34m]\u001b[0m \u001b[0;34m==\u001b[0m \u001b[0mREFERENCE_TYPE\u001b[0m\u001b[0;34m:\u001b[0m\u001b[0;34m\u001b[0m\u001b[0;34m\u001b[0m\u001b[0m\n\u001b[0;32m--> 326\u001b[0;31m                 raise Py4JJavaError(\n\u001b[0m\u001b[1;32m    327\u001b[0m                     \u001b[0;34m\"An error occurred while calling {0}{1}{2}.\\n\"\u001b[0m\u001b[0;34m.\u001b[0m\u001b[0;34m\u001b[0m\u001b[0;34m\u001b[0m\u001b[0m\n",
      "\u001b[0;31m<class 'str'>\u001b[0m: (<class 'ConnectionRefusedError'>, ConnectionRefusedError(111, 'Connection refused'))",
      "\nDuring handling of the above exception, another exception occurred:\n",
      "\u001b[0;31mConnectionRefusedError\u001b[0m                    Traceback (most recent call last)",
      "    \u001b[0;31m[... skipping hidden 1 frame]\u001b[0m\n",
      "\u001b[0;32m/usr/local/lib/python3.10/dist-packages/IPython/core/interactiveshell.py\u001b[0m in \u001b[0;36mshowtraceback\u001b[0;34m(self, exc_tuple, filename, tb_offset, exception_only, running_compiled_code)\u001b[0m\n\u001b[1;32m   2102\u001b[0m                                             value, tb, tb_offset=tb_offset)\n\u001b[1;32m   2103\u001b[0m \u001b[0;34m\u001b[0m\u001b[0m\n\u001b[0;32m-> 2104\u001b[0;31m                     \u001b[0mself\u001b[0m\u001b[0;34m.\u001b[0m\u001b[0m_showtraceback\u001b[0m\u001b[0;34m(\u001b[0m\u001b[0metype\u001b[0m\u001b[0;34m,\u001b[0m \u001b[0mvalue\u001b[0m\u001b[0;34m,\u001b[0m \u001b[0mstb\u001b[0m\u001b[0;34m)\u001b[0m\u001b[0;34m\u001b[0m\u001b[0;34m\u001b[0m\u001b[0m\n\u001b[0m\u001b[1;32m   2105\u001b[0m                     \u001b[0;32mif\u001b[0m \u001b[0mself\u001b[0m\u001b[0;34m.\u001b[0m\u001b[0mcall_pdb\u001b[0m\u001b[0;34m:\u001b[0m\u001b[0;34m\u001b[0m\u001b[0;34m\u001b[0m\u001b[0m\n\u001b[1;32m   2106\u001b[0m                         \u001b[0;31m# drop into debugger\u001b[0m\u001b[0;34m\u001b[0m\u001b[0;34m\u001b[0m\u001b[0m\n",
      "\u001b[0;32m/usr/local/lib/python3.10/dist-packages/google/colab/_shell.py\u001b[0m in \u001b[0;36m_showtraceback\u001b[0;34m(self, etype, evalue, stb)\u001b[0m\n\u001b[1;32m    132\u001b[0m         \u001b[0;34m'traceback'\u001b[0m\u001b[0;34m:\u001b[0m \u001b[0mstb\u001b[0m\u001b[0;34m,\u001b[0m\u001b[0;34m\u001b[0m\u001b[0;34m\u001b[0m\u001b[0m\n\u001b[1;32m    133\u001b[0m         \u001b[0;34m'ename'\u001b[0m\u001b[0;34m:\u001b[0m \u001b[0mpy3compat\u001b[0m\u001b[0;34m.\u001b[0m\u001b[0municode_type\u001b[0m\u001b[0;34m(\u001b[0m\u001b[0metype\u001b[0m\u001b[0;34m.\u001b[0m\u001b[0m__name__\u001b[0m\u001b[0;34m)\u001b[0m\u001b[0;34m,\u001b[0m\u001b[0;34m\u001b[0m\u001b[0;34m\u001b[0m\u001b[0m\n\u001b[0;32m--> 134\u001b[0;31m         \u001b[0;34m'evalue'\u001b[0m\u001b[0;34m:\u001b[0m \u001b[0mpy3compat\u001b[0m\u001b[0;34m.\u001b[0m\u001b[0msafe_unicode\u001b[0m\u001b[0;34m(\u001b[0m\u001b[0mevalue\u001b[0m\u001b[0;34m)\u001b[0m\u001b[0;34m,\u001b[0m\u001b[0;34m\u001b[0m\u001b[0;34m\u001b[0m\u001b[0m\n\u001b[0m\u001b[1;32m    135\u001b[0m     }\n\u001b[1;32m    136\u001b[0m \u001b[0;34m\u001b[0m\u001b[0m\n",
      "\u001b[0;32m/usr/local/lib/python3.10/dist-packages/ipython_genutils/py3compat.py\u001b[0m in \u001b[0;36msafe_unicode\u001b[0;34m(e)\u001b[0m\n\u001b[1;32m     63\u001b[0m     \"\"\"\n\u001b[1;32m     64\u001b[0m     \u001b[0;32mtry\u001b[0m\u001b[0;34m:\u001b[0m\u001b[0;34m\u001b[0m\u001b[0;34m\u001b[0m\u001b[0m\n\u001b[0;32m---> 65\u001b[0;31m         \u001b[0;32mreturn\u001b[0m \u001b[0municode_type\u001b[0m\u001b[0;34m(\u001b[0m\u001b[0me\u001b[0m\u001b[0;34m)\u001b[0m\u001b[0;34m\u001b[0m\u001b[0;34m\u001b[0m\u001b[0m\n\u001b[0m\u001b[1;32m     66\u001b[0m     \u001b[0;32mexcept\u001b[0m \u001b[0mUnicodeError\u001b[0m\u001b[0;34m:\u001b[0m\u001b[0;34m\u001b[0m\u001b[0;34m\u001b[0m\u001b[0m\n\u001b[1;32m     67\u001b[0m         \u001b[0;32mpass\u001b[0m\u001b[0;34m\u001b[0m\u001b[0;34m\u001b[0m\u001b[0m\n",
      "\u001b[0;32m/content/spark-3.5.0-bin-hadoop3/python/lib/py4j-0.10.9.7-src.zip/py4j/protocol.py\u001b[0m in \u001b[0;36m__str__\u001b[0;34m(self)\u001b[0m\n\u001b[1;32m    469\u001b[0m     \u001b[0;32mdef\u001b[0m \u001b[0m__str__\u001b[0m\u001b[0;34m(\u001b[0m\u001b[0mself\u001b[0m\u001b[0;34m)\u001b[0m\u001b[0;34m:\u001b[0m\u001b[0;34m\u001b[0m\u001b[0;34m\u001b[0m\u001b[0m\n\u001b[1;32m    470\u001b[0m         \u001b[0mgateway_client\u001b[0m \u001b[0;34m=\u001b[0m \u001b[0mself\u001b[0m\u001b[0;34m.\u001b[0m\u001b[0mjava_exception\u001b[0m\u001b[0;34m.\u001b[0m\u001b[0m_gateway_client\u001b[0m\u001b[0;34m\u001b[0m\u001b[0;34m\u001b[0m\u001b[0m\n\u001b[0;32m--> 471\u001b[0;31m         \u001b[0manswer\u001b[0m \u001b[0;34m=\u001b[0m \u001b[0mgateway_client\u001b[0m\u001b[0;34m.\u001b[0m\u001b[0msend_command\u001b[0m\u001b[0;34m(\u001b[0m\u001b[0mself\u001b[0m\u001b[0;34m.\u001b[0m\u001b[0mexception_cmd\u001b[0m\u001b[0;34m)\u001b[0m\u001b[0;34m\u001b[0m\u001b[0;34m\u001b[0m\u001b[0m\n\u001b[0m\u001b[1;32m    472\u001b[0m         \u001b[0mreturn_value\u001b[0m \u001b[0;34m=\u001b[0m \u001b[0mget_return_value\u001b[0m\u001b[0;34m(\u001b[0m\u001b[0manswer\u001b[0m\u001b[0;34m,\u001b[0m \u001b[0mgateway_client\u001b[0m\u001b[0;34m,\u001b[0m \u001b[0;32mNone\u001b[0m\u001b[0;34m,\u001b[0m \u001b[0;32mNone\u001b[0m\u001b[0;34m)\u001b[0m\u001b[0;34m\u001b[0m\u001b[0;34m\u001b[0m\u001b[0m\n\u001b[1;32m    473\u001b[0m         \u001b[0;31m# Note: technically this should return a bytestring 'str' rather than\u001b[0m\u001b[0;34m\u001b[0m\u001b[0;34m\u001b[0m\u001b[0m\n",
      "\u001b[0;32m/content/spark-3.5.0-bin-hadoop3/python/lib/py4j-0.10.9.7-src.zip/py4j/java_gateway.py\u001b[0m in \u001b[0;36msend_command\u001b[0;34m(self, command, retry, binary)\u001b[0m\n\u001b[1;32m   1034\u001b[0m          \u001b[0;32mif\u001b[0m\u001b[0;31m \u001b[0m\u001b[0;31m`\u001b[0m\u001b[0mbinary\u001b[0m\u001b[0;31m`\u001b[0m \u001b[0;32mis\u001b[0m\u001b[0;31m \u001b[0m\u001b[0;31m`\u001b[0m\u001b[0;32mTrue\u001b[0m\u001b[0;31m`\u001b[0m\u001b[0;34m.\u001b[0m\u001b[0;34m\u001b[0m\u001b[0;34m\u001b[0m\u001b[0m\n\u001b[1;32m   1035\u001b[0m         \"\"\"\n\u001b[0;32m-> 1036\u001b[0;31m         \u001b[0mconnection\u001b[0m \u001b[0;34m=\u001b[0m \u001b[0mself\u001b[0m\u001b[0;34m.\u001b[0m\u001b[0m_get_connection\u001b[0m\u001b[0;34m(\u001b[0m\u001b[0;34m)\u001b[0m\u001b[0;34m\u001b[0m\u001b[0;34m\u001b[0m\u001b[0m\n\u001b[0m\u001b[1;32m   1037\u001b[0m         \u001b[0;32mtry\u001b[0m\u001b[0;34m:\u001b[0m\u001b[0;34m\u001b[0m\u001b[0;34m\u001b[0m\u001b[0m\n\u001b[1;32m   1038\u001b[0m             \u001b[0mresponse\u001b[0m \u001b[0;34m=\u001b[0m \u001b[0mconnection\u001b[0m\u001b[0;34m.\u001b[0m\u001b[0msend_command\u001b[0m\u001b[0;34m(\u001b[0m\u001b[0mcommand\u001b[0m\u001b[0;34m)\u001b[0m\u001b[0;34m\u001b[0m\u001b[0;34m\u001b[0m\u001b[0m\n",
      "\u001b[0;32m/content/spark-3.5.0-bin-hadoop3/python/lib/py4j-0.10.9.7-src.zip/py4j/clientserver.py\u001b[0m in \u001b[0;36m_get_connection\u001b[0;34m(self)\u001b[0m\n\u001b[1;32m    282\u001b[0m \u001b[0;34m\u001b[0m\u001b[0m\n\u001b[1;32m    283\u001b[0m         \u001b[0;32mif\u001b[0m \u001b[0mconnection\u001b[0m \u001b[0;32mis\u001b[0m \u001b[0;32mNone\u001b[0m \u001b[0;32mor\u001b[0m \u001b[0mconnection\u001b[0m\u001b[0;34m.\u001b[0m\u001b[0msocket\u001b[0m \u001b[0;32mis\u001b[0m \u001b[0;32mNone\u001b[0m\u001b[0;34m:\u001b[0m\u001b[0;34m\u001b[0m\u001b[0;34m\u001b[0m\u001b[0m\n\u001b[0;32m--> 284\u001b[0;31m             \u001b[0mconnection\u001b[0m \u001b[0;34m=\u001b[0m \u001b[0mself\u001b[0m\u001b[0;34m.\u001b[0m\u001b[0m_create_new_connection\u001b[0m\u001b[0;34m(\u001b[0m\u001b[0;34m)\u001b[0m\u001b[0;34m\u001b[0m\u001b[0;34m\u001b[0m\u001b[0m\n\u001b[0m\u001b[1;32m    285\u001b[0m         \u001b[0;32mreturn\u001b[0m \u001b[0mconnection\u001b[0m\u001b[0;34m\u001b[0m\u001b[0;34m\u001b[0m\u001b[0m\n\u001b[1;32m    286\u001b[0m \u001b[0;34m\u001b[0m\u001b[0m\n",
      "\u001b[0;32m/content/spark-3.5.0-bin-hadoop3/python/lib/py4j-0.10.9.7-src.zip/py4j/clientserver.py\u001b[0m in \u001b[0;36m_create_new_connection\u001b[0;34m(self)\u001b[0m\n\u001b[1;32m    289\u001b[0m             \u001b[0mself\u001b[0m\u001b[0;34m.\u001b[0m\u001b[0mjava_parameters\u001b[0m\u001b[0;34m,\u001b[0m \u001b[0mself\u001b[0m\u001b[0;34m.\u001b[0m\u001b[0mpython_parameters\u001b[0m\u001b[0;34m,\u001b[0m\u001b[0;34m\u001b[0m\u001b[0;34m\u001b[0m\u001b[0m\n\u001b[1;32m    290\u001b[0m             self.gateway_property, self)\n\u001b[0;32m--> 291\u001b[0;31m         \u001b[0mconnection\u001b[0m\u001b[0;34m.\u001b[0m\u001b[0mconnect_to_java_server\u001b[0m\u001b[0;34m(\u001b[0m\u001b[0;34m)\u001b[0m\u001b[0;34m\u001b[0m\u001b[0;34m\u001b[0m\u001b[0m\n\u001b[0m\u001b[1;32m    292\u001b[0m         \u001b[0mself\u001b[0m\u001b[0;34m.\u001b[0m\u001b[0mset_thread_connection\u001b[0m\u001b[0;34m(\u001b[0m\u001b[0mconnection\u001b[0m\u001b[0;34m)\u001b[0m\u001b[0;34m\u001b[0m\u001b[0;34m\u001b[0m\u001b[0m\n\u001b[1;32m    293\u001b[0m         \u001b[0;32mreturn\u001b[0m \u001b[0mconnection\u001b[0m\u001b[0;34m\u001b[0m\u001b[0;34m\u001b[0m\u001b[0m\n",
      "\u001b[0;32m/content/spark-3.5.0-bin-hadoop3/python/lib/py4j-0.10.9.7-src.zip/py4j/clientserver.py\u001b[0m in \u001b[0;36mconnect_to_java_server\u001b[0;34m(self)\u001b[0m\n\u001b[1;32m    436\u001b[0m                 self.socket = self.ssl_context.wrap_socket(\n\u001b[1;32m    437\u001b[0m                     self.socket, server_hostname=self.java_address)\n\u001b[0;32m--> 438\u001b[0;31m             \u001b[0mself\u001b[0m\u001b[0;34m.\u001b[0m\u001b[0msocket\u001b[0m\u001b[0;34m.\u001b[0m\u001b[0mconnect\u001b[0m\u001b[0;34m(\u001b[0m\u001b[0;34m(\u001b[0m\u001b[0mself\u001b[0m\u001b[0;34m.\u001b[0m\u001b[0mjava_address\u001b[0m\u001b[0;34m,\u001b[0m \u001b[0mself\u001b[0m\u001b[0;34m.\u001b[0m\u001b[0mjava_port\u001b[0m\u001b[0;34m)\u001b[0m\u001b[0;34m)\u001b[0m\u001b[0;34m\u001b[0m\u001b[0;34m\u001b[0m\u001b[0m\n\u001b[0m\u001b[1;32m    439\u001b[0m             \u001b[0mself\u001b[0m\u001b[0;34m.\u001b[0m\u001b[0mstream\u001b[0m \u001b[0;34m=\u001b[0m \u001b[0mself\u001b[0m\u001b[0;34m.\u001b[0m\u001b[0msocket\u001b[0m\u001b[0;34m.\u001b[0m\u001b[0mmakefile\u001b[0m\u001b[0;34m(\u001b[0m\u001b[0;34m\"rb\"\u001b[0m\u001b[0;34m)\u001b[0m\u001b[0;34m\u001b[0m\u001b[0;34m\u001b[0m\u001b[0m\n\u001b[1;32m    440\u001b[0m             \u001b[0mself\u001b[0m\u001b[0;34m.\u001b[0m\u001b[0mis_connected\u001b[0m \u001b[0;34m=\u001b[0m \u001b[0;32mTrue\u001b[0m\u001b[0;34m\u001b[0m\u001b[0;34m\u001b[0m\u001b[0m\n",
      "\u001b[0;31mConnectionRefusedError\u001b[0m: [Errno 111] Connection refused"
     ]
    }
   ],
   "source": [
    "# # Define the path where the pan12_test_data can be saved\n",
    "# output_path = './capstone-210-spring2024/data/test/'\n",
    "\n",
    "# # Save the DataFrame to a json file\n",
    "# splits[0].write.mode('append').parquet(output_path)\n",
    "# splits[1].write.mode('append').parquet(output_path)\n",
    "# splits[2].write.mode('append').parquet(output_path)\n",
    "# splits[3].write.mode('append').parquet(output_path)"
   ]
  },
  {
   "cell_type": "markdown",
   "metadata": {
    "id": "ie8zUtpfIQA-"
   },
   "source": [
    "#### B_b) Test with Conversations"
   ]
  },
  {
   "cell_type": "markdown",
   "metadata": {
    "id": "b1yeE2666ARX",
    "jp-MarkdownHeadingCollapsed": true
   },
   "source": [
    "##### B_b_1) confirm the dataset to modify"
   ]
  },
  {
   "cell_type": "code",
   "execution_count": null,
   "metadata": {
    "id": "yqQcE2T-6F3t"
   },
   "outputs": [],
   "source": [
    "# df_test_with_time_stamp.show(3, truncate=False)"
   ]
  },
  {
   "cell_type": "markdown",
   "metadata": {
    "id": "2LeO6f006GXI",
    "jp-MarkdownHeadingCollapsed": true
   },
   "source": [
    "##### B_b_2) add in the merged_text_id column, aggregate by the conversation_id and the number of texts (based on the merged_text column)"
   ]
  },
  {
   "cell_type": "code",
   "execution_count": 10,
   "metadata": {
    "executionInfo": {
     "elapsed": 484,
     "status": "ok",
     "timestamp": 1708716506637,
     "user": {
      "displayName": "Sunny Shin",
      "userId": "07563865141827084443"
     },
     "user_tz": 480
    },
    "id": "VsCBouww6SID"
   },
   "outputs": [],
   "source": [
    "# pan12_test_with_conversations = df_test_with_start_time.groupby('conversation_id').agg(concat_ws(\" \", collect_list('merged_text')).alias('merged_text_id'),\n",
    "#                                                                                   concat_ws(' ', collect_list('text')).alias('merged_text'),\n",
    "#                                                                                   first('label').alias('label'),\n",
    "#                                                                                   first('source').alias('source'),\n",
    "#                                                                                   first('conversation_start_time').cast('string').alias('conversation_start_time'),\n",
    "#                                                                                   first('n_people_in_conversation').cast('int').alias('n_people_in_conversation'),\n",
    "#                                                                                   first('type_conversation').alias('type_conversation'))\\\n",
    "#                                                                                   .withColumn('n_texts', size(split(col('merged_text'), ' ')))\\\n",
    "#                                                                                   .drop('conversation_history')"
   ]
  },
  {
   "cell_type": "markdown",
   "metadata": {
    "id": "rkkWoo616W0g",
    "jp-MarkdownHeadingCollapsed": true
   },
   "source": [
    "##### B_b_3) change the column order and check the datatypes"
   ]
  },
  {
   "cell_type": "code",
   "execution_count": 46,
   "metadata": {
    "executionInfo": {
     "elapsed": 226,
     "status": "ok",
     "timestamp": 1708716508601,
     "user": {
      "displayName": "Sunny Shin",
      "userId": "07563865141827084443"
     },
     "user_tz": 480
    },
    "id": "NHtctSzS6bQG"
   },
   "outputs": [],
   "source": [
    "# # specifying the column order\n",
    "# columns = ['conversation_id',\n",
    "# 'source',\n",
    "# 'label',\n",
    "# 'conversation_start_time',\n",
    "# 'n_people_in_conversation',\n",
    "# 'type_conversation',\n",
    "# 'merged_text',\n",
    "# 'merged_text_id',\n",
    "# 'n_texts']\n",
    "\n",
    "# pan12_test_with_conversations = pan12_test_with_conversations.select(columns)"
   ]
  },
  {
   "cell_type": "code",
   "execution_count": 48,
   "metadata": {
    "colab": {
     "base_uri": "https://localhost:8080/"
    },
    "executionInfo": {
     "elapsed": 10,
     "status": "ok",
     "timestamp": 1708544854652,
     "user": {
      "displayName": "Sunny Shin",
      "userId": "07563865141827084443"
     },
     "user_tz": 480
    },
    "id": "endVrc656uaa",
    "outputId": "16c510e8-d69e-4eaa-e972-61c777404d7f"
   },
   "outputs": [],
   "source": [
    "# pan12_test_with_conversations.printSchema()"
   ]
  },
  {
   "cell_type": "markdown",
   "metadata": {
    "id": "Gt_T30ft6by7",
    "jp-MarkdownHeadingCollapsed": true
   },
   "source": [
    "##### B_b_4) save the file to gDrive"
   ]
  },
  {
   "cell_type": "code",
   "execution_count": 49,
   "metadata": {},
   "outputs": [],
   "source": [
    "# # Define the path where the pan12_test_data can be saved\n",
    "# output_path = './capstone-210-spring2024/data/test/'\n",
    "\n",
    "# pan12_test_with_conversations.write.mode('overwrite').parquet(output_path)"
   ]
  },
  {
   "cell_type": "code",
   "execution_count": 27,
   "metadata": {},
   "outputs": [],
   "source": [
    "# train_data_path = 's3a://capstone210/data/train_merged_data_conversations/'\n",
    "# test_data_path = './capstone-210-spring2024/data/test/'\n",
    "\n",
    "# train_data_df = spark.read.parquet(train_data_path)\n",
    "# test_data_df = spark.read.parquet(test_data_path)"
   ]
  },
  {
   "cell_type": "code",
   "execution_count": 50,
   "metadata": {},
   "outputs": [],
   "source": [
    "# train_data_df.groupBy('source')\\\n",
    "#   .agg(count('conversation_id').alias('count'))\\\n",
    "#   .show()\n",
    "\n",
    "# test_data_df.groupBy('source')\\\n",
    "#   .agg(count('conversation_id').alias('count'))\\\n",
    "#   .show()"
   ]
  },
  {
   "cell_type": "code",
   "execution_count": 17,
   "metadata": {},
   "outputs": [],
   "source": [
    "# train_data_path = 's3a://capstone210/data/train_merged_data_conversations/'\n",
    "# train_data_df = spark.read.parquet(train_data_path)\n",
    "# train_data_df.show(3, truncate=False)"
   ]
  },
  {
   "cell_type": "code",
   "execution_count": 51,
   "metadata": {},
   "outputs": [],
   "source": [
    "# # Read CSV files into DataFrame\n",
    "# output_path = './capstone-210-spring2024/data/test/'\n",
    "# pan12_test_data = spark.read.csv(output_path, header=True)\n",
    "# # pan12_test_data.show(3, truncate=False)"
   ]
  },
  {
   "cell_type": "code",
   "execution_count": 14,
   "metadata": {
    "executionInfo": {
     "elapsed": 307,
     "status": "ok",
     "timestamp": 1708716511947,
     "user": {
      "displayName": "Sunny Shin",
      "userId": "07563865141827084443"
     },
     "user_tz": 480
    },
    "id": "NFwTKtd2JQ6p"
   },
   "outputs": [],
   "source": [
    "# # spliting the dataframes into two dataframes\n",
    "# weights = [.3, .3, .2, .2]\n",
    "# splits = pan12_test_with_conversations.randomSplit(weights, seed=None)\n",
    "# # splits[0].show(10)"
   ]
  },
  {
   "cell_type": "code",
   "execution_count": 27,
   "metadata": {
    "colab": {
     "base_uri": "https://localhost:8080/",
     "height": 963
    },
    "executionInfo": {
     "elapsed": 39178,
     "status": "error",
     "timestamp": 1708716552658,
     "user": {
      "displayName": "Sunny Shin",
      "userId": "07563865141827084443"
     },
     "user_tz": 480
    },
    "id": "EVgi-lWnIwio",
    "outputId": "34f42f94-ab34-4212-a968-fcddace875a4"
   },
   "outputs": [],
   "source": [
    "# # Define the path where the pan12_test_data can be saved\n",
    "# output_path = './capstone-210-spring2024/data/test/'\n",
    "\n",
    "# # Save the DataFrame to a parquet file\n",
    "# splits[0].write.mode('append').parquet(output_path)\n",
    "# splits[1].write.mode('append').parquet(output_path)\n",
    "# splits[2].write.mode('append').parquet(output_path)\n",
    "# splits[3].write.mode('append').parquet(output_path)"
   ]
  },
  {
   "cell_type": "markdown",
   "metadata": {
    "id": "PPnreZxo6fa_",
    "jp-MarkdownHeadingCollapsed": true
   },
   "source": [
    "##### B_b_5) confirm the count of data points"
   ]
  },
  {
   "cell_type": "code",
   "execution_count": 28,
   "metadata": {
    "id": "U1oHd_6p6lgW"
   },
   "outputs": [
    {
     "name": "stderr",
     "output_type": "stream",
     "text": [
      "[Stage 25:===================================================>    (11 + 1) / 12]\r"
     ]
    },
    {
     "name": "stdout",
     "output_type": "stream",
     "text": [
      "+----------+------+\n",
      "|source    |count |\n",
      "+----------+------+\n",
      "|PAN12-test|155128|\n",
      "+----------+------+\n",
      "\n"
     ]
    },
    {
     "name": "stderr",
     "output_type": "stream",
     "text": [
      "                                                                                \r"
     ]
    }
   ],
   "source": [
    "# pan12_test_with_conversations.groupBy('source')\\\n",
    "#   .agg(count('conversation_id').alias('count'))\\\n",
    "#   .show(truncate = False)"
   ]
  }
 ],
 "metadata": {
  "accelerator": "GPU",
  "colab": {
   "collapsed_sections": [
    "kXqD4nVVEyTb",
    "p5-Ir3kiE8Pb",
    "CmFDA0SN22oc",
    "ie8zUtpfIQA-",
    "HU_mwilMAu9m",
    "G1ICzyXD2Uv_",
    "wNVunf1s2qh0",
    "H_zCkhMQ6SQR",
    "sMhqYHEasbUp"
   ],
   "gpuType": "T4",
   "provenance": [
    {
     "file_id": "1vH7dfWjZIELhRGTJ1dw4zjhL09AiloXe",
     "timestamp": 1707247651278
    },
    {
     "file_id": "1cLbTWDZiYnBz-gOupdc5E170jhVUIq9U",
     "timestamp": 1699300377257
    }
   ],
   "toc_visible": true
  },
  "kernelspec": {
   "display_name": "Python 3 (ipykernel)",
   "language": "python",
   "name": "python3"
  },
  "language_info": {
   "codemirror_mode": {
    "name": "ipython",
    "version": 3
   },
   "file_extension": ".py",
   "mimetype": "text/x-python",
   "name": "python",
   "nbconvert_exporter": "python",
   "pygments_lexer": "ipython3",
   "version": "3.11.7"
  }
 },
 "nbformat": 4,
 "nbformat_minor": 4
}
