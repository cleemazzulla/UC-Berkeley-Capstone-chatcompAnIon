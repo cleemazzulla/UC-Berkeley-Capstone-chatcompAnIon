{
 "cells": [
  {
   "cell_type": "markdown",
   "metadata": {
    "id": "q13kDnOpv9zZ"
   },
   "source": [
    "# 1 Setting up Pyspark"
   ]
  },
  {
   "cell_type": "code",
   "execution_count": 1,
   "metadata": {},
   "outputs": [
    {
     "name": "stdout",
     "output_type": "stream",
     "text": [
      "/home/ubuntu/mids/capstone-210-spring2024/src/notebooks\n"
     ]
    }
   ],
   "source": [
    "!pwd"
   ]
  },
  {
   "cell_type": "code",
   "execution_count": 2,
   "metadata": {
    "colab": {
     "base_uri": "https://localhost:8080/"
    },
    "id": "Y5MpWFrTwBy-",
    "outputId": "7d5e2a96-4580-4527-f594-d5ad0e1a40f7"
   },
   "outputs": [],
   "source": [
    "# Mount google drive\n",
    "#from google.colab import drive\n",
    "#drive.mount('/content/drive')"
   ]
  },
  {
   "cell_type": "code",
   "execution_count": 3,
   "metadata": {
    "colab": {
     "base_uri": "https://localhost:8080/"
    },
    "id": "rqgMTz4U4KRK",
    "outputId": "47bbbcf6-6f1e-40cc-d949-b3f3d57881d8"
   },
   "outputs": [
    {
     "name": "stdout",
     "output_type": "stream",
     "text": [
      "Collecting en-core-web-sm==3.7.1\n",
      "  Downloading https://github.com/explosion/spacy-models/releases/download/en_core_web_sm-3.7.1/en_core_web_sm-3.7.1-py3-none-any.whl (12.8 MB)\n",
      "\u001b[2K     \u001b[90m━━━━━━━━━━━━━━━━━━━━━━━━━━━━━━━━━━━━━━━━\u001b[0m \u001b[32m12.8/12.8 MB\u001b[0m \u001b[31m91.9 MB/s\u001b[0m eta \u001b[36m0:00:00\u001b[0m00:01\u001b[0m00:01\u001b[0m\n",
      "\u001b[?25hRequirement already satisfied: spacy<3.8.0,>=3.7.2 in /opt/conda/envs/pytorch/lib/python3.10/site-packages (from en-core-web-sm==3.7.1) (3.7.4)\n",
      "Requirement already satisfied: spacy-legacy<3.1.0,>=3.0.11 in /opt/conda/envs/pytorch/lib/python3.10/site-packages (from spacy<3.8.0,>=3.7.2->en-core-web-sm==3.7.1) (3.0.12)\n",
      "Requirement already satisfied: spacy-loggers<2.0.0,>=1.0.0 in /opt/conda/envs/pytorch/lib/python3.10/site-packages (from spacy<3.8.0,>=3.7.2->en-core-web-sm==3.7.1) (1.0.5)\n",
      "Requirement already satisfied: murmurhash<1.1.0,>=0.28.0 in /opt/conda/envs/pytorch/lib/python3.10/site-packages (from spacy<3.8.0,>=3.7.2->en-core-web-sm==3.7.1) (1.0.10)\n",
      "Requirement already satisfied: cymem<2.1.0,>=2.0.2 in /opt/conda/envs/pytorch/lib/python3.10/site-packages (from spacy<3.8.0,>=3.7.2->en-core-web-sm==3.7.1) (2.0.8)\n",
      "Requirement already satisfied: preshed<3.1.0,>=3.0.2 in /opt/conda/envs/pytorch/lib/python3.10/site-packages (from spacy<3.8.0,>=3.7.2->en-core-web-sm==3.7.1) (3.0.9)\n",
      "Requirement already satisfied: thinc<8.3.0,>=8.2.2 in /opt/conda/envs/pytorch/lib/python3.10/site-packages (from spacy<3.8.0,>=3.7.2->en-core-web-sm==3.7.1) (8.2.3)\n",
      "Requirement already satisfied: wasabi<1.2.0,>=0.9.1 in /opt/conda/envs/pytorch/lib/python3.10/site-packages (from spacy<3.8.0,>=3.7.2->en-core-web-sm==3.7.1) (1.1.2)\n",
      "Requirement already satisfied: srsly<3.0.0,>=2.4.3 in /opt/conda/envs/pytorch/lib/python3.10/site-packages (from spacy<3.8.0,>=3.7.2->en-core-web-sm==3.7.1) (2.4.8)\n",
      "Requirement already satisfied: catalogue<2.1.0,>=2.0.6 in /opt/conda/envs/pytorch/lib/python3.10/site-packages (from spacy<3.8.0,>=3.7.2->en-core-web-sm==3.7.1) (2.0.10)\n",
      "Requirement already satisfied: weasel<0.4.0,>=0.1.0 in /opt/conda/envs/pytorch/lib/python3.10/site-packages (from spacy<3.8.0,>=3.7.2->en-core-web-sm==3.7.1) (0.3.4)\n",
      "Requirement already satisfied: typer<0.10.0,>=0.3.0 in /opt/conda/envs/pytorch/lib/python3.10/site-packages (from spacy<3.8.0,>=3.7.2->en-core-web-sm==3.7.1) (0.9.0)\n",
      "Requirement already satisfied: smart-open<7.0.0,>=5.2.1 in /opt/conda/envs/pytorch/lib/python3.10/site-packages (from spacy<3.8.0,>=3.7.2->en-core-web-sm==3.7.1) (6.4.0)\n",
      "Requirement already satisfied: tqdm<5.0.0,>=4.38.0 in /opt/conda/envs/pytorch/lib/python3.10/site-packages (from spacy<3.8.0,>=3.7.2->en-core-web-sm==3.7.1) (4.66.1)\n",
      "Requirement already satisfied: requests<3.0.0,>=2.13.0 in /opt/conda/envs/pytorch/lib/python3.10/site-packages (from spacy<3.8.0,>=3.7.2->en-core-web-sm==3.7.1) (2.31.0)\n",
      "Requirement already satisfied: pydantic!=1.8,!=1.8.1,<3.0.0,>=1.7.4 in /opt/conda/envs/pytorch/lib/python3.10/site-packages (from spacy<3.8.0,>=3.7.2->en-core-web-sm==3.7.1) (1.10.13)\n",
      "Requirement already satisfied: jinja2 in /opt/conda/envs/pytorch/lib/python3.10/site-packages (from spacy<3.8.0,>=3.7.2->en-core-web-sm==3.7.1) (3.1.3)\n",
      "Requirement already satisfied: setuptools in /opt/conda/envs/pytorch/lib/python3.10/site-packages (from spacy<3.8.0,>=3.7.2->en-core-web-sm==3.7.1) (69.1.1)\n",
      "Requirement already satisfied: packaging>=20.0 in /opt/conda/envs/pytorch/lib/python3.10/site-packages (from spacy<3.8.0,>=3.7.2->en-core-web-sm==3.7.1) (21.3)\n",
      "Requirement already satisfied: langcodes<4.0.0,>=3.2.0 in /opt/conda/envs/pytorch/lib/python3.10/site-packages (from spacy<3.8.0,>=3.7.2->en-core-web-sm==3.7.1) (3.3.0)\n",
      "Requirement already satisfied: numpy>=1.19.0 in /opt/conda/envs/pytorch/lib/python3.10/site-packages (from spacy<3.8.0,>=3.7.2->en-core-web-sm==3.7.1) (1.26.3)\n",
      "Requirement already satisfied: pyparsing!=3.0.5,>=2.0.2 in /opt/conda/envs/pytorch/lib/python3.10/site-packages (from packaging>=20.0->spacy<3.8.0,>=3.7.2->en-core-web-sm==3.7.1) (3.1.1)\n",
      "Requirement already satisfied: typing-extensions>=4.2.0 in /opt/conda/envs/pytorch/lib/python3.10/site-packages (from pydantic!=1.8,!=1.8.1,<3.0.0,>=1.7.4->spacy<3.8.0,>=3.7.2->en-core-web-sm==3.7.1) (4.9.0)\n",
      "Requirement already satisfied: charset-normalizer<4,>=2 in /opt/conda/envs/pytorch/lib/python3.10/site-packages (from requests<3.0.0,>=2.13.0->spacy<3.8.0,>=3.7.2->en-core-web-sm==3.7.1) (3.3.2)\n",
      "Requirement already satisfied: idna<4,>=2.5 in /opt/conda/envs/pytorch/lib/python3.10/site-packages (from requests<3.0.0,>=2.13.0->spacy<3.8.0,>=3.7.2->en-core-web-sm==3.7.1) (3.6)\n",
      "Requirement already satisfied: urllib3<3,>=1.21.1 in /opt/conda/envs/pytorch/lib/python3.10/site-packages (from requests<3.0.0,>=2.13.0->spacy<3.8.0,>=3.7.2->en-core-web-sm==3.7.1) (1.26.18)\n",
      "Requirement already satisfied: certifi>=2017.4.17 in /opt/conda/envs/pytorch/lib/python3.10/site-packages (from requests<3.0.0,>=2.13.0->spacy<3.8.0,>=3.7.2->en-core-web-sm==3.7.1) (2023.11.17)\n",
      "Requirement already satisfied: blis<0.8.0,>=0.7.8 in /opt/conda/envs/pytorch/lib/python3.10/site-packages (from thinc<8.3.0,>=8.2.2->spacy<3.8.0,>=3.7.2->en-core-web-sm==3.7.1) (0.7.11)\n",
      "Requirement already satisfied: confection<1.0.0,>=0.0.1 in /opt/conda/envs/pytorch/lib/python3.10/site-packages (from thinc<8.3.0,>=8.2.2->spacy<3.8.0,>=3.7.2->en-core-web-sm==3.7.1) (0.1.4)\n",
      "Requirement already satisfied: click<9.0.0,>=7.1.1 in /opt/conda/envs/pytorch/lib/python3.10/site-packages (from typer<0.10.0,>=0.3.0->spacy<3.8.0,>=3.7.2->en-core-web-sm==3.7.1) (8.1.7)\n",
      "Requirement already satisfied: cloudpathlib<0.17.0,>=0.7.0 in /opt/conda/envs/pytorch/lib/python3.10/site-packages (from weasel<0.4.0,>=0.1.0->spacy<3.8.0,>=3.7.2->en-core-web-sm==3.7.1) (0.16.0)\n",
      "Requirement already satisfied: MarkupSafe>=2.0 in /opt/conda/envs/pytorch/lib/python3.10/site-packages (from jinja2->spacy<3.8.0,>=3.7.2->en-core-web-sm==3.7.1) (2.1.3)\n",
      "\u001b[38;5;2m✔ Download and installation successful\u001b[0m\n",
      "You can now load the package via spacy.load('en_core_web_sm')\n",
      "\u001b[38;5;3m⚠ Restart to reload dependencies\u001b[0m\n",
      "If you are in a Jupyter or Colab notebook, you may need to restart Python in\n",
      "order to load all the package's dependencies. You can do this by selecting the\n",
      "'Restart kernel' or 'Restart runtime' option.\n"
     ]
    },
    {
     "name": "stderr",
     "output_type": "stream",
     "text": [
      "Setting default log level to \"WARN\".\n",
      "To adjust logging level use sc.setLogLevel(newLevel). For SparkR, use setLogLevel(newLevel).\n",
      "24/03/02 22:33:00 WARN NativeCodeLoader: Unable to load native-hadoop library for your platform... using builtin-java classes where applicable\n"
     ]
    }
   ],
   "source": [
    "# Install Java\n",
    "#!apt-get install openjdk-8-jdk-headless -qq > /dev/null\n",
    "\n",
    "# Download Spark\n",
    "#if os.path.isfile(\"./spark-3.5.1-bin-hadoop3.tgz\") == False:\n",
    "#    !wget -q https://downloads.apache.org/spark/spark-3.5.1/spark-3.5.1-bin-hadoop3.tgz\n",
    "\n",
    "# Unzip the file\n",
    "#!tar xf spark-3.5.1-bin-hadoop3.tgz\n",
    "\n",
    "# Setup environment for Spark\n",
    "import os\n",
    "os.environ[\"JAVA_HOME\"] = \"/usr/lib/jvm/java-8-openjdk-amd64\"\n",
    "os.environ[\"SPARK_HOME\"] = '/home/ubuntu/spark-3.5.1-bin-hadoop3'\n",
    "\n",
    "# Import findspark and load it\n",
    "#!pip install -q findspark\n",
    "import findspark\n",
    "findspark.init()\n",
    "\n",
    "# import spacy for NLP and re for regular expressions\n",
    "import spacy\n",
    "spacy.cli.download(\"en_core_web_sm\")\n",
    "import en_core_web_sm\n",
    "from spacy.lang.en.stop_words import STOP_WORDS\n",
    "import re\n",
    "\n",
    "# Create Spark session\n",
    "from pyspark.sql import SparkSession\n",
    "spark = SparkSession.builder\\\n",
    "        .master(\"local\")\\\n",
    "        .appName(\"Colab\")\\\n",
    "        .config('spark.executor.memory', \"24g\")\\\n",
    "        .getOrCreate()"
   ]
  },
  {
   "cell_type": "code",
   "execution_count": 4,
   "metadata": {
    "colab": {
     "base_uri": "https://localhost:8080/",
     "height": 219
    },
    "id": "EAHj-cKh-Tu3",
    "outputId": "1e37c978-b5d8-410b-b081-4c03080b390e"
   },
   "outputs": [
    {
     "data": {
      "text/html": [
       "\n",
       "            <div>\n",
       "                <p><b>SparkSession - in-memory</b></p>\n",
       "                \n",
       "        <div>\n",
       "            <p><b>SparkContext</b></p>\n",
       "\n",
       "            <p><a href=\"http://ip-172-31-43-191.ec2.internal:4040\">Spark UI</a></p>\n",
       "\n",
       "            <dl>\n",
       "              <dt>Version</dt>\n",
       "                <dd><code>v3.5.1</code></dd>\n",
       "              <dt>Master</dt>\n",
       "                <dd><code>local</code></dd>\n",
       "              <dt>AppName</dt>\n",
       "                <dd><code>Colab</code></dd>\n",
       "            </dl>\n",
       "        </div>\n",
       "        \n",
       "            </div>\n",
       "        "
      ],
      "text/plain": [
       "<pyspark.sql.session.SparkSession at 0x7f7db2ff77f0>"
      ]
     },
     "execution_count": 4,
     "metadata": {},
     "output_type": "execute_result"
    }
   ],
   "source": [
    "spark"
   ]
  },
  {
   "cell_type": "markdown",
   "metadata": {
    "id": "rpU399gyzMIh"
   },
   "source": [
    "# 2 Import libraries"
   ]
  },
  {
   "cell_type": "code",
   "execution_count": 5,
   "metadata": {
    "id": "twk0MhsWzQAt"
   },
   "outputs": [
    {
     "name": "stderr",
     "output_type": "stream",
     "text": [
      "/home/ubuntu/spark-3.5.1-bin-hadoop3/python/pyspark/pandas/__init__.py:50: UserWarning: 'PYARROW_IGNORE_TIMEZONE' environment variable was not set. It is required to set this environment variable to '1' in both driver and executor sides if you use pyarrow>=2.0.0. pandas-on-Spark will set it for you but it does not work if there is a Spark context already launched.\n",
      "  warnings.warn(\n"
     ]
    }
   ],
   "source": [
    "import time\n",
    "import json\n",
    "import pickle\n",
    "import urllib.request\n",
    "from pyspark.sql.functions import *\n",
    "from pyspark.sql.window import Window\n",
    "from pyspark.sql.types import *\n",
    "from pyspark.ml.classification import LogisticRegression\n",
    "from pyspark.ml.evaluation import BinaryClassificationEvaluator\n",
    "from pyspark.mllib.evaluation import MulticlassMetrics\n",
    "from pyspark.ml import Pipeline\n",
    "from pyspark.ml.feature import StandardScaler, VectorAssembler, Imputer, OneHotEncoder, StringIndexer\n",
    "from pyspark.ml.tuning import ParamGridBuilder, CrossValidator, CrossValidatorModel, TrainValidationSplit, TrainValidationSplitModel\n",
    "from pyspark.ml.evaluation import MulticlassClassificationEvaluator\n",
    "from pyspark.ml.linalg import Vectors, VectorUDT\n",
    "import pyspark.pandas as ps\n",
    "import seaborn as sns\n",
    "#import altair as alt\n",
    "import pandas as pd\n",
    "from sklearn.metrics import classification_report, fbeta_score"
   ]
  },
  {
   "cell_type": "code",
   "execution_count": 6,
   "metadata": {
    "id": "0myA5b5upqXV"
   },
   "outputs": [],
   "source": [
    "# visualization\n",
    "import seaborn as sns\n",
    "import matplotlib.pyplot as plt\n",
    "from IPython.display import Image, display, HTML\n",
    "import pydot\n",
    "from pydotplus import graph_from_dot_data\n",
    "from sklearn.tree import export_graphviz\n",
    "from wordcloud import WordCloud"
   ]
  },
  {
   "cell_type": "code",
   "execution_count": 7,
   "metadata": {
    "id": "30Id5H-8Z3tP"
   },
   "outputs": [],
   "source": [
    "import xml.etree.ElementTree as ET\n",
    "from xml.etree.ElementTree import ElementTree\n",
    "import datetime\n",
    "from pyspark.sql.functions import lit"
   ]
  },
  {
   "cell_type": "markdown",
   "metadata": {
    "id": "VM49qt5rwRD5"
   },
   "source": [
    "# 3 Load data"
   ]
  },
  {
   "cell_type": "markdown",
   "metadata": {
    "id": "kXqD4nVVEyTb"
   },
   "source": [
    "### 3.1 Obtain stratified training and test splits"
   ]
  },
  {
   "cell_type": "code",
   "execution_count": 8,
   "metadata": {
    "id": "UmzmIA52EWie"
   },
   "outputs": [],
   "source": [
    "#train_merged_data_conversations_path = f'drive/MyDrive/210 Capstone/data/train_merged_data_conversations'\n",
    "#test_merged_data_conversations_path = f'drive/MyDrive/210 Capstone/data/test_merged_data_conversations'\n",
    "\n",
    "#train_merged_data_conversations_df = spark.read.parquet(train_merged_data_conversations_path)\n",
    "#test_merged_data_conversations_df = spark.read.parquet(test_merged_data_conversations_path)"
   ]
  },
  {
   "cell_type": "code",
   "execution_count": 9,
   "metadata": {
    "id": "rgFU3vV8pABh"
   },
   "outputs": [
    {
     "name": "stderr",
     "output_type": "stream",
     "text": [
      "24/03/02 22:33:03 WARN MetricsConfig: Cannot locate configuration: tried hadoop-metrics2-s3a-file-system.properties,hadoop-metrics2.properties\n",
      "                                                                                \r"
     ]
    }
   ],
   "source": [
    "train_merged_data_conversations_path = 's3a://capstone210/data/train_merged_data_conversations/'\n",
    "test_merged_data_conversations_path = 's3a://capstone210/data/test_merged_data_conversations/'\n",
    "\n",
    "train_merged_data_conversations_df = spark.read.parquet(train_merged_data_conversations_path)\n",
    "test_merged_data_conversations_df = spark.read.parquet(test_merged_data_conversations_path)"
   ]
  },
  {
   "cell_type": "code",
   "execution_count": 10,
   "metadata": {
    "id": "CEXBwf0pjAdr"
   },
   "outputs": [],
   "source": [
    "#train_df_final = df.filter(col('source') != 'PAN12-test')\n",
    "train_df_final = train_merged_data_conversations_df\n",
    "test_df_final = test_merged_data_conversations_df"
   ]
  },
  {
   "cell_type": "code",
   "execution_count": 11,
   "metadata": {
    "colab": {
     "base_uri": "https://localhost:8080/"
    },
    "id": "KGFvX03HqcHa",
    "outputId": "06bc31c7-2e78-480e-a059-a4e99fb21855"
   },
   "outputs": [
    {
     "name": "stderr",
     "output_type": "stream",
     "text": [
      "                                                                                \r"
     ]
    },
    {
     "data": {
      "text/plain": [
       "[Row(conversation_id='0000604306a283600b730276a2039471', source='PAN12-train', label=0, conversation_start_time='13:04', n_people_in_conversation=4, type_conversation='Group', merged_text=\"e3fb62ebfa4f36acf5cbff6a6ed0f2e0: can I have your ear? e3fb62ebfa4f36acf5cbff6a6ed0f2e0: i am wondering if Opera implements, or plans to implement safari's &quot;device-pixel-ratio&quot; css media query. would you know? yes e.g. 1 CSS pixel to 3 device pixels would be 3.0 it's one-dimentional well it's explained here http://webkit.org/blog/55/high-dpi-web-sites/ though hyatt hasn't written up a formal defn i think no the ratio is applied in both directions think of it as the sqrt of the difference in number of pixels or better yet, think of it as the zoom factor 200% zoom would produce a factor of 2.0  (i.e. 2.0 squared more pixels per image) okay :) so I'm guessing opera doesn't support it yet. who would be the person to speak to about getting it implemented? where to? should I request an account or use the plebeian option? ok b8810fee2f4a71f849f3f7409546d1d9 - do you have any set of test cases for non-conformant HTML5? b8810fee2f4a71f849f3f7409546d1d9 - btw, do you have a good estimate of many man hours you have put into work on the conformance checker? ... including hours of any others that contributed to it significantly (fantasai, maybe?) I'm just curious b8810fee2f4a71f849f3f7409546d1d9 - OK. Was just thinking mainly about the HTML5 part, and thinking it might be good to eventually try to have an rough estimate of how many man hours are needed to implement a complete HTML5 conformance checker. b8810fee2f4a71f849f3f7409546d1d9 - OK One thing I wonder is, given all the dependencies of your Java implementation, how much extra work it will be to try to implement a checker in another language. other languages which I guess maybe are likely to lack equivalent libraries to depend on b8810fee2f4a71f849f3f7409546d1d9 - yeah, I know. about the schemas, seems like it would probably not be the most productive approach to try to implement something in another language that didn't also rely partly on schema validation http://www.elementary-group-standards.com/html/html5-doctype-is-unrecognized.html Sean Fraser I reckon I should probably add his feed to the nascent HTML5 blog aggregator OK, added him http://people.w3.org/mike/planet/html5/ any others anybody's aware of that ought to be there, let me know a9b326df4e6da61c5b6f5e1058be83a2: there are some in the syntax module a9b326df4e6da61c5b6f5e1058be83a2: I've also used Anne's WF 2.0 tests, but using those in the test harness in now broken as the spec stabilizes it makes sense to write more tests a9b326df4e6da61c5b6f5e1058be83a2: no estimate. lots a9b326df4e6da61c5b6f5e1058be83a2: the upper bound I can give is that there's no code written by me in there that predates October 2003. And the validation service started around November 2004, IIRC. Work towards applying it to HTML began in the summer of 2005. The November 2004 date is my guess about starting design and implementation. it wasn't public until 2005 a9b326df4e6da61c5b6f5e1058be83a2: I cannot give an estimate that would be even remotely accurate. But I can say that the parser isn't the biggest part, so the reasoning &quot;we have a parser in language foo, let's make a conformance checker&quot; is missing the point a9b326df4e6da61c5b6f5e1058be83a2: the biggest question is if you another programming language plus the same schemas or a totally independent impl a9b326df4e6da61c5b6f5e1058be83a2: but it is going to be a lot of work. I'm far from considering the Java impl complete afk &quot;Sean Fraser posted this on January 22, 2007 08:30 AM.&quot; he does post a lot about it seems only fair s/only fair/correct/ lol that's the ration between CSS and normal pixels? ratio* that could be useful euh 1 to 4 makes 2 sounds more logical anyway, if it's defined somewhere it might make sense to look into it one-dimentional? I learned that blog posts (with cat pictures on top) are not specs some years ago oh so you mean 1 to 9 makes 3? it doesn't make sense to scale a pixel in just one direction unless I'm missing something yeah, so 1 to 9 makes 3 I think I understand it correctly as I explained above you could file a bug report http://bugs.opera.com/ I suppose the latter\", merged_text_id=\"9fdcde97c1cb33fe4e9f6aab1d84bc76: e3fb62ebfa4f36acf5cbff6a6ed0f2e0: can I have your ear? 9fdcde97c1cb33fe4e9f6aab1d84bc76: e3fb62ebfa4f36acf5cbff6a6ed0f2e0: i am wondering if Opera implements, or plans to implement safari's &quot;device-pixel-ratio&quot; css media query. would you know? 9fdcde97c1cb33fe4e9f6aab1d84bc76: yes 9fdcde97c1cb33fe4e9f6aab1d84bc76: e.g. 1 CSS pixel to 3 device pixels would be 3.0 9fdcde97c1cb33fe4e9f6aab1d84bc76: it's one-dimentional 9fdcde97c1cb33fe4e9f6aab1d84bc76: well it's explained here http://webkit.org/blog/55/high-dpi-web-sites/ 9fdcde97c1cb33fe4e9f6aab1d84bc76: though hyatt hasn't written up a formal defn i think 9fdcde97c1cb33fe4e9f6aab1d84bc76: no 9fdcde97c1cb33fe4e9f6aab1d84bc76: the ratio is applied in both directions 9fdcde97c1cb33fe4e9f6aab1d84bc76: think of it as the sqrt of the difference in number of pixels 9fdcde97c1cb33fe4e9f6aab1d84bc76: or better yet, think of it as the zoom factor 9fdcde97c1cb33fe4e9f6aab1d84bc76: 200% zoom would produce a factor of 2.0  (i.e. 2.0 squared more pixels per image) 9fdcde97c1cb33fe4e9f6aab1d84bc76: okay :) 9fdcde97c1cb33fe4e9f6aab1d84bc76: so I'm guessing opera doesn't support it yet. who would be the person to speak to about getting it implemented? 9fdcde97c1cb33fe4e9f6aab1d84bc76: where to? 9fdcde97c1cb33fe4e9f6aab1d84bc76: should I request an account or use the plebeian option? 9fdcde97c1cb33fe4e9f6aab1d84bc76: ok a9b326df4e6da61c5b6f5e1058be83a2: b8810fee2f4a71f849f3f7409546d1d9 - do you have any set of test cases for non-conformant HTML5? a9b326df4e6da61c5b6f5e1058be83a2: b8810fee2f4a71f849f3f7409546d1d9 - btw, do you have a good estimate of many man hours you have put into work on the conformance checker? a9b326df4e6da61c5b6f5e1058be83a2: ... including hours of any others that contributed to it significantly (fantasai, maybe?) a9b326df4e6da61c5b6f5e1058be83a2: I'm just curious a9b326df4e6da61c5b6f5e1058be83a2: b8810fee2f4a71f849f3f7409546d1d9 - OK. Was just thinking mainly about the HTML5 part, and thinking it might be good to eventually try to have an rough estimate of how many man hours are needed to implement a complete HTML5 conformance checker. a9b326df4e6da61c5b6f5e1058be83a2: b8810fee2f4a71f849f3f7409546d1d9 - OK a9b326df4e6da61c5b6f5e1058be83a2: One thing I wonder is, given all the dependencies of your Java implementation, how much extra work it will be to try to implement a checker in another language. a9b326df4e6da61c5b6f5e1058be83a2: other languages a9b326df4e6da61c5b6f5e1058be83a2: which I guess maybe are likely to lack equivalent libraries to depend on a9b326df4e6da61c5b6f5e1058be83a2: b8810fee2f4a71f849f3f7409546d1d9 - yeah, I know. about the schemas, seems like it would probably not be the most productive approach to try to implement something in another language that didn't also rely partly on schema validation a9b326df4e6da61c5b6f5e1058be83a2: http://www.elementary-group-standards.com/html/html5-doctype-is-unrecognized.html a9b326df4e6da61c5b6f5e1058be83a2: Sean Fraser a9b326df4e6da61c5b6f5e1058be83a2: I reckon I should probably add his feed to the nascent HTML5 blog aggregator a9b326df4e6da61c5b6f5e1058be83a2: OK, added him a9b326df4e6da61c5b6f5e1058be83a2: http://people.w3.org/mike/planet/html5/ a9b326df4e6da61c5b6f5e1058be83a2: any others anybody's aware of that ought to be there, let me know b8810fee2f4a71f849f3f7409546d1d9: a9b326df4e6da61c5b6f5e1058be83a2: there are some in the syntax module b8810fee2f4a71f849f3f7409546d1d9: a9b326df4e6da61c5b6f5e1058be83a2: I've also used Anne's WF 2.0 tests, but using those in the test harness in now broken b8810fee2f4a71f849f3f7409546d1d9: as the spec stabilizes it makes sense to write more tests b8810fee2f4a71f849f3f7409546d1d9: a9b326df4e6da61c5b6f5e1058be83a2: no estimate. lots b8810fee2f4a71f849f3f7409546d1d9: a9b326df4e6da61c5b6f5e1058be83a2: the upper bound I can give is that there's no code written by me in there that predates October 2003. b8810fee2f4a71f849f3f7409546d1d9: And the validation service started around November 2004, IIRC. b8810fee2f4a71f849f3f7409546d1d9: Work towards applying it to HTML began in the summer of 2005. b8810fee2f4a71f849f3f7409546d1d9: The November 2004 date is my guess about starting design and implementation. it wasn't public until 2005 b8810fee2f4a71f849f3f7409546d1d9: a9b326df4e6da61c5b6f5e1058be83a2: I cannot give an estimate that would be even remotely accurate. But I can say that the parser isn't the biggest part, so the reasoning &quot;we have a parser in language foo, let's make a conformance checker&quot; is missing the point b8810fee2f4a71f849f3f7409546d1d9: a9b326df4e6da61c5b6f5e1058be83a2: the biggest question is if you another programming language plus the same schemas or a totally independent impl b8810fee2f4a71f849f3f7409546d1d9: a9b326df4e6da61c5b6f5e1058be83a2: but it is going to be a lot of work. I'm far from considering the Java impl complete b8810fee2f4a71f849f3f7409546d1d9: afk e3fb62ebfa4f36acf5cbff6a6ed0f2e0: &quot;Sean Fraser posted this on January 22, 2007 08:30 AM.&quot; e3fb62ebfa4f36acf5cbff6a6ed0f2e0: he does post a lot about it e3fb62ebfa4f36acf5cbff6a6ed0f2e0: seems only fair e3fb62ebfa4f36acf5cbff6a6ed0f2e0: s/only fair/correct/ e3fb62ebfa4f36acf5cbff6a6ed0f2e0: lol e3fb62ebfa4f36acf5cbff6a6ed0f2e0: that's the ration between CSS and normal pixels? e3fb62ebfa4f36acf5cbff6a6ed0f2e0: ratio* e3fb62ebfa4f36acf5cbff6a6ed0f2e0: that could be useful e3fb62ebfa4f36acf5cbff6a6ed0f2e0: euh e3fb62ebfa4f36acf5cbff6a6ed0f2e0: 1 to 4 makes 2 sounds more logical e3fb62ebfa4f36acf5cbff6a6ed0f2e0: anyway, if it's defined somewhere it might make sense to look into it e3fb62ebfa4f36acf5cbff6a6ed0f2e0: one-dimentional? e3fb62ebfa4f36acf5cbff6a6ed0f2e0: I learned that blog posts (with cat pictures on top) are not specs e3fb62ebfa4f36acf5cbff6a6ed0f2e0: some years ago e3fb62ebfa4f36acf5cbff6a6ed0f2e0: oh so you mean 1 to 9 makes 3? e3fb62ebfa4f36acf5cbff6a6ed0f2e0: it doesn't make sense to scale a pixel in just one direction e3fb62ebfa4f36acf5cbff6a6ed0f2e0: unless I'm missing something e3fb62ebfa4f36acf5cbff6a6ed0f2e0: yeah, so 1 to 9 makes 3 e3fb62ebfa4f36acf5cbff6a6ed0f2e0: I think I understand it correctly as I explained above e3fb62ebfa4f36acf5cbff6a6ed0f2e0: you could file a bug report e3fb62ebfa4f36acf5cbff6a6ed0f2e0: http://bugs.opera.com/ e3fb62ebfa4f36acf5cbff6a6ed0f2e0: I suppose the latter\", n_texts=67)]"
      ]
     },
     "execution_count": 11,
     "metadata": {},
     "output_type": "execute_result"
    }
   ],
   "source": [
    "train_df_final.take(1)"
   ]
  },
  {
   "cell_type": "code",
   "execution_count": 12,
   "metadata": {
    "colab": {
     "base_uri": "https://localhost:8080/"
    },
    "id": "vu4OK9DXBO3X",
    "outputId": "7f6d3d83-54b1-4534-f4a7-e5d2e3bdbce9"
   },
   "outputs": [
    {
     "name": "stderr",
     "output_type": "stream",
     "text": [
      "                                                                                \r"
     ]
    },
    {
     "name": "stdout",
     "output_type": "stream",
     "text": [
      "+--------------------+-----------+-----+-----------------------+------------------------+-----------------+--------------------+--------------------+-------+\n",
      "|     conversation_id|     source|label|conversation_start_time|n_people_in_conversation|type_conversation|         merged_text|      merged_text_id|n_texts|\n",
      "+--------------------+-----------+-----+-----------------------+------------------------+-----------------+--------------------+--------------------+-------+\n",
      "|0000604306a283600...|PAN12-train|    0|                  13:04|                       4|            Group|e3fb62ebfa4f36acf...|9fdcde97c1cb33fe4...|     67|\n",
      "|0001347c00d419eb5...|PAN12-train|    0|                  13:34|                       2|             Pair|asl say asl and i...|67952953f11f8800a...|      4|\n",
      "|000197b21283dc478...|PAN12-train|    0|                  06:27|                       2|             Pair|joint in my hand ...|487862cd4ec27d841...|     43|\n",
      "|0002ee38ac5e78e7e...|PAN12-train|    0|                  04:16|                       2|             Pair|hey :) male or fe...|8150320816528784d...|      5|\n",
      "|00048330067746821...|PAN12-train|    0|                  11:04|                       6|            Group|if you have a cha...|69b0d3dfe919a6b86...|     51|\n",
      "|0004ae03d1e07cabe...|PAN12-train|    0|                  17:03|                       1|        Monologue|               hello|b9ff38622b888abf9...|      1|\n",
      "|0004c07f0b5df631a...|PAN12-train|    0|                  03:24|                       2|             Pair|hiiz Becuz he wan...|2045f4c8ef8976bd8...|     56|\n",
      "|00054e9ac62307fd3...|PAN12-train|    0|                  11:13|                       2|             Pair|      AMEN hey amen!|643f14404dc1b6043...|      3|\n",
      "|00059308de6d463cf...|PAN12-train|    0|                  22:48|                       1|        Monologue|what u doin? ??? ...|74bfc043bd5ce9c17...|      7|\n",
      "|0005c1612543ae078...|PAN12-train|    0|                  13:34|                       2|             Pair|b8810fee2f4a71f84...|a11aabeeceeae6b8c...|      3|\n",
      "|0006192180d9c5fc7...|PAN12-train|    0|                  12:56|                       1|        Monologue|[http://twitter.c...|6bf6443c8d8d3dbd2...|      1|\n",
      "|00078d94c4f9b5307...|PAN12-train|    0|                  23:18|                       2|             Pair|&quot;So. You guy...|2f921cdbd4a7cd294...|      4|\n",
      "|00079780aa515d4c6...|PAN12-train|    0|                  06:32|                       2|             Pair|gg=G Hello can vi...|8bece2647a39db763...|      2|\n",
      "|000a4fe5113a2b6ee...|PAN12-train|    0|                  16:47|                       2|             Pair|hiiiiii asl asl m u?|6340faca85e3bdbe6...|      5|\n",
      "|000b6148992fcfddb...|PAN12-train|    0|                  14:11|                       2|             Pair|m m hi asl? and you?|5315ea13b02ecd8fd...|      5|\n",
      "|000bf726626f63627...|PAN12-train|    0|                  08:17|                       2|             Pair|hi, male, 26 from...|79bb9b2a1b4cd7aa4...|     69|\n",
      "|000caee691927210c...|PAN12-train|    0|                  18:55|                       2|             Pair|hmm, seems harder...|73eaf221abca1b824...|     10|\n",
      "|000cc14be385e5435...|PAN12-train|    0|                  13:14|                       4|            Group|is 'WHATWG (HTML5...|25812bf456959aa5f...|      4|\n",
      "|000d5e6929ad8bd96...|PAN12-train|    0|                  23:17|                       2|             Pair|hi m16 usa alread...|c12af241243c46220...|      3|\n",
      "|000ee377005ca77b4...|PAN12-train|    0|                  08:02|                       3|            Group|c5e3539121c4944f2...|a9b326df4e6da61c5...|    107|\n",
      "+--------------------+-----------+-----+-----------------------+------------------------+-----------------+--------------------+--------------------+-------+\n",
      "only showing top 20 rows\n",
      "\n"
     ]
    }
   ],
   "source": [
    "train_df_final.show()"
   ]
  },
  {
   "cell_type": "code",
   "execution_count": 13,
   "metadata": {
    "colab": {
     "base_uri": "https://localhost:8080/"
    },
    "id": "V9uah5cHjAQt",
    "outputId": "770ff411-c8ba-44f1-b5aa-40410f568b70"
   },
   "outputs": [
    {
     "data": {
      "text/plain": [
       "87997"
      ]
     },
     "execution_count": 13,
     "metadata": {},
     "output_type": "execute_result"
    }
   ],
   "source": [
    "train_df_final.count()"
   ]
  },
  {
   "cell_type": "code",
   "execution_count": 14,
   "metadata": {
    "colab": {
     "base_uri": "https://localhost:8080/"
    },
    "id": "yLh5pdHQjwFO",
    "outputId": "0f421ff0-34b9-4eda-f1d6-9988506f50c8"
   },
   "outputs": [
    {
     "name": "stdout",
     "output_type": "stream",
     "text": [
      "+-----+-----+\n",
      "|label|count|\n",
      "+-----+-----+\n",
      "|1    |2584 |\n",
      "|0    |85413|\n",
      "+-----+-----+\n",
      "\n"
     ]
    }
   ],
   "source": [
    "train_df_final.groupBy('label')\\\n",
    "              .agg(count('*').alias('count'))\\\n",
    "              .show(truncate = False)"
   ]
  },
  {
   "cell_type": "code",
   "execution_count": 15,
   "metadata": {
    "colab": {
     "base_uri": "https://localhost:8080/"
    },
    "id": "UeCNRgMvt0f4",
    "outputId": "394ee633-9080-4e6d-97ea-3213261aa7e4"
   },
   "outputs": [
    {
     "name": "stderr",
     "output_type": "stream",
     "text": [
      "[Stage 10:>                                                         (0 + 1) / 1]\r"
     ]
    },
    {
     "name": "stdout",
     "output_type": "stream",
     "text": [
      "+--------------------+-----------+-----+-----------------------+------------------------+-----------------+--------------------+--------------------+-------+\n",
      "|     conversation_id|     source|label|conversation_start_time|n_people_in_conversation|type_conversation|         merged_text|      merged_text_id|n_texts|\n",
      "+--------------------+-----------+-----+-----------------------+------------------------+-----------------+--------------------+--------------------+-------+\n",
      "|0014c1b4278df4bf8...|PAN12-train|    1|                  22:14|                       2|             Pair|hi how r ya? was ...|970f6cbfa8b792424...|    131|\n",
      "|002ec0725fbeb1f5a...|PAN12-train|    1|                  08:08|                       1|        Monologue|                  hi|c62283536cf6261e5...|      1|\n",
      "|0042866de4da52869...|PAN12-train|    1|                  20:49|                       1|        Monologue|        guess u left|fac3a2081264f1dbb...|      1|\n",
      "|0063692c957229db0...|PAN12-train|    1|                  21:09|                       2|             Pair|hello a little la...|18253a7ec92823c10...|    428|\n",
      "|007d0c65ff37bda93...|PAN12-train|    1|                  16:30|                       1|        Monologue|hey sexy how was ...|fac3a2081264f1dbb...|      1|\n",
      "|00815e5c936e20765...|PAN12-train|    1|                  07:48|                       1|        Monologue|well i wanted to ...|a03edc2f70bbebc73...|      1|\n",
      "|00a88e94773667ea0...|PAN12-train|    1|                  21:04|                       1|        Monologue|u still here ? im...|80706012f8f9f1175...|      3|\n",
      "|00b06ff8fb8835560...|PAN12-train|    1|                  18:09|                       1|        Monologue|so--you on?? I kn...|b679fca2e3690b4d3...|      2|\n",
      "|0124d0ffb5bfc11b3...|PAN12-train|    1|                  16:40|                       1|        Monologue|             u there|fac3a2081264f1dbb...|      1|\n",
      "|01a94037f7d9e8512...|PAN12-train|    1|                  16:47|                       1|        Monologue|hey sweeite i got...|a03edc2f70bbebc73...|      1|\n",
      "|022061e4b4c01c597...|PAN12-train|    1|                  13:37|                       1|        Monologue|             u there|fac3a2081264f1dbb...|      1|\n",
      "|025b44e9643dd99b2...|PAN12-train|    1|                  20:18|                       1|        Monologue|       U there?miz u|4982b68761043e693...|      1|\n",
      "|02648f8ef1f2b6da8...|PAN12-train|    1|                  04:29|                       1|        Monologue|good morning sexy...|fac3a2081264f1dbb...|      1|\n",
      "|027f9a89163d70c9b...|PAN12-train|    1|                  16:54|                       2|             Pair|Ok i got my money...|a03edc2f70bbebc73...|     26|\n",
      "|0299914d46ea4066c...|PAN12-train|    1|                  18:07|                       1|        Monologue|             u here?|d18fb2dc834414a71...|      1|\n",
      "|029b1126e34765ea1...|PAN12-train|    1|                  23:40|                       1|        Monologue|Miss you and love...|e4c7c376bbd07aeb4...|      2|\n",
      "|02f7c36ad6fd6d2e9...|PAN12-train|    1|                  21:33|                       1|        Monologue|i tried to call y...|d18fb2dc834414a71...|      1|\n",
      "|0328353f62ac862ce...|PAN12-train|    1|                  08:44|                       2|             Pair|whats up me toooo...|13ff9f88ad6e1242f...|    117|\n",
      "|0373731eb401d1549...|PAN12-train|    1|                  13:06|                       1|        Monologue|Wow, so glad to h...|aebe7a87ad50fbad9...|      2|\n",
      "|03bbc84d1168088bb...|PAN12-train|    1|                  22:08|                       1|        Monologue|hey u leave your ...|13ff9f88ad6e1242f...|      3|\n",
      "+--------------------+-----------+-----+-----------------------+------------------------+-----------------+--------------------+--------------------+-------+\n",
      "only showing top 20 rows\n",
      "\n"
     ]
    },
    {
     "name": "stderr",
     "output_type": "stream",
     "text": [
      "                                                                                \r"
     ]
    }
   ],
   "source": [
    "train_df_final.filter(col('label').isin([1])).show(truncate = True)"
   ]
  },
  {
   "cell_type": "code",
   "execution_count": 16,
   "metadata": {
    "colab": {
     "base_uri": "https://localhost:8080/"
    },
    "id": "XXHF52v8HlLQ",
    "outputId": "948be537-bf92-466e-b3a9-8f16d17abbbd"
   },
   "outputs": [
    {
     "data": {
      "text/plain": [
       "155128"
      ]
     },
     "execution_count": 16,
     "metadata": {},
     "output_type": "execute_result"
    }
   ],
   "source": [
    "test_df_final.count()"
   ]
  },
  {
   "cell_type": "code",
   "execution_count": 17,
   "metadata": {
    "colab": {
     "base_uri": "https://localhost:8080/"
    },
    "id": "-AXWAQvjHto9",
    "outputId": "1c062eb1-cd14-411a-e31c-80777827fa83"
   },
   "outputs": [
    {
     "name": "stdout",
     "output_type": "stream",
     "text": [
      "+-----+------+\n",
      "|label|count |\n",
      "+-----+------+\n",
      "|1    |2895  |\n",
      "|0    |152233|\n",
      "+-----+------+\n",
      "\n"
     ]
    },
    {
     "name": "stderr",
     "output_type": "stream",
     "text": [
      "                                                                                \r"
     ]
    }
   ],
   "source": [
    "test_df_final.groupBy('label')\\\n",
    "             .agg(count('*').alias('count'))\\\n",
    "             .show(truncate = False)"
   ]
  },
  {
   "cell_type": "markdown",
   "metadata": {
    "id": "MaxRjQqC4xv4"
   },
   "source": [
    "# 4 Prepare Data and Tokenization\n"
   ]
  },
  {
   "cell_type": "markdown",
   "metadata": {
    "id": "36RxglM15HTc"
   },
   "source": [
    "## 4.1 Type Casting and Clean up Labels"
   ]
  },
  {
   "cell_type": "code",
   "execution_count": 18,
   "metadata": {
    "colab": {
     "base_uri": "https://localhost:8080/"
    },
    "id": "JtzG5Xpvyufu",
    "outputId": "ad3d73fe-5bb4-4f08-8707-64402ff98c55"
   },
   "outputs": [
    {
     "data": {
      "text/plain": [
       "[('conversation_id', 'string'),\n",
       " ('source', 'string'),\n",
       " ('label', 'int'),\n",
       " ('conversation_start_time', 'string'),\n",
       " ('n_people_in_conversation', 'int'),\n",
       " ('type_conversation', 'string'),\n",
       " ('merged_text', 'string'),\n",
       " ('merged_text_id', 'string'),\n",
       " ('n_texts', 'int')]"
      ]
     },
     "execution_count": 18,
     "metadata": {},
     "output_type": "execute_result"
    }
   ],
   "source": [
    "train_df_final.dtypes"
   ]
  },
  {
   "cell_type": "code",
   "execution_count": 19,
   "metadata": {
    "id": "Zx71zpELAAE8"
   },
   "outputs": [],
   "source": [
    "train_df_final = train_df_final.dropna()"
   ]
  },
  {
   "cell_type": "code",
   "execution_count": 20,
   "metadata": {
    "colab": {
     "base_uri": "https://localhost:8080/"
    },
    "id": "DygOR-vDCnMf",
    "outputId": "d0120c3a-dc62-46c0-ebcb-497911cceb8f"
   },
   "outputs": [
    {
     "name": "stderr",
     "output_type": "stream",
     "text": [
      "[Stage 17:>                                                         (0 + 1) / 1]\r"
     ]
    },
    {
     "name": "stdout",
     "output_type": "stream",
     "text": [
      "+-----+-----+\n",
      "|label|count|\n",
      "+-----+-----+\n",
      "|    1| 2584|\n",
      "|    0|85413|\n",
      "+-----+-----+\n",
      "\n"
     ]
    },
    {
     "name": "stderr",
     "output_type": "stream",
     "text": [
      "                                                                                \r"
     ]
    }
   ],
   "source": [
    "train_df_final.groupBy('label').count().show()"
   ]
  },
  {
   "cell_type": "code",
   "execution_count": 21,
   "metadata": {
    "id": "fca9iE5GDGTs"
   },
   "outputs": [],
   "source": [
    "#train_df_final = train_df_final.filter((col('label') == 1) | (col('label') == 0))"
   ]
  },
  {
   "cell_type": "code",
   "execution_count": 22,
   "metadata": {
    "colab": {
     "base_uri": "https://localhost:8080/"
    },
    "id": "a4AULVwQBfw5",
    "outputId": "3b03e595-0892-48f4-f013-2cbb0090359d"
   },
   "outputs": [
    {
     "name": "stderr",
     "output_type": "stream",
     "text": [
      "24/03/02 22:33:18 WARN SparkStringUtils: Truncated the string representation of a plan since it was too large. This behavior can be adjusted by setting 'spark.sql.debug.maxToStringFields'.\n",
      "[Stage 20:>                                                         (0 + 1) / 1]\r"
     ]
    },
    {
     "name": "stdout",
     "output_type": "stream",
     "text": [
      "+-------+--------------------+----------+--------------------+-----------------------+------------------------+-----------------+--------------------+--------------------+------------------+\n",
      "|summary|     conversation_id|    source|               label|conversation_start_time|n_people_in_conversation|type_conversation|         merged_text|      merged_text_id|           n_texts|\n",
      "+-------+--------------------+----------+--------------------+-----------------------+------------------------+-----------------+--------------------+--------------------+------------------+\n",
      "|  count|               87997|     87997|               87997|                  87997|                   87997|            87997|               87997|               87997|             87997|\n",
      "|   mean|             10534.5|      NULL|0.029364637430821506|                   NULL|       2.263758991783811|             NULL|2.502527525250252...|                NULL|14.464049910792413|\n",
      "| stddev|    6082.52942176745|      NULL| 0.16882736568608722|                   NULL|      1.8447399609269715|             NULL|5.005055050500505E23|                NULL|  26.5249903226652|\n",
      "|    min|                   0|Chit chats|                   0|                  00:00|                       1|            Group|                    |                    |                 0|\n",
      "|    25%|              5267.0|      NULL|                   0|                   NULL|                       2|             NULL|                 6.0|                NULL|                 3|\n",
      "|    50%|             10532.0|      NULL|                   0|                   NULL|                       2|             NULL|               107.0|                NULL|                 4|\n",
      "|    75%|             15800.0|      NULL|                   0|                   NULL|                       2|             NULL|               404.0|                NULL|                12|\n",
      "|    max|ffffe01fc5b03a8d6...| ZIG chats|                   1|                  23:59|                      30|             Pair|😱 more test runn...|zyzzy: Hey! I'm p...|              1160|\n",
      "+-------+--------------------+----------+--------------------+-----------------------+------------------------+-----------------+--------------------+--------------------+------------------+\n",
      "\n"
     ]
    },
    {
     "name": "stderr",
     "output_type": "stream",
     "text": [
      "                                                                                \r"
     ]
    }
   ],
   "source": [
    "train_df_final.summary().show()"
   ]
  },
  {
   "cell_type": "code",
   "execution_count": 23,
   "metadata": {
    "colab": {
     "base_uri": "https://localhost:8080/"
    },
    "id": "efMTYCXJG1OI",
    "outputId": "68da4609-f7ad-41e0-f1ef-87bedbff6e2d"
   },
   "outputs": [
    {
     "name": "stderr",
     "output_type": "stream",
     "text": [
      "[Stage 23:>                                                         (0 + 1) / 1]\r"
     ]
    },
    {
     "name": "stdout",
     "output_type": "stream",
     "text": [
      "+-----+-----+\n",
      "|label|count|\n",
      "+-----+-----+\n",
      "|    1| 2584|\n",
      "|    0|85413|\n",
      "+-----+-----+\n",
      "\n"
     ]
    },
    {
     "name": "stderr",
     "output_type": "stream",
     "text": [
      "                                                                                \r"
     ]
    }
   ],
   "source": [
    "train_df_final.groupBy('label').count().show()"
   ]
  },
  {
   "cell_type": "code",
   "execution_count": 24,
   "metadata": {
    "colab": {
     "base_uri": "https://localhost:8080/",
     "height": 449
    },
    "id": "2CIJGWtSZuXp",
    "outputId": "30e95bb8-6924-4cb2-973d-c0c4108bd18d"
   },
   "outputs": [
    {
     "name": "stderr",
     "output_type": "stream",
     "text": [
      "                                                                                \r"
     ]
    },
    {
     "data": {
      "image/png": "[encoded data removed]",
      "text/plain": [
       "<Figure size 640x480 with 1 Axes>"
      ]
     },
     "metadata": {},
     "output_type": "display_data"
    }
   ],
   "source": [
    "train_df_pandas = train_df_final.select('label').toPandas()\n",
    "ax = sns.countplot(x=\"label\", data=train_df_pandas)"
   ]
  },
  {
   "cell_type": "code",
   "execution_count": 25,
   "metadata": {
    "colab": {
     "base_uri": "https://localhost:8080/",
     "height": 406
    },
    "id": "pVzCoU8Fc7gK",
    "outputId": "97dd93c3-b6cb-4898-c0fd-c1c593e492ba"
   },
   "outputs": [
    {
     "data": {
      "image/png": "[encoded data removed]",
      "text/plain": [
       "<Figure size 640x480 with 1 Axes>"
      ]
     },
     "metadata": {},
     "output_type": "display_data"
    }
   ],
   "source": [
    "plt.pie(train_df_pandas[\"label\"].value_counts(), labels=['normal','groomer'], autopct='%1.1f%%')\n",
    "plt.show()"
   ]
  },
  {
   "cell_type": "code",
   "execution_count": 26,
   "metadata": {
    "id": "IJxuECZYfwbu"
   },
   "outputs": [],
   "source": [
    "# function to undersample dataset automatically\n",
    "def undersample(df, outcome_col, seed=1234):\n",
    "  # Split dataset based on outcome\n",
    "  split0_df = df.filter(col(outcome_col) == 0)\n",
    "  split1_df = df.filter(col(outcome_col) == 1)\n",
    "  # determine which split is major vs minor\n",
    "  if (split0_df.count() > split1_df.count()):\n",
    "    major_df = split0_df\n",
    "    minor_df = split1_df\n",
    "  else:\n",
    "    minor_df = split0_df\n",
    "    major_df = split1_df\n",
    "  ratio = major_df.count()/minor_df.count()\n",
    "  print(\"Ratio of major vs minor before sampling: {}\".format(ratio))\n",
    "  # Start under-sampling with Spark\n",
    "  sampled_majority_df = major_df.sample(False, 1/ratio, seed)\n",
    "  combined_df = sampled_majority_df.unionAll(minor_df)\n",
    "  print(f\"Final sample size: {combined_df.count()}\")\n",
    "  return combined_df"
   ]
  },
  {
   "cell_type": "code",
   "execution_count": 27,
   "metadata": {
    "colab": {
     "base_uri": "https://localhost:8080/",
     "height": 484
    },
    "id": "UCnsxuCPfz-s",
    "outputId": "3968cfa8-df2e-4454-fb07-b10df57b962a"
   },
   "outputs": [
    {
     "name": "stderr",
     "output_type": "stream",
     "text": [
      "                                                                                \r"
     ]
    },
    {
     "name": "stdout",
     "output_type": "stream",
     "text": [
      "Ratio of major vs minor before sampling: 33.05456656346749\n"
     ]
    },
    {
     "name": "stderr",
     "output_type": "stream",
     "text": [
      "                                                                                \r"
     ]
    },
    {
     "name": "stdout",
     "output_type": "stream",
     "text": [
      "Final sample size: 5239\n"
     ]
    },
    {
     "name": "stderr",
     "output_type": "stream",
     "text": [
      "                                                                                \r"
     ]
    },
    {
     "data": {
      "image/png": "[encoded data removed]",
      "text/plain": [
       "<Figure size 640x480 with 1 Axes>"
      ]
     },
     "metadata": {},
     "output_type": "display_data"
    }
   ],
   "source": [
    "# Perform undersampling technique\n",
    "df_train_UnderSampled = undersample(train_df_final, outcome_col='label')\n",
    "df_pandas = df_train_UnderSampled.select('label').toPandas()\n",
    "ax = sns.countplot(x=\"label\",data=df_pandas)"
   ]
  },
  {
   "cell_type": "code",
   "execution_count": 28,
   "metadata": {
    "colab": {
     "base_uri": "https://localhost:8080/",
     "height": 406
    },
    "id": "fUxJPo5idlaU",
    "outputId": "3e2764f1-8c5a-41b4-8235-5db4b91e7283"
   },
   "outputs": [
    {
     "data": {
      "image/png": "[encoded data removed]",
      "text/plain": [
       "<Figure size 640x480 with 1 Axes>"
      ]
     },
     "metadata": {},
     "output_type": "display_data"
    }
   ],
   "source": [
    "plt.pie(df_pandas[\"label\"].value_counts(), labels=['normal','groomer'], autopct='%1.1f%%')\n",
    "plt.show()"
   ]
  },
  {
   "cell_type": "code",
   "execution_count": 29,
   "metadata": {
    "colab": {
     "base_uri": "https://localhost:8080/"
    },
    "id": "_DllY1WqJE4N",
    "outputId": "71941f21-1e50-4b3b-fe8c-42474b09773f"
   },
   "outputs": [
    {
     "name": "stderr",
     "output_type": "stream",
     "text": [
      "                                                                                \r"
     ]
    },
    {
     "data": {
      "text/plain": [
       "[Row(merged_text='hi how r ya? was out with a buddy u miss me huh? so is that a new pic? cool wish u had a hot pic 2 c ;) its ok that was a nice pic so how u getting to b up late? oh my u rock sweety yeah baby u gonna rock my world? hehe is that gonna b a good time? yep as long as u feel good with it yeah so how should we start any ideas? yes hmm battery powered toy? u like oils? what else u might like? oh i dont mind so r u shy? was just going to see if u want me 2 put a move on u or u put one on me? if u r cool yeah and what kinda move u b ok with? yes :D gettin pen hey mapquest my drive 4 me? chickasha 73018 to u yeah k how many miles it say? and drive time? cool u r between altys and lawton right? ok so u gonna give me phone #? i wont k u might have to talk me to yr house just incase but want u 2 call me as soon as its clear xxxx dont lose it babe yes i know not sure what i will driveyet so idk y? not more than 1 so what u mostly excited about? hehe so what u gonna where? yeah then? yeah u got some to choose from? ok bye hi where u been im cool k yeah been waiting 4 u lol just having fun umm lol sorry ty!! :-* my dads out and stepbitch is asleep lol i do huh so we still on 4 tomorow?? i hope u goona rock mine u coming at 7 rite? ya if its ok with u ya ur cool we goon a have fun u gonna bring me some presents rite lol like wut oils i think u said that mmm prolly o u dont hafta lol idk umm i mite b at first y lol u start that ok? ya sure hey u need the addy lol um slow and sweet u reddy to write this down? XXXX Walters ok thats ur town? k hold on east on xxxx merge onto xxx take xxx to xx right at xxx stay on xxx continue on xxxx my house is on the right red brick 1 story ranch theres a fieled across the street with nuttin there 70.8 1 hour 9 mins kinda u cant call til after 5 ok? its the house fone shes sposta gimme her cell but i dont remeber the # lol the # is xxxxxx k whats ur # that ur cell? lol like i wud hey what kinda car u got? dang lol how many cars u got? lol having sum fun here in freeking borin okla freekin homa what u want me to wear ill prolly have on jeans at first and a top then u get to choose i guess lol ya shit hes home tty tomorow ok???'),\n",
       " Row(merged_text='hi'),\n",
       " Row(merged_text='guess u left'),\n",
       " Row(merged_text='hello a little late but I am here so what are you up to? just surfing the net? any one on it good/ ? so tell me what do you like doing for fun? I figured that much you ever hooked up with anybody from the net before? many people?Your going to be the 2nd one I have met some bi sexual chick from Santa Cruz about 3 years ogo when we first got together we just jumped straight into bed and were only fuck buddies for about 1 and a half years she was all right-had real long hair that went past her ass when we first met being just fuck buddies and her living out in Santa Cruz wasnt a reralationship that was ment to last long.Out of the bed we were tottally different people both who just wanted a sex partner yes,I did.But I didnt mind it since I like to drive about 2 years younger than me but when we met she told me that she wanted to have her first bi sexual reralationship soon and that things with us werent going to last forever which I all ready knew that would be an ex Brenda from Morgan Hill who I was with before I met the girl in Santa Cruz 10 and will be 11 in April Brendas cool about things with him.She lets him come over anytime that sucks.You have any brothers or sisters? at least you have her to talk to when things around there with your mom and dad are not going good but when he calls or comes over they fight? they arent physically abusive are they toward you? probably she just has a lot on her mind being a single parent thats allways fun were do you usually hang out-friends or in town? huh/ ? tats wat I thunk u sed now this plan of ours right,friday night but you allowing me to eat your pussy and all right when we first get together are you a virgin? been with an older man around my age before? have you ever had someone eat you before? and when we are together your absolutely sure that your not going to trip out when I just get down on my knees and stick my head between your legs-even if it happens unexpectedly? you like that idea do you? what else do you think is hot that you may like to have happen? you been tied up and fucked before? what do you think of the idea? what about 69? you suck dick before? tasted cum? ever had your tits fucked and cum shot all over you? really?it looks like you have a nice set of tits ever tried annal sex? not yet-so that tells me your pretty open minded about things when it comes to sex I might just get a hotel room for friday night yes,I will but want to fuck you without one on and just pull it out and come on your belly not that way they do it all the time like thatin xx rated flicks come on you not in you you like em/ ? thats how they keep from getting pregnant nope but I wiould like to make one with you sure-you want to ?I can bring a camera we can just set it up on a dresser pointing at the bed yeah,if its cool with you will you finger your self so I can watch? yes,while sitting in a chair with a leg over each arm rest so I can see everything right on you like being called names while fucking? I dont know some chicks like being called a slut or whore bitch all kinds of things its not anythings special I would rather b talking about how I much I am enjoying being up your tight cunt I will remember that then dont think I have ever been called anything but a fucker and thats while I was diong it as in \"oh,you fucker harder\" \"Oh,you fucker stick it in deeper\" yes but mainly fat you dont get sore after a short period of sex do you? most likely you asked if I am going to hurt you no,I am not just going to bend you over and ram it in I will be fingering you while I am licking and nibbling on your clit what do you like/ ? what do you want name it and you will have it and coke? no problem you smoke cigs? theres a lot of things your not supposed to do but we will do em anyways can you hang on a sec someones here and I need to get rid of em brb back they only wnated to borrow a cd what can you bring? that would be a nice touch.Have any baby oil? but mainly just bring yourself and wear that mini skirt with no panties but you have the skirt right? a top might be cool since you might get in trouble going out with just a skirt on just bring yourself baby girl thats all that matters then everything will be just fine something I want to ask has anyone ever just walked up and started having sex with you right away? kinda like what I want to do I guess that the idea turns you on then I am probably going to get things going with you on our way to the hotel room I will most likely reach over and start fingering you yes,while we are traveling to the hotel well the rv is most likely going to be a back up place to go I will probably get a room at motel6 dont need to they are never that crowded I am going to ask for 1 with 2 beds so as far as they know your my kid and we are spending the night and sleeping seperately you want to ? well see how are you wearing your hair is in a pony tail or still like in the pic? pony tail it I can get an easier grip on it like that yes,I do drive myself in deep and hard have a favorite position? so you probably like it flat on your stomache too ever done it while spooning? thats my favorite just thought of something for you to bring if you feel that you want to be tied up wear some pant hose/nylons if not thats fine too you dont have any plans for saturday do you? good because when I am through with you friday night saturday morning your going to be walking funny lol just so you know I have asked you alot of questions here any thing you want to ask me? anything at all? roommates who will be here they would trip hard once they realize we arent just playing cards in my room I wish but they pay rent to and have every right to be here 2 yes sending you a file picture Image Hosted by ImageShack.us let me know when you look at it told you I have a fat head stretch you out a little is all the fact that you have a hot body and are real sexy I like the most and that turns me on-major catch myself looking at them all the time and I have to remind myself that they are young I like the petite sexy figures God no never wpould I am still having a hard time getting used to the fact I am going to be with you you get far with him? and what is it about older guys that you like? maturaty-sexual experience? or the fact that they fuck you hard like you want it k understandable since your sexy they are intimadated and afraid they arent good enough alot of guys think that a sexy girl like you is maybe stuck up and wouldnt even like being around most boys feel like they arent good enough that you would want some dude who could model for some mag that all make sense? good you ever been in trouble with the law before? is that all cause you said that the cops threatened you with juvy thats nothing now I dont wnat to go to jail for sex with a minor so give me a YES or No answer ok? are you working for or affiliated with any sort of law enfocement? just checking now you asked about me and my record with the law and I have to be honest here or can I lie? never mind I will tell the trueth yes,I have been in trouble with the law before.Now remember I am now 34 the only time my WHOLE life I got in trouble with the law was about 3 years ago busted for growing pot no,it not.But I wasnt going to lie Liers and thieves the 2 kinds of people I hate so you will find that I am an honest person good I dont either no reason to lie about anything really1 more thing I got in trouble with too when they found my pot plants they found a small pipe bomb that I was going to put in someones mailbox they just put me on probation for 3 years no jail time since I had no prior record of breaking the law yeah,it sure was specially since with new laws in California make it manditory for someone growing even 1 plant to do 1 year in jail no,we couldnt and that would suck well,I must admit that I didnt do time right away for my crime but I did do some later you see once on probation someone came to my house every now and then to check things out and to make sure I wasnt growing pot again and when my probation officer got here and started searching clothes in my closet she found an old pot pipe and violated my probation wich got me thrown in jail for 6 months yes will be for another year of course I will neighbor has friend with huge barn full of GREEN BUDD.He sells it all to pot clubs in San Fransico stuff like Orange Crush,Blueberry yes,but now I have a cool probation officer he only tests for powders,acid,pcp,heroine which I cant figure out since I didnt get in trouble with any of those kind of things damn-I have to be honest here.No,every now and then a little speed doing speed? we can do all kinds of it if it makes you wet fuck only friday would like to make it something we do on a regular basis I am a horn dog-all ways horny no promises what I will get you right now.But I will bring something if you have a choice between alcohol and pot what would you choose? I know tough question ok were do you go to school at? I know silly but what school? at 13? thought you would be in junior high sorry 14 I guess that right high school at 14 nevermind what do you do take the bus home? ride with a friend? were is it you are going to want me to pick you up at on friday? nope were? is it near LongMeadow? like maybe Mantelli? find out tomorow like you said and let me know thats ok not to change the subject too much but when you tried speed did you snort it or smoke it? if its on Calle del ray I will find it didnt know about it or what? thats not cool most chicks I know get wet and horny from it could have been trying to get in your pants cant wait to see you luckily friday isnt too far but hey baby girl its getting late and I have some things I need to do around here ok-chat with you again soon I hope I am usually on at 9pm talk to you soon goodnight bye hey yea i wuz watching american idol yea ll kewl j party lol yea no who elsedid u meet lol wuz she hot wut happend did u hafta do all the drivin how old wuz she o who u got a baby with how olds your kid thats kewl my momz n dad fite all the time i gotta older sis o my dad dont live wit us yea they used 2 alwayz fite about who got us my mom is a bitch wut ever i jes leve id rather party wuteverz clevaz lol wut everz cleva z lol were ever tha party is lol yea friday nite rite hell yea nah yea yea thats hot hell yea im down 4 wutever no sounds kinda hot i aint tried that yet yea yea nah not yet yea u gonna bring sum condoms rite kewl u cant get me pregnent ive seen sum of those yea u ever make 1 omg relly u sed u were gonna take pics of me hell yea u want me 2 i aint done that i coud i gues u gonna take pics of that 2 like wut u like that i like 2 b called baby gurl wut do u like 2 b called u big? u gonna hurt me nah u gonna have pot rite pot relaxs me tho wut kinda booze u bringin all kinds wutever gets me drunk qwick malibu rum hell yea vanilla coke tho im not sposta but yea lol yea k hey lol wut do u want me 2 bring friday i dunno i got sum candles i can look yea u want me 2 were anything else lol i ment like 2 bring i can do that k no thts kinda hot yea in your truck y dont u wanna use tha rv now u gonna reserve it 1st or do i gotta wate in tha trck u gonna make me call u daddy? i dunno may b wut u want me 2 do wit it k i can do that yea u like that i todl u dogy i dunno no we coud try that wut i dont got none i can c if my momz duz tho nah lol um y cant we go 2 yur place agin aw man cant u git rid of them how many u got but itd b kewl 2 go there um u only got tha 1 kid k wow yur big u do! u like that huh u like gurlz my age u ever mess wit yur sons frends i messd wit my frenz dad once is y i asked yea i dunno brb k k boyz my age r like scared 2 talk 2 me they arent lol lol yea like gettin cot cuttin i got cot smokin b4 2 wut about u lol no hey i tel u tha truth o that aint nuthin awww yea me 2 yea me 2 i dont got no reason 2 lie omg wut did they do well thats good if u were in jail we coudnt meet yud b with bubba how many plants u got how u still on proabtion that sux u can still git me pot tho rite u dont gotta take piss tests do u wow thats kewl u just do pot i wanna try that agin i did it like a year ago yea do u only wanna c me friday or agin sum times u gonna gimme pot and shit thatd b kewl dam i dunno both lol well hafta c k gilroy gilroy high? duh? im 14 y u keep sayin 13 hell nah i hate tha bus yea or my sis n her bf at tha park calle del ray u no were itz at i 4git tha street name i coud look tommoro i can walk there tho um.... dude im thinkin lol sorry i jes no how 2 git htere smoked it in a blunt it wuz fucked up man no i wuz tricked may b thatz y they did it yea me neither noperz yea i shoud go b4 momz gits back 2 k nite'),\n",
       " Row(merged_text='hey sexy how was your day good i hope')]"
      ]
     },
     "execution_count": 29,
     "metadata": {},
     "output_type": "execute_result"
    }
   ],
   "source": [
    "df_train_UnderSampled.filter(col('label')==1).select(\"merged_text\").take(5)"
   ]
  },
  {
   "cell_type": "code",
   "execution_count": 30,
   "metadata": {
    "colab": {
     "base_uri": "https://localhost:8080/"
    },
    "id": "pitRJsj1uf-4",
    "outputId": "8140ad3d-7e92-4c38-dac1-7726d6860420"
   },
   "outputs": [
    {
     "name": "stdout",
     "output_type": "stream",
     "text": [
      "+-----+------+\n",
      "|label| count|\n",
      "+-----+------+\n",
      "|    1|  2895|\n",
      "|    0|152233|\n",
      "+-----+------+\n",
      "\n"
     ]
    }
   ],
   "source": [
    "test_df_final.groupBy('label').count().show()"
   ]
  },
  {
   "cell_type": "markdown",
   "metadata": {
    "id": "iRM2vrMS6Vbg"
   },
   "source": [
    "## 4.2 Use SpaCy English language model to turn words into vectors"
   ]
  },
  {
   "cell_type": "code",
   "execution_count": 31,
   "metadata": {
    "colab": {
     "base_uri": "https://localhost:8080/"
    },
    "id": "KeOxS1Yz3m8V",
    "outputId": "fad0c708-b4fb-4c85-95ad-6e7e83f0b656"
   },
   "outputs": [
    {
     "name": "stdout",
     "output_type": "stream",
     "text": [
      "96\n",
      "96\n",
      "output: 0.6314009741542267\n"
     ]
    },
    {
     "name": "stderr",
     "output_type": "stream",
     "text": [
      "/opt/conda/envs/pytorch/lib/python3.10/site-packages/spacy/pipeline/lemmatizer.py:211: UserWarning: [W108] The rule-based lemmatizer did not find POS annotation for one or more tokens. Check that your pipeline includes components that assign token.pos, typically 'tagger'+'attribute_ruler' or 'morphologizer'.\n",
      "  warnings.warn(Warnings.W108)\n",
      "/tmp/ipykernel_6062/4032923053.py:16: UserWarning: [W007] The model you're using has no word vectors loaded, so the result of the Doc.similarity method will be based on the tagger, parser and NER, which may not give useful similarity judgements. This may happen if you're using one of the small models, e.g. `en_core_web_sm`, which don't ship with word vectors and only use context-sensitive tensors. You can always add your own word vectors, or use one of the larger models instead if available.\n",
      "  print(\"output:\" , doc1.similarity(doc2))\n"
     ]
    }
   ],
   "source": [
    "# Load the SpaCy en_core_web_md model\n",
    "nlp = en_core_web_sm.load(disable=[\"tagger\", \"parser\", \"ner\"])\n",
    "\n",
    "@staticmethod\n",
    "def get_spacy():\n",
    "\n",
    "    if \"nlp\" not in globals():\n",
    "        globals()[\"nlp\"] = nlp\n",
    "\n",
    "    return globals()[\"nlp\"]\n",
    "\n",
    "doc1 = nlp(\"i love my pet dog\")\n",
    "doc2 = nlp(\"Maggie is my lovable pet dog!\")\n",
    "print(doc1.vector.size)\n",
    "print(doc2.vector.size)\n",
    "print(\"output:\" , doc1.similarity(doc2))"
   ]
  },
  {
   "cell_type": "code",
   "execution_count": 32,
   "metadata": {
    "colab": {
     "base_uri": "https://localhost:8080/"
    },
    "id": "5ajxz9he33Kb",
    "outputId": "a92e685e-fcde-41ab-fd50-de5c16dd57c8"
   },
   "outputs": [
    {
     "data": {
      "text/plain": [
       "array([-0.82228184, -0.52981013, -0.04199264,  0.21913071, -0.03065448,\n",
       "       -0.14778526,  0.6752845 ,  0.45747596, -0.14300331, -0.4820497 ,\n",
       "       -0.2199707 , -0.31105405,  0.2607569 , -0.00689734, -0.7084032 ,\n",
       "        0.24738555, -0.16439562,  0.2179037 , -0.37804666,  0.02349054,\n",
       "       -0.15068911,  0.864818  , -0.637645  , -0.65831524,  0.22553782,\n",
       "       -0.20611453, -0.23222873,  0.22810598, -0.2578836 , -0.1370413 ,\n",
       "        0.5942478 ,  0.10742517,  0.18177323, -0.38608572,  0.0901499 ,\n",
       "       -0.31681603, -0.04888222,  0.0951063 , -0.7534274 ,  0.35248774,\n",
       "        0.08509431,  0.61296135,  0.23663417,  0.60823727, -0.5434038 ,\n",
       "       -0.51587856, -0.15613341,  1.0582231 ,  0.28102857, -0.16917507,\n",
       "       -0.8407737 ,  0.72302425,  0.32085943, -0.61701334,  0.05886409,\n",
       "       -0.35398296,  0.5053838 ,  0.5155953 , -0.41034406, -0.1209401 ,\n",
       "        0.40065938,  0.00445629,  0.5080544 ,  0.11423705,  0.06736588,\n",
       "       -0.06459552,  0.24383393,  0.3004192 , -0.18886861, -0.43419257,\n",
       "        0.07105552,  0.31284267,  0.7481225 , -0.10344113, -0.35968286,\n",
       "       -0.06552862, -0.08597148, -0.16566181,  0.10448357, -0.7170166 ,\n",
       "       -0.43187958,  0.08143806, -0.39179346,  0.03662255,  0.21673565,\n",
       "        0.3997646 ,  0.43564907,  0.20049441, -0.71877444,  0.17959635,\n",
       "        0.02584555, -0.4852299 ,  0.8911791 ,  0.5237773 , -0.72668   ,\n",
       "        0.5294328 ], dtype=float32)"
      ]
     },
     "execution_count": 32,
     "metadata": {},
     "output_type": "execute_result"
    }
   ],
   "source": [
    "vec1 = nlp(\"i love my pet dog\").vector\n",
    "vec1"
   ]
  },
  {
   "cell_type": "code",
   "execution_count": 33,
   "metadata": {
    "colab": {
     "base_uri": "https://localhost:8080/"
    },
    "id": "8KuEecZDi4lB",
    "outputId": "cca66ada-8e01-40fc-dd96-6acebfa5d679"
   },
   "outputs": [
    {
     "data": {
      "text/plain": [
       "numpy.ndarray"
      ]
     },
     "execution_count": 33,
     "metadata": {},
     "output_type": "execute_result"
    }
   ],
   "source": [
    "type(vec1)"
   ]
  },
  {
   "cell_type": "markdown",
   "metadata": {
    "id": "l1Mc_ScgxfRm"
   },
   "source": [
    "### Build PySpark UDF to convert words into vector"
   ]
  },
  {
   "cell_type": "code",
   "execution_count": 34,
   "metadata": {
    "id": "hldEogxgyE0y"
   },
   "outputs": [],
   "source": [
    "nlpUDF = udf(lambda x: nlp(x).vector.tolist(), ArrayType(FloatType()))\n",
    "\n",
    "df_train_UnderSampled = df_train_UnderSampled.withColumn('array', nlpUDF(col('merged_text')))"
   ]
  },
  {
   "cell_type": "code",
   "execution_count": 35,
   "metadata": {
    "id": "c-eHsLyH9YDe"
   },
   "outputs": [],
   "source": [
    "arrayUDF = udf(lambda array: Vectors.dense(array), VectorUDT())\n",
    "\n",
    "df_train_UnderSampled = df_train_UnderSampled.withColumn('vector', arrayUDF(col('array')))"
   ]
  },
  {
   "cell_type": "code",
   "execution_count": 36,
   "metadata": {
    "id": "R72w7BWEp4Qt"
   },
   "outputs": [],
   "source": [
    "df_train_UnderSampled = df_train_UnderSampled.withColumn('array_size', size(col('array')))"
   ]
  },
  {
   "cell_type": "code",
   "execution_count": 37,
   "metadata": {
    "id": "Zg3T_mAZvKAA"
   },
   "outputs": [],
   "source": [
    "test_df_final = test_df_final.withColumn('array', nlpUDF(col('merged_text')))\n",
    "test_df_final = test_df_final.withColumn('vector', arrayUDF(col('array')))\n",
    "test_df_final = test_df_final.withColumn('array_size', size(col('array')))"
   ]
  },
  {
   "cell_type": "code",
   "execution_count": 38,
   "metadata": {
    "colab": {
     "base_uri": "https://localhost:8080/"
    },
    "id": "38JHsUtHrM_-",
    "outputId": "e40fd66a-2476-4113-a689-2d429712b8c6"
   },
   "outputs": [
    {
     "name": "stderr",
     "output_type": "stream",
     "text": [
      "/opt/conda/envs/pytorch/lib/python3.10/site-packages/spacy/pipeline/lemmatizer.py:211: UserWarning: [W108] The rule-based lemmatizer did not find POS annotation for one or more tokens. Check that your pipeline includes components that assign token.pos, typically 'tagger'+'attribute_ruler' or 'morphologizer'.\n",
      "  warnings.warn(Warnings.W108)\n",
      "                                                                                \r"
     ]
    },
    {
     "data": {
      "text/plain": [
       "[Row(conversation_id='0029418593d4134557765d14be325904', source='PAN12-train', label=0, conversation_start_time='22:33', n_people_in_conversation=1, type_conversation='Monologue', merged_text='sees one more Member response', merged_text_id='3f2e2531201cfbf853f16f668132eaf2: sees one more Member response', n_texts=1, array=[-0.3521425127983093, 0.08794703334569931, -0.10352931171655655, 0.05174877494573593, 0.008875275030732155, -0.2493605613708496, 0.19533273577690125, 0.6353193521499634, -0.22615401446819305, -0.0937582477927208, -0.06020350381731987, 0.06666779518127441, -0.3654279112815857, -0.47838473320007324, 0.4886876046657562, 0.3875822424888611, -0.7582265138626099, 0.32570576667785645, 0.2397572100162506, 0.03450951725244522, 0.08112430572509766, 0.6197803020477295, -0.03768032789230347, -0.04226129129528999, 0.045730482786893845, -0.7000465989112854, 0.08351993560791016, 0.5006964802742004, 0.7205625176429749, -0.6155064105987549, 0.021028995513916016, 0.3990761339664459, 0.18149320781230927, -0.5291054844856262, -0.3177449107170105, -0.45896315574645996, -0.24935312569141388, 0.2354270964860916, -0.38808923959732056, -0.5141589641571045, -0.12470855563879013, 0.32150688767433167, -0.01883523538708687, 0.31175461411476135, -0.44664812088012695, -0.10192479193210602, -0.42502230405807495, 0.07387332618236542, -0.19154854118824005, 0.2839790880680084, -0.03926471620798111, 0.29812636971473694, 0.387891948223114, -0.6662781834602356, -0.055350326001644135, -0.12948618829250336, 0.0034020901657640934, 0.667603611946106, -0.18659557402133942, 0.3293885886669159, 0.037909019738435745, -0.011057918891310692, -0.5585659146308899, -0.04867842048406601, 0.31344613432884216, -0.15699496865272522, 0.4648590087890625, -0.062485478818416595, 0.37262141704559326, -0.09812229871749878, 0.4039731025695801, 0.2938230633735657, 0.37266188859939575, -0.0479813814163208, 0.3107132911682129, -0.3334237337112427, -0.0970539003610611, -0.809441864490509, -0.12314558029174805, -0.9489009976387024, 0.07664555311203003, 0.19817987084388733, -0.28909027576446533, -0.617282509803772, 0.1711038202047348, 0.5112870335578918, -0.1624315232038498, -0.13599325716495514, -0.0945219025015831, 0.2251485288143158, 0.3924981951713562, -0.20564301311969757, 0.867625892162323, 0.47502589225769043, -0.05823320150375366, -0.080916628241539], vector=DenseVector([-0.3521, 0.0879, -0.1035, 0.0517, 0.0089, -0.2494, 0.1953, 0.6353, -0.2262, -0.0938, -0.0602, 0.0667, -0.3654, -0.4784, 0.4887, 0.3876, -0.7582, 0.3257, 0.2398, 0.0345, 0.0811, 0.6198, -0.0377, -0.0423, 0.0457, -0.7, 0.0835, 0.5007, 0.7206, -0.6155, 0.021, 0.3991, 0.1815, -0.5291, -0.3177, -0.459, -0.2494, 0.2354, -0.3881, -0.5142, -0.1247, 0.3215, -0.0188, 0.3118, -0.4466, -0.1019, -0.425, 0.0739, -0.1915, 0.284, -0.0393, 0.2981, 0.3879, -0.6663, -0.0554, -0.1295, 0.0034, 0.6676, -0.1866, 0.3294, 0.0379, -0.0111, -0.5586, -0.0487, 0.3134, -0.157, 0.4649, -0.0625, 0.3726, -0.0981, 0.404, 0.2938, 0.3727, -0.048, 0.3107, -0.3334, -0.0971, -0.8094, -0.1231, -0.9489, 0.0766, 0.1982, -0.2891, -0.6173, 0.1711, 0.5113, -0.1624, -0.136, -0.0945, 0.2251, 0.3925, -0.2056, 0.8676, 0.475, -0.0582, -0.0809]), array_size=96)]"
      ]
     },
     "execution_count": 38,
     "metadata": {},
     "output_type": "execute_result"
    }
   ],
   "source": [
    "df_train_UnderSampled.take(1)"
   ]
  },
  {
   "cell_type": "code",
   "execution_count": 39,
   "metadata": {
    "colab": {
     "base_uri": "https://localhost:8080/"
    },
    "id": "scEKki0PrRRf",
    "outputId": "4a1b7d77-b5a0-4e7b-c4a2-6fbc343c0485"
   },
   "outputs": [
    {
     "name": "stderr",
     "output_type": "stream",
     "text": [
      "/opt/conda/envs/pytorch/lib/python3.10/site-packages/spacy/pipeline/lemmatizer.py:211: UserWarning: [W108] The rule-based lemmatizer did not find POS annotation for one or more tokens. Check that your pipeline includes components that assign token.pos, typically 'tagger'+'attribute_ruler' or 'morphologizer'.\n",
      "  warnings.warn(Warnings.W108)\n",
      "[Stage 50:>                                                         (0 + 1) / 1]\r"
     ]
    },
    {
     "name": "stdout",
     "output_type": "stream",
     "text": [
      "+--------------------+-----------+-----+-----------------------+------------------------+-----------------+-----------+--------------+-------+-----+------+----------+\n",
      "|     conversation_id|     source|label|conversation_start_time|n_people_in_conversation|type_conversation|merged_text|merged_text_id|n_texts|array|vector|array_size|\n",
      "+--------------------+-----------+-----+-----------------------+------------------------+-----------------+-----------+--------------+-------+-----+------+----------+\n",
      "|296b5fe667a3acb29...|PAN12-train|    1|                  16:26|                       1|        Monologue|           |              |      0|   []|    []|         0|\n",
      "+--------------------+-----------+-----+-----------------------+------------------------+-----------------+-----------+--------------+-------+-----+------+----------+\n",
      "\n"
     ]
    },
    {
     "name": "stderr",
     "output_type": "stream",
     "text": [
      "                                                                                \r"
     ]
    }
   ],
   "source": [
    "df_train_UnderSampled.filter(col(\"array_size\") != 96).show()"
   ]
  },
  {
   "cell_type": "markdown",
   "metadata": {
    "id": "rz66ChHTsk0V"
   },
   "source": [
    "### Remove samples which failed to convert into vctors"
   ]
  },
  {
   "cell_type": "code",
   "execution_count": 40,
   "metadata": {
    "id": "DFOed5LMsQEs"
   },
   "outputs": [],
   "source": [
    "df_train_UnderSampled = df_train_UnderSampled.filter(col(\"array_size\") == 96)"
   ]
  },
  {
   "cell_type": "code",
   "execution_count": 41,
   "metadata": {
    "colab": {
     "base_uri": "https://localhost:8080/"
    },
    "id": "03kJh3NHMfdq",
    "outputId": "55301f01-3f66-4226-b57b-c8f4e76d085e"
   },
   "outputs": [
    {
     "name": "stderr",
     "output_type": "stream",
     "text": [
      "/opt/conda/envs/pytorch/lib/python3.10/site-packages/spacy/pipeline/lemmatizer.py:211: UserWarning: [W108] The rule-based lemmatizer did not find POS annotation for one or more tokens. Check that your pipeline includes components that assign token.pos, typically 'tagger'+'attribute_ruler' or 'morphologizer'.\n",
      "  warnings.warn(Warnings.W108)\n"
     ]
    },
    {
     "name": "stdout",
     "output_type": "stream",
     "text": [
      "+-----+-----+\n",
      "|label|count|\n",
      "+-----+-----+\n",
      "|    0| 2655|\n",
      "|    1| 2583|\n",
      "+-----+-----+\n",
      "\n"
     ]
    },
    {
     "name": "stderr",
     "output_type": "stream",
     "text": [
      "                                                                                \r"
     ]
    }
   ],
   "source": [
    "df_train_UnderSampled.groupBy('label').count().show()"
   ]
  },
  {
   "cell_type": "code",
   "execution_count": 42,
   "metadata": {
    "id": "chxgvRrJilkw"
   },
   "outputs": [],
   "source": [
    "test_df_final = test_df_final.filter(col(\"array_size\") == 96)"
   ]
  },
  {
   "cell_type": "code",
   "execution_count": 43,
   "metadata": {
    "colab": {
     "base_uri": "https://localhost:8080/"
    },
    "id": "3d-cBdGtils3",
    "outputId": "024cc4fd-72ff-42f5-aad3-46c92d94cc56"
   },
   "outputs": [
    {
     "name": "stderr",
     "output_type": "stream",
     "text": [
      "[Stage 54:>                                                         (0 + 1) / 1]\r"
     ]
    },
    {
     "name": "stdout",
     "output_type": "stream",
     "text": [
      "+-----+------+\n",
      "|label| count|\n",
      "+-----+------+\n",
      "|    1|  2882|\n",
      "|    0|152219|\n",
      "+-----+------+\n",
      "\n"
     ]
    },
    {
     "name": "stderr",
     "output_type": "stream",
     "text": [
      "                                                                                \r"
     ]
    }
   ],
   "source": [
    "test_df_final.groupBy('label').count().show()"
   ]
  },
  {
   "cell_type": "markdown",
   "metadata": {
    "id": "VXlWHh8UBGJ-"
   },
   "source": [
    "# 5 Build Model"
   ]
  },
  {
   "cell_type": "markdown",
   "metadata": {
    "id": "TJ8ZrUEv7z4k"
   },
   "source": [
    "##5.1 Simple Logistic Regression as Baseline\n",
    "\n",
    "1) Use SpaCy word vectors as X and Labels as Y\n",
    "\n",
    "2) Split spark df into training and validation sets\n",
    "\n",
    "3) Build a simple Logistic Regression model and feed tokens into the model\n",
    "\n"
   ]
  },
  {
   "cell_type": "code",
   "execution_count": 44,
   "metadata": {
    "colab": {
     "base_uri": "https://localhost:8080/"
    },
    "id": "HTfPLW4-Efxo",
    "outputId": "67b6b8ae-770d-4212-9a15-c95affbe9cfb"
   },
   "outputs": [
    {
     "name": "stderr",
     "output_type": "stream",
     "text": [
      "/opt/conda/envs/pytorch/lib/python3.10/site-packages/spacy/pipeline/lemmatizer.py:211: UserWarning: [W108] The rule-based lemmatizer did not find POS annotation for one or more tokens. Check that your pipeline includes components that assign token.pos, typically 'tagger'+'attribute_ruler' or 'morphologizer'.\n",
      "  warnings.warn(Warnings.W108)\n"
     ]
    },
    {
     "name": "stdout",
     "output_type": "stream",
     "text": [
      "+--------------------+-----+\n",
      "|            features|label|\n",
      "+--------------------+-----+\n",
      "|[-0.3521425127983...|    0|\n",
      "|[0.10005491971969...|    0|\n",
      "|[-0.0199431777000...|    0|\n",
      "|[-0.4120956361293...|    0|\n",
      "|[-0.4802114367485...|    0|\n",
      "|[-0.0332721807062...|    0|\n",
      "|[-0.1740683168172...|    0|\n",
      "|[-0.0729374736547...|    0|\n",
      "|[-0.1329477727413...|    0|\n",
      "|[0.00380337238311...|    0|\n",
      "|[-0.4028329849243...|    0|\n",
      "|[-0.7814432978630...|    0|\n",
      "|[-0.0590497590601...|    0|\n",
      "|[-0.5636925101280...|    0|\n",
      "|[-0.1837033182382...|    0|\n",
      "|[0.07788052409887...|    0|\n",
      "|[0.06216672807931...|    0|\n",
      "|[-0.3217445909976...|    0|\n",
      "|[-0.2823950350284...|    0|\n",
      "|[-0.2286850959062...|    0|\n",
      "+--------------------+-----+\n",
      "only showing top 20 rows\n",
      "\n"
     ]
    },
    {
     "name": "stderr",
     "output_type": "stream",
     "text": [
      "                                                                                \r"
     ]
    }
   ],
   "source": [
    "dataset = df_train_UnderSampled.select([\"vector\",\"label\"])\n",
    "dataset = dataset.withColumnRenamed(\"vector\", \"features\")\n",
    "dataset.show()"
   ]
  },
  {
   "cell_type": "code",
   "execution_count": 45,
   "metadata": {
    "colab": {
     "base_uri": "https://localhost:8080/"
    },
    "id": "GJMscIDYu9lm",
    "outputId": "b7ab744f-36a5-4000-f9fb-cd58d443de34"
   },
   "outputs": [
    {
     "name": "stderr",
     "output_type": "stream",
     "text": [
      "/opt/conda/envs/pytorch/lib/python3.10/site-packages/spacy/pipeline/lemmatizer.py:211: UserWarning: [W108] The rule-based lemmatizer did not find POS annotation for one or more tokens. Check that your pipeline includes components that assign token.pos, typically 'tagger'+'attribute_ruler' or 'morphologizer'.\n",
      "  warnings.warn(Warnings.W108)\n",
      "/opt/conda/envs/pytorch/lib/python3.10/site-packages/spacy/pipeline/lemmatizer.py:211: UserWarning: [W108] The rule-based lemmatizer did not find POS annotation for one or more tokens. Check that your pipeline includes components that assign token.pos, typically 'tagger'+'attribute_ruler' or 'morphologizer'.\n",
      "  warnings.warn(Warnings.W108)\n"
     ]
    },
    {
     "name": "stdout",
     "output_type": "stream",
     "text": [
      "+--------------------+-----+\n",
      "|            features|label|\n",
      "+--------------------+-----+\n",
      "|[-0.4497839212417...|    0|\n",
      "|[-0.0624015592038...|    0|\n",
      "|[-0.2680500149726...|    0|\n",
      "|[0.03563661500811...|    0|\n",
      "|[-0.1016811951994...|    0|\n",
      "|[-0.3309876024723...|    0|\n",
      "|[-0.3858698010444...|    0|\n",
      "|[-0.8366982936859...|    0|\n",
      "|[-0.0423891544342...|    1|\n",
      "|[0.05255183205008...|    0|\n",
      "|[-0.0573445372283...|    0|\n",
      "|[-0.3639622628688...|    0|\n",
      "|[-0.2806627452373...|    0|\n",
      "|[-0.0440953522920...|    0|\n",
      "|[-0.6009455919265...|    0|\n",
      "|[-0.1698518544435...|    0|\n",
      "|[-0.4964128732681...|    0|\n",
      "|[-0.1951097100973...|    0|\n",
      "|[-0.6065414547920...|    0|\n",
      "|[-0.2286946177482...|    0|\n",
      "+--------------------+-----+\n",
      "only showing top 20 rows\n",
      "\n"
     ]
    },
    {
     "name": "stderr",
     "output_type": "stream",
     "text": [
      "                                                                                \r"
     ]
    }
   ],
   "source": [
    "test_set = test_df_final.select([\"vector\",\"label\"])\n",
    "test_set = test_set.withColumnRenamed(\"vector\", \"features\")\n",
    "test_set.show()"
   ]
  },
  {
   "cell_type": "markdown",
   "metadata": {
    "id": "EqKyo-CJRT8L"
   },
   "source": [
    "### Build a Logistic Regression Model with 80-20 validation split"
   ]
  },
  {
   "cell_type": "code",
   "execution_count": 46,
   "metadata": {
    "id": "l4OcO3-m2KA3"
   },
   "outputs": [],
   "source": [
    "lr = LogisticRegression()\n",
    "# Build our ML pipeline\n",
    "pipeline = Pipeline(stages=[lr])"
   ]
  },
  {
   "cell_type": "code",
   "execution_count": 47,
   "metadata": {
    "id": "8ktQpB_0SM1t"
   },
   "outputs": [],
   "source": [
    "grid = ParamGridBuilder().addGrid(lr.maxIter, [0, 1]).build()\n",
    "evaluator = MulticlassClassificationEvaluator(metricName='fMeasureByLabel', beta=3, metricLabel=1)\n",
    "tvs = TrainValidationSplit(estimator=pipeline, estimatorParamMaps=grid, evaluator=evaluator, trainRatio=0.80, parallelism=1, seed=1234)"
   ]
  },
  {
   "cell_type": "markdown",
   "metadata": {
    "id": "ck1eO2Kis4EU"
   },
   "source": [
    "### Start Model Training"
   ]
  },
  {
   "cell_type": "code",
   "execution_count": 48,
   "metadata": {
    "colab": {
     "base_uri": "https://localhost:8080/"
    },
    "id": "xFz_fH0rOYGX",
    "outputId": "cfae018f-e4f6-495b-ab5e-ef33d8102fd4"
   },
   "outputs": [
    {
     "name": "stderr",
     "output_type": "stream",
     "text": [
      "/opt/conda/envs/pytorch/lib/python3.10/site-packages/spacy/pipeline/lemmatizer.py:211: UserWarning: [W108] The rule-based lemmatizer did not find POS annotation for one or more tokens. Check that your pipeline includes components that assign token.pos, typically 'tagger'+'attribute_ruler' or 'morphologizer'.\n",
      "  warnings.warn(Warnings.W108)\n",
      "/opt/conda/envs/pytorch/lib/python3.10/site-packages/spacy/pipeline/lemmatizer.py:211: UserWarning: [W108] The rule-based lemmatizer did not find POS annotation for one or more tokens. Check that your pipeline includes components that assign token.pos, typically 'tagger'+'attribute_ruler' or 'morphologizer'.\n",
      "  warnings.warn(Warnings.W108)\n",
      "24/03/02 22:50:53 WARN InstanceBuilder: Failed to load implementation from:dev.ludovic.netlib.blas.JNIBLAS\n",
      "/opt/conda/envs/pytorch/lib/python3.10/site-packages/spacy/pipeline/lemmatizer.py:211: UserWarning: [W108] The rule-based lemmatizer did not find POS annotation for one or more tokens. Check that your pipeline includes components that assign token.pos, typically 'tagger'+'attribute_ruler' or 'morphologizer'.\n",
      "  warnings.warn(Warnings.W108)\n",
      "/opt/conda/envs/pytorch/lib/python3.10/site-packages/spacy/pipeline/lemmatizer.py:211: UserWarning: [W108] The rule-based lemmatizer did not find POS annotation for one or more tokens. Check that your pipeline includes components that assign token.pos, typically 'tagger'+'attribute_ruler' or 'morphologizer'.\n",
      "  warnings.warn(Warnings.W108)\n",
      "/opt/conda/envs/pytorch/lib/python3.10/site-packages/spacy/pipeline/lemmatizer.py:211: UserWarning: [W108] The rule-based lemmatizer did not find POS annotation for one or more tokens. Check that your pipeline includes components that assign token.pos, typically 'tagger'+'attribute_ruler' or 'morphologizer'.\n",
      "  warnings.warn(Warnings.W108)\n",
      "                                                                                \r"
     ]
    },
    {
     "name": "stdout",
     "output_type": "stream",
     "text": [
      "Training time: 241.54346799850464s\n"
     ]
    },
    {
     "data": {
      "text/plain": [
       "0.8"
      ]
     },
     "execution_count": 48,
     "metadata": {},
     "output_type": "execute_result"
    }
   ],
   "source": [
    "start_time = time.time()\n",
    "tvsModel = tvs.fit(dataset)\n",
    "stop_time = time.time()\n",
    "print(f\"Training time: {stop_time - start_time}s\")\n",
    "tvsModel.getTrainRatio()"
   ]
  },
  {
   "cell_type": "markdown",
   "metadata": {
    "id": "cuLWlNAAzady"
   },
   "source": [
    "### F-beta validatoin score with just simpe 80-20 split with training and validation:"
   ]
  },
  {
   "cell_type": "code",
   "execution_count": 49,
   "metadata": {
    "colab": {
     "base_uri": "https://localhost:8080/"
    },
    "id": "9EW2iUqiF9Zd",
    "outputId": "fc2aa69f-1f30-444e-d822-62309608f757"
   },
   "outputs": [
    {
     "data": {
      "text/plain": [
       "[0.0, 0.8085446196845678]"
      ]
     },
     "execution_count": 49,
     "metadata": {},
     "output_type": "execute_result"
    }
   ],
   "source": [
    "tvsModel.validationMetrics"
   ]
  },
  {
   "cell_type": "markdown",
   "metadata": {
    "id": "dbTP0Mz7bW3B"
   },
   "source": [
    "## 5.2 Let's try to do 5-fold cross-validation"
   ]
  },
  {
   "cell_type": "code",
   "execution_count": 50,
   "metadata": {
    "id": "RX0ewephdIpV"
   },
   "outputs": [],
   "source": [
    "(trainingData, validationData) = dataset.randomSplit([0.8, 0.2], seed = 100)"
   ]
  },
  {
   "cell_type": "code",
   "execution_count": 51,
   "metadata": {
    "id": "HBV3QjenapOY"
   },
   "outputs": [],
   "source": [
    "grid = ParamGridBuilder().addGrid(lr.maxIter, [0, 1]).build()\n",
    "evaluator = MulticlassClassificationEvaluator(metricName='fMeasureByLabel', beta=3, metricLabel=1)\n",
    "cv = CrossValidator(estimator=pipeline, estimatorParamMaps=grid, evaluator=evaluator, numFolds=5, parallelism=1, seed=1234)"
   ]
  },
  {
   "cell_type": "code",
   "execution_count": 52,
   "metadata": {
    "colab": {
     "base_uri": "https://localhost:8080/"
    },
    "id": "3FB_2FJwVKOA",
    "outputId": "bdebb700-4e86-4d26-f4e7-23098a607fb3"
   },
   "outputs": [
    {
     "name": "stderr",
     "output_type": "stream",
     "text": [
      "24/03/02 23:02:30 WARN BlockManager: Asked to remove block broadcast_207_piece0, which does not exist\n",
      "                                                                                \r"
     ]
    },
    {
     "name": "stdout",
     "output_type": "stream",
     "text": [
      "Training time: 692.5241198539734s\n"
     ]
    }
   ],
   "source": [
    "start_time = time.time()\n",
    "cvModel = cv.fit(trainingData)\n",
    "stop_time = time.time()\n",
    "print(f\"Training time: {stop_time - start_time}s\")"
   ]
  },
  {
   "cell_type": "code",
   "execution_count": 53,
   "metadata": {
    "colab": {
     "base_uri": "https://localhost:8080/"
    },
    "id": "rv8dDFsmeIMb",
    "outputId": "47b6e020-fe43-4ce5-dfd3-f351ff51eb27"
   },
   "outputs": [
    {
     "data": {
      "text/plain": [
       "[0.0, 0.8077897139144847]"
      ]
     },
     "execution_count": 53,
     "metadata": {},
     "output_type": "execute_result"
    }
   ],
   "source": [
    "cvModel.avgMetrics"
   ]
  },
  {
   "cell_type": "code",
   "execution_count": 54,
   "metadata": {
    "colab": {
     "base_uri": "https://localhost:8080/"
    },
    "id": "MUDuA4KTelpW",
    "outputId": "536b5984-3fc3-41d8-ebbd-b0f8b3f733ec"
   },
   "outputs": [
    {
     "name": "stdout",
     "output_type": "stream",
     "text": [
      "Training F-beta3 score:  0.8077897139144847\n"
     ]
    }
   ],
   "source": [
    "print(\"Training F-beta3 score: \", cvModel.avgMetrics[1])"
   ]
  },
  {
   "cell_type": "code",
   "execution_count": 55,
   "metadata": {
    "colab": {
     "base_uri": "https://localhost:8080/"
    },
    "id": "5Jes7SgcdSrP",
    "outputId": "ad27d1e5-257e-452c-d91b-21363d985749"
   },
   "outputs": [
    {
     "name": "stderr",
     "output_type": "stream",
     "text": [
      "[Stage 131:============================>                            (1 + 1) / 2]\r"
     ]
    },
    {
     "name": "stdout",
     "output_type": "stream",
     "text": [
      "              precision    recall  f1-score   support\n",
      "\n",
      "           0       0.74      0.59      0.66       509\n",
      "           1       0.67      0.80      0.73       527\n",
      "\n",
      "    accuracy                           0.70      1036\n",
      "   macro avg       0.71      0.70      0.69      1036\n",
      "weighted avg       0.71      0.70      0.70      1036\n",
      "\n"
     ]
    },
    {
     "name": "stderr",
     "output_type": "stream",
     "text": [
      "                                                                                \r"
     ]
    }
   ],
   "source": [
    "# We are going to use sklearn to evalute the results on validation dataset\n",
    "\n",
    "preds = cvModel.transform(validationData)\n",
    "\n",
    "preds_df = preds.select('label',\"prediction\").toPandas()\n",
    "\n",
    "preds_df['prediction'] = preds_df['prediction'].apply(lambda x : int(x))\n",
    "\n",
    "print (classification_report(preds_df['label'], preds_df['prediction']))"
   ]
  },
  {
   "cell_type": "code",
   "execution_count": 56,
   "metadata": {
    "id": "jS8H4RxxgKG9"
   },
   "outputs": [],
   "source": [
    "f_beta3_score = fbeta_score(preds_df['label'], preds_df['prediction'], average='binary', beta=3, pos_label=1)"
   ]
  },
  {
   "cell_type": "code",
   "execution_count": 57,
   "metadata": {
    "colab": {
     "base_uri": "https://localhost:8080/"
    },
    "id": "hlsz21QsgO3L",
    "outputId": "8ac31953-7cde-42eb-ce2b-1b9cef8537a3"
   },
   "outputs": [
    {
     "name": "stdout",
     "output_type": "stream",
     "text": [
      "Validation F-beta3 score:  0.785554728220402\n"
     ]
    }
   ],
   "source": [
    "print(\"Validation F-beta3 score: \", f_beta3_score)"
   ]
  },
  {
   "cell_type": "markdown",
   "metadata": {
    "id": "mauVBM-UwfRa"
   },
   "source": [
    "## 5.3 Run against the Test Set"
   ]
  },
  {
   "cell_type": "code",
   "execution_count": 58,
   "metadata": {
    "colab": {
     "base_uri": "https://localhost:8080/"
    },
    "id": "Xb-yCN7hwndC",
    "outputId": "6d4a271e-4afc-4ee0-cdb9-01bf273b3431"
   },
   "outputs": [
    {
     "name": "stderr",
     "output_type": "stream",
     "text": [
      "                                                                                \r"
     ]
    },
    {
     "name": "stdout",
     "output_type": "stream",
     "text": [
      "              precision    recall  f1-score   support\n",
      "\n",
      "           0       1.00      0.73      0.84    152219\n",
      "           1       0.05      0.82      0.10      2882\n",
      "\n",
      "    accuracy                           0.73    155101\n",
      "   macro avg       0.52      0.77      0.47    155101\n",
      "weighted avg       0.98      0.73      0.83    155101\n",
      "\n"
     ]
    }
   ],
   "source": [
    "# We are going to use sklearn to evalute the results on test dataset\n",
    "\n",
    "preds_test = cvModel.transform(test_set)\n",
    "\n",
    "preds_test_df = preds_test.select('label',\"prediction\").toPandas()\n",
    "\n",
    "preds_test_df['prediction'] = preds_test_df['prediction'].apply(lambda x : int(x))\n",
    "\n",
    "print (classification_report(preds_test_df['label'], preds_test_df['prediction']))"
   ]
  },
  {
   "cell_type": "code",
   "execution_count": 59,
   "metadata": {
    "id": "-Jy-og83wnmc"
   },
   "outputs": [],
   "source": [
    "f_beta3_test_score = fbeta_score(preds_test_df['label'], preds_test_df['prediction'], average='binary', beta=3, pos_label=1)"
   ]
  },
  {
   "cell_type": "code",
   "execution_count": 60,
   "metadata": {
    "colab": {
     "base_uri": "https://localhost:8080/"
    },
    "id": "Z1lYT0LTwntl",
    "outputId": "8dea7a4d-910c-441a-9a41-f3d43501b664"
   },
   "outputs": [
    {
     "name": "stdout",
     "output_type": "stream",
     "text": [
      "Test F-beta3 score:  0.33944914708030766\n"
     ]
    }
   ],
   "source": [
    "print(\"Test F-beta3 score: \", f_beta3_test_score)"
   ]
  }
 ],
 "metadata": {
  "accelerator": "GPU",
  "colab": {
   "collapsed_sections": [
    "kXqD4nVVEyTb",
    "p5-Ir3kiE8Pb",
    "G1ICzyXD2Uv_",
    "wNVunf1s2qh0"
   ],
   "gpuType": "T4",
   "provenance": []
  },
  "kernelspec": {
   "display_name": "Python 3 (ipykernel)",
   "language": "python",
   "name": "python3"
  },
  "language_info": {
   "codemirror_mode": {
    "name": "ipython",
    "version": 3
   },
   "file_extension": ".py",
   "mimetype": "text/x-python",
   "name": "python",
   "nbconvert_exporter": "python",
   "pygments_lexer": "ipython3",
   "version": "3.10.13"
  }
 },
 "nbformat": 4,
 "nbformat_minor": 4
}
