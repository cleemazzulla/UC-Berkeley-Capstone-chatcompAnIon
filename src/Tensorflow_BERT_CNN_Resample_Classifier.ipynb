{
 "cells": [
  {
   "cell_type": "markdown",
   "metadata": {
    "id": "q13kDnOpv9zZ"
   },
   "source": [
    "# 1 Setting up Spark NLP"
   ]
  },
  {
   "cell_type": "code",
   "execution_count": 2,
   "metadata": {
    "colab": {
     "base_uri": "https://localhost:8080/"
    },
    "id": "Y5MpWFrTwBy-",
    "outputId": "9b53b34e-797e-48f8-c471-74fca72663a6"
   },
   "outputs": [],
   "source": [
    "# Mount google drive\n",
    "#from google.colab import drive\n",
    "#drive.mount('/content/drive')"
   ]
  },
  {
   "cell_type": "code",
   "execution_count": 3,
   "metadata": {},
   "outputs": [
    {
     "name": "stdout",
     "output_type": "stream",
     "text": [
      "Collecting en-core-web-sm==3.7.1\n",
      "  Downloading https://github.com/explosion/spacy-models/releases/download/en_core_web_sm-3.7.1/en_core_web_sm-3.7.1-py3-none-any.whl (12.8 MB)\n",
      "\u001b[2K     \u001b[90m━━━━━━━━━━━━━━━━━━━━━━━━━━━━━━━━━━━━━━━━\u001b[0m \u001b[32m12.8/12.8 MB\u001b[0m \u001b[31m69.2 MB/s\u001b[0m eta \u001b[36m0:00:00\u001b[0m00:01\u001b[0m0:01\u001b[0m\n",
      "\u001b[?25hRequirement already satisfied: spacy<3.8.0,>=3.7.2 in /opt/conda/envs/pytorch/lib/python3.10/site-packages (from en-core-web-sm==3.7.1) (3.7.4)\n",
      "Requirement already satisfied: spacy-legacy<3.1.0,>=3.0.11 in /opt/conda/envs/pytorch/lib/python3.10/site-packages (from spacy<3.8.0,>=3.7.2->en-core-web-sm==3.7.1) (3.0.12)\n",
      "Requirement already satisfied: spacy-loggers<2.0.0,>=1.0.0 in /opt/conda/envs/pytorch/lib/python3.10/site-packages (from spacy<3.8.0,>=3.7.2->en-core-web-sm==3.7.1) (1.0.5)\n",
      "Requirement already satisfied: murmurhash<1.1.0,>=0.28.0 in /opt/conda/envs/pytorch/lib/python3.10/site-packages (from spacy<3.8.0,>=3.7.2->en-core-web-sm==3.7.1) (1.0.10)\n",
      "Requirement already satisfied: cymem<2.1.0,>=2.0.2 in /opt/conda/envs/pytorch/lib/python3.10/site-packages (from spacy<3.8.0,>=3.7.2->en-core-web-sm==3.7.1) (2.0.8)\n",
      "Requirement already satisfied: preshed<3.1.0,>=3.0.2 in /opt/conda/envs/pytorch/lib/python3.10/site-packages (from spacy<3.8.0,>=3.7.2->en-core-web-sm==3.7.1) (3.0.9)\n",
      "Requirement already satisfied: thinc<8.3.0,>=8.2.2 in /opt/conda/envs/pytorch/lib/python3.10/site-packages (from spacy<3.8.0,>=3.7.2->en-core-web-sm==3.7.1) (8.2.3)\n",
      "Requirement already satisfied: wasabi<1.2.0,>=0.9.1 in /opt/conda/envs/pytorch/lib/python3.10/site-packages (from spacy<3.8.0,>=3.7.2->en-core-web-sm==3.7.1) (1.1.2)\n",
      "Requirement already satisfied: srsly<3.0.0,>=2.4.3 in /opt/conda/envs/pytorch/lib/python3.10/site-packages (from spacy<3.8.0,>=3.7.2->en-core-web-sm==3.7.1) (2.4.8)\n",
      "Requirement already satisfied: catalogue<2.1.0,>=2.0.6 in /opt/conda/envs/pytorch/lib/python3.10/site-packages (from spacy<3.8.0,>=3.7.2->en-core-web-sm==3.7.1) (2.0.10)\n",
      "Requirement already satisfied: weasel<0.4.0,>=0.1.0 in /opt/conda/envs/pytorch/lib/python3.10/site-packages (from spacy<3.8.0,>=3.7.2->en-core-web-sm==3.7.1) (0.3.4)\n",
      "Requirement already satisfied: typer<0.10.0,>=0.3.0 in /opt/conda/envs/pytorch/lib/python3.10/site-packages (from spacy<3.8.0,>=3.7.2->en-core-web-sm==3.7.1) (0.9.0)\n",
      "Requirement already satisfied: smart-open<7.0.0,>=5.2.1 in /opt/conda/envs/pytorch/lib/python3.10/site-packages (from spacy<3.8.0,>=3.7.2->en-core-web-sm==3.7.1) (6.4.0)\n",
      "Requirement already satisfied: tqdm<5.0.0,>=4.38.0 in /opt/conda/envs/pytorch/lib/python3.10/site-packages (from spacy<3.8.0,>=3.7.2->en-core-web-sm==3.7.1) (4.66.1)\n",
      "Requirement already satisfied: requests<3.0.0,>=2.13.0 in /opt/conda/envs/pytorch/lib/python3.10/site-packages (from spacy<3.8.0,>=3.7.2->en-core-web-sm==3.7.1) (2.31.0)\n",
      "Requirement already satisfied: pydantic!=1.8,!=1.8.1,<3.0.0,>=1.7.4 in /opt/conda/envs/pytorch/lib/python3.10/site-packages (from spacy<3.8.0,>=3.7.2->en-core-web-sm==3.7.1) (1.10.13)\n",
      "Requirement already satisfied: jinja2 in /opt/conda/envs/pytorch/lib/python3.10/site-packages (from spacy<3.8.0,>=3.7.2->en-core-web-sm==3.7.1) (3.1.3)\n",
      "Requirement already satisfied: setuptools in /opt/conda/envs/pytorch/lib/python3.10/site-packages (from spacy<3.8.0,>=3.7.2->en-core-web-sm==3.7.1) (69.1.1)\n",
      "Requirement already satisfied: packaging>=20.0 in /opt/conda/envs/pytorch/lib/python3.10/site-packages (from spacy<3.8.0,>=3.7.2->en-core-web-sm==3.7.1) (21.3)\n",
      "Requirement already satisfied: langcodes<4.0.0,>=3.2.0 in /opt/conda/envs/pytorch/lib/python3.10/site-packages (from spacy<3.8.0,>=3.7.2->en-core-web-sm==3.7.1) (3.3.0)\n",
      "Requirement already satisfied: numpy>=1.19.0 in /opt/conda/envs/pytorch/lib/python3.10/site-packages (from spacy<3.8.0,>=3.7.2->en-core-web-sm==3.7.1) (1.26.3)\n",
      "Requirement already satisfied: pyparsing!=3.0.5,>=2.0.2 in /opt/conda/envs/pytorch/lib/python3.10/site-packages (from packaging>=20.0->spacy<3.8.0,>=3.7.2->en-core-web-sm==3.7.1) (3.1.1)\n",
      "Requirement already satisfied: typing-extensions>=4.2.0 in /opt/conda/envs/pytorch/lib/python3.10/site-packages (from pydantic!=1.8,!=1.8.1,<3.0.0,>=1.7.4->spacy<3.8.0,>=3.7.2->en-core-web-sm==3.7.1) (4.9.0)\n",
      "Requirement already satisfied: charset-normalizer<4,>=2 in /opt/conda/envs/pytorch/lib/python3.10/site-packages (from requests<3.0.0,>=2.13.0->spacy<3.8.0,>=3.7.2->en-core-web-sm==3.7.1) (3.3.2)\n",
      "Requirement already satisfied: idna<4,>=2.5 in /opt/conda/envs/pytorch/lib/python3.10/site-packages (from requests<3.0.0,>=2.13.0->spacy<3.8.0,>=3.7.2->en-core-web-sm==3.7.1) (3.6)\n",
      "Requirement already satisfied: urllib3<3,>=1.21.1 in /opt/conda/envs/pytorch/lib/python3.10/site-packages (from requests<3.0.0,>=2.13.0->spacy<3.8.0,>=3.7.2->en-core-web-sm==3.7.1) (1.26.18)\n",
      "Requirement already satisfied: certifi>=2017.4.17 in /opt/conda/envs/pytorch/lib/python3.10/site-packages (from requests<3.0.0,>=2.13.0->spacy<3.8.0,>=3.7.2->en-core-web-sm==3.7.1) (2023.11.17)\n",
      "Requirement already satisfied: blis<0.8.0,>=0.7.8 in /opt/conda/envs/pytorch/lib/python3.10/site-packages (from thinc<8.3.0,>=8.2.2->spacy<3.8.0,>=3.7.2->en-core-web-sm==3.7.1) (0.7.11)\n",
      "Requirement already satisfied: confection<1.0.0,>=0.0.1 in /opt/conda/envs/pytorch/lib/python3.10/site-packages (from thinc<8.3.0,>=8.2.2->spacy<3.8.0,>=3.7.2->en-core-web-sm==3.7.1) (0.1.4)\n",
      "Requirement already satisfied: click<9.0.0,>=7.1.1 in /opt/conda/envs/pytorch/lib/python3.10/site-packages (from typer<0.10.0,>=0.3.0->spacy<3.8.0,>=3.7.2->en-core-web-sm==3.7.1) (8.1.7)\n",
      "Requirement already satisfied: cloudpathlib<0.17.0,>=0.7.0 in /opt/conda/envs/pytorch/lib/python3.10/site-packages (from weasel<0.4.0,>=0.1.0->spacy<3.8.0,>=3.7.2->en-core-web-sm==3.7.1) (0.16.0)\n",
      "Requirement already satisfied: MarkupSafe>=2.0 in /opt/conda/envs/pytorch/lib/python3.10/site-packages (from jinja2->spacy<3.8.0,>=3.7.2->en-core-web-sm==3.7.1) (2.1.3)\n",
      "\u001b[38;5;2m✔ Download and installation successful\u001b[0m\n",
      "You can now load the package via spacy.load('en_core_web_sm')\n",
      "\u001b[38;5;3m⚠ Restart to reload dependencies\u001b[0m\n",
      "If you are in a Jupyter or Colab notebook, you may need to restart Python in\n",
      "order to load all the package's dependencies. You can do this by selecting the\n",
      "'Restart kernel' or 'Restart runtime' option.\n"
     ]
    },
    {
     "name": "stderr",
     "output_type": "stream",
     "text": [
      "/home/ubuntu/spark-3.5.1-bin-hadoop3/python/pyspark/pandas/__init__.py:50: UserWarning: 'PYARROW_IGNORE_TIMEZONE' environment variable was not set. It is required to set this environment variable to '1' in both driver and executor sides if you use pyarrow>=2.0.0. pandas-on-Spark will set it for you but it does not work if there is a Spark context already launched.\n",
      "  warnings.warn(\n"
     ]
    },
    {
     "name": "stdout",
     "output_type": "stream",
     "text": [
      ":: loading settings :: url = jar:file:/home/ubuntu/spark-3.5.1-bin-hadoop3/jars/ivy-2.5.1.jar!/org/apache/ivy/core/settings/ivysettings.xml\n"
     ]
    },
    {
     "name": "stderr",
     "output_type": "stream",
     "text": [
      "Ivy Default Cache set to: /home/ubuntu/.ivy2/cache\n",
      "The jars for the packages stored in: /home/ubuntu/.ivy2/jars\n",
      "com.johnsnowlabs.nlp#spark-nlp-gpu_2.12 added as a dependency\n",
      ":: resolving dependencies :: org.apache.spark#spark-submit-parent-e8fa8b0c-3b17-4e57-a994-a044956da9b9;1.0\n",
      "\tconfs: [default]\n",
      "\tfound com.johnsnowlabs.nlp#spark-nlp-gpu_2.12;5.3.1 in central\n",
      "\tfound com.typesafe#config;1.4.2 in central\n",
      "\tfound org.rocksdb#rocksdbjni;6.29.5 in central\n",
      "\tfound com.amazonaws#aws-java-sdk-s3;1.12.500 in central\n",
      "\tfound com.amazonaws#aws-java-sdk-kms;1.12.500 in central\n",
      "\tfound com.amazonaws#aws-java-sdk-core;1.12.500 in central\n",
      "\tfound commons-logging#commons-logging;1.1.3 in central\n",
      "\tfound commons-codec#commons-codec;1.15 in central\n",
      "\tfound org.apache.httpcomponents#httpclient;4.5.13 in central\n",
      "\tfound org.apache.httpcomponents#httpcore;4.4.13 in central\n",
      "\tfound software.amazon.ion#ion-java;1.0.2 in central\n",
      "\tfound joda-time#joda-time;2.8.1 in central\n",
      "\tfound com.amazonaws#jmespath-java;1.12.500 in central\n",
      "\tfound com.github.universal-automata#liblevenshtein;3.0.0 in central\n",
      "\tfound com.google.protobuf#protobuf-java-util;3.0.0-beta-3 in central\n",
      "\tfound com.google.protobuf#protobuf-java;3.0.0-beta-3 in central\n",
      "\tfound com.google.code.gson#gson;2.3 in central\n",
      "\tfound it.unimi.dsi#fastutil;7.0.12 in central\n",
      "\tfound org.projectlombok#lombok;1.16.8 in central\n",
      "\tfound com.google.cloud#google-cloud-storage;2.20.1 in central\n",
      "\tfound com.google.guava#guava;31.1-jre in central\n",
      "\tfound com.google.guava#failureaccess;1.0.1 in central\n",
      "\tfound com.google.guava#listenablefuture;9999.0-empty-to-avoid-conflict-with-guava in central\n",
      "\tfound com.google.errorprone#error_prone_annotations;2.18.0 in central\n",
      "\tfound com.google.j2objc#j2objc-annotations;1.3 in central\n",
      "\tfound com.google.http-client#google-http-client;1.43.0 in central\n",
      "\tfound io.opencensus#opencensus-contrib-http-util;0.31.1 in central\n",
      "\tfound com.google.http-client#google-http-client-jackson2;1.43.0 in central\n",
      "\tfound com.google.http-client#google-http-client-gson;1.43.0 in central\n",
      "\tfound com.google.api-client#google-api-client;2.2.0 in central\n",
      "\tfound com.google.oauth-client#google-oauth-client;1.34.1 in central\n",
      "\tfound com.google.http-client#google-http-client-apache-v2;1.43.0 in central\n",
      "\tfound com.google.apis#google-api-services-storage;v1-rev20220705-2.0.0 in central\n",
      "\tfound com.google.code.gson#gson;2.10.1 in central\n",
      "\tfound com.google.cloud#google-cloud-core;2.12.0 in central\n",
      "\tfound io.grpc#grpc-context;1.53.0 in central\n",
      "\tfound com.google.auto.value#auto-value-annotations;1.10.1 in central\n",
      "\tfound com.google.auto.value#auto-value;1.10.1 in central\n",
      "\tfound javax.annotation#javax.annotation-api;1.3.2 in central\n",
      "\tfound com.google.cloud#google-cloud-core-http;2.12.0 in central\n",
      "\tfound com.google.http-client#google-http-client-appengine;1.43.0 in central\n",
      "\tfound com.google.api#gax-httpjson;0.108.2 in central\n",
      "\tfound com.google.cloud#google-cloud-core-grpc;2.12.0 in central\n",
      "\tfound io.grpc#grpc-alts;1.53.0 in central\n",
      "\tfound io.grpc#grpc-grpclb;1.53.0 in central\n",
      "\tfound org.conscrypt#conscrypt-openjdk-uber;2.5.2 in central\n",
      "\tfound io.grpc#grpc-auth;1.53.0 in central\n",
      "\tfound io.grpc#grpc-protobuf;1.53.0 in central\n",
      "\tfound io.grpc#grpc-protobuf-lite;1.53.0 in central\n",
      "\tfound io.grpc#grpc-core;1.53.0 in central\n",
      "\tfound com.google.api#gax;2.23.2 in central\n",
      "\tfound com.google.api#gax-grpc;2.23.2 in central\n",
      "\tfound com.google.auth#google-auth-library-credentials;1.16.0 in central\n",
      "\tfound com.google.auth#google-auth-library-oauth2-http;1.16.0 in central\n",
      "\tfound com.google.api#api-common;2.6.2 in central\n",
      "\tfound io.opencensus#opencensus-api;0.31.1 in central\n",
      "\tfound com.google.api.grpc#proto-google-iam-v1;1.9.2 in central\n",
      "\tfound com.google.protobuf#protobuf-java;3.21.12 in central\n",
      "\tfound com.google.protobuf#protobuf-java-util;3.21.12 in central\n",
      "\tfound com.google.api.grpc#proto-google-common-protos;2.14.2 in central\n",
      "\tfound org.threeten#threetenbp;1.6.5 in central\n",
      "\tfound com.google.api.grpc#proto-google-cloud-storage-v2;2.20.1-alpha in central\n",
      "\tfound com.google.api.grpc#grpc-google-cloud-storage-v2;2.20.1-alpha in central\n",
      "\tfound com.google.api.grpc#gapic-google-cloud-storage-v2;2.20.1-alpha in central\n",
      "\tfound com.google.code.findbugs#jsr305;3.0.2 in central\n",
      "\tfound io.grpc#grpc-api;1.53.0 in central\n",
      "\tfound io.grpc#grpc-stub;1.53.0 in central\n",
      "\tfound org.checkerframework#checker-qual;3.31.0 in central\n",
      "\tfound io.perfmark#perfmark-api;0.26.0 in central\n",
      "\tfound com.google.android#annotations;4.1.1.4 in central\n",
      "\tfound org.codehaus.mojo#animal-sniffer-annotations;1.22 in central\n",
      "\tfound io.opencensus#opencensus-proto;0.2.0 in central\n",
      "\tfound io.grpc#grpc-services;1.53.0 in central\n",
      "\tfound com.google.re2j#re2j;1.6 in central\n",
      "\tfound io.grpc#grpc-netty-shaded;1.53.0 in central\n",
      "\tfound io.grpc#grpc-googleapis;1.53.0 in central\n",
      "\tfound io.grpc#grpc-xds;1.53.0 in central\n",
      "\tfound com.navigamez#greex;1.0 in central\n",
      "\tfound dk.brics.automaton#automaton;1.11-8 in central\n",
      "\tfound com.johnsnowlabs.nlp#tensorflow-gpu_2.12;0.4.4 in central\n",
      "\tfound com.microsoft.onnxruntime#onnxruntime_gpu;1.17.0 in central\n",
      ":: resolution report :: resolve 1984ms :: artifacts dl 84ms\n",
      "\t:: modules in use:\n",
      "\tcom.amazonaws#aws-java-sdk-core;1.12.500 from central in [default]\n",
      "\tcom.amazonaws#aws-java-sdk-kms;1.12.500 from central in [default]\n",
      "\tcom.amazonaws#aws-java-sdk-s3;1.12.500 from central in [default]\n",
      "\tcom.amazonaws#jmespath-java;1.12.500 from central in [default]\n",
      "\tcom.github.universal-automata#liblevenshtein;3.0.0 from central in [default]\n",
      "\tcom.google.android#annotations;4.1.1.4 from central in [default]\n",
      "\tcom.google.api#api-common;2.6.2 from central in [default]\n",
      "\tcom.google.api#gax;2.23.2 from central in [default]\n",
      "\tcom.google.api#gax-grpc;2.23.2 from central in [default]\n",
      "\tcom.google.api#gax-httpjson;0.108.2 from central in [default]\n",
      "\tcom.google.api-client#google-api-client;2.2.0 from central in [default]\n",
      "\tcom.google.api.grpc#gapic-google-cloud-storage-v2;2.20.1-alpha from central in [default]\n",
      "\tcom.google.api.grpc#grpc-google-cloud-storage-v2;2.20.1-alpha from central in [default]\n",
      "\tcom.google.api.grpc#proto-google-cloud-storage-v2;2.20.1-alpha from central in [default]\n",
      "\tcom.google.api.grpc#proto-google-common-protos;2.14.2 from central in [default]\n",
      "\tcom.google.api.grpc#proto-google-iam-v1;1.9.2 from central in [default]\n",
      "\tcom.google.apis#google-api-services-storage;v1-rev20220705-2.0.0 from central in [default]\n",
      "\tcom.google.auth#google-auth-library-credentials;1.16.0 from central in [default]\n",
      "\tcom.google.auth#google-auth-library-oauth2-http;1.16.0 from central in [default]\n",
      "\tcom.google.auto.value#auto-value;1.10.1 from central in [default]\n",
      "\tcom.google.auto.value#auto-value-annotations;1.10.1 from central in [default]\n",
      "\tcom.google.cloud#google-cloud-core;2.12.0 from central in [default]\n",
      "\tcom.google.cloud#google-cloud-core-grpc;2.12.0 from central in [default]\n",
      "\tcom.google.cloud#google-cloud-core-http;2.12.0 from central in [default]\n",
      "\tcom.google.cloud#google-cloud-storage;2.20.1 from central in [default]\n",
      "\tcom.google.code.findbugs#jsr305;3.0.2 from central in [default]\n",
      "\tcom.google.code.gson#gson;2.10.1 from central in [default]\n",
      "\tcom.google.errorprone#error_prone_annotations;2.18.0 from central in [default]\n",
      "\tcom.google.guava#failureaccess;1.0.1 from central in [default]\n",
      "\tcom.google.guava#guava;31.1-jre from central in [default]\n",
      "\tcom.google.guava#listenablefuture;9999.0-empty-to-avoid-conflict-with-guava from central in [default]\n",
      "\tcom.google.http-client#google-http-client;1.43.0 from central in [default]\n",
      "\tcom.google.http-client#google-http-client-apache-v2;1.43.0 from central in [default]\n",
      "\tcom.google.http-client#google-http-client-appengine;1.43.0 from central in [default]\n",
      "\tcom.google.http-client#google-http-client-gson;1.43.0 from central in [default]\n",
      "\tcom.google.http-client#google-http-client-jackson2;1.43.0 from central in [default]\n",
      "\tcom.google.j2objc#j2objc-annotations;1.3 from central in [default]\n",
      "\tcom.google.oauth-client#google-oauth-client;1.34.1 from central in [default]\n",
      "\tcom.google.protobuf#protobuf-java;3.21.12 from central in [default]\n",
      "\tcom.google.protobuf#protobuf-java-util;3.21.12 from central in [default]\n",
      "\tcom.google.re2j#re2j;1.6 from central in [default]\n",
      "\tcom.johnsnowlabs.nlp#spark-nlp-gpu_2.12;5.3.1 from central in [default]\n",
      "\tcom.johnsnowlabs.nlp#tensorflow-gpu_2.12;0.4.4 from central in [default]\n",
      "\tcom.microsoft.onnxruntime#onnxruntime_gpu;1.17.0 from central in [default]\n",
      "\tcom.navigamez#greex;1.0 from central in [default]\n",
      "\tcom.typesafe#config;1.4.2 from central in [default]\n",
      "\tcommons-codec#commons-codec;1.15 from central in [default]\n",
      "\tcommons-logging#commons-logging;1.1.3 from central in [default]\n",
      "\tdk.brics.automaton#automaton;1.11-8 from central in [default]\n",
      "\tio.grpc#grpc-alts;1.53.0 from central in [default]\n",
      "\tio.grpc#grpc-api;1.53.0 from central in [default]\n",
      "\tio.grpc#grpc-auth;1.53.0 from central in [default]\n",
      "\tio.grpc#grpc-context;1.53.0 from central in [default]\n",
      "\tio.grpc#grpc-core;1.53.0 from central in [default]\n",
      "\tio.grpc#grpc-googleapis;1.53.0 from central in [default]\n",
      "\tio.grpc#grpc-grpclb;1.53.0 from central in [default]\n",
      "\tio.grpc#grpc-netty-shaded;1.53.0 from central in [default]\n",
      "\tio.grpc#grpc-protobuf;1.53.0 from central in [default]\n",
      "\tio.grpc#grpc-protobuf-lite;1.53.0 from central in [default]\n",
      "\tio.grpc#grpc-services;1.53.0 from central in [default]\n",
      "\tio.grpc#grpc-stub;1.53.0 from central in [default]\n",
      "\tio.grpc#grpc-xds;1.53.0 from central in [default]\n",
      "\tio.opencensus#opencensus-api;0.31.1 from central in [default]\n",
      "\tio.opencensus#opencensus-contrib-http-util;0.31.1 from central in [default]\n",
      "\tio.opencensus#opencensus-proto;0.2.0 from central in [default]\n",
      "\tio.perfmark#perfmark-api;0.26.0 from central in [default]\n",
      "\tit.unimi.dsi#fastutil;7.0.12 from central in [default]\n",
      "\tjavax.annotation#javax.annotation-api;1.3.2 from central in [default]\n",
      "\tjoda-time#joda-time;2.8.1 from central in [default]\n",
      "\torg.apache.httpcomponents#httpclient;4.5.13 from central in [default]\n",
      "\torg.apache.httpcomponents#httpcore;4.4.13 from central in [default]\n",
      "\torg.checkerframework#checker-qual;3.31.0 from central in [default]\n",
      "\torg.codehaus.mojo#animal-sniffer-annotations;1.22 from central in [default]\n",
      "\torg.conscrypt#conscrypt-openjdk-uber;2.5.2 from central in [default]\n",
      "\torg.projectlombok#lombok;1.16.8 from central in [default]\n",
      "\torg.rocksdb#rocksdbjni;6.29.5 from central in [default]\n",
      "\torg.threeten#threetenbp;1.6.5 from central in [default]\n",
      "\tsoftware.amazon.ion#ion-java;1.0.2 from central in [default]\n",
      "\t:: evicted modules:\n",
      "\tcommons-logging#commons-logging;1.2 by [commons-logging#commons-logging;1.1.3] in [default]\n",
      "\tcommons-codec#commons-codec;1.11 by [commons-codec#commons-codec;1.15] in [default]\n",
      "\tcom.google.protobuf#protobuf-java-util;3.0.0-beta-3 by [com.google.protobuf#protobuf-java-util;3.21.12] in [default]\n",
      "\tcom.google.protobuf#protobuf-java;3.0.0-beta-3 by [com.google.protobuf#protobuf-java;3.21.12] in [default]\n",
      "\tcom.google.code.gson#gson;2.3 by [com.google.code.gson#gson;2.10.1] in [default]\n",
      "\t---------------------------------------------------------------------\n",
      "\t|                  |            modules            ||   artifacts   |\n",
      "\t|       conf       | number| search|dwnlded|evicted|| number|dwnlded|\n",
      "\t---------------------------------------------------------------------\n",
      "\t|      default     |   83  |   0   |   0   |   5   ||   78  |   0   |\n",
      "\t---------------------------------------------------------------------\n",
      ":: retrieving :: org.apache.spark#spark-submit-parent-e8fa8b0c-3b17-4e57-a994-a044956da9b9\n",
      "\tconfs: [default]\n",
      "\t0 artifacts copied, 78 already retrieved (0kB/34ms)\n",
      "24/03/25 23:13:54 WARN NativeCodeLoader: Unable to load native-hadoop library for your platform... using builtin-java classes where applicable\n",
      "Setting default log level to \"WARN\".\n",
      "To adjust logging level use sc.setLogLevel(newLevel). For SparkR, use setLogLevel(newLevel).\n"
     ]
    }
   ],
   "source": [
    "# Install Java\n",
    "#!apt-get install openjdk-8-jdk-headless -qq > /dev/null\n",
    "\n",
    "# Download Spark\n",
    "#if os.path.isfile(\"./spark-3.5.1-bin-hadoop3.tgz\") == False:\n",
    "#    !wget -q https://downloads.apache.org/spark/spark-3.5.1/spark-3.5.1-bin-hadoop3.tgz\n",
    "\n",
    "# Unzip the file\n",
    "#!tar xf spark-3.5.1-bin-hadoop3.tgz\n",
    "\n",
    "# Setup environment for Spark\n",
    "import os\n",
    "os.environ[\"JAVA_HOME\"] = \"/usr/lib/jvm/java-8-openjdk-amd64\"\n",
    "os.environ[\"SPARK_HOME\"] = '/home/ubuntu/spark-3.5.1-bin-hadoop3'\n",
    "\n",
    "# Import findspark and load it\n",
    "#!pip install -q findspark\n",
    "import findspark\n",
    "findspark.init()\n",
    "\n",
    "# import spacy for NLP and re for regular expressions\n",
    "import spacy\n",
    "spacy.cli.download(\"en_core_web_sm\")\n",
    "import en_core_web_sm\n",
    "from spacy.lang.en.stop_words import STOP_WORDS\n",
    "import re\n",
    "\n",
    "# Install spark-nlp\n",
    "#!pip install spark-nlp\n",
    "import sparknlp\n",
    "from sparknlp.base import *\n",
    "from sparknlp.annotator import *\n",
    "from sparknlp.common import *\n",
    "from pyspark.sql.functions import *\n",
    "from pyspark.sql.functions import lit\n",
    "from pyspark.sql.window import Window\n",
    "from pyspark.sql.types import *\n",
    "from pyspark.ml.classification import LogisticRegression\n",
    "from pyspark.ml.evaluation import BinaryClassificationEvaluator\n",
    "from pyspark.mllib.evaluation import MulticlassMetrics\n",
    "from pyspark.ml import Pipeline\n",
    "from pyspark.ml.feature import StandardScaler, VectorAssembler, Imputer, OneHotEncoder, StringIndexer\n",
    "from pyspark.ml.tuning import ParamGridBuilder, CrossValidator, CrossValidatorModel, TrainValidationSplit, TrainValidationSplitModel\n",
    "from pyspark.ml.evaluation import MulticlassClassificationEvaluator\n",
    "from pyspark.ml.linalg import Vectors, VectorUDT\n",
    "import pyspark.pandas as ps\n",
    "\n",
    "# Create Spark session\n",
    "#from pyspark.sql import SparkSession\n",
    "#spark = SparkSession.builder\\\n",
    "#        .master(\"local\")\\\n",
    "#        .appName(\"Spark NLP\")\\\n",
    "#        .config('spark.executor.memory', \"24g\")\\\n",
    "#        .getOrCreate()\n",
    "\n",
    "# Create Spark session with GPU and large memory 24G\n",
    "from pyspark.sql import SparkSession\n",
    "spark = SparkSession.builder \\\n",
    "    .appName(\"Spark NLP\")\\\n",
    "    .master(\"local[*]\")\\\n",
    "    .config(\"spark.driver.memory\",\"24G\")\\\n",
    "    .config(\"spark.driver.maxResultSize\", \"0\") \\\n",
    "    .config(\"spark.kryoserializer.buffer.max\", \"2000M\")\\\n",
    "    .config(\"spark.jars.packages\", \"com.johnsnowlabs.nlp:spark-nlp-gpu_2.12:5.3.1\")\\\n",
    "    .getOrCreate()\n",
    "\n",
    "# Start Spark Session with Spark NLP\n",
    "#spark = sparknlp.start(gpu=True)\n",
    "#spark = sparknlp.start(gpu=False)"
   ]
  },
  {
   "cell_type": "code",
   "execution_count": 4,
   "metadata": {
    "colab": {
     "base_uri": "https://localhost:8080/",
     "height": 219
    },
    "id": "EAHj-cKh-Tu3",
    "outputId": "c8a870fe-213c-4974-ee8a-5bc034c98ff8"
   },
   "outputs": [
    {
     "data": {
      "text/html": [
       "\n",
       "            <div>\n",
       "                <p><b>SparkSession - in-memory</b></p>\n",
       "                \n",
       "        <div>\n",
       "            <p><b>SparkContext</b></p>\n",
       "\n",
       "            <p><a href=\"http://ip-172-31-43-191.ec2.internal:4040\">Spark UI</a></p>\n",
       "\n",
       "            <dl>\n",
       "              <dt>Version</dt>\n",
       "                <dd><code>v3.5.1</code></dd>\n",
       "              <dt>Master</dt>\n",
       "                <dd><code>local[*]</code></dd>\n",
       "              <dt>AppName</dt>\n",
       "                <dd><code>Spark NLP</code></dd>\n",
       "            </dl>\n",
       "        </div>\n",
       "        \n",
       "            </div>\n",
       "        "
      ],
      "text/plain": [
       "<pyspark.sql.session.SparkSession at 0x7effd833e8c0>"
      ]
     },
     "execution_count": 4,
     "metadata": {},
     "output_type": "execute_result"
    }
   ],
   "source": [
    "spark"
   ]
  },
  {
   "cell_type": "markdown",
   "metadata": {
    "id": "rpU399gyzMIh"
   },
   "source": [
    "# 2 Import libraries"
   ]
  },
  {
   "cell_type": "code",
   "execution_count": 5,
   "metadata": {
    "colab": {
     "base_uri": "https://localhost:8080/"
    },
    "id": "twk0MhsWzQAt",
    "outputId": "09bdd15e-47e5-4ce2-d481-facace0b34da"
   },
   "outputs": [],
   "source": [
    "import time\n",
    "import json\n",
    "import pickle\n",
    "import urllib.request\n",
    "# import altair as alt\n",
    "import pandas as pd\n",
    "import collections"
   ]
  },
  {
   "cell_type": "code",
   "execution_count": 6,
   "metadata": {
    "id": "0myA5b5upqXV"
   },
   "outputs": [],
   "source": [
    "# visualization\n",
    "import seaborn as sns\n",
    "import matplotlib.pyplot as plt\n",
    "from IPython.display import Image, display, HTML\n",
    "import pydot\n",
    "from pydotplus import graph_from_dot_data\n",
    "from wordcloud import WordCloud"
   ]
  },
  {
   "cell_type": "code",
   "execution_count": 7,
   "metadata": {
    "id": "30Id5H-8Z3tP"
   },
   "outputs": [],
   "source": [
    "import xml.etree.ElementTree as ET\n",
    "from xml.etree.ElementTree import ElementTree\n",
    "import datetime"
   ]
  },
  {
   "cell_type": "code",
   "execution_count": 8,
   "metadata": {},
   "outputs": [],
   "source": [
    "# sklearn\n",
    "from sklearn.model_selection import train_test_split\n",
    "from sklearn.model_selection import KFold\n",
    "from sklearn.preprocessing import OrdinalEncoder\n",
    "from sklearn import tree\n",
    "from sklearn.tree import export_graphviz\n",
    "from sklearn.metrics import accuracy_score, precision_score, f1_score, recall_score, zero_one_loss, classification_report, fbeta_score\n",
    "from sklearn.utils import resample"
   ]
  },
  {
   "cell_type": "code",
   "execution_count": 9,
   "metadata": {},
   "outputs": [
    {
     "name": "stderr",
     "output_type": "stream",
     "text": [
      "2024-03-25 23:14:24.403933: E external/local_xla/xla/stream_executor/cuda/cuda_dnn.cc:9261] Unable to register cuDNN factory: Attempting to register factory for plugin cuDNN when one has already been registered\n",
      "2024-03-25 23:14:24.404004: E external/local_xla/xla/stream_executor/cuda/cuda_fft.cc:607] Unable to register cuFFT factory: Attempting to register factory for plugin cuFFT when one has already been registered\n",
      "2024-03-25 23:14:24.619623: E external/local_xla/xla/stream_executor/cuda/cuda_blas.cc:1515] Unable to register cuBLAS factory: Attempting to register factory for plugin cuBLAS when one has already been registered\n",
      "2024-03-25 23:14:25.072901: I tensorflow/core/platform/cpu_feature_guard.cc:182] This TensorFlow binary is optimized to use available CPU instructions in performance-critical operations.\n",
      "To enable the following instructions: AVX2 FMA, in other operations, rebuild TensorFlow with the appropriate compiler flags.\n",
      "2024-03-25 23:14:27.470943: W tensorflow/compiler/tf2tensorrt/utils/py_utils.cc:38] TF-TRT Warning: Could not find TensorRT\n"
     ]
    },
    {
     "name": "stdout",
     "output_type": "stream",
     "text": [
      "Num GPUs Available:  1\n"
     ]
    }
   ],
   "source": [
    "import nltk\n",
    "import tensorflow as tf\n",
    "from transformers import AutoTokenizer\n",
    "from transformers import TFAutoModelForSequenceClassification, TFBertModel\n",
    "from datasets import Dataset, DatasetDict\n",
    "from datasets import ClassLabel, Value, Features\n",
    "print(\"Num GPUs Available: \", len(tf.config.list_physical_devices('GPU')))"
   ]
  },
  {
   "cell_type": "code",
   "execution_count": 10,
   "metadata": {},
   "outputs": [
    {
     "name": "stdout",
     "output_type": "stream",
     "text": [
      "Pytorch CUDA Available = True\n",
      "Pytorch CUDA Device Count = 1\n",
      "Pytorch CUDA Current Device = 0\n",
      "Pytorch CUDA Current Device Name = NVIDIA A10G\n"
     ]
    }
   ],
   "source": [
    "import torch\n",
    "print(\"Pytorch CUDA Available =\", torch.cuda.is_available())\n",
    "print(\"Pytorch CUDA Device Count =\", torch.cuda.device_count())\n",
    "print(\"Pytorch CUDA Current Device =\", torch.cuda.current_device())\n",
    "print(\"Pytorch CUDA Current Device Name =\", torch.cuda.get_device_name(torch.cuda.current_device()))"
   ]
  },
  {
   "cell_type": "markdown",
   "metadata": {
    "id": "VM49qt5rwRD5"
   },
   "source": [
    "# 3 Load data"
   ]
  },
  {
   "cell_type": "markdown",
   "metadata": {
    "id": "kXqD4nVVEyTb"
   },
   "source": [
    "### 3.1 Obtain training and test datasets"
   ]
  },
  {
   "cell_type": "code",
   "execution_count": 11,
   "metadata": {
    "id": "HWtPnSkKyoWj"
   },
   "outputs": [],
   "source": [
    "# train_merged_data_conversations_path = 's3a://capstone210/data/train_merged_data_conversations/'\n",
    "# test_merged_data_conversations_path = 's3a://capstone210/data/test_merged_data_conversations/'\n",
    "\n",
    "# train_merged_data_conversations_df = spark.read.parquet(train_merged_data_conversations_path)\n",
    "# test_merged_data_conversations_df = spark.read.parquet(test_merged_data_conversations_path)"
   ]
  },
  {
   "cell_type": "code",
   "execution_count": 12,
   "metadata": {},
   "outputs": [
    {
     "name": "stderr",
     "output_type": "stream",
     "text": [
      "24/03/25 23:14:37 WARN MetricsConfig: Cannot locate configuration: tried hadoop-metrics2-s3a-file-system.properties,hadoop-metrics2.properties\n",
      "                                                                                \r"
     ]
    }
   ],
   "source": [
    "train_data_path = 's3a://capstone210/data/final/train/'\n",
    "test_data_path = 's3a://capstone210/data/final/test/'\n",
    "\n",
    "train_merged_data_conversations_df = spark.read.parquet(train_data_path)\n",
    "test_merged_data_conversations_df = spark.read.parquet(test_data_path)"
   ]
  },
  {
   "cell_type": "code",
   "execution_count": 13,
   "metadata": {
    "id": "CEXBwf0pjAdr"
   },
   "outputs": [],
   "source": [
    "#train_df_final = df.filter(col('source') != 'PAN12-test')\n",
    "train_df_final = train_merged_data_conversations_df\n",
    "test_df_final = test_merged_data_conversations_df"
   ]
  },
  {
   "cell_type": "code",
   "execution_count": 14,
   "metadata": {
    "colab": {
     "base_uri": "https://localhost:8080/"
    },
    "id": "KGFvX03HqcHa",
    "outputId": "15916854-a5d4-4869-a1af-06a62ab47a01"
   },
   "outputs": [],
   "source": [
    "#train_df_final.take(1)"
   ]
  },
  {
   "cell_type": "code",
   "execution_count": 15,
   "metadata": {
    "colab": {
     "base_uri": "https://localhost:8080/"
    },
    "id": "vu4OK9DXBO3X",
    "outputId": "cc6d0d74-3a54-47c3-eb7f-38377839a1a3"
   },
   "outputs": [
    {
     "data": {
      "text/plain": [
       "DataFrame[summary: string, conversation_id: string, source: string, label: string, conversation_start_time: string, n_people_in_conversation: string, type_conversation: string, merged_text: string, merged_text_id: string, n_texts: string]"
      ]
     },
     "execution_count": 15,
     "metadata": {},
     "output_type": "execute_result"
    }
   ],
   "source": [
    "train_df_final.describe()"
   ]
  },
  {
   "cell_type": "code",
   "execution_count": 16,
   "metadata": {
    "colab": {
     "base_uri": "https://localhost:8080/"
    },
    "id": "V9uah5cHjAQt",
    "outputId": "1a95aa08-9ebf-4d6c-a67b-d7d123d153ee"
   },
   "outputs": [
    {
     "name": "stderr",
     "output_type": "stream",
     "text": [
      "                                                                                \r"
     ]
    },
    {
     "data": {
      "text/plain": [
       "69111"
      ]
     },
     "execution_count": 16,
     "metadata": {},
     "output_type": "execute_result"
    }
   ],
   "source": [
    "train_df_final.count()"
   ]
  },
  {
   "cell_type": "code",
   "execution_count": 17,
   "metadata": {
    "colab": {
     "base_uri": "https://localhost:8080/"
    },
    "id": "yLh5pdHQjwFO",
    "outputId": "7ff92f14-c860-414e-c4ed-fec8c9005047"
   },
   "outputs": [
    {
     "name": "stderr",
     "output_type": "stream",
     "text": [
      "                                                                                \r"
     ]
    },
    {
     "name": "stdout",
     "output_type": "stream",
     "text": [
      "+-----+-----+\n",
      "|label|count|\n",
      "+-----+-----+\n",
      "|1    |3119 |\n",
      "|0    |65992|\n",
      "+-----+-----+\n",
      "\n"
     ]
    }
   ],
   "source": [
    "train_df_final.groupBy('label')\\\n",
    "              .agg(count('*').alias('count'))\\\n",
    "              .show(truncate = False)"
   ]
  },
  {
   "cell_type": "code",
   "execution_count": 18,
   "metadata": {
    "colab": {
     "base_uri": "https://localhost:8080/"
    },
    "id": "UeCNRgMvt0f4",
    "outputId": "0b51b630-31fd-4916-c094-8c588ddb08f9"
   },
   "outputs": [],
   "source": [
    "#train_df_final.filter(col('label').isin([1])).show(truncate = True)"
   ]
  },
  {
   "cell_type": "code",
   "execution_count": 19,
   "metadata": {
    "colab": {
     "base_uri": "https://localhost:8080/"
    },
    "id": "5BThV51RTw1H",
    "outputId": "cce18238-fc86-4f3f-9be6-2e0bc64ddbb8"
   },
   "outputs": [
    {
     "data": {
      "text/plain": [
       "156985"
      ]
     },
     "execution_count": 19,
     "metadata": {},
     "output_type": "execute_result"
    }
   ],
   "source": [
    "test_df_final.count()"
   ]
  },
  {
   "cell_type": "code",
   "execution_count": 20,
   "metadata": {
    "colab": {
     "base_uri": "https://localhost:8080/"
    },
    "id": "tBPfF1PSTx4-",
    "outputId": "458c2148-1471-4ae1-f0de-cd9fe4df3115"
   },
   "outputs": [
    {
     "name": "stdout",
     "output_type": "stream",
     "text": [
      "+-----+------+\n",
      "|label|count |\n",
      "+-----+------+\n",
      "|1    |3723  |\n",
      "|0    |153262|\n",
      "+-----+------+\n",
      "\n"
     ]
    }
   ],
   "source": [
    "test_df_final.groupBy('label')\\\n",
    "             .agg(count('*').alias('count'))\\\n",
    "             .show(truncate = False)"
   ]
  },
  {
   "cell_type": "markdown",
   "metadata": {
    "id": "MaxRjQqC4xv4"
   },
   "source": [
    "# 4 Prepare Data before  BERT Tokenization\n"
   ]
  },
  {
   "cell_type": "markdown",
   "metadata": {
    "id": "36RxglM15HTc"
   },
   "source": [
    "## 4.1 Convert to Pandas dataframe and show Statistics"
   ]
  },
  {
   "cell_type": "code",
   "execution_count": 21,
   "metadata": {},
   "outputs": [
    {
     "name": "stderr",
     "output_type": "stream",
     "text": [
      "                                                                                \r"
     ]
    }
   ],
   "source": [
    "train_df_pandas = train_df_final.select('merged_text','label').toPandas()"
   ]
  },
  {
   "cell_type": "code",
   "execution_count": 22,
   "metadata": {},
   "outputs": [
    {
     "name": "stderr",
     "output_type": "stream",
     "text": [
      "                                                                                \r"
     ]
    }
   ],
   "source": [
    "test_df_pandas = test_df_final.select('merged_text','label').toPandas()"
   ]
  },
  {
   "cell_type": "code",
   "execution_count": 23,
   "metadata": {},
   "outputs": [
    {
     "name": "stderr",
     "output_type": "stream",
     "text": [
      "[nltk_data] Downloading package punkt to /home/ubuntu/nltk_data...\n",
      "[nltk_data]   Package punkt is already up-to-date!\n"
     ]
    },
    {
     "data": {
      "text/plain": [
       "True"
      ]
     },
     "execution_count": 23,
     "metadata": {},
     "output_type": "execute_result"
    }
   ],
   "source": [
    "nltk.download('punkt')"
   ]
  },
  {
   "cell_type": "code",
   "execution_count": 24,
   "metadata": {},
   "outputs": [],
   "source": [
    "train_df_pandas['num_char'] = train_df_pandas['merged_text'].apply(len)\n",
    "train_df_pandas['num_words'] = train_df_pandas['merged_text'].apply(lambda x: len(nltk.word_tokenize(x)))\n",
    "train_df_pandas['num_sent'] = train_df_pandas['merged_text'].apply(lambda x: len(nltk.sent_tokenize(x)))"
   ]
  },
  {
   "cell_type": "code",
   "execution_count": 25,
   "metadata": {},
   "outputs": [
    {
     "name": "stdout",
     "output_type": "stream",
     "text": [
      "Summary of each field when category is non-grooming:\n"
     ]
    },
    {
     "data": {
      "text/html": [
       "<div>\n",
       "<style scoped>\n",
       "    .dataframe tbody tr th:only-of-type {\n",
       "        vertical-align: middle;\n",
       "    }\n",
       "\n",
       "    .dataframe tbody tr th {\n",
       "        vertical-align: top;\n",
       "    }\n",
       "\n",
       "    .dataframe thead th {\n",
       "        text-align: right;\n",
       "    }\n",
       "</style>\n",
       "<table border=\"1\" class=\"dataframe\">\n",
       "  <thead>\n",
       "    <tr style=\"text-align: right;\">\n",
       "      <th></th>\n",
       "      <th>num_char</th>\n",
       "      <th>num_words</th>\n",
       "      <th>num_sent</th>\n",
       "    </tr>\n",
       "  </thead>\n",
       "  <tbody>\n",
       "    <tr>\n",
       "      <th>count</th>\n",
       "      <td>65992.000000</td>\n",
       "      <td>65992.000000</td>\n",
       "      <td>65992.000000</td>\n",
       "    </tr>\n",
       "    <tr>\n",
       "      <th>mean</th>\n",
       "      <td>510.916353</td>\n",
       "      <td>109.291263</td>\n",
       "      <td>5.619469</td>\n",
       "    </tr>\n",
       "    <tr>\n",
       "      <th>std</th>\n",
       "      <td>3715.143582</td>\n",
       "      <td>752.685795</td>\n",
       "      <td>62.950295</td>\n",
       "    </tr>\n",
       "    <tr>\n",
       "      <th>min</th>\n",
       "      <td>1.000000</td>\n",
       "      <td>1.000000</td>\n",
       "      <td>1.000000</td>\n",
       "    </tr>\n",
       "    <tr>\n",
       "      <th>25%</th>\n",
       "      <td>26.000000</td>\n",
       "      <td>8.000000</td>\n",
       "      <td>1.000000</td>\n",
       "    </tr>\n",
       "    <tr>\n",
       "      <th>50%</th>\n",
       "      <td>65.000000</td>\n",
       "      <td>16.000000</td>\n",
       "      <td>2.000000</td>\n",
       "    </tr>\n",
       "    <tr>\n",
       "      <th>75%</th>\n",
       "      <td>346.000000</td>\n",
       "      <td>76.000000</td>\n",
       "      <td>4.000000</td>\n",
       "    </tr>\n",
       "    <tr>\n",
       "      <th>max</th>\n",
       "      <td>773529.000000</td>\n",
       "      <td>165703.000000</td>\n",
       "      <td>11996.000000</td>\n",
       "    </tr>\n",
       "  </tbody>\n",
       "</table>\n",
       "</div>"
      ],
      "text/plain": [
       "            num_char      num_words      num_sent\n",
       "count   65992.000000   65992.000000  65992.000000\n",
       "mean      510.916353     109.291263      5.619469\n",
       "std      3715.143582     752.685795     62.950295\n",
       "min         1.000000       1.000000      1.000000\n",
       "25%        26.000000       8.000000      1.000000\n",
       "50%        65.000000      16.000000      2.000000\n",
       "75%       346.000000      76.000000      4.000000\n",
       "max    773529.000000  165703.000000  11996.000000"
      ]
     },
     "execution_count": 25,
     "metadata": {},
     "output_type": "execute_result"
    }
   ],
   "source": [
    "print(\"Summary of each field when category is non-grooming:\")\n",
    "train_df_pandas[train_df_pandas['label']==0][['num_char', 'num_words', 'num_sent']].describe()"
   ]
  },
  {
   "cell_type": "code",
   "execution_count": 26,
   "metadata": {},
   "outputs": [
    {
     "name": "stdout",
     "output_type": "stream",
     "text": [
      "Summary of each field when category is grooming:\n"
     ]
    },
    {
     "data": {
      "text/html": [
       "<div>\n",
       "<style scoped>\n",
       "    .dataframe tbody tr th:only-of-type {\n",
       "        vertical-align: middle;\n",
       "    }\n",
       "\n",
       "    .dataframe tbody tr th {\n",
       "        vertical-align: top;\n",
       "    }\n",
       "\n",
       "    .dataframe thead th {\n",
       "        text-align: right;\n",
       "    }\n",
       "</style>\n",
       "<table border=\"1\" class=\"dataframe\">\n",
       "  <thead>\n",
       "    <tr style=\"text-align: right;\">\n",
       "      <th></th>\n",
       "      <th>num_char</th>\n",
       "      <th>num_words</th>\n",
       "      <th>num_sent</th>\n",
       "    </tr>\n",
       "  </thead>\n",
       "  <tbody>\n",
       "    <tr>\n",
       "      <th>count</th>\n",
       "      <td>3119.000000</td>\n",
       "      <td>3119.000000</td>\n",
       "      <td>3119.000000</td>\n",
       "    </tr>\n",
       "    <tr>\n",
       "      <th>mean</th>\n",
       "      <td>467.827188</td>\n",
       "      <td>114.030138</td>\n",
       "      <td>4.906060</td>\n",
       "    </tr>\n",
       "    <tr>\n",
       "      <th>std</th>\n",
       "      <td>833.115071</td>\n",
       "      <td>200.483592</td>\n",
       "      <td>9.525454</td>\n",
       "    </tr>\n",
       "    <tr>\n",
       "      <th>min</th>\n",
       "      <td>1.000000</td>\n",
       "      <td>1.000000</td>\n",
       "      <td>1.000000</td>\n",
       "    </tr>\n",
       "    <tr>\n",
       "      <th>25%</th>\n",
       "      <td>27.000000</td>\n",
       "      <td>7.000000</td>\n",
       "      <td>1.000000</td>\n",
       "    </tr>\n",
       "    <tr>\n",
       "      <th>50%</th>\n",
       "      <td>123.000000</td>\n",
       "      <td>31.000000</td>\n",
       "      <td>1.000000</td>\n",
       "    </tr>\n",
       "    <tr>\n",
       "      <th>75%</th>\n",
       "      <td>595.500000</td>\n",
       "      <td>146.000000</td>\n",
       "      <td>5.000000</td>\n",
       "    </tr>\n",
       "    <tr>\n",
       "      <th>max</th>\n",
       "      <td>11867.000000</td>\n",
       "      <td>2696.000000</td>\n",
       "      <td>217.000000</td>\n",
       "    </tr>\n",
       "  </tbody>\n",
       "</table>\n",
       "</div>"
      ],
      "text/plain": [
       "           num_char    num_words     num_sent\n",
       "count   3119.000000  3119.000000  3119.000000\n",
       "mean     467.827188   114.030138     4.906060\n",
       "std      833.115071   200.483592     9.525454\n",
       "min        1.000000     1.000000     1.000000\n",
       "25%       27.000000     7.000000     1.000000\n",
       "50%      123.000000    31.000000     1.000000\n",
       "75%      595.500000   146.000000     5.000000\n",
       "max    11867.000000  2696.000000   217.000000"
      ]
     },
     "execution_count": 26,
     "metadata": {},
     "output_type": "execute_result"
    }
   ],
   "source": [
    "print(\"Summary of each field when category is grooming:\")\n",
    "train_df_pandas[train_df_pandas['label']==1][['num_char', 'num_words', 'num_sent']].describe()"
   ]
  },
  {
   "cell_type": "code",
   "execution_count": 27,
   "metadata": {},
   "outputs": [
    {
     "name": "stdout",
     "output_type": "stream",
     "text": [
      "Histogram of Number of Words by Category:\n"
     ]
    },
    {
     "data": {
      "image/png": "[encoded data removed]",
      "text/plain": [
       "<Figure size 1500x1000 with 1 Axes>"
      ]
     },
     "metadata": {},
     "output_type": "display_data"
    }
   ],
   "source": [
    "print(\"Histogram of Number of Words by Category:\")\n",
    "fig, ax = plt.subplots(figsize=(15,10))\n",
    "sns.histplot(train_df_pandas[train_df_pandas['label']==0]['num_words'], color='blue')\n",
    "sns.histplot(train_df_pandas[train_df_pandas['label']==1]['num_words'], color='red')\n",
    "ax.set_xlim(0,400)\n",
    "plt.legend(labels=['non-grooming', 'grooming'])\n",
    "plt.show()"
   ]
  },
  {
   "cell_type": "markdown",
   "metadata": {},
   "source": [
    "## 4.2 Stratified Split into Train and Validation before doing Resample to avoid Leakage"
   ]
  },
  {
   "cell_type": "code",
   "execution_count": 34,
   "metadata": {},
   "outputs": [],
   "source": [
    "# 5% for validation\n",
    "df_pd_train_split, df_pd_val_final = train_test_split(\n",
    "    train_df_pandas[['merged_text','label']], test_size=0.05, stratify=train_df_pandas[\"label\"].values, random_state=42\n",
    ")"
   ]
  },
  {
   "cell_type": "code",
   "execution_count": 35,
   "metadata": {},
   "outputs": [
    {
     "data": {
      "text/plain": [
       "merged_text    65655\n",
       "label          65655\n",
       "dtype: int64"
      ]
     },
     "execution_count": 35,
     "metadata": {},
     "output_type": "execute_result"
    }
   ],
   "source": [
    "df_pd_train_split.count()"
   ]
  },
  {
   "cell_type": "code",
   "execution_count": 36,
   "metadata": {},
   "outputs": [
    {
     "data": {
      "text/plain": [
       "label\n",
       "0    62692\n",
       "1     2963\n",
       "Name: count, dtype: int64"
      ]
     },
     "execution_count": 36,
     "metadata": {},
     "output_type": "execute_result"
    }
   ],
   "source": [
    "df_pd_train_split['label'].value_counts()"
   ]
  },
  {
   "cell_type": "code",
   "execution_count": 37,
   "metadata": {},
   "outputs": [
    {
     "data": {
      "text/plain": [
       "merged_text    3456\n",
       "label          3456\n",
       "dtype: int64"
      ]
     },
     "execution_count": 37,
     "metadata": {},
     "output_type": "execute_result"
    }
   ],
   "source": [
    "df_pd_val_final.count()"
   ]
  },
  {
   "cell_type": "code",
   "execution_count": 38,
   "metadata": {},
   "outputs": [
    {
     "data": {
      "text/plain": [
       "label\n",
       "0    3300\n",
       "1     156\n",
       "Name: count, dtype: int64"
      ]
     },
     "execution_count": 38,
     "metadata": {},
     "output_type": "execute_result"
    }
   ],
   "source": [
    "df_pd_val_final['label'].value_counts()"
   ]
  },
  {
   "cell_type": "code",
   "execution_count": 46,
   "metadata": {},
   "outputs": [],
   "source": [
    "try_df = df_pd_train_split[df_pd_train_split['label'] == 1]"
   ]
  },
  {
   "cell_type": "code",
   "execution_count": 56,
   "metadata": {
    "id": "IJxuECZYfwbu"
   },
   "outputs": [],
   "source": [
    "### function to oversample and undersample dataset automatically\n",
    "def resample(df, outcome_col, minor_upsample_ratio=0.0, seed=1234):\n",
    "    # Split dataset based on outcome\n",
    "    split0_df = df[df[outcome_col] == 0]\n",
    "    split1_df = df[df[outcome_col] == 1]\n",
    "    # determine which split is major vs minor\n",
    "    if (len(split0_df) > len(split1_df)):\n",
    "        major_df = split0_df\n",
    "        minor_df = split1_df\n",
    "    else:\n",
    "        minor_df = split0_df\n",
    "        major_df = split1_df\n",
    "    # upsample minor from ratio\n",
    "    if (minor_upsample_ratio != 0.0):\n",
    "        added_minor_df = minor_df.sample(replace=False, frac=minor_upsample_ratio, random_state=seed)\n",
    "        minor_df = pd.concat([minor_df,added_minor_df], axis=0)\n",
    "    # calculate ratio    \n",
    "    ratio = len(major_df)/len(minor_df)\n",
    "    print(\"Ratio of major vs minor before sampling: {}\".format(ratio))\n",
    "    # Start under-sampling with Spark\n",
    "    sampled_majority_df = major_df.sample(replace=False, frac=1/ratio, random_state=seed)\n",
    "    combined_df = pd.concat([sampled_majority_df,minor_df], axis=0)\n",
    "    # shuffle the DataFrame rows\n",
    "    combined_df = combined_df.sample(frac = 1)\n",
    "    print(f\"Final sample size: {combined_df.count()}\")\n",
    "    return combined_df"
   ]
  },
  {
   "cell_type": "code",
   "execution_count": 58,
   "metadata": {
    "colab": {
     "base_uri": "https://localhost:8080/",
     "height": 484
    },
    "id": "UCnsxuCPfz-s",
    "outputId": "e01a111c-443a-422f-b14d-55c3d648827c"
   },
   "outputs": [
    {
     "name": "stdout",
     "output_type": "stream",
     "text": [
      "Ratio of major vs minor before sampling: 14.103937007874016\n",
      "Final sample size: merged_text    8890\n",
      "label          8890\n",
      "dtype: int64\n"
     ]
    },
    {
     "data": {
      "image/png": "[encoded data removed]",
      "text/plain": [
       "<Figure size 640x480 with 1 Axes>"
      ]
     },
     "metadata": {},
     "output_type": "display_data"
    }
   ],
   "source": [
    "# Perform resampling technique\n",
    "df_pd_train_final = resample(df_pd_train_split, outcome_col='label', minor_upsample_ratio=0.5)\n",
    "df_pandas = df_pd_train_final[['label']]\n",
    "ax = sns.countplot(x=\"label\",data=df_pandas)"
   ]
  },
  {
   "cell_type": "code",
   "execution_count": 59,
   "metadata": {
    "colab": {
     "base_uri": "https://localhost:8080/",
     "height": 406
    },
    "id": "fUxJPo5idlaU",
    "outputId": "de29135b-5773-4791-a52b-029508d29be0"
   },
   "outputs": [
    {
     "data": {
      "image/png": "[encoded data removed]",
      "text/plain": [
       "<Figure size 640x480 with 1 Axes>"
      ]
     },
     "metadata": {},
     "output_type": "display_data"
    }
   ],
   "source": [
    "plt.pie(df_pandas[\"label\"].value_counts(), labels=['normal','groomer'], autopct='%1.1f%%')\n",
    "plt.show()"
   ]
  },
  {
   "cell_type": "markdown",
   "metadata": {},
   "source": [
    "# 5 Model Building: Tensorflow BERT Pretrained Model"
   ]
  },
  {
   "cell_type": "markdown",
   "metadata": {},
   "source": [
    "## 5.1 Download Tensorflow BERT Pretrained English language model for transferred-learning/fine-tuning"
   ]
  },
  {
   "cell_type": "code",
   "execution_count": 62,
   "metadata": {},
   "outputs": [],
   "source": [
    "# Select a BERT Base cased pretrained model\n",
    "model_checkpoint = \"bert-base-cased\"\n",
    "#model_checkpoint = \"ydshieh/bert-base-uncased-yelp-polarity\""
   ]
  },
  {
   "cell_type": "code",
   "execution_count": 63,
   "metadata": {},
   "outputs": [],
   "source": [
    "# use the AutoTokenizer object to avoid simple configuration mistakes \n",
    "# because it insures that we get the correct tokenizer given our pre-trained model.\n",
    "tokenizer = AutoTokenizer.from_pretrained(model_checkpoint)"
   ]
  },
  {
   "cell_type": "code",
   "execution_count": 64,
   "metadata": {},
   "outputs": [
    {
     "data": {
      "text/plain": [
       "{'input_ids': [101, 8667, 117, 1195, 1178, 1444, 1141, 5650, 1111, 1412, 4579, 1133, 1292, 3761, 1510, 1138, 1167, 119, 102], 'token_type_ids': [0, 0, 0, 0, 0, 0, 0, 0, 0, 0, 0, 0, 0, 0, 0, 0, 0, 0, 0], 'attention_mask': [1, 1, 1, 1, 1, 1, 1, 1, 1, 1, 1, 1, 1, 1, 1, 1, 1, 1, 1]}"
      ]
     },
     "execution_count": 64,
     "metadata": {},
     "output_type": "execute_result"
    }
   ],
   "source": [
    "# Testing the tokenizer \n",
    "tokenizer(\"Hello, we only need one sentence for our task but these reviews often have more.\")"
   ]
  },
  {
   "cell_type": "code",
   "execution_count": 65,
   "metadata": {},
   "outputs": [
    {
     "name": "stderr",
     "output_type": "stream",
     "text": [
      "2024-03-26 00:11:11.331187: I tensorflow/core/common_runtime/gpu/gpu_device.cc:1929] Created device /job:localhost/replica:0/task:0/device:GPU:0 with 20931 MB memory:  -> device: 0, name: NVIDIA A10G, pci bus id: 0000:00:1e.0, compute capability: 8.6\n",
      "Some weights of the PyTorch model were not used when initializing the TF 2.0 model TFBertModel: ['cls.seq_relationship.weight', 'cls.seq_relationship.bias', 'cls.predictions.transform.LayerNorm.bias', 'cls.predictions.transform.dense.weight', 'cls.predictions.transform.LayerNorm.weight', 'cls.predictions.bias', 'cls.predictions.transform.dense.bias']\n",
      "- This IS expected if you are initializing TFBertModel from a PyTorch model trained on another task or with another architecture (e.g. initializing a TFBertForSequenceClassification model from a BertForPreTraining model).\n",
      "- This IS NOT expected if you are initializing TFBertModel from a PyTorch model that you expect to be exactly identical (e.g. initializing a TFBertForSequenceClassification model from a BertForSequenceClassification model).\n",
      "All the weights of TFBertModel were initialized from the PyTorch model.\n",
      "If your task is similar to the task the model of the checkpoint was trained on, you can already use TFBertModel for predictions without further training.\n"
     ]
    }
   ],
   "source": [
    "#model = TFAutoModelForSequenceClassification.from_pretrained(model_checkpoint, num_labels=2) # 2 classes for 0 and 1\n",
    "model = TFBertModel.from_pretrained('bert-base-cased')"
   ]
  },
  {
   "cell_type": "markdown",
   "metadata": {},
   "source": [
    "### First understand this pretrained model"
   ]
  },
  {
   "cell_type": "code",
   "execution_count": 66,
   "metadata": {},
   "outputs": [
    {
     "data": {
      "text/plain": [
       "{'input_ids': <tf.Tensor: shape=(2, 10), dtype=int32, numpy=\n",
       "array([[ 101, 1188, 1110, 1632,  106,  102,    0,    0,    0,    0],\n",
       "       [ 101, 1188, 1110, 6434,  106,  102,    0,    0,    0,    0]],\n",
       "      dtype=int32)>, 'token_type_ids': <tf.Tensor: shape=(2, 10), dtype=int32, numpy=\n",
       "array([[0, 0, 0, 0, 0, 0, 0, 0, 0, 0],\n",
       "       [0, 0, 0, 0, 0, 0, 0, 0, 0, 0]], dtype=int32)>, 'attention_mask': <tf.Tensor: shape=(2, 10), dtype=int32, numpy=\n",
       "array([[1, 1, 1, 1, 1, 1, 0, 0, 0, 0],\n",
       "       [1, 1, 1, 1, 1, 1, 0, 0, 0, 0]], dtype=int32)>}"
      ]
     },
     "execution_count": 66,
     "metadata": {},
     "output_type": "execute_result"
    }
   ],
   "source": [
    "bert_input = tokenizer(['This is great!', \n",
    "                        'This is terrible!'],\n",
    "              max_length=10,\n",
    "              truncation=True,\n",
    "              padding='max_length',\n",
    "              return_tensors='tf')\n",
    "\n",
    "bert_input"
   ]
  },
  {
   "cell_type": "code",
   "execution_count": 67,
   "metadata": {},
   "outputs": [
    {
     "data": {
      "text/plain": [
       "199"
      ]
     },
     "execution_count": 67,
     "metadata": {},
     "output_type": "execute_result"
    }
   ],
   "source": [
    "len(model.weights)"
   ]
  },
  {
   "cell_type": "code",
   "execution_count": 68,
   "metadata": {},
   "outputs": [
    {
     "data": {
      "text/plain": [
       "<tf.Variable 'tf_bert_model/bert/embeddings/word_embeddings/weight:0' shape=(28996, 768) dtype=float32, numpy=\n",
       "array([[-0.00054784, -0.04156886,  0.01308366, ..., -0.0038919 ,\n",
       "        -0.0335485 ,  0.0149841 ],\n",
       "       [ 0.01688265, -0.03106827,  0.0042053 , ..., -0.01474032,\n",
       "        -0.03561099, -0.0036223 ],\n",
       "       [-0.00057234, -0.02673604,  0.00803954, ..., -0.01002474,\n",
       "        -0.0331164 , -0.01651673],\n",
       "       ...,\n",
       "       [-0.00643814,  0.01658491, -0.02035619, ..., -0.04178825,\n",
       "        -0.049201  ,  0.00416085],\n",
       "       [-0.00483562, -0.00267701, -0.02901638, ..., -0.05116647,\n",
       "         0.00449265, -0.01177113],\n",
       "       [ 0.03134822, -0.02974372, -0.02302896, ..., -0.01454749,\n",
       "        -0.05249038,  0.02843569]], dtype=float32)>"
      ]
     },
     "execution_count": 68,
     "metadata": {},
     "output_type": "execute_result"
    }
   ],
   "source": [
    "model.weights[0]"
   ]
  },
  {
   "cell_type": "code",
   "execution_count": 69,
   "metadata": {},
   "outputs": [
    {
     "data": {
      "text/plain": [
       "<tf.Variable 'tf_bert_model/bert/pooler/dense/bias:0' shape=(768,) dtype=float32, numpy=\n",
       "array([-1.50734568e-02,  1.15576256e-02,  6.71289489e-02, -3.79595719e-02,\n",
       "        2.43307836e-02,  1.50577426e-02,  2.09368803e-02, -2.61408910e-02,\n",
       "       -2.90915053e-02, -1.38923815e-02,  3.09333578e-02,  5.21944202e-02,\n",
       "       -5.75941950e-02, -4.93868850e-02,  5.91138331e-03, -2.66220700e-02,\n",
       "        3.70860100e-02, -1.22669768e-02, -7.31746182e-02, -3.85903148e-03,\n",
       "        5.62834041e-03, -6.60414621e-02,  6.07320294e-03,  3.13254260e-02,\n",
       "        2.53744666e-02, -8.26197583e-03,  3.47666033e-02,  7.85319731e-02,\n",
       "        2.17614118e-02,  1.13239223e-02,  8.88187159e-03, -4.50317115e-02,\n",
       "        6.20975485e-03, -5.75052686e-02,  6.27997052e-03, -9.16685816e-03,\n",
       "        5.24975406e-03, -2.02680775e-03, -2.26684730e-03, -2.08576731e-02,\n",
       "       -1.77780390e-02, -7.12624006e-03, -8.95360857e-03, -9.89831239e-03,\n",
       "        1.44612920e-02,  1.22608040e-02,  1.33658424e-02, -1.07102301e-02,\n",
       "       -7.97575898e-03,  5.14353067e-02, -2.03066673e-02,  1.40610179e-02,\n",
       "       -4.40690108e-02,  2.15258058e-02,  4.45438363e-02,  2.07136180e-02,\n",
       "        4.51539867e-02,  2.17697816e-03, -6.41447231e-02,  1.31000197e-02,\n",
       "        2.22245101e-02,  7.32348941e-04,  3.14464495e-02, -8.54487251e-03,\n",
       "       -1.08128907e-02, -1.05678542e-02,  4.11185622e-03,  1.14403972e-02,\n",
       "       -1.04986783e-02,  1.34668713e-02,  7.91485049e-03,  7.64418207e-03,\n",
       "        3.36096548e-02, -2.87320614e-02,  7.45439960e-04, -2.72421483e-02,\n",
       "        1.59867313e-02, -7.24773556e-02,  2.99970489e-02,  6.87075108e-02,\n",
       "        8.12267186e-04, -6.49364665e-02,  4.26564366e-02, -1.04302466e-02,\n",
       "        6.38924632e-03, -1.01539036e-02, -6.90015703e-02, -6.25542700e-02,\n",
       "       -9.69155971e-03, -1.34735256e-02,  1.23870028e-02, -3.94308530e-02,\n",
       "       -7.21351150e-03, -1.71451438e-02,  7.48859048e-02, -8.00358690e-03,\n",
       "       -4.35445597e-03,  4.55032010e-03,  2.49902606e-02, -1.76042831e-05,\n",
       "       -1.37562519e-02,  1.81993879e-02,  6.66306168e-02, -6.68044686e-02,\n",
       "        6.05442561e-02, -5.69216069e-03, -1.62426289e-02, -2.19131522e-02,\n",
       "       -5.62625565e-03,  3.13114049e-03,  3.35003771e-02, -1.94238555e-02,\n",
       "       -1.49896750e-02, -4.74192289e-04,  2.05231272e-02, -1.24923335e-02,\n",
       "        3.69505174e-02,  1.97398430e-03, -9.38898697e-03,  7.19935074e-02,\n",
       "       -3.54301278e-03,  4.39068265e-02,  5.36283143e-02,  2.16635652e-02,\n",
       "       -1.00922901e-02, -9.69922729e-03,  3.73366871e-03,  1.12607479e-02,\n",
       "        7.63678318e-03, -1.17580369e-02,  1.45196933e-02, -4.04851921e-02,\n",
       "       -6.29408062e-02,  6.35174364e-02,  2.07387246e-04,  7.63584301e-02,\n",
       "       -5.46013154e-02,  4.95114625e-02, -7.22566396e-02, -1.16049228e-02,\n",
       "       -5.76535193e-03, -9.31276847e-03, -4.53876555e-02,  7.45208375e-03,\n",
       "        3.66922282e-02,  3.48741119e-03, -2.26282161e-02, -1.05361454e-03,\n",
       "       -7.56354770e-03, -1.78335235e-02,  1.50960470e-02,  3.39903124e-02,\n",
       "       -2.33323965e-02,  1.95419993e-02,  4.33956385e-02,  3.94544974e-02,\n",
       "        3.23049277e-02,  5.10889385e-03, -4.74575236e-02,  1.96317397e-02,\n",
       "        3.33440341e-02, -6.00855574e-02, -5.92573639e-03, -5.34793884e-02,\n",
       "        6.08889759e-02,  3.38262469e-02,  1.22977244e-02, -4.82163802e-02,\n",
       "        6.97643459e-02,  6.41556270e-03,  7.48744048e-03, -1.00035323e-02,\n",
       "       -1.01967007e-02, -6.70468658e-02,  3.15204239e-03,  1.40398694e-02,\n",
       "        1.36897033e-02,  4.94583771e-02, -4.32156920e-02,  3.32345068e-02,\n",
       "        5.91290044e-03, -4.91111120e-03,  2.09548473e-02,  6.32456392e-02,\n",
       "       -4.96081784e-02, -3.29519995e-02, -3.58653143e-02,  1.23695983e-02,\n",
       "       -5.22364536e-03, -1.80922914e-03, -7.79801328e-03,  2.35278215e-02,\n",
       "        6.71817511e-02,  1.57699641e-02, -3.99124660e-02, -1.01719769e-02,\n",
       "        3.55660357e-02, -1.01172449e-02,  7.52389356e-02,  1.21125411e-02,\n",
       "       -7.07217604e-02, -7.34147476e-03,  3.19404490e-02,  3.49522047e-02,\n",
       "       -4.15474293e-04,  2.68699806e-02, -3.81290936e-03,  7.87442364e-03,\n",
       "        4.60124314e-02, -1.98843870e-02,  7.13112950e-02, -1.43677453e-02,\n",
       "        1.41815851e-02,  1.87471844e-02,  4.27819490e-02, -7.86559656e-03,\n",
       "       -6.09981269e-03,  3.61393951e-03,  3.54701700e-03,  6.72214329e-02,\n",
       "       -6.23648576e-02, -7.49235274e-03,  1.22883487e-02, -5.54960854e-02,\n",
       "       -5.14156073e-02,  3.05825323e-02, -2.02608900e-03, -5.49401506e-04,\n",
       "       -2.38945871e-03, -6.71408419e-03, -5.68053266e-03,  1.01210931e-02,\n",
       "        4.60989811e-02, -8.43186979e-04,  8.11856892e-03, -6.83118924e-02,\n",
       "       -6.51604384e-02, -1.28819728e-02, -3.39617990e-02,  2.98837340e-03,\n",
       "        1.24123469e-02, -1.28581561e-02, -2.39246655e-02, -6.45039976e-02,\n",
       "        2.28129011e-02,  7.65298959e-03, -2.42264625e-02, -1.40158692e-02,\n",
       "        7.69570703e-03, -6.91687241e-02,  6.08197600e-03, -8.60224292e-03,\n",
       "       -4.72059399e-02,  6.17931858e-02, -5.52721368e-03,  5.47820143e-02,\n",
       "        3.87868397e-02, -4.55099083e-02,  1.32247480e-02, -6.81118220e-02,\n",
       "       -1.36191016e-02, -1.57946087e-02, -9.47985332e-03, -5.37527632e-03,\n",
       "       -1.88633427e-03, -1.29041560e-02,  5.15058823e-02, -2.13823821e-02,\n",
       "       -1.62581075e-02, -8.52789090e-04, -7.27544576e-02,  1.75346434e-02,\n",
       "       -2.42281100e-03,  6.00579195e-02,  2.67624445e-02,  1.09495074e-02,\n",
       "        3.69597077e-02,  2.82860510e-02, -4.62171771e-02, -6.32456690e-02,\n",
       "        1.08553888e-02,  1.64766945e-02, -4.52655219e-02, -4.28296300e-03,\n",
       "        6.54683933e-02, -6.80707693e-02, -1.48132155e-02, -2.91549861e-02,\n",
       "       -4.09784243e-02, -6.68958947e-02, -4.39482369e-03, -1.35582099e-02,\n",
       "        1.14214728e-02,  2.71930993e-02, -7.10367225e-03, -6.83177402e-03,\n",
       "        4.56544310e-02,  2.42824685e-02, -3.68834171e-03,  1.52108194e-02,\n",
       "        2.50237412e-03, -2.54458375e-02, -2.10399870e-02, -9.48995072e-03,\n",
       "       -2.22719787e-03, -7.99700692e-02,  6.35889024e-02, -3.69159952e-02,\n",
       "        1.88901387e-02,  1.52938040e-02, -5.30944057e-02,  1.65372211e-02,\n",
       "       -3.64058698e-03, -2.63555460e-02,  8.85862799e-04,  7.14008808e-02,\n",
       "        2.56143734e-02, -4.11149673e-03,  5.68890478e-03,  1.17023764e-02,\n",
       "        1.04130909e-03, -1.22326449e-03,  2.52221548e-03,  7.81953987e-03,\n",
       "        3.02152312e-03, -1.18059618e-02,  4.79991883e-02,  1.56491511e-02,\n",
       "       -4.22769412e-02,  5.73995337e-02,  1.45311537e-03,  1.08729191e-02,\n",
       "       -1.21996272e-02,  1.92264896e-02,  3.62164825e-02, -5.72011247e-03,\n",
       "        5.03568072e-03, -5.70783531e-03, -8.28680873e-04, -2.72736680e-02,\n",
       "        3.94713646e-03, -5.40194474e-02,  1.11979591e-02,  1.38316751e-02,\n",
       "        3.98346595e-02, -3.54062505e-02,  1.82249844e-02,  8.77120811e-03,\n",
       "        1.55107407e-02, -6.89544380e-02,  7.76137859e-02, -3.11272126e-02,\n",
       "        9.46613960e-03, -5.78649202e-03, -1.79593321e-02,  7.15553248e-03,\n",
       "        4.35825326e-02,  2.74523087e-02,  3.99563462e-02,  3.38336849e-03,\n",
       "        6.31322851e-04,  1.75574291e-02,  3.30756605e-02, -4.01025675e-02,\n",
       "       -7.79810734e-03, -7.02485368e-02,  4.76451172e-03,  4.19210903e-02,\n",
       "        5.28956279e-02, -2.30231113e-03, -1.07318638e-02, -6.47362992e-02,\n",
       "        1.66486129e-02, -1.81613006e-02, -4.30910708e-03, -3.71426041e-03,\n",
       "       -3.55063844e-03,  6.47558924e-03,  6.36207014e-02,  6.50912523e-03,\n",
       "        1.13009280e-02,  6.25101198e-03, -2.83332169e-02,  1.08771352e-02,\n",
       "        1.25714820e-02,  6.46313876e-02, -4.08309102e-02, -1.12845525e-02,\n",
       "        3.95629592e-02, -7.12483842e-03,  5.84823021e-04,  1.37770455e-02,\n",
       "        6.83316961e-02, -3.53993550e-02,  4.44349973e-03, -5.82763068e-02,\n",
       "       -9.75955743e-03, -1.77747663e-02,  1.48210814e-02,  9.45749227e-03,\n",
       "       -1.27865095e-02, -1.02564553e-02,  2.74516940e-02, -4.59948089e-03,\n",
       "        1.02975639e-02,  7.99172837e-03,  1.68055296e-02,  5.42837288e-03,\n",
       "        2.75667943e-03, -9.91020259e-03,  9.41189472e-03,  1.35701476e-02,\n",
       "       -4.17264178e-03,  2.64196564e-02, -2.48913243e-02,  6.16143718e-02,\n",
       "       -7.55026890e-03, -7.25496411e-02, -6.40020445e-02, -3.29420762e-03,\n",
       "       -5.56510650e-02, -8.73068720e-03, -2.24557295e-02,  4.02017459e-02,\n",
       "        2.60639675e-02, -6.87100142e-02, -7.07455352e-02, -2.27630138e-02,\n",
       "       -1.74379572e-02,  1.43608870e-02, -4.76022670e-03,  4.44691349e-03,\n",
       "       -1.85345281e-02,  1.16839365e-03, -8.70048534e-04,  1.25528676e-02,\n",
       "       -1.85801927e-03, -2.37180926e-02,  1.12988343e-02, -6.71646968e-02,\n",
       "        5.86297782e-03, -7.48968497e-02, -9.30463988e-03,  5.21021783e-02,\n",
       "       -3.93615514e-02, -1.27655454e-02, -2.98728850e-02, -8.23660102e-03,\n",
       "       -2.16745678e-02,  1.45089589e-02,  3.09891906e-02,  8.58246535e-03,\n",
       "        4.92060604e-03, -4.52029966e-02,  3.57140936e-02, -5.55246649e-03,\n",
       "       -2.80691404e-03, -1.92735977e-02, -3.63247395e-02,  6.29403740e-02,\n",
       "        9.15461686e-03,  3.86106852e-03, -7.17583206e-03, -5.72603680e-02,\n",
       "        3.76893692e-02, -1.37156947e-02, -1.94874555e-02, -3.30357067e-02,\n",
       "        3.39434575e-03, -2.27217153e-02, -7.11368844e-02,  2.58831680e-03,\n",
       "        5.99115714e-02,  2.16958746e-02,  3.05718612e-02,  9.95886791e-03,\n",
       "       -9.70898010e-03, -2.04974245e-02, -1.59485347e-03, -7.98640773e-02,\n",
       "        7.32763810e-03,  1.90917216e-02, -2.96696033e-02,  3.71559733e-03,\n",
       "        3.72450575e-02,  3.51297185e-02, -2.93105152e-02, -3.53429876e-02,\n",
       "        1.42070372e-02,  1.92970093e-02,  1.67574789e-02,  4.60056588e-03,\n",
       "       -1.20560182e-02,  6.46500755e-03,  6.97334623e-03, -3.67122628e-02,\n",
       "       -2.40060259e-02,  5.04286066e-02, -6.80805221e-02,  2.71777641e-02,\n",
       "        5.63228019e-02,  6.47453815e-02,  1.10355914e-02, -9.71844885e-03,\n",
       "       -4.29868773e-02, -1.60657763e-02, -1.92364324e-02, -5.39891841e-03,\n",
       "       -7.43873343e-02,  5.78131564e-02, -7.39430860e-02, -7.49819819e-03,\n",
       "        6.61882153e-03,  5.93357347e-03,  3.70514616e-02,  1.14470208e-02,\n",
       "       -6.93233013e-02, -7.34167323e-02, -5.11278259e-03, -9.18660033e-03,\n",
       "        4.05231342e-02, -1.29054056e-03, -6.13570213e-03,  1.03290880e-03,\n",
       "        1.04759475e-02,  4.77899462e-02, -1.31285917e-02,  3.74216586e-03,\n",
       "       -6.93185702e-02,  6.97401017e-02,  5.47491712e-03, -5.51813915e-02,\n",
       "        5.17337769e-02, -6.03082813e-02,  2.75530182e-02,  2.85414495e-02,\n",
       "        3.56006920e-02,  2.14876886e-02, -7.18146265e-02,  7.32270256e-02,\n",
       "       -6.54239282e-02,  2.14218423e-02, -7.39824995e-02, -7.26165101e-02,\n",
       "        6.81239814e-02, -3.54252532e-02, -2.28209421e-03, -6.44085482e-02,\n",
       "       -5.95241375e-02,  3.17596551e-03,  4.55015525e-03, -1.51184592e-02,\n",
       "        4.12208959e-02, -6.19955547e-02, -5.66011667e-02,  9.07998905e-03,\n",
       "       -3.04575209e-02,  3.40786763e-03,  5.72416931e-02,  8.22823495e-03,\n",
       "        4.03890647e-02,  8.63620732e-03,  2.35396605e-02, -3.44253262e-03,\n",
       "        4.99465689e-02,  2.15593334e-02, -1.08644227e-02,  3.84291261e-03,\n",
       "       -4.37660888e-02,  2.61365753e-02,  4.75456845e-03,  4.42798808e-03,\n",
       "        2.58524455e-02,  1.11449277e-03,  5.36855543e-03,  1.44949993e-02,\n",
       "       -5.45947216e-02,  7.67857581e-03, -1.17517170e-02,  2.72073001e-02,\n",
       "        2.36060675e-02,  1.22987209e-02,  4.81835566e-03, -2.29083863e-03,\n",
       "       -4.69463324e-04, -4.12394665e-02,  1.16138719e-02, -5.64301275e-02,\n",
       "        2.53769159e-02, -3.33067887e-02,  8.81363638e-03, -3.45748896e-03,\n",
       "        1.05167357e-02, -2.34516524e-02,  5.74675314e-02,  5.92182912e-02,\n",
       "       -1.51830995e-02,  2.51823803e-03,  4.53966707e-02,  3.70435882e-03,\n",
       "        2.59692352e-02, -4.97468896e-02, -2.12492631e-03,  3.45883779e-02,\n",
       "       -1.84437372e-02,  4.45910804e-02,  1.29194651e-02,  3.27999447e-03,\n",
       "        2.33284310e-02, -4.75571640e-02, -1.38758216e-02, -1.39522823e-02,\n",
       "       -1.19573297e-03,  6.71045808e-03, -4.35185805e-02,  3.05808848e-03,\n",
       "        3.78869995e-02,  1.35473758e-02, -6.63828924e-02,  2.45384742e-02,\n",
       "       -6.13225885e-02,  1.23041123e-03,  4.90757525e-02,  2.78650597e-03,\n",
       "        6.58775046e-02, -2.84775998e-03,  6.17051497e-03, -9.06484481e-03,\n",
       "       -6.15484230e-02, -6.75574839e-02,  5.14338585e-03,  2.02775723e-03,\n",
       "       -1.91357881e-02,  7.01024979e-02,  1.19593395e-02,  1.43271522e-03,\n",
       "       -5.83490208e-02,  3.06912069e-03,  5.68752363e-02,  5.02763689e-03,\n",
       "        2.11375598e-02, -1.76637899e-04, -1.78692304e-02, -2.69326046e-02,\n",
       "       -1.24721089e-02,  6.02157041e-03,  2.54114643e-02, -3.11022121e-02,\n",
       "       -2.48889588e-02, -1.08583644e-02,  7.34705925e-02, -4.75343354e-02,\n",
       "       -2.23265626e-02, -2.90014315e-02, -1.02907056e-02,  6.15546247e-03,\n",
       "        1.09119862e-02,  1.59044992e-02, -8.98480974e-03,  3.80473025e-02,\n",
       "       -1.86593328e-02,  5.10449223e-02, -4.96828146e-02, -4.46893200e-02,\n",
       "        7.11609870e-02,  2.33205524e-03, -3.97214927e-02, -9.73721314e-03,\n",
       "       -1.23677347e-02, -1.26882941e-02, -8.68788920e-04,  1.57659445e-02,\n",
       "       -2.59897988e-02, -1.35029620e-02, -2.62283199e-02,  1.31178682e-03,\n",
       "       -5.13821002e-03, -3.55825946e-02, -1.93752926e-02, -1.08238198e-02,\n",
       "       -2.33506169e-02,  5.09223305e-02,  3.53164002e-02,  7.58030117e-02,\n",
       "       -6.75565600e-02,  1.60591211e-02,  4.12516855e-03,  6.27798438e-02,\n",
       "        4.61247796e-03, -1.19680800e-02,  3.07781063e-02,  6.31412417e-02,\n",
       "       -9.42258805e-04,  1.20999143e-02, -5.59597556e-03,  8.15381017e-03,\n",
       "       -2.43723136e-03, -1.67889893e-02,  6.00546487e-02, -3.04064024e-02,\n",
       "        7.10593816e-03, -3.63359340e-02, -6.90379515e-02,  6.38166890e-02,\n",
       "       -1.83000427e-03,  3.94912176e-02, -6.39115751e-04,  8.87770485e-03,\n",
       "       -1.60112176e-02,  3.63498814e-02, -4.36528027e-02, -2.21409183e-02,\n",
       "       -7.60954916e-02,  6.98547531e-03, -1.22649539e-02, -4.80121672e-02,\n",
       "        9.71281622e-03,  2.99773403e-02, -5.54720424e-02, -2.72794887e-02,\n",
       "       -2.42503607e-04, -7.05499947e-02,  2.70134211e-02, -5.09797186e-02,\n",
       "       -8.48709419e-03, -3.53745036e-02,  6.72376156e-02, -9.38815251e-03,\n",
       "        1.70451624e-03,  2.69361921e-02, -2.54312754e-02,  1.80234164e-02,\n",
       "        3.01113930e-02,  1.42860990e-02,  1.17618842e-02,  4.71927412e-03,\n",
       "       -2.85722432e-03, -5.17587848e-02, -3.36291157e-02, -2.38689650e-02,\n",
       "        1.48964934e-02, -3.62048075e-02, -2.26560608e-02,  5.07313795e-02,\n",
       "        3.70667279e-02, -5.32106683e-02, -5.03271669e-02,  5.47535941e-02,\n",
       "       -1.60394181e-02,  4.63456549e-02, -1.12558920e-02, -6.63390830e-02,\n",
       "       -7.51720071e-02,  4.11190651e-03, -1.24755967e-02,  3.72148119e-02,\n",
       "       -2.52267974e-03,  1.67366248e-02,  1.71781778e-02,  5.70139056e-03,\n",
       "       -5.47281513e-03,  3.33498977e-03,  4.37404914e-03,  1.04412446e-02,\n",
       "       -7.11460970e-03,  7.41021857e-02, -3.77505599e-03,  4.45834585e-02],\n",
       "      dtype=float32)>"
      ]
     },
     "execution_count": 69,
     "metadata": {},
     "output_type": "execute_result"
    }
   ],
   "source": [
    "model.weights[-1]"
   ]
  },
  {
   "cell_type": "code",
   "execution_count": 70,
   "metadata": {},
   "outputs": [
    {
     "data": {
      "text/plain": [
       "TFBaseModelOutputWithPoolingAndCrossAttentions(last_hidden_state=<tf.Tensor: shape=(2, 10, 768), dtype=float32, numpy=\n",
       "array([[[ 0.31789973,  0.35246536,  0.15059774, ..., -0.17058697,\n",
       "          0.35169613,  0.01252132],\n",
       "        [ 0.2947696 , -0.09967357,  0.63946366, ..., -0.0371312 ,\n",
       "          0.2188456 ,  0.35178167],\n",
       "        [ 0.1574572 ,  0.6033648 ,  0.71432495, ...,  0.08226307,\n",
       "          0.30106372,  0.63735604],\n",
       "        ...,\n",
       "        [-0.08408154,  0.21920009,  0.3045543 , ..., -0.08951649,\n",
       "          0.323519  ,  0.26547533],\n",
       "        [ 0.24848063, -0.03157446,  0.32583135, ..., -0.10880932,\n",
       "          0.4849398 ,  0.05661326],\n",
       "        [ 0.2249243 , -0.07156662,  0.20357609, ...,  0.04799681,\n",
       "          0.44845217,  0.15163925]],\n",
       "\n",
       "       [[ 0.33174518,  0.38341597,  0.08286627, ..., -0.22092699,\n",
       "          0.24292815, -0.13691893],\n",
       "        [ 0.32388794, -0.04733388,  0.66865486, ..., -0.00434742,\n",
       "          0.34234908,  0.3566632 ],\n",
       "        [ 0.249951  ,  0.74611145,  0.35974252, ..., -0.10303065,\n",
       "          0.24679716,  0.7532058 ],\n",
       "        ...,\n",
       "        [ 0.07417629,  0.14872922,  0.12213755, ..., -0.10517771,\n",
       "          0.19000098,  0.20076528],\n",
       "        [ 0.27344218, -0.12218007,  0.11208501, ..., -0.04862086,\n",
       "          0.40100175,  0.15122622],\n",
       "        [ 0.2248047 , -0.0299395 , -0.00996821, ...,  0.15116245,\n",
       "          0.41556227,  0.15960912]]], dtype=float32)>, pooler_output=<tf.Tensor: shape=(2, 768), dtype=float32, numpy=\n",
       "array([[-0.68791336,  0.4675041 ,  0.99986416, ...,  0.99995786,\n",
       "        -0.8792758 ,  0.9927541 ],\n",
       "       [-0.58802146,  0.5196976 ,  0.9998489 , ...,  0.99995744,\n",
       "        -0.818995  ,  0.99361855]], dtype=float32)>, past_key_values=None, hidden_states=None, attentions=None, cross_attentions=None)"
      ]
     },
     "execution_count": 70,
     "metadata": {},
     "output_type": "execute_result"
    }
   ],
   "source": [
    "bert_output = model(bert_input)\n",
    "bert_output"
   ]
  },
  {
   "cell_type": "markdown",
   "metadata": {},
   "source": [
    "## 5.2 Tokenize Inputs and prepare Tensorflow Train and Test Datasets"
   ]
  },
  {
   "cell_type": "code",
   "execution_count": 71,
   "metadata": {},
   "outputs": [],
   "source": [
    "df_pd_train = df_pd_train_final"
   ]
  },
  {
   "cell_type": "code",
   "execution_count": 72,
   "metadata": {},
   "outputs": [],
   "source": [
    "df_pd_val = df_pd_val_final"
   ]
  },
  {
   "cell_type": "code",
   "execution_count": 73,
   "metadata": {},
   "outputs": [],
   "source": [
    "df_pd_test = test_df_pandas"
   ]
  },
  {
   "cell_type": "code",
   "execution_count": 74,
   "metadata": {},
   "outputs": [],
   "source": [
    "X_train = df_pd_train['merged_text']\n",
    "y_train = df_pd_train['label']\n",
    "X_val = df_pd_val['merged_text']\n",
    "y_val = df_pd_val['label']\n",
    "X_test = df_pd_test['merged_text']\n",
    "y_test = df_pd_test['label']"
   ]
  },
  {
   "cell_type": "code",
   "execution_count": 75,
   "metadata": {},
   "outputs": [
    {
     "data": {
      "text/plain": [
       "68736    And slowly take your bikini off :) Mmmmm wow I...\n",
       "38367    Seek help should be an rfc for pretty much any...\n",
       "11578    hi this is misa hi this is Ahmed hi ahmed woul...\n",
       "16498    hi how r u you miss me i got more pics on mysp...\n",
       "36393    what no hello lol your spelling needs work wzu...\n",
       "Name: merged_text, dtype: object"
      ]
     },
     "execution_count": 75,
     "metadata": {},
     "output_type": "execute_result"
    }
   ],
   "source": [
    "X_train.head()"
   ]
  },
  {
   "cell_type": "code",
   "execution_count": 76,
   "metadata": {},
   "outputs": [
    {
     "data": {
      "text/plain": [
       "68736    1\n",
       "38367    0\n",
       "11578    0\n",
       "16498    1\n",
       "36393    1\n",
       "Name: label, dtype: int32"
      ]
     },
     "execution_count": 76,
     "metadata": {},
     "output_type": "execute_result"
    }
   ],
   "source": [
    "y_train.head()"
   ]
  },
  {
   "cell_type": "code",
   "execution_count": 77,
   "metadata": {},
   "outputs": [
    {
     "data": {
      "text/plain": [
       "8890"
      ]
     },
     "execution_count": 77,
     "metadata": {},
     "output_type": "execute_result"
    }
   ],
   "source": [
    "X_train.count()"
   ]
  },
  {
   "cell_type": "code",
   "execution_count": 78,
   "metadata": {},
   "outputs": [
    {
     "data": {
      "text/plain": [
       "3456"
      ]
     },
     "execution_count": 78,
     "metadata": {},
     "output_type": "execute_result"
    }
   ],
   "source": [
    "X_val.count()"
   ]
  },
  {
   "cell_type": "code",
   "execution_count": 79,
   "metadata": {},
   "outputs": [],
   "source": [
    "MAX_SEQUENCE_LENGTH = 512                 # set max_length of the input sequence"
   ]
  },
  {
   "cell_type": "code",
   "execution_count": 80,
   "metadata": {},
   "outputs": [],
   "source": [
    "#@title BERT Tokenization of training and test data\n",
    "bert_train_tokenized = tokenizer(X_train.tolist(),\n",
    "                                      max_length=MAX_SEQUENCE_LENGTH,\n",
    "                                      truncation=True,\n",
    "                                      padding='max_length',\n",
    "                                      return_tensors='tf')\n",
    "bert_train_inputs = [bert_train_tokenized.input_ids,\n",
    "                     bert_train_tokenized.token_type_ids,\n",
    "                     bert_train_tokenized.attention_mask]\n",
    "bert_train_labels = np.array(y_train)\n",
    "\n",
    "bert_val_tokenized = tokenizer(X_val.tolist(),\n",
    "                                      max_length=MAX_SEQUENCE_LENGTH,\n",
    "                                      truncation=True,\n",
    "                                      padding='max_length',\n",
    "                                      return_tensors='tf')\n",
    "bert_val_inputs = [bert_val_tokenized.input_ids,\n",
    "                   bert_val_tokenized.token_type_ids,\n",
    "                   bert_val_tokenized.attention_mask]\n",
    "bert_val_labels = np.array(y_val)\n",
    "\n",
    "bert_test_tokenized = tokenizer(X_test.tolist(),\n",
    "                                     max_length=MAX_SEQUENCE_LENGTH,\n",
    "                                     truncation=True,\n",
    "                                     padding='max_length',\n",
    "                                     return_tensors='tf')\n",
    "bert_test_inputs = [bert_test_tokenized.input_ids,\n",
    "                    bert_test_tokenized.token_type_ids,\n",
    "                    bert_test_tokenized.attention_mask]\n",
    "bert_test_labels = np.array(y_test)"
   ]
  },
  {
   "cell_type": "code",
   "execution_count": 81,
   "metadata": {},
   "outputs": [
    {
     "data": {
      "text/plain": [
       "[<tf.Tensor: shape=(8890, 512), dtype=int32, numpy=\n",
       " array([[  101,  1262,  2494, ...,     0,     0,     0],\n",
       "        [  101,  3969,  1377, ...,     0,     0,     0],\n",
       "        [  101, 20844,  1142, ...,     0,     0,     0],\n",
       "        ...,\n",
       "        [  101, 23998,  2963, ...,     0,     0,     0],\n",
       "        [  101,  5015,   131, ...,     0,     0,     0],\n",
       "        [  101,  1128,  1253, ...,     0,     0,     0]], dtype=int32)>,\n",
       " <tf.Tensor: shape=(8890, 512), dtype=int32, numpy=\n",
       " array([[0, 0, 0, ..., 0, 0, 0],\n",
       "        [0, 0, 0, ..., 0, 0, 0],\n",
       "        [0, 0, 0, ..., 0, 0, 0],\n",
       "        ...,\n",
       "        [0, 0, 0, ..., 0, 0, 0],\n",
       "        [0, 0, 0, ..., 0, 0, 0],\n",
       "        [0, 0, 0, ..., 0, 0, 0]], dtype=int32)>,\n",
       " <tf.Tensor: shape=(8890, 512), dtype=int32, numpy=\n",
       " array([[1, 1, 1, ..., 0, 0, 0],\n",
       "        [1, 1, 1, ..., 0, 0, 0],\n",
       "        [1, 1, 1, ..., 0, 0, 0],\n",
       "        ...,\n",
       "        [1, 1, 1, ..., 0, 0, 0],\n",
       "        [1, 1, 1, ..., 0, 0, 0],\n",
       "        [1, 1, 1, ..., 0, 0, 0]], dtype=int32)>]"
      ]
     },
     "execution_count": 81,
     "metadata": {},
     "output_type": "execute_result"
    }
   ],
   "source": [
    "bert_train_inputs"
   ]
  },
  {
   "cell_type": "code",
   "execution_count": 82,
   "metadata": {},
   "outputs": [
    {
     "name": "stdout",
     "output_type": "stream",
     "text": [
      "8890\n",
      "3456\n",
      "156985\n"
     ]
    }
   ],
   "source": [
    "print(len(bert_train_inputs[0]))\n",
    "print(len(bert_val_inputs[0]))\n",
    "print(len(bert_test_inputs[0]))"
   ]
  },
  {
   "cell_type": "markdown",
   "metadata": {},
   "source": [
    "## 5.3 Run Training Model"
   ]
  },
  {
   "cell_type": "code",
   "execution_count": 83,
   "metadata": {},
   "outputs": [],
   "source": [
    "batch_size = 32\n",
    "learning_rate = 0.001\n",
    "#learning_rate = 0.0005\n",
    "epochs = 40"
   ]
  },
  {
   "cell_type": "code",
   "execution_count": 84,
   "metadata": {},
   "outputs": [],
   "source": [
    "# Defining functions for different performance metrics\n",
    "from keras import backend as K\n",
    "\n",
    "def recall(y_true, y_pred):\n",
    "    true_positives = K.sum(K.round(K.clip(y_true * y_pred, 0, 1)))\n",
    "    possible_positives = K.sum(K.round(K.clip(y_true, 0, 1)))\n",
    "    return true_positives / (possible_positives + K.epsilon())\n",
    "\n",
    "def precision(y_true, y_pred):\n",
    "    true_positives = K.sum(K.round(K.clip(y_true * y_pred, 0, 1)))\n",
    "    predicted_positives = K.sum(K.round(K.clip(y_pred, 0, 1)))\n",
    "    return true_positives / (predicted_positives + K.epsilon())\n",
    "\n",
    "def f1(y_true, y_pred):\n",
    "    precision_score_ = precision(y_true, y_pred)\n",
    "    recall_score_ = recall(y_true, y_pred)\n",
    "    return 2*((precision_score_*recall_score_)/(precision_score_+recall_score_+K.epsilon()))\n",
    "\n",
    "def f3(y_true, y_pred):\n",
    "    return fbeta_score(y_true, y_pred, beta=3, pos_label=1, average='binary')\n"
   ]
  },
  {
   "cell_type": "code",
   "execution_count": 85,
   "metadata": {},
   "outputs": [],
   "source": [
    "def create_bert_classification_model(bert_model,\n",
    "                                     num_train_layers=0,\n",
    "                                     max_sequence_length=MAX_SEQUENCE_LENGTH,\n",
    "                                     num_filters = [100, 100, 50, 25],\n",
    "                                     kernel_sizes = [3, 4, 5, 10],\n",
    "                                     hidden_size = 200,\n",
    "                                     hidden2_size = 100,\n",
    "                                     dropout=0.3,\n",
    "                                     learning_rate=0.00005\n",
    "                                    ):\n",
    "    \"\"\"\n",
    "    Build a simple classification model with BERT. Use the Pooler Output or CLS for classification purposes\n",
    "    \"\"\"\n",
    "    if num_train_layers == 0:\n",
    "        # Freeze all layers of pre-trained BERT model\n",
    "        bert_model.trainable = False\n",
    "\n",
    "    elif num_train_layers == 12:\n",
    "        # Train all layers of the BERT model\n",
    "        bert_model.trainable = True\n",
    "\n",
    "    else:\n",
    "        # Restrict training to the num_train_layers outer transformer layers\n",
    "        retrain_layers = []\n",
    "\n",
    "        for retrain_layer_number in range(num_train_layers):\n",
    "\n",
    "            layer_code = '_' + str(11 - retrain_layer_number)\n",
    "            retrain_layers.append(layer_code)\n",
    "\n",
    "\n",
    "        print('retrain layers: ', retrain_layers)\n",
    "\n",
    "        for w in bert_model.weights:\n",
    "            if not any([x in w.name for x in retrain_layers]):\n",
    "                #print('freezing: ', w)\n",
    "                w._trainable = False\n",
    "\n",
    "    input_ids = tf.keras.layers.Input(shape=(MAX_SEQUENCE_LENGTH,), dtype=tf.int64, name='input_ids')\n",
    "    token_type_ids = tf.keras.layers.Input(shape=(MAX_SEQUENCE_LENGTH,), dtype=tf.int64, name='token_type_ids')\n",
    "    attention_mask = tf.keras.layers.Input(shape=(MAX_SEQUENCE_LENGTH,), dtype=tf.int64, name='attention_mask')\n",
    "    \n",
    "    bert_inputs = {'input_ids': input_ids,\n",
    "                   'token_type_ids': token_type_ids,\n",
    "                   'attention_mask': attention_mask}\n",
    "\n",
    "    bert_out = bert_model(bert_inputs)\n",
    "\n",
    "    pooler_token = bert_out[1]\n",
    "    cls_token = bert_out[0][:, 0, :]\n",
    "    bert_out_avg = tf.math.reduce_mean(bert_out[0], axis=1)\n",
    "    #output_logits = bert_out[\"logits\"]\n",
    "    cnn_token = bert_out[0]\n",
    "\n",
    "    conv_layers_for_all_kernel_sizes = []\n",
    "    for kernel_size, filters in zip(kernel_sizes, num_filters):\n",
    "        conv_layer = tf.keras.layers.Conv1D(filters=filters, kernel_size=kernel_size, activation='relu')(cnn_token)\n",
    "        conv_layer = tf.keras.layers.GlobalMaxPooling1D()(conv_layer)\n",
    "        conv_layers_for_all_kernel_sizes.append(conv_layer)\n",
    "\n",
    "    conv_output = tf.keras.layers.concatenate(conv_layers_for_all_kernel_sizes, axis=1)\n",
    "\n",
    "    # classification layer\n",
    "    hidden = tf.keras.layers.Dense(hidden_size, activation='relu', name='hidden_layer')(conv_output)\n",
    "\n",
    "    hidden = tf.keras.layers.Dropout(dropout)(hidden)\n",
    "\n",
    "    hidden = tf.keras.layers.Dense(hidden2_size, activation='relu', name='hidden_layer2')(hidden)\n",
    "\n",
    "    hidden = tf.keras.layers.Dropout(dropout)(hidden)\n",
    "\n",
    "    classification = tf.keras.layers.Dense(1, activation='sigmoid',name='classification_layer')(hidden)\n",
    "\n",
    "    classification_model = tf.keras.Model(inputs=[input_ids, token_type_ids, attention_mask], outputs=[classification])\n",
    "\n",
    "    classification_model.compile(optimizer=tf.keras.optimizers.Adam(learning_rate=learning_rate),\n",
    "                                 # LOSS FUNCTION\n",
    "                                 #loss=tf.keras.losses.BinaryCrossentropy(from_logits=False),\n",
    "                                 loss=tf.keras.losses.BinaryFocalCrossentropy(\n",
    "                                   gamma=2.0, from_logits=False, apply_class_balancing=True, label_smoothing=0.03\n",
    "                                 ),\n",
    "                                 #loss=tf.keras.losses.SparseCategoricalCrossentropy(from_logits=False),\n",
    "                                 #loss=tf.keras.losses.CategoricalFocalCrossentropy(\n",
    "                                 #   alpha=0.25,\n",
    "                                 #   gamma=2.0,\n",
    "                                 #   from_logits=False,\n",
    "                                 #   label_smoothing=0.03,\n",
    "                                 #   axis=-1,\n",
    "                                 #   reduction=\"sum_over_batch_size\",\n",
    "                                 #   name=\"categorical_focal_crossentropy\",\n",
    "                                 #),\n",
    "                                 # METRIC FUNCTIONS\n",
    "                                 # metrics=['accuracy', \n",
    "                                 #   tf.keras.metrics.Precision(),\n",
    "                                 #   tf.keras.metrics.Recall(),\n",
    "                                 #   tf.keras.metrics.F1Score(average=None, threshold=None, name=\"f1_score\", dtype=None)\n",
    "                                 # ]\n",
    "                                 metrics=['accuracy', precision, recall, f1]\n",
    "                                 )\n",
    "    return classification_model"
   ]
  },
  {
   "cell_type": "code",
   "execution_count": 86,
   "metadata": {},
   "outputs": [],
   "source": [
    "bert_classification_model = create_bert_classification_model(bert_model=model,\n",
    "                                                             num_train_layers=0,\n",
    "                                                             num_filters = [100, 100, 50, 25],\n",
    "                                                             kernel_sizes = [3, 4, 5, 10],\n",
    "                                                             hidden_size = 200,\n",
    "                                                             hidden2_size = 100,\n",
    "                                                             dropout=0.3,\n",
    "                                                             learning_rate=learning_rate\n",
    "                                                            )"
   ]
  },
  {
   "cell_type": "code",
   "execution_count": 87,
   "metadata": {},
   "outputs": [
    {
     "name": "stdout",
     "output_type": "stream",
     "text": [
      "Model: \"model\"\n",
      "__________________________________________________________________________________________________\n",
      " Layer (type)                Output Shape                 Param #   Connected to                  \n",
      "==================================================================================================\n",
      " attention_mask (InputLayer  [(None, 512)]                0         []                            \n",
      " )                                                                                                \n",
      "                                                                                                  \n",
      " input_ids (InputLayer)      [(None, 512)]                0         []                            \n",
      "                                                                                                  \n",
      " token_type_ids (InputLayer  [(None, 512)]                0         []                            \n",
      " )                                                                                                \n",
      "                                                                                                  \n",
      " tf_bert_model (TFBertModel  TFBaseModelOutputWithPooli   1083102   ['attention_mask[0][0]',      \n",
      " )                           ngAndCrossAttentions(last_   72         'input_ids[0][0]',           \n",
      "                             hidden_state=(None, 512, 7              'token_type_ids[0][0]']      \n",
      "                             68),                                                                 \n",
      "                              pooler_output=(None, 768)                                           \n",
      "                             , past_key_values=None, hi                                           \n",
      "                             dden_states=None, attentio                                           \n",
      "                             ns=None, cross_attentions=                                           \n",
      "                             None)                                                                \n",
      "                                                                                                  \n",
      " conv1d (Conv1D)             (None, 510, 100)             230500    ['tf_bert_model[0][0]']       \n",
      "                                                                                                  \n",
      " conv1d_1 (Conv1D)           (None, 509, 100)             307300    ['tf_bert_model[0][0]']       \n",
      "                                                                                                  \n",
      " conv1d_2 (Conv1D)           (None, 508, 50)              192050    ['tf_bert_model[0][0]']       \n",
      "                                                                                                  \n",
      " conv1d_3 (Conv1D)           (None, 503, 25)              192025    ['tf_bert_model[0][0]']       \n",
      "                                                                                                  \n",
      " global_max_pooling1d (Glob  (None, 100)                  0         ['conv1d[0][0]']              \n",
      " alMaxPooling1D)                                                                                  \n",
      "                                                                                                  \n",
      " global_max_pooling1d_1 (Gl  (None, 100)                  0         ['conv1d_1[0][0]']            \n",
      " obalMaxPooling1D)                                                                                \n",
      "                                                                                                  \n",
      " global_max_pooling1d_2 (Gl  (None, 50)                   0         ['conv1d_2[0][0]']            \n",
      " obalMaxPooling1D)                                                                                \n",
      "                                                                                                  \n",
      " global_max_pooling1d_3 (Gl  (None, 25)                   0         ['conv1d_3[0][0]']            \n",
      " obalMaxPooling1D)                                                                                \n",
      "                                                                                                  \n",
      " concatenate (Concatenate)   (None, 275)                  0         ['global_max_pooling1d[0][0]',\n",
      "                                                                     'global_max_pooling1d_1[0][0]\n",
      "                                                                    ',                            \n",
      "                                                                     'global_max_pooling1d_2[0][0]\n",
      "                                                                    ',                            \n",
      "                                                                     'global_max_pooling1d_3[0][0]\n",
      "                                                                    ']                            \n",
      "                                                                                                  \n",
      " hidden_layer (Dense)        (None, 200)                  55200     ['concatenate[0][0]']         \n",
      "                                                                                                  \n",
      " dropout_37 (Dropout)        (None, 200)                  0         ['hidden_layer[0][0]']        \n",
      "                                                                                                  \n",
      " hidden_layer2 (Dense)       (None, 100)                  20100     ['dropout_37[0][0]']          \n",
      "                                                                                                  \n",
      " dropout_38 (Dropout)        (None, 100)                  0         ['hidden_layer2[0][0]']       \n",
      "                                                                                                  \n",
      " classification_layer (Dens  (None, 1)                    101       ['dropout_38[0][0]']          \n",
      " e)                                                                                               \n",
      "                                                                                                  \n",
      "==================================================================================================\n",
      "Total params: 109307548 (416.98 MB)\n",
      "Trainable params: 997276 (3.80 MB)\n",
      "Non-trainable params: 108310272 (413.17 MB)\n",
      "__________________________________________________________________________________________________\n"
     ]
    }
   ],
   "source": [
    "bert_classification_model.summary()"
   ]
  },
  {
   "cell_type": "code",
   "execution_count": 88,
   "metadata": {},
   "outputs": [
    {
     "data": {
      "image/png": "[encoded data removed]",
      "text/plain": [
       "<IPython.core.display.Image object>"
      ]
     },
     "execution_count": 88,
     "metadata": {},
     "output_type": "execute_result"
    }
   ],
   "source": [
    "tf.keras.utils.plot_model(bert_classification_model, show_shapes=True, dpi=90)"
   ]
  },
  {
   "cell_type": "code",
   "execution_count": 89,
   "metadata": {},
   "outputs": [
    {
     "name": "stdout",
     "output_type": "stream",
     "text": [
      "cuda_malloc_async\n"
     ]
    }
   ],
   "source": [
    "os.environ['TF_GPU_ALLOCATOR'] = 'cuda_malloc_async'\n",
    "print(os.getenv('TF_GPU_ALLOCATOR'))"
   ]
  },
  {
   "cell_type": "code",
   "execution_count": 90,
   "metadata": {},
   "outputs": [],
   "source": [
    "# callbacks = keras.callbacks.ModelCheckpoint(\"childgrooming_NN_model_{epoch}.keras\", save_best_only=True)\n",
    "callbacks = tf.keras.callbacks.ModelCheckpoint(\n",
    "    \"basic_bert_cnn_weights.weights.h5\",  # Filename for the saved weights\n",
    "    save_best_only=True,  # Save only the best model\n",
    "    save_weights_only=True,  # Save only the weights, not the full model\n",
    ")"
   ]
  },
  {
   "cell_type": "code",
   "execution_count": 91,
   "metadata": {},
   "outputs": [
    {
     "name": "stdout",
     "output_type": "stream",
     "text": [
      "Epoch 1/40\n"
     ]
    },
    {
     "name": "stderr",
     "output_type": "stream",
     "text": [
      "2024-03-26 00:21:25.554098: I external/local_xla/xla/stream_executor/cuda/cuda_dnn.cc:454] Loaded cuDNN version 8902\n",
      "2024-03-26 00:21:27.497565: I external/local_xla/xla/service/service.cc:168] XLA service 0x7ef4c51e6100 initialized for platform CUDA (this does not guarantee that XLA will be used). Devices:\n",
      "2024-03-26 00:21:27.497607: I external/local_xla/xla/service/service.cc:176]   StreamExecutor device (0): NVIDIA A10G, Compute Capability 8.6\n",
      "2024-03-26 00:21:27.529123: I tensorflow/compiler/mlir/tensorflow/utils/dump_mlir_util.cc:269] disabling MLIR crash reproducer, set env var `MLIR_CRASH_REPRODUCER_DIRECTORY` to enable.\n",
      "WARNING: All log messages before absl::InitializeLog() is called are written to STDERR\n",
      "I0000 00:00:1711412487.660361    3296 device_compiler.h:186] Compiled cluster using XLA!  This line is logged at most once for the lifetime of the process.\n"
     ]
    },
    {
     "name": "stdout",
     "output_type": "stream",
     "text": [
      "278/278 [==============================] - ETA: 0s - loss: 0.0338 - accuracy: 0.8672 - precision: 0.9219 - recall: 0.7971 - f1: 0.8437"
     ]
    },
    {
     "name": "stderr",
     "output_type": "stream",
     "text": [
      "/opt/conda/envs/pytorch/lib/python3.10/site-packages/transformers/generation/tf_utils.py:465: UserWarning: `seed_generator` is deprecated and will be removed in a future version.\n",
      "  warnings.warn(\"`seed_generator` is deprecated and will be removed in a future version.\", UserWarning)\n"
     ]
    },
    {
     "name": "stdout",
     "output_type": "stream",
     "text": [
      "278/278 [==============================] - 196s 656ms/step - loss: 0.0338 - accuracy: 0.8672 - precision: 0.9219 - recall: 0.7971 - f1: 0.8437 - val_loss: 0.0147 - val_accuracy: 0.9673 - val_precision: 0.5366 - val_recall: 0.6198 - val_f1: 0.5558\n",
      "Epoch 2/40\n",
      "278/278 [==============================] - 179s 646ms/step - loss: 0.0205 - accuracy: 0.9310 - precision: 0.9573 - recall: 0.9048 - f1: 0.9264 - val_loss: 0.0154 - val_accuracy: 0.9592 - val_precision: 0.4980 - val_recall: 0.6995 - val_f1: 0.5575\n",
      "Epoch 3/40\n",
      "278/278 [==============================] - 179s 646ms/step - loss: 0.0158 - accuracy: 0.9424 - precision: 0.9659 - recall: 0.9184 - f1: 0.9381 - val_loss: 0.0150 - val_accuracy: 0.9644 - val_precision: 0.5207 - val_recall: 0.6918 - val_f1: 0.5720\n",
      "Epoch 4/40\n",
      "278/278 [==============================] - 179s 646ms/step - loss: 0.0115 - accuracy: 0.9587 - precision: 0.9745 - recall: 0.9417 - f1: 0.9560 - val_loss: 0.0178 - val_accuracy: 0.9659 - val_precision: 0.5154 - val_recall: 0.6849 - val_f1: 0.5703\n",
      "Epoch 5/40\n",
      "278/278 [==============================] - 179s 646ms/step - loss: 0.0105 - accuracy: 0.9605 - precision: 0.9753 - recall: 0.9444 - f1: 0.9572 - val_loss: 0.0324 - val_accuracy: 0.9482 - val_precision: 0.4303 - val_recall: 0.7269 - val_f1: 0.5221\n",
      "Epoch 6/40\n",
      "278/278 [==============================] - 179s 646ms/step - loss: 0.0070 - accuracy: 0.9744 - precision: 0.9844 - recall: 0.9647 - f1: 0.9734 - val_loss: 0.0230 - val_accuracy: 0.9685 - val_precision: 0.5378 - val_recall: 0.6900 - val_f1: 0.5836\n",
      "Epoch 7/40\n",
      "278/278 [==============================] - 183s 657ms/step - loss: 0.0080 - accuracy: 0.9744 - precision: 0.9866 - recall: 0.9603 - f1: 0.9721 - val_loss: 0.0086 - val_accuracy: 0.9734 - val_precision: 0.5394 - val_recall: 0.5508 - val_f1: 0.5290\n",
      "Epoch 8/40\n",
      "278/278 [==============================] - 179s 646ms/step - loss: 0.0063 - accuracy: 0.9785 - precision: 0.9876 - recall: 0.9701 - f1: 0.9777 - val_loss: 0.0226 - val_accuracy: 0.9673 - val_precision: 0.5211 - val_recall: 0.6937 - val_f1: 0.5772\n",
      "Epoch 9/40\n",
      "278/278 [==============================] - 179s 646ms/step - loss: 0.0048 - accuracy: 0.9848 - precision: 0.9891 - recall: 0.9800 - f1: 0.9839 - val_loss: 0.0501 - val_accuracy: 0.9468 - val_precision: 0.4347 - val_recall: 0.7407 - val_f1: 0.5277\n",
      "Epoch 10/40\n",
      "278/278 [==============================] - 180s 646ms/step - loss: 0.0057 - accuracy: 0.9817 - precision: 0.9894 - recall: 0.9741 - f1: 0.9809 - val_loss: 0.0263 - val_accuracy: 0.9653 - val_precision: 0.5200 - val_recall: 0.7111 - val_f1: 0.5802\n",
      "Epoch 11/40\n",
      "278/278 [==============================] - 179s 646ms/step - loss: 0.0046 - accuracy: 0.9856 - precision: 0.9895 - recall: 0.9817 - f1: 0.9851 - val_loss: 0.0232 - val_accuracy: 0.9685 - val_precision: 0.5377 - val_recall: 0.6802 - val_f1: 0.5783\n",
      "Epoch 12/40\n",
      "278/278 [==============================] - 179s 646ms/step - loss: 0.0067 - accuracy: 0.9785 - precision: 0.9865 - recall: 0.9714 - f1: 0.9776 - val_loss: 0.0212 - val_accuracy: 0.9667 - val_precision: 0.5290 - val_recall: 0.6906 - val_f1: 0.5777\n",
      "Epoch 13/40\n",
      "278/278 [==============================] - 179s 646ms/step - loss: 0.0044 - accuracy: 0.9855 - precision: 0.9905 - recall: 0.9799 - f1: 0.9845 - val_loss: 0.0349 - val_accuracy: 0.9598 - val_precision: 0.4906 - val_recall: 0.7284 - val_f1: 0.5660\n",
      "Epoch 14/40\n",
      "278/278 [==============================] - 179s 646ms/step - loss: 0.0045 - accuracy: 0.9873 - precision: 0.9909 - recall: 0.9847 - f1: 0.9873 - val_loss: 0.0386 - val_accuracy: 0.9606 - val_precision: 0.4783 - val_recall: 0.7207 - val_f1: 0.5560\n",
      "Epoch 15/40\n",
      "278/278 [==============================] - 179s 646ms/step - loss: 0.0034 - accuracy: 0.9891 - precision: 0.9908 - recall: 0.9877 - f1: 0.9889 - val_loss: 0.0377 - val_accuracy: 0.9604 - val_precision: 0.4862 - val_recall: 0.7253 - val_f1: 0.5650\n",
      "Epoch 16/40\n",
      "278/278 [==============================] - 179s 646ms/step - loss: 0.0029 - accuracy: 0.9912 - precision: 0.9923 - recall: 0.9900 - f1: 0.9908 - val_loss: 0.0534 - val_accuracy: 0.9557 - val_precision: 0.4703 - val_recall: 0.7377 - val_f1: 0.5546\n",
      "Epoch 17/40\n",
      "278/278 [==============================] - 179s 646ms/step - loss: 0.0054 - accuracy: 0.9838 - precision: 0.9898 - recall: 0.9786 - f1: 0.9833 - val_loss: 0.0442 - val_accuracy: 0.9633 - val_precision: 0.5069 - val_recall: 0.7160 - val_f1: 0.5731\n",
      "Epoch 18/40\n",
      "278/278 [==============================] - 179s 646ms/step - loss: 0.0036 - accuracy: 0.9892 - precision: 0.9922 - recall: 0.9863 - f1: 0.9888 - val_loss: 0.0813 - val_accuracy: 0.9470 - val_precision: 0.4250 - val_recall: 0.7377 - val_f1: 0.5191\n",
      "Epoch 19/40\n",
      "278/278 [==============================] - 179s 646ms/step - loss: 0.0037 - accuracy: 0.9873 - precision: 0.9912 - recall: 0.9830 - f1: 0.9865 - val_loss: 0.0441 - val_accuracy: 0.9638 - val_precision: 0.5055 - val_recall: 0.7238 - val_f1: 0.5772\n",
      "Epoch 20/40\n",
      "278/278 [==============================] - 179s 646ms/step - loss: 0.0035 - accuracy: 0.9902 - precision: 0.9915 - recall: 0.9890 - f1: 0.9899 - val_loss: 0.0406 - val_accuracy: 0.9670 - val_precision: 0.5387 - val_recall: 0.7176 - val_f1: 0.5964\n",
      "Epoch 21/40\n",
      "278/278 [==============================] - 179s 646ms/step - loss: 0.0034 - accuracy: 0.9910 - precision: 0.9933 - recall: 0.9889 - f1: 0.9907 - val_loss: 0.0374 - val_accuracy: 0.9580 - val_precision: 0.4759 - val_recall: 0.7176 - val_f1: 0.5521\n",
      "Epoch 22/40\n",
      "278/278 [==============================] - 179s 646ms/step - loss: 0.0041 - accuracy: 0.9895 - precision: 0.9899 - recall: 0.9888 - f1: 0.9889 - val_loss: 0.0389 - val_accuracy: 0.9549 - val_precision: 0.4601 - val_recall: 0.7235 - val_f1: 0.5447\n",
      "Epoch 23/40\n",
      "278/278 [==============================] - 179s 646ms/step - loss: 0.0029 - accuracy: 0.9919 - precision: 0.9928 - recall: 0.9911 - f1: 0.9916 - val_loss: 0.0470 - val_accuracy: 0.9560 - val_precision: 0.4716 - val_recall: 0.7281 - val_f1: 0.5523\n",
      "Epoch 24/40\n",
      "278/278 [==============================] - 179s 646ms/step - loss: 0.0025 - accuracy: 0.9921 - precision: 0.9937 - recall: 0.9905 - f1: 0.9918 - val_loss: 0.0327 - val_accuracy: 0.9737 - val_precision: 0.5488 - val_recall: 0.6721 - val_f1: 0.5851\n",
      "Epoch 25/40\n",
      "278/278 [==============================] - 179s 646ms/step - loss: 0.0038 - accuracy: 0.9892 - precision: 0.9909 - recall: 0.9877 - f1: 0.9887 - val_loss: 0.0535 - val_accuracy: 0.9601 - val_precision: 0.4950 - val_recall: 0.7157 - val_f1: 0.5658\n",
      "Epoch 26/40\n",
      "278/278 [==============================] - 179s 646ms/step - loss: 0.0036 - accuracy: 0.9911 - precision: 0.9921 - recall: 0.9900 - f1: 0.9906 - val_loss: 0.0277 - val_accuracy: 0.9618 - val_precision: 0.5038 - val_recall: 0.6975 - val_f1: 0.5655\n",
      "Epoch 27/40\n",
      "278/278 [==============================] - 180s 646ms/step - loss: 0.0029 - accuracy: 0.9931 - precision: 0.9938 - recall: 0.9920 - f1: 0.9926 - val_loss: 0.0624 - val_accuracy: 0.9578 - val_precision: 0.4787 - val_recall: 0.7330 - val_f1: 0.5577\n",
      "Epoch 28/40\n",
      "278/278 [==============================] - 180s 646ms/step - loss: 0.0036 - accuracy: 0.9920 - precision: 0.9939 - recall: 0.9895 - f1: 0.9912 - val_loss: 0.0413 - val_accuracy: 0.9624 - val_precision: 0.4952 - val_recall: 0.6975 - val_f1: 0.5573\n",
      "Epoch 29/40\n",
      "278/278 [==============================] - 179s 646ms/step - loss: 0.0028 - accuracy: 0.9919 - precision: 0.9916 - recall: 0.9913 - f1: 0.9911 - val_loss: 0.0664 - val_accuracy: 0.9598 - val_precision: 0.4714 - val_recall: 0.6960 - val_f1: 0.5432\n",
      "Epoch 30/40\n",
      "278/278 [==============================] - 179s 646ms/step - loss: 0.0020 - accuracy: 0.9946 - precision: 0.9944 - recall: 0.9949 - f1: 0.9945 - val_loss: 0.0551 - val_accuracy: 0.9685 - val_precision: 0.5423 - val_recall: 0.6841 - val_f1: 0.5833\n",
      "Epoch 31/40\n",
      "278/278 [==============================] - 179s 646ms/step - loss: 0.0024 - accuracy: 0.9944 - precision: 0.9947 - recall: 0.9941 - f1: 0.9942 - val_loss: 0.0865 - val_accuracy: 0.9653 - val_precision: 0.5191 - val_recall: 0.7127 - val_f1: 0.5807\n",
      "Epoch 32/40\n",
      "278/278 [==============================] - 179s 646ms/step - loss: 0.0032 - accuracy: 0.9936 - precision: 0.9939 - recall: 0.9931 - f1: 0.9933 - val_loss: 0.0873 - val_accuracy: 0.9459 - val_precision: 0.4281 - val_recall: 0.7299 - val_f1: 0.5175\n",
      "Epoch 33/40\n",
      "278/278 [==============================] - 179s 646ms/step - loss: 0.0036 - accuracy: 0.9916 - precision: 0.9929 - recall: 0.9906 - f1: 0.9915 - val_loss: 0.0891 - val_accuracy: 0.9537 - val_precision: 0.4592 - val_recall: 0.7238 - val_f1: 0.5390\n",
      "Epoch 34/40\n",
      "278/278 [==============================] - 179s 646ms/step - loss: 0.0024 - accuracy: 0.9947 - precision: 0.9945 - recall: 0.9953 - f1: 0.9947 - val_loss: 0.0785 - val_accuracy: 0.9566 - val_precision: 0.4772 - val_recall: 0.7284 - val_f1: 0.5557\n",
      "Epoch 35/40\n",
      "278/278 [==============================] - 179s 646ms/step - loss: 0.0024 - accuracy: 0.9931 - precision: 0.9945 - recall: 0.9916 - f1: 0.9927 - val_loss: 0.0373 - val_accuracy: 0.9667 - val_precision: 0.5233 - val_recall: 0.6844 - val_f1: 0.5727\n",
      "Epoch 36/40\n",
      "278/278 [==============================] - 179s 646ms/step - loss: 0.0024 - accuracy: 0.9926 - precision: 0.9936 - recall: 0.9918 - f1: 0.9924 - val_loss: 0.0840 - val_accuracy: 0.9598 - val_precision: 0.4813 - val_recall: 0.7068 - val_f1: 0.5514\n",
      "Epoch 37/40\n",
      "278/278 [==============================] - 179s 646ms/step - loss: 0.0022 - accuracy: 0.9940 - precision: 0.9943 - recall: 0.9937 - f1: 0.9938 - val_loss: 0.0749 - val_accuracy: 0.9537 - val_precision: 0.4620 - val_recall: 0.7330 - val_f1: 0.5448\n",
      "Epoch 38/40\n",
      "278/278 [==============================] - 179s 646ms/step - loss: 0.0024 - accuracy: 0.9934 - precision: 0.9941 - recall: 0.9927 - f1: 0.9932 - val_loss: 0.0362 - val_accuracy: 0.9742 - val_precision: 0.5708 - val_recall: 0.6525 - val_f1: 0.5919\n",
      "Epoch 39/40\n",
      "278/278 [==============================] - 179s 646ms/step - loss: 0.0021 - accuracy: 0.9942 - precision: 0.9944 - recall: 0.9939 - f1: 0.9939 - val_loss: 0.0883 - val_accuracy: 0.9592 - val_precision: 0.5045 - val_recall: 0.7407 - val_f1: 0.5776\n",
      "Epoch 40/40\n",
      "278/278 [==============================] - 179s 646ms/step - loss: 0.0029 - accuracy: 0.9946 - precision: 0.9943 - recall: 0.9951 - f1: 0.9945 - val_loss: 0.0927 - val_accuracy: 0.9595 - val_precision: 0.5022 - val_recall: 0.7423 - val_f1: 0.5803\n"
     ]
    }
   ],
   "source": [
    "bert_history = bert_classification_model.fit(\n",
    "                        bert_train_inputs,\n",
    "                        bert_train_labels,\n",
    "                        validation_data=(bert_val_inputs, bert_val_labels),\n",
    "                        epochs=epochs,\n",
    "                        batch_size=batch_size,\n",
    "                        callbacks=[callbacks]\n",
    ")\n",
    "    \n",
    "# model.fit(train_tf_dataset, validation_data=test_tf_dataset, epochs=epochs)"
   ]
  },
  {
   "cell_type": "markdown",
   "metadata": {},
   "source": [
    "## 5.4 Run against Validation Set"
   ]
  },
  {
   "cell_type": "code",
   "execution_count": 92,
   "metadata": {},
   "outputs": [
    {
     "name": "stdout",
     "output_type": "stream",
     "text": [
      "108/108 [==============================] - 42s 378ms/step\n"
     ]
    }
   ],
   "source": [
    "y_pred = bert_classification_model.predict(bert_val_inputs)"
   ]
  },
  {
   "cell_type": "code",
   "execution_count": 93,
   "metadata": {},
   "outputs": [],
   "source": [
    "f_max = lambda x: np.argmax(x)"
   ]
  },
  {
   "cell_type": "code",
   "execution_count": 94,
   "metadata": {},
   "outputs": [],
   "source": [
    "f_one_or_zero = lambda x: 1 if x > 0.5 else 0"
   ]
  },
  {
   "cell_type": "code",
   "execution_count": 95,
   "metadata": {},
   "outputs": [],
   "source": [
    "val_y_pred = np.apply_along_axis(f_one_or_zero, 1, y_pred)"
   ]
  },
  {
   "cell_type": "code",
   "execution_count": 96,
   "metadata": {},
   "outputs": [
    {
     "data": {
      "text/plain": [
       "array([0, 0, 0, ..., 0, 0, 0])"
      ]
     },
     "execution_count": 96,
     "metadata": {},
     "output_type": "execute_result"
    }
   ],
   "source": [
    "val_y_pred"
   ]
  },
  {
   "cell_type": "code",
   "execution_count": 97,
   "metadata": {},
   "outputs": [
    {
     "data": {
      "text/plain": [
       "array([0, 0, 0, ..., 0, 0, 0], dtype=int32)"
      ]
     },
     "execution_count": 97,
     "metadata": {},
     "output_type": "execute_result"
    }
   ],
   "source": [
    "bert_val_labels"
   ]
  },
  {
   "cell_type": "code",
   "execution_count": 98,
   "metadata": {},
   "outputs": [
    {
     "name": "stdout",
     "output_type": "stream",
     "text": [
      "F1 Score (w/ Beta =3): 0.8934911242603549\n"
     ]
    }
   ],
   "source": [
    "# Calculate F_beta score with beta=3\n",
    "f_beta3_score_test = fbeta_score(bert_val_labels, val_y_pred, average='binary', beta=3, pos_label=1)\n",
    "print(\"F1 Score (w/ Beta =3):\", f_beta3_score_test)"
   ]
  },
  {
   "cell_type": "code",
   "execution_count": 99,
   "metadata": {},
   "outputs": [
    {
     "name": "stdout",
     "output_type": "stream",
     "text": [
      "              precision    recall  f1-score   support\n",
      "\n",
      "           0       1.00      0.96      0.98      3300\n",
      "           1       0.53      0.97      0.68       156\n",
      "\n",
      "    accuracy                           0.96      3456\n",
      "   macro avg       0.76      0.96      0.83      3456\n",
      "weighted avg       0.98      0.96      0.97      3456\n",
      "\n"
     ]
    }
   ],
   "source": [
    "print(classification_report(bert_val_labels, val_y_pred))"
   ]
  },
  {
   "cell_type": "markdown",
   "metadata": {},
   "source": [
    "## 5.5 Run against Test Set"
   ]
  },
  {
   "cell_type": "code",
   "execution_count": 100,
   "metadata": {},
   "outputs": [
    {
     "name": "stdout",
     "output_type": "stream",
     "text": [
      "4906/4906 [==============================] - 2020s 411ms/step\n"
     ]
    }
   ],
   "source": [
    "y_pred_ground_truth = bert_classification_model.predict(bert_test_inputs)"
   ]
  },
  {
   "cell_type": "code",
   "execution_count": 101,
   "metadata": {},
   "outputs": [],
   "source": [
    "test_y_pred = np.apply_along_axis(f_one_or_zero, 1, y_pred_ground_truth)"
   ]
  },
  {
   "cell_type": "code",
   "execution_count": 103,
   "metadata": {},
   "outputs": [
    {
     "data": {
      "text/plain": [
       "array([0, 0, 0, 0, 0, 0, 0, 0, 0, 0, 0, 0, 0, 0, 0, 0, 0, 0, 1, 0])"
      ]
     },
     "execution_count": 103,
     "metadata": {},
     "output_type": "execute_result"
    }
   ],
   "source": [
    "test_y_pred[:20]"
   ]
  },
  {
   "cell_type": "code",
   "execution_count": 102,
   "metadata": {},
   "outputs": [
    {
     "data": {
      "text/plain": [
       "array([0, 0, 0, 0, 0, 0, 0, 0, 0, 0, 0, 0, 0, 0, 0, 0, 0, 0, 1, 0],\n",
       "      dtype=int32)"
      ]
     },
     "execution_count": 102,
     "metadata": {},
     "output_type": "execute_result"
    }
   ],
   "source": [
    "bert_test_labels[:20]"
   ]
  },
  {
   "cell_type": "code",
   "execution_count": 104,
   "metadata": {},
   "outputs": [
    {
     "name": "stdout",
     "output_type": "stream",
     "text": [
      "F1 Score (w/ Beta =3): 0.8040059242541788\n"
     ]
    }
   ],
   "source": [
    "# Calculate F_beta score with beta=3\n",
    "f_beta3_score_test = fbeta_score(bert_test_labels, test_y_pred, average='binary', beta=3, pos_label=1)\n",
    "print(\"F1 Score (w/ Beta =3):\", f_beta3_score_test)"
   ]
  },
  {
   "cell_type": "code",
   "execution_count": 106,
   "metadata": {},
   "outputs": [
    {
     "name": "stdout",
     "output_type": "stream",
     "text": [
      "              precision    recall  f1-score   support\n",
      "\n",
      "           0       1.00      0.96      0.98    153262\n",
      "           1       0.38      0.92      0.54      3723\n",
      "\n",
      "    accuracy                           0.96    156985\n",
      "   macro avg       0.69      0.94      0.76    156985\n",
      "weighted avg       0.98      0.96      0.97    156985\n",
      "\n"
     ]
    }
   ],
   "source": [
    "print(classification_report(bert_test_labels, test_y_pred))"
   ]
  },
  {
   "cell_type": "code",
   "execution_count": null,
   "metadata": {},
   "outputs": [],
   "source": [
    "# import math\n",
    "\n",
    "# def sigmoid(x):\n",
    "#   return 1 / (1 + math.exp(-x))\n",
    "# f_sigmoid_to_prediction = lambda x: 1 if sigmoid(x) > 0.5 else 0\n"
   ]
  },
  {
   "cell_type": "code",
   "execution_count": null,
   "metadata": {},
   "outputs": [],
   "source": [
    "#class_preds_truth = np.apply_along_axis(f_sigmoid_to_prediction, 1, y_pred_ground_truth[\"logits\"])"
   ]
  },
  {
   "cell_type": "code",
   "execution_count": null,
   "metadata": {},
   "outputs": [],
   "source": [
    "# counter = collections.Counter(class_preds_truth)\n",
    "# counter"
   ]
  },
  {
   "cell_type": "markdown",
   "metadata": {},
   "source": [
    "# 6. Saving the entire Model and load it back"
   ]
  },
  {
   "cell_type": "code",
   "execution_count": 114,
   "metadata": {},
   "outputs": [],
   "source": [
    "save_path = 'keras_model_h5/bert_cnn_ensemble_resample_mdl.h5'"
   ]
  },
  {
   "cell_type": "code",
   "execution_count": 115,
   "metadata": {},
   "outputs": [
    {
     "name": "stderr",
     "output_type": "stream",
     "text": [
      "/opt/conda/envs/pytorch/lib/python3.10/site-packages/keras/src/engine/training.py:3103: UserWarning: You are saving your model as an HDF5 file via `model.save()`. This file format is considered legacy. We recommend using instead the native Keras format, e.g. `model.save('my_model.keras')`.\n",
      "  saving_api.save_model(\n"
     ]
    }
   ],
   "source": [
    "bert_classification_model.save(save_path, save_format='h5')"
   ]
  },
  {
   "cell_type": "code",
   "execution_count": 116,
   "metadata": {},
   "outputs": [],
   "source": [
    "inference_model = create_bert_classification_model(bert_model=model,\n",
    "                                                   num_train_layers=0,\n",
    "                                                   num_filters = [100, 100, 50, 25],\n",
    "                                                   kernel_sizes = [3, 4, 5, 10],\n",
    "                                                   hidden_size = 200,\n",
    "                                                   hidden2_size = 100,\n",
    "                                                   dropout=0.3,\n",
    "                                                   learning_rate=learning_rate\n",
    "                                                  )"
   ]
  },
  {
   "cell_type": "code",
   "execution_count": 117,
   "metadata": {},
   "outputs": [],
   "source": [
    "inference_model.load_weights(save_path)"
   ]
  },
  {
   "cell_type": "code",
   "execution_count": 118,
   "metadata": {},
   "outputs": [
    {
     "name": "stdout",
     "output_type": "stream",
     "text": [
      "108/108 [==============================] - 42s 378ms/step\n"
     ]
    }
   ],
   "source": [
    "y_pred_inference = inference_model.predict(bert_val_inputs)"
   ]
  },
  {
   "cell_type": "code",
   "execution_count": 119,
   "metadata": {},
   "outputs": [],
   "source": [
    "val_y_pred_inference = np.apply_along_axis(f_one_or_zero, 1, y_pred_inference)"
   ]
  },
  {
   "cell_type": "code",
   "execution_count": 120,
   "metadata": {},
   "outputs": [
    {
     "name": "stdout",
     "output_type": "stream",
     "text": [
      "F1 Score (w/ Beta =3): 0.8934911242603549\n"
     ]
    }
   ],
   "source": [
    "# Calculate F_beta score with beta=3\n",
    "f_beta3_score_test = fbeta_score(bert_val_labels, val_y_pred_inference, average='binary', beta=3, pos_label=1)\n",
    "print(\"F1 Score (w/ Beta =3):\", f_beta3_score_test)"
   ]
  },
  {
   "cell_type": "code",
   "execution_count": null,
   "metadata": {},
   "outputs": [],
   "source": []
  },
  {
   "cell_type": "code",
   "execution_count": null,
   "metadata": {},
   "outputs": [],
   "source": []
  },
  {
   "cell_type": "code",
   "execution_count": null,
   "metadata": {},
   "outputs": [],
   "source": []
  },
  {
   "cell_type": "code",
   "execution_count": null,
   "metadata": {},
   "outputs": [],
   "source": [
    "# Free up GPU memory\n",
    "# from numba import cuda \n",
    "# device = cuda.get_current_device()\n",
    "# device.reset()"
   ]
  },
  {
   "cell_type": "code",
   "execution_count": null,
   "metadata": {},
   "outputs": [],
   "source": []
  }
 ],
 "metadata": {
  "accelerator": "GPU",
  "colab": {
   "collapsed_sections": [
    "kXqD4nVVEyTb",
    "p5-Ir3kiE8Pb",
    "G1ICzyXD2Uv_",
    "wNVunf1s2qh0"
   ],
   "gpuType": "T4",
   "provenance": []
  },
  "kernelspec": {
   "display_name": "Python 3 (ipykernel)",
   "language": "python",
   "name": "python3"
  },
  "language_info": {
   "codemirror_mode": {
    "name": "ipython",
    "version": 3
   },
   "file_extension": ".py",
   "mimetype": "text/x-python",
   "name": "python",
   "nbconvert_exporter": "python",
   "pygments_lexer": "ipython3",
   "version": "3.10.13"
  }
 },
 "nbformat": 4,
 "nbformat_minor": 4
}
