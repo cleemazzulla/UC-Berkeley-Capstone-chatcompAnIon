{
 "cells": [
  {
   "cell_type": "markdown",
   "metadata": {
    "id": "q13kDnOpv9zZ"
   },
   "source": [
    "# 1 Setting up Spark NLP"
   ]
  },
  {
   "cell_type": "code",
   "execution_count": 1,
   "metadata": {
    "colab": {
     "base_uri": "https://localhost:8080/"
    },
    "id": "Y5MpWFrTwBy-",
    "outputId": "9b53b34e-797e-48f8-c471-74fca72663a6"
   },
   "outputs": [],
   "source": [
    "# Mount google drive\n",
    "#from google.colab import drive\n",
    "#drive.mount('/content/drive')"
   ]
  },
  {
   "cell_type": "code",
   "execution_count": 2,
   "metadata": {},
   "outputs": [
    {
     "name": "stdout",
     "output_type": "stream",
     "text": [
      "Collecting en-core-web-sm==3.7.1\n",
      "  Downloading https://github.com/explosion/spacy-models/releases/download/en_core_web_sm-3.7.1/en_core_web_sm-3.7.1-py3-none-any.whl (12.8 MB)\n",
      "\u001b[2K     \u001b[90m━━━━━━━━━━━━━━━━━━━━━━━━━━━━━━━━━━━━━━━━\u001b[0m \u001b[32m12.8/12.8 MB\u001b[0m \u001b[31m92.3 MB/s\u001b[0m eta \u001b[36m0:00:00\u001b[0m00:01\u001b[0m00:01\u001b[0m\n",
      "\u001b[?25hRequirement already satisfied: spacy<3.8.0,>=3.7.2 in /opt/conda/envs/pytorch/lib/python3.10/site-packages (from en-core-web-sm==3.7.1) (3.7.4)\n",
      "Requirement already satisfied: spacy-legacy<3.1.0,>=3.0.11 in /opt/conda/envs/pytorch/lib/python3.10/site-packages (from spacy<3.8.0,>=3.7.2->en-core-web-sm==3.7.1) (3.0.12)\n",
      "Requirement already satisfied: spacy-loggers<2.0.0,>=1.0.0 in /opt/conda/envs/pytorch/lib/python3.10/site-packages (from spacy<3.8.0,>=3.7.2->en-core-web-sm==3.7.1) (1.0.5)\n",
      "Requirement already satisfied: murmurhash<1.1.0,>=0.28.0 in /opt/conda/envs/pytorch/lib/python3.10/site-packages (from spacy<3.8.0,>=3.7.2->en-core-web-sm==3.7.1) (1.0.10)\n",
      "Requirement already satisfied: cymem<2.1.0,>=2.0.2 in /opt/conda/envs/pytorch/lib/python3.10/site-packages (from spacy<3.8.0,>=3.7.2->en-core-web-sm==3.7.1) (2.0.8)\n",
      "Requirement already satisfied: preshed<3.1.0,>=3.0.2 in /opt/conda/envs/pytorch/lib/python3.10/site-packages (from spacy<3.8.0,>=3.7.2->en-core-web-sm==3.7.1) (3.0.9)\n",
      "Requirement already satisfied: thinc<8.3.0,>=8.2.2 in /opt/conda/envs/pytorch/lib/python3.10/site-packages (from spacy<3.8.0,>=3.7.2->en-core-web-sm==3.7.1) (8.2.3)\n",
      "Requirement already satisfied: wasabi<1.2.0,>=0.9.1 in /opt/conda/envs/pytorch/lib/python3.10/site-packages (from spacy<3.8.0,>=3.7.2->en-core-web-sm==3.7.1) (1.1.2)\n",
      "Requirement already satisfied: srsly<3.0.0,>=2.4.3 in /opt/conda/envs/pytorch/lib/python3.10/site-packages (from spacy<3.8.0,>=3.7.2->en-core-web-sm==3.7.1) (2.4.8)\n",
      "Requirement already satisfied: catalogue<2.1.0,>=2.0.6 in /opt/conda/envs/pytorch/lib/python3.10/site-packages (from spacy<3.8.0,>=3.7.2->en-core-web-sm==3.7.1) (2.0.10)\n",
      "Requirement already satisfied: weasel<0.4.0,>=0.1.0 in /opt/conda/envs/pytorch/lib/python3.10/site-packages (from spacy<3.8.0,>=3.7.2->en-core-web-sm==3.7.1) (0.3.4)\n",
      "Requirement already satisfied: typer<0.10.0,>=0.3.0 in /opt/conda/envs/pytorch/lib/python3.10/site-packages (from spacy<3.8.0,>=3.7.2->en-core-web-sm==3.7.1) (0.9.0)\n",
      "Requirement already satisfied: smart-open<7.0.0,>=5.2.1 in /opt/conda/envs/pytorch/lib/python3.10/site-packages (from spacy<3.8.0,>=3.7.2->en-core-web-sm==3.7.1) (6.4.0)\n",
      "Requirement already satisfied: tqdm<5.0.0,>=4.38.0 in /opt/conda/envs/pytorch/lib/python3.10/site-packages (from spacy<3.8.0,>=3.7.2->en-core-web-sm==3.7.1) (4.66.1)\n",
      "Requirement already satisfied: requests<3.0.0,>=2.13.0 in /opt/conda/envs/pytorch/lib/python3.10/site-packages (from spacy<3.8.0,>=3.7.2->en-core-web-sm==3.7.1) (2.31.0)\n",
      "Requirement already satisfied: pydantic!=1.8,!=1.8.1,<3.0.0,>=1.7.4 in /opt/conda/envs/pytorch/lib/python3.10/site-packages (from spacy<3.8.0,>=3.7.2->en-core-web-sm==3.7.1) (1.10.13)\n",
      "Requirement already satisfied: jinja2 in /opt/conda/envs/pytorch/lib/python3.10/site-packages (from spacy<3.8.0,>=3.7.2->en-core-web-sm==3.7.1) (3.1.3)\n",
      "Requirement already satisfied: setuptools in /opt/conda/envs/pytorch/lib/python3.10/site-packages (from spacy<3.8.0,>=3.7.2->en-core-web-sm==3.7.1) (69.1.1)\n",
      "Requirement already satisfied: packaging>=20.0 in /opt/conda/envs/pytorch/lib/python3.10/site-packages (from spacy<3.8.0,>=3.7.2->en-core-web-sm==3.7.1) (21.3)\n",
      "Requirement already satisfied: langcodes<4.0.0,>=3.2.0 in /opt/conda/envs/pytorch/lib/python3.10/site-packages (from spacy<3.8.0,>=3.7.2->en-core-web-sm==3.7.1) (3.3.0)\n",
      "Requirement already satisfied: numpy>=1.19.0 in /opt/conda/envs/pytorch/lib/python3.10/site-packages (from spacy<3.8.0,>=3.7.2->en-core-web-sm==3.7.1) (1.26.3)\n",
      "Requirement already satisfied: pyparsing!=3.0.5,>=2.0.2 in /opt/conda/envs/pytorch/lib/python3.10/site-packages (from packaging>=20.0->spacy<3.8.0,>=3.7.2->en-core-web-sm==3.7.1) (3.1.1)\n",
      "Requirement already satisfied: typing-extensions>=4.2.0 in /opt/conda/envs/pytorch/lib/python3.10/site-packages (from pydantic!=1.8,!=1.8.1,<3.0.0,>=1.7.4->spacy<3.8.0,>=3.7.2->en-core-web-sm==3.7.1) (4.9.0)\n",
      "Requirement already satisfied: charset-normalizer<4,>=2 in /opt/conda/envs/pytorch/lib/python3.10/site-packages (from requests<3.0.0,>=2.13.0->spacy<3.8.0,>=3.7.2->en-core-web-sm==3.7.1) (3.3.2)\n",
      "Requirement already satisfied: idna<4,>=2.5 in /opt/conda/envs/pytorch/lib/python3.10/site-packages (from requests<3.0.0,>=2.13.0->spacy<3.8.0,>=3.7.2->en-core-web-sm==3.7.1) (3.6)\n",
      "Requirement already satisfied: urllib3<3,>=1.21.1 in /opt/conda/envs/pytorch/lib/python3.10/site-packages (from requests<3.0.0,>=2.13.0->spacy<3.8.0,>=3.7.2->en-core-web-sm==3.7.1) (1.26.18)\n",
      "Requirement already satisfied: certifi>=2017.4.17 in /opt/conda/envs/pytorch/lib/python3.10/site-packages (from requests<3.0.0,>=2.13.0->spacy<3.8.0,>=3.7.2->en-core-web-sm==3.7.1) (2023.11.17)\n",
      "Requirement already satisfied: blis<0.8.0,>=0.7.8 in /opt/conda/envs/pytorch/lib/python3.10/site-packages (from thinc<8.3.0,>=8.2.2->spacy<3.8.0,>=3.7.2->en-core-web-sm==3.7.1) (0.7.11)\n",
      "Requirement already satisfied: confection<1.0.0,>=0.0.1 in /opt/conda/envs/pytorch/lib/python3.10/site-packages (from thinc<8.3.0,>=8.2.2->spacy<3.8.0,>=3.7.2->en-core-web-sm==3.7.1) (0.1.4)\n",
      "Requirement already satisfied: click<9.0.0,>=7.1.1 in /opt/conda/envs/pytorch/lib/python3.10/site-packages (from typer<0.10.0,>=0.3.0->spacy<3.8.0,>=3.7.2->en-core-web-sm==3.7.1) (8.1.7)\n",
      "Requirement already satisfied: cloudpathlib<0.17.0,>=0.7.0 in /opt/conda/envs/pytorch/lib/python3.10/site-packages (from weasel<0.4.0,>=0.1.0->spacy<3.8.0,>=3.7.2->en-core-web-sm==3.7.1) (0.16.0)\n",
      "Requirement already satisfied: MarkupSafe>=2.0 in /opt/conda/envs/pytorch/lib/python3.10/site-packages (from jinja2->spacy<3.8.0,>=3.7.2->en-core-web-sm==3.7.1) (2.1.3)\n",
      "\u001b[38;5;2m✔ Download and installation successful\u001b[0m\n",
      "You can now load the package via spacy.load('en_core_web_sm')\n",
      "\u001b[38;5;3m⚠ Restart to reload dependencies\u001b[0m\n",
      "If you are in a Jupyter or Colab notebook, you may need to restart Python in\n",
      "order to load all the package's dependencies. You can do this by selecting the\n",
      "'Restart kernel' or 'Restart runtime' option.\n"
     ]
    },
    {
     "name": "stderr",
     "output_type": "stream",
     "text": [
      "/home/ubuntu/spark-3.5.1-bin-hadoop3/python/pyspark/pandas/__init__.py:50: UserWarning: 'PYARROW_IGNORE_TIMEZONE' environment variable was not set. It is required to set this environment variable to '1' in both driver and executor sides if you use pyarrow>=2.0.0. pandas-on-Spark will set it for you but it does not work if there is a Spark context already launched.\n",
      "  warnings.warn(\n"
     ]
    },
    {
     "name": "stdout",
     "output_type": "stream",
     "text": [
      ":: loading settings :: url = jar:file:/home/ubuntu/spark-3.5.1-bin-hadoop3/jars/ivy-2.5.1.jar!/org/apache/ivy/core/settings/ivysettings.xml\n"
     ]
    },
    {
     "name": "stderr",
     "output_type": "stream",
     "text": [
      "Ivy Default Cache set to: /home/ubuntu/.ivy2/cache\n",
      "The jars for the packages stored in: /home/ubuntu/.ivy2/jars\n",
      "com.johnsnowlabs.nlp#spark-nlp-gpu_2.12 added as a dependency\n",
      ":: resolving dependencies :: org.apache.spark#spark-submit-parent-9c6cb42b-8717-4941-b5e2-ff4a9a920f00;1.0\n",
      "\tconfs: [default]\n",
      "\tfound com.johnsnowlabs.nlp#spark-nlp-gpu_2.12;5.3.1 in central\n",
      "\tfound com.typesafe#config;1.4.2 in central\n",
      "\tfound org.rocksdb#rocksdbjni;6.29.5 in central\n",
      "\tfound com.amazonaws#aws-java-sdk-s3;1.12.500 in central\n",
      "\tfound com.amazonaws#aws-java-sdk-kms;1.12.500 in central\n",
      "\tfound com.amazonaws#aws-java-sdk-core;1.12.500 in central\n",
      "\tfound commons-logging#commons-logging;1.1.3 in central\n",
      "\tfound commons-codec#commons-codec;1.15 in central\n",
      "\tfound org.apache.httpcomponents#httpclient;4.5.13 in central\n",
      "\tfound org.apache.httpcomponents#httpcore;4.4.13 in central\n",
      "\tfound software.amazon.ion#ion-java;1.0.2 in central\n",
      "\tfound joda-time#joda-time;2.8.1 in central\n",
      "\tfound com.amazonaws#jmespath-java;1.12.500 in central\n",
      "\tfound com.github.universal-automata#liblevenshtein;3.0.0 in central\n",
      "\tfound com.google.protobuf#protobuf-java-util;3.0.0-beta-3 in central\n",
      "\tfound com.google.protobuf#protobuf-java;3.0.0-beta-3 in central\n",
      "\tfound com.google.code.gson#gson;2.3 in central\n",
      "\tfound it.unimi.dsi#fastutil;7.0.12 in central\n",
      "\tfound org.projectlombok#lombok;1.16.8 in central\n",
      "\tfound com.google.cloud#google-cloud-storage;2.20.1 in central\n",
      "\tfound com.google.guava#guava;31.1-jre in central\n",
      "\tfound com.google.guava#failureaccess;1.0.1 in central\n",
      "\tfound com.google.guava#listenablefuture;9999.0-empty-to-avoid-conflict-with-guava in central\n",
      "\tfound com.google.errorprone#error_prone_annotations;2.18.0 in central\n",
      "\tfound com.google.j2objc#j2objc-annotations;1.3 in central\n",
      "\tfound com.google.http-client#google-http-client;1.43.0 in central\n",
      "\tfound io.opencensus#opencensus-contrib-http-util;0.31.1 in central\n",
      "\tfound com.google.http-client#google-http-client-jackson2;1.43.0 in central\n",
      "\tfound com.google.http-client#google-http-client-gson;1.43.0 in central\n",
      "\tfound com.google.api-client#google-api-client;2.2.0 in central\n",
      "\tfound com.google.oauth-client#google-oauth-client;1.34.1 in central\n",
      "\tfound com.google.http-client#google-http-client-apache-v2;1.43.0 in central\n",
      "\tfound com.google.apis#google-api-services-storage;v1-rev20220705-2.0.0 in central\n",
      "\tfound com.google.code.gson#gson;2.10.1 in central\n",
      "\tfound com.google.cloud#google-cloud-core;2.12.0 in central\n",
      "\tfound io.grpc#grpc-context;1.53.0 in central\n",
      "\tfound com.google.auto.value#auto-value-annotations;1.10.1 in central\n",
      "\tfound com.google.auto.value#auto-value;1.10.1 in central\n",
      "\tfound javax.annotation#javax.annotation-api;1.3.2 in central\n",
      "\tfound com.google.cloud#google-cloud-core-http;2.12.0 in central\n",
      "\tfound com.google.http-client#google-http-client-appengine;1.43.0 in central\n",
      "\tfound com.google.api#gax-httpjson;0.108.2 in central\n",
      "\tfound com.google.cloud#google-cloud-core-grpc;2.12.0 in central\n",
      "\tfound io.grpc#grpc-alts;1.53.0 in central\n",
      "\tfound io.grpc#grpc-grpclb;1.53.0 in central\n",
      "\tfound org.conscrypt#conscrypt-openjdk-uber;2.5.2 in central\n",
      "\tfound io.grpc#grpc-auth;1.53.0 in central\n",
      "\tfound io.grpc#grpc-protobuf;1.53.0 in central\n",
      "\tfound io.grpc#grpc-protobuf-lite;1.53.0 in central\n",
      "\tfound io.grpc#grpc-core;1.53.0 in central\n",
      "\tfound com.google.api#gax;2.23.2 in central\n",
      "\tfound com.google.api#gax-grpc;2.23.2 in central\n",
      "\tfound com.google.auth#google-auth-library-credentials;1.16.0 in central\n",
      "\tfound com.google.auth#google-auth-library-oauth2-http;1.16.0 in central\n",
      "\tfound com.google.api#api-common;2.6.2 in central\n",
      "\tfound io.opencensus#opencensus-api;0.31.1 in central\n",
      "\tfound com.google.api.grpc#proto-google-iam-v1;1.9.2 in central\n",
      "\tfound com.google.protobuf#protobuf-java;3.21.12 in central\n",
      "\tfound com.google.protobuf#protobuf-java-util;3.21.12 in central\n",
      "\tfound com.google.api.grpc#proto-google-common-protos;2.14.2 in central\n",
      "\tfound org.threeten#threetenbp;1.6.5 in central\n",
      "\tfound com.google.api.grpc#proto-google-cloud-storage-v2;2.20.1-alpha in central\n",
      "\tfound com.google.api.grpc#grpc-google-cloud-storage-v2;2.20.1-alpha in central\n",
      "\tfound com.google.api.grpc#gapic-google-cloud-storage-v2;2.20.1-alpha in central\n",
      "\tfound com.google.code.findbugs#jsr305;3.0.2 in central\n",
      "\tfound io.grpc#grpc-api;1.53.0 in central\n",
      "\tfound io.grpc#grpc-stub;1.53.0 in central\n",
      "\tfound org.checkerframework#checker-qual;3.31.0 in central\n",
      "\tfound io.perfmark#perfmark-api;0.26.0 in central\n",
      "\tfound com.google.android#annotations;4.1.1.4 in central\n",
      "\tfound org.codehaus.mojo#animal-sniffer-annotations;1.22 in central\n",
      "\tfound io.opencensus#opencensus-proto;0.2.0 in central\n",
      "\tfound io.grpc#grpc-services;1.53.0 in central\n",
      "\tfound com.google.re2j#re2j;1.6 in central\n",
      "\tfound io.grpc#grpc-netty-shaded;1.53.0 in central\n",
      "\tfound io.grpc#grpc-googleapis;1.53.0 in central\n",
      "\tfound io.grpc#grpc-xds;1.53.0 in central\n",
      "\tfound com.navigamez#greex;1.0 in central\n",
      "\tfound dk.brics.automaton#automaton;1.11-8 in central\n",
      "\tfound com.johnsnowlabs.nlp#tensorflow-gpu_2.12;0.4.4 in central\n",
      "\tfound com.microsoft.onnxruntime#onnxruntime_gpu;1.17.0 in central\n",
      ":: resolution report :: resolve 1869ms :: artifacts dl 56ms\n",
      "\t:: modules in use:\n",
      "\tcom.amazonaws#aws-java-sdk-core;1.12.500 from central in [default]\n",
      "\tcom.amazonaws#aws-java-sdk-kms;1.12.500 from central in [default]\n",
      "\tcom.amazonaws#aws-java-sdk-s3;1.12.500 from central in [default]\n",
      "\tcom.amazonaws#jmespath-java;1.12.500 from central in [default]\n",
      "\tcom.github.universal-automata#liblevenshtein;3.0.0 from central in [default]\n",
      "\tcom.google.android#annotations;4.1.1.4 from central in [default]\n",
      "\tcom.google.api#api-common;2.6.2 from central in [default]\n",
      "\tcom.google.api#gax;2.23.2 from central in [default]\n",
      "\tcom.google.api#gax-grpc;2.23.2 from central in [default]\n",
      "\tcom.google.api#gax-httpjson;0.108.2 from central in [default]\n",
      "\tcom.google.api-client#google-api-client;2.2.0 from central in [default]\n",
      "\tcom.google.api.grpc#gapic-google-cloud-storage-v2;2.20.1-alpha from central in [default]\n",
      "\tcom.google.api.grpc#grpc-google-cloud-storage-v2;2.20.1-alpha from central in [default]\n",
      "\tcom.google.api.grpc#proto-google-cloud-storage-v2;2.20.1-alpha from central in [default]\n",
      "\tcom.google.api.grpc#proto-google-common-protos;2.14.2 from central in [default]\n",
      "\tcom.google.api.grpc#proto-google-iam-v1;1.9.2 from central in [default]\n",
      "\tcom.google.apis#google-api-services-storage;v1-rev20220705-2.0.0 from central in [default]\n",
      "\tcom.google.auth#google-auth-library-credentials;1.16.0 from central in [default]\n",
      "\tcom.google.auth#google-auth-library-oauth2-http;1.16.0 from central in [default]\n",
      "\tcom.google.auto.value#auto-value;1.10.1 from central in [default]\n",
      "\tcom.google.auto.value#auto-value-annotations;1.10.1 from central in [default]\n",
      "\tcom.google.cloud#google-cloud-core;2.12.0 from central in [default]\n",
      "\tcom.google.cloud#google-cloud-core-grpc;2.12.0 from central in [default]\n",
      "\tcom.google.cloud#google-cloud-core-http;2.12.0 from central in [default]\n",
      "\tcom.google.cloud#google-cloud-storage;2.20.1 from central in [default]\n",
      "\tcom.google.code.findbugs#jsr305;3.0.2 from central in [default]\n",
      "\tcom.google.code.gson#gson;2.10.1 from central in [default]\n",
      "\tcom.google.errorprone#error_prone_annotations;2.18.0 from central in [default]\n",
      "\tcom.google.guava#failureaccess;1.0.1 from central in [default]\n",
      "\tcom.google.guava#guava;31.1-jre from central in [default]\n",
      "\tcom.google.guava#listenablefuture;9999.0-empty-to-avoid-conflict-with-guava from central in [default]\n",
      "\tcom.google.http-client#google-http-client;1.43.0 from central in [default]\n",
      "\tcom.google.http-client#google-http-client-apache-v2;1.43.0 from central in [default]\n",
      "\tcom.google.http-client#google-http-client-appengine;1.43.0 from central in [default]\n",
      "\tcom.google.http-client#google-http-client-gson;1.43.0 from central in [default]\n",
      "\tcom.google.http-client#google-http-client-jackson2;1.43.0 from central in [default]\n",
      "\tcom.google.j2objc#j2objc-annotations;1.3 from central in [default]\n",
      "\tcom.google.oauth-client#google-oauth-client;1.34.1 from central in [default]\n",
      "\tcom.google.protobuf#protobuf-java;3.21.12 from central in [default]\n",
      "\tcom.google.protobuf#protobuf-java-util;3.21.12 from central in [default]\n",
      "\tcom.google.re2j#re2j;1.6 from central in [default]\n",
      "\tcom.johnsnowlabs.nlp#spark-nlp-gpu_2.12;5.3.1 from central in [default]\n",
      "\tcom.johnsnowlabs.nlp#tensorflow-gpu_2.12;0.4.4 from central in [default]\n",
      "\tcom.microsoft.onnxruntime#onnxruntime_gpu;1.17.0 from central in [default]\n",
      "\tcom.navigamez#greex;1.0 from central in [default]\n",
      "\tcom.typesafe#config;1.4.2 from central in [default]\n",
      "\tcommons-codec#commons-codec;1.15 from central in [default]\n",
      "\tcommons-logging#commons-logging;1.1.3 from central in [default]\n",
      "\tdk.brics.automaton#automaton;1.11-8 from central in [default]\n",
      "\tio.grpc#grpc-alts;1.53.0 from central in [default]\n",
      "\tio.grpc#grpc-api;1.53.0 from central in [default]\n",
      "\tio.grpc#grpc-auth;1.53.0 from central in [default]\n",
      "\tio.grpc#grpc-context;1.53.0 from central in [default]\n",
      "\tio.grpc#grpc-core;1.53.0 from central in [default]\n",
      "\tio.grpc#grpc-googleapis;1.53.0 from central in [default]\n",
      "\tio.grpc#grpc-grpclb;1.53.0 from central in [default]\n",
      "\tio.grpc#grpc-netty-shaded;1.53.0 from central in [default]\n",
      "\tio.grpc#grpc-protobuf;1.53.0 from central in [default]\n",
      "\tio.grpc#grpc-protobuf-lite;1.53.0 from central in [default]\n",
      "\tio.grpc#grpc-services;1.53.0 from central in [default]\n",
      "\tio.grpc#grpc-stub;1.53.0 from central in [default]\n",
      "\tio.grpc#grpc-xds;1.53.0 from central in [default]\n",
      "\tio.opencensus#opencensus-api;0.31.1 from central in [default]\n",
      "\tio.opencensus#opencensus-contrib-http-util;0.31.1 from central in [default]\n",
      "\tio.opencensus#opencensus-proto;0.2.0 from central in [default]\n",
      "\tio.perfmark#perfmark-api;0.26.0 from central in [default]\n",
      "\tit.unimi.dsi#fastutil;7.0.12 from central in [default]\n",
      "\tjavax.annotation#javax.annotation-api;1.3.2 from central in [default]\n",
      "\tjoda-time#joda-time;2.8.1 from central in [default]\n",
      "\torg.apache.httpcomponents#httpclient;4.5.13 from central in [default]\n",
      "\torg.apache.httpcomponents#httpcore;4.4.13 from central in [default]\n",
      "\torg.checkerframework#checker-qual;3.31.0 from central in [default]\n",
      "\torg.codehaus.mojo#animal-sniffer-annotations;1.22 from central in [default]\n",
      "\torg.conscrypt#conscrypt-openjdk-uber;2.5.2 from central in [default]\n",
      "\torg.projectlombok#lombok;1.16.8 from central in [default]\n",
      "\torg.rocksdb#rocksdbjni;6.29.5 from central in [default]\n",
      "\torg.threeten#threetenbp;1.6.5 from central in [default]\n",
      "\tsoftware.amazon.ion#ion-java;1.0.2 from central in [default]\n",
      "\t:: evicted modules:\n",
      "\tcommons-logging#commons-logging;1.2 by [commons-logging#commons-logging;1.1.3] in [default]\n",
      "\tcommons-codec#commons-codec;1.11 by [commons-codec#commons-codec;1.15] in [default]\n",
      "\tcom.google.protobuf#protobuf-java-util;3.0.0-beta-3 by [com.google.protobuf#protobuf-java-util;3.21.12] in [default]\n",
      "\tcom.google.protobuf#protobuf-java;3.0.0-beta-3 by [com.google.protobuf#protobuf-java;3.21.12] in [default]\n",
      "\tcom.google.code.gson#gson;2.3 by [com.google.code.gson#gson;2.10.1] in [default]\n",
      "\t---------------------------------------------------------------------\n",
      "\t|                  |            modules            ||   artifacts   |\n",
      "\t|       conf       | number| search|dwnlded|evicted|| number|dwnlded|\n",
      "\t---------------------------------------------------------------------\n",
      "\t|      default     |   83  |   0   |   0   |   5   ||   78  |   0   |\n",
      "\t---------------------------------------------------------------------\n",
      ":: retrieving :: org.apache.spark#spark-submit-parent-9c6cb42b-8717-4941-b5e2-ff4a9a920f00\n",
      "\tconfs: [default]\n",
      "\t0 artifacts copied, 78 already retrieved (0kB/31ms)\n",
      "24/03/30 18:34:55 WARN NativeCodeLoader: Unable to load native-hadoop library for your platform... using builtin-java classes where applicable\n",
      "Setting default log level to \"WARN\".\n",
      "To adjust logging level use sc.setLogLevel(newLevel). For SparkR, use setLogLevel(newLevel).\n",
      "24/03/30 18:35:10 ERROR Inbox: Ignoring error\n",
      "java.lang.NullPointerException\n",
      "\tat org.apache.spark.storage.BlockManagerMasterEndpoint.org$apache$spark$storage$BlockManagerMasterEndpoint$$register(BlockManagerMasterEndpoint.scala:677)\n",
      "\tat org.apache.spark.storage.BlockManagerMasterEndpoint$$anonfun$receiveAndReply$1.applyOrElse(BlockManagerMasterEndpoint.scala:133)\n",
      "\tat org.apache.spark.rpc.netty.Inbox.$anonfun$process$1(Inbox.scala:103)\n",
      "\tat org.apache.spark.rpc.netty.Inbox.safelyCall(Inbox.scala:213)\n",
      "\tat org.apache.spark.rpc.netty.Inbox.process(Inbox.scala:100)\n",
      "\tat org.apache.spark.rpc.netty.MessageLoop.org$apache$spark$rpc$netty$MessageLoop$$receiveLoop(MessageLoop.scala:75)\n",
      "\tat org.apache.spark.rpc.netty.MessageLoop$$anon$1.run(MessageLoop.scala:41)\n",
      "\tat java.util.concurrent.ThreadPoolExecutor.runWorker(ThreadPoolExecutor.java:1149)\n",
      "\tat java.util.concurrent.ThreadPoolExecutor$Worker.run(ThreadPoolExecutor.java:624)\n",
      "\tat java.lang.Thread.run(Thread.java:750)\n",
      "24/03/30 18:35:10 WARN Executor: Issue communicating with driver in heartbeater\n",
      "org.apache.spark.SparkException: Exception thrown in awaitResult: \n",
      "\tat org.apache.spark.util.SparkThreadUtils$.awaitResult(SparkThreadUtils.scala:56)\n",
      "\tat org.apache.spark.util.ThreadUtils$.awaitResult(ThreadUtils.scala:310)\n",
      "\tat org.apache.spark.rpc.RpcTimeout.awaitResult(RpcTimeout.scala:75)\n",
      "\tat org.apache.spark.rpc.RpcEndpointRef.askSync(RpcEndpointRef.scala:101)\n",
      "\tat org.apache.spark.rpc.RpcEndpointRef.askSync(RpcEndpointRef.scala:85)\n",
      "\tat org.apache.spark.storage.BlockManagerMaster.registerBlockManager(BlockManagerMaster.scala:80)\n",
      "\tat org.apache.spark.storage.BlockManager.reregister(BlockManager.scala:642)\n",
      "\tat org.apache.spark.executor.Executor.reportHeartBeat(Executor.scala:1223)\n",
      "\tat org.apache.spark.executor.Executor.$anonfun$heartbeater$1(Executor.scala:295)\n",
      "\tat scala.runtime.java8.JFunction0$mcV$sp.apply(JFunction0$mcV$sp.java:23)\n",
      "\tat org.apache.spark.util.Utils$.logUncaughtExceptions(Utils.scala:1928)\n",
      "\tat org.apache.spark.Heartbeater$$anon$1.run(Heartbeater.scala:46)\n",
      "\tat java.util.concurrent.Executors$RunnableAdapter.call(Executors.java:511)\n",
      "\tat java.util.concurrent.FutureTask.runAndReset(FutureTask.java:308)\n",
      "\tat java.util.concurrent.ScheduledThreadPoolExecutor$ScheduledFutureTask.access$301(ScheduledThreadPoolExecutor.java:180)\n",
      "\tat java.util.concurrent.ScheduledThreadPoolExecutor$ScheduledFutureTask.run(ScheduledThreadPoolExecutor.java:294)\n",
      "\tat java.util.concurrent.ThreadPoolExecutor.runWorker(ThreadPoolExecutor.java:1149)\n",
      "\tat java.util.concurrent.ThreadPoolExecutor$Worker.run(ThreadPoolExecutor.java:624)\n",
      "\tat java.lang.Thread.run(Thread.java:750)\n",
      "Caused by: java.lang.NullPointerException\n",
      "\tat org.apache.spark.storage.BlockManagerMasterEndpoint.org$apache$spark$storage$BlockManagerMasterEndpoint$$register(BlockManagerMasterEndpoint.scala:677)\n",
      "\tat org.apache.spark.storage.BlockManagerMasterEndpoint$$anonfun$receiveAndReply$1.applyOrElse(BlockManagerMasterEndpoint.scala:133)\n",
      "\tat org.apache.spark.rpc.netty.Inbox.$anonfun$process$1(Inbox.scala:103)\n",
      "\tat org.apache.spark.rpc.netty.Inbox.safelyCall(Inbox.scala:213)\n",
      "\tat org.apache.spark.rpc.netty.Inbox.process(Inbox.scala:100)\n",
      "\tat org.apache.spark.rpc.netty.MessageLoop.org$apache$spark$rpc$netty$MessageLoop$$receiveLoop(MessageLoop.scala:75)\n",
      "\tat org.apache.spark.rpc.netty.MessageLoop$$anon$1.run(MessageLoop.scala:41)\n",
      "\t... 3 more\n"
     ]
    }
   ],
   "source": [
    "# Install Java\n",
    "#!apt-get install openjdk-8-jdk-headless -qq > /dev/null\n",
    "\n",
    "# Download Spark\n",
    "#if os.path.isfile(\"./spark-3.5.1-bin-hadoop3.tgz\") == False:\n",
    "#    !wget -q https://downloads.apache.org/spark/spark-3.5.1/spark-3.5.1-bin-hadoop3.tgz\n",
    "\n",
    "# Unzip the file\n",
    "#!tar xf spark-3.5.1-bin-hadoop3.tgz\n",
    "\n",
    "# Setup environment for Spark\n",
    "import os\n",
    "os.environ[\"JAVA_HOME\"] = \"/usr/lib/jvm/java-8-openjdk-amd64\"\n",
    "os.environ[\"SPARK_HOME\"] = '/home/ubuntu/spark-3.5.1-bin-hadoop3'\n",
    "\n",
    "# Import findspark and load it\n",
    "#!pip install -q findspark\n",
    "import findspark\n",
    "findspark.init()\n",
    "\n",
    "# import spacy for NLP and re for regular expressions\n",
    "import spacy\n",
    "spacy.cli.download(\"en_core_web_sm\")\n",
    "import en_core_web_sm\n",
    "from spacy.lang.en.stop_words import STOP_WORDS\n",
    "import re\n",
    "\n",
    "# Install spark-nlp\n",
    "#!pip install spark-nlp\n",
    "import sparknlp\n",
    "from sparknlp.base import *\n",
    "from sparknlp.annotator import *\n",
    "from sparknlp.common import *\n",
    "from pyspark.sql.functions import *\n",
    "from pyspark.sql.functions import lit\n",
    "from pyspark.sql.window import Window\n",
    "from pyspark.sql.types import *\n",
    "from pyspark.ml.classification import LogisticRegression\n",
    "from pyspark.ml.evaluation import BinaryClassificationEvaluator\n",
    "from pyspark.mllib.evaluation import MulticlassMetrics\n",
    "from pyspark.ml import Pipeline\n",
    "from pyspark.ml.feature import StandardScaler, VectorAssembler, Imputer, OneHotEncoder, StringIndexer\n",
    "from pyspark.ml.tuning import ParamGridBuilder, CrossValidator, CrossValidatorModel, TrainValidationSplit, TrainValidationSplitModel\n",
    "from pyspark.ml.evaluation import MulticlassClassificationEvaluator\n",
    "from pyspark.ml.linalg import Vectors, VectorUDT\n",
    "import pyspark.pandas as ps\n",
    "\n",
    "# Create Spark session\n",
    "#from pyspark.sql import SparkSession\n",
    "#spark = SparkSession.builder\\\n",
    "#        .master(\"local\")\\\n",
    "#        .appName(\"Spark NLP\")\\\n",
    "#        .config('spark.executor.memory', \"24g\")\\\n",
    "#        .getOrCreate()\n",
    "\n",
    "# Create Spark session with GPU and large memory 24G\n",
    "from pyspark.sql import SparkSession\n",
    "spark = SparkSession.builder \\\n",
    "    .appName(\"Spark NLP\")\\\n",
    "    .master(\"local[*]\")\\\n",
    "    .config(\"spark.driver.memory\",\"24G\")\\\n",
    "    .config(\"spark.driver.maxResultSize\", \"0\") \\\n",
    "    .config(\"spark.kryoserializer.buffer.max\", \"2000M\")\\\n",
    "    .config(\"spark.jars.packages\", \"com.johnsnowlabs.nlp:spark-nlp-gpu_2.12:5.3.1\")\\\n",
    "    .getOrCreate()\n",
    "\n",
    "# Start Spark Session with Spark NLP\n",
    "#spark = sparknlp.start(gpu=True)\n",
    "#spark = sparknlp.start(gpu=False)"
   ]
  },
  {
   "cell_type": "code",
   "execution_count": 3,
   "metadata": {
    "colab": {
     "base_uri": "https://localhost:8080/",
     "height": 219
    },
    "id": "EAHj-cKh-Tu3",
    "outputId": "c8a870fe-213c-4974-ee8a-5bc034c98ff8"
   },
   "outputs": [
    {
     "data": {
      "text/html": [
       "\n",
       "            <div>\n",
       "                <p><b>SparkSession - in-memory</b></p>\n",
       "                \n",
       "        <div>\n",
       "            <p><b>SparkContext</b></p>\n",
       "\n",
       "            <p><a href=\"http://ip-172-31-43-191.ec2.internal:4040\">Spark UI</a></p>\n",
       "\n",
       "            <dl>\n",
       "              <dt>Version</dt>\n",
       "                <dd><code>v3.5.1</code></dd>\n",
       "              <dt>Master</dt>\n",
       "                <dd><code>local[*]</code></dd>\n",
       "              <dt>AppName</dt>\n",
       "                <dd><code>Spark NLP</code></dd>\n",
       "            </dl>\n",
       "        </div>\n",
       "        \n",
       "            </div>\n",
       "        "
      ],
      "text/plain": [
       "<pyspark.sql.session.SparkSession at 0x7f81b2417b50>"
      ]
     },
     "execution_count": 3,
     "metadata": {},
     "output_type": "execute_result"
    }
   ],
   "source": [
    "spark"
   ]
  },
  {
   "cell_type": "markdown",
   "metadata": {
    "id": "rpU399gyzMIh"
   },
   "source": [
    "# 2 Import libraries"
   ]
  },
  {
   "cell_type": "code",
   "execution_count": 4,
   "metadata": {
    "colab": {
     "base_uri": "https://localhost:8080/"
    },
    "id": "twk0MhsWzQAt",
    "outputId": "09bdd15e-47e5-4ce2-d481-facace0b34da"
   },
   "outputs": [],
   "source": [
    "import time\n",
    "import json\n",
    "import pickle\n",
    "import urllib.request\n",
    "# import altair as alt\n",
    "import pandas as pd\n",
    "import collections"
   ]
  },
  {
   "cell_type": "code",
   "execution_count": 5,
   "metadata": {
    "id": "0myA5b5upqXV"
   },
   "outputs": [],
   "source": [
    "# visualization\n",
    "import seaborn as sns\n",
    "import matplotlib.pyplot as plt\n",
    "from IPython.display import Image, display, HTML\n",
    "import pydot\n",
    "from pydotplus import graph_from_dot_data\n",
    "from wordcloud import WordCloud"
   ]
  },
  {
   "cell_type": "code",
   "execution_count": 6,
   "metadata": {
    "id": "30Id5H-8Z3tP"
   },
   "outputs": [],
   "source": [
    "import xml.etree.ElementTree as ET\n",
    "from xml.etree.ElementTree import ElementTree\n",
    "import datetime"
   ]
  },
  {
   "cell_type": "code",
   "execution_count": 7,
   "metadata": {},
   "outputs": [],
   "source": [
    "# sklearn\n",
    "from sklearn.model_selection import train_test_split\n",
    "from sklearn.model_selection import KFold\n",
    "from sklearn.preprocessing import OrdinalEncoder\n",
    "from sklearn import tree\n",
    "from sklearn.tree import export_graphviz\n",
    "from sklearn.metrics import accuracy_score, precision_score, f1_score, recall_score, zero_one_loss, classification_report, fbeta_score\n",
    "from sklearn.utils import resample"
   ]
  },
  {
   "cell_type": "code",
   "execution_count": 8,
   "metadata": {},
   "outputs": [
    {
     "name": "stderr",
     "output_type": "stream",
     "text": [
      "2024-03-30 18:35:20.871880: E external/local_xla/xla/stream_executor/cuda/cuda_dnn.cc:9261] Unable to register cuDNN factory: Attempting to register factory for plugin cuDNN when one has already been registered\n",
      "2024-03-30 18:35:20.871932: E external/local_xla/xla/stream_executor/cuda/cuda_fft.cc:607] Unable to register cuFFT factory: Attempting to register factory for plugin cuFFT when one has already been registered\n",
      "2024-03-30 18:35:20.872788: E external/local_xla/xla/stream_executor/cuda/cuda_blas.cc:1515] Unable to register cuBLAS factory: Attempting to register factory for plugin cuBLAS when one has already been registered\n",
      "2024-03-30 18:35:20.879031: I tensorflow/core/platform/cpu_feature_guard.cc:182] This TensorFlow binary is optimized to use available CPU instructions in performance-critical operations.\n",
      "To enable the following instructions: AVX2 FMA, in other operations, rebuild TensorFlow with the appropriate compiler flags.\n",
      "2024-03-30 18:35:21.582415: W tensorflow/compiler/tf2tensorrt/utils/py_utils.cc:38] TF-TRT Warning: Could not find TensorRT\n"
     ]
    },
    {
     "name": "stdout",
     "output_type": "stream",
     "text": [
      "Num GPUs Available:  1\n"
     ]
    }
   ],
   "source": [
    "import nltk\n",
    "import tensorflow as tf\n",
    "from tensorflow.keras.callbacks import EarlyStopping\n",
    "from transformers import AutoTokenizer, BertTokenizer\n",
    "from transformers import TFAutoModelForSequenceClassification, TFBertModel\n",
    "from datasets import Dataset, DatasetDict\n",
    "from datasets import ClassLabel, Value, Features\n",
    "print(\"Num GPUs Available: \", len(tf.config.list_physical_devices('GPU')))"
   ]
  },
  {
   "cell_type": "code",
   "execution_count": 9,
   "metadata": {},
   "outputs": [
    {
     "name": "stdout",
     "output_type": "stream",
     "text": [
      "Pytorch CUDA Available = True\n",
      "Pytorch CUDA Device Count = 1\n",
      "Pytorch CUDA Current Device = 0\n",
      "Pytorch CUDA Current Device Name = NVIDIA A10G\n"
     ]
    }
   ],
   "source": [
    "import torch\n",
    "print(\"Pytorch CUDA Available =\", torch.cuda.is_available())\n",
    "print(\"Pytorch CUDA Device Count =\", torch.cuda.device_count())\n",
    "print(\"Pytorch CUDA Current Device =\", torch.cuda.current_device())\n",
    "print(\"Pytorch CUDA Current Device Name =\", torch.cuda.get_device_name(torch.cuda.current_device()))"
   ]
  },
  {
   "cell_type": "markdown",
   "metadata": {
    "id": "VM49qt5rwRD5"
   },
   "source": [
    "# 3 Load data"
   ]
  },
  {
   "cell_type": "markdown",
   "metadata": {
    "id": "kXqD4nVVEyTb"
   },
   "source": [
    "### 3.1 Obtain training and test datasets"
   ]
  },
  {
   "cell_type": "code",
   "execution_count": 10,
   "metadata": {
    "id": "HWtPnSkKyoWj"
   },
   "outputs": [],
   "source": [
    "# train_merged_data_conversations_path = 's3a://capstone210/data/train_merged_data_conversations/'\n",
    "# test_merged_data_conversations_path = 's3a://capstone210/data/test_merged_data_conversations/'\n",
    "\n",
    "# train_merged_data_conversations_df = spark.read.parquet(train_merged_data_conversations_path)\n",
    "# test_merged_data_conversations_df = spark.read.parquet(test_merged_data_conversations_path)"
   ]
  },
  {
   "cell_type": "code",
   "execution_count": 11,
   "metadata": {},
   "outputs": [
    {
     "name": "stderr",
     "output_type": "stream",
     "text": [
      "24/03/30 18:35:23 WARN MetricsConfig: Cannot locate configuration: tried hadoop-metrics2-s3a-file-system.properties,hadoop-metrics2.properties\n",
      "                                                                                \r"
     ]
    }
   ],
   "source": [
    "train_data_path = 's3a://capstone210/data/final/train/'\n",
    "test_data_path = 's3a://capstone210/data/final/test/'\n",
    "\n",
    "train_merged_data_conversations_df = spark.read.parquet(train_data_path)\n",
    "test_merged_data_conversations_df = spark.read.parquet(test_data_path)"
   ]
  },
  {
   "cell_type": "code",
   "execution_count": 12,
   "metadata": {
    "id": "CEXBwf0pjAdr"
   },
   "outputs": [],
   "source": [
    "#train_df_final = df.filter(col('source') != 'PAN12-test')\n",
    "train_df_final = train_merged_data_conversations_df\n",
    "test_df_final = test_merged_data_conversations_df"
   ]
  },
  {
   "cell_type": "code",
   "execution_count": 13,
   "metadata": {
    "colab": {
     "base_uri": "https://localhost:8080/"
    },
    "id": "KGFvX03HqcHa",
    "outputId": "15916854-a5d4-4869-a1af-06a62ab47a01"
   },
   "outputs": [],
   "source": [
    "#train_df_final.take(1)"
   ]
  },
  {
   "cell_type": "code",
   "execution_count": 14,
   "metadata": {
    "colab": {
     "base_uri": "https://localhost:8080/"
    },
    "id": "vu4OK9DXBO3X",
    "outputId": "cc6d0d74-3a54-47c3-eb7f-38377839a1a3"
   },
   "outputs": [
    {
     "data": {
      "text/plain": [
       "DataFrame[summary: string, conversation_id: string, source: string, label: string, conversation_start_time: string, n_people_in_conversation: string, type_conversation: string, merged_text: string, merged_text_id: string, n_texts: string]"
      ]
     },
     "execution_count": 14,
     "metadata": {},
     "output_type": "execute_result"
    }
   ],
   "source": [
    "train_df_final.describe()"
   ]
  },
  {
   "cell_type": "code",
   "execution_count": 15,
   "metadata": {
    "colab": {
     "base_uri": "https://localhost:8080/"
    },
    "id": "V9uah5cHjAQt",
    "outputId": "1a95aa08-9ebf-4d6c-a67b-d7d123d153ee"
   },
   "outputs": [
    {
     "data": {
      "text/plain": [
       "69111"
      ]
     },
     "execution_count": 15,
     "metadata": {},
     "output_type": "execute_result"
    }
   ],
   "source": [
    "train_df_final.count()"
   ]
  },
  {
   "cell_type": "code",
   "execution_count": 16,
   "metadata": {
    "colab": {
     "base_uri": "https://localhost:8080/"
    },
    "id": "yLh5pdHQjwFO",
    "outputId": "7ff92f14-c860-414e-c4ed-fec8c9005047"
   },
   "outputs": [
    {
     "name": "stderr",
     "output_type": "stream",
     "text": [
      "                                                                                \r"
     ]
    },
    {
     "name": "stdout",
     "output_type": "stream",
     "text": [
      "+-----+-----+\n",
      "|label|count|\n",
      "+-----+-----+\n",
      "|1    |3119 |\n",
      "|0    |65992|\n",
      "+-----+-----+\n",
      "\n"
     ]
    }
   ],
   "source": [
    "train_df_final.groupBy('label')\\\n",
    "              .agg(count('*').alias('count'))\\\n",
    "              .show(truncate = False)"
   ]
  },
  {
   "cell_type": "code",
   "execution_count": 17,
   "metadata": {
    "colab": {
     "base_uri": "https://localhost:8080/"
    },
    "id": "UeCNRgMvt0f4",
    "outputId": "0b51b630-31fd-4916-c094-8c588ddb08f9"
   },
   "outputs": [],
   "source": [
    "#train_df_final.filter(col('label').isin([1])).show(truncate = True)"
   ]
  },
  {
   "cell_type": "code",
   "execution_count": 18,
   "metadata": {
    "colab": {
     "base_uri": "https://localhost:8080/"
    },
    "id": "5BThV51RTw1H",
    "outputId": "cce18238-fc86-4f3f-9be6-2e0bc64ddbb8"
   },
   "outputs": [
    {
     "data": {
      "text/plain": [
       "156985"
      ]
     },
     "execution_count": 18,
     "metadata": {},
     "output_type": "execute_result"
    }
   ],
   "source": [
    "test_df_final.count()"
   ]
  },
  {
   "cell_type": "code",
   "execution_count": 19,
   "metadata": {
    "colab": {
     "base_uri": "https://localhost:8080/"
    },
    "id": "tBPfF1PSTx4-",
    "outputId": "458c2148-1471-4ae1-f0de-cd9fe4df3115"
   },
   "outputs": [
    {
     "name": "stdout",
     "output_type": "stream",
     "text": [
      "+-----+------+\n",
      "|label|count |\n",
      "+-----+------+\n",
      "|1    |3723  |\n",
      "|0    |153262|\n",
      "+-----+------+\n",
      "\n"
     ]
    }
   ],
   "source": [
    "test_df_final.groupBy('label')\\\n",
    "             .agg(count('*').alias('count'))\\\n",
    "             .show(truncate = False)"
   ]
  },
  {
   "cell_type": "markdown",
   "metadata": {
    "id": "MaxRjQqC4xv4"
   },
   "source": [
    "# 4 Prepare Data before  BERT Tokenization\n"
   ]
  },
  {
   "cell_type": "markdown",
   "metadata": {
    "id": "36RxglM15HTc"
   },
   "source": [
    "## 4.1 Convert to Pandas dataframe and show Statistics"
   ]
  },
  {
   "cell_type": "code",
   "execution_count": 20,
   "metadata": {},
   "outputs": [
    {
     "name": "stderr",
     "output_type": "stream",
     "text": [
      "                                                                                \r"
     ]
    }
   ],
   "source": [
    "train_df_pandas = train_df_final.select('merged_text','label').toPandas()"
   ]
  },
  {
   "cell_type": "code",
   "execution_count": 21,
   "metadata": {},
   "outputs": [
    {
     "name": "stderr",
     "output_type": "stream",
     "text": [
      "                                                                                \r"
     ]
    }
   ],
   "source": [
    "test_df_pandas = test_df_final.select('merged_text','label').toPandas()"
   ]
  },
  {
   "cell_type": "code",
   "execution_count": 22,
   "metadata": {},
   "outputs": [
    {
     "name": "stderr",
     "output_type": "stream",
     "text": [
      "[nltk_data] Downloading package punkt to /home/ubuntu/nltk_data...\n",
      "[nltk_data]   Package punkt is already up-to-date!\n"
     ]
    },
    {
     "data": {
      "text/plain": [
       "True"
      ]
     },
     "execution_count": 22,
     "metadata": {},
     "output_type": "execute_result"
    }
   ],
   "source": [
    "nltk.download('punkt')"
   ]
  },
  {
   "cell_type": "code",
   "execution_count": 23,
   "metadata": {},
   "outputs": [],
   "source": [
    "train_df_pandas['num_char'] = train_df_pandas['merged_text'].apply(len)\n",
    "train_df_pandas['num_words'] = train_df_pandas['merged_text'].apply(lambda x: len(nltk.word_tokenize(x)))\n",
    "train_df_pandas['num_sent'] = train_df_pandas['merged_text'].apply(lambda x: len(nltk.sent_tokenize(x)))"
   ]
  },
  {
   "cell_type": "code",
   "execution_count": 24,
   "metadata": {},
   "outputs": [
    {
     "name": "stdout",
     "output_type": "stream",
     "text": [
      "Summary of each field when category is non-grooming:\n"
     ]
    },
    {
     "data": {
      "text/html": [
       "<div>\n",
       "<style scoped>\n",
       "    .dataframe tbody tr th:only-of-type {\n",
       "        vertical-align: middle;\n",
       "    }\n",
       "\n",
       "    .dataframe tbody tr th {\n",
       "        vertical-align: top;\n",
       "    }\n",
       "\n",
       "    .dataframe thead th {\n",
       "        text-align: right;\n",
       "    }\n",
       "</style>\n",
       "<table border=\"1\" class=\"dataframe\">\n",
       "  <thead>\n",
       "    <tr style=\"text-align: right;\">\n",
       "      <th></th>\n",
       "      <th>num_char</th>\n",
       "      <th>num_words</th>\n",
       "      <th>num_sent</th>\n",
       "    </tr>\n",
       "  </thead>\n",
       "  <tbody>\n",
       "    <tr>\n",
       "      <th>count</th>\n",
       "      <td>65992.000000</td>\n",
       "      <td>65992.000000</td>\n",
       "      <td>65992.000000</td>\n",
       "    </tr>\n",
       "    <tr>\n",
       "      <th>mean</th>\n",
       "      <td>510.916353</td>\n",
       "      <td>109.291263</td>\n",
       "      <td>5.619469</td>\n",
       "    </tr>\n",
       "    <tr>\n",
       "      <th>std</th>\n",
       "      <td>3715.143582</td>\n",
       "      <td>752.685795</td>\n",
       "      <td>62.950295</td>\n",
       "    </tr>\n",
       "    <tr>\n",
       "      <th>min</th>\n",
       "      <td>1.000000</td>\n",
       "      <td>1.000000</td>\n",
       "      <td>1.000000</td>\n",
       "    </tr>\n",
       "    <tr>\n",
       "      <th>25%</th>\n",
       "      <td>26.000000</td>\n",
       "      <td>8.000000</td>\n",
       "      <td>1.000000</td>\n",
       "    </tr>\n",
       "    <tr>\n",
       "      <th>50%</th>\n",
       "      <td>65.000000</td>\n",
       "      <td>16.000000</td>\n",
       "      <td>2.000000</td>\n",
       "    </tr>\n",
       "    <tr>\n",
       "      <th>75%</th>\n",
       "      <td>346.000000</td>\n",
       "      <td>76.000000</td>\n",
       "      <td>4.000000</td>\n",
       "    </tr>\n",
       "    <tr>\n",
       "      <th>max</th>\n",
       "      <td>773529.000000</td>\n",
       "      <td>165703.000000</td>\n",
       "      <td>11996.000000</td>\n",
       "    </tr>\n",
       "  </tbody>\n",
       "</table>\n",
       "</div>"
      ],
      "text/plain": [
       "            num_char      num_words      num_sent\n",
       "count   65992.000000   65992.000000  65992.000000\n",
       "mean      510.916353     109.291263      5.619469\n",
       "std      3715.143582     752.685795     62.950295\n",
       "min         1.000000       1.000000      1.000000\n",
       "25%        26.000000       8.000000      1.000000\n",
       "50%        65.000000      16.000000      2.000000\n",
       "75%       346.000000      76.000000      4.000000\n",
       "max    773529.000000  165703.000000  11996.000000"
      ]
     },
     "execution_count": 24,
     "metadata": {},
     "output_type": "execute_result"
    }
   ],
   "source": [
    "print(\"Summary of each field when category is non-grooming:\")\n",
    "train_df_pandas[train_df_pandas['label']==0][['num_char', 'num_words', 'num_sent']].describe()"
   ]
  },
  {
   "cell_type": "code",
   "execution_count": 25,
   "metadata": {},
   "outputs": [
    {
     "name": "stdout",
     "output_type": "stream",
     "text": [
      "Summary of each field when category is grooming:\n"
     ]
    },
    {
     "data": {
      "text/html": [
       "<div>\n",
       "<style scoped>\n",
       "    .dataframe tbody tr th:only-of-type {\n",
       "        vertical-align: middle;\n",
       "    }\n",
       "\n",
       "    .dataframe tbody tr th {\n",
       "        vertical-align: top;\n",
       "    }\n",
       "\n",
       "    .dataframe thead th {\n",
       "        text-align: right;\n",
       "    }\n",
       "</style>\n",
       "<table border=\"1\" class=\"dataframe\">\n",
       "  <thead>\n",
       "    <tr style=\"text-align: right;\">\n",
       "      <th></th>\n",
       "      <th>num_char</th>\n",
       "      <th>num_words</th>\n",
       "      <th>num_sent</th>\n",
       "    </tr>\n",
       "  </thead>\n",
       "  <tbody>\n",
       "    <tr>\n",
       "      <th>count</th>\n",
       "      <td>3119.000000</td>\n",
       "      <td>3119.000000</td>\n",
       "      <td>3119.000000</td>\n",
       "    </tr>\n",
       "    <tr>\n",
       "      <th>mean</th>\n",
       "      <td>467.827188</td>\n",
       "      <td>114.030138</td>\n",
       "      <td>4.906060</td>\n",
       "    </tr>\n",
       "    <tr>\n",
       "      <th>std</th>\n",
       "      <td>833.115071</td>\n",
       "      <td>200.483592</td>\n",
       "      <td>9.525454</td>\n",
       "    </tr>\n",
       "    <tr>\n",
       "      <th>min</th>\n",
       "      <td>1.000000</td>\n",
       "      <td>1.000000</td>\n",
       "      <td>1.000000</td>\n",
       "    </tr>\n",
       "    <tr>\n",
       "      <th>25%</th>\n",
       "      <td>27.000000</td>\n",
       "      <td>7.000000</td>\n",
       "      <td>1.000000</td>\n",
       "    </tr>\n",
       "    <tr>\n",
       "      <th>50%</th>\n",
       "      <td>123.000000</td>\n",
       "      <td>31.000000</td>\n",
       "      <td>1.000000</td>\n",
       "    </tr>\n",
       "    <tr>\n",
       "      <th>75%</th>\n",
       "      <td>595.500000</td>\n",
       "      <td>146.000000</td>\n",
       "      <td>5.000000</td>\n",
       "    </tr>\n",
       "    <tr>\n",
       "      <th>max</th>\n",
       "      <td>11867.000000</td>\n",
       "      <td>2696.000000</td>\n",
       "      <td>217.000000</td>\n",
       "    </tr>\n",
       "  </tbody>\n",
       "</table>\n",
       "</div>"
      ],
      "text/plain": [
       "           num_char    num_words     num_sent\n",
       "count   3119.000000  3119.000000  3119.000000\n",
       "mean     467.827188   114.030138     4.906060\n",
       "std      833.115071   200.483592     9.525454\n",
       "min        1.000000     1.000000     1.000000\n",
       "25%       27.000000     7.000000     1.000000\n",
       "50%      123.000000    31.000000     1.000000\n",
       "75%      595.500000   146.000000     5.000000\n",
       "max    11867.000000  2696.000000   217.000000"
      ]
     },
     "execution_count": 25,
     "metadata": {},
     "output_type": "execute_result"
    }
   ],
   "source": [
    "print(\"Summary of each field when category is grooming:\")\n",
    "train_df_pandas[train_df_pandas['label']==1][['num_char', 'num_words', 'num_sent']].describe()"
   ]
  },
  {
   "cell_type": "code",
   "execution_count": 26,
   "metadata": {},
   "outputs": [
    {
     "name": "stdout",
     "output_type": "stream",
     "text": [
      "Histogram of Number of Words by Category:\n"
     ]
    },
    {
     "data": {
      "image/png": "[encoded data removed]",
      "text/plain": [
       "<Figure size 1500x1000 with 1 Axes>"
      ]
     },
     "metadata": {},
     "output_type": "display_data"
    }
   ],
   "source": [
    "print(\"Histogram of Number of Words by Category:\")\n",
    "fig, ax = plt.subplots(figsize=(15,10))\n",
    "sns.histplot(train_df_pandas[train_df_pandas['label']==0]['num_words'], color='blue')\n",
    "sns.histplot(train_df_pandas[train_df_pandas['label']==1]['num_words'], color='red')\n",
    "ax.set_xlim(0,400)\n",
    "plt.legend(labels=['non-grooming', 'grooming'])\n",
    "plt.show()"
   ]
  },
  {
   "cell_type": "markdown",
   "metadata": {},
   "source": [
    "## 4.2 Stratified Split into Train and Validation before doing Resample to avoid Leakage"
   ]
  },
  {
   "cell_type": "code",
   "execution_count": 27,
   "metadata": {},
   "outputs": [],
   "source": [
    "# 5% for validation\n",
    "df_pd_train_split, df_pd_val_final = train_test_split(\n",
    "    train_df_pandas[['merged_text','label']], test_size=0.05, stratify=train_df_pandas[\"label\"].values, random_state=42\n",
    ")"
   ]
  },
  {
   "cell_type": "code",
   "execution_count": 28,
   "metadata": {},
   "outputs": [
    {
     "data": {
      "text/plain": [
       "merged_text    65655\n",
       "label          65655\n",
       "dtype: int64"
      ]
     },
     "execution_count": 28,
     "metadata": {},
     "output_type": "execute_result"
    }
   ],
   "source": [
    "df_pd_train_split.count()"
   ]
  },
  {
   "cell_type": "code",
   "execution_count": 29,
   "metadata": {},
   "outputs": [
    {
     "data": {
      "text/plain": [
       "label\n",
       "0    62692\n",
       "1     2963\n",
       "Name: count, dtype: int64"
      ]
     },
     "execution_count": 29,
     "metadata": {},
     "output_type": "execute_result"
    }
   ],
   "source": [
    "df_pd_train_split['label'].value_counts()"
   ]
  },
  {
   "cell_type": "code",
   "execution_count": 30,
   "metadata": {},
   "outputs": [
    {
     "data": {
      "text/plain": [
       "merged_text    3456\n",
       "label          3456\n",
       "dtype: int64"
      ]
     },
     "execution_count": 30,
     "metadata": {},
     "output_type": "execute_result"
    }
   ],
   "source": [
    "df_pd_val_final.count()"
   ]
  },
  {
   "cell_type": "code",
   "execution_count": 31,
   "metadata": {},
   "outputs": [
    {
     "data": {
      "text/plain": [
       "label\n",
       "0    3300\n",
       "1     156\n",
       "Name: count, dtype: int64"
      ]
     },
     "execution_count": 31,
     "metadata": {},
     "output_type": "execute_result"
    }
   ],
   "source": [
    "df_pd_val_final['label'].value_counts()"
   ]
  },
  {
   "cell_type": "code",
   "execution_count": 32,
   "metadata": {},
   "outputs": [],
   "source": [
    "try_df = df_pd_train_split[df_pd_train_split['label'] == 1]"
   ]
  },
  {
   "cell_type": "code",
   "execution_count": 33,
   "metadata": {
    "id": "IJxuECZYfwbu"
   },
   "outputs": [],
   "source": [
    "### function to oversample and undersample dataset automatically\n",
    "### resample_method = ['both', 'oversample', 'undersample']\n",
    "def resample(df, outcome_col, major_downsample_ratio=0.50, minor_upsample_ratio=0.50, seed=1234, resample_method='both', make_equal=1):\n",
    "    # Split dataset based on outcome\n",
    "    split0_df = df[df[outcome_col] == 0]\n",
    "    split1_df = df[df[outcome_col] == 1]\n",
    "    # determine which split is major vs minor\n",
    "    if (len(split0_df) > len(split1_df)):\n",
    "        major_df = split0_df\n",
    "        minor_df = split1_df\n",
    "    else:\n",
    "        minor_df = split0_df\n",
    "        major_df = split1_df\n",
    "    # upsample minor from ratio\n",
    "    if (resample_method == 'both' or resample_method =='oversample'):\n",
    "        if (minor_upsample_ratio != 0.0):\n",
    "            print(\"Perform oversampling technique with ratio =\", minor_upsample_ratio)\n",
    "            added_minor_df = minor_df.sample(replace=False, frac=minor_upsample_ratio, random_state=seed)\n",
    "            minor_df = pd.concat([minor_df,added_minor_df], axis=0)\n",
    "    # calculate ratio    \n",
    "    ratio = len(major_df)/len(minor_df)\n",
    "    print(\"Ratio of major vs minor before sampling: {}\".format(ratio))\n",
    "    if (resample_method == 'both' or resample_method =='undersample'):\n",
    "        # Start under-sampling with Spark\n",
    "        if (make_equal == 1):\n",
    "            print(\"Perform underampling technique with ratio =\", 1/ratio)\n",
    "            sampled_majority_df = major_df.sample(replace=False, frac=1/ratio, random_state=seed)\n",
    "        else:\n",
    "            print(\"Perform underampling technique with ratio =\", major_downsample_ratio)\n",
    "            sampled_majority_df = major_df.sample(replace=False, frac=major_downsample_ratio, random_state=seed)\n",
    "        major_df = sampled_majority_df\n",
    "    combined_df = pd.concat([major_df,minor_df], axis=0)\n",
    "    # shuffle the DataFrame rows\n",
    "    combined_df = combined_df.sample(frac = 1)\n",
    "    print(f\"Final sample size: {combined_df.count()}\")\n",
    "    return combined_df"
   ]
  },
  {
   "cell_type": "code",
   "execution_count": 183,
   "metadata": {
    "colab": {
     "base_uri": "https://localhost:8080/",
     "height": 484
    },
    "id": "UCnsxuCPfz-s",
    "outputId": "e01a111c-443a-422f-b14d-55c3d648827c"
   },
   "outputs": [
    {
     "name": "stdout",
     "output_type": "stream",
     "text": [
      "Perform oversampling technique with ratio = 0.75\n",
      "Ratio of major vs minor before sampling: 12.09103182256509\n",
      "Perform underampling technique with ratio = 0.25\n",
      "Final sample size: merged_text    20858\n",
      "label          20858\n",
      "dtype: int64\n"
     ]
    },
    {
     "data": {
      "image/png": "[encoded data removed]",
      "text/plain": [
       "<Figure size 640x480 with 1 Axes>"
      ]
     },
     "metadata": {},
     "output_type": "display_data"
    }
   ],
   "source": [
    "# Perform resampling technique\n",
    "df_pd_train_final = resample(df_pd_train_split, outcome_col='label', major_downsample_ratio=0.25, minor_upsample_ratio=0.75, resample_method='both', make_equal=0)\n",
    "df_pandas = df_pd_train_final[['label']]\n",
    "ax = sns.countplot(x=\"label\",data=df_pandas)"
   ]
  },
  {
   "cell_type": "code",
   "execution_count": 184,
   "metadata": {
    "colab": {
     "base_uri": "https://localhost:8080/",
     "height": 406
    },
    "id": "fUxJPo5idlaU",
    "outputId": "de29135b-5773-4791-a52b-029508d29be0"
   },
   "outputs": [
    {
     "data": {
      "image/png": "[encoded data removed]",
      "text/plain": [
       "<Figure size 640x480 with 1 Axes>"
      ]
     },
     "metadata": {},
     "output_type": "display_data"
    }
   ],
   "source": [
    "plt.pie(df_pandas[\"label\"].value_counts(), labels=['normal','groomer'], autopct='%1.1f%%')\n",
    "plt.show()"
   ]
  },
  {
   "cell_type": "markdown",
   "metadata": {},
   "source": [
    "# 5 Model Building: Tensorflow BERT Pretrained Model"
   ]
  },
  {
   "cell_type": "markdown",
   "metadata": {},
   "source": [
    "## 5.1 Download Tensorflow BERT Pretrained English language model for transferred-learning/fine-tuning"
   ]
  },
  {
   "cell_type": "code",
   "execution_count": 185,
   "metadata": {},
   "outputs": [],
   "source": [
    "# Select a BERT Base cased pretrained model\n",
    "#model_checkpoint = \"bert-base-cased\"\n",
    "model_checkpoint = \"bert-base-uncased\"\n",
    "#model_checkpoint = \"ydshieh/bert-base-uncased-yelp-polarity\""
   ]
  },
  {
   "cell_type": "code",
   "execution_count": 186,
   "metadata": {},
   "outputs": [],
   "source": [
    "# use the AutoTokenizer object to avoid simple configuration mistakes \n",
    "# because it insures that we get the correct tokenizer given our pre-trained model.\n",
    "\n",
    "#tokenizer = AutoTokenizer.from_pretrained(model_checkpoint)\n",
    "tokenizer = BertTokenizer.from_pretrained(model_checkpoint)"
   ]
  },
  {
   "cell_type": "code",
   "execution_count": 187,
   "metadata": {},
   "outputs": [
    {
     "data": {
      "text/plain": [
       "{'input_ids': [101, 7592, 1010, 2057, 2069, 2342, 2028, 6251, 2005, 2256, 4708, 2021, 2122, 4391, 2411, 2031, 2062, 1012, 102], 'token_type_ids': [0, 0, 0, 0, 0, 0, 0, 0, 0, 0, 0, 0, 0, 0, 0, 0, 0, 0, 0], 'attention_mask': [1, 1, 1, 1, 1, 1, 1, 1, 1, 1, 1, 1, 1, 1, 1, 1, 1, 1, 1]}"
      ]
     },
     "execution_count": 187,
     "metadata": {},
     "output_type": "execute_result"
    }
   ],
   "source": [
    "# Testing the tokenizer \n",
    "tokenizer(\"Hello, we only need one sentence for our task but these reviews often have more.\")"
   ]
  },
  {
   "cell_type": "code",
   "execution_count": 188,
   "metadata": {},
   "outputs": [
    {
     "name": "stderr",
     "output_type": "stream",
     "text": [
      "Some weights of the PyTorch model were not used when initializing the TF 2.0 model TFBertModel: ['cls.predictions.transform.LayerNorm.weight', 'cls.seq_relationship.bias', 'cls.predictions.transform.LayerNorm.bias', 'cls.seq_relationship.weight', 'cls.predictions.transform.dense.weight', 'cls.predictions.transform.dense.bias', 'cls.predictions.bias']\n",
      "- This IS expected if you are initializing TFBertModel from a PyTorch model trained on another task or with another architecture (e.g. initializing a TFBertForSequenceClassification model from a BertForPreTraining model).\n",
      "- This IS NOT expected if you are initializing TFBertModel from a PyTorch model that you expect to be exactly identical (e.g. initializing a TFBertForSequenceClassification model from a BertForSequenceClassification model).\n",
      "All the weights of TFBertModel were initialized from the PyTorch model.\n",
      "If your task is similar to the task the model of the checkpoint was trained on, you can already use TFBertModel for predictions without further training.\n"
     ]
    }
   ],
   "source": [
    "#model = TFAutoModelForSequenceClassification.from_pretrained(model_checkpoint, num_labels=2) # 2 classes for 0 and 1\n",
    "model = TFBertModel.from_pretrained(model_checkpoint)"
   ]
  },
  {
   "cell_type": "markdown",
   "metadata": {},
   "source": [
    "### First understand this pretrained model"
   ]
  },
  {
   "cell_type": "code",
   "execution_count": 189,
   "metadata": {},
   "outputs": [
    {
     "data": {
      "text/plain": [
       "{'input_ids': <tf.Tensor: shape=(2, 10), dtype=int32, numpy=\n",
       "array([[ 101, 2023, 2003, 2307,  999,  102,    0,    0,    0,    0],\n",
       "       [ 101, 2023, 2003, 6659,  999,  102,    0,    0,    0,    0]],\n",
       "      dtype=int32)>, 'token_type_ids': <tf.Tensor: shape=(2, 10), dtype=int32, numpy=\n",
       "array([[0, 0, 0, 0, 0, 0, 0, 0, 0, 0],\n",
       "       [0, 0, 0, 0, 0, 0, 0, 0, 0, 0]], dtype=int32)>, 'attention_mask': <tf.Tensor: shape=(2, 10), dtype=int32, numpy=\n",
       "array([[1, 1, 1, 1, 1, 1, 0, 0, 0, 0],\n",
       "       [1, 1, 1, 1, 1, 1, 0, 0, 0, 0]], dtype=int32)>}"
      ]
     },
     "execution_count": 189,
     "metadata": {},
     "output_type": "execute_result"
    }
   ],
   "source": [
    "bert_input = tokenizer(['This is great!', \n",
    "                        'This is terrible!'],\n",
    "              max_length=10,\n",
    "              truncation=True,\n",
    "              padding='max_length',\n",
    "              return_tensors='tf')\n",
    "\n",
    "bert_input"
   ]
  },
  {
   "cell_type": "code",
   "execution_count": 190,
   "metadata": {},
   "outputs": [
    {
     "data": {
      "text/plain": [
       "199"
      ]
     },
     "execution_count": 190,
     "metadata": {},
     "output_type": "execute_result"
    }
   ],
   "source": [
    "len(model.weights)"
   ]
  },
  {
   "cell_type": "code",
   "execution_count": 191,
   "metadata": {},
   "outputs": [
    {
     "data": {
      "text/plain": [
       "<tf.Variable 'tf_bert_model_1/bert/embeddings/word_embeddings/weight:0' shape=(30522, 768) dtype=float32, numpy=\n",
       "array([[-0.01018257, -0.06154883, -0.02649689, ..., -0.01985357,\n",
       "        -0.03720997, -0.00975152],\n",
       "       [-0.01170495, -0.06002603, -0.03233192, ..., -0.01681456,\n",
       "        -0.04009988, -0.0106634 ],\n",
       "       [-0.01975381, -0.06273633, -0.03262176, ..., -0.01650258,\n",
       "        -0.04198876, -0.00323178],\n",
       "       ...,\n",
       "       [-0.02176224, -0.0556396 , -0.01346345, ..., -0.00432698,\n",
       "        -0.0151355 , -0.02489496],\n",
       "       [-0.04617237, -0.05647721, -0.00192082, ...,  0.01568751,\n",
       "        -0.01387033, -0.00945213],\n",
       "       [ 0.00145601, -0.08208051, -0.01597912, ..., -0.00811687,\n",
       "        -0.04746607,  0.07527421]], dtype=float32)>"
      ]
     },
     "execution_count": 191,
     "metadata": {},
     "output_type": "execute_result"
    }
   ],
   "source": [
    "model.weights[0]"
   ]
  },
  {
   "cell_type": "code",
   "execution_count": 192,
   "metadata": {},
   "outputs": [
    {
     "data": {
      "text/plain": [
       "<tf.Variable 'tf_bert_model_1/bert/pooler/dense/bias:0' shape=(768,) dtype=float32, numpy=\n",
       "array([-3.59758101e-02, -3.89536447e-03,  5.18135242e-02,  2.22474653e-02,\n",
       "       -4.93722595e-03, -1.12034811e-03,  2.63389684e-02,  9.06389207e-03,\n",
       "        3.87229286e-02, -9.65566933e-02,  2.33106632e-02, -2.00860817e-02,\n",
       "        6.54901490e-02, -5.16800582e-02,  6.61561340e-02, -1.47210108e-02,\n",
       "       -4.53246664e-03, -8.40590510e-04,  1.30266594e-02, -2.97703724e-02,\n",
       "        4.36932743e-02, -1.42916441e-02,  4.54890691e-02,  4.53457702e-03,\n",
       "        7.68589275e-03, -4.09257710e-02, -1.14115337e-02,  6.60372078e-02,\n",
       "        6.73762187e-02,  4.28587943e-02, -2.69748904e-02,  3.52813004e-05,\n",
       "       -8.14828426e-02, -3.75685841e-03,  4.05701660e-02, -5.76940365e-02,\n",
       "       -8.32851697e-03, -2.62178238e-02, -4.79239225e-03, -8.22489429e-03,\n",
       "       -6.46718442e-02,  1.95789011e-03,  7.20151439e-02, -2.25517321e-02,\n",
       "        3.41102644e-03, -1.42510980e-02, -8.34877975e-03,  3.89568089e-03,\n",
       "       -5.51107004e-02, -4.89157476e-02, -4.05049436e-02, -3.54231782e-02,\n",
       "        6.18055649e-03,  9.78870667e-04,  2.52344110e-03,  3.86910094e-03,\n",
       "       -7.24863540e-03, -2.10824190e-03,  1.97433750e-03, -1.58936679e-02,\n",
       "       -1.44698378e-02,  3.19997850e-03,  2.30564084e-02, -4.68757637e-02,\n",
       "       -3.67217623e-02, -7.38984570e-02, -4.45869099e-03,  5.00231562e-03,\n",
       "        6.90431381e-03,  3.35886935e-03,  2.27746256e-02, -3.11064231e-03,\n",
       "        2.47674324e-02, -4.82931249e-02, -5.06317951e-02,  3.75586585e-03,\n",
       "       -8.85314029e-03,  1.74209308e-02, -5.26421191e-03, -7.47188702e-02,\n",
       "       -3.00474092e-02, -5.36528379e-02,  8.81730206e-03,  6.19047023e-02,\n",
       "       -6.88829571e-02, -2.12245118e-02, -8.63399822e-03, -1.75477390e-03,\n",
       "       -8.58511329e-02,  5.93777653e-03,  1.19668478e-02,  2.08967947e-03,\n",
       "       -4.24131118e-02,  8.74671061e-03,  4.52034548e-02, -7.60980602e-03,\n",
       "        1.85485565e-04,  2.86142156e-02,  2.07808334e-03, -4.95083071e-03,\n",
       "       -8.81963316e-03, -3.41975968e-03,  7.39857741e-03, -1.71588536e-03,\n",
       "        3.85934254e-03, -9.62552056e-03, -1.30846007e-02, -1.62074845e-02,\n",
       "       -4.16866653e-02,  9.76583268e-03,  8.98335595e-03, -5.86095871e-03,\n",
       "       -1.49351137e-03, -5.35368100e-02,  5.55827934e-03, -1.08702428e-04,\n",
       "       -8.43928307e-02, -2.05343459e-02, -8.66198018e-02,  3.60780098e-02,\n",
       "        5.21200430e-03, -1.46680241e-02,  6.60044402e-02,  3.51716056e-02,\n",
       "        4.02671238e-03, -3.85120977e-03,  4.11876477e-02, -9.53735411e-03,\n",
       "        8.42210930e-03,  4.15114872e-03,  3.00336797e-02, -6.34678581e-04,\n",
       "       -7.11960271e-02, -7.64162168e-02,  1.14968959e-02,  6.47259355e-02,\n",
       "        2.71808146e-03,  6.86656535e-02, -4.04540030e-03,  5.68169430e-02,\n",
       "        4.06516045e-02,  1.68535728e-02, -3.10050845e-02, -1.30640492e-02,\n",
       "        2.84831296e-03,  1.64976623e-02, -3.03468015e-02,  8.98525398e-03,\n",
       "       -7.77549716e-03, -1.81133561e-02, -2.28848821e-03, -5.04418416e-03,\n",
       "        4.71305065e-02, -6.00126721e-02, -8.74611456e-03,  5.99246286e-02,\n",
       "        2.18791403e-02,  6.80308565e-02,  6.35063872e-02, -4.26973356e-03,\n",
       "       -1.45036401e-02,  4.19738404e-02,  9.11938865e-03,  3.08241392e-03,\n",
       "        2.63921432e-02,  1.11353220e-04, -6.19427972e-02,  5.25784679e-03,\n",
       "       -3.54842208e-02,  1.75657570e-02,  3.57162626e-03, -4.58408706e-03,\n",
       "        4.83744442e-02, -7.52799213e-02, -4.67121461e-03,  1.69701632e-02,\n",
       "        8.27938989e-02,  4.94446680e-02,  4.40202793e-03, -2.71262731e-02,\n",
       "       -1.07066771e-02, -2.48823334e-02, -6.98366612e-02,  7.47746006e-02,\n",
       "        6.09473046e-03,  1.80293410e-03,  6.64899545e-03, -1.50675820e-02,\n",
       "       -4.71084900e-02, -4.82787229e-02,  2.20509954e-02,  1.03390981e-02,\n",
       "       -4.72054780e-02, -4.58173361e-03, -9.02874302e-03, -2.71955924e-03,\n",
       "        3.07299336e-03,  3.33834849e-02,  5.35100466e-03, -1.09996563e-02,\n",
       "       -4.35534818e-03,  6.90251440e-02,  2.87945103e-02,  3.36192399e-02,\n",
       "       -1.47014586e-02,  1.40598323e-02, -4.83198799e-02, -3.18825021e-02,\n",
       "       -1.44798541e-03,  6.00811606e-03,  2.35931925e-03,  8.47869739e-02,\n",
       "        1.24058444e-02,  2.57894932e-03, -5.05640805e-02, -8.20316523e-02,\n",
       "       -9.41406586e-04, -5.52413724e-02, -7.67746801e-03, -2.48608682e-02,\n",
       "        9.45708714e-03,  5.88407600e-03, -4.71543930e-02,  3.57168796e-03,\n",
       "       -4.35069688e-02, -4.66764793e-02, -1.25987257e-03, -8.07735790e-03,\n",
       "        2.43286625e-03, -7.53541943e-03,  1.54033992e-02, -3.62486355e-02,\n",
       "       -2.77845301e-02,  2.71188878e-02,  6.79797903e-02,  3.14300694e-02,\n",
       "       -5.25836758e-02,  3.74849401e-02, -4.88155521e-03,  3.00934482e-02,\n",
       "       -1.14556765e-02,  5.64221330e-02, -1.23451147e-02,  6.09826343e-03,\n",
       "       -6.22672029e-02,  4.36046794e-02, -3.81969102e-02,  5.24993464e-02,\n",
       "        1.66298618e-04, -7.59688243e-02, -6.48647025e-02,  1.38840741e-02,\n",
       "       -1.31888303e-03,  6.76559359e-02, -9.52265505e-03,  3.31974439e-02,\n",
       "       -2.35327184e-02, -7.01450333e-02, -1.04320077e-02,  2.82737650e-02,\n",
       "       -8.10621232e-02, -3.19472924e-02, -2.71264161e-03, -1.33336596e-02,\n",
       "       -2.81351595e-03, -1.07056769e-02, -6.92987442e-02,  3.46436538e-02,\n",
       "       -2.91699497e-03,  4.59189489e-02, -8.94447602e-03, -2.68802196e-02,\n",
       "        1.26387980e-02, -6.75606951e-02, -7.47831946e-04,  6.14524400e-03,\n",
       "        5.06978929e-02, -8.52375664e-03, -5.86399660e-02,  1.71571667e-03,\n",
       "        2.56318673e-02,  1.06197791e-02,  5.49068265e-02,  3.92498858e-02,\n",
       "        1.36267561e-02,  7.06617385e-02,  5.14389910e-02,  3.48941125e-02,\n",
       "        1.07009718e-02, -1.65655706e-02,  1.04277797e-01,  3.26512791e-02,\n",
       "       -1.14828292e-02, -6.23280071e-02, -1.28102098e-02,  3.53364013e-02,\n",
       "       -1.50024435e-02, -1.12515148e-02,  1.37033974e-04, -5.96011654e-02,\n",
       "       -4.19404954e-02,  6.44880086e-02,  3.57947089e-02, -1.10730557e-02,\n",
       "        4.29598391e-02,  6.63632676e-02, -2.13498641e-02, -2.80483458e-02,\n",
       "       -7.83673767e-03,  5.93284704e-02, -1.19677046e-02,  1.97622068e-02,\n",
       "        1.64355128e-03, -1.95855901e-04,  4.54572253e-02, -3.36727388e-02,\n",
       "        2.81753205e-02,  3.09507493e-02, -8.45028274e-03,  4.35504038e-03,\n",
       "       -1.83113050e-02, -6.08689375e-02,  7.67227402e-03, -8.14891607e-03,\n",
       "       -2.41809804e-02, -6.57634363e-02, -3.12217022e-03, -2.70590931e-02,\n",
       "        5.24790119e-03,  2.20235740e-03,  2.26945523e-03, -3.77774611e-02,\n",
       "        2.99742696e-05, -5.21793887e-02,  8.64200480e-03,  1.53672630e-02,\n",
       "       -2.68964916e-02, -2.32518818e-02,  1.33459950e-02, -2.84177940e-02,\n",
       "        5.21541014e-02, -6.81177601e-02,  6.33495152e-02, -2.96268915e-03,\n",
       "       -3.79809514e-02,  2.43897252e-02, -2.45287200e-03, -5.22624515e-02,\n",
       "        4.41958057e-03,  4.08187276e-03, -5.25733398e-04,  1.57518629e-02,\n",
       "       -4.70642839e-03, -7.40604475e-02, -1.77925657e-02, -1.84687339e-02,\n",
       "        4.76056989e-03, -4.60876757e-03,  7.67157599e-02, -1.54326946e-04,\n",
       "        3.28116007e-02,  9.18626692e-03,  7.85298198e-02, -7.59815723e-02,\n",
       "       -3.36727835e-02, -4.55257706e-02, -7.11963996e-02,  6.65362924e-02,\n",
       "        6.61305413e-02,  3.49181169e-03, -4.27153409e-02, -7.38335657e-04,\n",
       "        5.98869286e-02, -9.48028453e-03, -5.12429029e-02,  4.28644195e-03,\n",
       "        2.63193995e-02, -9.79405362e-03,  5.96643165e-02, -2.41735522e-02,\n",
       "       -1.12044904e-02, -7.23842997e-03,  4.92879888e-03,  1.65332630e-02,\n",
       "       -2.43686363e-02,  6.49327599e-03, -1.36487810e-02, -2.41824170e-03,\n",
       "       -6.27990207e-03, -1.72100049e-02, -7.24312887e-02, -7.87396822e-03,\n",
       "        1.27922948e-02,  2.09202003e-02, -1.23287439e-02,  3.89722921e-02,\n",
       "       -7.15809129e-03, -1.22835413e-02,  1.99165288e-03,  7.40510365e-03,\n",
       "       -1.43208094e-02, -3.53937075e-02, -2.40146387e-02, -3.24175879e-02,\n",
       "       -7.55212829e-02,  3.29480767e-02,  1.59013236e-03, -2.85545620e-03,\n",
       "        2.78926129e-03, -3.43116559e-03,  2.53452756e-03, -1.67581476e-02,\n",
       "       -4.94623445e-02,  3.28656775e-03,  1.29307266e-02, -5.21723069e-02,\n",
       "        7.39276633e-02, -4.09849919e-03,  9.58641898e-03,  3.08721829e-02,\n",
       "        5.24273254e-02, -1.44338580e-02, -2.94153066e-03, -4.20152955e-03,\n",
       "       -6.09028265e-02,  5.17166965e-03, -6.30323440e-02,  6.91264644e-02,\n",
       "       -3.79291661e-02,  7.98664242e-03,  6.04349514e-03, -8.54048971e-03,\n",
       "        1.02935228e-02, -9.43307392e-03,  2.09379420e-02, -8.24796315e-03,\n",
       "        3.08957770e-02,  1.78969894e-02, -2.85270792e-02, -1.50334351e-02,\n",
       "        3.50818364e-03,  5.92428260e-02, -3.49875889e-03, -1.25961541e-03,\n",
       "       -6.26479462e-02, -5.54140210e-02, -1.96972620e-02, -4.56243604e-02,\n",
       "       -7.37692788e-02,  3.94876525e-02,  2.10771933e-02,  7.96210673e-03,\n",
       "        8.19029193e-03, -6.09143544e-03, -1.04760164e-02, -2.51051169e-02,\n",
       "       -4.38281614e-03, -6.43211678e-02,  4.99433130e-02, -1.93900466e-02,\n",
       "        1.11469021e-02, -4.47636750e-03,  6.25675777e-03, -6.40559718e-02,\n",
       "        7.23744482e-02,  1.05564808e-02,  1.01561809e-03,  7.94763491e-03,\n",
       "       -2.90675033e-02,  1.58735253e-02, -2.68099662e-02,  2.95659378e-02,\n",
       "       -5.49991243e-03,  1.35153523e-02, -1.06814187e-02, -5.06306887e-02,\n",
       "        4.08176370e-02,  2.08233763e-02,  3.99089092e-03,  7.85421301e-03,\n",
       "       -4.63001356e-02,  2.47482816e-03,  6.99783042e-02,  4.52445708e-02,\n",
       "       -1.68347824e-02, -1.03961304e-02,  1.56371854e-02, -5.64535055e-03,\n",
       "       -7.29004890e-02,  5.30198142e-02,  1.38939703e-02, -1.87119913e-05,\n",
       "       -3.68430541e-04,  5.57726389e-03,  4.10980545e-02, -8.01910879e-04,\n",
       "       -2.40927446e-03, -2.59191245e-02,  1.25189382e-03, -2.30392325e-03,\n",
       "       -8.62025097e-03,  1.21286409e-02,  1.08537897e-04, -1.50875130e-03,\n",
       "       -7.46100768e-02,  2.25190297e-02, -3.84658054e-02,  1.09743010e-02,\n",
       "        6.03022575e-02, -5.16198613e-02,  1.33398129e-02, -8.05589464e-03,\n",
       "        4.12420806e-04,  1.95515193e-02, -7.92687014e-03, -8.16025119e-03,\n",
       "        1.71113026e-03,  6.77278405e-03,  6.43102452e-02, -1.34572741e-02,\n",
       "       -7.43346065e-02, -3.44796553e-02, -7.39113544e-04, -6.20721169e-02,\n",
       "       -2.23107208e-02, -1.71088555e-03,  5.99180069e-03, -1.96640030e-03,\n",
       "       -7.12506659e-03,  2.28249673e-02, -4.87200078e-03, -6.50026947e-02,\n",
       "       -2.17746920e-03, -1.84444536e-03,  7.32648596e-02,  5.22214454e-04,\n",
       "       -1.29535804e-02, -5.32592162e-02, -3.70843485e-02, -3.83337424e-03,\n",
       "        4.32798453e-02, -6.04617819e-02,  7.04545975e-02, -6.53585494e-02,\n",
       "        1.08423794e-03,  1.05326455e-02,  6.15418795e-03, -3.70200202e-02,\n",
       "        1.87474681e-04, -2.11950075e-02, -4.46398626e-04,  1.55283802e-03,\n",
       "        1.64096002e-02, -6.10314980e-02, -2.02539703e-03, -6.14082860e-03,\n",
       "        5.86792920e-03, -2.91457702e-03, -1.98924891e-03,  4.35326584e-02,\n",
       "        1.55809568e-03, -1.32579692e-02, -3.44771845e-03, -3.10634892e-03,\n",
       "        1.65576045e-03,  1.23302415e-02, -1.36582190e-02,  1.48295912e-05,\n",
       "        2.34825816e-03, -2.56520580e-03, -4.68611047e-02, -3.85264377e-03,\n",
       "        1.48913707e-04,  3.50261154e-03,  2.93037742e-02, -1.25145260e-02,\n",
       "       -1.66512001e-02, -6.55051768e-02, -7.07285246e-03,  5.60961552e-02,\n",
       "        1.64916478e-02, -1.01015046e-02, -5.10005951e-02,  4.61339317e-02,\n",
       "        5.97140566e-02,  2.77493317e-02, -3.90689634e-03,  2.80982275e-02,\n",
       "       -4.33074459e-02,  2.91247014e-03, -1.15549762e-03, -5.43323986e-04,\n",
       "        1.77156217e-02,  3.94262075e-02, -1.16496161e-02,  5.41425264e-03,\n",
       "        7.66678480e-04, -1.45008797e-02, -3.27811167e-02, -1.71091000e-04,\n",
       "       -4.54887562e-03,  1.32352551e-02, -3.12424581e-02, -6.50267377e-02,\n",
       "        4.47116978e-03, -8.80020205e-03, -4.72775698e-02,  1.55849047e-02,\n",
       "       -1.23116688e-03, -7.97797088e-03,  3.03202681e-02,  5.86175770e-02,\n",
       "        2.95391623e-02, -1.05120465e-02,  1.32331504e-02, -9.14985500e-03,\n",
       "       -1.41227338e-02,  4.53894772e-03, -4.50206026e-02,  8.76477435e-02,\n",
       "        1.58727206e-02,  3.46613973e-02,  2.92708422e-03,  8.59431922e-04,\n",
       "        6.33361936e-02,  3.64342402e-03,  2.71096751e-02,  3.97281162e-03,\n",
       "        1.69378743e-02,  7.78050441e-03, -5.58918342e-02,  1.30685885e-02,\n",
       "       -6.51584789e-02, -1.46326644e-03, -5.50585538e-02,  7.28584500e-03,\n",
       "        5.38333133e-03,  6.22871704e-02, -2.05524242e-03,  5.51686883e-02,\n",
       "        4.23858464e-02, -6.44506468e-03,  1.97916366e-02,  5.18874303e-02,\n",
       "        1.07397488e-03, -6.34144247e-02, -7.84496963e-02, -8.02979395e-02,\n",
       "        6.73084287e-03, -4.04204521e-03, -7.04519451e-04,  1.40645588e-02,\n",
       "        6.09935215e-03,  4.51032352e-03,  1.08121987e-02, -2.05209050e-02,\n",
       "        6.03279099e-02,  5.45863947e-03, -6.69965521e-02,  7.83350021e-02,\n",
       "       -1.55395232e-02,  5.54944621e-03,  1.24397660e-02, -7.88081065e-02,\n",
       "       -4.01145481e-02,  3.34920100e-04,  1.29260065e-03,  2.93105822e-02,\n",
       "        1.73461176e-02,  5.12615852e-02, -1.86657405e-03, -8.38604476e-03,\n",
       "       -1.17869712e-02,  2.82522496e-02, -1.75931305e-02, -8.78173560e-02,\n",
       "        5.21704229e-03,  4.43339311e-02, -3.30998525e-02,  7.37992078e-02,\n",
       "       -4.18008082e-02, -4.63975221e-03,  5.77260070e-02,  2.22811494e-02,\n",
       "        3.26276347e-02,  3.76138873e-02,  2.29017735e-02, -5.22829767e-04,\n",
       "        2.97416076e-02,  5.64471632e-02,  4.17720750e-02,  7.67275691e-02,\n",
       "        4.90345210e-02,  2.56676562e-02,  2.91381944e-02,  4.47997916e-03,\n",
       "        1.55231338e-02, -6.55182973e-02, -1.56460539e-03,  7.28775095e-03,\n",
       "        3.41109410e-02, -9.03677777e-04, -3.16894788e-04, -3.58726569e-02,\n",
       "        2.46876180e-02, -5.38623543e-04,  1.41318347e-02, -1.17772911e-02,\n",
       "        7.05762394e-03, -1.12293037e-02, -1.02560837e-02, -3.00351009e-02,\n",
       "       -3.06375022e-03,  1.30666550e-02,  1.08608054e-02,  5.85659780e-02,\n",
       "       -7.62177398e-03, -5.18866396e-03, -4.62875748e-03,  5.53548289e-03,\n",
       "        7.26794079e-02, -5.86854257e-02,  1.84785891e-02, -5.32383425e-03,\n",
       "        6.68550804e-02, -1.41526712e-02, -1.03665609e-02,  1.99529398e-02,\n",
       "       -4.09990996e-02, -2.16696900e-03, -4.49593086e-03, -3.53258736e-02,\n",
       "        3.89799178e-02, -1.12335915e-02, -3.11985170e-03, -1.58842485e-02,\n",
       "        2.06110738e-02,  2.44608941e-03, -2.15088669e-03,  5.71220592e-02,\n",
       "        5.62310591e-02, -6.34689489e-03,  3.83777451e-03,  7.64450431e-03,\n",
       "       -3.42556671e-03, -1.86953265e-02, -4.32739529e-04,  2.88062580e-02,\n",
       "       -4.99243848e-02,  3.12714465e-02, -4.29695062e-02,  2.04606988e-02,\n",
       "       -5.62339723e-02,  2.58104792e-05, -1.40198611e-03, -1.79689024e-02,\n",
       "       -1.14183277e-02,  8.45722575e-03,  5.41023770e-03,  2.15492900e-02,\n",
       "       -3.10377385e-02,  4.68630008e-02, -1.08340411e-02,  5.60615323e-02,\n",
       "        1.62077975e-02,  1.50802406e-02, -1.90710835e-02,  5.00274338e-02],\n",
       "      dtype=float32)>"
      ]
     },
     "execution_count": 192,
     "metadata": {},
     "output_type": "execute_result"
    }
   ],
   "source": [
    "model.weights[-1]"
   ]
  },
  {
   "cell_type": "code",
   "execution_count": 193,
   "metadata": {},
   "outputs": [
    {
     "data": {
      "text/plain": [
       "TFBaseModelOutputWithPoolingAndCrossAttentions(last_hidden_state=<tf.Tensor: shape=(2, 10, 768), dtype=float32, numpy=\n",
       "array([[[ 0.09159239,  0.16384561,  0.04863737, ..., -0.1982761 ,\n",
       "          0.1756119 ,  0.184982  ],\n",
       "        [-0.80346376,  0.16796118,  0.28415877, ..., -0.8848038 ,\n",
       "          0.2874537 ,  0.52153885],\n",
       "        [-0.00689596, -0.03130595,  0.3222831 , ..., -0.19864035,\n",
       "          0.32296324,  0.6851795 ],\n",
       "        ...,\n",
       "        [ 0.03410745, -0.27392352,  0.270483  , ...,  0.18396628,\n",
       "          0.05372727, -0.30027002],\n",
       "        [ 0.30243337,  0.03761856,  0.4375779 , ..., -0.05095244,\n",
       "          0.03641126, -0.16423072],\n",
       "        [-0.04681697, -0.38299164,  0.24613684, ...,  0.18162245,\n",
       "          0.0209226 , -0.37885362]],\n",
       "\n",
       "       [[ 0.11298604,  0.5107682 , -0.16759236, ..., -0.24840526,\n",
       "          0.24137571,  0.36224416],\n",
       "        [-0.21236224,  0.55142224, -0.04688253, ..., -0.6848279 ,\n",
       "          0.94448817,  0.41532332],\n",
       "        [ 0.44161803,  0.2328135 ,  0.13136236, ..., -0.18058527,\n",
       "          0.17358541,  0.6465561 ],\n",
       "        ...,\n",
       "        [ 0.1902836 ,  0.12411362,  0.23476297, ...,  0.2652282 ,\n",
       "          0.06138585, -0.12798984],\n",
       "        [ 0.44270733,  0.34808147,  0.426181  , ...,  0.10334063,\n",
       "          0.05288759, -0.10573405],\n",
       "        [ 0.08505958, -0.01395768,  0.2250641 , ...,  0.278255  ,\n",
       "         -0.02095907, -0.28377524]]], dtype=float32)>, pooler_output=<tf.Tensor: shape=(2, 768), dtype=float32, numpy=\n",
       "array([[-0.9162445 , -0.33059502, -0.55164135, ..., -0.2887684 ,\n",
       "        -0.6457123 ,  0.9321533 ],\n",
       "       [-0.9413822 , -0.45360336, -0.77970415, ..., -0.34026244,\n",
       "        -0.71557367,  0.9537743 ]], dtype=float32)>, past_key_values=None, hidden_states=None, attentions=None, cross_attentions=None)"
      ]
     },
     "execution_count": 193,
     "metadata": {},
     "output_type": "execute_result"
    }
   ],
   "source": [
    "bert_output = model(bert_input)\n",
    "bert_output"
   ]
  },
  {
   "cell_type": "markdown",
   "metadata": {},
   "source": [
    "## 5.2 Tokenize Inputs and prepare Tensorflow Train and Test Datasets"
   ]
  },
  {
   "cell_type": "code",
   "execution_count": 194,
   "metadata": {},
   "outputs": [],
   "source": [
    "df_pd_train = df_pd_train_final"
   ]
  },
  {
   "cell_type": "code",
   "execution_count": 195,
   "metadata": {},
   "outputs": [],
   "source": [
    "df_pd_val = df_pd_val_final"
   ]
  },
  {
   "cell_type": "code",
   "execution_count": 196,
   "metadata": {},
   "outputs": [],
   "source": [
    "df_pd_test = test_df_pandas"
   ]
  },
  {
   "cell_type": "code",
   "execution_count": 197,
   "metadata": {},
   "outputs": [],
   "source": [
    "X_train = df_pd_train['merged_text']\n",
    "y_train = df_pd_train['label']\n",
    "X_val = df_pd_val['merged_text']\n",
    "y_val = df_pd_val['label']\n",
    "X_test = df_pd_test['merged_text']\n",
    "y_test = df_pd_test['label']"
   ]
  },
  {
   "cell_type": "code",
   "execution_count": 198,
   "metadata": {},
   "outputs": [
    {
     "data": {
      "text/plain": [
       "22643                              hi m or f hi m 20 india\n",
       "69056    ya there? Hey bAby heyyy whatcha up to Nothing...\n",
       "68941    hiiiii Hey baby where u been gma picked me up ...\n",
       "18253    I miss you too, where are you?? u never called...\n",
       "66770            asl IM BLACK HATERS GON&apos; HATE FUCK U\n",
       "Name: merged_text, dtype: object"
      ]
     },
     "execution_count": 198,
     "metadata": {},
     "output_type": "execute_result"
    }
   ],
   "source": [
    "X_train.head()"
   ]
  },
  {
   "cell_type": "code",
   "execution_count": 199,
   "metadata": {},
   "outputs": [
    {
     "data": {
      "text/plain": [
       "22643    0\n",
       "69056    1\n",
       "68941    1\n",
       "18253    1\n",
       "66770    0\n",
       "Name: label, dtype: int32"
      ]
     },
     "execution_count": 199,
     "metadata": {},
     "output_type": "execute_result"
    }
   ],
   "source": [
    "y_train.head()"
   ]
  },
  {
   "cell_type": "code",
   "execution_count": 200,
   "metadata": {},
   "outputs": [
    {
     "data": {
      "text/plain": [
       "20858"
      ]
     },
     "execution_count": 200,
     "metadata": {},
     "output_type": "execute_result"
    }
   ],
   "source": [
    "X_train.count()"
   ]
  },
  {
   "cell_type": "code",
   "execution_count": 201,
   "metadata": {},
   "outputs": [
    {
     "data": {
      "text/plain": [
       "3456"
      ]
     },
     "execution_count": 201,
     "metadata": {},
     "output_type": "execute_result"
    }
   ],
   "source": [
    "X_val.count()"
   ]
  },
  {
   "cell_type": "code",
   "execution_count": 203,
   "metadata": {},
   "outputs": [],
   "source": [
    "MAX_SEQUENCE_LENGTH = 400                 # set max_length of the input sequence"
   ]
  },
  {
   "cell_type": "code",
   "execution_count": 204,
   "metadata": {},
   "outputs": [],
   "source": [
    "#@title BERT Tokenization of training and test data\n",
    "bert_train_tokenized = tokenizer(X_train.tolist(),\n",
    "                                      max_length=MAX_SEQUENCE_LENGTH,\n",
    "                                      truncation=True,\n",
    "                                      padding='max_length',\n",
    "                                      return_tensors='tf')\n",
    "bert_train_inputs = [bert_train_tokenized.input_ids,\n",
    "                     bert_train_tokenized.token_type_ids,\n",
    "                     bert_train_tokenized.attention_mask]\n",
    "bert_train_labels = np.array(y_train)\n",
    "\n",
    "bert_val_tokenized = tokenizer(X_val.tolist(),\n",
    "                                      max_length=MAX_SEQUENCE_LENGTH,\n",
    "                                      truncation=True,\n",
    "                                      padding='max_length',\n",
    "                                      return_tensors='tf')\n",
    "bert_val_inputs = [bert_val_tokenized.input_ids,\n",
    "                   bert_val_tokenized.token_type_ids,\n",
    "                   bert_val_tokenized.attention_mask]\n",
    "bert_val_labels = np.array(y_val)\n",
    "\n",
    "bert_test_tokenized = tokenizer(X_test.tolist(),\n",
    "                                     max_length=MAX_SEQUENCE_LENGTH,\n",
    "                                     truncation=True,\n",
    "                                     padding='max_length',\n",
    "                                     return_tensors='tf')\n",
    "bert_test_inputs = [bert_test_tokenized.input_ids,\n",
    "                    bert_test_tokenized.token_type_ids,\n",
    "                    bert_test_tokenized.attention_mask]\n",
    "bert_test_labels = np.array(y_test)"
   ]
  },
  {
   "cell_type": "code",
   "execution_count": 205,
   "metadata": {},
   "outputs": [
    {
     "data": {
      "text/plain": [
       "[<tf.Tensor: shape=(20858, 400), dtype=int32, numpy=\n",
       " array([[  101,  7632,  1049, ...,     0,     0,     0],\n",
       "        [  101,  8038,  2045, ...,     0,     0,     0],\n",
       "        [  101,  7632, 28954, ...,     0,     0,     0],\n",
       "        ...,\n",
       "        [  101,  2534,  2080, ...,     0,     0,     0],\n",
       "        [  101,  7632,  2129, ...,     0,     0,     0],\n",
       "        [  101,  2129,  2272, ...,     0,     0,     0]], dtype=int32)>,\n",
       " <tf.Tensor: shape=(20858, 400), dtype=int32, numpy=\n",
       " array([[0, 0, 0, ..., 0, 0, 0],\n",
       "        [0, 0, 0, ..., 0, 0, 0],\n",
       "        [0, 0, 0, ..., 0, 0, 0],\n",
       "        ...,\n",
       "        [0, 0, 0, ..., 0, 0, 0],\n",
       "        [0, 0, 0, ..., 0, 0, 0],\n",
       "        [0, 0, 0, ..., 0, 0, 0]], dtype=int32)>,\n",
       " <tf.Tensor: shape=(20858, 400), dtype=int32, numpy=\n",
       " array([[1, 1, 1, ..., 0, 0, 0],\n",
       "        [1, 1, 1, ..., 0, 0, 0],\n",
       "        [1, 1, 1, ..., 0, 0, 0],\n",
       "        ...,\n",
       "        [1, 1, 1, ..., 0, 0, 0],\n",
       "        [1, 1, 1, ..., 0, 0, 0],\n",
       "        [1, 1, 1, ..., 0, 0, 0]], dtype=int32)>]"
      ]
     },
     "execution_count": 205,
     "metadata": {},
     "output_type": "execute_result"
    }
   ],
   "source": [
    "bert_train_inputs"
   ]
  },
  {
   "cell_type": "code",
   "execution_count": 206,
   "metadata": {},
   "outputs": [
    {
     "name": "stdout",
     "output_type": "stream",
     "text": [
      "20858\n",
      "3456\n",
      "156985\n"
     ]
    }
   ],
   "source": [
    "print(len(bert_train_inputs[0]))\n",
    "print(len(bert_val_inputs[0]))\n",
    "print(len(bert_test_inputs[0]))"
   ]
  },
  {
   "cell_type": "markdown",
   "metadata": {},
   "source": [
    "## 5.3 Run Training Model"
   ]
  },
  {
   "cell_type": "code",
   "execution_count": 207,
   "metadata": {},
   "outputs": [],
   "source": [
    "# Defining functions for different performance metrics\n",
    "from keras import backend as K\n",
    "from torchmetrics import FBetaScore\n",
    "from torchmetrics.classification import BinaryFBetaScore\n",
    "\n",
    "def recall(y_true, y_pred):\n",
    "    true_positives = K.sum(K.round(K.clip(y_true * y_pred, 0, 1)))\n",
    "    possible_positives = K.sum(K.round(K.clip(y_true, 0, 1)))\n",
    "    return true_positives / (possible_positives + K.epsilon())\n",
    "\n",
    "def precision(y_true, y_pred):\n",
    "    true_positives = K.sum(K.round(K.clip(y_true * y_pred, 0, 1)))\n",
    "    predicted_positives = K.sum(K.round(K.clip(y_pred, 0, 1)))\n",
    "    return true_positives / (predicted_positives + K.epsilon())\n",
    "\n",
    "def f1(y_true, y_pred):\n",
    "    precision_score_ = precision(y_true, y_pred)\n",
    "    recall_score_ = recall(y_true, y_pred)\n",
    "    return 2*((precision_score_*recall_score_)/(precision_score_+recall_score_+K.epsilon()))\n",
    "\n",
    "def f3(y_true, y_pred):\n",
    "    fb_metric = BinaryFBetaScore(beta=3.0)\n",
    "    score = fb_metric(y_pred, y_true)\n",
    "    return score[0].item()\n"
   ]
  },
  {
   "cell_type": "code",
   "execution_count": 208,
   "metadata": {},
   "outputs": [],
   "source": [
    "def create_bert_classification_model(bert_model,\n",
    "                                     num_train_layers=0,\n",
    "                                     max_sequence_length=MAX_SEQUENCE_LENGTH,\n",
    "                                     num_filters = [100, 100, 50, 25],\n",
    "                                     kernel_sizes = [3, 4, 5, 10],\n",
    "                                     hidden_size = 200,\n",
    "                                     hidden2_size = 100,\n",
    "                                     # hidden3_size = 128,\n",
    "                                     dropout = 0.3,\n",
    "                                     learning_rate = 0.001,\n",
    "                                     label_smoothing = 0.03\n",
    "                                    ):\n",
    "    \"\"\"\n",
    "    Build a simple classification model with BERT. Use the Pooler Output or CLS for classification purposes\n",
    "    \"\"\"\n",
    "    if num_train_layers == 0:\n",
    "        # Freeze all layers of pre-trained BERT model\n",
    "        bert_model.trainable = False\n",
    "\n",
    "    elif num_train_layers == 12:\n",
    "        # Train all layers of the BERT model\n",
    "        bert_model.trainable = True\n",
    "\n",
    "    else:\n",
    "        # Restrict training to the num_train_layers outer transformer layers\n",
    "        retrain_layers = []\n",
    "\n",
    "        for retrain_layer_number in range(num_train_layers):\n",
    "\n",
    "            layer_code = '_' + str(11 - retrain_layer_number)\n",
    "            retrain_layers.append(layer_code)\n",
    "\n",
    "\n",
    "        print('retrain layers: ', retrain_layers)\n",
    "\n",
    "        for w in bert_model.weights:\n",
    "            if not any([x in w.name for x in retrain_layers]):\n",
    "                #print('freezing: ', w)\n",
    "                w._trainable = False\n",
    "\n",
    "    input_ids = tf.keras.layers.Input(shape=(MAX_SEQUENCE_LENGTH,), dtype=tf.int64, name='input_ids')\n",
    "    token_type_ids = tf.keras.layers.Input(shape=(MAX_SEQUENCE_LENGTH,), dtype=tf.int64, name='token_type_ids')\n",
    "    attention_mask = tf.keras.layers.Input(shape=(MAX_SEQUENCE_LENGTH,), dtype=tf.int64, name='attention_mask')\n",
    "    \n",
    "    bert_inputs = {'input_ids': input_ids,\n",
    "                   'token_type_ids': token_type_ids,\n",
    "                   'attention_mask': attention_mask}\n",
    "\n",
    "    bert_out = bert_model(bert_inputs)\n",
    "\n",
    "    pooler_token = bert_out[1]\n",
    "    cls_token = bert_out[0][:, 0, :]\n",
    "    bert_out_avg = tf.math.reduce_mean(bert_out[0], axis=1)\n",
    "    #output_logits = bert_out[\"logits\"]\n",
    "    cnn_token = bert_out[0]\n",
    "\n",
    "    conv_layers_for_all_kernel_sizes = []\n",
    "    for kernel_size, filters in zip(kernel_sizes, num_filters):\n",
    "        conv_layer = tf.keras.layers.Conv1D(filters=filters, kernel_size=kernel_size, activation='relu')(cnn_token)\n",
    "        conv_layer = tf.keras.layers.GlobalMaxPooling1D()(conv_layer)\n",
    "        conv_layers_for_all_kernel_sizes.append(conv_layer)\n",
    "\n",
    "    conv_output = tf.keras.layers.concatenate(conv_layers_for_all_kernel_sizes, axis=1)\n",
    "\n",
    "    # classification layer\n",
    "    hidden = tf.keras.layers.Dense(hidden_size, activation='relu', name='hidden_layer')(conv_output)\n",
    "    hidden = tf.keras.layers.Dropout(dropout)(hidden)\n",
    "\n",
    "    hidden = tf.keras.layers.Dense(hidden2_size, activation='relu', name='hidden_layer2')(hidden)\n",
    "    hidden = tf.keras.layers.Dropout(dropout)(hidden)\n",
    "    \n",
    "    # hidden = tf.keras.layers.Dense(hidden3_size, activation='relu', name='hidden_layer3')(hidden)\n",
    "    # hidden = tf.keras.layers.Dropout(dropout)(hidden)\n",
    "    \n",
    "    classification = tf.keras.layers.Dense(1, activation='sigmoid',name='classification_layer')(hidden)\n",
    "\n",
    "    classification_model = tf.keras.Model(inputs=[input_ids, token_type_ids, attention_mask], outputs=[classification])\n",
    "\n",
    "    classification_model.compile(optimizer=tf.keras.optimizers.Adam(learning_rate=learning_rate),\n",
    "                                 # LOSS FUNCTION\n",
    "                                 #loss=tf.keras.losses.BinaryCrossentropy(from_logits=False),\n",
    "                                 loss=tf.keras.losses.BinaryFocalCrossentropy(\n",
    "                                   gamma=2.0, from_logits=False, apply_class_balancing=True, label_smoothing=label_smoothing\n",
    "                                 ),\n",
    "                                 #loss=tf.keras.losses.SparseCategoricalCrossentropy(from_logits=False),\n",
    "                                 #loss=tf.keras.losses.CategoricalFocalCrossentropy(\n",
    "                                 #   alpha=0.25,\n",
    "                                 #   gamma=2.0,\n",
    "                                 #   from_logits=False,\n",
    "                                 #   label_smoothing=0.03,\n",
    "                                 #   axis=-1,\n",
    "                                 #   reduction=\"sum_over_batch_size\",\n",
    "                                 #   name=\"categorical_focal_crossentropy\",\n",
    "                                 #),\n",
    "                                 # METRIC FUNCTIONS\n",
    "                                 # metrics=['accuracy', \n",
    "                                 #   tf.keras.metrics.Precision(),\n",
    "                                 #   tf.keras.metrics.Recall(),\n",
    "                                 #   tf.keras.metrics.F1Score(average=None, threshold=None, name=\"f1_score\", dtype=None)\n",
    "                                 # ]\n",
    "                                 metrics=['accuracy', precision, recall, f1]\n",
    "                                 # run_eagerly=True\n",
    "                                 )\n",
    "    return classification_model"
   ]
  },
  {
   "cell_type": "code",
   "execution_count": 209,
   "metadata": {},
   "outputs": [],
   "source": [
    "bert_classification_model = create_bert_classification_model(bert_model=model,\n",
    "                                                             num_train_layers=0,\n",
    "                                                             dropout = 0.1,\n",
    "                                                             learning_rate = 0.001,\n",
    "                                                             label_smoothing = 0.03\n",
    "                                                            )"
   ]
  },
  {
   "cell_type": "code",
   "execution_count": 210,
   "metadata": {},
   "outputs": [
    {
     "name": "stdout",
     "output_type": "stream",
     "text": [
      "Model: \"model_12\"\n",
      "__________________________________________________________________________________________________\n",
      " Layer (type)                Output Shape                 Param #   Connected to                  \n",
      "==================================================================================================\n",
      " attention_mask (InputLayer  [(None, 400)]                0         []                            \n",
      " )                                                                                                \n",
      "                                                                                                  \n",
      " input_ids (InputLayer)      [(None, 400)]                0         []                            \n",
      "                                                                                                  \n",
      " token_type_ids (InputLayer  [(None, 400)]                0         []                            \n",
      " )                                                                                                \n",
      "                                                                                                  \n",
      " tf_bert_model_1 (TFBertMod  TFBaseModelOutputWithPooli   1094822   ['attention_mask[0][0]',      \n",
      " el)                         ngAndCrossAttentions(last_   40         'input_ids[0][0]',           \n",
      "                             hidden_state=(None, 400, 7              'token_type_ids[0][0]']      \n",
      "                             68),                                                                 \n",
      "                              pooler_output=(None, 768)                                           \n",
      "                             , past_key_values=None, hi                                           \n",
      "                             dden_states=None, attentio                                           \n",
      "                             ns=None, cross_attentions=                                           \n",
      "                             None)                                                                \n",
      "                                                                                                  \n",
      " conv1d_48 (Conv1D)          (None, 398, 100)             230500    ['tf_bert_model_1[0][0]']     \n",
      "                                                                                                  \n",
      " conv1d_49 (Conv1D)          (None, 397, 100)             307300    ['tf_bert_model_1[0][0]']     \n",
      "                                                                                                  \n",
      " conv1d_50 (Conv1D)          (None, 396, 50)              192050    ['tf_bert_model_1[0][0]']     \n",
      "                                                                                                  \n",
      " conv1d_51 (Conv1D)          (None, 391, 25)              192025    ['tf_bert_model_1[0][0]']     \n",
      "                                                                                                  \n",
      " global_max_pooling1d_48 (G  (None, 100)                  0         ['conv1d_48[0][0]']           \n",
      " lobalMaxPooling1D)                                                                               \n",
      "                                                                                                  \n",
      " global_max_pooling1d_49 (G  (None, 100)                  0         ['conv1d_49[0][0]']           \n",
      " lobalMaxPooling1D)                                                                               \n",
      "                                                                                                  \n",
      " global_max_pooling1d_50 (G  (None, 50)                   0         ['conv1d_50[0][0]']           \n",
      " lobalMaxPooling1D)                                                                               \n",
      "                                                                                                  \n",
      " global_max_pooling1d_51 (G  (None, 25)                   0         ['conv1d_51[0][0]']           \n",
      " lobalMaxPooling1D)                                                                               \n",
      "                                                                                                  \n",
      " concatenate_12 (Concatenat  (None, 275)                  0         ['global_max_pooling1d_48[0][0\n",
      " e)                                                                 ]',                           \n",
      "                                                                     'global_max_pooling1d_49[0][0\n",
      "                                                                    ]',                           \n",
      "                                                                     'global_max_pooling1d_50[0][0\n",
      "                                                                    ]',                           \n",
      "                                                                     'global_max_pooling1d_51[0][0\n",
      "                                                                    ]']                           \n",
      "                                                                                                  \n",
      " hidden_layer (Dense)        (None, 200)                  55200     ['concatenate_12[0][0]']      \n",
      "                                                                                                  \n",
      " dropout_98 (Dropout)        (None, 200)                  0         ['hidden_layer[0][0]']        \n",
      "                                                                                                  \n",
      " hidden_layer2 (Dense)       (None, 100)                  20100     ['dropout_98[0][0]']          \n",
      "                                                                                                  \n",
      " dropout_99 (Dropout)        (None, 100)                  0         ['hidden_layer2[0][0]']       \n",
      "                                                                                                  \n",
      " classification_layer (Dens  (None, 1)                    101       ['dropout_99[0][0]']          \n",
      " e)                                                                                               \n",
      "                                                                                                  \n",
      "==================================================================================================\n",
      "Total params: 110479516 (421.45 MB)\n",
      "Trainable params: 997276 (3.80 MB)\n",
      "Non-trainable params: 109482240 (417.64 MB)\n",
      "__________________________________________________________________________________________________\n"
     ]
    }
   ],
   "source": [
    "bert_classification_model.summary()"
   ]
  },
  {
   "cell_type": "code",
   "execution_count": 211,
   "metadata": {},
   "outputs": [
    {
     "data": {
      "image/png": "[encoded data removed]",
      "text/plain": [
       "<IPython.core.display.Image object>"
      ]
     },
     "execution_count": 211,
     "metadata": {},
     "output_type": "execute_result"
    }
   ],
   "source": [
    "tf.keras.utils.plot_model(bert_classification_model, show_shapes=True, dpi=90)"
   ]
  },
  {
   "cell_type": "code",
   "execution_count": 212,
   "metadata": {},
   "outputs": [
    {
     "name": "stdout",
     "output_type": "stream",
     "text": [
      "cuda_malloc_async\n"
     ]
    }
   ],
   "source": [
    "os.environ['TF_GPU_ALLOCATOR'] = 'cuda_malloc_async'\n",
    "print(os.getenv('TF_GPU_ALLOCATOR'))"
   ]
  },
  {
   "cell_type": "code",
   "execution_count": 213,
   "metadata": {},
   "outputs": [],
   "source": [
    "from tensorflow.keras.callbacks import EarlyStopping\n",
    "\n",
    "# Define the EarlyStopping callback\n",
    "early_stopping = EarlyStopping(\n",
    "    monitor='val_recall', # Monitor validation loss\n",
    "    min_delta=0.0005, # Minimum change to qualify as an improvement\n",
    "    patience=8, # Number of epochs with no improvement after which training\n",
    "    verbose=1,\n",
    "    mode='max', # Stop training when the quantity monitored has stopped dec\n",
    "    restore_best_weights=True # Restore model weights from the best epoch\n",
    ")\n",
    "\n",
    "# callbacks = keras.callbacks.ModelCheckpoint(\"childgrooming_NN_model_{epoch}.keras\", save_best_only=True)\n",
    "callbacks = tf.keras.callbacks.ModelCheckpoint(\n",
    "    \"basic_bert_cnn_weights.weights.h5\",  # Filename for the saved weights\n",
    "    save_best_only=True,  # Save only the best model\n",
    "    save_weights_only=True,  # Save only the weights, not the full model\n",
    ")"
   ]
  },
  {
   "cell_type": "code",
   "execution_count": 214,
   "metadata": {},
   "outputs": [],
   "source": [
    "batch_size = 128\n",
    "epochs = 100  # use early stopping"
   ]
  },
  {
   "cell_type": "code",
   "execution_count": 215,
   "metadata": {},
   "outputs": [
    {
     "name": "stdout",
     "output_type": "stream",
     "text": [
      "Epoch 1/100\n",
      "163/163 [==============================] - ETA: 0s - loss: 0.0309 - accuracy: 0.8914 - precision: 0.8476 - recall: 0.6653 - f1: 0.7250"
     ]
    },
    {
     "name": "stderr",
     "output_type": "stream",
     "text": [
      "/opt/conda/envs/pytorch/lib/python3.10/site-packages/transformers/generation/tf_utils.py:465: UserWarning: `seed_generator` is deprecated and will be removed in a future version.\n",
      "  warnings.warn(\"`seed_generator` is deprecated and will be removed in a future version.\", UserWarning)\n"
     ]
    },
    {
     "name": "stdout",
     "output_type": "stream",
     "text": [
      "163/163 [==============================] - 266s 2s/step - loss: 0.0309 - accuracy: 0.8914 - precision: 0.8476 - recall: 0.6653 - f1: 0.7250 - val_loss: 0.0113 - val_accuracy: 0.9644 - val_precision: 0.5712 - val_recall: 0.8646 - val_f1: 0.6634\n",
      "Epoch 2/100\n",
      "163/163 [==============================] - 248s 2s/step - loss: 0.0138 - accuracy: 0.9452 - precision: 0.9335 - recall: 0.8417 - f1: 0.8821 - val_loss: 0.0119 - val_accuracy: 0.9702 - val_precision: 0.6087 - val_recall: 0.9227 - val_f1: 0.7084\n",
      "Epoch 3/100\n",
      "163/163 [==============================] - 248s 2s/step - loss: 0.0117 - accuracy: 0.9506 - precision: 0.9428 - recall: 0.8535 - f1: 0.8906 - val_loss: 0.0120 - val_accuracy: 0.9685 - val_precision: 0.5934 - val_recall: 0.9486 - val_f1: 0.7040\n",
      "Epoch 4/100\n",
      "163/163 [==============================] - 251s 2s/step - loss: 0.0090 - accuracy: 0.9633 - precision: 0.9591 - recall: 0.8919 - f1: 0.9218 - val_loss: 0.0060 - val_accuracy: 0.9783 - val_precision: 0.7830 - val_recall: 0.7619 - val_f1: 0.7453\n",
      "Epoch 5/100\n",
      "163/163 [==============================] - 248s 2s/step - loss: 0.0071 - accuracy: 0.9697 - precision: 0.9684 - recall: 0.9086 - f1: 0.9357 - val_loss: 0.0216 - val_accuracy: 0.9661 - val_precision: 0.5709 - val_recall: 0.9536 - val_f1: 0.6912\n",
      "Epoch 6/100\n",
      "163/163 [==============================] - 248s 2s/step - loss: 0.0065 - accuracy: 0.9748 - precision: 0.9692 - recall: 0.9303 - f1: 0.9477 - val_loss: 0.0079 - val_accuracy: 0.9786 - val_precision: 0.7490 - val_recall: 0.8094 - val_f1: 0.7465\n",
      "Epoch 7/100\n",
      "163/163 [==============================] - 248s 2s/step - loss: 0.0055 - accuracy: 0.9768 - precision: 0.9751 - recall: 0.9337 - f1: 0.9525 - val_loss: 0.0085 - val_accuracy: 0.9777 - val_precision: 0.7210 - val_recall: 0.8415 - val_f1: 0.7457\n",
      "Epoch 8/100\n",
      "163/163 [==============================] - 249s 2s/step - loss: 0.0073 - accuracy: 0.9722 - precision: 0.9696 - recall: 0.9184 - f1: 0.9379 - val_loss: 0.0290 - val_accuracy: 0.9592 - val_precision: 0.5232 - val_recall: 0.9820 - val_f1: 0.6628\n",
      "Epoch 9/100\n",
      "163/163 [==============================] - 248s 2s/step - loss: 0.0045 - accuracy: 0.9812 - precision: 0.9783 - recall: 0.9458 - f1: 0.9608 - val_loss: 0.0144 - val_accuracy: 0.9748 - val_precision: 0.6558 - val_recall: 0.9323 - val_f1: 0.7457\n",
      "Epoch 10/100\n",
      "163/163 [==============================] - 248s 2s/step - loss: 0.0051 - accuracy: 0.9800 - precision: 0.9739 - recall: 0.9458 - f1: 0.9583 - val_loss: 0.0219 - val_accuracy: 0.9711 - val_precision: 0.6193 - val_recall: 0.9400 - val_f1: 0.7235\n",
      "Epoch 11/100\n",
      "163/163 [==============================] - 248s 2s/step - loss: 0.0034 - accuracy: 0.9867 - precision: 0.9833 - recall: 0.9619 - f1: 0.9718 - val_loss: 0.0135 - val_accuracy: 0.9763 - val_precision: 0.6861 - val_recall: 0.8944 - val_f1: 0.7516\n",
      "Epoch 12/100\n",
      "163/163 [==============================] - 248s 2s/step - loss: 0.0035 - accuracy: 0.9855 - precision: 0.9825 - recall: 0.9590 - f1: 0.9698 - val_loss: 0.0177 - val_accuracy: 0.9766 - val_precision: 0.6858 - val_recall: 0.8993 - val_f1: 0.7549\n",
      "Epoch 13/100\n",
      "163/163 [==============================] - 248s 2s/step - loss: 0.0032 - accuracy: 0.9870 - precision: 0.9843 - recall: 0.9637 - f1: 0.9729 - val_loss: 0.0167 - val_accuracy: 0.9757 - val_precision: 0.6693 - val_recall: 0.8984 - val_f1: 0.7453\n",
      "Epoch 14/100\n",
      "163/163 [==============================] - 248s 2s/step - loss: 0.0032 - accuracy: 0.9870 - precision: 0.9842 - recall: 0.9640 - f1: 0.9732 - val_loss: 0.0214 - val_accuracy: 0.9766 - val_precision: 0.6945 - val_recall: 0.8850 - val_f1: 0.7580\n",
      "Epoch 15/100\n",
      "163/163 [==============================] - 248s 2s/step - loss: 0.0030 - accuracy: 0.9893 - precision: 0.9875 - recall: 0.9687 - f1: 0.9774 - val_loss: 0.0170 - val_accuracy: 0.9757 - val_precision: 0.6774 - val_recall: 0.8879 - val_f1: 0.7473\n",
      "Epoch 16/100\n",
      "163/163 [==============================] - ETA: 0s - loss: 0.0036 - accuracy: 0.9859 - precision: 0.9812 - recall: 0.9618 - f1: 0.9703Restoring model weights from the end of the best epoch: 8.\n",
      "163/163 [==============================] - 248s 2s/step - loss: 0.0036 - accuracy: 0.9859 - precision: 0.9812 - recall: 0.9618 - f1: 0.9703 - val_loss: 0.0284 - val_accuracy: 0.9719 - val_precision: 0.6210 - val_recall: 0.9496 - val_f1: 0.7289\n",
      "Epoch 16: early stopping\n"
     ]
    }
   ],
   "source": [
    "bert_history = bert_classification_model.fit(\n",
    "                        bert_train_inputs,\n",
    "                        bert_train_labels,\n",
    "                        validation_data=(bert_val_inputs, bert_val_labels),\n",
    "                        epochs=epochs,\n",
    "                        batch_size=batch_size,\n",
    "                        callbacks=[early_stopping, callbacks]\n",
    "                        #callbacks=[callbacks]\n",
    ")\n",
    "    \n",
    "# model.fit(train_tf_dataset, validation_data=test_tf_dataset, epochs=epochs)"
   ]
  },
  {
   "cell_type": "markdown",
   "metadata": {},
   "source": [
    "## 5.4 Run against Validation Set"
   ]
  },
  {
   "cell_type": "code",
   "execution_count": 216,
   "metadata": {},
   "outputs": [
    {
     "name": "stdout",
     "output_type": "stream",
     "text": [
      "108/108 [==============================] - 31s 275ms/step\n"
     ]
    }
   ],
   "source": [
    "y_pred = bert_classification_model.predict(bert_val_inputs)"
   ]
  },
  {
   "cell_type": "code",
   "execution_count": 217,
   "metadata": {},
   "outputs": [],
   "source": [
    "f_max = lambda x: np.argmax(x)"
   ]
  },
  {
   "cell_type": "code",
   "execution_count": 218,
   "metadata": {},
   "outputs": [],
   "source": [
    "f_one_or_zero = lambda x: 1 if x > 0.5 else 0"
   ]
  },
  {
   "cell_type": "code",
   "execution_count": 219,
   "metadata": {},
   "outputs": [],
   "source": [
    "val_y_pred = np.apply_along_axis(f_one_or_zero, 1, y_pred)"
   ]
  },
  {
   "cell_type": "code",
   "execution_count": 220,
   "metadata": {},
   "outputs": [
    {
     "data": {
      "text/plain": [
       "array([0, 0, 1, ..., 0, 0, 0])"
      ]
     },
     "execution_count": 220,
     "metadata": {},
     "output_type": "execute_result"
    }
   ],
   "source": [
    "val_y_pred"
   ]
  },
  {
   "cell_type": "code",
   "execution_count": 221,
   "metadata": {},
   "outputs": [
    {
     "data": {
      "text/plain": [
       "array([0, 0, 0, ..., 0, 0, 0], dtype=int32)"
      ]
     },
     "execution_count": 221,
     "metadata": {},
     "output_type": "execute_result"
    }
   ],
   "source": [
    "bert_val_labels"
   ]
  },
  {
   "cell_type": "code",
   "execution_count": 222,
   "metadata": {},
   "outputs": [
    {
     "name": "stdout",
     "output_type": "stream",
     "text": [
      "F1 Score (w/ Beta =3): 0.902654867256637\n"
     ]
    }
   ],
   "source": [
    "# Calculate F_beta score with beta=3\n",
    "f_beta3_score_test = fbeta_score(bert_val_labels, val_y_pred, average='binary', beta=3, pos_label=1)\n",
    "print(\"F1 Score (w/ Beta =3):\", f_beta3_score_test)"
   ]
  },
  {
   "cell_type": "code",
   "execution_count": 223,
   "metadata": {},
   "outputs": [
    {
     "name": "stdout",
     "output_type": "stream",
     "text": [
      "              precision    recall  f1-score   support\n",
      "\n",
      "           0       1.00      0.96      0.98      3300\n",
      "           1       0.53      0.98      0.68       156\n",
      "\n",
      "    accuracy                           0.96      3456\n",
      "   macro avg       0.76      0.97      0.83      3456\n",
      "weighted avg       0.98      0.96      0.96      3456\n",
      "\n"
     ]
    }
   ],
   "source": [
    "print(classification_report(bert_val_labels, val_y_pred))"
   ]
  },
  {
   "cell_type": "markdown",
   "metadata": {},
   "source": [
    "## 5.5 Run against Test Set"
   ]
  },
  {
   "cell_type": "code",
   "execution_count": 224,
   "metadata": {},
   "outputs": [
    {
     "name": "stdout",
     "output_type": "stream",
     "text": [
      "4906/4906 [==============================] - 1485s 302ms/step\n"
     ]
    }
   ],
   "source": [
    "y_pred_ground_truth = bert_classification_model.predict(bert_test_inputs)"
   ]
  },
  {
   "cell_type": "code",
   "execution_count": 225,
   "metadata": {},
   "outputs": [],
   "source": [
    "test_y_pred = np.apply_along_axis(f_one_or_zero, 1, y_pred_ground_truth)"
   ]
  },
  {
   "cell_type": "code",
   "execution_count": 226,
   "metadata": {},
   "outputs": [
    {
     "data": {
      "text/plain": [
       "array([0, 0, 0, 0, 0, 0, 0, 0, 0, 0, 0, 0, 0, 0, 0, 0, 0, 0, 1, 0])"
      ]
     },
     "execution_count": 226,
     "metadata": {},
     "output_type": "execute_result"
    }
   ],
   "source": [
    "test_y_pred[:20]"
   ]
  },
  {
   "cell_type": "code",
   "execution_count": 227,
   "metadata": {},
   "outputs": [
    {
     "data": {
      "text/plain": [
       "array([0, 0, 0, 0, 0, 0, 0, 0, 0, 0, 0, 0, 0, 0, 0, 0, 0, 0, 1, 0],\n",
       "      dtype=int32)"
      ]
     },
     "execution_count": 227,
     "metadata": {},
     "output_type": "execute_result"
    }
   ],
   "source": [
    "bert_test_labels[:20]"
   ]
  },
  {
   "cell_type": "code",
   "execution_count": 228,
   "metadata": {},
   "outputs": [
    {
     "name": "stdout",
     "output_type": "stream",
     "text": [
      "F1 Score (w/ Beta =3): 0.8280747847709305\n"
     ]
    }
   ],
   "source": [
    "# Calculate F_beta score with beta=3\n",
    "f_beta3_score_test = fbeta_score(bert_test_labels, test_y_pred, average='binary', beta=3, pos_label=1)\n",
    "print(\"F1 Score (w/ Beta =3):\", f_beta3_score_test)"
   ]
  },
  {
   "cell_type": "code",
   "execution_count": 229,
   "metadata": {},
   "outputs": [
    {
     "name": "stdout",
     "output_type": "stream",
     "text": [
      "              precision    recall  f1-score   support\n",
      "\n",
      "           0       1.00      0.96      0.98    153262\n",
      "           1       0.39      0.95      0.55      3723\n",
      "\n",
      "    accuracy                           0.96    156985\n",
      "   macro avg       0.69      0.96      0.77    156985\n",
      "weighted avg       0.98      0.96      0.97    156985\n",
      "\n"
     ]
    }
   ],
   "source": [
    "print(classification_report(bert_test_labels, test_y_pred))"
   ]
  },
  {
   "cell_type": "code",
   "execution_count": 177,
   "metadata": {},
   "outputs": [
    {
     "name": "stdout",
     "output_type": "stream",
     "text": [
      "F1 Score (w/ Beta =3): 0.7656225970164556\n"
     ]
    }
   ],
   "source": [
    "# Calculate F_beta score with beta=3\n",
    "f_beta3_score_test = fbeta_score(bert_test_labels, test_y_pred, average='binary', beta=3, pos_label=1)\n",
    "print(\"F1 Score (w/ Beta =3):\", f_beta3_score_test)"
   ]
  },
  {
   "cell_type": "code",
   "execution_count": 178,
   "metadata": {},
   "outputs": [
    {
     "name": "stdout",
     "output_type": "stream",
     "text": [
      "              precision    recall  f1-score   support\n",
      "\n",
      "           0       1.00      0.98      0.99    153262\n",
      "           1       0.54      0.80      0.65      3723\n",
      "\n",
      "    accuracy                           0.98    156985\n",
      "   macro avg       0.77      0.89      0.82    156985\n",
      "weighted avg       0.98      0.98      0.98    156985\n",
      "\n"
     ]
    }
   ],
   "source": [
    "print(classification_report(bert_test_labels, test_y_pred))"
   ]
  },
  {
   "cell_type": "code",
   "execution_count": 179,
   "metadata": {},
   "outputs": [],
   "source": [
    "# import math\n",
    "\n",
    "# def sigmoid(x):\n",
    "#   return 1 / (1 + math.exp(-x))\n",
    "# f_sigmoid_to_prediction = lambda x: 1 if sigmoid(x) > 0.5 else 0\n"
   ]
  },
  {
   "cell_type": "code",
   "execution_count": 180,
   "metadata": {},
   "outputs": [],
   "source": [
    "#class_preds_truth = np.apply_along_axis(f_sigmoid_to_prediction, 1, y_pred_ground_truth[\"logits\"])"
   ]
  },
  {
   "cell_type": "code",
   "execution_count": 181,
   "metadata": {},
   "outputs": [],
   "source": [
    "# counter = collections.Counter(class_preds_truth)\n",
    "# counter"
   ]
  },
  {
   "cell_type": "markdown",
   "metadata": {},
   "source": [
    "# 6. Saving the entire Model and load it back"
   ]
  },
  {
   "cell_type": "code",
   "execution_count": 230,
   "metadata": {},
   "outputs": [],
   "source": [
    "save_path = 'keras_model_h5/bert_cnn_ensemble_resample_uncased_mdl.h5'"
   ]
  },
  {
   "cell_type": "code",
   "execution_count": 231,
   "metadata": {},
   "outputs": [
    {
     "name": "stderr",
     "output_type": "stream",
     "text": [
      "/opt/conda/envs/pytorch/lib/python3.10/site-packages/keras/src/engine/training.py:3103: UserWarning: You are saving your model as an HDF5 file via `model.save()`. This file format is considered legacy. We recommend using instead the native Keras format, e.g. `model.save('my_model.keras')`.\n",
      "  saving_api.save_model(\n"
     ]
    }
   ],
   "source": [
    "bert_classification_model.save(save_path, save_format='h5')"
   ]
  },
  {
   "cell_type": "code",
   "execution_count": 232,
   "metadata": {},
   "outputs": [],
   "source": [
    "inference_model = create_bert_classification_model(bert_model=model,\n",
    "                                                             num_train_layers=0,\n",
    "                                                             dropout = 0.1,\n",
    "                                                             learning_rate = 0.001,\n",
    "                                                             label_smoothing = 0.03\n",
    "                                                            )"
   ]
  },
  {
   "cell_type": "code",
   "execution_count": 233,
   "metadata": {},
   "outputs": [],
   "source": [
    "inference_model.load_weights(save_path)"
   ]
  },
  {
   "cell_type": "code",
   "execution_count": 234,
   "metadata": {},
   "outputs": [
    {
     "name": "stdout",
     "output_type": "stream",
     "text": [
      "108/108 [==============================] - 31s 277ms/step\n"
     ]
    }
   ],
   "source": [
    "y_pred_inference = inference_model.predict(bert_val_inputs)"
   ]
  },
  {
   "cell_type": "code",
   "execution_count": 235,
   "metadata": {},
   "outputs": [],
   "source": [
    "val_y_pred_inference = np.apply_along_axis(f_one_or_zero, 1, y_pred_inference)"
   ]
  },
  {
   "cell_type": "code",
   "execution_count": 236,
   "metadata": {},
   "outputs": [
    {
     "name": "stdout",
     "output_type": "stream",
     "text": [
      "F1 Score (w/ Beta =3): 0.902654867256637\n"
     ]
    }
   ],
   "source": [
    "# Calculate F_beta score with beta=3\n",
    "f_beta3_score_test = fbeta_score(bert_val_labels, val_y_pred_inference, average='binary', beta=3, pos_label=1)\n",
    "print(\"F1 Score (w/ Beta =3):\", f_beta3_score_test)"
   ]
  },
  {
   "cell_type": "code",
   "execution_count": null,
   "metadata": {},
   "outputs": [],
   "source": []
  },
  {
   "cell_type": "code",
   "execution_count": null,
   "metadata": {},
   "outputs": [],
   "source": []
  },
  {
   "cell_type": "code",
   "execution_count": null,
   "metadata": {},
   "outputs": [],
   "source": []
  },
  {
   "cell_type": "code",
   "execution_count": 1,
   "metadata": {},
   "outputs": [],
   "source": [
    "# Free up GPU memory\n",
    "# from numba import cuda \n",
    "# device = cuda.get_current_device()\n",
    "# device.reset()"
   ]
  },
  {
   "cell_type": "code",
   "execution_count": null,
   "metadata": {},
   "outputs": [],
   "source": []
  }
 ],
 "metadata": {
  "accelerator": "GPU",
  "colab": {
   "collapsed_sections": [
    "kXqD4nVVEyTb",
    "p5-Ir3kiE8Pb",
    "G1ICzyXD2Uv_",
    "wNVunf1s2qh0"
   ],
   "gpuType": "T4",
   "provenance": []
  },
  "kernelspec": {
   "display_name": "Python 3 (ipykernel)",
   "language": "python",
   "name": "python3"
  },
  "language_info": {
   "codemirror_mode": {
    "name": "ipython",
    "version": 3
   },
   "file_extension": ".py",
   "mimetype": "text/x-python",
   "name": "python",
   "nbconvert_exporter": "python",
   "pygments_lexer": "ipython3",
   "version": "3.10.13"
  }
 },
 "nbformat": 4,
 "nbformat_minor": 4
}
