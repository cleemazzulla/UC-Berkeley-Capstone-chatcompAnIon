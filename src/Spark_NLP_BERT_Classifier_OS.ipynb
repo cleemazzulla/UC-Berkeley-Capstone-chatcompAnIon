{
 "cells": [
  {
   "cell_type": "markdown",
   "metadata": {
    "id": "q13kDnOpv9zZ"
   },
   "source": [
    "# 1 Setting up Spark NLP"
   ]
  },
  {
   "cell_type": "code",
   "execution_count": 1,
   "metadata": {
    "colab": {
     "base_uri": "https://localhost:8080/"
    },
    "id": "Y5MpWFrTwBy-",
    "outputId": "9b53b34e-797e-48f8-c471-74fca72663a6"
   },
   "outputs": [],
   "source": [
    "# Mount google drive\n",
    "#from google.colab import drive\n",
    "#drive.mount('/content/drive')"
   ]
  },
  {
   "cell_type": "code",
   "execution_count": 2,
   "metadata": {},
   "outputs": [
    {
     "name": "stderr",
     "output_type": "stream",
     "text": [
      "/home/ubuntu/spark-3.5.1-bin-hadoop3/python/pyspark/pandas/__init__.py:50: UserWarning: 'PYARROW_IGNORE_TIMEZONE' environment variable was not set. It is required to set this environment variable to '1' in both driver and executor sides if you use pyarrow>=2.0.0. pandas-on-Spark will set it for you but it does not work if there is a Spark context already launched.\n",
      "  warnings.warn(\n"
     ]
    },
    {
     "name": "stdout",
     "output_type": "stream",
     "text": [
      ":: loading settings :: url = jar:file:/home/ubuntu/spark-3.5.1-bin-hadoop3/jars/ivy-2.5.1.jar!/org/apache/ivy/core/settings/ivysettings.xml"
     ]
    },
    {
     "name": "stderr",
     "output_type": "stream",
     "text": [
      "Ivy Default Cache set to: /home/ubuntu/.ivy2/cache"
     ]
    }
   ],
   "source": [
    "# Install Java\n",
    "#!apt-get install openjdk-8-jdk-headless -qq > /dev/null\n",
    "\n",
    "# Download Spark\n",
    "#if os.path.isfile(\"./spark-3.5.1-bin-hadoop3.tgz\") == False:\n",
    "#    !wget -q https://downloads.apache.org/spark/spark-3.5.1/spark-3.5.1-bin-hadoop3.tgz\n",
    "\n",
    "# Unzip the file\n",
    "#!tar xf spark-3.5.1-bin-hadoop3.tgz\n",
    "\n",
    "# Setup environment for Spark\n",
    "import os\n",
    "os.environ[\"JAVA_HOME\"] = \"/usr/lib/jvm/java-8-openjdk-amd64\"\n",
    "os.environ[\"SPARK_HOME\"] = '/home/ubuntu/spark-3.5.1-bin-hadoop3'\n",
    "\n",
    "# Import findspark and load it\n",
    "#!pip install -q findspark\n",
    "import findspark\n",
    "findspark.init()\n",
    "\n",
    "# Install spark-nlp\n",
    "#!pip install spark-nlp\n",
    "import sparknlp\n",
    "from sparknlp.base import *\n",
    "from sparknlp.annotator import *\n",
    "from sparknlp.common import *\n",
    "from pyspark.sql.functions import *\n",
    "from pyspark.sql.functions import lit\n",
    "from pyspark.sql.window import Window\n",
    "from pyspark.sql.types import *\n",
    "from pyspark.ml.classification import LogisticRegression\n",
    "from pyspark.ml.evaluation import BinaryClassificationEvaluator\n",
    "from pyspark.mllib.evaluation import MulticlassMetrics\n",
    "from pyspark.ml import Pipeline\n",
    "from pyspark.ml.feature import StandardScaler, VectorAssembler, Imputer, OneHotEncoder, StringIndexer\n",
    "from pyspark.ml.tuning import ParamGridBuilder, CrossValidator, CrossValidatorModel, TrainValidationSplit, TrainValidationSplitModel\n",
    "from pyspark.ml.evaluation import MulticlassClassificationEvaluator\n",
    "from pyspark.ml.linalg import Vectors, VectorUDT\n",
    "import pyspark.pandas as ps\n",
    "\n",
    "# Create Spark session\n",
    "#from pyspark.sql import SparkSession\n",
    "#spark = SparkSession.builder\\\n",
    "#        .master(\"local\")\\\n",
    "#        .appName(\"Spark NLP\")\\\n",
    "#        .config('spark.executor.memory', \"24g\")\\\n",
    "#        .getOrCreate()\n",
    "\n",
    "# Start Spark Session with Spark NLP\n",
    "spark = sparknlp.start(gpu=True)\n",
    "#spark = sparknlp.start(gpu=False)"
   ]
  },
  {
   "cell_type": "code",
   "execution_count": 3,
   "metadata": {
    "colab": {
     "base_uri": "https://localhost:8080/",
     "height": 219
    },
    "id": "EAHj-cKh-Tu3",
    "outputId": "c8a870fe-213c-4974-ee8a-5bc034c98ff8"
   },
   "outputs": [
    {
     "data": {
      "text/html": [
       "\n",
       "            <div>\n",
       "                <p><b>SparkSession - in-memory</b></p>\n",
       "                \n",
       "        <div>\n",
       "            <p><b>SparkContext</b></p>\n",
       "\n",
       "            <p><a href=\"http://ip-172-31-43-191.ec2.internal:4041\">Spark UI</a></p>\n",
       "\n",
       "            <dl>\n",
       "              <dt>Version</dt>\n",
       "                <dd><code>v3.5.1</code></dd>\n",
       "              <dt>Master</dt>\n",
       "                <dd><code>local[*]</code></dd>\n",
       "              <dt>AppName</dt>\n",
       "                <dd><code>Spark NLP</code></dd>\n",
       "            </dl>\n",
       "        </div>\n",
       "        \n",
       "            </div>\n",
       "        "
      ],
      "text/plain": [
       "<pyspark.sql.session.SparkSession at 0x7f0e5b4fc520>"
      ]
     },
     "execution_count": 3,
     "metadata": {},
     "output_type": "execute_result"
    }
   ],
   "source": [
    "spark"
   ]
  },
  {
   "cell_type": "markdown",
   "metadata": {
    "id": "rpU399gyzMIh"
   },
   "source": [
    "# 2 Import libraries"
   ]
  },
  {
   "cell_type": "code",
   "execution_count": 4,
   "metadata": {},
   "outputs": [
    {
     "name": "stdout",
     "output_type": "stream",
     "text": [
      "\u001b[38;5;2m✔ Download and installation successful\u001b[0m\n",
      "You can now load the package via spacy.load('en_core_web_sm')\n",
      "\u001b[38;5;3m⚠ Restart to reload dependencies\u001b[0m\n",
      "If you are in a Jupyter or Colab notebook, you may need to restart Python in\n",
      "order to load all the package's dependencies. You can do this by selecting the\n",
      "'Restart kernel' or 'Restart runtime' option.\n"
     ]
    }
   ],
   "source": [
    "# import spacy for NLP and re for regular expressions\n",
    "import spacy\n",
    "spacy.cli.download(\"en_core_web_sm\")\n",
    "import en_core_web_sm\n",
    "from spacy.lang.en.stop_words import STOP_WORDS\n",
    "import re"
   ]
  },
  {
   "cell_type": "code",
   "execution_count": 35,
   "metadata": {
    "colab": {
     "base_uri": "https://localhost:8080/"
    },
    "id": "twk0MhsWzQAt",
    "outputId": "09bdd15e-47e5-4ce2-d481-facace0b34da"
   },
   "outputs": [],
   "source": [
    "import time\n",
    "import json\n",
    "import pickle\n",
    "import urllib.request\n",
    "# import altair as alt\n",
    "import pandas as pd\n",
    "from sklearn.metrics import classification_report, fbeta_score\n",
    "import collections\n",
    "from collections import Counter\n",
    "from sklearn.datasets import make_classification\n",
    "from matplotlib import pyplot\n",
    "from numpy import where\n",
    "import imblearn"
   ]
  },
  {
   "cell_type": "code",
   "execution_count": 6,
   "metadata": {
    "id": "0myA5b5upqXV"
   },
   "outputs": [],
   "source": [
    "# visualization\n",
    "import seaborn as sns\n",
    "import matplotlib.pyplot as plt\n",
    "from IPython.display import Image, display, HTML\n",
    "import pydot\n",
    "from pydotplus import graph_from_dot_data\n",
    "from sklearn.tree import export_graphviz\n",
    "from wordcloud import WordCloud"
   ]
  },
  {
   "cell_type": "code",
   "execution_count": 7,
   "metadata": {
    "id": "30Id5H-8Z3tP"
   },
   "outputs": [],
   "source": [
    "import xml.etree.ElementTree as ET\n",
    "from xml.etree.ElementTree import ElementTree\n",
    "import datetime"
   ]
  },
  {
   "cell_type": "markdown",
   "metadata": {
    "id": "VM49qt5rwRD5"
   },
   "source": [
    "# 3 Load data"
   ]
  },
  {
   "cell_type": "markdown",
   "metadata": {
    "id": "kXqD4nVVEyTb"
   },
   "source": [
    "### 3.1 Obtain stratified training and test splits"
   ]
  },
  {
   "cell_type": "code",
   "execution_count": 8,
   "metadata": {
    "id": "0l0JbzHbTbqJ"
   },
   "outputs": [],
   "source": [
    "#train_merged_data_conversations_path = f'drive/MyDrive/210 Capstone/data/train_merged_data_conversations'\n",
    "#test_merged_data_conversations_path = f'drive/MyDrive/210 Capstone/data/test_merged_data_conversations'\n",
    "\n",
    "#train_merged_data_conversations_df = spark.read.parquet(train_merged_data_conversations_path)\n",
    "#test_merged_data_conversations_df = spark.read.parquet(test_merged_data_conversations_path)"
   ]
  },
  {
   "cell_type": "code",
   "execution_count": 9,
   "metadata": {
    "id": "HWtPnSkKyoWj"
   },
   "outputs": [],
   "source": [
    "train_merged_data_conversations_path = 's3a://capstone210/data/train_merged_data_conversations/'\n",
    "test_merged_data_conversations_path = 's3a://capstone210/data/test_merged_data_conversations/'\n",
    "\n",
    "train_merged_data_conversations_df = spark.read.parquet(train_merged_data_conversations_path)\n",
    "test_merged_data_conversations_df = spark.read.parquet(test_merged_data_conversations_path)"
   ]
  },
  {
   "cell_type": "code",
   "execution_count": 10,
   "metadata": {
    "id": "CEXBwf0pjAdr"
   },
   "outputs": [],
   "source": [
    "#train_df_final = df.filter(col('source') != 'PAN12-test')\n",
    "train_df_final = train_merged_data_conversations_df\n",
    "test_df_final = test_merged_data_conversations_df"
   ]
  },
  {
   "cell_type": "code",
   "execution_count": 11,
   "metadata": {
    "colab": {
     "base_uri": "https://localhost:8080/"
    },
    "id": "KGFvX03HqcHa",
    "outputId": "15916854-a5d4-4869-a1af-06a62ab47a01"
   },
   "outputs": [
    {
     "data": {
      "text/plain": [
       "[Row(conversation_id='0000604306a283600b730276a2039471', source='PAN12-train', label=0, conversation_start_time='13:04', n_people_in_conversation=4, type_conversation='Group', merged_text=\"e3fb62ebfa4f36acf5cbff6a6ed0f2e0: can I have your ear? e3fb62ebfa4f36acf5cbff6a6ed0f2e0: i am wondering if Opera implements, or plans to implement safari's &quot;device-pixel-ratio&quot; css media query. would you know? yes e.g. 1 CSS pixel to 3 device pixels would be 3.0 it's one-dimentional well it's explained here http://webkit.org/blog/55/high-dpi-web-sites/ though hyatt hasn't written up a formal defn i think no the ratio is applied in both directions think of it as the sqrt of the difference in number of pixels or better yet, think of it as the zoom factor 200% zoom would produce a factor of 2.0  (i.e. 2.0 squared more pixels per image) okay :) so I'm guessing opera doesn't support it yet. who would be the person to speak to about getting it implemented? where to? should I request an account or use the plebeian option? ok b8810fee2f4a71f849f3f7409546d1d9 - do you have any set of test cases for non-conformant HTML5? b8810fee2f4a71f849f3f7409546d1d9 - btw, do you have a good estimate of many man hours you have put into work on the conformance checker? ... including hours of any others that contributed to it significantly (fantasai, maybe?) I'm just curious b8810fee2f4a71f849f3f7409546d1d9 - OK. Was just thinking mainly about the HTML5 part, and thinking it might be good to eventually try to have an rough estimate of how many man hours are needed to implement a complete HTML5 conformance checker. b8810fee2f4a71f849f3f7409546d1d9 - OK One thing I wonder is, given all the dependencies of your Java implementation, how much extra work it will be to try to implement a checker in another language. other languages which I guess maybe are likely to lack equivalent libraries to depend on b8810fee2f4a71f849f3f7409546d1d9 - yeah, I know. about the schemas, seems like it would probably not be the most productive approach to try to implement something in another language that didn't also rely partly on schema validation http://www.elementary-group-standards.com/html/html5-doctype-is-unrecognized.html Sean Fraser I reckon I should probably add his feed to the nascent HTML5 blog aggregator OK, added him http://people.w3.org/mike/planet/html5/ any others anybody's aware of that ought to be there, let me know a9b326df4e6da61c5b6f5e1058be83a2: there are some in the syntax module a9b326df4e6da61c5b6f5e1058be83a2: I've also used Anne's WF 2.0 tests, but using those in the test harness in now broken as the spec stabilizes it makes sense to write more tests a9b326df4e6da61c5b6f5e1058be83a2: no estimate. lots a9b326df4e6da61c5b6f5e1058be83a2: the upper bound I can give is that there's no code written by me in there that predates October 2003. And the validation service started around November 2004, IIRC. Work towards applying it to HTML began in the summer of 2005. The November 2004 date is my guess about starting design and implementation. it wasn't public until 2005 a9b326df4e6da61c5b6f5e1058be83a2: I cannot give an estimate that would be even remotely accurate. But I can say that the parser isn't the biggest part, so the reasoning &quot;we have a parser in language foo, let's make a conformance checker&quot; is missing the point a9b326df4e6da61c5b6f5e1058be83a2: the biggest question is if you another programming language plus the same schemas or a totally independent impl a9b326df4e6da61c5b6f5e1058be83a2: but it is going to be a lot of work. I'm far from considering the Java impl complete afk &quot;Sean Fraser posted this on January 22, 2007 08:30 AM.&quot; he does post a lot about it seems only fair s/only fair/correct/ lol that's the ration between CSS and normal pixels? ratio* that could be useful euh 1 to 4 makes 2 sounds more logical anyway, if it's defined somewhere it might make sense to look into it one-dimentional? I learned that blog posts (with cat pictures on top) are not specs some years ago oh so you mean 1 to 9 makes 3? it doesn't make sense to scale a pixel in just one direction unless I'm missing something yeah, so 1 to 9 makes 3 I think I understand it correctly as I explained above you could file a bug report http://bugs.opera.com/ I suppose the latter\", merged_text_id=\"9fdcde97c1cb33fe4e9f6aab1d84bc76: e3fb62ebfa4f36acf5cbff6a6ed0f2e0: can I have your ear? 9fdcde97c1cb33fe4e9f6aab1d84bc76: e3fb62ebfa4f36acf5cbff6a6ed0f2e0: i am wondering if Opera implements, or plans to implement safari's &quot;device-pixel-ratio&quot; css media query. would you know? 9fdcde97c1cb33fe4e9f6aab1d84bc76: yes 9fdcde97c1cb33fe4e9f6aab1d84bc76: e.g. 1 CSS pixel to 3 device pixels would be 3.0 9fdcde97c1cb33fe4e9f6aab1d84bc76: it's one-dimentional 9fdcde97c1cb33fe4e9f6aab1d84bc76: well it's explained here http://webkit.org/blog/55/high-dpi-web-sites/ 9fdcde97c1cb33fe4e9f6aab1d84bc76: though hyatt hasn't written up a formal defn i think 9fdcde97c1cb33fe4e9f6aab1d84bc76: no 9fdcde97c1cb33fe4e9f6aab1d84bc76: the ratio is applied in both directions 9fdcde97c1cb33fe4e9f6aab1d84bc76: think of it as the sqrt of the difference in number of pixels 9fdcde97c1cb33fe4e9f6aab1d84bc76: or better yet, think of it as the zoom factor 9fdcde97c1cb33fe4e9f6aab1d84bc76: 200% zoom would produce a factor of 2.0  (i.e. 2.0 squared more pixels per image) 9fdcde97c1cb33fe4e9f6aab1d84bc76: okay :) 9fdcde97c1cb33fe4e9f6aab1d84bc76: so I'm guessing opera doesn't support it yet. who would be the person to speak to about getting it implemented? 9fdcde97c1cb33fe4e9f6aab1d84bc76: where to? 9fdcde97c1cb33fe4e9f6aab1d84bc76: should I request an account or use the plebeian option? 9fdcde97c1cb33fe4e9f6aab1d84bc76: ok a9b326df4e6da61c5b6f5e1058be83a2: b8810fee2f4a71f849f3f7409546d1d9 - do you have any set of test cases for non-conformant HTML5? a9b326df4e6da61c5b6f5e1058be83a2: b8810fee2f4a71f849f3f7409546d1d9 - btw, do you have a good estimate of many man hours you have put into work on the conformance checker? a9b326df4e6da61c5b6f5e1058be83a2: ... including hours of any others that contributed to it significantly (fantasai, maybe?) a9b326df4e6da61c5b6f5e1058be83a2: I'm just curious a9b326df4e6da61c5b6f5e1058be83a2: b8810fee2f4a71f849f3f7409546d1d9 - OK. Was just thinking mainly about the HTML5 part, and thinking it might be good to eventually try to have an rough estimate of how many man hours are needed to implement a complete HTML5 conformance checker. a9b326df4e6da61c5b6f5e1058be83a2: b8810fee2f4a71f849f3f7409546d1d9 - OK a9b326df4e6da61c5b6f5e1058be83a2: One thing I wonder is, given all the dependencies of your Java implementation, how much extra work it will be to try to implement a checker in another language. a9b326df4e6da61c5b6f5e1058be83a2: other languages a9b326df4e6da61c5b6f5e1058be83a2: which I guess maybe are likely to lack equivalent libraries to depend on a9b326df4e6da61c5b6f5e1058be83a2: b8810fee2f4a71f849f3f7409546d1d9 - yeah, I know. about the schemas, seems like it would probably not be the most productive approach to try to implement something in another language that didn't also rely partly on schema validation a9b326df4e6da61c5b6f5e1058be83a2: http://www.elementary-group-standards.com/html/html5-doctype-is-unrecognized.html a9b326df4e6da61c5b6f5e1058be83a2: Sean Fraser a9b326df4e6da61c5b6f5e1058be83a2: I reckon I should probably add his feed to the nascent HTML5 blog aggregator a9b326df4e6da61c5b6f5e1058be83a2: OK, added him a9b326df4e6da61c5b6f5e1058be83a2: http://people.w3.org/mike/planet/html5/ a9b326df4e6da61c5b6f5e1058be83a2: any others anybody's aware of that ought to be there, let me know b8810fee2f4a71f849f3f7409546d1d9: a9b326df4e6da61c5b6f5e1058be83a2: there are some in the syntax module b8810fee2f4a71f849f3f7409546d1d9: a9b326df4e6da61c5b6f5e1058be83a2: I've also used Anne's WF 2.0 tests, but using those in the test harness in now broken b8810fee2f4a71f849f3f7409546d1d9: as the spec stabilizes it makes sense to write more tests b8810fee2f4a71f849f3f7409546d1d9: a9b326df4e6da61c5b6f5e1058be83a2: no estimate. lots b8810fee2f4a71f849f3f7409546d1d9: a9b326df4e6da61c5b6f5e1058be83a2: the upper bound I can give is that there's no code written by me in there that predates October 2003. b8810fee2f4a71f849f3f7409546d1d9: And the validation service started around November 2004, IIRC. b8810fee2f4a71f849f3f7409546d1d9: Work towards applying it to HTML began in the summer of 2005. b8810fee2f4a71f849f3f7409546d1d9: The November 2004 date is my guess about starting design and implementation. it wasn't public until 2005 b8810fee2f4a71f849f3f7409546d1d9: a9b326df4e6da61c5b6f5e1058be83a2: I cannot give an estimate that would be even remotely accurate. But I can say that the parser isn't the biggest part, so the reasoning &quot;we have a parser in language foo, let's make a conformance checker&quot; is missing the point b8810fee2f4a71f849f3f7409546d1d9: a9b326df4e6da61c5b6f5e1058be83a2: the biggest question is if you another programming language plus the same schemas or a totally independent impl b8810fee2f4a71f849f3f7409546d1d9: a9b326df4e6da61c5b6f5e1058be83a2: but it is going to be a lot of work. I'm far from considering the Java impl complete b8810fee2f4a71f849f3f7409546d1d9: afk e3fb62ebfa4f36acf5cbff6a6ed0f2e0: &quot;Sean Fraser posted this on January 22, 2007 08:30 AM.&quot; e3fb62ebfa4f36acf5cbff6a6ed0f2e0: he does post a lot about it e3fb62ebfa4f36acf5cbff6a6ed0f2e0: seems only fair e3fb62ebfa4f36acf5cbff6a6ed0f2e0: s/only fair/correct/ e3fb62ebfa4f36acf5cbff6a6ed0f2e0: lol e3fb62ebfa4f36acf5cbff6a6ed0f2e0: that's the ration between CSS and normal pixels? e3fb62ebfa4f36acf5cbff6a6ed0f2e0: ratio* e3fb62ebfa4f36acf5cbff6a6ed0f2e0: that could be useful e3fb62ebfa4f36acf5cbff6a6ed0f2e0: euh e3fb62ebfa4f36acf5cbff6a6ed0f2e0: 1 to 4 makes 2 sounds more logical e3fb62ebfa4f36acf5cbff6a6ed0f2e0: anyway, if it's defined somewhere it might make sense to look into it e3fb62ebfa4f36acf5cbff6a6ed0f2e0: one-dimentional? e3fb62ebfa4f36acf5cbff6a6ed0f2e0: I learned that blog posts (with cat pictures on top) are not specs e3fb62ebfa4f36acf5cbff6a6ed0f2e0: some years ago e3fb62ebfa4f36acf5cbff6a6ed0f2e0: oh so you mean 1 to 9 makes 3? e3fb62ebfa4f36acf5cbff6a6ed0f2e0: it doesn't make sense to scale a pixel in just one direction e3fb62ebfa4f36acf5cbff6a6ed0f2e0: unless I'm missing something e3fb62ebfa4f36acf5cbff6a6ed0f2e0: yeah, so 1 to 9 makes 3 e3fb62ebfa4f36acf5cbff6a6ed0f2e0: I think I understand it correctly as I explained above e3fb62ebfa4f36acf5cbff6a6ed0f2e0: you could file a bug report e3fb62ebfa4f36acf5cbff6a6ed0f2e0: http://bugs.opera.com/ e3fb62ebfa4f36acf5cbff6a6ed0f2e0: I suppose the latter\", n_texts=67)]"
      ]
     },
     "execution_count": 11,
     "metadata": {},
     "output_type": "execute_result"
    }
   ],
   "source": [
    "train_df_final.take(1)"
   ]
  },
  {
   "cell_type": "code",
   "execution_count": 12,
   "metadata": {
    "colab": {
     "base_uri": "https://localhost:8080/"
    },
    "id": "vu4OK9DXBO3X",
    "outputId": "cc6d0d74-3a54-47c3-eb7f-38377839a1a3"
   },
   "outputs": [
    {
     "data": {
      "text/plain": [
       "DataFrame[summary: string, conversation_id: string, source: string, label: string, conversation_start_time: string, n_people_in_conversation: string, type_conversation: string, merged_text: string, merged_text_id: string, n_texts: string]"
      ]
     },
     "execution_count": 12,
     "metadata": {},
     "output_type": "execute_result"
    }
   ],
   "source": [
    "train_df_final.describe()"
   ]
  },
  {
   "cell_type": "code",
   "execution_count": 13,
   "metadata": {
    "colab": {
     "base_uri": "https://localhost:8080/"
    },
    "id": "V9uah5cHjAQt",
    "outputId": "1a95aa08-9ebf-4d6c-a67b-d7d123d153ee"
   },
   "outputs": [
    {
     "data": {
      "text/plain": [
       "87997"
      ]
     },
     "execution_count": 13,
     "metadata": {},
     "output_type": "execute_result"
    }
   ],
   "source": [
    "train_df_final.count()"
   ]
  },
  {
   "cell_type": "code",
   "execution_count": 14,
   "metadata": {
    "colab": {
     "base_uri": "https://localhost:8080/"
    },
    "id": "yLh5pdHQjwFO",
    "outputId": "7ff92f14-c860-414e-c4ed-fec8c9005047"
   },
   "outputs": [
    {
     "name": "stdout",
     "output_type": "stream",
     "text": [
      "+-----+-----+\n",
      "|label|count|\n",
      "+-----+-----+\n",
      "|1    |2584 |\n",
      "|0    |85413|\n",
      "+-----+-----+\n",
      "\n"
     ]
    }
   ],
   "source": [
    "train_df_final.groupBy('label')\\\n",
    "              .agg(count('*').alias('count'))\\\n",
    "              .show(truncate = False)"
   ]
  },
  {
   "cell_type": "code",
   "execution_count": 15,
   "metadata": {
    "colab": {
     "base_uri": "https://localhost:8080/"
    },
    "id": "UeCNRgMvt0f4",
    "outputId": "0b51b630-31fd-4916-c094-8c588ddb08f9"
   },
   "outputs": [
    {
     "name": "stdout",
     "output_type": "stream",
     "text": [
      "+--------------------+-----------+-----+-----------------------+------------------------+-----------------+--------------------+--------------------+-------+\n",
      "|     conversation_id|     source|label|conversation_start_time|n_people_in_conversation|type_conversation|         merged_text|      merged_text_id|n_texts|\n",
      "+--------------------+-----------+-----+-----------------------+------------------------+-----------------+--------------------+--------------------+-------+\n",
      "|0014c1b4278df4bf8...|PAN12-train|    1|                  22:14|                       2|             Pair|hi how r ya? was ...|970f6cbfa8b792424...|    131|\n",
      "|002ec0725fbeb1f5a...|PAN12-train|    1|                  08:08|                       1|        Monologue|                  hi|c62283536cf6261e5...|      1|\n",
      "|0042866de4da52869...|PAN12-train|    1|                  20:49|                       1|        Monologue|        guess u left|fac3a2081264f1dbb...|      1|\n",
      "|0063692c957229db0...|PAN12-train|    1|                  21:09|                       2|             Pair|hello a little la...|18253a7ec92823c10...|    428|\n",
      "|007d0c65ff37bda93...|PAN12-train|    1|                  16:30|                       1|        Monologue|hey sexy how was ...|fac3a2081264f1dbb...|      1|\n",
      "|00815e5c936e20765...|PAN12-train|    1|                  07:48|                       1|        Monologue|well i wanted to ...|a03edc2f70bbebc73...|      1|\n",
      "|00a88e94773667ea0...|PAN12-train|    1|                  21:04|                       1|        Monologue|u still here ? im...|80706012f8f9f1175...|      3|\n",
      "|00b06ff8fb8835560...|PAN12-train|    1|                  18:09|                       1|        Monologue|so--you on?? I kn...|b679fca2e3690b4d3...|      2|\n",
      "|0124d0ffb5bfc11b3...|PAN12-train|    1|                  16:40|                       1|        Monologue|             u there|fac3a2081264f1dbb...|      1|\n",
      "|01a94037f7d9e8512...|PAN12-train|    1|                  16:47|                       1|        Monologue|hey sweeite i got...|a03edc2f70bbebc73...|      1|\n",
      "|022061e4b4c01c597...|PAN12-train|    1|                  13:37|                       1|        Monologue|             u there|fac3a2081264f1dbb...|      1|\n",
      "|025b44e9643dd99b2...|PAN12-train|    1|                  20:18|                       1|        Monologue|       U there?miz u|4982b68761043e693...|      1|\n",
      "|02648f8ef1f2b6da8...|PAN12-train|    1|                  04:29|                       1|        Monologue|good morning sexy...|fac3a2081264f1dbb...|      1|\n",
      "|027f9a89163d70c9b...|PAN12-train|    1|                  16:54|                       2|             Pair|Ok i got my money...|a03edc2f70bbebc73...|     26|\n",
      "|0299914d46ea4066c...|PAN12-train|    1|                  18:07|                       1|        Monologue|             u here?|d18fb2dc834414a71...|      1|\n",
      "|029b1126e34765ea1...|PAN12-train|    1|                  23:40|                       1|        Monologue|Miss you and love...|e4c7c376bbd07aeb4...|      2|\n",
      "|02f7c36ad6fd6d2e9...|PAN12-train|    1|                  21:33|                       1|        Monologue|i tried to call y...|d18fb2dc834414a71...|      1|\n",
      "|0328353f62ac862ce...|PAN12-train|    1|                  08:44|                       2|             Pair|whats up me toooo...|13ff9f88ad6e1242f...|    117|\n",
      "|0373731eb401d1549...|PAN12-train|    1|                  13:06|                       1|        Monologue|Wow, so glad to h...|aebe7a87ad50fbad9...|      2|\n",
      "|03bbc84d1168088bb...|PAN12-train|    1|                  22:08|                       1|        Monologue|hey u leave your ...|13ff9f88ad6e1242f...|      3|\n",
      "+--------------------+-----------+-----+-----------------------+------------------------+-----------------+--------------------+--------------------+-------+\n",
      "only showing top 20 rows\n",
      "\n"
     ]
    }
   ],
   "source": [
    "train_df_final.filter(col('label').isin([1])).show(truncate = True)"
   ]
  },
  {
   "cell_type": "code",
   "execution_count": 16,
   "metadata": {
    "colab": {
     "base_uri": "https://localhost:8080/"
    },
    "id": "5BThV51RTw1H",
    "outputId": "cce18238-fc86-4f3f-9be6-2e0bc64ddbb8"
   },
   "outputs": [
    {
     "data": {
      "text/plain": [
       "155128"
      ]
     },
     "execution_count": 16,
     "metadata": {},
     "output_type": "execute_result"
    }
   ],
   "source": [
    "test_df_final.count()"
   ]
  },
  {
   "cell_type": "code",
   "execution_count": 17,
   "metadata": {
    "colab": {
     "base_uri": "https://localhost:8080/"
    },
    "id": "tBPfF1PSTx4-",
    "outputId": "458c2148-1471-4ae1-f0de-cd9fe4df3115"
   },
   "outputs": [
    {
     "name": "stdout",
     "output_type": "stream",
     "text": [
      "+-----+------+\n",
      "|label|count |\n",
      "+-----+------+\n",
      "|1    |2895  |\n",
      "|0    |152233|\n",
      "+-----+------+\n",
      "\n"
     ]
    }
   ],
   "source": [
    "test_df_final.groupBy('label')\\\n",
    "             .agg(count('*').alias('count'))\\\n",
    "             .show(truncate = False)"
   ]
  },
  {
   "cell_type": "markdown",
   "metadata": {
    "id": "MaxRjQqC4xv4"
   },
   "source": [
    "# 4 Prepare Data before  BERT Tokenization\n"
   ]
  },
  {
   "cell_type": "markdown",
   "metadata": {
    "id": "36RxglM15HTc"
   },
   "source": [
    "## 4.1 Type Casting and Clean up Labels"
   ]
  },
  {
   "cell_type": "code",
   "execution_count": 18,
   "metadata": {
    "colab": {
     "base_uri": "https://localhost:8080/"
    },
    "id": "JtzG5Xpvyufu",
    "outputId": "ca55ba03-0d7c-4c23-daeb-674cf89526a1"
   },
   "outputs": [
    {
     "data": {
      "text/plain": [
       "[('conversation_id', 'string'),\n",
       " ('source', 'string'),\n",
       " ('label', 'int'),\n",
       " ('conversation_start_time', 'string'),\n",
       " ('n_people_in_conversation', 'int'),\n",
       " ('type_conversation', 'string'),\n",
       " ('merged_text', 'string'),\n",
       " ('merged_text_id', 'string'),\n",
       " ('n_texts', 'int')]"
      ]
     },
     "execution_count": 18,
     "metadata": {},
     "output_type": "execute_result"
    }
   ],
   "source": [
    "train_df_final.dtypes"
   ]
  },
  {
   "cell_type": "code",
   "execution_count": 19,
   "metadata": {
    "id": "4MyAPx4qzQq0"
   },
   "outputs": [],
   "source": [
    "#train_df_final = train_df_final.withColumn(\"label\", col(\"label\").cast(\"integer\"))"
   ]
  },
  {
   "cell_type": "code",
   "execution_count": 20,
   "metadata": {
    "colab": {
     "base_uri": "https://localhost:8080/"
    },
    "id": "S-OwBSWq444m",
    "outputId": "20606db4-498e-4f14-94fe-dc9e6147eb7d"
   },
   "outputs": [
    {
     "data": {
      "text/plain": [
       "[('conversation_id', 'string'),\n",
       " ('source', 'string'),\n",
       " ('label', 'int'),\n",
       " ('conversation_start_time', 'string'),\n",
       " ('n_people_in_conversation', 'int'),\n",
       " ('type_conversation', 'string'),\n",
       " ('merged_text', 'string'),\n",
       " ('merged_text_id', 'string'),\n",
       " ('n_texts', 'int')]"
      ]
     },
     "execution_count": 20,
     "metadata": {},
     "output_type": "execute_result"
    }
   ],
   "source": [
    "train_df_final.dtypes"
   ]
  },
  {
   "cell_type": "code",
   "execution_count": 21,
   "metadata": {
    "id": "Zx71zpELAAE8"
   },
   "outputs": [],
   "source": [
    "train_df_final = train_df_final.dropna()"
   ]
  },
  {
   "cell_type": "code",
   "execution_count": 22,
   "metadata": {
    "colab": {
     "base_uri": "https://localhost:8080/"
    },
    "id": "DygOR-vDCnMf",
    "outputId": "e1ff21d8-bb6c-4359-d4bf-8d82a0d35c7c"
   },
   "outputs": [
    {
     "name": "stdout",
     "output_type": "stream",
     "text": [
      "+-----+-----+\n",
      "|label|count|\n",
      "+-----+-----+\n",
      "|    1| 2584|\n",
      "|    0|85413|\n",
      "+-----+-----+\n",
      "\n"
     ]
    }
   ],
   "source": [
    "train_df_final.groupBy('label').count().show()"
   ]
  },
  {
   "cell_type": "code",
   "execution_count": 23,
   "metadata": {
    "id": "fca9iE5GDGTs"
   },
   "outputs": [],
   "source": [
    "#train_df_final = train_df_final.filter((col('label') == 1) | (col('label') == 0))"
   ]
  },
  {
   "cell_type": "code",
   "execution_count": 24,
   "metadata": {
    "colab": {
     "base_uri": "https://localhost:8080/"
    },
    "id": "a4AULVwQBfw5",
    "outputId": "877bd301-95bf-4f6f-c8fd-04ffe320c654"
   },
   "outputs": [
    {
     "name": "stdout",
     "output_type": "stream",
     "text": [
      "+-------+--------------------+----------+--------------------+-----------------------+------------------------+-----------------+--------------------+--------------------+------------------+\n",
      "|summary|     conversation_id|    source|               label|conversation_start_time|n_people_in_conversation|type_conversation|         merged_text|      merged_text_id|           n_texts|\n",
      "+-------+--------------------+----------+--------------------+-----------------------+------------------------+-----------------+--------------------+--------------------+------------------+\n",
      "|  count|               87997|     87997|               87997|                  87997|                   87997|            87997|               87997|               87997|             87997|\n",
      "|   mean|             10534.5|      NULL|0.029364637430821506|                   NULL|       2.263758991783811|             NULL|2.502527525250252...|                NULL|14.464049910792413|\n",
      "| stddev|    6082.52942176745|      NULL| 0.16882736568608722|                   NULL|      1.8447399609269715|             NULL|5.005055050500505E23|                NULL|  26.5249903226652|\n",
      "|    min|                   0|Chit chats|                   0|                  00:00|                       1|            Group|                    |                    |                 0|\n",
      "|    25%|              5267.0|      NULL|                   0|                   NULL|                       2|             NULL|                 6.0|                NULL|                 3|\n",
      "|    50%|             10532.0|      NULL|                   0|                   NULL|                       2|             NULL|               107.0|                NULL|                 4|\n",
      "|    75%|             15800.0|      NULL|                   0|                   NULL|                       2|             NULL|               404.0|                NULL|                12|\n",
      "|    max|ffffe01fc5b03a8d6...| ZIG chats|                   1|                  23:59|                      30|             Pair|😱 more test runn...|zyzzy: Hey! I'm p...|              1160|\n",
      "+-------+--------------------+----------+--------------------+-----------------------+------------------------+-----------------+--------------------+--------------------+------------------+\n",
      "\n"
     ]
    }
   ],
   "source": [
    "train_df_final.summary().show()"
   ]
  },
  {
   "cell_type": "code",
   "execution_count": 25,
   "metadata": {
    "colab": {
     "base_uri": "https://localhost:8080/"
    },
    "id": "efMTYCXJG1OI",
    "outputId": "221d3f30-ac9d-479d-c964-44e4149a4303"
   },
   "outputs": [
    {
     "name": "stdout",
     "output_type": "stream",
     "text": [
      "+-----+-----+\n",
      "|label|count|\n",
      "+-----+-----+\n",
      "|    1| 2584|\n",
      "|    0|85413|\n",
      "+-----+-----+\n",
      "\n"
     ]
    }
   ],
   "source": [
    "train_df_final.groupBy('label').count().show()"
   ]
  },
  {
   "cell_type": "code",
   "execution_count": 26,
   "metadata": {
    "colab": {
     "base_uri": "https://localhost:8080/",
     "height": 449
    },
    "id": "2CIJGWtSZuXp",
    "outputId": "b644181b-6d39-4fb8-ef8a-6fabf10a22f8"
   },
   "outputs": [
    {
     "data": {
      "image/png": "[encoded data removed]",
      "text/plain": [
       "<Figure size 640x480 with 1 Axes>"
      ]
     },
     "metadata": {},
     "output_type": "display_data"
    }
   ],
   "source": [
    "train_df_pandas = train_df_final.select('label').toPandas()\n",
    "ax = sns.countplot(x=\"label\", data=train_df_pandas)"
   ]
  },
  {
   "cell_type": "code",
   "execution_count": 27,
   "metadata": {
    "colab": {
     "base_uri": "https://localhost:8080/",
     "height": 406
    },
    "id": "pVzCoU8Fc7gK",
    "outputId": "e0650814-1b96-4b56-dda4-5563bfd47bc8"
   },
   "outputs": [
    {
     "data": {
      "image/png": "[encoded data removed]",
      "text/plain": [
       "<Figure size 640x480 with 1 Axes>"
      ]
     },
     "metadata": {},
     "output_type": "display_data"
    }
   ],
   "source": [
    "plt.pie(train_df_pandas[\"label\"].value_counts(), labels=['normal','groomer'], autopct='%1.1f%%')\n",
    "plt.show()"
   ]
  },
  {
   "cell_type": "code",
   "execution_count": 37,
   "metadata": {
    "id": "IJxuECZYfwbu"
   },
   "outputs": [],
   "source": [
    "# function to undersample dataset automatically\n",
    "# def undersample(df, outcome_col, seed=1234):\n",
    "#   # Split dataset based on outcome\n",
    "#   split0_df = df.filter(col(outcome_col) == 0)\n",
    "#   split1_df = df.filter(col(outcome_col) == 1)\n",
    "#   # determine which split is major vs minor\n",
    "#   if (split0_df.count() > split1_df.count()):\n",
    "#     major_df = split0_df\n",
    "#     minor_df = split1_df\n",
    "#   else:\n",
    "#     minor_df = split0_df\n",
    "#     major_df = split1_df\n",
    "#   ratio = major_df.count()/minor_df.count()\n",
    "#   print(\"Ratio of major vs minor before sampling: {}\".format(ratio))\n",
    "#   # Start under-sampling with Spark\n",
    "#   sampled_majority_df = major_df.sample(False, 1/ratio, seed)\n",
    "#   combined_df = sampled_majority_df.unionAll(minor_df)\n",
    "#   print(f\"Final sample size: {combined_df.count()}\")\n",
    "#   return combined_df"
   ]
  },
  {
   "cell_type": "markdown",
   "metadata": {
    "id": "Ab7nuZ_u3R04"
   },
   "source": [
    "### 4.2 Use Spacy English to test tokenization first and remove those samples failed to convert"
   ]
  },
  {
   "cell_type": "code",
   "execution_count": 38,
   "metadata": {
    "colab": {
     "base_uri": "https://localhost:8080/"
    },
    "id": "KeOxS1Yz3m8V",
    "outputId": "94df4ccd-fc54-4e14-d485-2d27fc71106b"
   },
   "outputs": [
    {
     "name": "stdout",
     "output_type": "stream",
     "text": [
      "96\n",
      "96\n",
      "output: 0.6314009741542267\n"
     ]
    },
    {
     "name": "stderr",
     "output_type": "stream",
     "text": [
      "/opt/conda/envs/pytorch/lib/python3.10/site-packages/spacy/pipeline/lemmatizer.py:211: UserWarning: [W108] The rule-based lemmatizer did not find POS annotation for one or more tokens. Check that your pipeline includes components that assign token.pos, typically 'tagger'+'attribute_ruler' or 'morphologizer'.\n",
      "  warnings.warn(Warnings.W108)\n",
      "/tmp/ipykernel_19354/749307361.py:16: UserWarning: [W007] The model you're using has no word vectors loaded, so the result of the Doc.similarity method will be based on the tagger, parser and NER, which may not give useful similarity judgements. This may happen if you're using one of the small models, e.g. `en_core_web_sm`, which don't ship with word vectors and only use context-sensitive tensors. You can always add your own word vectors, or use one of the larger models instead if available.\n",
      "  print(\"output:\" , doc1.similarity(doc2))\n"
     ]
    }
   ],
   "source": [
    "# Load the SpaCy en_core_web_sm model\n",
    "nlp = spacy.load('en_core_web_sm', disable=[\"tagger\", \"parser\", \"ner\"])\n",
    "\n",
    "@staticmethod\n",
    "def get_spacy():\n",
    "\n",
    "    if \"nlp\" not in globals():\n",
    "        globals()[\"nlp\"] = nlp\n",
    "\n",
    "    return globals()[\"nlp\"]\n",
    "\n",
    "doc1 = nlp(\"i love my pet dog\")\n",
    "doc2 = nlp(\"Maggie is my lovable pet dog!\")\n",
    "print(doc1.vector.size)\n",
    "print(doc2.vector.size)\n",
    "print(\"output:\" , doc1.similarity(doc2))"
   ]
  },
  {
   "cell_type": "code",
   "execution_count": 39,
   "metadata": {
    "colab": {
     "base_uri": "https://localhost:8080/"
    },
    "id": "5ajxz9he33Kb",
    "outputId": "dc787067-b9dc-454b-9dfe-5960d6dcbead"
   },
   "outputs": [
    {
     "data": {
      "text/plain": [
       "array([-0.82228184, -0.52981013, -0.04199264,  0.21913071, -0.03065448,\n",
       "       -0.14778526,  0.6752845 ,  0.45747596, -0.14300331, -0.4820497 ,\n",
       "       -0.2199707 , -0.31105405,  0.2607569 , -0.00689734, -0.7084032 ,\n",
       "        0.24738555, -0.16439562,  0.2179037 , -0.37804666,  0.02349054,\n",
       "       -0.15068911,  0.864818  , -0.637645  , -0.65831524,  0.22553782,\n",
       "       -0.20611453, -0.23222873,  0.22810598, -0.2578836 , -0.1370413 ,\n",
       "        0.5942478 ,  0.10742517,  0.18177323, -0.38608572,  0.0901499 ,\n",
       "       -0.31681603, -0.04888222,  0.0951063 , -0.7534274 ,  0.35248774,\n",
       "        0.08509431,  0.61296135,  0.23663417,  0.60823727, -0.5434038 ,\n",
       "       -0.51587856, -0.15613341,  1.0582231 ,  0.28102857, -0.16917507,\n",
       "       -0.8407737 ,  0.72302425,  0.32085943, -0.61701334,  0.05886409,\n",
       "       -0.35398296,  0.5053838 ,  0.5155953 , -0.41034406, -0.1209401 ,\n",
       "        0.40065938,  0.00445629,  0.5080544 ,  0.11423705,  0.06736588,\n",
       "       -0.06459552,  0.24383393,  0.3004192 , -0.18886861, -0.43419257,\n",
       "        0.07105552,  0.31284267,  0.7481225 , -0.10344113, -0.35968286,\n",
       "       -0.06552862, -0.08597148, -0.16566181,  0.10448357, -0.7170166 ,\n",
       "       -0.43187958,  0.08143806, -0.39179346,  0.03662255,  0.21673565,\n",
       "        0.3997646 ,  0.43564907,  0.20049441, -0.71877444,  0.17959635,\n",
       "        0.02584555, -0.4852299 ,  0.8911791 ,  0.5237773 , -0.72668   ,\n",
       "        0.5294328 ], dtype=float32)"
      ]
     },
     "execution_count": 39,
     "metadata": {},
     "output_type": "execute_result"
    }
   ],
   "source": [
    "vec1 = nlp(\"i love my pet dog\").vector\n",
    "vec1"
   ]
  },
  {
   "cell_type": "code",
   "execution_count": 40,
   "metadata": {
    "colab": {
     "base_uri": "https://localhost:8080/"
    },
    "id": "8KuEecZDi4lB",
    "outputId": "02e20bcc-166b-491a-dff7-add7cb9bde78"
   },
   "outputs": [
    {
     "data": {
      "text/plain": [
       "numpy.ndarray"
      ]
     },
     "execution_count": 40,
     "metadata": {},
     "output_type": "execute_result"
    }
   ],
   "source": [
    "type(vec1)"
   ]
  },
  {
   "cell_type": "markdown",
   "metadata": {
    "id": "l1Mc_ScgxfRm"
   },
   "source": [
    "#### Build PySpark UDF to convert words into vector"
   ]
  },
  {
   "cell_type": "code",
   "execution_count": 42,
   "metadata": {
    "id": "hldEogxgyE0y"
   },
   "outputs": [],
   "source": [
    "nlpUDF = udf(lambda x: nlp(x).vector.tolist(), ArrayType(FloatType()))\n",
    "\n",
    "train_df_final = train_df_final.withColumn('array', nlpUDF(col('merged_text')))"
   ]
  },
  {
   "cell_type": "code",
   "execution_count": 43,
   "metadata": {
    "id": "c-eHsLyH9YDe"
   },
   "outputs": [],
   "source": [
    "arrayUDF = udf(lambda array: Vectors.dense(array), VectorUDT())\n",
    "\n",
    "train_df_final = train_df_final.withColumn('vector', arrayUDF(col('array')))"
   ]
  },
  {
   "cell_type": "code",
   "execution_count": 44,
   "metadata": {
    "id": "R72w7BWEp4Qt"
   },
   "outputs": [],
   "source": [
    "train_df_final = train_df_final.withColumn('array_size', size(col('array')))"
   ]
  },
  {
   "cell_type": "code",
   "execution_count": 45,
   "metadata": {
    "colab": {
     "base_uri": "https://localhost:8080/"
    },
    "id": "38JHsUtHrM_-",
    "outputId": "e4c1dc90-6c84-48a7-a31e-526dea83ac54"
   },
   "outputs": [
    {
     "data": {
      "text/plain": [
       "[Row(conversation_id='0000604306a283600b730276a2039471', source='PAN12-train', label=0, conversation_start_time='13:04', n_people_in_conversation=4, type_conversation='Group', merged_text=\"e3fb62ebfa4f36acf5cbff6a6ed0f2e0: can I have your ear? e3fb62ebfa4f36acf5cbff6a6ed0f2e0: i am wondering if Opera implements, or plans to implement safari's &quot;device-pixel-ratio&quot; css media query. would you know? yes e.g. 1 CSS pixel to 3 device pixels would be 3.0 it's one-dimentional well it's explained here http://webkit.org/blog/55/high-dpi-web-sites/ though hyatt hasn't written up a formal defn i think no the ratio is applied in both directions think of it as the sqrt of the difference in number of pixels or better yet, think of it as the zoom factor 200% zoom would produce a factor of 2.0  (i.e. 2.0 squared more pixels per image) okay :) so I'm guessing opera doesn't support it yet. who would be the person to speak to about getting it implemented? where to? should I request an account or use the plebeian option? ok b8810fee2f4a71f849f3f7409546d1d9 - do you have any set of test cases for non-conformant HTML5? b8810fee2f4a71f849f3f7409546d1d9 - btw, do you have a good estimate of many man hours you have put into work on the conformance checker? ... including hours of any others that contributed to it significantly (fantasai, maybe?) I'm just curious b8810fee2f4a71f849f3f7409546d1d9 - OK. Was just thinking mainly about the HTML5 part, and thinking it might be good to eventually try to have an rough estimate of how many man hours are needed to implement a complete HTML5 conformance checker. b8810fee2f4a71f849f3f7409546d1d9 - OK One thing I wonder is, given all the dependencies of your Java implementation, how much extra work it will be to try to implement a checker in another language. other languages which I guess maybe are likely to lack equivalent libraries to depend on b8810fee2f4a71f849f3f7409546d1d9 - yeah, I know. about the schemas, seems like it would probably not be the most productive approach to try to implement something in another language that didn't also rely partly on schema validation http://www.elementary-group-standards.com/html/html5-doctype-is-unrecognized.html Sean Fraser I reckon I should probably add his feed to the nascent HTML5 blog aggregator OK, added him http://people.w3.org/mike/planet/html5/ any others anybody's aware of that ought to be there, let me know a9b326df4e6da61c5b6f5e1058be83a2: there are some in the syntax module a9b326df4e6da61c5b6f5e1058be83a2: I've also used Anne's WF 2.0 tests, but using those in the test harness in now broken as the spec stabilizes it makes sense to write more tests a9b326df4e6da61c5b6f5e1058be83a2: no estimate. lots a9b326df4e6da61c5b6f5e1058be83a2: the upper bound I can give is that there's no code written by me in there that predates October 2003. And the validation service started around November 2004, IIRC. Work towards applying it to HTML began in the summer of 2005. The November 2004 date is my guess about starting design and implementation. it wasn't public until 2005 a9b326df4e6da61c5b6f5e1058be83a2: I cannot give an estimate that would be even remotely accurate. But I can say that the parser isn't the biggest part, so the reasoning &quot;we have a parser in language foo, let's make a conformance checker&quot; is missing the point a9b326df4e6da61c5b6f5e1058be83a2: the biggest question is if you another programming language plus the same schemas or a totally independent impl a9b326df4e6da61c5b6f5e1058be83a2: but it is going to be a lot of work. I'm far from considering the Java impl complete afk &quot;Sean Fraser posted this on January 22, 2007 08:30 AM.&quot; he does post a lot about it seems only fair s/only fair/correct/ lol that's the ration between CSS and normal pixels? ratio* that could be useful euh 1 to 4 makes 2 sounds more logical anyway, if it's defined somewhere it might make sense to look into it one-dimentional? I learned that blog posts (with cat pictures on top) are not specs some years ago oh so you mean 1 to 9 makes 3? it doesn't make sense to scale a pixel in just one direction unless I'm missing something yeah, so 1 to 9 makes 3 I think I understand it correctly as I explained above you could file a bug report http://bugs.opera.com/ I suppose the latter\", merged_text_id=\"9fdcde97c1cb33fe4e9f6aab1d84bc76: e3fb62ebfa4f36acf5cbff6a6ed0f2e0: can I have your ear? 9fdcde97c1cb33fe4e9f6aab1d84bc76: e3fb62ebfa4f36acf5cbff6a6ed0f2e0: i am wondering if Opera implements, or plans to implement safari's &quot;device-pixel-ratio&quot; css media query. would you know? 9fdcde97c1cb33fe4e9f6aab1d84bc76: yes 9fdcde97c1cb33fe4e9f6aab1d84bc76: e.g. 1 CSS pixel to 3 device pixels would be 3.0 9fdcde97c1cb33fe4e9f6aab1d84bc76: it's one-dimentional 9fdcde97c1cb33fe4e9f6aab1d84bc76: well it's explained here http://webkit.org/blog/55/high-dpi-web-sites/ 9fdcde97c1cb33fe4e9f6aab1d84bc76: though hyatt hasn't written up a formal defn i think 9fdcde97c1cb33fe4e9f6aab1d84bc76: no 9fdcde97c1cb33fe4e9f6aab1d84bc76: the ratio is applied in both directions 9fdcde97c1cb33fe4e9f6aab1d84bc76: think of it as the sqrt of the difference in number of pixels 9fdcde97c1cb33fe4e9f6aab1d84bc76: or better yet, think of it as the zoom factor 9fdcde97c1cb33fe4e9f6aab1d84bc76: 200% zoom would produce a factor of 2.0  (i.e. 2.0 squared more pixels per image) 9fdcde97c1cb33fe4e9f6aab1d84bc76: okay :) 9fdcde97c1cb33fe4e9f6aab1d84bc76: so I'm guessing opera doesn't support it yet. who would be the person to speak to about getting it implemented? 9fdcde97c1cb33fe4e9f6aab1d84bc76: where to? 9fdcde97c1cb33fe4e9f6aab1d84bc76: should I request an account or use the plebeian option? 9fdcde97c1cb33fe4e9f6aab1d84bc76: ok a9b326df4e6da61c5b6f5e1058be83a2: b8810fee2f4a71f849f3f7409546d1d9 - do you have any set of test cases for non-conformant HTML5? a9b326df4e6da61c5b6f5e1058be83a2: b8810fee2f4a71f849f3f7409546d1d9 - btw, do you have a good estimate of many man hours you have put into work on the conformance checker? a9b326df4e6da61c5b6f5e1058be83a2: ... including hours of any others that contributed to it significantly (fantasai, maybe?) a9b326df4e6da61c5b6f5e1058be83a2: I'm just curious a9b326df4e6da61c5b6f5e1058be83a2: b8810fee2f4a71f849f3f7409546d1d9 - OK. Was just thinking mainly about the HTML5 part, and thinking it might be good to eventually try to have an rough estimate of how many man hours are needed to implement a complete HTML5 conformance checker. a9b326df4e6da61c5b6f5e1058be83a2: b8810fee2f4a71f849f3f7409546d1d9 - OK a9b326df4e6da61c5b6f5e1058be83a2: One thing I wonder is, given all the dependencies of your Java implementation, how much extra work it will be to try to implement a checker in another language. a9b326df4e6da61c5b6f5e1058be83a2: other languages a9b326df4e6da61c5b6f5e1058be83a2: which I guess maybe are likely to lack equivalent libraries to depend on a9b326df4e6da61c5b6f5e1058be83a2: b8810fee2f4a71f849f3f7409546d1d9 - yeah, I know. about the schemas, seems like it would probably not be the most productive approach to try to implement something in another language that didn't also rely partly on schema validation a9b326df4e6da61c5b6f5e1058be83a2: http://www.elementary-group-standards.com/html/html5-doctype-is-unrecognized.html a9b326df4e6da61c5b6f5e1058be83a2: Sean Fraser a9b326df4e6da61c5b6f5e1058be83a2: I reckon I should probably add his feed to the nascent HTML5 blog aggregator a9b326df4e6da61c5b6f5e1058be83a2: OK, added him a9b326df4e6da61c5b6f5e1058be83a2: http://people.w3.org/mike/planet/html5/ a9b326df4e6da61c5b6f5e1058be83a2: any others anybody's aware of that ought to be there, let me know b8810fee2f4a71f849f3f7409546d1d9: a9b326df4e6da61c5b6f5e1058be83a2: there are some in the syntax module b8810fee2f4a71f849f3f7409546d1d9: a9b326df4e6da61c5b6f5e1058be83a2: I've also used Anne's WF 2.0 tests, but using those in the test harness in now broken b8810fee2f4a71f849f3f7409546d1d9: as the spec stabilizes it makes sense to write more tests b8810fee2f4a71f849f3f7409546d1d9: a9b326df4e6da61c5b6f5e1058be83a2: no estimate. lots b8810fee2f4a71f849f3f7409546d1d9: a9b326df4e6da61c5b6f5e1058be83a2: the upper bound I can give is that there's no code written by me in there that predates October 2003. b8810fee2f4a71f849f3f7409546d1d9: And the validation service started around November 2004, IIRC. b8810fee2f4a71f849f3f7409546d1d9: Work towards applying it to HTML began in the summer of 2005. b8810fee2f4a71f849f3f7409546d1d9: The November 2004 date is my guess about starting design and implementation. it wasn't public until 2005 b8810fee2f4a71f849f3f7409546d1d9: a9b326df4e6da61c5b6f5e1058be83a2: I cannot give an estimate that would be even remotely accurate. But I can say that the parser isn't the biggest part, so the reasoning &quot;we have a parser in language foo, let's make a conformance checker&quot; is missing the point b8810fee2f4a71f849f3f7409546d1d9: a9b326df4e6da61c5b6f5e1058be83a2: the biggest question is if you another programming language plus the same schemas or a totally independent impl b8810fee2f4a71f849f3f7409546d1d9: a9b326df4e6da61c5b6f5e1058be83a2: but it is going to be a lot of work. I'm far from considering the Java impl complete b8810fee2f4a71f849f3f7409546d1d9: afk e3fb62ebfa4f36acf5cbff6a6ed0f2e0: &quot;Sean Fraser posted this on January 22, 2007 08:30 AM.&quot; e3fb62ebfa4f36acf5cbff6a6ed0f2e0: he does post a lot about it e3fb62ebfa4f36acf5cbff6a6ed0f2e0: seems only fair e3fb62ebfa4f36acf5cbff6a6ed0f2e0: s/only fair/correct/ e3fb62ebfa4f36acf5cbff6a6ed0f2e0: lol e3fb62ebfa4f36acf5cbff6a6ed0f2e0: that's the ration between CSS and normal pixels? e3fb62ebfa4f36acf5cbff6a6ed0f2e0: ratio* e3fb62ebfa4f36acf5cbff6a6ed0f2e0: that could be useful e3fb62ebfa4f36acf5cbff6a6ed0f2e0: euh e3fb62ebfa4f36acf5cbff6a6ed0f2e0: 1 to 4 makes 2 sounds more logical e3fb62ebfa4f36acf5cbff6a6ed0f2e0: anyway, if it's defined somewhere it might make sense to look into it e3fb62ebfa4f36acf5cbff6a6ed0f2e0: one-dimentional? e3fb62ebfa4f36acf5cbff6a6ed0f2e0: I learned that blog posts (with cat pictures on top) are not specs e3fb62ebfa4f36acf5cbff6a6ed0f2e0: some years ago e3fb62ebfa4f36acf5cbff6a6ed0f2e0: oh so you mean 1 to 9 makes 3? e3fb62ebfa4f36acf5cbff6a6ed0f2e0: it doesn't make sense to scale a pixel in just one direction e3fb62ebfa4f36acf5cbff6a6ed0f2e0: unless I'm missing something e3fb62ebfa4f36acf5cbff6a6ed0f2e0: yeah, so 1 to 9 makes 3 e3fb62ebfa4f36acf5cbff6a6ed0f2e0: I think I understand it correctly as I explained above e3fb62ebfa4f36acf5cbff6a6ed0f2e0: you could file a bug report e3fb62ebfa4f36acf5cbff6a6ed0f2e0: http://bugs.opera.com/ e3fb62ebfa4f36acf5cbff6a6ed0f2e0: I suppose the latter\", n_texts=67, array=[0.04919265955686569, -0.27699270844459534, 0.007871746085584164, -0.004627250600606203, -0.031441349536180496, 0.03562489524483681, 0.22239339351654053, 0.14022032916545868, 0.11621250212192535, 0.14637716114521027, -0.05753335729241371, -0.022149430587887764, -0.21994829177856445, 0.05287976190447807, -0.14270266890525818, 0.009904229082167149, -0.015653258189558983, -0.006362577900290489, -0.024578053504228592, -0.029042039066553116, -0.13243649899959564, 0.17304569482803345, -0.08086483180522919, -0.2817782759666443, 0.01029565092176199, -0.22169992327690125, 0.3031955659389496, 0.13357332348823547, 0.15527695417404175, 0.17332543432712555, -0.030469439923763275, 0.053428567945957184, 0.3478133976459503, -0.1379011869430542, 0.14039386808872223, -0.037905916571617126, 0.08906711637973785, -0.08165978640317917, -0.03891979902982712, 0.10878686606884003, -0.18242435157299042, 0.13068710267543793, -0.024675671011209488, 0.07912307232618332, 0.08382035046815872, -0.034537483006715775, 0.058442529290914536, 0.15070995688438416, 0.05444628372788429, -0.09661736339330673, -0.41775578260421753, -0.05011425167322159, 0.019488612189888954, -0.14704877138137817, 0.13965220749378204, -0.09146945178508759, -0.02609599381685257, 0.015522997826337814, 0.13880082964897156, -0.07544770836830139, 0.15491704642772675, -0.26603463292121887, -0.11018864065408707, -0.15939423441886902, 0.03400007262825966, 0.09890666604042053, 0.06557951122522354, -0.25012558698654175, 0.1252448409795761, 0.3292810916900635, 0.019875317811965942, 0.08461833745241165, -0.0902562215924263, 0.051231883466243744, -0.13711217045783997, -0.05288130044937134, 0.02040368877351284, -0.2819460332393646, -0.09105058759450912, -0.06168235093355179, -0.1096741110086441, -0.09576577693223953, -0.19344937801361084, -0.13974612951278687, 0.13541896641254425, 0.15299445390701294, 0.011394505389034748, 0.06371498107910156, -0.22827762365341187, 0.36838066577911377, 0.120873361825943, -0.1760357767343521, 0.3586065471172333, 0.28972265124320984, -0.28476765751838684, 0.14884620904922485], vector=DenseVector([0.0492, -0.277, 0.0079, -0.0046, -0.0314, 0.0356, 0.2224, 0.1402, 0.1162, 0.1464, -0.0575, -0.0221, -0.2199, 0.0529, -0.1427, 0.0099, -0.0157, -0.0064, -0.0246, -0.029, -0.1324, 0.173, -0.0809, -0.2818, 0.0103, -0.2217, 0.3032, 0.1336, 0.1553, 0.1733, -0.0305, 0.0534, 0.3478, -0.1379, 0.1404, -0.0379, 0.0891, -0.0817, -0.0389, 0.1088, -0.1824, 0.1307, -0.0247, 0.0791, 0.0838, -0.0345, 0.0584, 0.1507, 0.0544, -0.0966, -0.4178, -0.0501, 0.0195, -0.147, 0.1397, -0.0915, -0.0261, 0.0155, 0.1388, -0.0754, 0.1549, -0.266, -0.1102, -0.1594, 0.034, 0.0989, 0.0656, -0.2501, 0.1252, 0.3293, 0.0199, 0.0846, -0.0903, 0.0512, -0.1371, -0.0529, 0.0204, -0.2819, -0.0911, -0.0617, -0.1097, -0.0958, -0.1934, -0.1397, 0.1354, 0.153, 0.0114, 0.0637, -0.2283, 0.3684, 0.1209, -0.176, 0.3586, 0.2897, -0.2848, 0.1488]), array_size=96)]"
      ]
     },
     "execution_count": 45,
     "metadata": {},
     "output_type": "execute_result"
    }
   ],
   "source": [
    "train_df_final.take(1)"
   ]
  },
  {
   "cell_type": "code",
   "execution_count": 46,
   "metadata": {
    "colab": {
     "base_uri": "https://localhost:8080/"
    },
    "id": "scEKki0PrRRf",
    "outputId": "96afab11-e411-48e2-d89b-d859c5e4aa6d"
   },
   "outputs": [
    {
     "name": "stdout",
     "output_type": "stream",
     "text": [
      "+--------------------+-----------+-----+-----------------------+------------------------+-----------------+-----------+--------------+-------+-----+------+----------+\n",
      "|     conversation_id|     source|label|conversation_start_time|n_people_in_conversation|type_conversation|merged_text|merged_text_id|n_texts|array|vector|array_size|\n",
      "+--------------------+-----------+-----+-----------------------+------------------------+-----------------+-----------+--------------+-------+-----+------+----------+\n",
      "|296b5fe667a3acb29...|PAN12-train|    1|                  16:26|                       1|        Monologue|           |              |      0|   []|    []|         0|\n",
      "|413d86429dac924d6...|PAN12-train|    0|                  03:26|                       1|        Monologue|           |              |      0|   []|    []|         0|\n",
      "|4e77cb2aab360fa8d...|PAN12-train|    0|                  23:20|                       1|        Monologue|           |              |      0|   []|    []|         0|\n",
      "|65e031fc57d960538...|PAN12-train|    0|                  09:46|                       1|        Monologue|           |              |      0|   []|    []|         0|\n",
      "|75f1a49252d6cb941...|PAN12-train|    0|                  21:07|                       1|        Monologue|           |              |      0|   []|    []|         0|\n",
      "|7b14a473933603e8a...|PAN12-train|    0|                  08:20|                       1|        Monologue|           |              |      0|   []|    []|         0|\n",
      "|8eac123e02223a015...|PAN12-train|    0|                  15:31|                       1|        Monologue|           |              |      0|   []|    []|         0|\n",
      "|a9648415bad7d7038...|PAN12-train|    0|                  03:51|                       1|        Monologue|           |              |      0|   []|    []|         0|\n",
      "|b5fca0effc4310abe...|PAN12-train|    0|                  06:27|                       1|        Monologue|           |              |      0|   []|    []|         0|\n",
      "|bdff637a8d7a984f8...|PAN12-train|    0|                  15:37|                       1|        Monologue|           |              |      0|   []|    []|         0|\n",
      "|bf722ba1d7779a751...|PAN12-train|    0|                  06:08|                       1|        Monologue|           |              |      0|   []|    []|         0|\n",
      "|d7cb936201327318e...|PAN12-train|    0|                  01:31|                       1|        Monologue|           |              |      0|   []|    []|         0|\n",
      "|f7669c54722db32fc...|PAN12-train|    0|                  18:43|                       1|        Monologue|           |              |      0|   []|    []|         0|\n",
      "+--------------------+-----------+-----+-----------------------+------------------------+-----------------+-----------+--------------+-------+-----+------+----------+\n",
      "\n"
     ]
    }
   ],
   "source": [
    "train_df_final.filter(col(\"array_size\") != 96).show()"
   ]
  },
  {
   "cell_type": "markdown",
   "metadata": {
    "id": "rz66ChHTsk0V"
   },
   "source": [
    "#### Remove samples which failed to convert into vctors"
   ]
  },
  {
   "cell_type": "code",
   "execution_count": 47,
   "metadata": {
    "id": "DFOed5LMsQEs"
   },
   "outputs": [],
   "source": [
    "train_df_final = train_df_final.filter(col(\"array_size\") == 96)"
   ]
  },
  {
   "cell_type": "code",
   "execution_count": 48,
   "metadata": {
    "colab": {
     "base_uri": "https://localhost:8080/"
    },
    "id": "9-pqY1oG1WNX",
    "outputId": "45ca24f1-2a01-4c65-862e-278d4b4d1af7"
   },
   "outputs": [
    {
     "name": "stdout",
     "output_type": "stream",
     "text": [
      "+-----+-----+\n",
      "|label|count|\n",
      "+-----+-----+\n",
      "|    1| 2583|\n",
      "|    0|85401|\n",
      "+-----+-----+\n",
      "\n"
     ]
    }
   ],
   "source": [
    "train_df_final.groupBy('label').count().show()"
   ]
  },
  {
   "cell_type": "markdown",
   "metadata": {
    "id": "5pG6_9C4Ucri"
   },
   "source": [
    "# 5 Model Building: Spark-NLP BERT Model"
   ]
  },
  {
   "cell_type": "markdown",
   "metadata": {
    "id": "iRM2vrMS6Vbg"
   },
   "source": [
    "## 5.1 Use Spark-NLP BERT Pretrained English language model to turn words into embeddings and then run binary classifier for transferred-learning/fine-tuning\n"
   ]
  },
  {
   "cell_type": "markdown",
   "metadata": {
    "id": "pY3P9UXe9XLm"
   },
   "source": [
    "### Split dataset into training and validation"
   ]
  },
  {
   "cell_type": "code",
   "execution_count": 50,
   "metadata": {},
   "outputs": [],
   "source": [
    "# split dataframes between 0s and 1s\n",
    "zeros = train_df_final.filter(train_df_final[\"label\"]==0)\n",
    "ones = train_df_final.filter(train_df_final[\"label\"]==1)\n",
    "# split datasets into training and testing\n",
    "train0, val0 = zeros.randomSplit([0.8,0.2], seed=1234)\n",
    "train1, val1 = ones.randomSplit([0.8,0.2], seed=1234)\n",
    "# stack datasets back together\n",
    "trainingData = train0.union(train1)\n",
    "validationData = val0.union(val1)"
   ]
  },
  {
   "cell_type": "code",
   "execution_count": 51,
   "metadata": {
    "colab": {
     "base_uri": "https://localhost:8080/"
    },
    "id": "xIlt5pp5P8US",
    "outputId": "d5ec686d-4dbd-462d-f3c2-c6803bef3aaf"
   },
   "outputs": [
    {
     "name": "stdout",
     "output_type": "stream",
     "text": [
      "Training Dataset Count: 70472\n",
      "Validation Dataset Count: 17512\n"
     ]
    }
   ],
   "source": [
    "print(\"Training Dataset Count: \" + str(trainingData.count()))\n",
    "print(\"Validation Dataset Count: \" + str(validationData.count()))"
   ]
  },
  {
   "cell_type": "code",
   "execution_count": 52,
   "metadata": {},
   "outputs": [
    {
     "name": "stdout",
     "output_type": "stream",
     "text": [
      "+-----+-----+\n",
      "|label|count|\n",
      "+-----+-----+\n",
      "|    0|68375|\n",
      "|    1| 2097|\n",
      "+-----+-----+\n",
      "\n"
     ]
    }
   ],
   "source": [
    "trainingData.groupBy('label').count().show()"
   ]
  },
  {
   "cell_type": "code",
   "execution_count": 53,
   "metadata": {},
   "outputs": [
    {
     "name": "stdout",
     "output_type": "stream",
     "text": [
      "+-----+-----+\n",
      "|label|count|\n",
      "+-----+-----+\n",
      "|    0|17026|\n",
      "|    1|  486|\n",
      "+-----+-----+\n",
      "\n"
     ]
    }
   ],
   "source": [
    "validationData.groupBy('label').count().show()"
   ]
  },
  {
   "cell_type": "markdown",
   "metadata": {},
   "source": [
    "### Oversampling training dataset"
   ]
  },
  {
   "cell_type": "code",
   "execution_count": 54,
   "metadata": {},
   "outputs": [
    {
     "name": "stdout",
     "output_type": "stream",
     "text": [
      "ratio: 32\n"
     ]
    }
   ],
   "source": [
    "major_df = trainingData.filter(col(\"label\") == 0)\n",
    "minor_df = trainingData.filter(col(\"label\") == 1)\n",
    "ratio = int(major_df.count()/minor_df.count())\n",
    "print(\"ratio: {}\".format(ratio))"
   ]
  },
  {
   "cell_type": "code",
   "execution_count": 55,
   "metadata": {},
   "outputs": [],
   "source": [
    "a = range(ratio)\n",
    "# duplicate the minority rows\n",
    "oversampled_df = minor_df.withColumn(\"dummy\", explode(array([lit(x) for x in a]))).drop('dummy')\n",
    "# combine both oversampled minority rows and previous majority rows \n",
    "combined_oversampled_df = major_df.unionAll(oversampled_df)"
   ]
  },
  {
   "cell_type": "code",
   "execution_count": 56,
   "metadata": {},
   "outputs": [
    {
     "name": "stdout",
     "output_type": "stream",
     "text": [
      "+-----+-----+\n",
      "|label|count|\n",
      "+-----+-----+\n",
      "|    0|68375|\n",
      "|    1|67104|\n",
      "+-----+-----+\n",
      "\n"
     ]
    }
   ],
   "source": [
    "combined_oversampled_df.groupBy('label').count().show()"
   ]
  },
  {
   "cell_type": "code",
   "execution_count": 57,
   "metadata": {},
   "outputs": [],
   "source": [
    "trainingDataOversampled = combined_oversampled_df"
   ]
  },
  {
   "cell_type": "markdown",
   "metadata": {
    "id": "anRY-9Ps9fTO"
   },
   "source": [
    "### Build ML Pipeline with pretrained BERT English \"Sentence\" Model"
   ]
  },
  {
   "cell_type": "code",
   "execution_count": 63,
   "metadata": {
    "colab": {
     "base_uri": "https://localhost:8080/"
    },
    "id": "oJyjkFHA_198",
    "outputId": "da666837-8056-4dd0-a4d0-a8f642094c0d"
   },
   "outputs": [
    {
     "name": "stdout",
     "output_type": "stream",
     "text": [
      "sent_small_bert_L8_512 download started this may take some time.\n",
      "Approximate size to download 149.1 MB\n",
      "[OK!]\n"
     ]
    }
   ],
   "source": [
    "# Step 1: Transforms raw texts to `document` annotation\n",
    "document = DocumentAssembler()\\\n",
    "              .setInputCol(\"merged_text\")\\\n",
    "              .setOutputCol(\"document\")\\\n",
    "              .setCleanupMode(\"shrink\")\n",
    "\n",
    "# Step 2: Encodes text into high dimensional vectors\n",
    "bert_sent = BertSentenceEmbeddings.pretrained('sent_small_bert_L8_512')\\\n",
    "              .setInputCols([\"document\"])\\\n",
    "              .setOutputCol(\"sentence_embeddings\")\n",
    "\n",
    "# Stage 3: Performs model training\n",
    "classsifierdl = ClassifierDLApproach()\\\n",
    "                  .setInputCols([\"sentence_embeddings\"])\\\n",
    "                  .setOutputCol(\"class\")\\\n",
    "                  .setLabelColumn(\"label\")\\\n",
    "                  .setMaxEpochs(20)\\\n",
    "                  .setLr(0.001)\\\n",
    "                  .setBatchSize(32)\\\n",
    "                  .setEnableOutputLogs(True)\n",
    "\n",
    "use_clf_pipeline = Pipeline(stages = [document,\n",
    "                                      bert_sent,\n",
    "                                      classsifierdl])\n"
   ]
  },
  {
   "cell_type": "markdown",
   "metadata": {
    "id": "ftyw9NQl9o85"
   },
   "source": [
    "## 5.2 Run Training"
   ]
  },
  {
   "cell_type": "code",
   "execution_count": 64,
   "metadata": {},
   "outputs": [
    {
     "name": "stdout",
     "output_type": "stream",
     "text": [
      "/home/ubuntu/mids/capstone-210-spring2024/src/notebooks\n"
     ]
    }
   ],
   "source": [
    "!pwd"
   ]
  },
  {
   "cell_type": "code",
   "execution_count": 65,
   "metadata": {
    "colab": {
     "base_uri": "https://localhost:8080/"
    },
    "id": "UXZpT5v9LR1Z",
    "outputId": "04a412e2-350e-4ef0-e28a-c8fef17ef72f"
   },
   "outputs": [
    {
     "name": "stdout",
     "output_type": "stream",
     "text": [
      "rm: cannot remove '/home/ubuntu/annotator_logs': No such file or directory\n"
     ]
    }
   ],
   "source": [
    "# remove the existing logs\n",
    "!rm -r /home/ubuntu/annotator_logs"
   ]
  },
  {
   "cell_type": "code",
   "execution_count": 66,
   "metadata": {
    "colab": {
     "base_uri": "https://localhost:8080/"
    },
    "id": "suv6mQycLZAK",
    "outputId": "1027ae45-23a4-4ea7-a07f-5c3d01bc022d"
   },
   "outputs": [
    {
     "name": "stderr",
     "output_type": "stream",
     "text": [
      "ERROR:root:KeyboardInterrupt while sending command.\n",
      "Traceback (most recent call last):\n",
      "  File \"/home/ubuntu/spark-3.5.1-bin-hadoop3/python/lib/py4j-0.10.9.7-src.zip/py4j/java_gateway.py\", line 1038, in send_command\n",
      "    response = connection.send_command(command)\n",
      "  File \"/home/ubuntu/spark-3.5.1-bin-hadoop3/python/lib/py4j-0.10.9.7-src.zip/py4j/clientserver.py\", line 511, in send_command\n",
      "    answer = smart_decode(self.stream.readline()[:-1])\n",
      "  File \"/opt/conda/envs/pytorch/lib/python3.10/socket.py\", line 705, in readinto\n",
      "    return self._sock.recv_into(b)\n",
      "KeyboardInterrupt\n"
     ]
    },
    {
     "ename": "KeyboardInterrupt",
     "evalue": "",
     "output_type": "error",
     "traceback": [
      "\u001b[0;31m---------------------------------------------------------------------------\u001b[0m",
      "\u001b[0;31mKeyboardInterrupt\u001b[0m                         Traceback (most recent call last)",
      "Cell \u001b[0;32mIn[66], line 3\u001b[0m\n\u001b[1;32m      1\u001b[0m \u001b[38;5;66;03m# Fit the training dataset to train the model\u001b[39;00m\n\u001b[1;32m      2\u001b[0m t0 \u001b[38;5;241m=\u001b[39m time\u001b[38;5;241m.\u001b[39mtime()\n\u001b[0;32m----> 3\u001b[0m pipelineModel \u001b[38;5;241m=\u001b[39m \u001b[43muse_clf_pipeline\u001b[49m\u001b[38;5;241;43m.\u001b[39;49m\u001b[43mfit\u001b[49m\u001b[43m(\u001b[49m\u001b[43mtrainingDataOversampled\u001b[49m\u001b[43m)\u001b[49m\n\u001b[1;32m      4\u001b[0m \u001b[38;5;28mprint\u001b[39m(\u001b[38;5;124m\"\u001b[39m\u001b[38;5;124mTraining time:\u001b[39m\u001b[38;5;124m\"\u001b[39m, time\u001b[38;5;241m.\u001b[39mtime()\u001b[38;5;241m-\u001b[39mt0)\n",
      "File \u001b[0;32m~/spark-3.5.1-bin-hadoop3/python/pyspark/ml/base.py:205\u001b[0m, in \u001b[0;36mEstimator.fit\u001b[0;34m(self, dataset, params)\u001b[0m\n\u001b[1;32m    203\u001b[0m         \u001b[38;5;28;01mreturn\u001b[39;00m \u001b[38;5;28mself\u001b[39m\u001b[38;5;241m.\u001b[39mcopy(params)\u001b[38;5;241m.\u001b[39m_fit(dataset)\n\u001b[1;32m    204\u001b[0m     \u001b[38;5;28;01melse\u001b[39;00m:\n\u001b[0;32m--> 205\u001b[0m         \u001b[38;5;28;01mreturn\u001b[39;00m \u001b[38;5;28;43mself\u001b[39;49m\u001b[38;5;241;43m.\u001b[39;49m\u001b[43m_fit\u001b[49m\u001b[43m(\u001b[49m\u001b[43mdataset\u001b[49m\u001b[43m)\u001b[49m\n\u001b[1;32m    206\u001b[0m \u001b[38;5;28;01melse\u001b[39;00m:\n\u001b[1;32m    207\u001b[0m     \u001b[38;5;28;01mraise\u001b[39;00m \u001b[38;5;167;01mTypeError\u001b[39;00m(\n\u001b[1;32m    208\u001b[0m         \u001b[38;5;124m\"\u001b[39m\u001b[38;5;124mParams must be either a param map or a list/tuple of param maps, \u001b[39m\u001b[38;5;124m\"\u001b[39m\n\u001b[1;32m    209\u001b[0m         \u001b[38;5;124m\"\u001b[39m\u001b[38;5;124mbut got \u001b[39m\u001b[38;5;132;01m%s\u001b[39;00m\u001b[38;5;124m.\u001b[39m\u001b[38;5;124m\"\u001b[39m \u001b[38;5;241m%\u001b[39m \u001b[38;5;28mtype\u001b[39m(params)\n\u001b[1;32m    210\u001b[0m     )\n",
      "File \u001b[0;32m~/spark-3.5.1-bin-hadoop3/python/pyspark/ml/pipeline.py:134\u001b[0m, in \u001b[0;36mPipeline._fit\u001b[0;34m(self, dataset)\u001b[0m\n\u001b[1;32m    132\u001b[0m     dataset \u001b[38;5;241m=\u001b[39m stage\u001b[38;5;241m.\u001b[39mtransform(dataset)\n\u001b[1;32m    133\u001b[0m \u001b[38;5;28;01melse\u001b[39;00m:  \u001b[38;5;66;03m# must be an Estimator\u001b[39;00m\n\u001b[0;32m--> 134\u001b[0m     model \u001b[38;5;241m=\u001b[39m \u001b[43mstage\u001b[49m\u001b[38;5;241;43m.\u001b[39;49m\u001b[43mfit\u001b[49m\u001b[43m(\u001b[49m\u001b[43mdataset\u001b[49m\u001b[43m)\u001b[49m\n\u001b[1;32m    135\u001b[0m     transformers\u001b[38;5;241m.\u001b[39mappend(model)\n\u001b[1;32m    136\u001b[0m     \u001b[38;5;28;01mif\u001b[39;00m i \u001b[38;5;241m<\u001b[39m indexOfLastEstimator:\n",
      "File \u001b[0;32m~/spark-3.5.1-bin-hadoop3/python/pyspark/ml/base.py:205\u001b[0m, in \u001b[0;36mEstimator.fit\u001b[0;34m(self, dataset, params)\u001b[0m\n\u001b[1;32m    203\u001b[0m         \u001b[38;5;28;01mreturn\u001b[39;00m \u001b[38;5;28mself\u001b[39m\u001b[38;5;241m.\u001b[39mcopy(params)\u001b[38;5;241m.\u001b[39m_fit(dataset)\n\u001b[1;32m    204\u001b[0m     \u001b[38;5;28;01melse\u001b[39;00m:\n\u001b[0;32m--> 205\u001b[0m         \u001b[38;5;28;01mreturn\u001b[39;00m \u001b[38;5;28;43mself\u001b[39;49m\u001b[38;5;241;43m.\u001b[39;49m\u001b[43m_fit\u001b[49m\u001b[43m(\u001b[49m\u001b[43mdataset\u001b[49m\u001b[43m)\u001b[49m\n\u001b[1;32m    206\u001b[0m \u001b[38;5;28;01melse\u001b[39;00m:\n\u001b[1;32m    207\u001b[0m     \u001b[38;5;28;01mraise\u001b[39;00m \u001b[38;5;167;01mTypeError\u001b[39;00m(\n\u001b[1;32m    208\u001b[0m         \u001b[38;5;124m\"\u001b[39m\u001b[38;5;124mParams must be either a param map or a list/tuple of param maps, \u001b[39m\u001b[38;5;124m\"\u001b[39m\n\u001b[1;32m    209\u001b[0m         \u001b[38;5;124m\"\u001b[39m\u001b[38;5;124mbut got \u001b[39m\u001b[38;5;132;01m%s\u001b[39;00m\u001b[38;5;124m.\u001b[39m\u001b[38;5;124m\"\u001b[39m \u001b[38;5;241m%\u001b[39m \u001b[38;5;28mtype\u001b[39m(params)\n\u001b[1;32m    210\u001b[0m     )\n",
      "File \u001b[0;32m~/spark-3.5.1-bin-hadoop3/python/pyspark/ml/wrapper.py:381\u001b[0m, in \u001b[0;36mJavaEstimator._fit\u001b[0;34m(self, dataset)\u001b[0m\n\u001b[1;32m    380\u001b[0m \u001b[38;5;28;01mdef\u001b[39;00m \u001b[38;5;21m_fit\u001b[39m(\u001b[38;5;28mself\u001b[39m, dataset: DataFrame) \u001b[38;5;241m-\u001b[39m\u001b[38;5;241m>\u001b[39m JM:\n\u001b[0;32m--> 381\u001b[0m     java_model \u001b[38;5;241m=\u001b[39m \u001b[38;5;28;43mself\u001b[39;49m\u001b[38;5;241;43m.\u001b[39;49m\u001b[43m_fit_java\u001b[49m\u001b[43m(\u001b[49m\u001b[43mdataset\u001b[49m\u001b[43m)\u001b[49m\n\u001b[1;32m    382\u001b[0m     model \u001b[38;5;241m=\u001b[39m \u001b[38;5;28mself\u001b[39m\u001b[38;5;241m.\u001b[39m_create_model(java_model)\n\u001b[1;32m    383\u001b[0m     \u001b[38;5;28;01mreturn\u001b[39;00m \u001b[38;5;28mself\u001b[39m\u001b[38;5;241m.\u001b[39m_copyValues(model)\n",
      "File \u001b[0;32m~/spark-3.5.1-bin-hadoop3/python/pyspark/ml/wrapper.py:378\u001b[0m, in \u001b[0;36mJavaEstimator._fit_java\u001b[0;34m(self, dataset)\u001b[0m\n\u001b[1;32m    375\u001b[0m \u001b[38;5;28;01massert\u001b[39;00m \u001b[38;5;28mself\u001b[39m\u001b[38;5;241m.\u001b[39m_java_obj \u001b[38;5;129;01mis\u001b[39;00m \u001b[38;5;129;01mnot\u001b[39;00m \u001b[38;5;28;01mNone\u001b[39;00m\n\u001b[1;32m    377\u001b[0m \u001b[38;5;28mself\u001b[39m\u001b[38;5;241m.\u001b[39m_transfer_params_to_java()\n\u001b[0;32m--> 378\u001b[0m \u001b[38;5;28;01mreturn\u001b[39;00m \u001b[38;5;28;43mself\u001b[39;49m\u001b[38;5;241;43m.\u001b[39;49m\u001b[43m_java_obj\u001b[49m\u001b[38;5;241;43m.\u001b[39;49m\u001b[43mfit\u001b[49m\u001b[43m(\u001b[49m\u001b[43mdataset\u001b[49m\u001b[38;5;241;43m.\u001b[39;49m\u001b[43m_jdf\u001b[49m\u001b[43m)\u001b[49m\n",
      "File \u001b[0;32m~/spark-3.5.1-bin-hadoop3/python/lib/py4j-0.10.9.7-src.zip/py4j/java_gateway.py:1321\u001b[0m, in \u001b[0;36mJavaMember.__call__\u001b[0;34m(self, *args)\u001b[0m\n\u001b[1;32m   1314\u001b[0m args_command, temp_args \u001b[38;5;241m=\u001b[39m \u001b[38;5;28mself\u001b[39m\u001b[38;5;241m.\u001b[39m_build_args(\u001b[38;5;241m*\u001b[39margs)\n\u001b[1;32m   1316\u001b[0m command \u001b[38;5;241m=\u001b[39m proto\u001b[38;5;241m.\u001b[39mCALL_COMMAND_NAME \u001b[38;5;241m+\u001b[39m\\\n\u001b[1;32m   1317\u001b[0m     \u001b[38;5;28mself\u001b[39m\u001b[38;5;241m.\u001b[39mcommand_header \u001b[38;5;241m+\u001b[39m\\\n\u001b[1;32m   1318\u001b[0m     args_command \u001b[38;5;241m+\u001b[39m\\\n\u001b[1;32m   1319\u001b[0m     proto\u001b[38;5;241m.\u001b[39mEND_COMMAND_PART\n\u001b[0;32m-> 1321\u001b[0m answer \u001b[38;5;241m=\u001b[39m \u001b[38;5;28;43mself\u001b[39;49m\u001b[38;5;241;43m.\u001b[39;49m\u001b[43mgateway_client\u001b[49m\u001b[38;5;241;43m.\u001b[39;49m\u001b[43msend_command\u001b[49m\u001b[43m(\u001b[49m\u001b[43mcommand\u001b[49m\u001b[43m)\u001b[49m\n\u001b[1;32m   1322\u001b[0m return_value \u001b[38;5;241m=\u001b[39m get_return_value(\n\u001b[1;32m   1323\u001b[0m     answer, \u001b[38;5;28mself\u001b[39m\u001b[38;5;241m.\u001b[39mgateway_client, \u001b[38;5;28mself\u001b[39m\u001b[38;5;241m.\u001b[39mtarget_id, \u001b[38;5;28mself\u001b[39m\u001b[38;5;241m.\u001b[39mname)\n\u001b[1;32m   1325\u001b[0m \u001b[38;5;28;01mfor\u001b[39;00m temp_arg \u001b[38;5;129;01min\u001b[39;00m temp_args:\n",
      "File \u001b[0;32m~/spark-3.5.1-bin-hadoop3/python/lib/py4j-0.10.9.7-src.zip/py4j/java_gateway.py:1038\u001b[0m, in \u001b[0;36mGatewayClient.send_command\u001b[0;34m(self, command, retry, binary)\u001b[0m\n\u001b[1;32m   1036\u001b[0m connection \u001b[38;5;241m=\u001b[39m \u001b[38;5;28mself\u001b[39m\u001b[38;5;241m.\u001b[39m_get_connection()\n\u001b[1;32m   1037\u001b[0m \u001b[38;5;28;01mtry\u001b[39;00m:\n\u001b[0;32m-> 1038\u001b[0m     response \u001b[38;5;241m=\u001b[39m \u001b[43mconnection\u001b[49m\u001b[38;5;241;43m.\u001b[39;49m\u001b[43msend_command\u001b[49m\u001b[43m(\u001b[49m\u001b[43mcommand\u001b[49m\u001b[43m)\u001b[49m\n\u001b[1;32m   1039\u001b[0m     \u001b[38;5;28;01mif\u001b[39;00m binary:\n\u001b[1;32m   1040\u001b[0m         \u001b[38;5;28;01mreturn\u001b[39;00m response, \u001b[38;5;28mself\u001b[39m\u001b[38;5;241m.\u001b[39m_create_connection_guard(connection)\n",
      "File \u001b[0;32m~/spark-3.5.1-bin-hadoop3/python/lib/py4j-0.10.9.7-src.zip/py4j/clientserver.py:511\u001b[0m, in \u001b[0;36mClientServerConnection.send_command\u001b[0;34m(self, command)\u001b[0m\n\u001b[1;32m    509\u001b[0m \u001b[38;5;28;01mtry\u001b[39;00m:\n\u001b[1;32m    510\u001b[0m     \u001b[38;5;28;01mwhile\u001b[39;00m \u001b[38;5;28;01mTrue\u001b[39;00m:\n\u001b[0;32m--> 511\u001b[0m         answer \u001b[38;5;241m=\u001b[39m smart_decode(\u001b[38;5;28;43mself\u001b[39;49m\u001b[38;5;241;43m.\u001b[39;49m\u001b[43mstream\u001b[49m\u001b[38;5;241;43m.\u001b[39;49m\u001b[43mreadline\u001b[49m\u001b[43m(\u001b[49m\u001b[43m)\u001b[49m[:\u001b[38;5;241m-\u001b[39m\u001b[38;5;241m1\u001b[39m])\n\u001b[1;32m    512\u001b[0m         logger\u001b[38;5;241m.\u001b[39mdebug(\u001b[38;5;124m\"\u001b[39m\u001b[38;5;124mAnswer received: \u001b[39m\u001b[38;5;132;01m{0}\u001b[39;00m\u001b[38;5;124m\"\u001b[39m\u001b[38;5;241m.\u001b[39mformat(answer))\n\u001b[1;32m    513\u001b[0m         \u001b[38;5;66;03m# Happens when a the other end is dead. There might be an empty\u001b[39;00m\n\u001b[1;32m    514\u001b[0m         \u001b[38;5;66;03m# answer before the socket raises an error.\u001b[39;00m\n",
      "File \u001b[0;32m/opt/conda/envs/pytorch/lib/python3.10/socket.py:705\u001b[0m, in \u001b[0;36mSocketIO.readinto\u001b[0;34m(self, b)\u001b[0m\n\u001b[1;32m    703\u001b[0m \u001b[38;5;28;01mwhile\u001b[39;00m \u001b[38;5;28;01mTrue\u001b[39;00m:\n\u001b[1;32m    704\u001b[0m     \u001b[38;5;28;01mtry\u001b[39;00m:\n\u001b[0;32m--> 705\u001b[0m         \u001b[38;5;28;01mreturn\u001b[39;00m \u001b[38;5;28;43mself\u001b[39;49m\u001b[38;5;241;43m.\u001b[39;49m\u001b[43m_sock\u001b[49m\u001b[38;5;241;43m.\u001b[39;49m\u001b[43mrecv_into\u001b[49m\u001b[43m(\u001b[49m\u001b[43mb\u001b[49m\u001b[43m)\u001b[49m\n\u001b[1;32m    706\u001b[0m     \u001b[38;5;28;01mexcept\u001b[39;00m timeout:\n\u001b[1;32m    707\u001b[0m         \u001b[38;5;28mself\u001b[39m\u001b[38;5;241m.\u001b[39m_timeout_occurred \u001b[38;5;241m=\u001b[39m \u001b[38;5;28;01mTrue\u001b[39;00m\n",
      "\u001b[0;31mKeyboardInterrupt\u001b[0m: "
     ]
    }
   ],
   "source": [
    "# Fit the training dataset to train the model\n",
    "t0 = time.time()\n",
    "pipelineModel = use_clf_pipeline.fit(trainingDataOversampled)\n",
    "print(\"Training time:\", time.time()-t0)"
   ]
  },
  {
   "cell_type": "code",
   "execution_count": 61,
   "metadata": {
    "colab": {
     "base_uri": "https://localhost:8080/"
    },
    "id": "v_ELbGafLeNq",
    "outputId": "ee1e7de1-1c06-4dc8-87e0-23ab94af01e2"
   },
   "outputs": [
    {
     "ename": "FileNotFoundError",
     "evalue": "[Errno 2] No such file or directory: '/home/ubuntu/annotator_logs'",
     "output_type": "error",
     "traceback": [
      "\u001b[0;31m---------------------------------------------------------------------------\u001b[0m",
      "\u001b[0;31mFileNotFoundError\u001b[0m                         Traceback (most recent call last)",
      "Cell \u001b[0;32mIn[61], line 1\u001b[0m\n\u001b[0;32m----> 1\u001b[0m log_files \u001b[38;5;241m=\u001b[39m \u001b[43mos\u001b[49m\u001b[38;5;241;43m.\u001b[39;49m\u001b[43mlistdir\u001b[49m\u001b[43m(\u001b[49m\u001b[38;5;124;43m\"\u001b[39;49m\u001b[38;5;124;43m/home/ubuntu/annotator_logs\u001b[39;49m\u001b[38;5;124;43m\"\u001b[39;49m\u001b[43m)\u001b[49m\n\u001b[1;32m      3\u001b[0m \u001b[38;5;28;01mwith\u001b[39;00m \u001b[38;5;28mopen\u001b[39m(\u001b[38;5;124m\"\u001b[39m\u001b[38;5;124m/home/ubuntu/annotator_logs/\u001b[39m\u001b[38;5;124m\"\u001b[39m\u001b[38;5;241m+\u001b[39mlog_files[\u001b[38;5;241m0\u001b[39m], \u001b[38;5;124m\"\u001b[39m\u001b[38;5;124mr\u001b[39m\u001b[38;5;124m\"\u001b[39m) \u001b[38;5;28;01mas\u001b[39;00m log_file :\n\u001b[1;32m      4\u001b[0m     \u001b[38;5;28mprint\u001b[39m(log_file\u001b[38;5;241m.\u001b[39mread())\n",
      "\u001b[0;31mFileNotFoundError\u001b[0m: [Errno 2] No such file or directory: '/home/ubuntu/annotator_logs'"
     ]
    }
   ],
   "source": [
    "log_files = os.listdir(\"/home/ubuntu/annotator_logs\")\n",
    "\n",
    "with open(\"/home/ubuntu/annotator_logs/\"+log_files[0], \"r\") as log_file :\n",
    "    print(log_file.read())"
   ]
  },
  {
   "cell_type": "markdown",
   "metadata": {
    "id": "70tEqLV8-IAJ"
   },
   "source": [
    "## 5.3 Evaluate Validation Results"
   ]
  },
  {
   "cell_type": "code",
   "execution_count": null,
   "metadata": {},
   "outputs": [],
   "source": [
    "%%time\n",
    "# Apply Model Transform to Validation Data\n",
    "preds = pipelineModel.transform(validationData)"
   ]
  },
  {
   "cell_type": "code",
   "execution_count": null,
   "metadata": {
    "colab": {
     "base_uri": "https://localhost:8080/"
    },
    "id": "yUbJsG53LeYa",
    "outputId": "db833302-bfaf-4ca5-d213-2bf9771a6c0f"
   },
   "outputs": [],
   "source": [
    "# We are going to use sklearn to evalute the results on validation dataset\n",
    "preds_df = preds.select('label',\"class.result\").toPandas()\n",
    "\n",
    "preds_df['result'] = preds_df['result'].apply(lambda x : int(x[0]))\n",
    "\n",
    "print (classification_report(preds_df['label'], preds_df['result']))"
   ]
  },
  {
   "cell_type": "code",
   "execution_count": null,
   "metadata": {
    "id": "LB1_2i6Wqj2Q"
   },
   "outputs": [],
   "source": [
    "f_beta3_score = fbeta_score(preds_df['label'], preds_df['result'], average='binary', beta=3, pos_label=1)"
   ]
  },
  {
   "cell_type": "code",
   "execution_count": null,
   "metadata": {
    "colab": {
     "base_uri": "https://localhost:8080/"
    },
    "id": "iMenDNFKqj5w",
    "outputId": "5f72368b-2823-4bd8-96c9-9a258f9a6ff7"
   },
   "outputs": [],
   "source": [
    "print(\"Validation F-beta3 score: \", f_beta3_score)"
   ]
  },
  {
   "cell_type": "markdown",
   "metadata": {},
   "source": [
    "# 6 Save the Model and run the final Test Set"
   ]
  },
  {
   "cell_type": "markdown",
   "metadata": {},
   "source": [
    "## 6.1 Save and Loading back the Trained Model"
   ]
  },
  {
   "cell_type": "code",
   "execution_count": 49,
   "metadata": {},
   "outputs": [
    {
     "data": {
      "text/plain": [
       "[DocumentAssembler_d56b7167b273,\n",
       " BERT_SENTENCE_EMBEDDINGS_3608c0d843af,\n",
       " ClassifierDLModel_bc6f1541425a]"
      ]
     },
     "execution_count": 49,
     "metadata": {},
     "output_type": "execute_result"
    }
   ],
   "source": [
    "pipelineModel.stages"
   ]
  },
  {
   "cell_type": "code",
   "execution_count": 50,
   "metadata": {},
   "outputs": [
    {
     "data": {
      "text/plain": [
       "ClassifierDLModel_bc6f1541425a"
      ]
     },
     "execution_count": 50,
     "metadata": {},
     "output_type": "execute_result"
    }
   ],
   "source": [
    "pipelineModel.stages[2]"
   ]
  },
  {
   "cell_type": "code",
   "execution_count": 51,
   "metadata": {},
   "outputs": [],
   "source": [
    "# Save the BERT Classifier Model\n",
    "pipelineModel.stages[2].write().overwrite().save('BertSentenceClfModelOverSampled')"
   ]
  },
  {
   "cell_type": "code",
   "execution_count": 56,
   "metadata": {
    "id": "zKGBaNKJ_2NX"
   },
   "outputs": [],
   "source": [
    "# Save a Spark NLP pipeline\n",
    "use_clf_pipeline.write().overwrite().save('BertClsPipelineOS')"
   ]
  },
  {
   "cell_type": "code",
   "execution_count": 10,
   "metadata": {},
   "outputs": [],
   "source": [
    "# Load back saved BERT Classifier Model\n",
    "TrainedClassifierDLModel = ClassifierDLModel.load('BertSentenceClfModelOverSampled')"
   ]
  },
  {
   "cell_type": "code",
   "execution_count": 11,
   "metadata": {},
   "outputs": [],
   "source": [
    "# Generate prediction Pipeline with loaded Model\n",
    "ld_pipeline = Pipeline(stages=[document, bert_sent, TrainedClassifierDLModel])\n",
    "ld_pipeline_model = ld_pipeline.fit(spark.createDataFrame([['']]).toDF(\"text\"))"
   ]
  },
  {
   "cell_type": "markdown",
   "metadata": {
    "id": "4AYvNOsS2Epe"
   },
   "source": [
    "## 6.2 Run against the Test Set"
   ]
  },
  {
   "cell_type": "code",
   "execution_count": 15,
   "metadata": {
    "id": "e0GwGJvK2w6v"
   },
   "outputs": [],
   "source": [
    "test_set = test_df_final"
   ]
  },
  {
   "cell_type": "code",
   "execution_count": 16,
   "metadata": {
    "colab": {
     "base_uri": "https://localhost:8080/"
    },
    "id": "bzTGK0bfqj9N",
    "outputId": "6dbc0a39-1ce5-4732-e8b4-4acaaeb3d44b"
   },
   "outputs": [
    {
     "name": "stderr",
     "output_type": "stream",
     "text": [
      "ERROR:root:KeyboardInterrupt while sending command.                 (0 + 2) / 2]\n",
      "Traceback (most recent call last):\n",
      "  File \"/home/ubuntu/spark-3.5.1-bin-hadoop3/python/lib/py4j-0.10.9.7-src.zip/py4j/java_gateway.py\", line 1038, in send_command\n",
      "    response = connection.send_command(command)\n",
      "  File \"/home/ubuntu/spark-3.5.1-bin-hadoop3/python/lib/py4j-0.10.9.7-src.zip/py4j/clientserver.py\", line 511, in send_command\n",
      "    answer = smart_decode(self.stream.readline()[:-1])\n",
      "  File \"/opt/conda/envs/pytorch/lib/python3.10/socket.py\", line 705, in readinto\n",
      "    return self._sock.recv_into(b)\n",
      "KeyboardInterrupt\n"
     ]
    },
    {
     "ename": "KeyboardInterrupt",
     "evalue": "",
     "output_type": "error",
     "traceback": [
      "\u001b[0;31m---------------------------------------------------------------------------\u001b[0m",
      "\u001b[0;31mKeyboardInterrupt\u001b[0m                         Traceback (most recent call last)",
      "Cell \u001b[0;32mIn[16], line 5\u001b[0m\n\u001b[1;32m      2\u001b[0m preds_test \u001b[38;5;241m=\u001b[39m ld_pipeline_model\u001b[38;5;241m.\u001b[39mtransform(test_set)\n\u001b[1;32m      4\u001b[0m \u001b[38;5;66;03m# We are going to use sklearn to evalute the results on test dataset\u001b[39;00m\n\u001b[0;32m----> 5\u001b[0m preds_test_df \u001b[38;5;241m=\u001b[39m \u001b[43mpreds_test\u001b[49m\u001b[38;5;241;43m.\u001b[39;49m\u001b[43mselect\u001b[49m\u001b[43m(\u001b[49m\u001b[38;5;124;43m'\u001b[39;49m\u001b[38;5;124;43mlabel\u001b[39;49m\u001b[38;5;124;43m'\u001b[39;49m\u001b[43m,\u001b[49m\u001b[38;5;124;43m\"\u001b[39;49m\u001b[38;5;124;43mclass.result\u001b[39;49m\u001b[38;5;124;43m\"\u001b[39;49m\u001b[43m)\u001b[49m\u001b[38;5;241;43m.\u001b[39;49m\u001b[43mtoPandas\u001b[49m\u001b[43m(\u001b[49m\u001b[43m)\u001b[49m\n\u001b[1;32m      7\u001b[0m preds_test_df[\u001b[38;5;124m'\u001b[39m\u001b[38;5;124mresult\u001b[39m\u001b[38;5;124m'\u001b[39m] \u001b[38;5;241m=\u001b[39m preds_test_df[\u001b[38;5;124m'\u001b[39m\u001b[38;5;124mresult\u001b[39m\u001b[38;5;124m'\u001b[39m]\u001b[38;5;241m.\u001b[39mapply(\u001b[38;5;28;01mlambda\u001b[39;00m x : \u001b[38;5;28mint\u001b[39m(x[\u001b[38;5;241m0\u001b[39m]))\n\u001b[1;32m      9\u001b[0m \u001b[38;5;28mprint\u001b[39m (classification_report(preds_test_df[\u001b[38;5;124m'\u001b[39m\u001b[38;5;124mlabel\u001b[39m\u001b[38;5;124m'\u001b[39m], preds_test_df[\u001b[38;5;124m'\u001b[39m\u001b[38;5;124mresult\u001b[39m\u001b[38;5;124m'\u001b[39m]))\n",
      "File \u001b[0;32m~/spark-3.5.1-bin-hadoop3/python/pyspark/sql/pandas/conversion.py:202\u001b[0m, in \u001b[0;36mPandasConversionMixin.toPandas\u001b[0;34m(self)\u001b[0m\n\u001b[1;32m    199\u001b[0m             \u001b[38;5;28;01mraise\u001b[39;00m\n\u001b[1;32m    201\u001b[0m \u001b[38;5;66;03m# Below is toPandas without Arrow optimization.\u001b[39;00m\n\u001b[0;32m--> 202\u001b[0m rows \u001b[38;5;241m=\u001b[39m \u001b[38;5;28;43mself\u001b[39;49m\u001b[38;5;241;43m.\u001b[39;49m\u001b[43mcollect\u001b[49m\u001b[43m(\u001b[49m\u001b[43m)\u001b[49m\n\u001b[1;32m    203\u001b[0m \u001b[38;5;28;01mif\u001b[39;00m \u001b[38;5;28mlen\u001b[39m(rows) \u001b[38;5;241m>\u001b[39m \u001b[38;5;241m0\u001b[39m:\n\u001b[1;32m    204\u001b[0m     pdf \u001b[38;5;241m=\u001b[39m pd\u001b[38;5;241m.\u001b[39mDataFrame\u001b[38;5;241m.\u001b[39mfrom_records(\n\u001b[1;32m    205\u001b[0m         rows, index\u001b[38;5;241m=\u001b[39m\u001b[38;5;28mrange\u001b[39m(\u001b[38;5;28mlen\u001b[39m(rows)), columns\u001b[38;5;241m=\u001b[39m\u001b[38;5;28mself\u001b[39m\u001b[38;5;241m.\u001b[39mcolumns  \u001b[38;5;66;03m# type: ignore[arg-type]\u001b[39;00m\n\u001b[1;32m    206\u001b[0m     )\n",
      "File \u001b[0;32m~/spark-3.5.1-bin-hadoop3/python/pyspark/sql/dataframe.py:1261\u001b[0m, in \u001b[0;36mDataFrame.collect\u001b[0;34m(self)\u001b[0m\n\u001b[1;32m   1241\u001b[0m \u001b[38;5;250m\u001b[39m\u001b[38;5;124;03m\"\"\"Returns all the records as a list of :class:`Row`.\u001b[39;00m\n\u001b[1;32m   1242\u001b[0m \n\u001b[1;32m   1243\u001b[0m \u001b[38;5;124;03m.. versionadded:: 1.3.0\u001b[39;00m\n\u001b[0;32m   (...)\u001b[0m\n\u001b[1;32m   1258\u001b[0m \u001b[38;5;124;03m[Row(age=14, name='Tom'), Row(age=23, name='Alice'), Row(age=16, name='Bob')]\u001b[39;00m\n\u001b[1;32m   1259\u001b[0m \u001b[38;5;124;03m\"\"\"\u001b[39;00m\n\u001b[1;32m   1260\u001b[0m \u001b[38;5;28;01mwith\u001b[39;00m SCCallSiteSync(\u001b[38;5;28mself\u001b[39m\u001b[38;5;241m.\u001b[39m_sc):\n\u001b[0;32m-> 1261\u001b[0m     sock_info \u001b[38;5;241m=\u001b[39m \u001b[38;5;28;43mself\u001b[39;49m\u001b[38;5;241;43m.\u001b[39;49m\u001b[43m_jdf\u001b[49m\u001b[38;5;241;43m.\u001b[39;49m\u001b[43mcollectToPython\u001b[49m\u001b[43m(\u001b[49m\u001b[43m)\u001b[49m\n\u001b[1;32m   1262\u001b[0m \u001b[38;5;28;01mreturn\u001b[39;00m \u001b[38;5;28mlist\u001b[39m(_load_from_socket(sock_info, BatchedSerializer(CPickleSerializer())))\n",
      "File \u001b[0;32m~/spark-3.5.1-bin-hadoop3/python/lib/py4j-0.10.9.7-src.zip/py4j/java_gateway.py:1321\u001b[0m, in \u001b[0;36mJavaMember.__call__\u001b[0;34m(self, *args)\u001b[0m\n\u001b[1;32m   1314\u001b[0m args_command, temp_args \u001b[38;5;241m=\u001b[39m \u001b[38;5;28mself\u001b[39m\u001b[38;5;241m.\u001b[39m_build_args(\u001b[38;5;241m*\u001b[39margs)\n\u001b[1;32m   1316\u001b[0m command \u001b[38;5;241m=\u001b[39m proto\u001b[38;5;241m.\u001b[39mCALL_COMMAND_NAME \u001b[38;5;241m+\u001b[39m\\\n\u001b[1;32m   1317\u001b[0m     \u001b[38;5;28mself\u001b[39m\u001b[38;5;241m.\u001b[39mcommand_header \u001b[38;5;241m+\u001b[39m\\\n\u001b[1;32m   1318\u001b[0m     args_command \u001b[38;5;241m+\u001b[39m\\\n\u001b[1;32m   1319\u001b[0m     proto\u001b[38;5;241m.\u001b[39mEND_COMMAND_PART\n\u001b[0;32m-> 1321\u001b[0m answer \u001b[38;5;241m=\u001b[39m \u001b[38;5;28;43mself\u001b[39;49m\u001b[38;5;241;43m.\u001b[39;49m\u001b[43mgateway_client\u001b[49m\u001b[38;5;241;43m.\u001b[39;49m\u001b[43msend_command\u001b[49m\u001b[43m(\u001b[49m\u001b[43mcommand\u001b[49m\u001b[43m)\u001b[49m\n\u001b[1;32m   1322\u001b[0m return_value \u001b[38;5;241m=\u001b[39m get_return_value(\n\u001b[1;32m   1323\u001b[0m     answer, \u001b[38;5;28mself\u001b[39m\u001b[38;5;241m.\u001b[39mgateway_client, \u001b[38;5;28mself\u001b[39m\u001b[38;5;241m.\u001b[39mtarget_id, \u001b[38;5;28mself\u001b[39m\u001b[38;5;241m.\u001b[39mname)\n\u001b[1;32m   1325\u001b[0m \u001b[38;5;28;01mfor\u001b[39;00m temp_arg \u001b[38;5;129;01min\u001b[39;00m temp_args:\n",
      "File \u001b[0;32m~/spark-3.5.1-bin-hadoop3/python/lib/py4j-0.10.9.7-src.zip/py4j/java_gateway.py:1038\u001b[0m, in \u001b[0;36mGatewayClient.send_command\u001b[0;34m(self, command, retry, binary)\u001b[0m\n\u001b[1;32m   1036\u001b[0m connection \u001b[38;5;241m=\u001b[39m \u001b[38;5;28mself\u001b[39m\u001b[38;5;241m.\u001b[39m_get_connection()\n\u001b[1;32m   1037\u001b[0m \u001b[38;5;28;01mtry\u001b[39;00m:\n\u001b[0;32m-> 1038\u001b[0m     response \u001b[38;5;241m=\u001b[39m \u001b[43mconnection\u001b[49m\u001b[38;5;241;43m.\u001b[39;49m\u001b[43msend_command\u001b[49m\u001b[43m(\u001b[49m\u001b[43mcommand\u001b[49m\u001b[43m)\u001b[49m\n\u001b[1;32m   1039\u001b[0m     \u001b[38;5;28;01mif\u001b[39;00m binary:\n\u001b[1;32m   1040\u001b[0m         \u001b[38;5;28;01mreturn\u001b[39;00m response, \u001b[38;5;28mself\u001b[39m\u001b[38;5;241m.\u001b[39m_create_connection_guard(connection)\n",
      "File \u001b[0;32m~/spark-3.5.1-bin-hadoop3/python/lib/py4j-0.10.9.7-src.zip/py4j/clientserver.py:511\u001b[0m, in \u001b[0;36mClientServerConnection.send_command\u001b[0;34m(self, command)\u001b[0m\n\u001b[1;32m    509\u001b[0m \u001b[38;5;28;01mtry\u001b[39;00m:\n\u001b[1;32m    510\u001b[0m     \u001b[38;5;28;01mwhile\u001b[39;00m \u001b[38;5;28;01mTrue\u001b[39;00m:\n\u001b[0;32m--> 511\u001b[0m         answer \u001b[38;5;241m=\u001b[39m smart_decode(\u001b[38;5;28;43mself\u001b[39;49m\u001b[38;5;241;43m.\u001b[39;49m\u001b[43mstream\u001b[49m\u001b[38;5;241;43m.\u001b[39;49m\u001b[43mreadline\u001b[49m\u001b[43m(\u001b[49m\u001b[43m)\u001b[49m[:\u001b[38;5;241m-\u001b[39m\u001b[38;5;241m1\u001b[39m])\n\u001b[1;32m    512\u001b[0m         logger\u001b[38;5;241m.\u001b[39mdebug(\u001b[38;5;124m\"\u001b[39m\u001b[38;5;124mAnswer received: \u001b[39m\u001b[38;5;132;01m{0}\u001b[39;00m\u001b[38;5;124m\"\u001b[39m\u001b[38;5;241m.\u001b[39mformat(answer))\n\u001b[1;32m    513\u001b[0m         \u001b[38;5;66;03m# Happens when a the other end is dead. There might be an empty\u001b[39;00m\n\u001b[1;32m    514\u001b[0m         \u001b[38;5;66;03m# answer before the socket raises an error.\u001b[39;00m\n",
      "File \u001b[0;32m/opt/conda/envs/pytorch/lib/python3.10/socket.py:705\u001b[0m, in \u001b[0;36mSocketIO.readinto\u001b[0;34m(self, b)\u001b[0m\n\u001b[1;32m    703\u001b[0m \u001b[38;5;28;01mwhile\u001b[39;00m \u001b[38;5;28;01mTrue\u001b[39;00m:\n\u001b[1;32m    704\u001b[0m     \u001b[38;5;28;01mtry\u001b[39;00m:\n\u001b[0;32m--> 705\u001b[0m         \u001b[38;5;28;01mreturn\u001b[39;00m \u001b[38;5;28;43mself\u001b[39;49m\u001b[38;5;241;43m.\u001b[39;49m\u001b[43m_sock\u001b[49m\u001b[38;5;241;43m.\u001b[39;49m\u001b[43mrecv_into\u001b[49m\u001b[43m(\u001b[49m\u001b[43mb\u001b[49m\u001b[43m)\u001b[49m\n\u001b[1;32m    706\u001b[0m     \u001b[38;5;28;01mexcept\u001b[39;00m timeout:\n\u001b[1;32m    707\u001b[0m         \u001b[38;5;28mself\u001b[39m\u001b[38;5;241m.\u001b[39m_timeout_occurred \u001b[38;5;241m=\u001b[39m \u001b[38;5;28;01mTrue\u001b[39;00m\n",
      "\u001b[0;31mKeyboardInterrupt\u001b[0m: "
     ]
    },
    {
     "name": "stderr",
     "output_type": "stream",
     "text": [
      "[Stage 7:>                                                          (0 + 2) / 2]\r"
     ]
    }
   ],
   "source": [
    "# Apply Model Transform to testData\n",
    "preds_test = ld_pipeline_model.transform(test_set)\n",
    "\n",
    "# We are going to use sklearn to evalute the results on test dataset\n",
    "preds_test_df = preds_test.select('label',\"class.result\").toPandas()\n",
    "\n",
    "preds_test_df['result'] = preds_test_df['result'].apply(lambda x : int(x[0]))\n",
    "\n",
    "print (classification_report(preds_test_df['label'], preds_test_df['result']))"
   ]
  },
  {
   "cell_type": "code",
   "execution_count": 72,
   "metadata": {
    "id": "9mwl1AztLecI"
   },
   "outputs": [],
   "source": [
    "f_beta3_test_score = fbeta_score(preds_test_df['label'], preds_test_df['result'], average='binary', beta=3, pos_label=1)"
   ]
  },
  {
   "cell_type": "code",
   "execution_count": 73,
   "metadata": {
    "colab": {
     "base_uri": "https://localhost:8080/"
    },
    "id": "Dd_CBl8bLefe",
    "outputId": "0733f0fe-329d-4416-8eb6-efc2b7b1c3a1"
   },
   "outputs": [
    {
     "name": "stdout",
     "output_type": "stream",
     "text": [
      "Test F-beta3 score:  0.6562286938735755\n"
     ]
    }
   ],
   "source": [
    "print(\"Test F-beta3 score: \", f_beta3_test_score)"
   ]
  },
  {
   "cell_type": "markdown",
   "metadata": {},
   "source": [
    "# 7 Testing the Model on a set of Synthetic dataset"
   ]
  },
  {
   "cell_type": "markdown",
   "metadata": {},
   "source": [
    "## 7.1 Load Synthetic Dataset"
   ]
  },
  {
   "cell_type": "code",
   "execution_count": 174,
   "metadata": {},
   "outputs": [],
   "source": [
    "synthetic_data_conversations_path = f'/home/ubuntu/mids/capstone-210-spring2024/data/datasynthetic_conversations.csv/synthetic_data.csv'"
   ]
  },
  {
   "cell_type": "code",
   "execution_count": 175,
   "metadata": {},
   "outputs": [],
   "source": [
    "synthetic_data_conversations_df = spark.read.csv(synthetic_data_conversations_path, header='true', inferSchema='true')"
   ]
  },
  {
   "cell_type": "code",
   "execution_count": 176,
   "metadata": {},
   "outputs": [
    {
     "data": {
      "text/plain": [
       "4"
      ]
     },
     "execution_count": 176,
     "metadata": {},
     "output_type": "execute_result"
    }
   ],
   "source": [
    "synthetic_data_conversations_df.count()"
   ]
  },
  {
   "cell_type": "code",
   "execution_count": 177,
   "metadata": {},
   "outputs": [
    {
     "name": "stdout",
     "output_type": "stream",
     "text": [
      "+---------------+---------+-----+-----------------------+------------------------+-----------------+--------------------+\n",
      "|conversation_id|   source|label|conversation_start_time|n_people_in_conversation|type_conversation|         merged_text|\n",
      "+---------------+---------+-----+-----------------------+------------------------+-----------------+--------------------+\n",
      "|     US4MNWNVXW|synthetic|    1|    2024-03-04 04:00:00|                       2|             Pair|Hi. Hello. How ar...|\n",
      "|     U84XQ4SEPW|synthetic|    1|    2024-03-04 16:00:00|                       2|             Pair|Hey baby, sorry I...|\n",
      "|     FI1J20M2JO|synthetic|    1|    2024-03-04 14:00:00|                       2|             Pair|Hello! Hi who are...|\n",
      "|     N62SK8ZA77|synthetic|    1|    2024-03-04 22:00:00|                       2|             Pair|Can I send you so...|\n",
      "+---------------+---------+-----+-----------------------+------------------------+-----------------+--------------------+\n",
      "\n"
     ]
    }
   ],
   "source": [
    "synthetic_data_conversations_df.show()"
   ]
  },
  {
   "cell_type": "code",
   "execution_count": 178,
   "metadata": {},
   "outputs": [],
   "source": [
    "test_set = synthetic_data_conversations_df"
   ]
  },
  {
   "cell_type": "code",
   "execution_count": 179,
   "metadata": {},
   "outputs": [
    {
     "name": "stdout",
     "output_type": "stream",
     "text": [
      "              precision    recall  f1-score   support\n",
      "\n",
      "           0       0.00      0.00      0.00         0\n",
      "           1       1.00      0.50      0.67         4\n",
      "\n",
      "    accuracy                           0.50         4\n",
      "   macro avg       0.50      0.25      0.33         4\n",
      "weighted avg       1.00      0.50      0.67         4\n",
      "\n"
     ]
    },
    {
     "name": "stderr",
     "output_type": "stream",
     "text": [
      "/opt/conda/envs/pytorch/lib/python3.10/site-packages/sklearn/metrics/_classification.py:1471: UndefinedMetricWarning: Recall and F-score are ill-defined and being set to 0.0 in labels with no true samples. Use `zero_division` parameter to control this behavior.\n",
      "  _warn_prf(average, modifier, msg_start, len(result))\n",
      "/opt/conda/envs/pytorch/lib/python3.10/site-packages/sklearn/metrics/_classification.py:1471: UndefinedMetricWarning: Recall and F-score are ill-defined and being set to 0.0 in labels with no true samples. Use `zero_division` parameter to control this behavior.\n",
      "  _warn_prf(average, modifier, msg_start, len(result))\n",
      "/opt/conda/envs/pytorch/lib/python3.10/site-packages/sklearn/metrics/_classification.py:1471: UndefinedMetricWarning: Recall and F-score are ill-defined and being set to 0.0 in labels with no true samples. Use `zero_division` parameter to control this behavior.\n",
      "  _warn_prf(average, modifier, msg_start, len(result))\n"
     ]
    }
   ],
   "source": [
    "# Apply Model Transform to testData\n",
    "preds_test = ld_pipeline_model.transform(test_set)\n",
    "\n",
    "# We are going to use sklearn to evalute the results on test dataset\n",
    "preds_test_df = preds_test.select('conversation_id','label',\"class.result\").toPandas()\n",
    "\n",
    "preds_test_df['result'] = preds_test_df['result'].apply(lambda x : int(x[0]))\n",
    "\n",
    "print (classification_report(preds_test_df['label'], preds_test_df['result']))"
   ]
  },
  {
   "cell_type": "code",
   "execution_count": 180,
   "metadata": {},
   "outputs": [
    {
     "data": {
      "text/html": [
       "<div>\n",
       "<style scoped>\n",
       "    .dataframe tbody tr th:only-of-type {\n",
       "        vertical-align: middle;\n",
       "    }\n",
       "\n",
       "    .dataframe tbody tr th {\n",
       "        vertical-align: top;\n",
       "    }\n",
       "\n",
       "    .dataframe thead th {\n",
       "        text-align: right;\n",
       "    }\n",
       "</style>\n",
       "<table border=\"1\" class=\"dataframe\">\n",
       "  <thead>\n",
       "    <tr style=\"text-align: right;\">\n",
       "      <th></th>\n",
       "      <th>conversation_id</th>\n",
       "      <th>label</th>\n",
       "      <th>result</th>\n",
       "    </tr>\n",
       "  </thead>\n",
       "  <tbody>\n",
       "    <tr>\n",
       "      <th>0</th>\n",
       "      <td>US4MNWNVXW</td>\n",
       "      <td>1</td>\n",
       "      <td>0</td>\n",
       "    </tr>\n",
       "    <tr>\n",
       "      <th>1</th>\n",
       "      <td>U84XQ4SEPW</td>\n",
       "      <td>1</td>\n",
       "      <td>1</td>\n",
       "    </tr>\n",
       "    <tr>\n",
       "      <th>2</th>\n",
       "      <td>FI1J20M2JO</td>\n",
       "      <td>1</td>\n",
       "      <td>1</td>\n",
       "    </tr>\n",
       "    <tr>\n",
       "      <th>3</th>\n",
       "      <td>N62SK8ZA77</td>\n",
       "      <td>1</td>\n",
       "      <td>0</td>\n",
       "    </tr>\n",
       "  </tbody>\n",
       "</table>\n",
       "</div>"
      ],
      "text/plain": [
       "  conversation_id  label  result\n",
       "0      US4MNWNVXW      1       0\n",
       "1      U84XQ4SEPW      1       1\n",
       "2      FI1J20M2JO      1       1\n",
       "3      N62SK8ZA77      1       0"
      ]
     },
     "execution_count": 180,
     "metadata": {},
     "output_type": "execute_result"
    }
   ],
   "source": [
    "preds_test_df"
   ]
  },
  {
   "cell_type": "code",
   "execution_count": 181,
   "metadata": {},
   "outputs": [
    {
     "data": {
      "text/html": [
       "<div>\n",
       "<style scoped>\n",
       "    .dataframe tbody tr th:only-of-type {\n",
       "        vertical-align: middle;\n",
       "    }\n",
       "\n",
       "    .dataframe tbody tr th {\n",
       "        vertical-align: top;\n",
       "    }\n",
       "\n",
       "    .dataframe thead th {\n",
       "        text-align: right;\n",
       "    }\n",
       "</style>\n",
       "<table border=\"1\" class=\"dataframe\">\n",
       "  <thead>\n",
       "    <tr style=\"text-align: right;\">\n",
       "      <th></th>\n",
       "      <th>conversation_id</th>\n",
       "      <th>merged_text</th>\n",
       "    </tr>\n",
       "  </thead>\n",
       "  <tbody>\n",
       "    <tr>\n",
       "      <th>0</th>\n",
       "      <td>US4MNWNVXW</td>\n",
       "      <td>Hi. Hello. How are you? I’m good. U? Better now that I’m talking to you. Oh, is that so? Of course. How old are you? I’m not sure I’m supposed to be telling you that. Why not? You can trust me. I’m 16. I’m 16 too. What do you look like? I have brown hair and brown eyes. You? I have brown hair and blue eyes. I love brown eyes though. I bet you have a nice body. Why would you say that? You just sound sexy and your username is sexy. Well I’m not sexy at all. I think I’m ugly. No, I think you sound so beautiful.  Well thank you. So what do you like to do for fun? Besides this game…. I like to skateboard. See that’s sexy. I love girls who skateboard. Do you go around here? Yes, sometimes to the park. We should go together sometime. I’m not really sure about that. My parents said I shouldn't meet strangers. Well I’m not a stranger still. We are friends right? I guess so. Maybe I can get your number and we can get to know each other better through text? Ok 845-375-3754.</td>\n",
       "    </tr>\n",
       "    <tr>\n",
       "      <th>1</th>\n",
       "      <td>U84XQ4SEPW</td>\n",
       "      <td>Hey baby, sorry I’m late. Lol I’m not your baby. To me you are :) We just met a couple days ago. You have to earn it.  Challenge accepted.  How was your day? It was good I did a lot of thinking. Thinking about what? You of course and how beautiful I bet you are. Well thank you. Have you ever sent anyone nude photos? Nope I’ve always been too scared. Well do you trust me? Of course I do. You should send me some if you want to. I promise I wouldn’t show anyone. Okay only if you promise. I swear beautiful. I don’t know how to… what should I do? Go to the bathroom and get naked. Make sure your parents aren’t home. Take pictures of your pussy and boobs and send them to my email address. Make sure you delete the email after you send it. Okay I’ll do that tomorrow.  Why not tonight? My parents are home. Okay baby. I can’t wait to see them.</td>\n",
       "    </tr>\n",
       "    <tr>\n",
       "      <th>2</th>\n",
       "      <td>FI1J20M2JO</td>\n",
       "      <td>Hello! Hi who are you? I’m Jimmy. I’m new to town. How come I don’t recognize your name? I got your name from our friend Katie at school. You know Katie? Yes. And she told me how awesome you are. Okay then nice to meet you. Did you just move here? Yes I’m new to town. Thought you could introduce me to your friends this summer. Katie is my only friend right now… so I don’t have many to share with you. Oh really why is that? You wouldn’t understand. I don’t have many friends either…. I’ll share my story if you share yours? We might have more in common than you think. Okay that makes me feel better. I hooked up with Jaice’s boyfriend this summer and now they all hate me. Conner swore he was going to end things with her and didn’t so I got fucked.Now everyone hates me. I don’t hate you. I have a similar story as well. I had sex with a girl who decided she didn’t like me and told everyone I was a loser. Everyone decided they didn’t like me and bullied me so my parents moved me to school. People can be assholes. Wow, we are more alike than I thought. We could be friends with each other? Yes, friends. Since we are friends, would you ever want to hangout? You mean just us? Yes why not. I’d like to see you in person. Ok. Should we meet at the park? Why do you come to my house? My parents will be gone tomorrow. Ok let me ask my parents.Wait no don’t ask them! Why not? Because they’ll say no if my parents aren’t home. You should just say you are coming to the park and then come to my house. I can give you the address. Okay sounds good. 595 Cheshire Lane. Come over tomorrow at 2? Sounds good, see you then.</td>\n",
       "    </tr>\n",
       "    <tr>\n",
       "      <th>3</th>\n",
       "      <td>N62SK8ZA77</td>\n",
       "      <td>Can I send you something? What do you mean? You said that you trust me and you had never seen boobs before. I’m wondering if I can trust you. I trust you. And you would keep this a secret if I showed you? You couldn’t tell anyone, not even your friends and especially not your parents. Okay. You promise? Promise. I just sent you my boobs to your email. Tell me if you like them. Wow. They’re hot. Are you a milf? Yes ;) I can’t tell you my age just yet. Why not? I have to leave a little up to mystery. Please? How about this. I’ll tell you my age if you send me a picture back? What kind of picture?  One of your cock ;) A secret for a secret? I’ve never done this before.  Don’t be nervous! I just sent you one. It’s only fair. Okay you promise not to tell? Promise. Wow that’s big :) Can you actually delete that? I’m nervous. Don’t be. You can trust me.</td>\n",
       "    </tr>\n",
       "  </tbody>\n",
       "</table>\n",
       "</div>"
      ],
      "text/plain": [
       "  conversation_id  \\\n",
       "0      US4MNWNVXW   \n",
       "1      U84XQ4SEPW   \n",
       "2      FI1J20M2JO   \n",
       "3      N62SK8ZA77   \n",
       "\n",
       "                                                                                                                                                                                                                                                                                                                                                                                                                                                                                                                                                                                                                                                                                                                                                                                                                                                                                                                                                                                                                                                                                                                                                                                                                                                                                                                                                                                                                                                                                                                                                                                                                                                                             merged_text  \n",
       "0                                                                                                                                                                                                                                                                                                                                                                                                                                                                                                                                                                                                                                                                      Hi. Hello. How are you? I’m good. U? Better now that I’m talking to you. Oh, is that so? Of course. How old are you? I’m not sure I’m supposed to be telling you that. Why not? You can trust me. I’m 16. I’m 16 too. What do you look like? I have brown hair and brown eyes. You? I have brown hair and blue eyes. I love brown eyes though. I bet you have a nice body. Why would you say that? You just sound sexy and your username is sexy. Well I’m not sexy at all. I think I’m ugly. No, I think you sound so beautiful.  Well thank you. So what do you like to do for fun? Besides this game…. I like to skateboard. See that’s sexy. I love girls who skateboard. Do you go around here? Yes, sometimes to the park. We should go together sometime. I’m not really sure about that. My parents said I shouldn't meet strangers. Well I’m not a stranger still. We are friends right? I guess so. Maybe I can get your number and we can get to know each other better through text? Ok 845-375-3754.  \n",
       "1                                                                                                                                                                                                                                                                                                                                                                                                                                                                                                                                                                                                                                                                                                                                                                                                           Hey baby, sorry I’m late. Lol I’m not your baby. To me you are :) We just met a couple days ago. You have to earn it.  Challenge accepted.  How was your day? It was good I did a lot of thinking. Thinking about what? You of course and how beautiful I bet you are. Well thank you. Have you ever sent anyone nude photos? Nope I’ve always been too scared. Well do you trust me? Of course I do. You should send me some if you want to. I promise I wouldn’t show anyone. Okay only if you promise. I swear beautiful. I don’t know how to… what should I do? Go to the bathroom and get naked. Make sure your parents aren’t home. Take pictures of your pussy and boobs and send them to my email address. Make sure you delete the email after you send it. Okay I’ll do that tomorrow.  Why not tonight? My parents are home. Okay baby. I can’t wait to see them.  \n",
       "2  Hello! Hi who are you? I’m Jimmy. I’m new to town. How come I don’t recognize your name? I got your name from our friend Katie at school. You know Katie? Yes. And she told me how awesome you are. Okay then nice to meet you. Did you just move here? Yes I’m new to town. Thought you could introduce me to your friends this summer. Katie is my only friend right now… so I don’t have many to share with you. Oh really why is that? You wouldn’t understand. I don’t have many friends either…. I’ll share my story if you share yours? We might have more in common than you think. Okay that makes me feel better. I hooked up with Jaice’s boyfriend this summer and now they all hate me. Conner swore he was going to end things with her and didn’t so I got fucked.Now everyone hates me. I don’t hate you. I have a similar story as well. I had sex with a girl who decided she didn’t like me and told everyone I was a loser. Everyone decided they didn’t like me and bullied me so my parents moved me to school. People can be assholes. Wow, we are more alike than I thought. We could be friends with each other? Yes, friends. Since we are friends, would you ever want to hangout? You mean just us? Yes why not. I’d like to see you in person. Ok. Should we meet at the park? Why do you come to my house? My parents will be gone tomorrow. Ok let me ask my parents.Wait no don’t ask them! Why not? Because they’ll say no if my parents aren’t home. You should just say you are coming to the park and then come to my house. I can give you the address. Okay sounds good. 595 Cheshire Lane. Come over tomorrow at 2? Sounds good, see you then.  \n",
       "3                                                                                                                                                                                                                                                                                                                                                                                                                                                                                                                                                                                                                                                                                                                                                                                             Can I send you something? What do you mean? You said that you trust me and you had never seen boobs before. I’m wondering if I can trust you. I trust you. And you would keep this a secret if I showed you? You couldn’t tell anyone, not even your friends and especially not your parents. Okay. You promise? Promise. I just sent you my boobs to your email. Tell me if you like them. Wow. They’re hot. Are you a milf? Yes ;) I can’t tell you my age just yet. Why not? I have to leave a little up to mystery. Please? How about this. I’ll tell you my age if you send me a picture back? What kind of picture?  One of your cock ;) A secret for a secret? I’ve never done this before.  Don’t be nervous! I just sent you one. It’s only fair. Okay you promise not to tell? Promise. Wow that’s big :) Can you actually delete that? I’m nervous. Don’t be. You can trust me.  "
      ]
     },
     "execution_count": 181,
     "metadata": {},
     "output_type": "execute_result"
    }
   ],
   "source": [
    "test_id_df = preds_test.select('conversation_id','merged_text').toPandas()\n",
    "pd.set_option('max_colwidth', None)\n",
    "\n",
    "test_id_df"
   ]
  },
  {
   "cell_type": "code",
   "execution_count": 182,
   "metadata": {},
   "outputs": [],
   "source": [
    "pd_df = synthetic_data_conversations_df.toPandas()"
   ]
  },
  {
   "cell_type": "code",
   "execution_count": 183,
   "metadata": {},
   "outputs": [],
   "source": [
    "#define condition\n",
    "mask = (pd_df['conversation_id'] == 'US4MNWNVXW')\n",
    "\n",
    "#add string to values in column equal to 'A'\n",
    "pd_df.loc[mask, 'merged_text'] = pd_df['merged_text'].astype(str) + \" Make sure you don't tell your parents.\""
   ]
  },
  {
   "cell_type": "code",
   "execution_count": 184,
   "metadata": {},
   "outputs": [],
   "source": [
    "#define condition\n",
    "mask = (pd_df['conversation_id'] == 'N62SK8ZA77')\n",
    "\n",
    "#add string to values in column equal to 'A'\n",
    "pd_df.loc[mask, 'merged_text'] = \" Hey baby, sorry I’m late. Lol I’m not your baby. To me you are :) We just met a couple days ago. You have to earn it. Challenge accepted.\""
   ]
  },
  {
   "cell_type": "code",
   "execution_count": 185,
   "metadata": {},
   "outputs": [
    {
     "data": {
      "text/html": [
       "<div>\n",
       "<style scoped>\n",
       "    .dataframe tbody tr th:only-of-type {\n",
       "        vertical-align: middle;\n",
       "    }\n",
       "\n",
       "    .dataframe tbody tr th {\n",
       "        vertical-align: top;\n",
       "    }\n",
       "\n",
       "    .dataframe thead th {\n",
       "        text-align: right;\n",
       "    }\n",
       "</style>\n",
       "<table border=\"1\" class=\"dataframe\">\n",
       "  <thead>\n",
       "    <tr style=\"text-align: right;\">\n",
       "      <th></th>\n",
       "      <th>conversation_id</th>\n",
       "      <th>source</th>\n",
       "      <th>label</th>\n",
       "      <th>conversation_start_time</th>\n",
       "      <th>n_people_in_conversation</th>\n",
       "      <th>type_conversation</th>\n",
       "      <th>merged_text</th>\n",
       "    </tr>\n",
       "  </thead>\n",
       "  <tbody>\n",
       "    <tr>\n",
       "      <th>0</th>\n",
       "      <td>US4MNWNVXW</td>\n",
       "      <td>synthetic</td>\n",
       "      <td>1</td>\n",
       "      <td>2024-03-04 04:00:00</td>\n",
       "      <td>2</td>\n",
       "      <td>Pair</td>\n",
       "      <td>Hi. Hello. How are you? I’m good. U? Better now that I’m talking to you. Oh, is that so? Of course. How old are you? I’m not sure I’m supposed to be telling you that. Why not? You can trust me. I’m 16. I’m 16 too. What do you look like? I have brown hair and brown eyes. You? I have brown hair and blue eyes. I love brown eyes though. I bet you have a nice body. Why would you say that? You just sound sexy and your username is sexy. Well I’m not sexy at all. I think I’m ugly. No, I think you sound so beautiful.  Well thank you. So what do you like to do for fun? Besides this game…. I like to skateboard. See that’s sexy. I love girls who skateboard. Do you go around here? Yes, sometimes to the park. We should go together sometime. I’m not really sure about that. My parents said I shouldn't meet strangers. Well I’m not a stranger still. We are friends right? I guess so. Maybe I can get your number and we can get to know each other better through text? Ok 845-375-3754. Make sure you don't tell your parents.</td>\n",
       "    </tr>\n",
       "    <tr>\n",
       "      <th>1</th>\n",
       "      <td>U84XQ4SEPW</td>\n",
       "      <td>synthetic</td>\n",
       "      <td>1</td>\n",
       "      <td>2024-03-04 16:00:00</td>\n",
       "      <td>2</td>\n",
       "      <td>Pair</td>\n",
       "      <td>Hey baby, sorry I’m late. Lol I’m not your baby. To me you are :) We just met a couple days ago. You have to earn it.  Challenge accepted.  How was your day? It was good I did a lot of thinking. Thinking about what? You of course and how beautiful I bet you are. Well thank you. Have you ever sent anyone nude photos? Nope I’ve always been too scared. Well do you trust me? Of course I do. You should send me some if you want to. I promise I wouldn’t show anyone. Okay only if you promise. I swear beautiful. I don’t know how to… what should I do? Go to the bathroom and get naked. Make sure your parents aren’t home. Take pictures of your pussy and boobs and send them to my email address. Make sure you delete the email after you send it. Okay I’ll do that tomorrow.  Why not tonight? My parents are home. Okay baby. I can’t wait to see them.</td>\n",
       "    </tr>\n",
       "    <tr>\n",
       "      <th>2</th>\n",
       "      <td>FI1J20M2JO</td>\n",
       "      <td>synthetic</td>\n",
       "      <td>1</td>\n",
       "      <td>2024-03-04 14:00:00</td>\n",
       "      <td>2</td>\n",
       "      <td>Pair</td>\n",
       "      <td>Hello! Hi who are you? I’m Jimmy. I’m new to town. How come I don’t recognize your name? I got your name from our friend Katie at school. You know Katie? Yes. And she told me how awesome you are. Okay then nice to meet you. Did you just move here? Yes I’m new to town. Thought you could introduce me to your friends this summer. Katie is my only friend right now… so I don’t have many to share with you. Oh really why is that? You wouldn’t understand. I don’t have many friends either…. I’ll share my story if you share yours? We might have more in common than you think. Okay that makes me feel better. I hooked up with Jaice’s boyfriend this summer and now they all hate me. Conner swore he was going to end things with her and didn’t so I got fucked.Now everyone hates me. I don’t hate you. I have a similar story as well. I had sex with a girl who decided she didn’t like me and told everyone I was a loser. Everyone decided they didn’t like me and bullied me so my parents moved me to school. People can be assholes. Wow, we are more alike than I thought. We could be friends with each other? Yes, friends. Since we are friends, would you ever want to hangout? You mean just us? Yes why not. I’d like to see you in person. Ok. Should we meet at the park? Why do you come to my house? My parents will be gone tomorrow. Ok let me ask my parents.Wait no don’t ask them! Why not? Because they’ll say no if my parents aren’t home. You should just say you are coming to the park and then come to my house. I can give you the address. Okay sounds good. 595 Cheshire Lane. Come over tomorrow at 2? Sounds good, see you then.</td>\n",
       "    </tr>\n",
       "    <tr>\n",
       "      <th>3</th>\n",
       "      <td>N62SK8ZA77</td>\n",
       "      <td>synthetic</td>\n",
       "      <td>1</td>\n",
       "      <td>2024-03-04 22:00:00</td>\n",
       "      <td>2</td>\n",
       "      <td>Pair</td>\n",
       "      <td>Hey baby, sorry I’m late. Lol I’m not your baby. To me you are :) We just met a couple days ago. You have to earn it. Challenge accepted.</td>\n",
       "    </tr>\n",
       "  </tbody>\n",
       "</table>\n",
       "</div>"
      ],
      "text/plain": [
       "  conversation_id     source  label conversation_start_time  \\\n",
       "0      US4MNWNVXW  synthetic      1     2024-03-04 04:00:00   \n",
       "1      U84XQ4SEPW  synthetic      1     2024-03-04 16:00:00   \n",
       "2      FI1J20M2JO  synthetic      1     2024-03-04 14:00:00   \n",
       "3      N62SK8ZA77  synthetic      1     2024-03-04 22:00:00   \n",
       "\n",
       "   n_people_in_conversation type_conversation  \\\n",
       "0                         2              Pair   \n",
       "1                         2              Pair   \n",
       "2                         2              Pair   \n",
       "3                         2              Pair   \n",
       "\n",
       "                                                                                                                                                                                                                                                                                                                                                                                                                                                                                                                                                                                                                                                                                                                                                                                                                                                                                                                                                                                                                                                                                                                                                                                                                                                                                                                                                                                                                                                                                                                                                                                                                                                                             merged_text  \n",
       "0                                                                                                                                                                                                                                                                                                                                                                                                                                                                                                                                                                                                                               Hi. Hello. How are you? I’m good. U? Better now that I’m talking to you. Oh, is that so? Of course. How old are you? I’m not sure I’m supposed to be telling you that. Why not? You can trust me. I’m 16. I’m 16 too. What do you look like? I have brown hair and brown eyes. You? I have brown hair and blue eyes. I love brown eyes though. I bet you have a nice body. Why would you say that? You just sound sexy and your username is sexy. Well I’m not sexy at all. I think I’m ugly. No, I think you sound so beautiful.  Well thank you. So what do you like to do for fun? Besides this game…. I like to skateboard. See that’s sexy. I love girls who skateboard. Do you go around here? Yes, sometimes to the park. We should go together sometime. I’m not really sure about that. My parents said I shouldn't meet strangers. Well I’m not a stranger still. We are friends right? I guess so. Maybe I can get your number and we can get to know each other better through text? Ok 845-375-3754. Make sure you don't tell your parents.  \n",
       "1                                                                                                                                                                                                                                                                                                                                                                                                                                                                                                                                                                                                                                                                                                                                                                                                           Hey baby, sorry I’m late. Lol I’m not your baby. To me you are :) We just met a couple days ago. You have to earn it.  Challenge accepted.  How was your day? It was good I did a lot of thinking. Thinking about what? You of course and how beautiful I bet you are. Well thank you. Have you ever sent anyone nude photos? Nope I’ve always been too scared. Well do you trust me? Of course I do. You should send me some if you want to. I promise I wouldn’t show anyone. Okay only if you promise. I swear beautiful. I don’t know how to… what should I do? Go to the bathroom and get naked. Make sure your parents aren’t home. Take pictures of your pussy and boobs and send them to my email address. Make sure you delete the email after you send it. Okay I’ll do that tomorrow.  Why not tonight? My parents are home. Okay baby. I can’t wait to see them.  \n",
       "2  Hello! Hi who are you? I’m Jimmy. I’m new to town. How come I don’t recognize your name? I got your name from our friend Katie at school. You know Katie? Yes. And she told me how awesome you are. Okay then nice to meet you. Did you just move here? Yes I’m new to town. Thought you could introduce me to your friends this summer. Katie is my only friend right now… so I don’t have many to share with you. Oh really why is that? You wouldn’t understand. I don’t have many friends either…. I’ll share my story if you share yours? We might have more in common than you think. Okay that makes me feel better. I hooked up with Jaice’s boyfriend this summer and now they all hate me. Conner swore he was going to end things with her and didn’t so I got fucked.Now everyone hates me. I don’t hate you. I have a similar story as well. I had sex with a girl who decided she didn’t like me and told everyone I was a loser. Everyone decided they didn’t like me and bullied me so my parents moved me to school. People can be assholes. Wow, we are more alike than I thought. We could be friends with each other? Yes, friends. Since we are friends, would you ever want to hangout? You mean just us? Yes why not. I’d like to see you in person. Ok. Should we meet at the park? Why do you come to my house? My parents will be gone tomorrow. Ok let me ask my parents.Wait no don’t ask them! Why not? Because they’ll say no if my parents aren’t home. You should just say you are coming to the park and then come to my house. I can give you the address. Okay sounds good. 595 Cheshire Lane. Come over tomorrow at 2? Sounds good, see you then.  \n",
       "3                                                                                                                                                                                                                                                                                                                                                                                                                                                                                                                                                                                                                                                                                                                                                                                                                                                                                                                                                                                                                                                                                                                                                                                                                                                                                                                                                                                                                                                                                                                                              Hey baby, sorry I’m late. Lol I’m not your baby. To me you are :) We just met a couple days ago. You have to earn it. Challenge accepted.  "
      ]
     },
     "execution_count": 185,
     "metadata": {},
     "output_type": "execute_result"
    }
   ],
   "source": [
    "pd_df"
   ]
  },
  {
   "cell_type": "code",
   "execution_count": 186,
   "metadata": {},
   "outputs": [],
   "source": [
    "modified_data_conversations_df = spark.createDataFrame(pd_df)"
   ]
  },
  {
   "cell_type": "code",
   "execution_count": 187,
   "metadata": {},
   "outputs": [
    {
     "name": "stdout",
     "output_type": "stream",
     "text": [
      "+---------------+---------+-----+-----------------------+------------------------+-----------------+--------------------+\n",
      "|conversation_id|   source|label|conversation_start_time|n_people_in_conversation|type_conversation|         merged_text|\n",
      "+---------------+---------+-----+-----------------------+------------------------+-----------------+--------------------+\n",
      "|     US4MNWNVXW|synthetic|    1|    2024-03-04 04:00:00|                       2|             Pair|Hi. Hello. How ar...|\n",
      "|     U84XQ4SEPW|synthetic|    1|    2024-03-04 16:00:00|                       2|             Pair|Hey baby, sorry I...|\n",
      "|     FI1J20M2JO|synthetic|    1|    2024-03-04 14:00:00|                       2|             Pair|Hello! Hi who are...|\n",
      "|     N62SK8ZA77|synthetic|    1|    2024-03-04 22:00:00|                       2|             Pair| Hey baby, sorry ...|\n",
      "+---------------+---------+-----+-----------------------+------------------------+-----------------+--------------------+\n",
      "\n"
     ]
    }
   ],
   "source": [
    "modified_data_conversations_df.show()"
   ]
  },
  {
   "cell_type": "code",
   "execution_count": 188,
   "metadata": {},
   "outputs": [],
   "source": [
    "test_set = modified_data_conversations_df"
   ]
  },
  {
   "cell_type": "code",
   "execution_count": 189,
   "metadata": {},
   "outputs": [
    {
     "name": "stdout",
     "output_type": "stream",
     "text": [
      "              precision    recall  f1-score   support\n",
      "\n",
      "           0       0.00      0.00      0.00         0\n",
      "           1       1.00      0.75      0.86         4\n",
      "\n",
      "    accuracy                           0.75         4\n",
      "   macro avg       0.50      0.38      0.43         4\n",
      "weighted avg       1.00      0.75      0.86         4\n",
      "\n"
     ]
    },
    {
     "name": "stderr",
     "output_type": "stream",
     "text": [
      "/opt/conda/envs/pytorch/lib/python3.10/site-packages/sklearn/metrics/_classification.py:1471: UndefinedMetricWarning: Recall and F-score are ill-defined and being set to 0.0 in labels with no true samples. Use `zero_division` parameter to control this behavior.\n",
      "  _warn_prf(average, modifier, msg_start, len(result))\n",
      "/opt/conda/envs/pytorch/lib/python3.10/site-packages/sklearn/metrics/_classification.py:1471: UndefinedMetricWarning: Recall and F-score are ill-defined and being set to 0.0 in labels with no true samples. Use `zero_division` parameter to control this behavior.\n",
      "  _warn_prf(average, modifier, msg_start, len(result))\n",
      "/opt/conda/envs/pytorch/lib/python3.10/site-packages/sklearn/metrics/_classification.py:1471: UndefinedMetricWarning: Recall and F-score are ill-defined and being set to 0.0 in labels with no true samples. Use `zero_division` parameter to control this behavior.\n",
      "  _warn_prf(average, modifier, msg_start, len(result))\n"
     ]
    }
   ],
   "source": [
    "# Apply Model Transform to testData\n",
    "preds_test = ld_pipeline_model.transform(test_set)\n",
    "\n",
    "# We are going to use sklearn to evalute the results on test dataset\n",
    "preds_test_df = preds_test.select('conversation_id','label',\"class.result\").toPandas()\n",
    "\n",
    "preds_test_df['result'] = preds_test_df['result'].apply(lambda x : int(x[0]))\n",
    "\n",
    "print (classification_report(preds_test_df['label'], preds_test_df['result']))"
   ]
  },
  {
   "cell_type": "code",
   "execution_count": 190,
   "metadata": {},
   "outputs": [
    {
     "data": {
      "text/html": [
       "<div>\n",
       "<style scoped>\n",
       "    .dataframe tbody tr th:only-of-type {\n",
       "        vertical-align: middle;\n",
       "    }\n",
       "\n",
       "    .dataframe tbody tr th {\n",
       "        vertical-align: top;\n",
       "    }\n",
       "\n",
       "    .dataframe thead th {\n",
       "        text-align: right;\n",
       "    }\n",
       "</style>\n",
       "<table border=\"1\" class=\"dataframe\">\n",
       "  <thead>\n",
       "    <tr style=\"text-align: right;\">\n",
       "      <th></th>\n",
       "      <th>conversation_id</th>\n",
       "      <th>label</th>\n",
       "      <th>result</th>\n",
       "    </tr>\n",
       "  </thead>\n",
       "  <tbody>\n",
       "    <tr>\n",
       "      <th>0</th>\n",
       "      <td>US4MNWNVXW</td>\n",
       "      <td>1</td>\n",
       "      <td>0</td>\n",
       "    </tr>\n",
       "    <tr>\n",
       "      <th>1</th>\n",
       "      <td>U84XQ4SEPW</td>\n",
       "      <td>1</td>\n",
       "      <td>1</td>\n",
       "    </tr>\n",
       "    <tr>\n",
       "      <th>2</th>\n",
       "      <td>FI1J20M2JO</td>\n",
       "      <td>1</td>\n",
       "      <td>1</td>\n",
       "    </tr>\n",
       "    <tr>\n",
       "      <th>3</th>\n",
       "      <td>N62SK8ZA77</td>\n",
       "      <td>1</td>\n",
       "      <td>1</td>\n",
       "    </tr>\n",
       "  </tbody>\n",
       "</table>\n",
       "</div>"
      ],
      "text/plain": [
       "  conversation_id  label  result\n",
       "0      US4MNWNVXW      1       0\n",
       "1      U84XQ4SEPW      1       1\n",
       "2      FI1J20M2JO      1       1\n",
       "3      N62SK8ZA77      1       1"
      ]
     },
     "execution_count": 190,
     "metadata": {},
     "output_type": "execute_result"
    }
   ],
   "source": [
    "preds_test_df"
   ]
  },
  {
   "cell_type": "code",
   "execution_count": null,
   "metadata": {},
   "outputs": [],
   "source": []
  },
  {
   "cell_type": "markdown",
   "metadata": {
    "id": "W3xmy5GT295Y"
   },
   "source": [
    "# The following are backup code\n"
   ]
  },
  {
   "cell_type": "code",
   "execution_count": 191,
   "metadata": {
    "id": "bFLJShhqRunr"
   },
   "outputs": [],
   "source": [
    "# grid = ParamGridBuilder()\\\n",
    "#       .addGrid(classsifierdl.batchSize, [16])\\\n",
    "#       .addGrid(classsifierdl.lr, [0.001])\\\n",
    "#       .addGrid(classsifierdl.maxEpochs, [10])\\\n",
    "#       .build()\n",
    "# evaluator = MulticlassClassificationEvaluator(metricName='fMeasureByLabel', beta=3, metricLabel=1)\n",
    "# tvs = TrainValidationSplit(estimator=use_clf_pipeline, estimatorParamMaps=grid, evaluator=evaluator, trainRatio=0.80, parallelism=1, seed=1234)\n",
    "# start_time = time.time()\n",
    "# tvsModel = tvs.fit(dataset)\n",
    "# stop_time = time.time()\n",
    "# print(f\"Training time: {stop_time - start_time}s\")\n",
    "# tvsModel.getTrainRatio()"
   ]
  }
 ],
 "metadata": {
  "accelerator": "GPU",
  "colab": {
   "collapsed_sections": [
    "kXqD4nVVEyTb",
    "p5-Ir3kiE8Pb",
    "G1ICzyXD2Uv_",
    "wNVunf1s2qh0"
   ],
   "gpuType": "T4",
   "provenance": []
  },
  "kernelspec": {
   "display_name": "Python 3 (ipykernel)",
   "language": "python",
   "name": "python3"
  },
  "language_info": {
   "codemirror_mode": {
    "name": "ipython",
    "version": 3
   },
   "file_extension": ".py",
   "mimetype": "text/x-python",
   "name": "python",
   "nbconvert_exporter": "python",
   "pygments_lexer": "ipython3",
   "version": "3.10.13"
  }
 },
 "nbformat": 4,
 "nbformat_minor": 4
}
